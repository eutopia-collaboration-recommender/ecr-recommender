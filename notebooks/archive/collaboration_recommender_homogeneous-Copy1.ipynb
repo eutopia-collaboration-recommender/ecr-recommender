{
 "cells": [
  {
   "cell_type": "markdown",
   "id": "zYPnKxIhFGVJ",
   "metadata": {
    "id": "zYPnKxIhFGVJ"
   },
   "source": [
    "# Collaboration recommender system 1.0 (Homogeneous)"
   ]
  },
  {
   "cell_type": "markdown",
   "id": "x7McZwR_FRta",
   "metadata": {
    "id": "x7McZwR_FRta"
   },
   "source": [
    "## **Setting up environment**\n",
    "\n",
    "---\n",
    "\n"
   ]
  },
  {
   "cell_type": "markdown",
   "id": "jX5i4Qjs7MIl",
   "metadata": {
    "id": "jX5i4Qjs7MIl"
   },
   "source": [
    "### **Package installation**\n",
    "\n",
    "Installing `torch` and `torch_geometric` libraries."
   ]
  },
  {
   "cell_type": "code",
   "execution_count": 1,
   "id": "t4n7jKW9uiQE",
   "metadata": {
    "ExecuteTime": {
     "end_time": "2024-12-13T14:58:53.571300Z",
     "start_time": "2024-12-13T14:58:53.561285Z"
    },
    "colab": {
     "base_uri": "https://localhost:8080/"
    },
    "id": "t4n7jKW9uiQE",
    "outputId": "3af05ccb-b9eb-4cbf-85cf-f39905313fe5"
   },
   "outputs": [
    {
     "name": "stdout",
     "output_type": "stream",
     "text": [
      "2.4.0+cpu\n"
     ]
    }
   ],
   "source": [
    "import torch\n",
    "import os\n",
    "import sys\n",
    "os.environ['TORCH'] = torch.__version__\n",
    "print(torch.__version__)"
   ]
  },
  {
   "cell_type": "markdown",
   "id": "cD8tnTfC60X2",
   "metadata": {
    "id": "cD8tnTfC60X2"
   },
   "source": [
    "### **Loading libraries**"
   ]
  },
  {
   "cell_type": "code",
   "execution_count": 10,
   "id": "5okfWmvKEI3Z",
   "metadata": {
    "ExecuteTime": {
     "end_time": "2024-12-13T17:47:50.264742Z",
     "start_time": "2024-12-13T17:47:50.256254Z"
    },
    "id": "5okfWmvKEI3Z"
   },
   "outputs": [],
   "source": [
    "sys.path.insert(0, os.path.abspath(\"../..\"))\n",
    "\n",
    "# PyTorch imports\n",
    "from torch import Tensor\n",
    "import torch.nn.functional as F\n",
    "from torch.nn import ModuleList\n",
    "\n",
    "# PyTorch Geometric imports\n",
    "import torch_geometric\n",
    "import torch_geometric.transforms as T\n",
    "from torch_geometric.loader import LinkNeighborLoader, NeighborLoader\n",
    "from torch_geometric.nn import GCNConv, GATv2Conv\n",
    "from torch_geometric.nn.models.lightgcn import BPRLoss\n",
    "from torch_geometric.data import Data\n",
    "from torch_geometric.utils import structured_negative_sampling\n",
    "from torch_geometric.metrics import (\n",
    "    LinkPredPrecision,\n",
    "    LinkPredRecall,\n",
    "    LinkPredMAP,\n",
    "    LinkPredMRR,\n",
    "    LinkPredNDCG\n",
    ")\n",
    "from torch_geometric.typing import Adj, OptTensor\n",
    "from typing import Optional\n",
    "from torch.optim import Optimizer\n",
    "from torch.optim.lr_scheduler import LRScheduler\n",
    "\n",
    "# Other imports\n",
    "import numpy as np\n",
    "import matplotlib.pyplot as plt\n",
    "from sklearn.preprocessing import StandardScaler\n",
    "from box import Box\n",
    "from util.postgres import create_connection, query, create_sqlalchemy_engine\n",
    "from util.homogeneous.dataset import DatasetEuCoHM\n",
    "from util.homogeneous.model import evaluate, ModelEuCoHM, test, train"
   ]
  },
  {
   "cell_type": "code",
   "execution_count": 3,
   "id": "X6kGtZ7RD7Y9",
   "metadata": {
    "ExecuteTime": {
     "end_time": "2024-12-13T17:47:51.631643Z",
     "start_time": "2024-12-13T17:47:51.619602Z"
    },
    "colab": {
     "base_uri": "https://localhost:8080/"
    },
    "id": "X6kGtZ7RD7Y9",
    "outputId": "9b2dc01e-86a8-46a8-8583-569d01152272"
   },
   "outputs": [
    {
     "name": "stdout",
     "output_type": "stream",
     "text": [
      "2.4.0+cpu\n",
      "2.7.0\n",
      "Device: 'cpu'\n"
     ]
    }
   ],
   "source": [
    "device = 'cpu'\n",
    "\n",
    "print(torch.__version__)\n",
    "print(torch_geometric.__version__)\n",
    "print(f\"Device: '{device}'\")"
   ]
  },
  {
   "cell_type": "markdown",
   "id": "bQ_xqBiFn97Q",
   "metadata": {
    "id": "bQ_xqBiFn97Q"
   },
   "source": [
    "### **Global variables**"
   ]
  },
  {
   "cell_type": "code",
   "execution_count": 4,
   "id": "9r1K6ezsn97Q",
   "metadata": {
    "ExecuteTime": {
     "end_time": "2024-12-13T21:23:20.128019Z",
     "start_time": "2024-12-13T21:23:20.037264Z"
    },
    "id": "9r1K6ezsn97Q"
   },
   "outputs": [],
   "source": [
    "# Read settings from config file\n",
    "config: Box = Box.from_yaml(filename=\"../../config.yaml\")\n",
    "\n",
    "\n",
    "# Model configuration\n",
    "model_config: dict = dict(\n",
    "    num_recommendations=config.MODEL.HOMOGENEOUS.NUM_RECOMMENDATIONS,\n",
    "    num_train=config.MODEL.HOMOGENEOUS.NUM_TRAIN,\n",
    "    learning_rate=config.MODEL.HOMOGENEOUS.LEARNING_RATE,\n",
    "    num_epochs=config.MODEL.HOMOGENEOUS.NUM_EPOCHS,\n",
    "    hidden_channels=config.MODEL.HOMOGENEOUS.HIDDEN_CHANNELS\n",
    ")\n",
    "# Connect to Postgres\n",
    "engine = create_sqlalchemy_engine(\n",
    "    username=config.POSTGRES.USERNAME,\n",
    "    password=config.POSTGRES.PASSWORD,\n",
    "    host=config.POSTGRES.HOST,\n",
    "    port=config.POSTGRES.PORT,\n",
    "    database=config.POSTGRES.DATABASE,\n",
    "    schema=config.POSTGRES.SCHEMA\n",
    ")"
   ]
  },
  {
   "cell_type": "markdown",
   "id": "ISUVX4hvFMKM",
   "metadata": {
    "id": "ISUVX4hvFMKM"
   },
   "source": [
    "## **Data preparation**\n",
    "\n",
    "---\n",
    "\n"
   ]
  },
  {
   "cell_type": "code",
   "execution_count": 5,
   "id": "95738764-6401-4fd2-adb2-095f48b06644",
   "metadata": {},
   "outputs": [
    {
     "name": "stdout",
     "output_type": "stream",
     "text": [
      "Querying co-authorship edge data...\n",
      "Querying author nodes...\n"
     ]
    },
    {
     "name": "stderr",
     "output_type": "stream",
     "text": [
      "/home/eucollab/eutopia-colllaboration/ecr-recommender/util/homogeneous/dataset.py:192: UserWarning: Creating a tensor from a list of numpy.ndarrays is extremely slow. Please consider converting the list to a single numpy.ndarray with numpy.array() before converting to a tensor. (Triggered internally at ../torch/csrc/utils/tensor_new.cpp:278.)\n",
      "  embedding_tensor_author = torch.tensor(embedding_tensor_author, dtype=torch.float)\n"
     ]
    }
   ],
   "source": [
    "# Build the homogeneous graph\n",
    "data: Data\n",
    "author_node_id_map: dict\n",
    "author_id_map: dict\n",
    "dataset: DatasetEuCoHM = DatasetEuCoHM(pg_engine=engine)\n",
    "data, author_node_id_map, author_id_map = dataset.build_homogeneous_graph()\n"
   ]
  },
  {
   "cell_type": "code",
   "execution_count": 6,
   "id": "3b608e9d-243a-46aa-a261-7ae3464093db",
   "metadata": {},
   "outputs": [
    {
     "data": {
      "text/plain": [
       "Data(node_id=[68265], edge_index=[2, 28210], edge_attr=[28210, 1], edge_time=[28210], x=[68265, 769], num_features=769, num_nodes=68265, train_pos_edge_index=[2, 22568], test_pos_edge_index=[2, 5642], test_neg_edge_index=[2, 5642])"
      ]
     },
     "execution_count": 6,
     "metadata": {},
     "output_type": "execute_result"
    }
   ],
   "source": [
    "data"
   ]
  },
  {
   "cell_type": "markdown",
   "id": "04vUews17zy8",
   "metadata": {
    "id": "04vUews17zy8"
   },
   "source": [
    "## Model training\n",
    "\n",
    "\n",
    "---\n",
    "\n"
   ]
  },
  {
   "cell_type": "markdown",
   "id": "IMCtMQz00wC_",
   "metadata": {
    "id": "IMCtMQz00wC_"
   },
   "source": [
    "### Model definition"
   ]
  },
  {
   "cell_type": "code",
   "execution_count": 7,
   "id": "TJaBxQX_7_3D",
   "metadata": {
    "ExecuteTime": {
     "end_time": "2024-12-13T21:28:22.411435Z",
     "start_time": "2024-12-13T21:28:22.248727Z"
    },
    "id": "TJaBxQX_7_3D"
   },
   "outputs": [],
   "source": [
    "class ModelEuCoHM(torch.nn.Module):\n",
    "    def __init__(self,\n",
    "                 input_channels: int,\n",
    "                 hidden_channels: int,\n",
    "                 k: int,\n",
    "                 author_node_id_map: dict,\n",
    "                 author_id_map: dict):\n",
    "        super().__init__()\n",
    "\n",
    "        \n",
    "        self.num_layers = 4\n",
    "        self.hidden_channels = hidden_channels\n",
    "        self.k = k\n",
    "\n",
    "        # Set mapper to contiguous ids\n",
    "        self.author_node_id_map: dict = author_node_id_map\n",
    "        self.author_id_map: dict = author_id_map\n",
    "\n",
    "        # Initialize the convolutional layers\n",
    "        self.conv_layers = ModuleList([\n",
    "            GATv2Conv(in_channels=input_channels if ix == 0 else hidden_channels, \n",
    "                      out_channels=hidden_channels, \n",
    "                      add_self_loops=True,\n",
    "                      negative_slope=0.2)\n",
    "            for ix in range(self.num_layers)\n",
    "        ])\n",
    "\n",
    "        # Initialize batch norm layers\n",
    "        self.bn_layers = ModuleList([\n",
    "            torch.nn.BatchNorm1d(hidden_channels)\n",
    "            for ix in range(self.num_layers)\n",
    "        ])\n",
    "\n",
    "        # Calculate the number of layers\n",
    "        self.num_layers = len(self.conv_layers)\n",
    "        # Initialize the alpha\n",
    "        alpha = 1. / (self.num_layers + 1)\n",
    "        alpha = torch.tensor([alpha] * (self.num_layers + 1))\n",
    "        self.register_buffer('alpha', alpha)\n",
    "\n",
    "        # Initialize the parameters\n",
    "        self.reset_parameters()\n",
    "\n",
    "    def reset_parameters(self):\n",
    "        # Initialize the convolutional layers\n",
    "        for conv in self.conv_layers:\n",
    "            conv.reset_parameters()\n",
    "\n",
    "    def get_embedding(self,\n",
    "                      x: Tensor,\n",
    "                      edge_index: Adj) -> Tensor:\n",
    "        # Activate first layer, since it is not of the same size as the target embedding\n",
    "        x = self.conv_layers[0](x, edge_index)\n",
    "        x = self.bn_layers[0](x)\n",
    "\n",
    "        out = x * self.alpha[0]\n",
    "\n",
    "        # Activate all other layers\n",
    "        for i in range(1, self.num_layers):\n",
    "            x = self.conv_layers[i](x, edge_index)\n",
    "            x = self.bn_layers[i](x)\n",
    "            out = out + x * self.alpha[i + 1]\n",
    "\n",
    "        return out\n",
    "\n",
    "    def recommend(self,\n",
    "                  x: Tensor,\n",
    "                  edge_index: Adj,\n",
    "                  author_id: str,\n",
    "                  k: int = 10) -> list:\n",
    "\n",
    "        # Get all embeddings\n",
    "        out_src = out_dst = self.get_embedding(x, edge_index)\n",
    "\n",
    "        # Get the author id\n",
    "        author_id = self.author_node_id_map[author_id]\n",
    "        # Get the author embedding\n",
    "        out_src = out_src[author_id]\n",
    "\n",
    "        # Calculate the dot product\n",
    "        pred = out_src @ out_dst.t()\n",
    "        # Get the top k recommendations\n",
    "        top_index = pred.topk(k, dim=-1, sorted=True).indices\n",
    "\n",
    "        # Decode top k recommendations to author SIDs\n",
    "        top_author_ids = [self.author_id_map[int(i)] for i in top_index]\n",
    "\n",
    "        return top_author_ids\n",
    "\n",
    "    def forward(self,\n",
    "                x: Tensor,\n",
    "                edge_index: Adj,\n",
    "                edge_label_index: OptTensor = None) -> Tensor:\n",
    "        # Get the embedding\n",
    "        out = self.get_embedding(x, edge_index)\n",
    "\n",
    "        out_src = out[edge_label_index[0]]\n",
    "        out_dst = out[edge_label_index[1]]\n",
    "\n",
    "        # Calculate the dot product\n",
    "        return (out_src * out_dst).sum(dim=-1)\n",
    "\n",
    "    def recommendation_loss(self,\n",
    "                            x: Tensor,\n",
    "                            edge_index: Adj,\n",
    "                            pos_edge_rank: Tensor,\n",
    "                            neg_edge_rank: Tensor,\n",
    "                            node_id: Optional[Tensor] = None,\n",
    "                            lambda_reg: float = 1e-4) -> Tensor:\n",
    "        loss_fn = BPRLoss(lambda_reg)\n",
    "        # Get the embedding\n",
    "        emb = self.get_embedding(x=x, edge_index=edge_index)\n",
    "        emb = emb if node_id is None else emb[node_id]\n",
    "        return loss_fn(pos_edge_rank, neg_edge_rank, emb)\n"
   ]
  },
  {
   "cell_type": "markdown",
   "id": "9XkKmZJC06IZ",
   "metadata": {
    "id": "9XkKmZJC06IZ"
   },
   "source": [
    "### Training"
   ]
  },
  {
   "cell_type": "code",
   "execution_count": 11,
   "id": "379e5e3ea82af758",
   "metadata": {
    "ExecuteTime": {
     "end_time": "2024-12-13T21:30:55.180060Z",
     "start_time": "2024-12-13T21:30:52.430863Z"
    }
   },
   "outputs": [
    {
     "name": "stdout",
     "output_type": "stream",
     "text": [
      "epoch: 1.0000, train_loss_bpr: 0.0279, test_loss_bpr: 0.1167, precision@k: 0.0733, recall@k: 0.1073, map@k: 0.0669, mrr@k: 0.1030, ndcg@k: 0.0983, hit_rate@k: 0.2305\n",
      "epoch: 2.0000, train_loss_bpr: 0.0112, test_loss_bpr: 0.0893, precision@k: 0.0683, recall@k: 0.1071, map@k: 0.0562, mrr@k: 0.0848, ndcg@k: 0.0877, hit_rate@k: 0.2381\n",
      "epoch: 3.0000, train_loss_bpr: 0.0095, test_loss_bpr: 0.0731, precision@k: 0.0729, recall@k: 0.1105, map@k: 0.0724, mrr@k: 0.1061, ndcg@k: 0.1020, hit_rate@k: 0.2347\n",
      "epoch: 4.0000, train_loss_bpr: 0.0078, test_loss_bpr: 0.0641, precision@k: 0.0697, recall@k: 0.1023, map@k: 0.0736, mrr@k: 0.1109, ndcg@k: 0.1003, hit_rate@k: 0.2313\n",
      "epoch: 5.0000, train_loss_bpr: 0.0062, test_loss_bpr: 0.0580, precision@k: 0.0738, recall@k: 0.1172, map@k: 0.0796, mrr@k: 0.1212, ndcg@k: 0.1096, hit_rate@k: 0.2590\n",
      "epoch: 6.0000, train_loss_bpr: 0.0070, test_loss_bpr: 0.0543, precision@k: 0.0781, recall@k: 0.1277, map@k: 0.0904, mrr@k: 0.1361, ndcg@k: 0.1213, hit_rate@k: 0.2582\n",
      "epoch: 7.0000, train_loss_bpr: 0.0061, test_loss_bpr: 0.0532, precision@k: 0.0779, recall@k: 0.1329, map@k: 0.0967, mrr@k: 0.1510, ndcg@k: 0.1280, hit_rate@k: 0.2624\n",
      "epoch: 8.0000, train_loss_bpr: 0.0060, test_loss_bpr: 0.0513, precision@k: 0.0796, recall@k: 0.1448, map@k: 0.1007, mrr@k: 0.1514, ndcg@k: 0.1329, hit_rate@k: 0.2707\n",
      "epoch: 9.0000, train_loss_bpr: 0.0048, test_loss_bpr: 0.0492, precision@k: 0.0793, recall@k: 0.1438, map@k: 0.1012, mrr@k: 0.1481, ndcg@k: 0.1323, hit_rate@k: 0.2598\n"
     ]
    },
    {
     "ename": "KeyboardInterrupt",
     "evalue": "",
     "output_type": "error",
     "traceback": [
      "\u001B[0;31m---------------------------------------------------------------------------\u001B[0m",
      "\u001B[0;31mKeyboardInterrupt\u001B[0m                         Traceback (most recent call last)",
      "Cell \u001B[0;32mIn[11], line 42\u001B[0m\n\u001B[1;32m     40\u001B[0m scheduler\u001B[38;5;241m.\u001B[39mstep(test_loss)\n\u001B[1;32m     41\u001B[0m \u001B[38;5;66;03m# ------ Evaluate\u001B[39;00m\n\u001B[0;32m---> 42\u001B[0m eval_result: \u001B[38;5;28mdict\u001B[39m \u001B[38;5;241m=\u001B[39m \u001B[43mevaluate\u001B[49m\u001B[43m(\u001B[49m\n\u001B[1;32m     43\u001B[0m \u001B[43m    \u001B[49m\u001B[43mk\u001B[49m\u001B[38;5;241;43m=\u001B[39;49m\u001B[38;5;241;43m10\u001B[39;49m\u001B[43m,\u001B[49m\n\u001B[1;32m     44\u001B[0m \u001B[43m    \u001B[49m\u001B[43mmodel\u001B[49m\u001B[38;5;241;43m=\u001B[39;49m\u001B[43mmodel\u001B[49m\u001B[43m,\u001B[49m\n\u001B[1;32m     45\u001B[0m \u001B[43m    \u001B[49m\u001B[43mdata\u001B[49m\u001B[38;5;241;43m=\u001B[39;49m\u001B[43mdata\u001B[49m\n\u001B[1;32m     46\u001B[0m \u001B[43m\u001B[49m\u001B[43m)\u001B[49m\n\u001B[1;32m     48\u001B[0m \u001B[38;5;66;03m# Save results\u001B[39;00m\n\u001B[1;32m     49\u001B[0m epoch_result \u001B[38;5;241m=\u001B[39m {\n\u001B[1;32m     50\u001B[0m     \u001B[38;5;124m'\u001B[39m\u001B[38;5;124mepoch\u001B[39m\u001B[38;5;124m'\u001B[39m: epoch,\n\u001B[1;32m     51\u001B[0m     \u001B[38;5;124m'\u001B[39m\u001B[38;5;124mtrain_loss_bpr\u001B[39m\u001B[38;5;124m'\u001B[39m: train_loss,\n\u001B[0;32m   (...)\u001B[0m\n\u001B[1;32m     58\u001B[0m     \u001B[38;5;124m'\u001B[39m\u001B[38;5;124mhit_rate@k\u001B[39m\u001B[38;5;124m'\u001B[39m: \u001B[38;5;28mfloat\u001B[39m(eval_result[\u001B[38;5;124m'\u001B[39m\u001B[38;5;124mhit_rate@k\u001B[39m\u001B[38;5;124m'\u001B[39m]\u001B[38;5;241m.\u001B[39mcompute())\n\u001B[1;32m     59\u001B[0m }\n",
      "File \u001B[0;32m~/eutopia-colllaboration/ecr-recommender/.venv/lib/python3.12/site-packages/torch/utils/_contextlib.py:116\u001B[0m, in \u001B[0;36mcontext_decorator.<locals>.decorate_context\u001B[0;34m(*args, **kwargs)\u001B[0m\n\u001B[1;32m    113\u001B[0m \u001B[38;5;129m@functools\u001B[39m\u001B[38;5;241m.\u001B[39mwraps(func)\n\u001B[1;32m    114\u001B[0m \u001B[38;5;28;01mdef\u001B[39;00m \u001B[38;5;21mdecorate_context\u001B[39m(\u001B[38;5;241m*\u001B[39margs, \u001B[38;5;241m*\u001B[39m\u001B[38;5;241m*\u001B[39mkwargs):\n\u001B[1;32m    115\u001B[0m     \u001B[38;5;28;01mwith\u001B[39;00m ctx_factory():\n\u001B[0;32m--> 116\u001B[0m         \u001B[38;5;28;01mreturn\u001B[39;00m \u001B[43mfunc\u001B[49m\u001B[43m(\u001B[49m\u001B[38;5;241;43m*\u001B[39;49m\u001B[43margs\u001B[49m\u001B[43m,\u001B[49m\u001B[43m \u001B[49m\u001B[38;5;241;43m*\u001B[39;49m\u001B[38;5;241;43m*\u001B[39;49m\u001B[43mkwargs\u001B[49m\u001B[43m)\u001B[49m\n",
      "File \u001B[0;32m~/eutopia-colllaboration/ecr-recommender/util/homogeneous/model.py:260\u001B[0m, in \u001B[0;36mevaluate\u001B[0;34m(model, data, device, k)\u001B[0m\n\u001B[1;32m    257\u001B[0m ground_truth \u001B[38;5;241m=\u001B[39m data\u001B[38;5;241m.\u001B[39mtest_pos_edge_index\n\u001B[1;32m    259\u001B[0m \u001B[38;5;66;03m# Get top-k recommendations for each node\u001B[39;00m\n\u001B[0;32m--> 260\u001B[0m top_k_index \u001B[38;5;241m=\u001B[39m \u001B[43mtorch\u001B[49m\u001B[38;5;241;43m.\u001B[39;49m\u001B[43mtopk\u001B[49m\u001B[43m(\u001B[49m\u001B[43mlogits\u001B[49m\u001B[43m,\u001B[49m\u001B[43m \u001B[49m\u001B[43mk\u001B[49m\u001B[38;5;241;43m=\u001B[39;49m\u001B[43mk\u001B[49m\u001B[43m,\u001B[49m\u001B[43m \u001B[49m\u001B[43mdim\u001B[49m\u001B[38;5;241;43m=\u001B[39;49m\u001B[38;5;241;43m1\u001B[39;49m\u001B[43m)\u001B[49m\u001B[38;5;241m.\u001B[39mindices\n\u001B[1;32m    262\u001B[0m \u001B[38;5;66;03m# Update performance metrics\u001B[39;00m\n\u001B[1;32m    263\u001B[0m \u001B[38;5;28;01mfor\u001B[39;00m metric \u001B[38;5;129;01min\u001B[39;00m result\u001B[38;5;241m.\u001B[39mkeys():\n",
      "\u001B[0;31mKeyboardInterrupt\u001B[0m: "
     ]
    }
   ],
   "source": [
    "# Initialize the model\n",
    "model = ModelEuCoHM(\n",
    "    input_channels=data.num_features,\n",
    "    hidden_channels=64,\n",
    "    k=10,\n",
    "    author_node_id_map=author_node_id_map,\n",
    "    author_id_map=author_id_map\n",
    ").to(device)\n",
    "\n",
    "# Transfer to device\n",
    "data = data.to(device)\n",
    "\n",
    "# Initialize the optimizer\n",
    "optimizer: Optimizer = torch.optim.Adam(\n",
    "    params=model.parameters(),\n",
    "    lr=5e-3\n",
    ")\n",
    "\n",
    "# Initialize the scheduler\n",
    "scheduler: LRScheduler = torch.optim.lr_scheduler.ReduceLROnPlateau(\n",
    "    optimizer=optimizer,\n",
    "    mode='min',\n",
    "    factor=0.5,\n",
    "    patience=10\n",
    ")\n",
    "results: list = list()\n",
    "for epoch in range(1, 20 + 1):\n",
    "\n",
    "    # ------ Train\n",
    "    train_loss: float = train(\n",
    "        model=model,\n",
    "        data=data,\n",
    "        optimizer=optimizer\n",
    "    )\n",
    "    # ------ Test\n",
    "    test_loss: float = test(\n",
    "        model=model,\n",
    "        data=data\n",
    "    )\n",
    "    scheduler.step(test_loss)\n",
    "    # ------ Evaluate\n",
    "    eval_result: dict = evaluate(\n",
    "        k=10,\n",
    "        model=model,\n",
    "        data=data\n",
    "    )\n",
    "\n",
    "    # Save results\n",
    "    epoch_result = {\n",
    "        'epoch': epoch,\n",
    "        'train_loss_bpr': train_loss,\n",
    "        'test_loss_bpr': test_loss,\n",
    "        'precision@k': float(eval_result['precision@k'].compute()),\n",
    "        'recall@k': float(eval_result['recall@k'].compute()),\n",
    "        'map@k': float(eval_result['map@k'].compute()),\n",
    "        'mrr@k': float(eval_result['mrr@k'].compute()),\n",
    "        'ndcg@k': float(eval_result['ndcg@k'].compute()),\n",
    "        'hit_rate@k': float(eval_result['hit_rate@k'].compute())\n",
    "    }\n",
    "    results.append(epoch_result)\n",
    "\n",
    "    # Log results\n",
    "    if epoch % 1 == 0:\n",
    "        # Log model performance\n",
    "        formatted_str = ', '.join([f'{key}: {epoch_result[key]:.4f}' for key in epoch_result.keys()])\n",
    "        print(formatted_str)\n"
   ]
  },
  {
   "cell_type": "markdown",
   "id": "CIzjEI3R-eY-",
   "metadata": {
    "id": "CIzjEI3R-eY-"
   },
   "source": [
    "### Model evaluation"
   ]
  },
  {
   "cell_type": "code",
   "execution_count": 14,
   "id": "JHmrYAoF-dWh",
   "metadata": {
    "colab": {
     "base_uri": "https://localhost:8080/",
     "height": 472
    },
    "id": "JHmrYAoF-dWh",
    "outputId": "51b44a7b-4d40-4c23-8009-d3af553ed2e9"
   },
   "outputs": [
    {
     "data": {
      "image/png": "[encoded data removed]",
      "text/plain": [
       "<Figure size 640x480 with 1 Axes>"
      ]
     },
     "metadata": {},
     "output_type": "display_data"
    }
   ],
   "source": [
    "import pandas as pd\n",
    "results = pd.DataFrame(results)\n",
    "# Generate loss curve\n",
    "plt.plot(results['epoch'], results['train_loss_bpr'], label='train')\n",
    "plt.plot(results['epoch'], results['test_loss_bpr'], label='test')\n",
    "plt.xlabel('Epoch')\n",
    "plt.ylabel('Loss')\n",
    "plt.title('Loss Curve')\n",
    "plt.show()"
   ]
  },
  {
   "cell_type": "code",
   "execution_count": 15,
   "id": "RwsZRSb828Ua",
   "metadata": {
    "colab": {
     "base_uri": "https://localhost:8080/",
     "height": 472
    },
    "id": "RwsZRSb828Ua",
    "outputId": "57cc0fe4-2411-44ed-cfc2-f41e6c682819"
   },
   "outputs": [
    {
     "data": {
      "image/png": "[encoded data removed]",
      "text/plain": [
       "<Figure size 640x480 with 1 Axes>"
      ]
     },
     "metadata": {},
     "output_type": "display_data"
    }
   ],
   "source": [
    "# Generate evaluation metrics plot\n",
    "plt.plot(results['epoch'], results['precision@k'], label='precision@k')\n",
    "plt.plot(results['epoch'], results['recall@k'], label='recall@k')\n",
    "plt.plot(results['epoch'], results['map@k'], label='map@k')\n",
    "plt.plot(results['epoch'], results['mrr@k'], label='mrr@k')\n",
    "plt.plot(results['epoch'], results['ndcg@k'], label='ndcg@k')\n",
    "plt.plot(results['epoch'], results['hit_rate@k'], label='hit_rate@k')\n",
    "plt.xlabel('Epoch')\n",
    "plt.ylabel('Performance')\n",
    "plt.title('Evaluation metrics')\n",
    "plt.legend()\n",
    "plt.show()"
   ]
  },
  {
   "cell_type": "code",
   "execution_count": null,
   "id": "QrRBTsA5vAs1",
   "metadata": {
    "colab": {
     "base_uri": "https://localhost:8080/"
    },
    "id": "QrRBTsA5vAs1",
    "outputId": "afffeb4f-f62c-4c48-cf69-c7cb5eb06f55"
   },
   "outputs": [],
   "source": [
    "author_sid = '170c9492a9a50fb8a99c45b8cbbf6f55'\n",
    "\n",
    "model.recommend(x=data.x,\n",
    "                edge_index=data.train_pos_edge_index,\n",
    "                author_sid=author_sid,\n",
    "                k=num_recommendations)"
   ]
  }
 ],
 "metadata": {
  "colab": {
   "collapsed_sections": [
    "ISUVX4hvFMKM",
    "aZQQpLqCFeGK",
    "2cXJ5OO10uxX"
   ],
   "name": "Collaboration Recommender 1.0 (Homogeneous).ipynb",
   "provenance": []
  },
  "kernelspec": {
   "display_name": "Python 3 (ipykernel)",
   "language": "python",
   "name": "python3"
  },
  "language_info": {
   "codemirror_mode": {
    "name": "ipython",
    "version": 3
   },
   "file_extension": ".py",
   "mimetype": "text/x-python",
   "name": "python",
   "nbconvert_exporter": "python",
   "pygments_lexer": "ipython3",
   "version": "3.12.3"
  }
 },
 "nbformat": 4,
 "nbformat_minor": 5
}
