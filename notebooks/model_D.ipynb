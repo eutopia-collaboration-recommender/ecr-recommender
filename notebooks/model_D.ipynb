{
 "cells": [
  {
   "cell_type": "markdown",
   "id": "zYPnKxIhFGVJ",
   "metadata": {
    "id": "zYPnKxIhFGVJ"
   },
   "source": [
    "# Model D\n",
    "\n",
    "This is a script showing results of **model D** in the ablation studies. The model is built using the following configuration:\n",
    "\n",
    "- **Backbone:** Transformer\n",
    "- **Graph type:** Homogeneous\n",
    "- **Loss function:** Bayesian personalized ranking\n",
    "- **Embeddings used:** average\n",
    "- **Keyword popularity used:** No\n",
    "\n",
    "*This model upgrades the state-of-the-art graph neural network methodology with novel graph transformer approach.*"
   ]
  },
  {
   "cell_type": "markdown",
   "id": "x7McZwR_FRta",
   "metadata": {
    "id": "x7McZwR_FRta"
   },
   "source": [
    "## **Setting up environment**\n",
    "\n",
    "---\n",
    "\n"
   ]
  },
  {
   "cell_type": "markdown",
   "id": "cD8tnTfC60X2",
   "metadata": {
    "id": "cD8tnTfC60X2"
   },
   "source": [
    "### Loading libraries"
   ]
  },
  {
   "cell_type": "code",
   "execution_count": 1,
   "id": "5okfWmvKEI3Z",
   "metadata": {
    "ExecuteTime": {
     "end_time": "2024-12-13T17:47:50.264742Z",
     "start_time": "2024-12-13T17:47:50.256254Z"
    },
    "id": "5okfWmvKEI3Z"
   },
   "outputs": [],
   "source": [
    "import os\n",
    "import sys\n",
    "\n",
    "sys.path.insert(0, os.path.abspath(\"..\"))\n",
    "\n",
    "import torch\n",
    "import pickle\n",
    "import pandas as pd\n",
    "import seaborn as sns\n",
    "import matplotlib.pyplot as plt\n",
    "\n",
    "from typing import Optional\n",
    "\n",
    "from torch import Tensor\n",
    "from torch.nn import ModuleList\n",
    "from torch.optim import Optimizer\n",
    "from torch_geometric.typing import Adj, OptTensor\n",
    "from torch_geometric.nn.conv import TransformerConv\n",
    "from torch.optim.lr_scheduler import LRScheduler\n",
    "\n",
    "from util.torch_geometric import get_results\n",
    "from util.homogeneous.dataset import DatasetEuCoHM\n",
    "from util.homogeneous.model import ModelEuCoHM\n",
    "from util.homogeneous.train import (\n",
    "    train,\n",
    "    test,\n",
    "    evaluate\n",
    ")"
   ]
  },
  {
   "cell_type": "markdown",
   "id": "bQ_xqBiFn97Q",
   "metadata": {
    "id": "bQ_xqBiFn97Q"
   },
   "source": [
    "### Global variables"
   ]
  },
  {
   "cell_type": "code",
   "execution_count": 2,
   "id": "9r1K6ezsn97Q",
   "metadata": {
    "ExecuteTime": {
     "end_time": "2024-12-13T21:23:20.128019Z",
     "start_time": "2024-12-13T21:23:20.037264Z"
    },
    "id": "9r1K6ezsn97Q"
   },
   "outputs": [],
   "source": [
    "# Model name\n",
    "model_name = 'D'\n",
    "# Dataset save filepath\n",
    "dataset_save_filepath = '../data/dataset_homogeneous_base.pkl'\n",
    "# Device name\n",
    "device = 'cpu'\n",
    "\n",
    "# Model configuration\n",
    "model_config = dict(\n",
    "    hidden_channels=64,\n",
    "    learning_rate=1e-3,\n",
    "    num_layers=4,\n",
    "    num_heads=4,\n",
    "    num_epochs=50,\n",
    "    num_recommendations=10\n",
    ")\n",
    "# Set seaborn theme\n",
    "sns.set_theme(style=\"whitegrid\", palette=\"pastel\")"
   ]
  },
  {
   "cell_type": "markdown",
   "id": "ISUVX4hvFMKM",
   "metadata": {
    "id": "ISUVX4hvFMKM"
   },
   "source": [
    "## Loading dataset\n",
    "\n",
    "---\n"
   ]
  },
  {
   "cell_type": "code",
   "execution_count": 3,
   "id": "3b608e9d-243a-46aa-a261-7ae3464093db",
   "metadata": {},
   "outputs": [
    {
     "name": "stderr",
     "output_type": "stream",
     "text": [
      "/home/eucollab/eutopia-colllaboration/ecr-recommender/.venv/lib/python3.12/site-packages/torch/storage.py:414: FutureWarning: You are using `torch.load` with `weights_only=False` (the current default value), which uses the default pickle module implicitly. It is possible to construct malicious pickle data which will execute arbitrary code during unpickling (See https://github.com/pytorch/pytorch/blob/main/SECURITY.md#untrusted-models for more details). In a future release, the default value for `weights_only` will be flipped to `True`. This limits the functions that could be executed during unpickling. Arbitrary objects will no longer be allowed to be loaded via this mode unless they are explicitly allowlisted by the user via `torch.serialization.add_safe_globals`. We recommend you start setting `weights_only=True` for any use case where you don't have full control of the loaded file. Please open an issue on GitHub for any issues related to this experimental feature.\n",
      "  return torch.load(io.BytesIO(b))\n"
     ]
    }
   ],
   "source": [
    "# Add the object as a safe global to shut down warning\n",
    "torch.serialization.add_safe_globals([DatasetEuCoHM])\n",
    "# Open the dataset file and save it to variable\n",
    "with open(dataset_save_filepath, 'rb') as file:\n",
    "    dataset: DatasetEuCoHM = pickle.load(file)\n",
    "\n",
    "data = dataset.data\n",
    "author_id_map = dataset.author_id_map\n",
    "author_node_id_map = dataset.author_node_id_map"
   ]
  },
  {
   "cell_type": "markdown",
   "id": "04vUews17zy8",
   "metadata": {
    "id": "04vUews17zy8"
   },
   "source": [
    "## Model training\n",
    "\n",
    "\n",
    "---\n",
    "\n"
   ]
  },
  {
   "cell_type": "markdown",
   "id": "IMCtMQz00wC_",
   "metadata": {
    "id": "IMCtMQz00wC_"
   },
   "source": [
    "### Model definition"
   ]
  },
  {
   "cell_type": "code",
   "execution_count": 4,
   "id": "TJaBxQX_7_3D",
   "metadata": {
    "ExecuteTime": {
     "end_time": "2024-12-13T21:28:22.411435Z",
     "start_time": "2024-12-13T21:28:22.248727Z"
    },
    "id": "TJaBxQX_7_3D"
   },
   "outputs": [],
   "source": [
    "class ModelEuCoD(ModelEuCoHM):\n",
    "    def __init__(self,\n",
    "                 input_channels: int,\n",
    "                 hidden_channels: int,\n",
    "                 num_layers: int,\n",
    "                 num_recommendations: int,\n",
    "                 num_heads: int,\n",
    "                 author_node_id_map: dict,\n",
    "                 author_id_map: dict,\n",
    "                 device: str = 'cpu'):\n",
    "        super().__init__(\n",
    "            input_channels=input_channels,\n",
    "            hidden_channels=hidden_channels,\n",
    "            num_layers=num_layers,\n",
    "            num_recommendations=num_recommendations,\n",
    "            author_node_id_map=author_node_id_map,\n",
    "            author_id_map=author_id_map,\n",
    "            device=device\n",
    "        )\n",
    "\n",
    "        # Set number of attention heads\n",
    "        self.num_heads = num_heads\n",
    "\n",
    "        # Initialize the convolutional layers\n",
    "        self.conv_layers = ModuleList([\n",
    "            TransformerConv(in_channels=input_channels if ix == 0 else hidden_channels * self.num_heads, \n",
    "                            out_channels=hidden_channels,\n",
    "                            heads=self.num_heads)\n",
    "            for ix in range(self.num_layers)\n",
    "        ])\n",
    "\n",
    "        # Initialize batch norm layers\n",
    "        self.bn_layers = ModuleList([\n",
    "            torch.nn.BatchNorm1d(hidden_channels * self.num_heads)\n",
    "            for ix in range(self.num_layers)\n",
    "        ])"
   ]
  },
  {
   "cell_type": "markdown",
   "id": "9XkKmZJC06IZ",
   "metadata": {
    "id": "9XkKmZJC06IZ"
   },
   "source": [
    "### Training the model"
   ]
  },
  {
   "cell_type": "code",
   "execution_count": 5,
   "id": "b4304b1f-ce07-411d-abc3-43011dd3a83b",
   "metadata": {},
   "outputs": [],
   "source": [
    "# Initialize the model\n",
    "model = ModelEuCoD(\n",
    "    input_channels=data.num_features,\n",
    "    hidden_channels=model_config['hidden_channels'],\n",
    "    num_recommendations=model_config['num_recommendations'],\n",
    "    num_layers=model_config['num_layers'],\n",
    "    num_heads=model_config['num_heads'],\n",
    "    author_node_id_map=author_node_id_map,\n",
    "    author_id_map=author_id_map\n",
    ").to(device)\n",
    "\n",
    "# Transfer to device\n",
    "data = data.to(device)\n",
    "\n",
    "# Initialize the optimizer\n",
    "optimizer: Optimizer = torch.optim.Adam(\n",
    "    params=model.parameters(),\n",
    "    lr=model_config['learning_rate']\n",
    ")\n",
    "\n",
    "# Initialize the scheduler\n",
    "scheduler: LRScheduler = torch.optim.lr_scheduler.ReduceLROnPlateau(\n",
    "    optimizer=optimizer,\n",
    "    mode='min',\n",
    "    factor=0.5,\n",
    "    patience=10\n",
    ")"
   ]
  },
  {
   "cell_type": "code",
   "execution_count": 6,
   "id": "379e5e3ea82af758",
   "metadata": {
    "ExecuteTime": {
     "end_time": "2024-12-13T21:30:55.180060Z",
     "start_time": "2024-12-13T21:30:52.430863Z"
    }
   },
   "outputs": [
    {
     "name": "stdout",
     "output_type": "stream",
     "text": [
      "Epoch 1, train loss: 0.0067, test loss: 0.1792, precision@k: 0.0527, recall@k: 0.1385, MAP@k: 0.0699, MRR@k: 0.1203, NDCG@k: 0.1044, HitRate@k: 0.2511\n",
      "Epoch 2, train loss: 0.0086, test loss: 0.2278, precision@k: 0.0500, recall@k: 0.1317, MAP@k: 0.0677, MRR@k: 0.1176, NDCG@k: 0.1005, HitRate@k: 0.2422\n",
      "Epoch 3, train loss: 0.0116, test loss: 0.3018, precision@k: 0.0499, recall@k: 0.1291, MAP@k: 0.0646, MRR@k: 0.1131, NDCG@k: 0.0974, HitRate@k: 0.2408\n",
      "Epoch 4, train loss: 0.0060, test loss: 0.3411, precision@k: 0.0495, recall@k: 0.1255, MAP@k: 0.0620, MRR@k: 0.1094, NDCG@k: 0.0944, HitRate@k: 0.2386\n",
      "Epoch 5, train loss: 0.0047, test loss: 0.3619, precision@k: 0.0488, recall@k: 0.1252, MAP@k: 0.0611, MRR@k: 0.1094, NDCG@k: 0.0937, HitRate@k: 0.2394\n",
      "Epoch 6, train loss: 0.0045, test loss: 0.3901, precision@k: 0.0486, recall@k: 0.1252, MAP@k: 0.0602, MRR@k: 0.1097, NDCG@k: 0.0931, HitRate@k: 0.2410\n",
      "Epoch 7, train loss: 0.0042, test loss: 0.4369, precision@k: 0.0475, recall@k: 0.1234, MAP@k: 0.0588, MRR@k: 0.1070, NDCG@k: 0.0911, HitRate@k: 0.2370\n",
      "Epoch 8, train loss: 0.0040, test loss: 0.4854, precision@k: 0.0472, recall@k: 0.1238, MAP@k: 0.0576, MRR@k: 0.1058, NDCG@k: 0.0902, HitRate@k: 0.2375\n",
      "Epoch 9, train loss: 0.0032, test loss: 0.5423, precision@k: 0.0470, recall@k: 0.1225, MAP@k: 0.0568, MRR@k: 0.1049, NDCG@k: 0.0892, HitRate@k: 0.2350\n",
      "Epoch 10, train loss: 0.0034, test loss: 0.5444, precision@k: 0.0476, recall@k: 0.1226, MAP@k: 0.0575, MRR@k: 0.1055, NDCG@k: 0.0899, HitRate@k: 0.2367\n",
      "Epoch 11, train loss: 0.0026, test loss: 0.5181, precision@k: 0.0487, recall@k: 0.1247, MAP@k: 0.0594, MRR@k: 0.1075, NDCG@k: 0.0921, HitRate@k: 0.2416\n",
      "Epoch 12, train loss: 0.0028, test loss: 0.4847, precision@k: 0.0493, recall@k: 0.1270, MAP@k: 0.0604, MRR@k: 0.1087, NDCG@k: 0.0937, HitRate@k: 0.2451\n",
      "Epoch 13, train loss: 0.0028, test loss: 0.4574, precision@k: 0.0493, recall@k: 0.1276, MAP@k: 0.0607, MRR@k: 0.1094, NDCG@k: 0.0942, HitRate@k: 0.2471\n",
      "Epoch 14, train loss: 0.0023, test loss: 0.4358, precision@k: 0.0494, recall@k: 0.1277, MAP@k: 0.0600, MRR@k: 0.1087, NDCG@k: 0.0938, HitRate@k: 0.2475\n",
      "Epoch 15, train loss: 0.0025, test loss: 0.4197, precision@k: 0.0494, recall@k: 0.1280, MAP@k: 0.0605, MRR@k: 0.1099, NDCG@k: 0.0943, HitRate@k: 0.2492\n",
      "Epoch 16, train loss: 0.0021, test loss: 0.4065, precision@k: 0.0498, recall@k: 0.1298, MAP@k: 0.0607, MRR@k: 0.1102, NDCG@k: 0.0950, HitRate@k: 0.2518\n",
      "Epoch 17, train loss: 0.0021, test loss: 0.3960, precision@k: 0.0496, recall@k: 0.1313, MAP@k: 0.0605, MRR@k: 0.1107, NDCG@k: 0.0953, HitRate@k: 0.2546\n",
      "Epoch 18, train loss: 0.0018, test loss: 0.3883, precision@k: 0.0499, recall@k: 0.1331, MAP@k: 0.0613, MRR@k: 0.1121, NDCG@k: 0.0964, HitRate@k: 0.2574\n",
      "Epoch 19, train loss: 0.0021, test loss: 0.3838, precision@k: 0.0502, recall@k: 0.1349, MAP@k: 0.0620, MRR@k: 0.1130, NDCG@k: 0.0974, HitRate@k: 0.2601\n",
      "Epoch 20, train loss: 0.0019, test loss: 0.3811, precision@k: 0.0504, recall@k: 0.1355, MAP@k: 0.0628, MRR@k: 0.1145, NDCG@k: 0.0984, HitRate@k: 0.2612\n",
      "Epoch 21, train loss: 0.0017, test loss: 0.3782, precision@k: 0.0508, recall@k: 0.1364, MAP@k: 0.0631, MRR@k: 0.1151, NDCG@k: 0.0990, HitRate@k: 0.2632\n",
      "Epoch 22, train loss: 0.0017, test loss: 0.3770, precision@k: 0.0510, recall@k: 0.1373, MAP@k: 0.0638, MRR@k: 0.1169, NDCG@k: 0.0999, HitRate@k: 0.2660\n",
      "Epoch 23, train loss: 0.0017, test loss: 0.3750, precision@k: 0.0512, recall@k: 0.1384, MAP@k: 0.0639, MRR@k: 0.1167, NDCG@k: 0.1003, HitRate@k: 0.2679\n",
      "Epoch 24, train loss: 0.0016, test loss: 0.3658, precision@k: 0.0514, recall@k: 0.1391, MAP@k: 0.0643, MRR@k: 0.1176, NDCG@k: 0.1008, HitRate@k: 0.2692\n",
      "Epoch 25, train loss: 0.0015, test loss: 0.3575, precision@k: 0.0517, recall@k: 0.1402, MAP@k: 0.0651, MRR@k: 0.1187, NDCG@k: 0.1018, HitRate@k: 0.2710\n",
      "Epoch 26, train loss: 0.0015, test loss: 0.3509, precision@k: 0.0521, recall@k: 0.1413, MAP@k: 0.0657, MRR@k: 0.1186, NDCG@k: 0.1025, HitRate@k: 0.2722\n",
      "Epoch 27, train loss: 0.0016, test loss: 0.3445, precision@k: 0.0526, recall@k: 0.1424, MAP@k: 0.0665, MRR@k: 0.1198, NDCG@k: 0.1036, HitRate@k: 0.2737\n",
      "Epoch 28, train loss: 0.0015, test loss: 0.3376, precision@k: 0.0529, recall@k: 0.1435, MAP@k: 0.0661, MRR@k: 0.1198, NDCG@k: 0.1037, HitRate@k: 0.2758\n",
      "Epoch 29, train loss: 0.0017, test loss: 0.3307, precision@k: 0.0531, recall@k: 0.1447, MAP@k: 0.0666, MRR@k: 0.1211, NDCG@k: 0.1045, HitRate@k: 0.2779\n",
      "Epoch 30, train loss: 0.0014, test loss: 0.3244, precision@k: 0.0541, recall@k: 0.1451, MAP@k: 0.0684, MRR@k: 0.1231, NDCG@k: 0.1062, HitRate@k: 0.2782\n",
      "Epoch 31, train loss: 0.0014, test loss: 0.3183, precision@k: 0.0543, recall@k: 0.1457, MAP@k: 0.0686, MRR@k: 0.1229, NDCG@k: 0.1064, HitRate@k: 0.2790\n",
      "Epoch 32, train loss: 0.0013, test loss: 0.3128, precision@k: 0.0546, recall@k: 0.1465, MAP@k: 0.0691, MRR@k: 0.1233, NDCG@k: 0.1071, HitRate@k: 0.2806\n",
      "Epoch 33, train loss: 0.0014, test loss: 0.3082, precision@k: 0.0548, recall@k: 0.1472, MAP@k: 0.0693, MRR@k: 0.1245, NDCG@k: 0.1076, HitRate@k: 0.2813\n",
      "Epoch 34, train loss: 0.0014, test loss: 0.3036, precision@k: 0.0548, recall@k: 0.1472, MAP@k: 0.0697, MRR@k: 0.1248, NDCG@k: 0.1079, HitRate@k: 0.2806\n",
      "Epoch 35, train loss: 0.0014, test loss: 0.3003, precision@k: 0.0549, recall@k: 0.1476, MAP@k: 0.0703, MRR@k: 0.1255, NDCG@k: 0.1084, HitRate@k: 0.2809\n",
      "Epoch 36, train loss: 0.0014, test loss: 0.2973, precision@k: 0.0550, recall@k: 0.1479, MAP@k: 0.0702, MRR@k: 0.1254, NDCG@k: 0.1085, HitRate@k: 0.2811\n",
      "Epoch 37, train loss: 0.0014, test loss: 0.2946, precision@k: 0.0550, recall@k: 0.1479, MAP@k: 0.0702, MRR@k: 0.1257, NDCG@k: 0.1085, HitRate@k: 0.2815\n",
      "Epoch 38, train loss: 0.0015, test loss: 0.2918, precision@k: 0.0550, recall@k: 0.1479, MAP@k: 0.0702, MRR@k: 0.1253, NDCG@k: 0.1085, HitRate@k: 0.2813\n",
      "Epoch 39, train loss: 0.0013, test loss: 0.2895, precision@k: 0.0552, recall@k: 0.1489, MAP@k: 0.0706, MRR@k: 0.1260, NDCG@k: 0.1092, HitRate@k: 0.2828\n",
      "Epoch 40, train loss: 0.0013, test loss: 0.2875, precision@k: 0.0552, recall@k: 0.1491, MAP@k: 0.0708, MRR@k: 0.1261, NDCG@k: 0.1093, HitRate@k: 0.2830\n",
      "Epoch 41, train loss: 0.0015, test loss: 0.2858, precision@k: 0.0554, recall@k: 0.1495, MAP@k: 0.0715, MRR@k: 0.1276, NDCG@k: 0.1101, HitRate@k: 0.2842\n",
      "Epoch 42, train loss: 0.0013, test loss: 0.2843, precision@k: 0.0554, recall@k: 0.1493, MAP@k: 0.0717, MRR@k: 0.1282, NDCG@k: 0.1103, HitRate@k: 0.2845\n",
      "Epoch 43, train loss: 0.0014, test loss: 0.2829, precision@k: 0.0556, recall@k: 0.1503, MAP@k: 0.0719, MRR@k: 0.1280, NDCG@k: 0.1106, HitRate@k: 0.2852\n",
      "Epoch 44, train loss: 0.0015, test loss: 0.2819, precision@k: 0.0556, recall@k: 0.1505, MAP@k: 0.0718, MRR@k: 0.1276, NDCG@k: 0.1106, HitRate@k: 0.2857\n",
      "Epoch 45, train loss: 0.0013, test loss: 0.2810, precision@k: 0.0557, recall@k: 0.1511, MAP@k: 0.0724, MRR@k: 0.1291, NDCG@k: 0.1113, HitRate@k: 0.2863\n",
      "Epoch 46, train loss: 0.0013, test loss: 0.2800, precision@k: 0.0558, recall@k: 0.1516, MAP@k: 0.0723, MRR@k: 0.1288, NDCG@k: 0.1113, HitRate@k: 0.2870\n",
      "Epoch 47, train loss: 0.0013, test loss: 0.2792, precision@k: 0.0558, recall@k: 0.1519, MAP@k: 0.0724, MRR@k: 0.1284, NDCG@k: 0.1114, HitRate@k: 0.2871\n",
      "Epoch 48, train loss: 0.0016, test loss: 0.2785, precision@k: 0.0558, recall@k: 0.1518, MAP@k: 0.0722, MRR@k: 0.1287, NDCG@k: 0.1113, HitRate@k: 0.2869\n",
      "Epoch 49, train loss: 0.0014, test loss: 0.2777, precision@k: 0.0558, recall@k: 0.1517, MAP@k: 0.0724, MRR@k: 0.1287, NDCG@k: 0.1114, HitRate@k: 0.2867\n",
      "Epoch 50, train loss: 0.0015, test loss: 0.2772, precision@k: 0.0559, recall@k: 0.1520, MAP@k: 0.0723, MRR@k: 0.1285, NDCG@k: 0.1114, HitRate@k: 0.2874\n"
     ]
    }
   ],
   "source": [
    "results: list = list()\n",
    "for epoch in range(1, model_config['num_epochs'] + 1):\n",
    "    # ------ Train\n",
    "    train_loss: float = train(\n",
    "        model=model,\n",
    "        data=data,\n",
    "        optimizer=optimizer\n",
    "    )\n",
    "    # ------ Test\n",
    "    test_loss: float = test(\n",
    "        model=model,\n",
    "        data=data\n",
    "    )\n",
    "    scheduler.step(test_loss)\n",
    "    # ------ Evaluate\n",
    "    evaluation_results: dict = evaluate(\n",
    "        k=model_config['num_recommendations'],\n",
    "        model=model,\n",
    "        data=data\n",
    "    )\n",
    "\n",
    "    # Save results\n",
    "    epoch_result = get_results(\n",
    "        epoch=epoch,\n",
    "        train_loss=train_loss,\n",
    "        test_loss=test_loss,\n",
    "        evaluation_results=evaluation_results\n",
    "    )\n",
    "    results.append(epoch_result)"
   ]
  },
  {
   "cell_type": "markdown",
   "id": "CIzjEI3R-eY-",
   "metadata": {
    "id": "CIzjEI3R-eY-"
   },
   "source": [
    "### Model evaluation"
   ]
  },
  {
   "cell_type": "code",
   "execution_count": 7,
   "id": "JHmrYAoF-dWh",
   "metadata": {
    "colab": {
     "base_uri": "https://localhost:8080/",
     "height": 472
    },
    "id": "JHmrYAoF-dWh",
    "outputId": "51b44a7b-4d40-4c23-8009-d3af553ed2e9"
   },
   "outputs": [],
   "source": [
    "results_df = pd.DataFrame(results)\n",
    "results_df.to_csv(f'../results/results_Model{model_name}.csv', index=False)"
   ]
  },
  {
   "cell_type": "code",
   "execution_count": 8,
   "id": "RwsZRSb828Ua",
   "metadata": {
    "colab": {
     "base_uri": "https://localhost:8080/",
     "height": 472
    },
    "id": "RwsZRSb828Ua",
    "outputId": "57cc0fe4-2411-44ed-cfc2-f41e6c682819"
   },
   "outputs": [
    {
     "data": {
      "image/png": "[encoded data removed]",
      "text/plain": [
       "<Figure size 640x480 with 1 Axes>"
      ]
     },
     "metadata": {},
     "output_type": "display_data"
    }
   ],
   "source": [
    "# Generate loss curve\n",
    "# Train loss\n",
    "sns.lineplot(data=results_df, x='Epoch', y='Train Loss')\n",
    "# Test loss\n",
    "sns.lineplot(data=results_df, x='Epoch', y='Test Loss')\n",
    "plt.xlabel('Epoch')\n",
    "plt.ylabel('Loss')\n",
    "plt.title('Loss curve')\n",
    "plt.yscale('log')\n",
    "plt.show()"
   ]
  },
  {
   "cell_type": "code",
   "execution_count": 9,
   "id": "QrRBTsA5vAs1",
   "metadata": {
    "colab": {
     "base_uri": "https://localhost:8080/"
    },
    "id": "QrRBTsA5vAs1",
    "outputId": "afffeb4f-f62c-4c48-cf69-c7cb5eb06f55"
   },
   "outputs": [
    {
     "data": {
      "image/png": "[encoded data removed]",
      "text/plain": [
       "<Figure size 640x480 with 1 Axes>"
      ]
     },
     "metadata": {},
     "output_type": "display_data"
    }
   ],
   "source": [
    "# Generate evaluation metrics plot\n",
    "sns.lineplot(data=results_df, x='Epoch', y='Precision@k')\n",
    "sns.lineplot(data=results_df, x='Epoch', y='Recall@k')\n",
    "sns.lineplot(data=results_df, x='Epoch', y='MAP@k')\n",
    "sns.lineplot(data=results_df, x='Epoch', y='MRR@k')\n",
    "sns.lineplot(data=results_df, x='Epoch', y='NDCG@k')\n",
    "sns.lineplot(data=results_df, x='Epoch', y='HitRate@k')\n",
    "plt.xlabel('Epoch')\n",
    "plt.ylabel('Performance')\n",
    "plt.title('Performance metrics')\n",
    "plt.show()"
   ]
  }
 ],
 "metadata": {
  "colab": {
   "collapsed_sections": [
    "ISUVX4hvFMKM",
    "aZQQpLqCFeGK",
    "2cXJ5OO10uxX"
   ],
   "name": "Collaboration Recommender 1.0 (Homogeneous).ipynb",
   "provenance": []
  },
  "kernelspec": {
   "display_name": "Python 3 (ipykernel)",
   "language": "python",
   "name": "python3"
  },
  "language_info": {
   "codemirror_mode": {
    "name": "ipython",
    "version": 3
   },
   "file_extension": ".py",
   "mimetype": "text/x-python",
   "name": "python",
   "nbconvert_exporter": "python",
   "pygments_lexer": "ipython3",
   "version": "3.12.3"
  }
 },
 "nbformat": 4,
 "nbformat_minor": 5
}
