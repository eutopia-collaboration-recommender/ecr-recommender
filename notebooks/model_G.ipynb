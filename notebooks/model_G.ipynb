{
 "cells": [
  {
   "cell_type": "markdown",
   "id": "zYPnKxIhFGVJ",
   "metadata": {
    "id": "zYPnKxIhFGVJ"
   },
   "source": [
    "# Model G\n",
    "\n",
    "This is a script showing results of **model G** in the ablation studies. The model is built using the following configuration:\n",
    "\n",
    "- **Backbone:** GATv2\n",
    "- **Graph type:** Heterogeneous\n",
    "- **Loss function:** Bayesian Personalized Ranking Loss\n",
    "- **Embeddings used:** average\n",
    "- **Keyword popularity used:** No\n",
    "\n",
    "*This model introduces a heterogeneous version of the graph attention network backbone.*"
   ]
  },
  {
   "cell_type": "markdown",
   "id": "x7McZwR_FRta",
   "metadata": {
    "id": "x7McZwR_FRta"
   },
   "source": [
    "## **Setting up environment**\n",
    "\n",
    "---\n",
    "\n"
   ]
  },
  {
   "cell_type": "markdown",
   "id": "cD8tnTfC60X2",
   "metadata": {
    "id": "cD8tnTfC60X2"
   },
   "source": [
    "### Loading libraries"
   ]
  },
  {
   "cell_type": "code",
   "execution_count": 1,
   "id": "5okfWmvKEI3Z",
   "metadata": {
    "ExecuteTime": {
     "end_time": "2024-12-13T17:47:50.264742Z",
     "start_time": "2024-12-13T17:47:50.256254Z"
    },
    "id": "5okfWmvKEI3Z"
   },
   "outputs": [],
   "source": [
    "import os\n",
    "import sys\n",
    "\n",
    "sys.path.insert(0, os.path.abspath(\"..\"))\n",
    "\n",
    "import torch\n",
    "import pickle\n",
    "import pandas as pd\n",
    "import seaborn as sns\n",
    "import matplotlib.pyplot as plt\n",
    "\n",
    "from typing import Optional\n",
    "\n",
    "from torch import Tensor\n",
    "from torch.nn import ModuleList\n",
    "import torch.nn.functional as F\n",
    "import torch.nn.functional as F\n",
    "from torch.optim import Optimizer\n",
    "from torch_geometric.typing import Adj, OptTensor\n",
    "from torch_geometric.nn.conv import TransformerConv\n",
    "from torch.optim.lr_scheduler import LRScheduler\n",
    "\n",
    "from util.torch_geometric import get_results\n",
    "from util.heterogeneous.dataset import DatasetEuCoHT\n",
    "from util.heterogeneous.model import ModelEuCoHT\n",
    "from util.heterogeneous.train import (\n",
    "    train,\n",
    "    test,\n",
    "    evaluate\n",
    ")"
   ]
  },
  {
   "cell_type": "markdown",
   "id": "bQ_xqBiFn97Q",
   "metadata": {
    "id": "bQ_xqBiFn97Q"
   },
   "source": [
    "### Global variables"
   ]
  },
  {
   "cell_type": "code",
   "execution_count": 2,
   "id": "9r1K6ezsn97Q",
   "metadata": {
    "ExecuteTime": {
     "end_time": "2024-12-13T21:23:20.128019Z",
     "start_time": "2024-12-13T21:23:20.037264Z"
    },
    "id": "9r1K6ezsn97Q"
   },
   "outputs": [],
   "source": [
    "# Model name\n",
    "model_name = 'G'\n",
    "# Dataset save filepath\n",
    "dataset_save_filepath = '../data/dataset_heterogeneous.pkl'\n",
    "# Device name\n",
    "device = 'cpu'\n",
    "\n",
    "# Model configuration\n",
    "model_config = dict(\n",
    "    hidden_channels=64,\n",
    "    learning_rate=1e-3,\n",
    "    num_layers=4,\n",
    "    num_epochs=50,\n",
    "    num_recommendations=10,\n",
    "    include_linear_layers=True,\n",
    "    include_activation_layers=True\n",
    ")\n",
    "target_edge_type = ('author', 'co_authors', 'author')\n",
    "target_node_type = 'author'\n",
    "\n",
    "# Set seaborn theme\n",
    "sns.set_theme(style=\"whitegrid\", palette=\"pastel\")"
   ]
  },
  {
   "cell_type": "markdown",
   "id": "ISUVX4hvFMKM",
   "metadata": {
    "id": "ISUVX4hvFMKM"
   },
   "source": [
    "## Loading dataset\n",
    "\n",
    "---\n"
   ]
  },
  {
   "cell_type": "code",
   "execution_count": 3,
   "id": "3b608e9d-243a-46aa-a261-7ae3464093db",
   "metadata": {},
   "outputs": [
    {
     "name": "stderr",
     "output_type": "stream",
     "text": [
      "/home/eucollab/eutopia-colllaboration/ecr-recommender/.venv/lib/python3.12/site-packages/torch/storage.py:414: FutureWarning: You are using `torch.load` with `weights_only=False` (the current default value), which uses the default pickle module implicitly. It is possible to construct malicious pickle data which will execute arbitrary code during unpickling (See https://github.com/pytorch/pytorch/blob/main/SECURITY.md#untrusted-models for more details). In a future release, the default value for `weights_only` will be flipped to `True`. This limits the functions that could be executed during unpickling. Arbitrary objects will no longer be allowed to be loaded via this mode unless they are explicitly allowlisted by the user via `torch.serialization.add_safe_globals`. We recommend you start setting `weights_only=True` for any use case where you don't have full control of the loaded file. Please open an issue on GitHub for any issues related to this experimental feature.\n",
      "  return torch.load(io.BytesIO(b))\n"
     ]
    }
   ],
   "source": [
    "# Add the object as a safe global to shut down warning\n",
    "torch.serialization.add_safe_globals([DatasetEuCoHT])\n",
    "# Open the dataset file and save it to variable\n",
    "with open(dataset_save_filepath, 'rb') as file:\n",
    "    dataset: DatasetEuCoHT = pickle.load(file)\n",
    "\n",
    "data = dataset.data\n",
    "author_id_map = dataset.author_id_map\n",
    "author_node_id_map = dataset.author_node_id_map"
   ]
  },
  {
   "cell_type": "markdown",
   "id": "04vUews17zy8",
   "metadata": {
    "id": "04vUews17zy8"
   },
   "source": [
    "## Model training\n",
    "\n",
    "\n",
    "---\n",
    "\n"
   ]
  },
  {
   "cell_type": "markdown",
   "id": "IMCtMQz00wC_",
   "metadata": {
    "id": "IMCtMQz00wC_"
   },
   "source": [
    "### Model definition"
   ]
  },
  {
   "cell_type": "code",
   "execution_count": 4,
   "id": "TJaBxQX_7_3D",
   "metadata": {
    "ExecuteTime": {
     "end_time": "2024-12-13T21:28:22.411435Z",
     "start_time": "2024-12-13T21:28:22.248727Z"
    },
    "id": "TJaBxQX_7_3D"
   },
   "outputs": [],
   "source": [
    "class ModelEuCoG(ModelEuCoHT):\n",
    "    def __init__(self,\n",
    "                 input_channels: int,\n",
    "                 hidden_channels: int,\n",
    "                 num_layers: int,\n",
    "                 num_recommendations: int,\n",
    "                 author_node_id_map: dict,\n",
    "                 author_id_map: dict,\n",
    "                 include_linear_layers: bool,\n",
    "                 include_activation_layers: bool):\n",
    "        super().__init__(\n",
    "            hidden_channels=hidden_channels,\n",
    "            num_layers=num_layers,\n",
    "            num_recommendations=num_recommendations,\n",
    "            author_node_id_map=author_node_id_map,\n",
    "            author_id_map=author_id_map,\n",
    "            include_linear_layers=include_linear_layers,\n",
    "            include_activation_layers=include_activation_layers\n",
    "        )"
   ]
  },
  {
   "cell_type": "markdown",
   "id": "9XkKmZJC06IZ",
   "metadata": {
    "id": "9XkKmZJC06IZ"
   },
   "source": [
    "### Training the model"
   ]
  },
  {
   "cell_type": "code",
   "execution_count": 5,
   "id": "b4304b1f-ce07-411d-abc3-43011dd3a83b",
   "metadata": {},
   "outputs": [],
   "source": [
    "# Initialize the model\n",
    "model = ModelEuCoG(\n",
    "    input_channels=data.num_features,\n",
    "    hidden_channels=model_config['hidden_channels'],\n",
    "    num_recommendations=model_config['num_recommendations'],\n",
    "    num_layers=model_config['num_layers'],\n",
    "    author_node_id_map=author_node_id_map,\n",
    "    author_id_map=author_id_map,\n",
    "    include_linear_layers=model_config['include_linear_layers'],\n",
    "    include_activation_layers=model_config['include_activation_layers']\n",
    ").to(device)\n",
    "\n",
    "# Transfer to device\n",
    "data = data.to(device)\n",
    "\n",
    "# Initialize the optimizer\n",
    "optimizer: Optimizer = torch.optim.Adam(\n",
    "    params=model.parameters(),\n",
    "    lr=model_config['learning_rate']\n",
    ")\n",
    "\n",
    "# Initialize the scheduler\n",
    "scheduler: LRScheduler = torch.optim.lr_scheduler.ReduceLROnPlateau(\n",
    "    optimizer=optimizer,\n",
    "    mode='min',\n",
    "    factor=0.5,\n",
    "    patience=10\n",
    ")"
   ]
  },
  {
   "cell_type": "code",
   "execution_count": 6,
   "id": "379e5e3ea82af758",
   "metadata": {
    "ExecuteTime": {
     "end_time": "2024-12-13T21:30:55.180060Z",
     "start_time": "2024-12-13T21:30:52.430863Z"
    }
   },
   "outputs": [
    {
     "name": "stdout",
     "output_type": "stream",
     "text": [
      "Epoch 1, train loss: 0.0845, test loss: 9.1582, precision@k: 0.0003, recall@k: 0.0006, MAP@k: 0.0001, MRR@k: 0.0004, NDCG@k: 0.0004, HitRate@k: 0.0022\n",
      "Epoch 2, train loss: 0.0422, test loss: 5.4829, precision@k: 0.0005, recall@k: 0.0013, MAP@k: 0.0004, MRR@k: 0.0008, NDCG@k: 0.0008, HitRate@k: 0.0035\n",
      "Epoch 3, train loss: 0.0287, test loss: 3.8430, precision@k: 0.0008, recall@k: 0.0022, MAP@k: 0.0005, MRR@k: 0.0013, NDCG@k: 0.0012, HitRate@k: 0.0065\n",
      "Epoch 4, train loss: 0.0262, test loss: 3.1809, precision@k: 0.0020, recall@k: 0.0058, MAP@k: 0.0014, MRR@k: 0.0037, NDCG@k: 0.0032, HitRate@k: 0.0146\n",
      "Epoch 5, train loss: 0.0209, test loss: 2.9560, precision@k: 0.0028, recall@k: 0.0090, MAP@k: 0.0024, MRR@k: 0.0054, NDCG@k: 0.0050, HitRate@k: 0.0212\n",
      "Epoch 6, train loss: 0.0187, test loss: 2.8870, precision@k: 0.0035, recall@k: 0.0114, MAP@k: 0.0031, MRR@k: 0.0068, NDCG@k: 0.0064, HitRate@k: 0.0269\n",
      "Epoch 7, train loss: 0.0157, test loss: 2.8742, precision@k: 0.0042, recall@k: 0.0134, MAP@k: 0.0038, MRR@k: 0.0083, NDCG@k: 0.0077, HitRate@k: 0.0315\n",
      "Epoch 8, train loss: 0.0155, test loss: 2.9033, precision@k: 0.0047, recall@k: 0.0149, MAP@k: 0.0046, MRR@k: 0.0100, NDCG@k: 0.0088, HitRate@k: 0.0350\n",
      "Epoch 9, train loss: 0.0130, test loss: 2.9603, precision@k: 0.0051, recall@k: 0.0163, MAP@k: 0.0053, MRR@k: 0.0112, NDCG@k: 0.0099, HitRate@k: 0.0374\n",
      "Epoch 10, train loss: 0.0138, test loss: 3.0471, precision@k: 0.0054, recall@k: 0.0174, MAP@k: 0.0056, MRR@k: 0.0120, NDCG@k: 0.0105, HitRate@k: 0.0402\n",
      "Epoch 11, train loss: 0.0113, test loss: 3.1299, precision@k: 0.0057, recall@k: 0.0186, MAP@k: 0.0060, MRR@k: 0.0131, NDCG@k: 0.0113, HitRate@k: 0.0423\n",
      "Epoch 12, train loss: 0.0118, test loss: 3.1959, precision@k: 0.0062, recall@k: 0.0200, MAP@k: 0.0064, MRR@k: 0.0140, NDCG@k: 0.0121, HitRate@k: 0.0453\n",
      "Epoch 13, train loss: 0.0119, test loss: 3.2608, precision@k: 0.0066, recall@k: 0.0211, MAP@k: 0.0071, MRR@k: 0.0151, NDCG@k: 0.0130, HitRate@k: 0.0476\n",
      "Epoch 14, train loss: 0.0110, test loss: 3.3435, precision@k: 0.0073, recall@k: 0.0229, MAP@k: 0.0078, MRR@k: 0.0166, NDCG@k: 0.0143, HitRate@k: 0.0520\n",
      "Epoch 15, train loss: 0.0105, test loss: 3.3966, precision@k: 0.0075, recall@k: 0.0235, MAP@k: 0.0081, MRR@k: 0.0174, NDCG@k: 0.0148, HitRate@k: 0.0535\n",
      "Epoch 16, train loss: 0.0096, test loss: 3.4265, precision@k: 0.0079, recall@k: 0.0240, MAP@k: 0.0082, MRR@k: 0.0177, NDCG@k: 0.0151, HitRate@k: 0.0547\n",
      "Epoch 17, train loss: 0.0081, test loss: 3.4329, precision@k: 0.0082, recall@k: 0.0248, MAP@k: 0.0085, MRR@k: 0.0183, NDCG@k: 0.0157, HitRate@k: 0.0572\n",
      "Epoch 18, train loss: 0.0105, test loss: 3.4401, precision@k: 0.0085, recall@k: 0.0258, MAP@k: 0.0087, MRR@k: 0.0188, NDCG@k: 0.0162, HitRate@k: 0.0596\n",
      "Epoch 19, train loss: 0.0087, test loss: 3.3724, precision@k: 0.0088, recall@k: 0.0265, MAP@k: 0.0091, MRR@k: 0.0198, NDCG@k: 0.0167, HitRate@k: 0.0605\n",
      "Epoch 20, train loss: 0.0085, test loss: 3.3275, precision@k: 0.0090, recall@k: 0.0268, MAP@k: 0.0094, MRR@k: 0.0206, NDCG@k: 0.0172, HitRate@k: 0.0616\n",
      "Epoch 21, train loss: 0.0082, test loss: 3.2814, precision@k: 0.0092, recall@k: 0.0276, MAP@k: 0.0097, MRR@k: 0.0211, NDCG@k: 0.0176, HitRate@k: 0.0630\n",
      "Epoch 22, train loss: 0.0084, test loss: 3.2383, precision@k: 0.0092, recall@k: 0.0281, MAP@k: 0.0098, MRR@k: 0.0213, NDCG@k: 0.0178, HitRate@k: 0.0645\n",
      "Epoch 23, train loss: 0.0083, test loss: 3.2060, precision@k: 0.0093, recall@k: 0.0285, MAP@k: 0.0101, MRR@k: 0.0218, NDCG@k: 0.0182, HitRate@k: 0.0654\n",
      "Epoch 24, train loss: 0.0081, test loss: 3.1592, precision@k: 0.0093, recall@k: 0.0292, MAP@k: 0.0102, MRR@k: 0.0220, NDCG@k: 0.0185, HitRate@k: 0.0660\n",
      "Epoch 25, train loss: 0.0080, test loss: 3.1151, precision@k: 0.0094, recall@k: 0.0297, MAP@k: 0.0105, MRR@k: 0.0224, NDCG@k: 0.0188, HitRate@k: 0.0665\n",
      "Epoch 26, train loss: 0.0067, test loss: 3.0815, precision@k: 0.0095, recall@k: 0.0301, MAP@k: 0.0108, MRR@k: 0.0230, NDCG@k: 0.0192, HitRate@k: 0.0673\n",
      "Epoch 27, train loss: 0.0082, test loss: 3.0538, precision@k: 0.0096, recall@k: 0.0310, MAP@k: 0.0109, MRR@k: 0.0234, NDCG@k: 0.0196, HitRate@k: 0.0686\n",
      "Epoch 28, train loss: 0.0064, test loss: 3.0303, precision@k: 0.0098, recall@k: 0.0321, MAP@k: 0.0111, MRR@k: 0.0235, NDCG@k: 0.0200, HitRate@k: 0.0698\n",
      "Epoch 29, train loss: 0.0069, test loss: 3.0115, precision@k: 0.0099, recall@k: 0.0324, MAP@k: 0.0113, MRR@k: 0.0239, NDCG@k: 0.0203, HitRate@k: 0.0707\n",
      "Epoch 30, train loss: 0.0072, test loss: 2.9840, precision@k: 0.0099, recall@k: 0.0324, MAP@k: 0.0114, MRR@k: 0.0241, NDCG@k: 0.0204, HitRate@k: 0.0708\n",
      "Epoch 31, train loss: 0.0063, test loss: 2.9592, precision@k: 0.0100, recall@k: 0.0329, MAP@k: 0.0117, MRR@k: 0.0247, NDCG@k: 0.0208, HitRate@k: 0.0720\n",
      "Epoch 32, train loss: 0.0071, test loss: 2.9405, precision@k: 0.0101, recall@k: 0.0334, MAP@k: 0.0117, MRR@k: 0.0249, NDCG@k: 0.0209, HitRate@k: 0.0728\n",
      "Epoch 33, train loss: 0.0062, test loss: 2.9261, precision@k: 0.0103, recall@k: 0.0339, MAP@k: 0.0118, MRR@k: 0.0250, NDCG@k: 0.0212, HitRate@k: 0.0740\n",
      "Epoch 34, train loss: 0.0065, test loss: 2.9156, precision@k: 0.0103, recall@k: 0.0340, MAP@k: 0.0119, MRR@k: 0.0251, NDCG@k: 0.0213, HitRate@k: 0.0743\n",
      "Epoch 35, train loss: 0.0064, test loss: 2.9075, precision@k: 0.0104, recall@k: 0.0342, MAP@k: 0.0120, MRR@k: 0.0252, NDCG@k: 0.0214, HitRate@k: 0.0744\n",
      "Epoch 36, train loss: 0.0068, test loss: 2.9024, precision@k: 0.0104, recall@k: 0.0344, MAP@k: 0.0122, MRR@k: 0.0255, NDCG@k: 0.0216, HitRate@k: 0.0750\n",
      "Epoch 37, train loss: 0.0059, test loss: 2.8969, precision@k: 0.0104, recall@k: 0.0346, MAP@k: 0.0123, MRR@k: 0.0257, NDCG@k: 0.0218, HitRate@k: 0.0751\n",
      "Epoch 38, train loss: 0.0056, test loss: 2.8917, precision@k: 0.0104, recall@k: 0.0348, MAP@k: 0.0124, MRR@k: 0.0258, NDCG@k: 0.0219, HitRate@k: 0.0748\n",
      "Epoch 39, train loss: 0.0063, test loss: 2.8876, precision@k: 0.0104, recall@k: 0.0348, MAP@k: 0.0123, MRR@k: 0.0257, NDCG@k: 0.0219, HitRate@k: 0.0749\n",
      "Epoch 40, train loss: 0.0065, test loss: 2.8842, precision@k: 0.0105, recall@k: 0.0349, MAP@k: 0.0123, MRR@k: 0.0257, NDCG@k: 0.0219, HitRate@k: 0.0751\n",
      "Epoch 41, train loss: 0.0063, test loss: 2.8805, precision@k: 0.0106, recall@k: 0.0351, MAP@k: 0.0123, MRR@k: 0.0257, NDCG@k: 0.0220, HitRate@k: 0.0758\n",
      "Epoch 42, train loss: 0.0059, test loss: 2.8789, precision@k: 0.0106, recall@k: 0.0351, MAP@k: 0.0123, MRR@k: 0.0257, NDCG@k: 0.0220, HitRate@k: 0.0756\n",
      "Epoch 43, train loss: 0.0058, test loss: 2.8780, precision@k: 0.0106, recall@k: 0.0352, MAP@k: 0.0123, MRR@k: 0.0257, NDCG@k: 0.0220, HitRate@k: 0.0755\n",
      "Epoch 44, train loss: 0.0064, test loss: 2.8779, precision@k: 0.0105, recall@k: 0.0352, MAP@k: 0.0123, MRR@k: 0.0256, NDCG@k: 0.0219, HitRate@k: 0.0751\n",
      "Epoch 45, train loss: 0.0066, test loss: 2.8794, precision@k: 0.0106, recall@k: 0.0352, MAP@k: 0.0123, MRR@k: 0.0257, NDCG@k: 0.0220, HitRate@k: 0.0751\n",
      "Epoch 46, train loss: 0.0060, test loss: 2.8835, precision@k: 0.0106, recall@k: 0.0353, MAP@k: 0.0123, MRR@k: 0.0258, NDCG@k: 0.0220, HitRate@k: 0.0758\n",
      "Epoch 47, train loss: 0.0062, test loss: 2.8875, precision@k: 0.0107, recall@k: 0.0356, MAP@k: 0.0124, MRR@k: 0.0258, NDCG@k: 0.0222, HitRate@k: 0.0765\n",
      "Epoch 48, train loss: 0.0064, test loss: 2.8901, precision@k: 0.0107, recall@k: 0.0357, MAP@k: 0.0124, MRR@k: 0.0260, NDCG@k: 0.0222, HitRate@k: 0.0767\n",
      "Epoch 49, train loss: 0.0054, test loss: 2.8922, precision@k: 0.0108, recall@k: 0.0356, MAP@k: 0.0124, MRR@k: 0.0260, NDCG@k: 0.0222, HitRate@k: 0.0769\n",
      "Epoch 50, train loss: 0.0061, test loss: 2.8955, precision@k: 0.0108, recall@k: 0.0358, MAP@k: 0.0124, MRR@k: 0.0260, NDCG@k: 0.0223, HitRate@k: 0.0768\n"
     ]
    }
   ],
   "source": [
    "results: list = list()\n",
    "for epoch in range(1, model_config['num_epochs'] + 1):\n",
    "    # ------ Train\n",
    "    train_loss: float = train(\n",
    "        model=model,\n",
    "        data=data,\n",
    "        optimizer=optimizer,\n",
    "        target_edge_type=target_edge_type,\n",
    "        target_node_type=target_node_type\n",
    "    )\n",
    "    # ------ Test\n",
    "    test_loss: float = test(\n",
    "        model=model,\n",
    "        data=data,\n",
    "        target_edge_type=target_edge_type,\n",
    "    )\n",
    "    scheduler.step(test_loss)\n",
    "    # ------ Evaluate\n",
    "    evaluation_results: dict = evaluate(\n",
    "        num_recommendations=model_config['num_recommendations'],\n",
    "        model=model,\n",
    "        data=data,\n",
    "        target_edge_type=target_edge_type,\n",
    "        target_node_type=target_node_type\n",
    "    )\n",
    "\n",
    "    # Save results\n",
    "    epoch_result = get_results(\n",
    "        epoch=epoch,\n",
    "        train_loss=train_loss,\n",
    "        test_loss=test_loss,\n",
    "        evaluation_results=evaluation_results\n",
    "    )\n",
    "    results.append(epoch_result)"
   ]
  },
  {
   "cell_type": "markdown",
   "id": "CIzjEI3R-eY-",
   "metadata": {
    "id": "CIzjEI3R-eY-"
   },
   "source": [
    "### Model evaluation"
   ]
  },
  {
   "cell_type": "code",
   "execution_count": 7,
   "id": "JHmrYAoF-dWh",
   "metadata": {
    "colab": {
     "base_uri": "https://localhost:8080/",
     "height": 472
    },
    "id": "JHmrYAoF-dWh",
    "outputId": "51b44a7b-4d40-4c23-8009-d3af553ed2e9"
   },
   "outputs": [],
   "source": [
    "results_df = pd.DataFrame(results)\n",
    "results_df.to_csv(f'../results/results_Model{model_name}.csv', index=False)"
   ]
  },
  {
   "cell_type": "code",
   "execution_count": 8,
   "id": "RwsZRSb828Ua",
   "metadata": {
    "colab": {
     "base_uri": "https://localhost:8080/",
     "height": 472
    },
    "id": "RwsZRSb828Ua",
    "outputId": "57cc0fe4-2411-44ed-cfc2-f41e6c682819"
   },
   "outputs": [
    {
     "data": {
      "image/png": "[encoded data removed]",
      "text/plain": [
       "<Figure size 640x480 with 1 Axes>"
      ]
     },
     "metadata": {},
     "output_type": "display_data"
    }
   ],
   "source": [
    "# Generate loss curve\n",
    "# Train loss\n",
    "sns.lineplot(data=results_df, x='Epoch', y='Train Loss')\n",
    "# Test loss\n",
    "sns.lineplot(data=results_df, x='Epoch', y='Test Loss')\n",
    "plt.xlabel('Epoch')\n",
    "plt.ylabel('Loss')\n",
    "plt.title('Loss curve')\n",
    "plt.yscale('log')\n",
    "plt.show()"
   ]
  },
  {
   "cell_type": "code",
   "execution_count": 9,
   "id": "QrRBTsA5vAs1",
   "metadata": {
    "colab": {
     "base_uri": "https://localhost:8080/"
    },
    "id": "QrRBTsA5vAs1",
    "outputId": "afffeb4f-f62c-4c48-cf69-c7cb5eb06f55"
   },
   "outputs": [
    {
     "data": {
      "image/png": "[encoded data removed]",
      "text/plain": [
       "<Figure size 640x480 with 1 Axes>"
      ]
     },
     "metadata": {},
     "output_type": "display_data"
    }
   ],
   "source": [
    "# Generate evaluation metrics plot\n",
    "sns.lineplot(data=results_df, x='Epoch', y='Precision@k')\n",
    "sns.lineplot(data=results_df, x='Epoch', y='Recall@k')\n",
    "sns.lineplot(data=results_df, x='Epoch', y='MAP@k')\n",
    "sns.lineplot(data=results_df, x='Epoch', y='MRR@k')\n",
    "sns.lineplot(data=results_df, x='Epoch', y='NDCG@k')\n",
    "sns.lineplot(data=results_df, x='Epoch', y='HitRate@k')\n",
    "plt.xlabel('Epoch')\n",
    "plt.ylabel('Performance')\n",
    "plt.title('Performance metrics')\n",
    "plt.show()"
   ]
  }
 ],
 "metadata": {
  "colab": {
   "collapsed_sections": [
    "ISUVX4hvFMKM",
    "aZQQpLqCFeGK",
    "2cXJ5OO10uxX"
   ],
   "name": "Collaboration Recommender 1.0 (Homogeneous).ipynb",
   "provenance": []
  },
  "kernelspec": {
   "display_name": "Python 3 (ipykernel)",
   "language": "python",
   "name": "python3"
  },
  "language_info": {
   "codemirror_mode": {
    "name": "ipython",
    "version": 3
   },
   "file_extension": ".py",
   "mimetype": "text/x-python",
   "name": "python",
   "nbconvert_exporter": "python",
   "pygments_lexer": "ipython3",
   "version": "3.12.3"
  }
 },
 "nbformat": 4,
 "nbformat_minor": 5
}
