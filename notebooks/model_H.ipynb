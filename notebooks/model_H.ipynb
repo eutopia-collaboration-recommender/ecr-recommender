{
 "cells": [
  {
   "cell_type": "markdown",
   "id": "zYPnKxIhFGVJ",
   "metadata": {
    "id": "zYPnKxIhFGVJ"
   },
   "source": [
    "# Model H\n",
    "\n",
    "This is a script showing results of **model H** in the ablation studies. The model is built using the following configuration:\n",
    "\n",
    "- **Backbone:** GATv2\n",
    "- **Graph type:** Heterogeneous\n",
    "- **Loss function:** Bayesian Personalized Ranking Loss\n",
    "- **Embeddings used:** Yes\n",
    "- **Research trends used:** No\n",
    "- **Lead author flag used:** No\n",
    "\n",
    "*This model introduces a heterogeneous version of the graph attention network backbone.*"
   ]
  },
  {
   "cell_type": "markdown",
   "id": "x7McZwR_FRta",
   "metadata": {
    "id": "x7McZwR_FRta"
   },
   "source": [
    "## **Setting up environment**\n",
    "\n",
    "---\n",
    "\n"
   ]
  },
  {
   "cell_type": "markdown",
   "id": "cD8tnTfC60X2",
   "metadata": {
    "id": "cD8tnTfC60X2"
   },
   "source": [
    "### Loading libraries"
   ]
  },
  {
   "cell_type": "code",
   "execution_count": 1,
   "id": "5okfWmvKEI3Z",
   "metadata": {
    "ExecuteTime": {
     "end_time": "2024-12-13T17:47:50.264742Z",
     "start_time": "2024-12-13T17:47:50.256254Z"
    },
    "id": "5okfWmvKEI3Z"
   },
   "outputs": [],
   "source": [
    "import os\n",
    "import sys\n",
    "\n",
    "sys.path.insert(0, os.path.abspath(\"..\"))\n",
    "\n",
    "import torch\n",
    "import pickle\n",
    "import pandas as pd\n",
    "import seaborn as sns\n",
    "import matplotlib.pyplot as plt\n",
    "\n",
    "from typing import Optional\n",
    "\n",
    "from torch import Tensor\n",
    "from torch.nn import ModuleList\n",
    "import torch.nn.functional as F\n",
    "import torch.nn.functional as F\n",
    "from torch.optim import Optimizer\n",
    "from torch_geometric.typing import Adj, OptTensor\n",
    "from torch_geometric.nn.conv import TransformerConv\n",
    "from torch.optim.lr_scheduler import LRScheduler\n",
    "\n",
    "from util.torch_geometric import get_results\n",
    "from util.heterogeneous.dataset import DatasetEuCoHT\n",
    "from util.heterogeneous.model import ModelEuCoHT\n",
    "from util.heterogeneous.train import (\n",
    "    train,\n",
    "    test,\n",
    "    evaluate\n",
    ")"
   ]
  },
  {
   "cell_type": "markdown",
   "id": "bQ_xqBiFn97Q",
   "metadata": {
    "id": "bQ_xqBiFn97Q"
   },
   "source": [
    "### Global variables"
   ]
  },
  {
   "cell_type": "code",
   "execution_count": 2,
   "id": "9r1K6ezsn97Q",
   "metadata": {
    "ExecuteTime": {
     "end_time": "2024-12-13T21:23:20.128019Z",
     "start_time": "2024-12-13T21:23:20.037264Z"
    },
    "id": "9r1K6ezsn97Q"
   },
   "outputs": [],
   "source": [
    "# Model name\n",
    "model_name = 'H'\n",
    "# Dataset save filepath\n",
    "dataset_save_filepath = '../data/dataset_heterogeneous.pkl'\n",
    "# Device name\n",
    "device = 'cpu'\n",
    "\n",
    "# Model configuration\n",
    "model_config = dict(\n",
    "    hidden_channels=64,\n",
    "    learning_rate=1e-3,\n",
    "    num_layers=4,\n",
    "    num_epochs=50,\n",
    "    num_recommendations=10,\n",
    "    include_linear_layers=True,\n",
    "    include_activation_layers=True\n",
    ")\n",
    "target_edge_type = ('author', 'co_authors', 'author')\n",
    "target_node_type = 'author'\n",
    "\n",
    "# Set seaborn theme\n",
    "sns.set_theme(style=\"whitegrid\", palette=\"pastel\")"
   ]
  },
  {
   "cell_type": "markdown",
   "id": "ISUVX4hvFMKM",
   "metadata": {
    "id": "ISUVX4hvFMKM"
   },
   "source": [
    "## Loading dataset\n",
    "\n",
    "---\n"
   ]
  },
  {
   "cell_type": "code",
   "execution_count": 3,
   "id": "3b608e9d-243a-46aa-a261-7ae3464093db",
   "metadata": {},
   "outputs": [
    {
     "name": "stderr",
     "output_type": "stream",
     "text": [
      "/home/eucollab/eutopia-colllaboration/ecr-recommender/.venv/lib/python3.12/site-packages/torch/storage.py:414: FutureWarning: You are using `torch.load` with `weights_only=False` (the current default value), which uses the default pickle module implicitly. It is possible to construct malicious pickle data which will execute arbitrary code during unpickling (See https://github.com/pytorch/pytorch/blob/main/SECURITY.md#untrusted-models for more details). In a future release, the default value for `weights_only` will be flipped to `True`. This limits the functions that could be executed during unpickling. Arbitrary objects will no longer be allowed to be loaded via this mode unless they are explicitly allowlisted by the user via `torch.serialization.add_safe_globals`. We recommend you start setting `weights_only=True` for any use case where you don't have full control of the loaded file. Please open an issue on GitHub for any issues related to this experimental feature.\n",
      "  return torch.load(io.BytesIO(b))\n"
     ]
    }
   ],
   "source": [
    "# Add the object as a safe global to shut down warning\n",
    "torch.serialization.add_safe_globals([DatasetEuCoHT])\n",
    "# Open the dataset file and save it to variable\n",
    "with open(dataset_save_filepath, 'rb') as file:\n",
    "    dataset: DatasetEuCoHT = pickle.load(file)\n",
    "\n",
    "data = dataset.data\n",
    "author_id_map = dataset.author_id_map\n",
    "author_node_id_map = dataset.author_node_id_map"
   ]
  },
  {
   "cell_type": "markdown",
   "id": "04vUews17zy8",
   "metadata": {
    "id": "04vUews17zy8"
   },
   "source": [
    "## Model training\n",
    "\n",
    "\n",
    "---\n",
    "\n"
   ]
  },
  {
   "cell_type": "markdown",
   "id": "IMCtMQz00wC_",
   "metadata": {
    "id": "IMCtMQz00wC_"
   },
   "source": [
    "### Model definition"
   ]
  },
  {
   "cell_type": "code",
   "execution_count": 4,
   "id": "TJaBxQX_7_3D",
   "metadata": {
    "ExecuteTime": {
     "end_time": "2024-12-13T21:28:22.411435Z",
     "start_time": "2024-12-13T21:28:22.248727Z"
    },
    "id": "TJaBxQX_7_3D"
   },
   "outputs": [],
   "source": [
    "class ModelEuCoH(ModelEuCoHT):\n",
    "    def __init__(self,\n",
    "                 input_channels: int,\n",
    "                 hidden_channels: int,\n",
    "                 num_layers: int,\n",
    "                 num_recommendations: int,\n",
    "                 author_node_id_map: dict,\n",
    "                 author_id_map: dict,\n",
    "                 include_linear_layers: bool,\n",
    "                 include_activation_layers: bool):\n",
    "        super().__init__(\n",
    "            hidden_channels=hidden_channels,\n",
    "            num_layers=num_layers,\n",
    "            num_recommendations=num_recommendations,\n",
    "            author_node_id_map=author_node_id_map,\n",
    "            author_id_map=author_id_map,\n",
    "            include_linear_layers=include_linear_layers,\n",
    "            include_activation_layers=include_activation_layers\n",
    "        )"
   ]
  },
  {
   "cell_type": "markdown",
   "id": "9XkKmZJC06IZ",
   "metadata": {
    "id": "9XkKmZJC06IZ"
   },
   "source": [
    "### Training the model"
   ]
  },
  {
   "cell_type": "code",
   "execution_count": 5,
   "id": "b4304b1f-ce07-411d-abc3-43011dd3a83b",
   "metadata": {},
   "outputs": [],
   "source": [
    "# Initialize the model\n",
    "model = ModelEuCoH(\n",
    "    input_channels=data.num_features,\n",
    "    hidden_channels=model_config['hidden_channels'],\n",
    "    num_recommendations=model_config['num_recommendations'],\n",
    "    num_layers=model_config['num_layers'],\n",
    "    author_node_id_map=author_node_id_map,\n",
    "    author_id_map=author_id_map,\n",
    "    include_linear_layers=model_config['include_linear_layers'],\n",
    "    include_activation_layers=model_config['include_activation_layers']\n",
    ").to(device)\n",
    "\n",
    "# Transfer to device\n",
    "data = data.to(device)\n",
    "\n",
    "# Initialize the optimizer\n",
    "optimizer: Optimizer = torch.optim.Adam(\n",
    "    params=model.parameters(),\n",
    "    lr=model_config['learning_rate']\n",
    ")\n",
    "\n",
    "# Initialize the scheduler\n",
    "scheduler: LRScheduler = torch.optim.lr_scheduler.ReduceLROnPlateau(\n",
    "    optimizer=optimizer,\n",
    "    mode='min',\n",
    "    factor=0.5,\n",
    "    patience=10\n",
    ")"
   ]
  },
  {
   "cell_type": "code",
   "execution_count": 6,
   "id": "379e5e3ea82af758",
   "metadata": {
    "ExecuteTime": {
     "end_time": "2024-12-13T21:30:55.180060Z",
     "start_time": "2024-12-13T21:30:52.430863Z"
    }
   },
   "outputs": [
    {
     "name": "stdout",
     "output_type": "stream",
     "text": [
      "Epoch 1, train loss: 0.0681, test loss: 8.0767, precision@k: 0.0001, recall@k: 0.0004, MAP@k: 0.0001, MRR@k: 0.0003, NDCG@k: 0.0003, HitRate@k: 0.0010\n",
      "Epoch 2, train loss: 0.0354, test loss: 5.8839, precision@k: 0.0005, recall@k: 0.0015, MAP@k: 0.0004, MRR@k: 0.0008, NDCG@k: 0.0008, HitRate@k: 0.0039\n",
      "Epoch 3, train loss: 0.0264, test loss: 4.7780, precision@k: 0.0014, recall@k: 0.0036, MAP@k: 0.0012, MRR@k: 0.0027, NDCG@k: 0.0023, HitRate@k: 0.0094\n",
      "Epoch 4, train loss: 0.0233, test loss: 4.1223, precision@k: 0.0026, recall@k: 0.0070, MAP@k: 0.0022, MRR@k: 0.0052, NDCG@k: 0.0043, HitRate@k: 0.0180\n",
      "Epoch 5, train loss: 0.0188, test loss: 3.8253, precision@k: 0.0038, recall@k: 0.0105, MAP@k: 0.0034, MRR@k: 0.0077, NDCG@k: 0.0065, HitRate@k: 0.0258\n",
      "Epoch 6, train loss: 0.0181, test loss: 3.7015, precision@k: 0.0043, recall@k: 0.0126, MAP@k: 0.0040, MRR@k: 0.0084, NDCG@k: 0.0076, HitRate@k: 0.0291\n",
      "Epoch 7, train loss: 0.0143, test loss: 3.7325, precision@k: 0.0048, recall@k: 0.0148, MAP@k: 0.0049, MRR@k: 0.0100, NDCG@k: 0.0090, HitRate@k: 0.0336\n",
      "Epoch 8, train loss: 0.0139, test loss: 3.7986, precision@k: 0.0049, recall@k: 0.0151, MAP@k: 0.0051, MRR@k: 0.0107, NDCG@k: 0.0094, HitRate@k: 0.0341\n",
      "Epoch 9, train loss: 0.0122, test loss: 3.8186, precision@k: 0.0050, recall@k: 0.0155, MAP@k: 0.0057, MRR@k: 0.0117, NDCG@k: 0.0100, HitRate@k: 0.0343\n",
      "Epoch 10, train loss: 0.0106, test loss: 3.8391, precision@k: 0.0049, recall@k: 0.0160, MAP@k: 0.0062, MRR@k: 0.0126, NDCG@k: 0.0105, HitRate@k: 0.0355\n",
      "Epoch 11, train loss: 0.0121, test loss: 3.8807, precision@k: 0.0053, recall@k: 0.0174, MAP@k: 0.0066, MRR@k: 0.0135, NDCG@k: 0.0114, HitRate@k: 0.0387\n",
      "Epoch 12, train loss: 0.0092, test loss: 3.9170, precision@k: 0.0058, recall@k: 0.0187, MAP@k: 0.0071, MRR@k: 0.0142, NDCG@k: 0.0122, HitRate@k: 0.0418\n",
      "Epoch 13, train loss: 0.0083, test loss: 3.9689, precision@k: 0.0059, recall@k: 0.0195, MAP@k: 0.0074, MRR@k: 0.0150, NDCG@k: 0.0127, HitRate@k: 0.0431\n",
      "Epoch 14, train loss: 0.0088, test loss: 4.0227, precision@k: 0.0061, recall@k: 0.0206, MAP@k: 0.0077, MRR@k: 0.0154, NDCG@k: 0.0133, HitRate@k: 0.0453\n",
      "Epoch 15, train loss: 0.0076, test loss: 4.0853, precision@k: 0.0064, recall@k: 0.0217, MAP@k: 0.0081, MRR@k: 0.0163, NDCG@k: 0.0139, HitRate@k: 0.0470\n",
      "Epoch 16, train loss: 0.0068, test loss: 4.1560, precision@k: 0.0067, recall@k: 0.0225, MAP@k: 0.0084, MRR@k: 0.0170, NDCG@k: 0.0145, HitRate@k: 0.0489\n",
      "Epoch 17, train loss: 0.0067, test loss: 4.2416, precision@k: 0.0067, recall@k: 0.0223, MAP@k: 0.0086, MRR@k: 0.0177, NDCG@k: 0.0147, HitRate@k: 0.0491\n",
      "Epoch 18, train loss: 0.0063, test loss: 4.1568, precision@k: 0.0070, recall@k: 0.0244, MAP@k: 0.0090, MRR@k: 0.0183, NDCG@k: 0.0156, HitRate@k: 0.0523\n",
      "Epoch 19, train loss: 0.0073, test loss: 4.0788, precision@k: 0.0073, recall@k: 0.0253, MAP@k: 0.0092, MRR@k: 0.0188, NDCG@k: 0.0160, HitRate@k: 0.0542\n",
      "Epoch 20, train loss: 0.0075, test loss: 3.9851, precision@k: 0.0075, recall@k: 0.0260, MAP@k: 0.0095, MRR@k: 0.0192, NDCG@k: 0.0165, HitRate@k: 0.0557\n",
      "Epoch 21, train loss: 0.0063, test loss: 3.9138, precision@k: 0.0077, recall@k: 0.0265, MAP@k: 0.0099, MRR@k: 0.0198, NDCG@k: 0.0170, HitRate@k: 0.0568\n",
      "Epoch 22, train loss: 0.0074, test loss: 3.8557, precision@k: 0.0082, recall@k: 0.0281, MAP@k: 0.0103, MRR@k: 0.0204, NDCG@k: 0.0177, HitRate@k: 0.0599\n",
      "Epoch 23, train loss: 0.0063, test loss: 3.8048, precision@k: 0.0083, recall@k: 0.0285, MAP@k: 0.0106, MRR@k: 0.0210, NDCG@k: 0.0181, HitRate@k: 0.0610\n",
      "Epoch 24, train loss: 0.0062, test loss: 3.7877, precision@k: 0.0085, recall@k: 0.0291, MAP@k: 0.0106, MRR@k: 0.0214, NDCG@k: 0.0184, HitRate@k: 0.0624\n",
      "Epoch 25, train loss: 0.0065, test loss: 3.7639, precision@k: 0.0086, recall@k: 0.0302, MAP@k: 0.0108, MRR@k: 0.0217, NDCG@k: 0.0189, HitRate@k: 0.0631\n",
      "Epoch 26, train loss: 0.0062, test loss: 3.7576, precision@k: 0.0087, recall@k: 0.0302, MAP@k: 0.0110, MRR@k: 0.0218, NDCG@k: 0.0190, HitRate@k: 0.0637\n",
      "Epoch 27, train loss: 0.0062, test loss: 3.7412, precision@k: 0.0087, recall@k: 0.0300, MAP@k: 0.0110, MRR@k: 0.0218, NDCG@k: 0.0190, HitRate@k: 0.0633\n",
      "Epoch 28, train loss: 0.0060, test loss: 3.7450, precision@k: 0.0093, recall@k: 0.0312, MAP@k: 0.0112, MRR@k: 0.0224, NDCG@k: 0.0197, HitRate@k: 0.0664\n",
      "Epoch 29, train loss: 0.0056, test loss: 3.7058, precision@k: 0.0095, recall@k: 0.0319, MAP@k: 0.0114, MRR@k: 0.0231, NDCG@k: 0.0200, HitRate@k: 0.0676\n",
      "Epoch 30, train loss: 0.0058, test loss: 3.6735, precision@k: 0.0095, recall@k: 0.0323, MAP@k: 0.0115, MRR@k: 0.0229, NDCG@k: 0.0202, HitRate@k: 0.0685\n",
      "Epoch 31, train loss: 0.0051, test loss: 3.6620, precision@k: 0.0096, recall@k: 0.0324, MAP@k: 0.0115, MRR@k: 0.0230, NDCG@k: 0.0202, HitRate@k: 0.0685\n",
      "Epoch 32, train loss: 0.0051, test loss: 3.6494, precision@k: 0.0097, recall@k: 0.0326, MAP@k: 0.0116, MRR@k: 0.0231, NDCG@k: 0.0204, HitRate@k: 0.0688\n",
      "Epoch 33, train loss: 0.0052, test loss: 3.6362, precision@k: 0.0097, recall@k: 0.0325, MAP@k: 0.0117, MRR@k: 0.0234, NDCG@k: 0.0204, HitRate@k: 0.0691\n",
      "Epoch 34, train loss: 0.0050, test loss: 3.6339, precision@k: 0.0097, recall@k: 0.0323, MAP@k: 0.0116, MRR@k: 0.0233, NDCG@k: 0.0203, HitRate@k: 0.0689\n",
      "Epoch 35, train loss: 0.0055, test loss: 3.6487, precision@k: 0.0097, recall@k: 0.0322, MAP@k: 0.0116, MRR@k: 0.0236, NDCG@k: 0.0203, HitRate@k: 0.0691\n",
      "Epoch 36, train loss: 0.0052, test loss: 3.6034, precision@k: 0.0099, recall@k: 0.0329, MAP@k: 0.0119, MRR@k: 0.0239, NDCG@k: 0.0208, HitRate@k: 0.0701\n",
      "Epoch 37, train loss: 0.0056, test loss: 3.5550, precision@k: 0.0101, recall@k: 0.0338, MAP@k: 0.0122, MRR@k: 0.0245, NDCG@k: 0.0213, HitRate@k: 0.0716\n",
      "Epoch 38, train loss: 0.0056, test loss: 3.5280, precision@k: 0.0101, recall@k: 0.0335, MAP@k: 0.0124, MRR@k: 0.0248, NDCG@k: 0.0214, HitRate@k: 0.0715\n",
      "Epoch 39, train loss: 0.0052, test loss: 3.5128, precision@k: 0.0102, recall@k: 0.0338, MAP@k: 0.0124, MRR@k: 0.0250, NDCG@k: 0.0216, HitRate@k: 0.0720\n",
      "Epoch 40, train loss: 0.0050, test loss: 3.5034, precision@k: 0.0102, recall@k: 0.0343, MAP@k: 0.0126, MRR@k: 0.0255, NDCG@k: 0.0219, HitRate@k: 0.0730\n",
      "Epoch 41, train loss: 0.0057, test loss: 3.4868, precision@k: 0.0103, recall@k: 0.0342, MAP@k: 0.0128, MRR@k: 0.0261, NDCG@k: 0.0221, HitRate@k: 0.0734\n",
      "Epoch 42, train loss: 0.0054, test loss: 3.4857, precision@k: 0.0104, recall@k: 0.0343, MAP@k: 0.0128, MRR@k: 0.0260, NDCG@k: 0.0221, HitRate@k: 0.0739\n",
      "Epoch 43, train loss: 0.0048, test loss: 3.4872, precision@k: 0.0105, recall@k: 0.0348, MAP@k: 0.0130, MRR@k: 0.0264, NDCG@k: 0.0224, HitRate@k: 0.0745\n",
      "Epoch 44, train loss: 0.0049, test loss: 3.4829, precision@k: 0.0106, recall@k: 0.0351, MAP@k: 0.0131, MRR@k: 0.0264, NDCG@k: 0.0226, HitRate@k: 0.0751\n",
      "Epoch 45, train loss: 0.0046, test loss: 3.4799, precision@k: 0.0107, recall@k: 0.0353, MAP@k: 0.0131, MRR@k: 0.0266, NDCG@k: 0.0227, HitRate@k: 0.0755\n",
      "Epoch 46, train loss: 0.0053, test loss: 3.4812, precision@k: 0.0108, recall@k: 0.0357, MAP@k: 0.0132, MRR@k: 0.0268, NDCG@k: 0.0228, HitRate@k: 0.0760\n",
      "Epoch 47, train loss: 0.0053, test loss: 3.4821, precision@k: 0.0108, recall@k: 0.0356, MAP@k: 0.0131, MRR@k: 0.0267, NDCG@k: 0.0228, HitRate@k: 0.0764\n",
      "Epoch 48, train loss: 0.0047, test loss: 3.4829, precision@k: 0.0108, recall@k: 0.0355, MAP@k: 0.0131, MRR@k: 0.0268, NDCG@k: 0.0228, HitRate@k: 0.0758\n",
      "Epoch 49, train loss: 0.0053, test loss: 3.4843, precision@k: 0.0107, recall@k: 0.0357, MAP@k: 0.0131, MRR@k: 0.0268, NDCG@k: 0.0228, HitRate@k: 0.0759\n",
      "Epoch 50, train loss: 0.0043, test loss: 3.4807, precision@k: 0.0107, recall@k: 0.0357, MAP@k: 0.0132, MRR@k: 0.0269, NDCG@k: 0.0228, HitRate@k: 0.0758\n"
     ]
    }
   ],
   "source": [
    "results: list = list()\n",
    "for epoch in range(1, model_config['num_epochs'] + 1):\n",
    "    # ------ Train\n",
    "    train_loss: float = train(\n",
    "        model=model,\n",
    "        data=data,\n",
    "        optimizer=optimizer,\n",
    "        target_edge_type=target_edge_type,\n",
    "        target_node_type=target_node_type\n",
    "    )\n",
    "    # ------ Test\n",
    "    test_loss: float = test(\n",
    "        model=model,\n",
    "        data=data,\n",
    "        target_edge_type=target_edge_type,\n",
    "    )\n",
    "    scheduler.step(test_loss)\n",
    "    # ------ Evaluate\n",
    "    evaluation_results: dict = evaluate(\n",
    "        num_recommendations=model_config['num_recommendations'],\n",
    "        model=model,\n",
    "        data=data,\n",
    "        target_edge_type=target_edge_type,\n",
    "        target_node_type=target_node_type\n",
    "    )\n",
    "\n",
    "    # Save results\n",
    "    epoch_result = get_results(\n",
    "        epoch=epoch,\n",
    "        train_loss=train_loss,\n",
    "        test_loss=test_loss,\n",
    "        evaluation_results=evaluation_results\n",
    "    )\n",
    "    results.append(epoch_result)"
   ]
  },
  {
   "cell_type": "markdown",
   "id": "CIzjEI3R-eY-",
   "metadata": {
    "id": "CIzjEI3R-eY-"
   },
   "source": [
    "### Model evaluation"
   ]
  },
  {
   "cell_type": "code",
   "execution_count": 10,
   "id": "JHmrYAoF-dWh",
   "metadata": {
    "colab": {
     "base_uri": "https://localhost:8080/",
     "height": 472
    },
    "id": "JHmrYAoF-dWh",
    "outputId": "51b44a7b-4d40-4c23-8009-d3af553ed2e9"
   },
   "outputs": [],
   "source": [
    "results_df = pd.DataFrame(results)\n",
    "results_df.to_csv(f'../results/results_Model{model_name}.csv', index=False)"
   ]
  },
  {
   "cell_type": "code",
   "execution_count": 11,
   "id": "RwsZRSb828Ua",
   "metadata": {
    "colab": {
     "base_uri": "https://localhost:8080/",
     "height": 472
    },
    "id": "RwsZRSb828Ua",
    "outputId": "57cc0fe4-2411-44ed-cfc2-f41e6c682819"
   },
   "outputs": [
    {
     "data": {
      "image/png": "[encoded data removed]",
      "text/plain": [
       "<Figure size 640x480 with 1 Axes>"
      ]
     },
     "metadata": {},
     "output_type": "display_data"
    }
   ],
   "source": [
    "# Generate loss curve\n",
    "# Train loss\n",
    "sns.lineplot(data=results_df, x='Epoch', y='Train Loss')\n",
    "# Test loss\n",
    "sns.lineplot(data=results_df, x='Epoch', y='Test Loss')\n",
    "plt.xlabel('Epoch')\n",
    "plt.ylabel('Loss')\n",
    "plt.title('Loss curve')\n",
    "plt.yscale('log')\n",
    "plt.show()"
   ]
  },
  {
   "cell_type": "code",
   "execution_count": 12,
   "id": "QrRBTsA5vAs1",
   "metadata": {
    "colab": {
     "base_uri": "https://localhost:8080/"
    },
    "id": "QrRBTsA5vAs1",
    "outputId": "afffeb4f-f62c-4c48-cf69-c7cb5eb06f55"
   },
   "outputs": [
    {
     "data": {
      "image/png": "[encoded data removed]",
      "text/plain": [
       "<Figure size 640x480 with 1 Axes>"
      ]
     },
     "metadata": {},
     "output_type": "display_data"
    }
   ],
   "source": [
    "# Generate evaluation metrics plot\n",
    "sns.lineplot(data=results_df, x='Epoch', y='Precision@k')\n",
    "sns.lineplot(data=results_df, x='Epoch', y='Recall@k')\n",
    "sns.lineplot(data=results_df, x='Epoch', y='MAP@k')\n",
    "sns.lineplot(data=results_df, x='Epoch', y='MRR@k')\n",
    "sns.lineplot(data=results_df, x='Epoch', y='NDCG@k')\n",
    "sns.lineplot(data=results_df, x='Epoch', y='HitRate@k')\n",
    "plt.xlabel('Epoch')\n",
    "plt.ylabel('Performance')\n",
    "plt.title('Performance metrics')\n",
    "plt.show()"
   ]
  }
 ],
 "metadata": {
  "colab": {
   "collapsed_sections": [
    "ISUVX4hvFMKM",
    "aZQQpLqCFeGK",
    "2cXJ5OO10uxX"
   ],
   "name": "Collaboration Recommender 1.0 (Homogeneous).ipynb",
   "provenance": []
  },
  "kernelspec": {
   "display_name": "Python 3 (ipykernel)",
   "language": "python",
   "name": "python3"
  },
  "language_info": {
   "codemirror_mode": {
    "name": "ipython",
    "version": 3
   },
   "file_extension": ".py",
   "mimetype": "text/x-python",
   "name": "python",
   "nbconvert_exporter": "python",
   "pygments_lexer": "ipython3",
   "version": "3.12.3"
  }
 },
 "nbformat": 4,
 "nbformat_minor": 5
}
