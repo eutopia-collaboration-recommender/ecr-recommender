{
 "cells": [
  {
   "cell_type": "markdown",
   "id": "zYPnKxIhFGVJ",
   "metadata": {
    "id": "zYPnKxIhFGVJ"
   },
   "source": [
    "# Model I\n",
    "\n",
    "This is a script showing results of **model I** in the ablation studies. The model is built using the following configuration:\n",
    "\n",
    "- **Backbone:** GATv2\n",
    "- **Graph type:** Homogeneous\n",
    "- **Loss function:** Bayesian personalized ranking\n",
    "- **Embeddings used:** periodical average\n",
    "- **Keyword popularity used:** No\n",
    "\n",
    "*This model upgrades the state-of-the-art graph neural network methodology with novel graph transformer approach.*"
   ]
  },
  {
   "cell_type": "markdown",
   "id": "x7McZwR_FRta",
   "metadata": {
    "id": "x7McZwR_FRta"
   },
   "source": [
    "## **Setting up environment**\n",
    "\n",
    "---\n",
    "\n"
   ]
  },
  {
   "cell_type": "markdown",
   "id": "cD8tnTfC60X2",
   "metadata": {
    "id": "cD8tnTfC60X2"
   },
   "source": [
    "### Loading libraries"
   ]
  },
  {
   "cell_type": "code",
   "execution_count": 1,
   "id": "5okfWmvKEI3Z",
   "metadata": {
    "ExecuteTime": {
     "end_time": "2024-12-13T17:47:50.264742Z",
     "start_time": "2024-12-13T17:47:50.256254Z"
    },
    "id": "5okfWmvKEI3Z"
   },
   "outputs": [],
   "source": [
    "import os\n",
    "import sys\n",
    "\n",
    "sys.path.insert(0, os.path.abspath(\"..\"))\n",
    "\n",
    "import torch\n",
    "import pickle\n",
    "import pandas as pd\n",
    "import seaborn as sns\n",
    "import matplotlib.pyplot as plt\n",
    "\n",
    "from typing import Optional\n",
    "\n",
    "from torch import Tensor\n",
    "from torch.nn import ModuleList\n",
    "from torch.optim import Optimizer\n",
    "from torch_geometric.typing import Adj, OptTensor\n",
    "from torch_geometric.nn.conv import TransformerConv\n",
    "from torch.optim.lr_scheduler import LRScheduler\n",
    "\n",
    "from util.torch_geometric import get_results\n",
    "from util.homogeneous.dataset import DatasetEuCoHM\n",
    "from util.homogeneous.model import ModelEuCoHM\n",
    "from util.homogeneous.train import (\n",
    "    train,\n",
    "    test,\n",
    "    evaluate\n",
    ")"
   ]
  },
  {
   "cell_type": "markdown",
   "id": "bQ_xqBiFn97Q",
   "metadata": {
    "id": "bQ_xqBiFn97Q"
   },
   "source": [
    "### Global variables"
   ]
  },
  {
   "cell_type": "code",
   "execution_count": 2,
   "id": "9r1K6ezsn97Q",
   "metadata": {
    "ExecuteTime": {
     "end_time": "2024-12-13T21:23:20.128019Z",
     "start_time": "2024-12-13T21:23:20.037264Z"
    },
    "id": "9r1K6ezsn97Q"
   },
   "outputs": [],
   "source": [
    "# Model name\n",
    "model_name = 'I'\n",
    "# Dataset save filepath\n",
    "dataset_save_filepath = '../data/dataset_homogeneous_periodical_decay.pkl'\n",
    "# Device name\n",
    "device = 'cpu'\n",
    "\n",
    "# Model configuration\n",
    "model_config = dict(\n",
    "    hidden_channels=128,\n",
    "    learning_rate=1e-3,\n",
    "    num_layers=4,\n",
    "    num_epochs=50,\n",
    "    num_recommendations=10\n",
    ")\n",
    "# Set seaborn theme\n",
    "sns.set_theme(style=\"whitegrid\", palette=\"pastel\")"
   ]
  },
  {
   "cell_type": "markdown",
   "id": "ISUVX4hvFMKM",
   "metadata": {
    "id": "ISUVX4hvFMKM"
   },
   "source": [
    "## Loading dataset\n",
    "\n",
    "---\n"
   ]
  },
  {
   "cell_type": "code",
   "execution_count": 3,
   "id": "3b608e9d-243a-46aa-a261-7ae3464093db",
   "metadata": {},
   "outputs": [
    {
     "name": "stderr",
     "output_type": "stream",
     "text": [
      "/home/eucollab/eutopia-colllaboration/ecr-recommender/.venv/lib/python3.12/site-packages/torch/storage.py:414: FutureWarning: You are using `torch.load` with `weights_only=False` (the current default value), which uses the default pickle module implicitly. It is possible to construct malicious pickle data which will execute arbitrary code during unpickling (See https://github.com/pytorch/pytorch/blob/main/SECURITY.md#untrusted-models for more details). In a future release, the default value for `weights_only` will be flipped to `True`. This limits the functions that could be executed during unpickling. Arbitrary objects will no longer be allowed to be loaded via this mode unless they are explicitly allowlisted by the user via `torch.serialization.add_safe_globals`. We recommend you start setting `weights_only=True` for any use case where you don't have full control of the loaded file. Please open an issue on GitHub for any issues related to this experimental feature.\n",
      "  return torch.load(io.BytesIO(b))\n"
     ]
    }
   ],
   "source": [
    "# Add the object as a safe global to shut down warning\n",
    "torch.serialization.add_safe_globals([DatasetEuCoHM])\n",
    "# Open the dataset file and save it to variable\n",
    "with open(dataset_save_filepath, 'rb') as file:\n",
    "    dataset: DatasetEuCoHM = pickle.load(file)\n",
    "\n",
    "data = dataset.data\n",
    "author_id_map = dataset.author_id_map\n",
    "author_node_id_map = dataset.author_node_id_map"
   ]
  },
  {
   "cell_type": "markdown",
   "id": "04vUews17zy8",
   "metadata": {
    "id": "04vUews17zy8"
   },
   "source": [
    "## Model training\n",
    "\n",
    "\n",
    "---\n",
    "\n"
   ]
  },
  {
   "cell_type": "markdown",
   "id": "IMCtMQz00wC_",
   "metadata": {
    "id": "IMCtMQz00wC_"
   },
   "source": [
    "### Model definition"
   ]
  },
  {
   "cell_type": "code",
   "execution_count": 4,
   "id": "TJaBxQX_7_3D",
   "metadata": {
    "ExecuteTime": {
     "end_time": "2024-12-13T21:28:22.411435Z",
     "start_time": "2024-12-13T21:28:22.248727Z"
    },
    "id": "TJaBxQX_7_3D"
   },
   "outputs": [],
   "source": [
    "class ModelEuCoI(ModelEuCoHM):\n",
    "    def __init__(self,\n",
    "                 input_channels: int,\n",
    "                 hidden_channels: int,\n",
    "                 num_layers: int,\n",
    "                 num_recommendations: int,\n",
    "                 author_node_id_map: dict,\n",
    "                 author_id_map: dict,\n",
    "                 device: str = 'cpu'):\n",
    "        super().__init__(\n",
    "            input_channels=input_channels,\n",
    "            hidden_channels=hidden_channels,\n",
    "            num_layers=num_layers,\n",
    "            num_recommendations=num_recommendations,\n",
    "            author_node_id_map=author_node_id_map,\n",
    "            author_id_map=author_id_map,\n",
    "            device=device\n",
    "        )\n",
    "\n",
    "    "
   ]
  },
  {
   "cell_type": "markdown",
   "id": "9XkKmZJC06IZ",
   "metadata": {
    "id": "9XkKmZJC06IZ"
   },
   "source": [
    "### Training the model"
   ]
  },
  {
   "cell_type": "code",
   "execution_count": 5,
   "id": "b4304b1f-ce07-411d-abc3-43011dd3a83b",
   "metadata": {},
   "outputs": [],
   "source": [
    "# Initialize the model\n",
    "model = ModelEuCoI(\n",
    "    input_channels=data.num_features,\n",
    "    hidden_channels=model_config['hidden_channels'],\n",
    "    num_recommendations=model_config['num_recommendations'],\n",
    "    num_layers=model_config['num_layers'],\n",
    "    author_node_id_map=author_node_id_map,\n",
    "    author_id_map=author_id_map\n",
    ").to(device)\n",
    "\n",
    "# Transfer to device\n",
    "data = data.to(device)\n",
    "\n",
    "# Initialize the optimizer\n",
    "optimizer: Optimizer = torch.optim.Adam(\n",
    "    params=model.parameters(),\n",
    "    lr=model_config['learning_rate']\n",
    ")\n",
    "\n",
    "# Initialize the scheduler\n",
    "scheduler: LRScheduler = torch.optim.lr_scheduler.ReduceLROnPlateau(\n",
    "    optimizer=optimizer,\n",
    "    mode='min',\n",
    "    factor=0.5,\n",
    "    patience=3\n",
    ")"
   ]
  },
  {
   "cell_type": "code",
   "execution_count": 6,
   "id": "379e5e3ea82af758",
   "metadata": {
    "ExecuteTime": {
     "end_time": "2024-12-13T21:30:55.180060Z",
     "start_time": "2024-12-13T21:30:52.430863Z"
    }
   },
   "outputs": [
    {
     "name": "stdout",
     "output_type": "stream",
     "text": [
      "Epoch 1, train loss: 0.0106, test loss: 0.0969, precision@k: 0.0671, recall@k: 0.2011, MAP@k: 0.1101, MRR@k: 0.1767, NDCG@k: 0.1542, HitRate@k: 0.3338\n",
      "Epoch 2, train loss: 0.0078, test loss: 0.0899, precision@k: 0.0694, recall@k: 0.2082, MAP@k: 0.1137, MRR@k: 0.1833, NDCG@k: 0.1595, HitRate@k: 0.3474\n",
      "Epoch 3, train loss: 0.0067, test loss: 0.0886, precision@k: 0.0707, recall@k: 0.2134, MAP@k: 0.1162, MRR@k: 0.1865, NDCG@k: 0.1629, HitRate@k: 0.3542\n",
      "Epoch 4, train loss: 0.0056, test loss: 0.0899, precision@k: 0.0710, recall@k: 0.2143, MAP@k: 0.1178, MRR@k: 0.1893, NDCG@k: 0.1646, HitRate@k: 0.3567\n",
      "Epoch 5, train loss: 0.0054, test loss: 0.0908, precision@k: 0.0706, recall@k: 0.2144, MAP@k: 0.1173, MRR@k: 0.1890, NDCG@k: 0.1643, HitRate@k: 0.3555\n",
      "Epoch 6, train loss: 0.0052, test loss: 0.0907, precision@k: 0.0711, recall@k: 0.2150, MAP@k: 0.1182, MRR@k: 0.1909, NDCG@k: 0.1655, HitRate@k: 0.3578\n",
      "Epoch 7, train loss: 0.0047, test loss: 0.0903, precision@k: 0.0719, recall@k: 0.2155, MAP@k: 0.1186, MRR@k: 0.1913, NDCG@k: 0.1660, HitRate@k: 0.3600\n",
      "Epoch 8, train loss: 0.0046, test loss: 0.0897, precision@k: 0.0722, recall@k: 0.2166, MAP@k: 0.1188, MRR@k: 0.1906, NDCG@k: 0.1664, HitRate@k: 0.3611\n",
      "Epoch 9, train loss: 0.0046, test loss: 0.0891, precision@k: 0.0720, recall@k: 0.2153, MAP@k: 0.1193, MRR@k: 0.1918, NDCG@k: 0.1666, HitRate@k: 0.3605\n",
      "Epoch 10, train loss: 0.0043, test loss: 0.0884, precision@k: 0.0727, recall@k: 0.2169, MAP@k: 0.1215, MRR@k: 0.1949, NDCG@k: 0.1688, HitRate@k: 0.3625\n",
      "Epoch 11, train loss: 0.0041, test loss: 0.0877, precision@k: 0.0732, recall@k: 0.2182, MAP@k: 0.1225, MRR@k: 0.1967, NDCG@k: 0.1700, HitRate@k: 0.3638\n",
      "Epoch 12, train loss: 0.0038, test loss: 0.0871, precision@k: 0.0735, recall@k: 0.2197, MAP@k: 0.1233, MRR@k: 0.1984, NDCG@k: 0.1711, HitRate@k: 0.3659\n",
      "Epoch 13, train loss: 0.0040, test loss: 0.0868, precision@k: 0.0737, recall@k: 0.2209, MAP@k: 0.1233, MRR@k: 0.1978, NDCG@k: 0.1714, HitRate@k: 0.3667\n",
      "Epoch 14, train loss: 0.0038, test loss: 0.0867, precision@k: 0.0738, recall@k: 0.2211, MAP@k: 0.1241, MRR@k: 0.1991, NDCG@k: 0.1721, HitRate@k: 0.3669\n",
      "Epoch 15, train loss: 0.0035, test loss: 0.0868, precision@k: 0.0740, recall@k: 0.2223, MAP@k: 0.1235, MRR@k: 0.1993, NDCG@k: 0.1721, HitRate@k: 0.3693\n",
      "Epoch 16, train loss: 0.0036, test loss: 0.0871, precision@k: 0.0742, recall@k: 0.2236, MAP@k: 0.1241, MRR@k: 0.1990, NDCG@k: 0.1727, HitRate@k: 0.3710\n",
      "Epoch 17, train loss: 0.0035, test loss: 0.0875, precision@k: 0.0745, recall@k: 0.2251, MAP@k: 0.1234, MRR@k: 0.1977, NDCG@k: 0.1726, HitRate@k: 0.3730\n",
      "Epoch 18, train loss: 0.0038, test loss: 0.0880, precision@k: 0.0746, recall@k: 0.2259, MAP@k: 0.1241, MRR@k: 0.1989, NDCG@k: 0.1733, HitRate@k: 0.3730\n",
      "Epoch 19, train loss: 0.0034, test loss: 0.0881, precision@k: 0.0747, recall@k: 0.2267, MAP@k: 0.1243, MRR@k: 0.1988, NDCG@k: 0.1736, HitRate@k: 0.3735\n",
      "Epoch 20, train loss: 0.0034, test loss: 0.0884, precision@k: 0.0746, recall@k: 0.2267, MAP@k: 0.1250, MRR@k: 0.2000, NDCG@k: 0.1742, HitRate@k: 0.3735\n",
      "Epoch 21, train loss: 0.0032, test loss: 0.0886, precision@k: 0.0747, recall@k: 0.2270, MAP@k: 0.1251, MRR@k: 0.2004, NDCG@k: 0.1745, HitRate@k: 0.3739\n",
      "Epoch 22, train loss: 0.0034, test loss: 0.0889, precision@k: 0.0748, recall@k: 0.2272, MAP@k: 0.1252, MRR@k: 0.2000, NDCG@k: 0.1745, HitRate@k: 0.3741\n",
      "Epoch 23, train loss: 0.0033, test loss: 0.0890, precision@k: 0.0747, recall@k: 0.2272, MAP@k: 0.1249, MRR@k: 0.1987, NDCG@k: 0.1742, HitRate@k: 0.3742\n",
      "Epoch 24, train loss: 0.0032, test loss: 0.0892, precision@k: 0.0748, recall@k: 0.2274, MAP@k: 0.1248, MRR@k: 0.1993, NDCG@k: 0.1742, HitRate@k: 0.3747\n",
      "Epoch 25, train loss: 0.0034, test loss: 0.0892, precision@k: 0.0748, recall@k: 0.2279, MAP@k: 0.1249, MRR@k: 0.1992, NDCG@k: 0.1743, HitRate@k: 0.3752\n",
      "Epoch 26, train loss: 0.0032, test loss: 0.0893, precision@k: 0.0748, recall@k: 0.2274, MAP@k: 0.1247, MRR@k: 0.1992, NDCG@k: 0.1741, HitRate@k: 0.3744\n",
      "Epoch 27, train loss: 0.0032, test loss: 0.0894, precision@k: 0.0748, recall@k: 0.2276, MAP@k: 0.1243, MRR@k: 0.1974, NDCG@k: 0.1737, HitRate@k: 0.3746\n",
      "Epoch 28, train loss: 0.0032, test loss: 0.0894, precision@k: 0.0748, recall@k: 0.2273, MAP@k: 0.1245, MRR@k: 0.1985, NDCG@k: 0.1739, HitRate@k: 0.3743\n",
      "Epoch 29, train loss: 0.0032, test loss: 0.0895, precision@k: 0.0748, recall@k: 0.2274, MAP@k: 0.1248, MRR@k: 0.1987, NDCG@k: 0.1742, HitRate@k: 0.3743\n",
      "Epoch 30, train loss: 0.0033, test loss: 0.0895, precision@k: 0.0749, recall@k: 0.2277, MAP@k: 0.1250, MRR@k: 0.1987, NDCG@k: 0.1743, HitRate@k: 0.3748\n",
      "Epoch 31, train loss: 0.0031, test loss: 0.0895, precision@k: 0.0748, recall@k: 0.2276, MAP@k: 0.1251, MRR@k: 0.1989, NDCG@k: 0.1744, HitRate@k: 0.3744\n",
      "Epoch 32, train loss: 0.0031, test loss: 0.0895, precision@k: 0.0748, recall@k: 0.2276, MAP@k: 0.1254, MRR@k: 0.1999, NDCG@k: 0.1747, HitRate@k: 0.3747\n",
      "Epoch 33, train loss: 0.0031, test loss: 0.0895, precision@k: 0.0749, recall@k: 0.2275, MAP@k: 0.1252, MRR@k: 0.1996, NDCG@k: 0.1746, HitRate@k: 0.3744\n",
      "Epoch 34, train loss: 0.0032, test loss: 0.0896, precision@k: 0.0749, recall@k: 0.2277, MAP@k: 0.1254, MRR@k: 0.1994, NDCG@k: 0.1747, HitRate@k: 0.3745\n",
      "Epoch 35, train loss: 0.0031, test loss: 0.0896, precision@k: 0.0749, recall@k: 0.2277, MAP@k: 0.1253, MRR@k: 0.1992, NDCG@k: 0.1746, HitRate@k: 0.3744\n",
      "Epoch 36, train loss: 0.0031, test loss: 0.0896, precision@k: 0.0748, recall@k: 0.2276, MAP@k: 0.1252, MRR@k: 0.1994, NDCG@k: 0.1746, HitRate@k: 0.3741\n",
      "Epoch 37, train loss: 0.0032, test loss: 0.0896, precision@k: 0.0748, recall@k: 0.2276, MAP@k: 0.1250, MRR@k: 0.1991, NDCG@k: 0.1744, HitRate@k: 0.3739\n",
      "Epoch 38, train loss: 0.0031, test loss: 0.0896, precision@k: 0.0748, recall@k: 0.2274, MAP@k: 0.1251, MRR@k: 0.1989, NDCG@k: 0.1743, HitRate@k: 0.3736\n",
      "Epoch 39, train loss: 0.0032, test loss: 0.0896, precision@k: 0.0748, recall@k: 0.2275, MAP@k: 0.1248, MRR@k: 0.1986, NDCG@k: 0.1742, HitRate@k: 0.3739\n",
      "Epoch 40, train loss: 0.0029, test loss: 0.0896, precision@k: 0.0748, recall@k: 0.2275, MAP@k: 0.1248, MRR@k: 0.1985, NDCG@k: 0.1741, HitRate@k: 0.3739\n",
      "Epoch 41, train loss: 0.0031, test loss: 0.0896, precision@k: 0.0748, recall@k: 0.2275, MAP@k: 0.1250, MRR@k: 0.1993, NDCG@k: 0.1744, HitRate@k: 0.3740\n",
      "Epoch 42, train loss: 0.0030, test loss: 0.0896, precision@k: 0.0748, recall@k: 0.2275, MAP@k: 0.1248, MRR@k: 0.1989, NDCG@k: 0.1742, HitRate@k: 0.3742\n",
      "Epoch 43, train loss: 0.0031, test loss: 0.0896, precision@k: 0.0747, recall@k: 0.2275, MAP@k: 0.1249, MRR@k: 0.1990, NDCG@k: 0.1742, HitRate@k: 0.3742\n",
      "Epoch 44, train loss: 0.0029, test loss: 0.0896, precision@k: 0.0748, recall@k: 0.2276, MAP@k: 0.1247, MRR@k: 0.1985, NDCG@k: 0.1741, HitRate@k: 0.3744\n",
      "Epoch 45, train loss: 0.0031, test loss: 0.0896, precision@k: 0.0748, recall@k: 0.2275, MAP@k: 0.1247, MRR@k: 0.1988, NDCG@k: 0.1741, HitRate@k: 0.3743\n",
      "Epoch 46, train loss: 0.0030, test loss: 0.0897, precision@k: 0.0748, recall@k: 0.2275, MAP@k: 0.1246, MRR@k: 0.1985, NDCG@k: 0.1741, HitRate@k: 0.3743\n",
      "Epoch 47, train loss: 0.0031, test loss: 0.0897, precision@k: 0.0748, recall@k: 0.2275, MAP@k: 0.1247, MRR@k: 0.1985, NDCG@k: 0.1741, HitRate@k: 0.3743\n",
      "Epoch 48, train loss: 0.0030, test loss: 0.0897, precision@k: 0.0748, recall@k: 0.2275, MAP@k: 0.1247, MRR@k: 0.1986, NDCG@k: 0.1741, HitRate@k: 0.3743\n",
      "Epoch 49, train loss: 0.0032, test loss: 0.0897, precision@k: 0.0748, recall@k: 0.2274, MAP@k: 0.1248, MRR@k: 0.1988, NDCG@k: 0.1742, HitRate@k: 0.3743\n",
      "Epoch 50, train loss: 0.0031, test loss: 0.0897, precision@k: 0.0748, recall@k: 0.2274, MAP@k: 0.1248, MRR@k: 0.1987, NDCG@k: 0.1741, HitRate@k: 0.3744\n"
     ]
    }
   ],
   "source": [
    "results: list = list()\n",
    "for epoch in range(1, model_config['num_epochs'] + 1):\n",
    "    # ------ Train\n",
    "    train_loss: float = train(\n",
    "        model=model,\n",
    "        data=data,\n",
    "        optimizer=optimizer\n",
    "    )\n",
    "    # ------ Test\n",
    "    test_loss: float = test(\n",
    "        model=model,\n",
    "        data=data\n",
    "    )\n",
    "    scheduler.step(test_loss)\n",
    "    # ------ Evaluate\n",
    "    evaluation_results: dict = evaluate(\n",
    "        k=model_config['num_recommendations'],\n",
    "        model=model,\n",
    "        data=data\n",
    "    )\n",
    "\n",
    "    # Save results\n",
    "    epoch_result = get_results(\n",
    "        epoch=epoch,\n",
    "        train_loss=train_loss,\n",
    "        test_loss=test_loss,\n",
    "        evaluation_results=evaluation_results\n",
    "    )\n",
    "    results.append(epoch_result)"
   ]
  },
  {
   "cell_type": "markdown",
   "id": "CIzjEI3R-eY-",
   "metadata": {
    "id": "CIzjEI3R-eY-"
   },
   "source": [
    "### Model evaluation"
   ]
  },
  {
   "cell_type": "code",
   "execution_count": 10,
   "id": "JHmrYAoF-dWh",
   "metadata": {
    "colab": {
     "base_uri": "https://localhost:8080/",
     "height": 472
    },
    "id": "JHmrYAoF-dWh",
    "outputId": "51b44a7b-4d40-4c23-8009-d3af553ed2e9"
   },
   "outputs": [],
   "source": [
    "results_df = pd.DataFrame(results)\n",
    "results_df.to_csv(f'../results/results_Model{model_name}.csv', index=False)"
   ]
  },
  {
   "cell_type": "code",
   "execution_count": 11,
   "id": "RwsZRSb828Ua",
   "metadata": {
    "colab": {
     "base_uri": "https://localhost:8080/",
     "height": 472
    },
    "id": "RwsZRSb828Ua",
    "outputId": "57cc0fe4-2411-44ed-cfc2-f41e6c682819"
   },
   "outputs": [
    {
     "data": {
      "image/png": "[encoded data removed]",
      "text/plain": [
       "<Figure size 640x480 with 1 Axes>"
      ]
     },
     "metadata": {},
     "output_type": "display_data"
    }
   ],
   "source": [
    "# Generate loss curve\n",
    "# Train loss\n",
    "sns.lineplot(data=results_df, x='Epoch', y='Train Loss')\n",
    "# Test loss\n",
    "sns.lineplot(data=results_df, x='Epoch', y='Test Loss')\n",
    "plt.xlabel('Epoch')\n",
    "plt.ylabel('Loss')\n",
    "plt.title('Loss curve')\n",
    "plt.yscale('log')\n",
    "plt.show()"
   ]
  },
  {
   "cell_type": "code",
   "execution_count": 12,
   "id": "QrRBTsA5vAs1",
   "metadata": {
    "colab": {
     "base_uri": "https://localhost:8080/"
    },
    "id": "QrRBTsA5vAs1",
    "outputId": "afffeb4f-f62c-4c48-cf69-c7cb5eb06f55"
   },
   "outputs": [
    {
     "data": {
      "image/png": "[encoded data removed]",
      "text/plain": [
       "<Figure size 640x480 with 1 Axes>"
      ]
     },
     "metadata": {},
     "output_type": "display_data"
    }
   ],
   "source": [
    "# Generate evaluation metrics plot\n",
    "sns.lineplot(data=results_df, x='Epoch', y='Precision@k')\n",
    "sns.lineplot(data=results_df, x='Epoch', y='Recall@k')\n",
    "sns.lineplot(data=results_df, x='Epoch', y='MAP@k')\n",
    "sns.lineplot(data=results_df, x='Epoch', y='MRR@k')\n",
    "sns.lineplot(data=results_df, x='Epoch', y='NDCG@k')\n",
    "sns.lineplot(data=results_df, x='Epoch', y='HitRate@k')\n",
    "plt.xlabel('Epoch')\n",
    "plt.ylabel('Performance')\n",
    "plt.title('Performance metrics')\n",
    "plt.show()"
   ]
  }
 ],
 "metadata": {
  "colab": {
   "collapsed_sections": [
    "ISUVX4hvFMKM",
    "aZQQpLqCFeGK",
    "2cXJ5OO10uxX"
   ],
   "name": "Collaboration Recommender 1.0 (Homogeneous).ipynb",
   "provenance": []
  },
  "kernelspec": {
   "display_name": "Python 3 (ipykernel)",
   "language": "python",
   "name": "python3"
  },
  "language_info": {
   "codemirror_mode": {
    "name": "ipython",
    "version": 3
   },
   "file_extension": ".py",
   "mimetype": "text/x-python",
   "name": "python",
   "nbconvert_exporter": "python",
   "pygments_lexer": "ipython3",
   "version": "3.12.3"
  }
 },
 "nbformat": 4,
 "nbformat_minor": 5
}
