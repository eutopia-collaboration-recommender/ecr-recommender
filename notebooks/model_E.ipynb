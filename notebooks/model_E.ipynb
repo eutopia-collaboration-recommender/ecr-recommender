{
 "cells": [
  {
   "cell_type": "markdown",
   "id": "zYPnKxIhFGVJ",
   "metadata": {
    "id": "zYPnKxIhFGVJ"
   },
   "source": [
    "# Model E\n",
    "\n",
    "This is a script showing results of **model E** in the ablation studies. The model is built using the following configuration:\n",
    "\n",
    "- **Backbone:** GATv2\n",
    "- **Graph type:** Homogeneous\n",
    "- **Loss function:** Binary-Cross Entropy with Logits Loss\n",
    "- **Embeddings used:** Yes\n",
    "- **Research trends used:** No\n",
    "- **Lead author flag used:** No\n",
    "\n",
    "*This model introduces a baseline loss function Binary-Cross Entropy with Logits loss to compare against Bayesian Personalized Ranking on graph attention network backbone.*"
   ]
  },
  {
   "cell_type": "markdown",
   "id": "x7McZwR_FRta",
   "metadata": {
    "id": "x7McZwR_FRta"
   },
   "source": [
    "## **Setting up environment**\n",
    "\n",
    "---\n",
    "\n"
   ]
  },
  {
   "cell_type": "markdown",
   "id": "cD8tnTfC60X2",
   "metadata": {
    "id": "cD8tnTfC60X2"
   },
   "source": [
    "### Loading libraries"
   ]
  },
  {
   "cell_type": "code",
   "execution_count": 39,
   "id": "5okfWmvKEI3Z",
   "metadata": {
    "ExecuteTime": {
     "end_time": "2024-12-13T17:47:50.264742Z",
     "start_time": "2024-12-13T17:47:50.256254Z"
    },
    "id": "5okfWmvKEI3Z"
   },
   "outputs": [],
   "source": [
    "import os\n",
    "import sys\n",
    "\n",
    "sys.path.insert(0, os.path.abspath(\"..\"))\n",
    "\n",
    "import torch\n",
    "import pickle\n",
    "import pandas as pd\n",
    "import seaborn as sns\n",
    "import matplotlib.pyplot as plt\n",
    "\n",
    "from typing import Optional\n",
    "\n",
    "from torch import Tensor\n",
    "from torch.nn import ModuleList\n",
    "import torch.nn.functional as F\n",
    "from torch.optim import Optimizer\n",
    "from torch_geometric.typing import Adj, OptTensor\n",
    "from torch_geometric.nn.conv import GATv2Conv\n",
    "from torch.optim.lr_scheduler import LRScheduler\n",
    "\n",
    "from util.homogeneous.dataset import DatasetEuCoHM\n",
    "from util.homogeneous.model import ModelEuCoHM\n",
    "from util.homogeneous.train import (\n",
    "    train,\n",
    "    test,\n",
    "    evaluate,\n",
    "    get_results\n",
    ")"
   ]
  },
  {
   "cell_type": "markdown",
   "id": "bQ_xqBiFn97Q",
   "metadata": {
    "id": "bQ_xqBiFn97Q"
   },
   "source": [
    "### Global variables"
   ]
  },
  {
   "cell_type": "code",
   "execution_count": 7,
   "id": "9r1K6ezsn97Q",
   "metadata": {
    "ExecuteTime": {
     "end_time": "2024-12-13T21:23:20.128019Z",
     "start_time": "2024-12-13T21:23:20.037264Z"
    },
    "id": "9r1K6ezsn97Q"
   },
   "outputs": [],
   "source": [
    "# Model name\n",
    "model_name = 'E'\n",
    "# Dataset save filepath\n",
    "dataset_save_filepath = '../data/dataset_homogeneous.pkl'\n",
    "# Device name\n",
    "device = 'cpu'\n",
    "\n",
    "# Model configuration\n",
    "model_config = dict(\n",
    "    hidden_channels=64,\n",
    "    learning_rate=1e-3,\n",
    "    num_layers=4,\n",
    "    num_epochs=50,\n",
    "    num_recommendations=10\n",
    ")\n",
    "# Set seaborn theme\n",
    "sns.set_theme(style=\"whitegrid\", palette=\"pastel\")"
   ]
  },
  {
   "cell_type": "markdown",
   "id": "ISUVX4hvFMKM",
   "metadata": {
    "id": "ISUVX4hvFMKM"
   },
   "source": [
    "## Loading dataset\n",
    "\n",
    "---\n"
   ]
  },
  {
   "cell_type": "code",
   "execution_count": 8,
   "id": "3b608e9d-243a-46aa-a261-7ae3464093db",
   "metadata": {},
   "outputs": [
    {
     "name": "stderr",
     "output_type": "stream",
     "text": [
      "/home/eucollab/eutopia-colllaboration/ecr-recommender/.venv/lib/python3.12/site-packages/torch/storage.py:414: FutureWarning: You are using `torch.load` with `weights_only=False` (the current default value), which uses the default pickle module implicitly. It is possible to construct malicious pickle data which will execute arbitrary code during unpickling (See https://github.com/pytorch/pytorch/blob/main/SECURITY.md#untrusted-models for more details). In a future release, the default value for `weights_only` will be flipped to `True`. This limits the functions that could be executed during unpickling. Arbitrary objects will no longer be allowed to be loaded via this mode unless they are explicitly allowlisted by the user via `torch.serialization.add_safe_globals`. We recommend you start setting `weights_only=True` for any use case where you don't have full control of the loaded file. Please open an issue on GitHub for any issues related to this experimental feature.\n",
      "  return torch.load(io.BytesIO(b))\n"
     ]
    }
   ],
   "source": [
    "# Add the object as a safe global to shut down warning\n",
    "torch.serialization.add_safe_globals([DatasetEuCoHM])\n",
    "# Open the dataset file and save it to variable\n",
    "with open(dataset_save_filepath, 'rb') as file:\n",
    "    dataset: DatasetEuCoHM = pickle.load(file)\n",
    "\n",
    "data = dataset.data\n",
    "author_id_map = dataset.author_id_map\n",
    "author_node_id_map = dataset.author_node_id_map"
   ]
  },
  {
   "cell_type": "markdown",
   "id": "04vUews17zy8",
   "metadata": {
    "id": "04vUews17zy8"
   },
   "source": [
    "## Model training\n",
    "\n",
    "\n",
    "---\n",
    "\n"
   ]
  },
  {
   "cell_type": "markdown",
   "id": "IMCtMQz00wC_",
   "metadata": {
    "id": "IMCtMQz00wC_"
   },
   "source": [
    "### Model definition"
   ]
  },
  {
   "cell_type": "code",
   "execution_count": 40,
   "id": "TJaBxQX_7_3D",
   "metadata": {
    "ExecuteTime": {
     "end_time": "2024-12-13T21:28:22.411435Z",
     "start_time": "2024-12-13T21:28:22.248727Z"
    },
    "id": "TJaBxQX_7_3D"
   },
   "outputs": [],
   "source": [
    "class ModelEuCoE(ModelEuCoHM):\n",
    "    def __init__(self,\n",
    "                 input_channels: int,\n",
    "                 hidden_channels: int,\n",
    "                 num_layers: int,\n",
    "                 num_recommendations: int,\n",
    "                 author_node_id_map: dict,\n",
    "                 author_id_map: dict,\n",
    "                 device: str = 'cpu'):\n",
    "        super().__init__(\n",
    "            input_channels=input_channels,\n",
    "            hidden_channels=hidden_channels,\n",
    "            num_layers=num_layers,\n",
    "            num_recommendations=num_recommendations,\n",
    "            author_node_id_map=author_node_id_map,\n",
    "            author_id_map=author_id_map,\n",
    "            device=device\n",
    "        )\n",
    "\n",
    "    \n",
    "    def recommendation_loss(self,\n",
    "                            x: Tensor,\n",
    "                            edge_index: Adj,\n",
    "                            pos_edge_rank: Tensor,\n",
    "                            neg_edge_rank: Tensor,\n",
    "                            node_id: Optional[Tensor] = None) -> Tensor:\n",
    "\n",
    "        # Construct labels\n",
    "        pos_labels = pos_edge_rank.new_ones(pos_edge_rank.size(0))\n",
    "        neg_labels = neg_edge_rank.new_zeros(neg_edge_rank.size(0))\n",
    "\n",
    "        # Concatenate predictions and labels\n",
    "        all_preds = torch.cat([pos_edge_rank, neg_edge_rank], dim=0)\n",
    "        all_labels = torch.cat([pos_labels, neg_labels], dim=0)\n",
    "\n",
    "        # Compute BCE loss\n",
    "        bce_loss = F.binary_cross_entropy_with_logits(all_preds, all_labels)\n",
    "\n",
    "        return bce_loss"
   ]
  },
  {
   "cell_type": "markdown",
   "id": "9XkKmZJC06IZ",
   "metadata": {
    "id": "9XkKmZJC06IZ"
   },
   "source": [
    "### Training the model"
   ]
  },
  {
   "cell_type": "code",
   "execution_count": 41,
   "id": "b4304b1f-ce07-411d-abc3-43011dd3a83b",
   "metadata": {},
   "outputs": [],
   "source": [
    "# Initialize the model\n",
    "model = ModelEuCoE(\n",
    "    input_channels=data.num_features,\n",
    "    hidden_channels=model_config['hidden_channels'],\n",
    "    num_recommendations=model_config['num_recommendations'],\n",
    "    num_layers=model_config['num_layers'],\n",
    "    author_node_id_map=author_node_id_map,\n",
    "    author_id_map=author_id_map\n",
    ").to(device)\n",
    "\n",
    "# Transfer to device\n",
    "data = data.to(device)\n",
    "\n",
    "# Initialize the optimizer\n",
    "optimizer: Optimizer = torch.optim.Adam(\n",
    "    params=model.parameters(),\n",
    "    lr=model_config['learning_rate']\n",
    ")\n",
    "\n",
    "# Initialize the scheduler\n",
    "scheduler: LRScheduler = torch.optim.lr_scheduler.ReduceLROnPlateau(\n",
    "    optimizer=optimizer,\n",
    "    mode='min',\n",
    "    factor=0.5,\n",
    "    patience=10\n",
    ")"
   ]
  },
  {
   "cell_type": "code",
   "execution_count": 42,
   "id": "379e5e3ea82af758",
   "metadata": {
    "ExecuteTime": {
     "end_time": "2024-12-13T21:30:55.180060Z",
     "start_time": "2024-12-13T21:30:52.430863Z"
    }
   },
   "outputs": [
    {
     "name": "stdout",
     "output_type": "stream",
     "text": [
      "Epoch 1, train loss: 0.5892, test loss: 0.6977, precision@k: 0.0945, recall@k: 0.1942, MAP@k: 0.1185, MRR@k: 0.1902, NDCG@k: 0.1645, HitRate@k: 0.3497\n",
      "Epoch 2, train loss: 0.5145, test loss: 0.6102, precision@k: 0.0992, recall@k: 0.2054, MAP@k: 0.1268, MRR@k: 0.1995, NDCG@k: 0.1743, HitRate@k: 0.3632\n",
      "Epoch 3, train loss: 0.4759, test loss: 0.5565, precision@k: 0.1024, recall@k: 0.2162, MAP@k: 0.1323, MRR@k: 0.2079, NDCG@k: 0.1819, HitRate@k: 0.3791\n",
      "Epoch 4, train loss: 0.4530, test loss: 0.5239, precision@k: 0.1043, recall@k: 0.2231, MAP@k: 0.1363, MRR@k: 0.2127, NDCG@k: 0.1870, HitRate@k: 0.3878\n",
      "Epoch 5, train loss: 0.4385, test loss: 0.5045, precision@k: 0.1053, recall@k: 0.2273, MAP@k: 0.1389, MRR@k: 0.2146, NDCG@k: 0.1900, HitRate@k: 0.3928\n",
      "Epoch 6, train loss: 0.4304, test loss: 0.4907, precision@k: 0.1068, recall@k: 0.2319, MAP@k: 0.1413, MRR@k: 0.2172, NDCG@k: 0.1932, HitRate@k: 0.3988\n",
      "Epoch 7, train loss: 0.4221, test loss: 0.4796, precision@k: 0.1084, recall@k: 0.2354, MAP@k: 0.1439, MRR@k: 0.2195, NDCG@k: 0.1963, HitRate@k: 0.4036\n",
      "Epoch 8, train loss: 0.4187, test loss: 0.4700, precision@k: 0.1101, recall@k: 0.2395, MAP@k: 0.1468, MRR@k: 0.2233, NDCG@k: 0.1999, HitRate@k: 0.4095\n",
      "Epoch 9, train loss: 0.4145, test loss: 0.4617, precision@k: 0.1128, recall@k: 0.2442, MAP@k: 0.1506, MRR@k: 0.2279, NDCG@k: 0.2044, HitRate@k: 0.4171\n",
      "Epoch 10, train loss: 0.4126, test loss: 0.4543, precision@k: 0.1138, recall@k: 0.2470, MAP@k: 0.1529, MRR@k: 0.2312, NDCG@k: 0.2072, HitRate@k: 0.4207\n",
      "Epoch 11, train loss: 0.4108, test loss: 0.4476, precision@k: 0.1150, recall@k: 0.2501, MAP@k: 0.1548, MRR@k: 0.2342, NDCG@k: 0.2098, HitRate@k: 0.4249\n",
      "Epoch 12, train loss: 0.4081, test loss: 0.4419, precision@k: 0.1165, recall@k: 0.2553, MAP@k: 0.1575, MRR@k: 0.2385, NDCG@k: 0.2135, HitRate@k: 0.4309\n",
      "Epoch 13, train loss: 0.4073, test loss: 0.4370, precision@k: 0.1174, recall@k: 0.2585, MAP@k: 0.1595, MRR@k: 0.2417, NDCG@k: 0.2162, HitRate@k: 0.4353\n",
      "Epoch 14, train loss: 0.4058, test loss: 0.4331, precision@k: 0.1182, recall@k: 0.2617, MAP@k: 0.1613, MRR@k: 0.2451, NDCG@k: 0.2187, HitRate@k: 0.4393\n",
      "Epoch 15, train loss: 0.4041, test loss: 0.4300, precision@k: 0.1190, recall@k: 0.2650, MAP@k: 0.1627, MRR@k: 0.2476, NDCG@k: 0.2209, HitRate@k: 0.4449\n",
      "Epoch 16, train loss: 0.4036, test loss: 0.4276, precision@k: 0.1198, recall@k: 0.2671, MAP@k: 0.1635, MRR@k: 0.2487, NDCG@k: 0.2221, HitRate@k: 0.4470\n",
      "Epoch 17, train loss: 0.4022, test loss: 0.4257, precision@k: 0.1202, recall@k: 0.2688, MAP@k: 0.1644, MRR@k: 0.2504, NDCG@k: 0.2234, HitRate@k: 0.4502\n",
      "Epoch 18, train loss: 0.4014, test loss: 0.4241, precision@k: 0.1207, recall@k: 0.2694, MAP@k: 0.1646, MRR@k: 0.2502, NDCG@k: 0.2237, HitRate@k: 0.4500\n",
      "Epoch 19, train loss: 0.4001, test loss: 0.4226, precision@k: 0.1207, recall@k: 0.2696, MAP@k: 0.1644, MRR@k: 0.2501, NDCG@k: 0.2237, HitRate@k: 0.4499\n",
      "Epoch 20, train loss: 0.3994, test loss: 0.4212, precision@k: 0.1208, recall@k: 0.2701, MAP@k: 0.1648, MRR@k: 0.2507, NDCG@k: 0.2242, HitRate@k: 0.4508\n",
      "Epoch 21, train loss: 0.3987, test loss: 0.4198, precision@k: 0.1211, recall@k: 0.2711, MAP@k: 0.1648, MRR@k: 0.2505, NDCG@k: 0.2245, HitRate@k: 0.4513\n",
      "Epoch 22, train loss: 0.3977, test loss: 0.4184, precision@k: 0.1210, recall@k: 0.2719, MAP@k: 0.1650, MRR@k: 0.2507, NDCG@k: 0.2247, HitRate@k: 0.4520\n",
      "Epoch 23, train loss: 0.3980, test loss: 0.4171, precision@k: 0.1211, recall@k: 0.2729, MAP@k: 0.1660, MRR@k: 0.2520, NDCG@k: 0.2258, HitRate@k: 0.4529\n",
      "Epoch 24, train loss: 0.3960, test loss: 0.4159, precision@k: 0.1213, recall@k: 0.2749, MAP@k: 0.1665, MRR@k: 0.2532, NDCG@k: 0.2267, HitRate@k: 0.4550\n",
      "Epoch 25, train loss: 0.3959, test loss: 0.4149, precision@k: 0.1213, recall@k: 0.2751, MAP@k: 0.1666, MRR@k: 0.2542, NDCG@k: 0.2270, HitRate@k: 0.4552\n",
      "Epoch 26, train loss: 0.3951, test loss: 0.4140, precision@k: 0.1215, recall@k: 0.2757, MAP@k: 0.1673, MRR@k: 0.2549, NDCG@k: 0.2277, HitRate@k: 0.4565\n",
      "Epoch 27, train loss: 0.3949, test loss: 0.4132, precision@k: 0.1216, recall@k: 0.2759, MAP@k: 0.1678, MRR@k: 0.2555, NDCG@k: 0.2281, HitRate@k: 0.4567\n",
      "Epoch 28, train loss: 0.3942, test loss: 0.4124, precision@k: 0.1220, recall@k: 0.2772, MAP@k: 0.1684, MRR@k: 0.2563, NDCG@k: 0.2289, HitRate@k: 0.4579\n",
      "Epoch 29, train loss: 0.3936, test loss: 0.4117, precision@k: 0.1223, recall@k: 0.2776, MAP@k: 0.1687, MRR@k: 0.2565, NDCG@k: 0.2293, HitRate@k: 0.4571\n",
      "Epoch 30, train loss: 0.3931, test loss: 0.4110, precision@k: 0.1223, recall@k: 0.2777, MAP@k: 0.1692, MRR@k: 0.2572, NDCG@k: 0.2297, HitRate@k: 0.4576\n",
      "Epoch 31, train loss: 0.3921, test loss: 0.4103, precision@k: 0.1227, recall@k: 0.2794, MAP@k: 0.1697, MRR@k: 0.2576, NDCG@k: 0.2306, HitRate@k: 0.4605\n",
      "Epoch 32, train loss: 0.3916, test loss: 0.4097, precision@k: 0.1230, recall@k: 0.2801, MAP@k: 0.1697, MRR@k: 0.2570, NDCG@k: 0.2307, HitRate@k: 0.4614\n",
      "Epoch 33, train loss: 0.3908, test loss: 0.4091, precision@k: 0.1233, recall@k: 0.2811, MAP@k: 0.1698, MRR@k: 0.2576, NDCG@k: 0.2311, HitRate@k: 0.4625\n",
      "Epoch 34, train loss: 0.3902, test loss: 0.4085, precision@k: 0.1234, recall@k: 0.2801, MAP@k: 0.1699, MRR@k: 0.2572, NDCG@k: 0.2309, HitRate@k: 0.4605\n",
      "Epoch 35, train loss: 0.3899, test loss: 0.4080, precision@k: 0.1236, recall@k: 0.2810, MAP@k: 0.1703, MRR@k: 0.2573, NDCG@k: 0.2314, HitRate@k: 0.4611\n",
      "Epoch 36, train loss: 0.3900, test loss: 0.4076, precision@k: 0.1238, recall@k: 0.2815, MAP@k: 0.1709, MRR@k: 0.2578, NDCG@k: 0.2319, HitRate@k: 0.4615\n",
      "Epoch 37, train loss: 0.3892, test loss: 0.4072, precision@k: 0.1238, recall@k: 0.2819, MAP@k: 0.1706, MRR@k: 0.2569, NDCG@k: 0.2317, HitRate@k: 0.4616\n",
      "Epoch 38, train loss: 0.3878, test loss: 0.4070, precision@k: 0.1236, recall@k: 0.2810, MAP@k: 0.1707, MRR@k: 0.2573, NDCG@k: 0.2317, HitRate@k: 0.4606\n",
      "Epoch 39, train loss: 0.3873, test loss: 0.4068, precision@k: 0.1237, recall@k: 0.2820, MAP@k: 0.1709, MRR@k: 0.2574, NDCG@k: 0.2319, HitRate@k: 0.4610\n",
      "Epoch 40, train loss: 0.3874, test loss: 0.4068, precision@k: 0.1235, recall@k: 0.2813, MAP@k: 0.1709, MRR@k: 0.2574, NDCG@k: 0.2317, HitRate@k: 0.4603\n",
      "Epoch 41, train loss: 0.3875, test loss: 0.4068, precision@k: 0.1232, recall@k: 0.2801, MAP@k: 0.1708, MRR@k: 0.2571, NDCG@k: 0.2313, HitRate@k: 0.4582\n",
      "Epoch 42, train loss: 0.3871, test loss: 0.4069, precision@k: 0.1232, recall@k: 0.2799, MAP@k: 0.1709, MRR@k: 0.2570, NDCG@k: 0.2313, HitRate@k: 0.4573\n",
      "Epoch 43, train loss: 0.3851, test loss: 0.4069, precision@k: 0.1234, recall@k: 0.2808, MAP@k: 0.1712, MRR@k: 0.2572, NDCG@k: 0.2317, HitRate@k: 0.4587\n",
      "Epoch 44, train loss: 0.3855, test loss: 0.4070, precision@k: 0.1232, recall@k: 0.2803, MAP@k: 0.1711, MRR@k: 0.2572, NDCG@k: 0.2316, HitRate@k: 0.4583\n",
      "Epoch 45, train loss: 0.3857, test loss: 0.4071, precision@k: 0.1232, recall@k: 0.2799, MAP@k: 0.1712, MRR@k: 0.2566, NDCG@k: 0.2314, HitRate@k: 0.4577\n",
      "Epoch 46, train loss: 0.3854, test loss: 0.4071, precision@k: 0.1231, recall@k: 0.2795, MAP@k: 0.1713, MRR@k: 0.2565, NDCG@k: 0.2313, HitRate@k: 0.4575\n",
      "Epoch 47, train loss: 0.3848, test loss: 0.4072, precision@k: 0.1231, recall@k: 0.2793, MAP@k: 0.1717, MRR@k: 0.2569, NDCG@k: 0.2316, HitRate@k: 0.4569\n",
      "Epoch 48, train loss: 0.3850, test loss: 0.4074, precision@k: 0.1230, recall@k: 0.2789, MAP@k: 0.1716, MRR@k: 0.2565, NDCG@k: 0.2314, HitRate@k: 0.4558\n",
      "Epoch 49, train loss: 0.3837, test loss: 0.4075, precision@k: 0.1229, recall@k: 0.2787, MAP@k: 0.1716, MRR@k: 0.2568, NDCG@k: 0.2313, HitRate@k: 0.4555\n",
      "Epoch 50, train loss: 0.3834, test loss: 0.4078, precision@k: 0.1230, recall@k: 0.2790, MAP@k: 0.1717, MRR@k: 0.2568, NDCG@k: 0.2315, HitRate@k: 0.4554\n"
     ]
    }
   ],
   "source": [
    "results: list = list()\n",
    "for epoch in range(1, model_config['num_epochs'] + 1):\n",
    "    # ------ Train\n",
    "    train_loss: float = train(\n",
    "        model=model,\n",
    "        data=data,\n",
    "        optimizer=optimizer\n",
    "    )\n",
    "    # ------ Test\n",
    "    test_loss: float = test(\n",
    "        model=model,\n",
    "        data=data\n",
    "    )\n",
    "    scheduler.step(test_loss)\n",
    "    # ------ Evaluate\n",
    "    evaluation_results: dict = evaluate(\n",
    "        k=model_config['num_recommendations'],\n",
    "        model=model,\n",
    "        data=data\n",
    "    )\n",
    "\n",
    "    # Save results\n",
    "    epoch_result = get_results(\n",
    "        epoch=epoch,\n",
    "        train_loss=train_loss,\n",
    "        test_loss=test_loss,\n",
    "        evaluation_results=evaluation_results\n",
    "    )\n",
    "    results.append(epoch_result)"
   ]
  },
  {
   "cell_type": "markdown",
   "id": "CIzjEI3R-eY-",
   "metadata": {
    "id": "CIzjEI3R-eY-"
   },
   "source": [
    "### Model evaluation"
   ]
  },
  {
   "cell_type": "code",
   "execution_count": 44,
   "id": "JHmrYAoF-dWh",
   "metadata": {
    "colab": {
     "base_uri": "https://localhost:8080/",
     "height": 472
    },
    "id": "JHmrYAoF-dWh",
    "outputId": "51b44a7b-4d40-4c23-8009-d3af553ed2e9"
   },
   "outputs": [],
   "source": [
    "results_df = pd.DataFrame(results)\n",
    "results_df.to_csv(f'../results/results_Model{model_name}.csv', index=False)"
   ]
  },
  {
   "cell_type": "code",
   "execution_count": 46,
   "id": "RwsZRSb828Ua",
   "metadata": {
    "colab": {
     "base_uri": "https://localhost:8080/",
     "height": 472
    },
    "id": "RwsZRSb828Ua",
    "outputId": "57cc0fe4-2411-44ed-cfc2-f41e6c682819"
   },
   "outputs": [
    {
     "data": {
      "image/png": "[encoded data removed]",
      "text/plain": [
       "<Figure size 640x480 with 1 Axes>"
      ]
     },
     "metadata": {},
     "output_type": "display_data"
    }
   ],
   "source": [
    "# Generate loss curve\n",
    "# Train loss\n",
    "sns.lineplot(data=results_df, x='Epoch', y='Train Loss')\n",
    "# Test loss\n",
    "sns.lineplot(data=results_df, x='Epoch', y='Test Loss')\n",
    "plt.xlabel('Epoch')\n",
    "plt.ylabel('Loss')\n",
    "plt.title('Loss curve')\n",
    "plt.yscale('log')\n",
    "plt.show()"
   ]
  },
  {
   "cell_type": "code",
   "execution_count": 47,
   "id": "QrRBTsA5vAs1",
   "metadata": {
    "colab": {
     "base_uri": "https://localhost:8080/"
    },
    "id": "QrRBTsA5vAs1",
    "outputId": "afffeb4f-f62c-4c48-cf69-c7cb5eb06f55"
   },
   "outputs": [
    {
     "data": {
      "image/png": "[encoded data removed]",
      "text/plain": [
       "<Figure size 640x480 with 1 Axes>"
      ]
     },
     "metadata": {},
     "output_type": "display_data"
    }
   ],
   "source": [
    "# Generate evaluation metrics plot\n",
    "sns.lineplot(data=results_df, x='Epoch', y='Precision@k')\n",
    "sns.lineplot(data=results_df, x='Epoch', y='Recall@k')\n",
    "sns.lineplot(data=results_df, x='Epoch', y='MAP@k')\n",
    "sns.lineplot(data=results_df, x='Epoch', y='MRR@k')\n",
    "sns.lineplot(data=results_df, x='Epoch', y='NDCG@k')\n",
    "sns.lineplot(data=results_df, x='Epoch', y='HitRate@k')\n",
    "plt.xlabel('Epoch')\n",
    "plt.ylabel('Performance')\n",
    "plt.title('Performance metrics')\n",
    "plt.show()"
   ]
  }
 ],
 "metadata": {
  "colab": {
   "collapsed_sections": [
    "ISUVX4hvFMKM",
    "aZQQpLqCFeGK",
    "2cXJ5OO10uxX"
   ],
   "name": "Collaboration Recommender 1.0 (Homogeneous).ipynb",
   "provenance": []
  },
  "kernelspec": {
   "display_name": "Python 3 (ipykernel)",
   "language": "python",
   "name": "python3"
  },
  "language_info": {
   "codemirror_mode": {
    "name": "ipython",
    "version": 3
   },
   "file_extension": ".py",
   "mimetype": "text/x-python",
   "name": "python",
   "nbconvert_exporter": "python",
   "pygments_lexer": "ipython3",
   "version": "3.12.3"
  }
 },
 "nbformat": 4,
 "nbformat_minor": 5
}
