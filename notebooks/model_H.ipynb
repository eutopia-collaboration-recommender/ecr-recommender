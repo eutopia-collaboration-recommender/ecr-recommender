{
 "cells": [
  {
   "cell_type": "markdown",
   "id": "zYPnKxIhFGVJ",
   "metadata": {
    "id": "zYPnKxIhFGVJ"
   },
   "source": [
    "# Model H\n",
    "\n",
    "This is a script showing results of **model H** in the ablation studies. The model is built using the following configuration:\n",
    "\n",
    "- **Backbone:** Transformer\n",
    "- **Graph type:** Heterogeneous\n",
    "- **Loss function:** Bayesian Personalized Ranking Loss\n",
    "- **Embeddings used:** average\n",
    "- **Keyword popularity used:** No\n",
    "\n",
    "*This model introduces a heterogeneous version of the graph transformer backbone.*"
   ]
  },
  {
   "cell_type": "markdown",
   "id": "x7McZwR_FRta",
   "metadata": {
    "id": "x7McZwR_FRta"
   },
   "source": [
    "## **Setting up environment**\n",
    "\n",
    "---\n",
    "\n"
   ]
  },
  {
   "cell_type": "markdown",
   "id": "cD8tnTfC60X2",
   "metadata": {
    "id": "cD8tnTfC60X2"
   },
   "source": [
    "### Loading libraries"
   ]
  },
  {
   "cell_type": "code",
   "execution_count": 1,
   "id": "5okfWmvKEI3Z",
   "metadata": {
    "ExecuteTime": {
     "end_time": "2024-12-13T17:47:50.264742Z",
     "start_time": "2024-12-13T17:47:50.256254Z"
    },
    "id": "5okfWmvKEI3Z"
   },
   "outputs": [],
   "source": [
    "import os\n",
    "import sys\n",
    "\n",
    "sys.path.insert(0, os.path.abspath(\"..\"))\n",
    "\n",
    "import torch\n",
    "import pickle\n",
    "import pandas as pd\n",
    "import seaborn as sns\n",
    "import matplotlib.pyplot as plt\n",
    "\n",
    "from typing import Optional\n",
    "\n",
    "from torch import Tensor\n",
    "from torch.nn import ModuleList\n",
    "import torch.nn.functional as F\n",
    "import torch.nn.functional as F\n",
    "from torch.optim import Optimizer\n",
    "from torch.optim.lr_scheduler import LRScheduler\n",
    "from torch_geometric.nn import Linear\n",
    "from torch_geometric.typing import Adj, OptTensor\n",
    "from torch_geometric.nn.conv import TransformerConv\n",
    "\n",
    "from util.torch_geometric import get_results\n",
    "from util.heterogeneous.dataset import DatasetEuCoHT\n",
    "from util.heterogeneous.model import ModelEuCoHT\n",
    "from util.heterogeneous.train import (\n",
    "    train,\n",
    "    test,\n",
    "    evaluate\n",
    ")"
   ]
  },
  {
   "cell_type": "markdown",
   "id": "bQ_xqBiFn97Q",
   "metadata": {
    "id": "bQ_xqBiFn97Q"
   },
   "source": [
    "### Global variables"
   ]
  },
  {
   "cell_type": "code",
   "execution_count": 2,
   "id": "9r1K6ezsn97Q",
   "metadata": {
    "ExecuteTime": {
     "end_time": "2024-12-13T21:23:20.128019Z",
     "start_time": "2024-12-13T21:23:20.037264Z"
    },
    "id": "9r1K6ezsn97Q"
   },
   "outputs": [],
   "source": [
    "# Model name\n",
    "model_name = 'H'\n",
    "# Dataset save filepath\n",
    "dataset_save_filepath = '../data/dataset_heterogeneous.pkl'\n",
    "# Device name\n",
    "device = 'cpu'\n",
    "\n",
    "# Model configuration\n",
    "model_config = dict(\n",
    "    hidden_channels=64,\n",
    "    learning_rate=1e-3,\n",
    "    num_layers=4,\n",
    "    num_heads=2,\n",
    "    num_epochs=50,\n",
    "    num_recommendations=10,\n",
    "    include_linear_layers=True,\n",
    "    include_activation_layers=True\n",
    ")\n",
    "target_edge_type = ('author', 'co_authors', 'author')\n",
    "target_node_type = 'author'\n",
    "\n",
    "# Set seaborn theme\n",
    "sns.set_theme(style=\"whitegrid\", palette=\"pastel\")"
   ]
  },
  {
   "cell_type": "markdown",
   "id": "ISUVX4hvFMKM",
   "metadata": {
    "id": "ISUVX4hvFMKM"
   },
   "source": [
    "## Loading dataset\n",
    "\n",
    "---\n"
   ]
  },
  {
   "cell_type": "code",
   "execution_count": 3,
   "id": "3b608e9d-243a-46aa-a261-7ae3464093db",
   "metadata": {},
   "outputs": [
    {
     "name": "stderr",
     "output_type": "stream",
     "text": [
      "/home/eucollab/eutopia-colllaboration/ecr-recommender/.venv/lib/python3.12/site-packages/torch/storage.py:414: FutureWarning: You are using `torch.load` with `weights_only=False` (the current default value), which uses the default pickle module implicitly. It is possible to construct malicious pickle data which will execute arbitrary code during unpickling (See https://github.com/pytorch/pytorch/blob/main/SECURITY.md#untrusted-models for more details). In a future release, the default value for `weights_only` will be flipped to `True`. This limits the functions that could be executed during unpickling. Arbitrary objects will no longer be allowed to be loaded via this mode unless they are explicitly allowlisted by the user via `torch.serialization.add_safe_globals`. We recommend you start setting `weights_only=True` for any use case where you don't have full control of the loaded file. Please open an issue on GitHub for any issues related to this experimental feature.\n",
      "  return torch.load(io.BytesIO(b))\n"
     ]
    }
   ],
   "source": [
    "# Add the object as a safe global to shut down warning\n",
    "torch.serialization.add_safe_globals([DatasetEuCoHT])\n",
    "# Open the dataset file and save it to variable\n",
    "with open(dataset_save_filepath, 'rb') as file:\n",
    "    dataset: DatasetEuCoHT = pickle.load(file)\n",
    "\n",
    "data = dataset.data\n",
    "author_id_map = dataset.author_id_map\n",
    "author_node_id_map = dataset.author_node_id_map"
   ]
  },
  {
   "cell_type": "markdown",
   "id": "04vUews17zy8",
   "metadata": {
    "id": "04vUews17zy8"
   },
   "source": [
    "## Model training\n",
    "\n",
    "\n",
    "---\n",
    "\n"
   ]
  },
  {
   "cell_type": "markdown",
   "id": "IMCtMQz00wC_",
   "metadata": {
    "id": "IMCtMQz00wC_"
   },
   "source": [
    "### Model definition"
   ]
  },
  {
   "cell_type": "code",
   "execution_count": 4,
   "id": "TJaBxQX_7_3D",
   "metadata": {
    "ExecuteTime": {
     "end_time": "2024-12-13T21:28:22.411435Z",
     "start_time": "2024-12-13T21:28:22.248727Z"
    },
    "id": "TJaBxQX_7_3D"
   },
   "outputs": [],
   "source": [
    "class ModelEuCoH(ModelEuCoHT):\n",
    "    def __init__(self,\n",
    "                 input_channels: int,\n",
    "                 hidden_channels: int,\n",
    "                 num_layers: int,\n",
    "                 num_recommendations: int,\n",
    "                 num_heads: int,\n",
    "                 author_node_id_map: dict,\n",
    "                 author_id_map: dict,\n",
    "                 include_linear_layers: bool,\n",
    "                 include_activation_layers: bool):\n",
    "        super().__init__(\n",
    "            hidden_channels=hidden_channels,\n",
    "            num_layers=num_layers,\n",
    "            num_recommendations=num_recommendations,\n",
    "            author_node_id_map=author_node_id_map,\n",
    "            author_id_map=author_id_map,\n",
    "            include_linear_layers=include_linear_layers,\n",
    "            include_activation_layers=include_activation_layers\n",
    "        )\n",
    "        # Number of attention heads\n",
    "        self.num_heads = num_heads\n",
    "        \n",
    "        # # Initialize the convolutional layers\n",
    "        self.conv_layers = ModuleList([\n",
    "            TransformerConv(\n",
    "                in_channels=(-1, -1), \n",
    "                out_channels=hidden_channels,\n",
    "                heads=self.num_heads,\n",
    "                dropout=0.2\n",
    "            )\n",
    "            for i in range(self.num_layers)\n",
    "        ])\n",
    "\n",
    "        # Linear layers\n",
    "        self.lin_layers = ModuleList([\n",
    "            Linear(-1, hidden_channels * self.num_heads) for i in range(self.num_layers)\n",
    "        ])\n",
    "\n",
    "        # Batch norm layers\n",
    "        self.bn_layers = ModuleList([\n",
    "            torch.nn.BatchNorm1d(hidden_channels * self.num_heads) for i in range(self.num_layers)\n",
    "        ])\n",
    "\n",
    "    "
   ]
  },
  {
   "cell_type": "markdown",
   "id": "9XkKmZJC06IZ",
   "metadata": {
    "id": "9XkKmZJC06IZ"
   },
   "source": [
    "### Training the model"
   ]
  },
  {
   "cell_type": "code",
   "execution_count": 5,
   "id": "b4304b1f-ce07-411d-abc3-43011dd3a83b",
   "metadata": {},
   "outputs": [],
   "source": [
    "# Initialize the model\n",
    "model = ModelEuCoH(\n",
    "    input_channels=data.num_features,\n",
    "    hidden_channels=model_config['hidden_channels'],\n",
    "    num_recommendations=model_config['num_recommendations'],\n",
    "    num_layers=model_config['num_layers'],\n",
    "    num_heads=model_config['num_heads'],\n",
    "    author_node_id_map=author_node_id_map,\n",
    "    author_id_map=author_id_map,\n",
    "    include_linear_layers=model_config['include_linear_layers'],\n",
    "    include_activation_layers=model_config['include_activation_layers']\n",
    ").to(device)\n",
    "\n",
    "# Transfer to device\n",
    "data = data.to(device)\n",
    "\n",
    "# Initialize the optimizer\n",
    "optimizer: Optimizer = torch.optim.Adam(\n",
    "    params=model.parameters(),\n",
    "    lr=model_config['learning_rate']\n",
    ")\n",
    "\n",
    "# Initialize the scheduler\n",
    "scheduler: LRScheduler = torch.optim.lr_scheduler.ReduceLROnPlateau(\n",
    "    optimizer=optimizer,\n",
    "    mode='min',\n",
    "    factor=0.5,\n",
    "    patience=10\n",
    ")"
   ]
  },
  {
   "cell_type": "code",
   "execution_count": 6,
   "id": "379e5e3ea82af758",
   "metadata": {
    "ExecuteTime": {
     "end_time": "2024-12-13T21:30:55.180060Z",
     "start_time": "2024-12-13T21:30:52.430863Z"
    }
   },
   "outputs": [
    {
     "name": "stdout",
     "output_type": "stream",
     "text": [
      "Epoch 1, train loss: 0.0729, test loss: 12.0965, precision@k: 0.0002, recall@k: 0.0007, MAP@k: 0.0002, MRR@k: 0.0003, NDCG@k: 0.0004, HitRate@k: 0.0015\n",
      "Epoch 2, train loss: 0.0403, test loss: 8.3739, precision@k: 0.0003, recall@k: 0.0012, MAP@k: 0.0004, MRR@k: 0.0008, NDCG@k: 0.0007, HitRate@k: 0.0027\n",
      "Epoch 3, train loss: 0.0316, test loss: 5.8546, precision@k: 0.0008, recall@k: 0.0021, MAP@k: 0.0008, MRR@k: 0.0013, NDCG@k: 0.0013, HitRate@k: 0.0041\n",
      "Epoch 4, train loss: 0.0249, test loss: 4.3865, precision@k: 0.0011, recall@k: 0.0033, MAP@k: 0.0012, MRR@k: 0.0019, NDCG@k: 0.0020, HitRate@k: 0.0066\n",
      "Epoch 5, train loss: 0.0217, test loss: 3.5366, precision@k: 0.0017, recall@k: 0.0052, MAP@k: 0.0018, MRR@k: 0.0032, NDCG@k: 0.0032, HitRate@k: 0.0122\n",
      "Epoch 6, train loss: 0.0191, test loss: 3.0989, precision@k: 0.0027, recall@k: 0.0079, MAP@k: 0.0026, MRR@k: 0.0051, NDCG@k: 0.0048, HitRate@k: 0.0195\n",
      "Epoch 7, train loss: 0.0178, test loss: 2.9317, precision@k: 0.0033, recall@k: 0.0101, MAP@k: 0.0030, MRR@k: 0.0060, NDCG@k: 0.0058, HitRate@k: 0.0234\n",
      "Epoch 8, train loss: 0.0170, test loss: 2.9431, precision@k: 0.0039, recall@k: 0.0117, MAP@k: 0.0040, MRR@k: 0.0081, NDCG@k: 0.0073, HitRate@k: 0.0271\n",
      "Epoch 9, train loss: 0.0154, test loss: 3.0346, precision@k: 0.0043, recall@k: 0.0132, MAP@k: 0.0046, MRR@k: 0.0092, NDCG@k: 0.0082, HitRate@k: 0.0297\n",
      "Epoch 10, train loss: 0.0135, test loss: 3.1623, precision@k: 0.0049, recall@k: 0.0147, MAP@k: 0.0049, MRR@k: 0.0101, NDCG@k: 0.0090, HitRate@k: 0.0335\n",
      "Epoch 11, train loss: 0.0122, test loss: 3.2849, precision@k: 0.0050, recall@k: 0.0152, MAP@k: 0.0051, MRR@k: 0.0108, NDCG@k: 0.0094, HitRate@k: 0.0348\n",
      "Epoch 12, train loss: 0.0122, test loss: 3.3905, precision@k: 0.0051, recall@k: 0.0155, MAP@k: 0.0052, MRR@k: 0.0111, NDCG@k: 0.0096, HitRate@k: 0.0359\n",
      "Epoch 13, train loss: 0.0106, test loss: 3.5205, precision@k: 0.0053, recall@k: 0.0157, MAP@k: 0.0053, MRR@k: 0.0113, NDCG@k: 0.0098, HitRate@k: 0.0368\n",
      "Epoch 14, train loss: 0.0128, test loss: 3.6502, precision@k: 0.0055, recall@k: 0.0168, MAP@k: 0.0060, MRR@k: 0.0123, NDCG@k: 0.0107, HitRate@k: 0.0386\n",
      "Epoch 15, train loss: 0.0094, test loss: 3.7615, precision@k: 0.0059, recall@k: 0.0178, MAP@k: 0.0065, MRR@k: 0.0135, NDCG@k: 0.0115, HitRate@k: 0.0414\n",
      "Epoch 16, train loss: 0.0095, test loss: 3.8369, precision@k: 0.0061, recall@k: 0.0186, MAP@k: 0.0071, MRR@k: 0.0146, NDCG@k: 0.0123, HitRate@k: 0.0437\n",
      "Epoch 17, train loss: 0.0085, test loss: 3.8591, precision@k: 0.0064, recall@k: 0.0198, MAP@k: 0.0077, MRR@k: 0.0160, NDCG@k: 0.0132, HitRate@k: 0.0457\n",
      "Epoch 18, train loss: 0.0083, test loss: 3.8802, precision@k: 0.0067, recall@k: 0.0213, MAP@k: 0.0083, MRR@k: 0.0173, NDCG@k: 0.0141, HitRate@k: 0.0485\n",
      "Epoch 19, train loss: 0.0071, test loss: 3.7904, precision@k: 0.0073, recall@k: 0.0229, MAP@k: 0.0088, MRR@k: 0.0185, NDCG@k: 0.0152, HitRate@k: 0.0518\n",
      "Epoch 20, train loss: 0.0072, test loss: 3.7341, precision@k: 0.0077, recall@k: 0.0244, MAP@k: 0.0093, MRR@k: 0.0189, NDCG@k: 0.0159, HitRate@k: 0.0547\n",
      "Epoch 21, train loss: 0.0073, test loss: 3.6956, precision@k: 0.0079, recall@k: 0.0253, MAP@k: 0.0096, MRR@k: 0.0198, NDCG@k: 0.0165, HitRate@k: 0.0561\n",
      "Epoch 22, train loss: 0.0070, test loss: 3.6714, precision@k: 0.0082, recall@k: 0.0262, MAP@k: 0.0100, MRR@k: 0.0205, NDCG@k: 0.0171, HitRate@k: 0.0581\n",
      "Epoch 23, train loss: 0.0066, test loss: 3.6592, precision@k: 0.0084, recall@k: 0.0271, MAP@k: 0.0103, MRR@k: 0.0211, NDCG@k: 0.0176, HitRate@k: 0.0596\n",
      "Epoch 24, train loss: 0.0067, test loss: 3.6464, precision@k: 0.0086, recall@k: 0.0275, MAP@k: 0.0103, MRR@k: 0.0211, NDCG@k: 0.0178, HitRate@k: 0.0606\n",
      "Epoch 25, train loss: 0.0064, test loss: 3.6536, precision@k: 0.0087, recall@k: 0.0279, MAP@k: 0.0105, MRR@k: 0.0214, NDCG@k: 0.0181, HitRate@k: 0.0610\n",
      "Epoch 26, train loss: 0.0059, test loss: 3.6663, precision@k: 0.0088, recall@k: 0.0283, MAP@k: 0.0108, MRR@k: 0.0219, NDCG@k: 0.0185, HitRate@k: 0.0615\n",
      "Epoch 27, train loss: 0.0065, test loss: 3.6815, precision@k: 0.0088, recall@k: 0.0287, MAP@k: 0.0108, MRR@k: 0.0221, NDCG@k: 0.0186, HitRate@k: 0.0618\n",
      "Epoch 28, train loss: 0.0063, test loss: 3.7100, precision@k: 0.0090, recall@k: 0.0293, MAP@k: 0.0112, MRR@k: 0.0227, NDCG@k: 0.0192, HitRate@k: 0.0632\n",
      "Epoch 29, train loss: 0.0068, test loss: 3.7424, precision@k: 0.0091, recall@k: 0.0295, MAP@k: 0.0113, MRR@k: 0.0229, NDCG@k: 0.0193, HitRate@k: 0.0635\n",
      "Epoch 30, train loss: 0.0055, test loss: 3.7190, precision@k: 0.0092, recall@k: 0.0301, MAP@k: 0.0115, MRR@k: 0.0234, NDCG@k: 0.0196, HitRate@k: 0.0643\n",
      "Epoch 31, train loss: 0.0062, test loss: 3.7001, precision@k: 0.0092, recall@k: 0.0300, MAP@k: 0.0116, MRR@k: 0.0235, NDCG@k: 0.0197, HitRate@k: 0.0641\n",
      "Epoch 32, train loss: 0.0061, test loss: 3.6878, precision@k: 0.0094, recall@k: 0.0304, MAP@k: 0.0116, MRR@k: 0.0238, NDCG@k: 0.0199, HitRate@k: 0.0653\n",
      "Epoch 33, train loss: 0.0063, test loss: 3.6686, precision@k: 0.0093, recall@k: 0.0304, MAP@k: 0.0117, MRR@k: 0.0241, NDCG@k: 0.0200, HitRate@k: 0.0650\n",
      "Epoch 34, train loss: 0.0058, test loss: 3.6539, precision@k: 0.0094, recall@k: 0.0309, MAP@k: 0.0118, MRR@k: 0.0242, NDCG@k: 0.0202, HitRate@k: 0.0659\n",
      "Epoch 35, train loss: 0.0061, test loss: 3.6426, precision@k: 0.0095, recall@k: 0.0310, MAP@k: 0.0118, MRR@k: 0.0241, NDCG@k: 0.0202, HitRate@k: 0.0663\n",
      "Epoch 36, train loss: 0.0061, test loss: 3.6373, precision@k: 0.0095, recall@k: 0.0310, MAP@k: 0.0118, MRR@k: 0.0240, NDCG@k: 0.0202, HitRate@k: 0.0666\n",
      "Epoch 37, train loss: 0.0049, test loss: 3.6329, precision@k: 0.0095, recall@k: 0.0311, MAP@k: 0.0118, MRR@k: 0.0239, NDCG@k: 0.0202, HitRate@k: 0.0666\n",
      "Epoch 38, train loss: 0.0060, test loss: 3.6284, precision@k: 0.0096, recall@k: 0.0313, MAP@k: 0.0119, MRR@k: 0.0239, NDCG@k: 0.0203, HitRate@k: 0.0668\n",
      "Epoch 39, train loss: 0.0054, test loss: 3.6254, precision@k: 0.0096, recall@k: 0.0315, MAP@k: 0.0119, MRR@k: 0.0240, NDCG@k: 0.0204, HitRate@k: 0.0668\n",
      "Epoch 40, train loss: 0.0055, test loss: 3.6238, precision@k: 0.0096, recall@k: 0.0315, MAP@k: 0.0119, MRR@k: 0.0241, NDCG@k: 0.0204, HitRate@k: 0.0668\n",
      "Epoch 41, train loss: 0.0060, test loss: 3.6099, precision@k: 0.0096, recall@k: 0.0316, MAP@k: 0.0120, MRR@k: 0.0244, NDCG@k: 0.0206, HitRate@k: 0.0674\n",
      "Epoch 42, train loss: 0.0055, test loss: 3.5984, precision@k: 0.0097, recall@k: 0.0317, MAP@k: 0.0120, MRR@k: 0.0244, NDCG@k: 0.0206, HitRate@k: 0.0676\n",
      "Epoch 43, train loss: 0.0061, test loss: 3.5902, precision@k: 0.0097, recall@k: 0.0316, MAP@k: 0.0120, MRR@k: 0.0244, NDCG@k: 0.0205, HitRate@k: 0.0676\n",
      "Epoch 44, train loss: 0.0058, test loss: 3.5861, precision@k: 0.0097, recall@k: 0.0316, MAP@k: 0.0120, MRR@k: 0.0244, NDCG@k: 0.0205, HitRate@k: 0.0676\n",
      "Epoch 45, train loss: 0.0051, test loss: 3.5858, precision@k: 0.0097, recall@k: 0.0319, MAP@k: 0.0121, MRR@k: 0.0245, NDCG@k: 0.0207, HitRate@k: 0.0680\n",
      "Epoch 46, train loss: 0.0062, test loss: 3.5858, precision@k: 0.0097, recall@k: 0.0316, MAP@k: 0.0120, MRR@k: 0.0244, NDCG@k: 0.0206, HitRate@k: 0.0676\n",
      "Epoch 47, train loss: 0.0054, test loss: 3.5896, precision@k: 0.0097, recall@k: 0.0316, MAP@k: 0.0121, MRR@k: 0.0245, NDCG@k: 0.0206, HitRate@k: 0.0674\n",
      "Epoch 48, train loss: 0.0053, test loss: 3.5946, precision@k: 0.0097, recall@k: 0.0316, MAP@k: 0.0121, MRR@k: 0.0245, NDCG@k: 0.0207, HitRate@k: 0.0677\n",
      "Epoch 49, train loss: 0.0056, test loss: 3.5998, precision@k: 0.0097, recall@k: 0.0319, MAP@k: 0.0122, MRR@k: 0.0246, NDCG@k: 0.0207, HitRate@k: 0.0677\n",
      "Epoch 50, train loss: 0.0052, test loss: 3.6042, precision@k: 0.0097, recall@k: 0.0320, MAP@k: 0.0122, MRR@k: 0.0247, NDCG@k: 0.0208, HitRate@k: 0.0680\n"
     ]
    }
   ],
   "source": [
    "results: list = list()\n",
    "for epoch in range(1, model_config['num_epochs'] + 1):\n",
    "    # ------ Train\n",
    "    train_loss: float = train(\n",
    "        model=model,\n",
    "        data=data,\n",
    "        optimizer=optimizer,\n",
    "        target_edge_type=target_edge_type,\n",
    "        target_node_type=target_node_type\n",
    "    )\n",
    "    # ------ Test\n",
    "    test_loss: float = test(\n",
    "        model=model,\n",
    "        data=data,\n",
    "        target_edge_type=target_edge_type,\n",
    "    )\n",
    "    scheduler.step(test_loss)\n",
    "    # ------ Evaluate\n",
    "    evaluation_results: dict = evaluate(\n",
    "        num_recommendations=model_config['num_recommendations'],\n",
    "        model=model,\n",
    "        data=data,\n",
    "        target_edge_type=target_edge_type,\n",
    "        target_node_type=target_node_type\n",
    "    )\n",
    "\n",
    "    # Save results\n",
    "    epoch_result = get_results(\n",
    "        epoch=epoch,\n",
    "        train_loss=train_loss,\n",
    "        test_loss=test_loss,\n",
    "        evaluation_results=evaluation_results\n",
    "    )\n",
    "    results.append(epoch_result)"
   ]
  },
  {
   "cell_type": "markdown",
   "id": "CIzjEI3R-eY-",
   "metadata": {
    "id": "CIzjEI3R-eY-"
   },
   "source": [
    "### Model evaluation"
   ]
  },
  {
   "cell_type": "code",
   "execution_count": 7,
   "id": "JHmrYAoF-dWh",
   "metadata": {
    "colab": {
     "base_uri": "https://localhost:8080/",
     "height": 472
    },
    "id": "JHmrYAoF-dWh",
    "outputId": "51b44a7b-4d40-4c23-8009-d3af553ed2e9"
   },
   "outputs": [],
   "source": [
    "results_df = pd.DataFrame(results)\n",
    "results_df.to_csv(f'../results/results_Model{model_name}.csv', index=False)"
   ]
  },
  {
   "cell_type": "code",
   "execution_count": 8,
   "id": "RwsZRSb828Ua",
   "metadata": {
    "colab": {
     "base_uri": "https://localhost:8080/",
     "height": 472
    },
    "id": "RwsZRSb828Ua",
    "outputId": "57cc0fe4-2411-44ed-cfc2-f41e6c682819"
   },
   "outputs": [
    {
     "data": {
      "image/png": "[encoded data removed]",
      "text/plain": [
       "<Figure size 640x480 with 1 Axes>"
      ]
     },
     "metadata": {},
     "output_type": "display_data"
    }
   ],
   "source": [
    "# Generate loss curve\n",
    "# Train loss\n",
    "sns.lineplot(data=results_df, x='Epoch', y='Train Loss')\n",
    "# Test loss\n",
    "sns.lineplot(data=results_df, x='Epoch', y='Test Loss')\n",
    "plt.xlabel('Epoch')\n",
    "plt.ylabel('Loss')\n",
    "plt.title('Loss curve')\n",
    "plt.yscale('log')\n",
    "plt.show()"
   ]
  },
  {
   "cell_type": "code",
   "execution_count": 9,
   "id": "QrRBTsA5vAs1",
   "metadata": {
    "colab": {
     "base_uri": "https://localhost:8080/"
    },
    "id": "QrRBTsA5vAs1",
    "outputId": "afffeb4f-f62c-4c48-cf69-c7cb5eb06f55"
   },
   "outputs": [
    {
     "data": {
      "image/png": "[encoded data removed]",
      "text/plain": [
       "<Figure size 640x480 with 1 Axes>"
      ]
     },
     "metadata": {},
     "output_type": "display_data"
    }
   ],
   "source": [
    "# Generate evaluation metrics plot\n",
    "sns.lineplot(data=results_df, x='Epoch', y='Precision@k')\n",
    "sns.lineplot(data=results_df, x='Epoch', y='Recall@k')\n",
    "sns.lineplot(data=results_df, x='Epoch', y='MAP@k')\n",
    "sns.lineplot(data=results_df, x='Epoch', y='MRR@k')\n",
    "sns.lineplot(data=results_df, x='Epoch', y='NDCG@k')\n",
    "sns.lineplot(data=results_df, x='Epoch', y='HitRate@k')\n",
    "plt.xlabel('Epoch')\n",
    "plt.ylabel('Performance')\n",
    "plt.title('Performance metrics')\n",
    "plt.show()"
   ]
  }
 ],
 "metadata": {
  "colab": {
   "collapsed_sections": [
    "ISUVX4hvFMKM",
    "aZQQpLqCFeGK",
    "2cXJ5OO10uxX"
   ],
   "name": "Collaboration Recommender 1.0 (Homogeneous).ipynb",
   "provenance": []
  },
  "kernelspec": {
   "display_name": "Python 3 (ipykernel)",
   "language": "python",
   "name": "python3"
  },
  "language_info": {
   "codemirror_mode": {
    "name": "ipython",
    "version": 3
   },
   "file_extension": ".py",
   "mimetype": "text/x-python",
   "name": "python",
   "nbconvert_exporter": "python",
   "pygments_lexer": "ipython3",
   "version": "3.12.3"
  }
 },
 "nbformat": 4,
 "nbformat_minor": 5
}
