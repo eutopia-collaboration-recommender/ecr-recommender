{
 "cells": [
  {
   "cell_type": "markdown",
   "id": "zYPnKxIhFGVJ",
   "metadata": {
    "id": "zYPnKxIhFGVJ"
   },
   "source": [
    "# Model J\n",
    "\n",
    "This is a script showing results of **model J** in the ablation studies. The model is built using the following configuration:\n",
    "\n",
    "- **Backbone:** GATv2\n",
    "- **Graph type:** Homogeneous\n",
    "- **Loss function:** Bayesian personalized ranking\n",
    "- **Embeddings used:** average\n",
    "- **Keyword popularity used:** Yes\n",
    "\n",
    "*This model upgrades the state-of-the-art graph neural network methodology with novel graph transformer approach.*"
   ]
  },
  {
   "cell_type": "markdown",
   "id": "x7McZwR_FRta",
   "metadata": {
    "id": "x7McZwR_FRta"
   },
   "source": [
    "## **Setting up environment**\n",
    "\n",
    "---\n",
    "\n"
   ]
  },
  {
   "cell_type": "markdown",
   "id": "cD8tnTfC60X2",
   "metadata": {
    "id": "cD8tnTfC60X2"
   },
   "source": [
    "### Loading libraries"
   ]
  },
  {
   "cell_type": "code",
   "execution_count": 1,
   "id": "5okfWmvKEI3Z",
   "metadata": {
    "ExecuteTime": {
     "end_time": "2024-12-13T17:47:50.264742Z",
     "start_time": "2024-12-13T17:47:50.256254Z"
    },
    "id": "5okfWmvKEI3Z"
   },
   "outputs": [],
   "source": [
    "import os\n",
    "import sys\n",
    "\n",
    "sys.path.insert(0, os.path.abspath(\"..\"))\n",
    "\n",
    "import torch\n",
    "import pickle\n",
    "import pandas as pd\n",
    "import seaborn as sns\n",
    "import matplotlib.pyplot as plt\n",
    "\n",
    "from typing import Optional\n",
    "\n",
    "from torch import Tensor\n",
    "from torch.nn import ModuleList\n",
    "from torch.optim import Optimizer\n",
    "from torch_geometric.typing import Adj, OptTensor\n",
    "from torch_geometric.nn.conv import TransformerConv\n",
    "from torch.optim.lr_scheduler import LRScheduler\n",
    "\n",
    "from util.torch_geometric import get_results\n",
    "from util.homogeneous.dataset import DatasetEuCoHM\n",
    "from util.homogeneous.model import ModelEuCoHM\n",
    "from util.homogeneous.train import (\n",
    "    train,\n",
    "    test,\n",
    "    evaluate\n",
    ")"
   ]
  },
  {
   "cell_type": "markdown",
   "id": "bQ_xqBiFn97Q",
   "metadata": {
    "id": "bQ_xqBiFn97Q"
   },
   "source": [
    "### Global variables"
   ]
  },
  {
   "cell_type": "code",
   "execution_count": 2,
   "id": "9r1K6ezsn97Q",
   "metadata": {
    "ExecuteTime": {
     "end_time": "2024-12-13T21:23:20.128019Z",
     "start_time": "2024-12-13T21:23:20.037264Z"
    },
    "id": "9r1K6ezsn97Q"
   },
   "outputs": [],
   "source": [
    "# Model name\n",
    "model_name = 'J'\n",
    "# Dataset save filepath\n",
    "dataset_save_filepath = '../data/dataset_homogeneous_top_keywords.pkl'\n",
    "# Device name\n",
    "device = 'cpu'\n",
    "\n",
    "# Model configuration\n",
    "model_config = dict(\n",
    "    hidden_channels=128,\n",
    "    learning_rate=1e-3,\n",
    "    num_layers=4,\n",
    "    num_epochs=50,\n",
    "    num_recommendations=10\n",
    ")\n",
    "# Set seaborn theme\n",
    "sns.set_theme(style=\"whitegrid\", palette=\"pastel\")"
   ]
  },
  {
   "cell_type": "markdown",
   "id": "ISUVX4hvFMKM",
   "metadata": {
    "id": "ISUVX4hvFMKM"
   },
   "source": [
    "## Loading dataset\n",
    "\n",
    "---\n"
   ]
  },
  {
   "cell_type": "code",
   "execution_count": 3,
   "id": "3b608e9d-243a-46aa-a261-7ae3464093db",
   "metadata": {},
   "outputs": [
    {
     "name": "stderr",
     "output_type": "stream",
     "text": [
      "/home/eucollab/eutopia-colllaboration/ecr-recommender/.venv/lib/python3.12/site-packages/torch/storage.py:414: FutureWarning: You are using `torch.load` with `weights_only=False` (the current default value), which uses the default pickle module implicitly. It is possible to construct malicious pickle data which will execute arbitrary code during unpickling (See https://github.com/pytorch/pytorch/blob/main/SECURITY.md#untrusted-models for more details). In a future release, the default value for `weights_only` will be flipped to `True`. This limits the functions that could be executed during unpickling. Arbitrary objects will no longer be allowed to be loaded via this mode unless they are explicitly allowlisted by the user via `torch.serialization.add_safe_globals`. We recommend you start setting `weights_only=True` for any use case where you don't have full control of the loaded file. Please open an issue on GitHub for any issues related to this experimental feature.\n",
      "  return torch.load(io.BytesIO(b))\n"
     ]
    }
   ],
   "source": [
    "# Add the object as a safe global to shut down warning\n",
    "torch.serialization.add_safe_globals([DatasetEuCoHM])\n",
    "# Open the dataset file and save it to variable\n",
    "with open(dataset_save_filepath, 'rb') as file:\n",
    "    dataset: DatasetEuCoHM = pickle.load(file)\n",
    "\n",
    "data = dataset.data\n",
    "author_id_map = dataset.author_id_map\n",
    "author_node_id_map = dataset.author_node_id_map"
   ]
  },
  {
   "cell_type": "markdown",
   "id": "04vUews17zy8",
   "metadata": {
    "id": "04vUews17zy8"
   },
   "source": [
    "## Model training\n",
    "\n",
    "\n",
    "---\n",
    "\n"
   ]
  },
  {
   "cell_type": "markdown",
   "id": "IMCtMQz00wC_",
   "metadata": {
    "id": "IMCtMQz00wC_"
   },
   "source": [
    "### Model definition"
   ]
  },
  {
   "cell_type": "code",
   "execution_count": 4,
   "id": "TJaBxQX_7_3D",
   "metadata": {
    "ExecuteTime": {
     "end_time": "2024-12-13T21:28:22.411435Z",
     "start_time": "2024-12-13T21:28:22.248727Z"
    },
    "id": "TJaBxQX_7_3D"
   },
   "outputs": [],
   "source": [
    "class ModelEuCoJ(ModelEuCoHM):\n",
    "    def __init__(self,\n",
    "                 input_channels: int,\n",
    "                 hidden_channels: int,\n",
    "                 num_layers: int,\n",
    "                 num_recommendations: int,\n",
    "                 author_node_id_map: dict,\n",
    "                 author_id_map: dict,\n",
    "                 device: str = 'cpu'):\n",
    "        super().__init__(\n",
    "            input_channels=input_channels,\n",
    "            hidden_channels=hidden_channels,\n",
    "            num_layers=num_layers,\n",
    "            num_recommendations=num_recommendations,\n",
    "            author_node_id_map=author_node_id_map,\n",
    "            author_id_map=author_id_map,\n",
    "            device=device\n",
    "        )"
   ]
  },
  {
   "cell_type": "markdown",
   "id": "9XkKmZJC06IZ",
   "metadata": {
    "id": "9XkKmZJC06IZ"
   },
   "source": [
    "### Training the model"
   ]
  },
  {
   "cell_type": "code",
   "execution_count": 5,
   "id": "b4304b1f-ce07-411d-abc3-43011dd3a83b",
   "metadata": {},
   "outputs": [],
   "source": [
    "# Initialize the model\n",
    "model = ModelEuCoJ(\n",
    "    input_channels=data.num_features,\n",
    "    hidden_channels=model_config['hidden_channels'],\n",
    "    num_recommendations=model_config['num_recommendations'],\n",
    "    num_layers=model_config['num_layers'],\n",
    "    author_node_id_map=author_node_id_map,\n",
    "    author_id_map=author_id_map\n",
    ").to(device)\n",
    "\n",
    "# Transfer to device\n",
    "data = data.to(device)\n",
    "\n",
    "# Initialize the optimizer\n",
    "optimizer: Optimizer = torch.optim.Adam(\n",
    "    params=model.parameters(),\n",
    "    lr=model_config['learning_rate']\n",
    ")\n",
    "\n",
    "# Initialize the scheduler\n",
    "scheduler: LRScheduler = torch.optim.lr_scheduler.ReduceLROnPlateau(\n",
    "    optimizer=optimizer,\n",
    "    mode='min',\n",
    "    factor=0.5,\n",
    "    patience=10\n",
    ")"
   ]
  },
  {
   "cell_type": "code",
   "execution_count": 6,
   "id": "379e5e3ea82af758",
   "metadata": {
    "ExecuteTime": {
     "end_time": "2024-12-13T21:30:55.180060Z",
     "start_time": "2024-12-13T21:30:52.430863Z"
    }
   },
   "outputs": [
    {
     "name": "stdout",
     "output_type": "stream",
     "text": [
      "Epoch 1, train loss: 0.0072, test loss: 0.1302, precision@k: 0.0544, recall@k: 0.1541, MAP@k: 0.0737, MRR@k: 0.1196, NDCG@k: 0.1103, HitRate@k: 0.2720\n",
      "Epoch 2, train loss: 0.0052, test loss: 0.1222, precision@k: 0.0556, recall@k: 0.1584, MAP@k: 0.0771, MRR@k: 0.1257, NDCG@k: 0.1145, HitRate@k: 0.2789\n",
      "Epoch 3, train loss: 0.0042, test loss: 0.1177, precision@k: 0.0563, recall@k: 0.1617, MAP@k: 0.0777, MRR@k: 0.1268, NDCG@k: 0.1158, HitRate@k: 0.2827\n",
      "Epoch 4, train loss: 0.0037, test loss: 0.1154, precision@k: 0.0571, recall@k: 0.1635, MAP@k: 0.0801, MRR@k: 0.1314, NDCG@k: 0.1185, HitRate@k: 0.2847\n",
      "Epoch 5, train loss: 0.0035, test loss: 0.1160, precision@k: 0.0577, recall@k: 0.1653, MAP@k: 0.0813, MRR@k: 0.1334, NDCG@k: 0.1201, HitRate@k: 0.2867\n",
      "Epoch 6, train loss: 0.0033, test loss: 0.1169, precision@k: 0.0579, recall@k: 0.1667, MAP@k: 0.0821, MRR@k: 0.1336, NDCG@k: 0.1210, HitRate@k: 0.2870\n",
      "Epoch 7, train loss: 0.0029, test loss: 0.1169, precision@k: 0.0582, recall@k: 0.1681, MAP@k: 0.0830, MRR@k: 0.1358, NDCG@k: 0.1222, HitRate@k: 0.2887\n",
      "Epoch 8, train loss: 0.0030, test loss: 0.1171, precision@k: 0.0586, recall@k: 0.1702, MAP@k: 0.0847, MRR@k: 0.1384, NDCG@k: 0.1242, HitRate@k: 0.2929\n",
      "Epoch 9, train loss: 0.0030, test loss: 0.1166, precision@k: 0.0593, recall@k: 0.1720, MAP@k: 0.0855, MRR@k: 0.1399, NDCG@k: 0.1255, HitRate@k: 0.2959\n",
      "Epoch 10, train loss: 0.0029, test loss: 0.1153, precision@k: 0.0606, recall@k: 0.1754, MAP@k: 0.0864, MRR@k: 0.1417, NDCG@k: 0.1274, HitRate@k: 0.3039\n",
      "Epoch 11, train loss: 0.0026, test loss: 0.1144, precision@k: 0.0618, recall@k: 0.1787, MAP@k: 0.0880, MRR@k: 0.1437, NDCG@k: 0.1297, HitRate@k: 0.3088\n",
      "Epoch 12, train loss: 0.0022, test loss: 0.1133, precision@k: 0.0622, recall@k: 0.1797, MAP@k: 0.0886, MRR@k: 0.1444, NDCG@k: 0.1305, HitRate@k: 0.3097\n",
      "Epoch 13, train loss: 0.0025, test loss: 0.1123, precision@k: 0.0628, recall@k: 0.1820, MAP@k: 0.0900, MRR@k: 0.1457, NDCG@k: 0.1322, HitRate@k: 0.3128\n",
      "Epoch 14, train loss: 0.0023, test loss: 0.1114, precision@k: 0.0629, recall@k: 0.1828, MAP@k: 0.0910, MRR@k: 0.1471, NDCG@k: 0.1332, HitRate@k: 0.3142\n",
      "Epoch 15, train loss: 0.0024, test loss: 0.1097, precision@k: 0.0635, recall@k: 0.1848, MAP@k: 0.0918, MRR@k: 0.1493, NDCG@k: 0.1346, HitRate@k: 0.3173\n",
      "Epoch 16, train loss: 0.0024, test loss: 0.1080, precision@k: 0.0638, recall@k: 0.1862, MAP@k: 0.0932, MRR@k: 0.1507, NDCG@k: 0.1360, HitRate@k: 0.3189\n",
      "Epoch 17, train loss: 0.0022, test loss: 0.1071, precision@k: 0.0641, recall@k: 0.1870, MAP@k: 0.0934, MRR@k: 0.1509, NDCG@k: 0.1363, HitRate@k: 0.3197\n",
      "Epoch 18, train loss: 0.0024, test loss: 0.1067, precision@k: 0.0640, recall@k: 0.1859, MAP@k: 0.0941, MRR@k: 0.1514, NDCG@k: 0.1366, HitRate@k: 0.3178\n",
      "Epoch 19, train loss: 0.0023, test loss: 0.1068, precision@k: 0.0642, recall@k: 0.1860, MAP@k: 0.0943, MRR@k: 0.1516, NDCG@k: 0.1368, HitRate@k: 0.3177\n",
      "Epoch 20, train loss: 0.0022, test loss: 0.1068, precision@k: 0.0643, recall@k: 0.1867, MAP@k: 0.0943, MRR@k: 0.1517, NDCG@k: 0.1369, HitRate@k: 0.3184\n",
      "Epoch 21, train loss: 0.0021, test loss: 0.1068, precision@k: 0.0644, recall@k: 0.1869, MAP@k: 0.0944, MRR@k: 0.1517, NDCG@k: 0.1370, HitRate@k: 0.3184\n",
      "Epoch 22, train loss: 0.0021, test loss: 0.1070, precision@k: 0.0642, recall@k: 0.1865, MAP@k: 0.0947, MRR@k: 0.1519, NDCG@k: 0.1371, HitRate@k: 0.3175\n",
      "Epoch 23, train loss: 0.0019, test loss: 0.1067, precision@k: 0.0645, recall@k: 0.1883, MAP@k: 0.0952, MRR@k: 0.1529, NDCG@k: 0.1381, HitRate@k: 0.3209\n",
      "Epoch 24, train loss: 0.0020, test loss: 0.1064, precision@k: 0.0648, recall@k: 0.1885, MAP@k: 0.0953, MRR@k: 0.1532, NDCG@k: 0.1383, HitRate@k: 0.3209\n",
      "Epoch 25, train loss: 0.0021, test loss: 0.1061, precision@k: 0.0649, recall@k: 0.1892, MAP@k: 0.0954, MRR@k: 0.1538, NDCG@k: 0.1386, HitRate@k: 0.3223\n",
      "Epoch 26, train loss: 0.0017, test loss: 0.1056, precision@k: 0.0653, recall@k: 0.1904, MAP@k: 0.0961, MRR@k: 0.1547, NDCG@k: 0.1395, HitRate@k: 0.3248\n",
      "Epoch 27, train loss: 0.0018, test loss: 0.1047, precision@k: 0.0654, recall@k: 0.1911, MAP@k: 0.0961, MRR@k: 0.1544, NDCG@k: 0.1397, HitRate@k: 0.3258\n",
      "Epoch 28, train loss: 0.0017, test loss: 0.1041, precision@k: 0.0656, recall@k: 0.1920, MAP@k: 0.0961, MRR@k: 0.1543, NDCG@k: 0.1399, HitRate@k: 0.3270\n",
      "Epoch 29, train loss: 0.0017, test loss: 0.1034, precision@k: 0.0657, recall@k: 0.1923, MAP@k: 0.0961, MRR@k: 0.1533, NDCG@k: 0.1399, HitRate@k: 0.3265\n",
      "Epoch 30, train loss: 0.0020, test loss: 0.1024, precision@k: 0.0659, recall@k: 0.1928, MAP@k: 0.0963, MRR@k: 0.1535, NDCG@k: 0.1401, HitRate@k: 0.3271\n",
      "Epoch 31, train loss: 0.0020, test loss: 0.1012, precision@k: 0.0659, recall@k: 0.1935, MAP@k: 0.0970, MRR@k: 0.1542, NDCG@k: 0.1408, HitRate@k: 0.3262\n",
      "Epoch 32, train loss: 0.0017, test loss: 0.1001, precision@k: 0.0663, recall@k: 0.1947, MAP@k: 0.0974, MRR@k: 0.1546, NDCG@k: 0.1414, HitRate@k: 0.3278\n",
      "Epoch 33, train loss: 0.0016, test loss: 0.0993, precision@k: 0.0665, recall@k: 0.1946, MAP@k: 0.0975, MRR@k: 0.1552, NDCG@k: 0.1415, HitRate@k: 0.3279\n",
      "Epoch 34, train loss: 0.0018, test loss: 0.0988, precision@k: 0.0669, recall@k: 0.1952, MAP@k: 0.0979, MRR@k: 0.1549, NDCG@k: 0.1421, HitRate@k: 0.3298\n",
      "Epoch 35, train loss: 0.0017, test loss: 0.0984, precision@k: 0.0671, recall@k: 0.1959, MAP@k: 0.0987, MRR@k: 0.1567, NDCG@k: 0.1430, HitRate@k: 0.3302\n",
      "Epoch 36, train loss: 0.0017, test loss: 0.0984, precision@k: 0.0675, recall@k: 0.1962, MAP@k: 0.0986, MRR@k: 0.1565, NDCG@k: 0.1430, HitRate@k: 0.3308\n",
      "Epoch 37, train loss: 0.0017, test loss: 0.0985, precision@k: 0.0678, recall@k: 0.1967, MAP@k: 0.0988, MRR@k: 0.1573, NDCG@k: 0.1435, HitRate@k: 0.3326\n",
      "Epoch 38, train loss: 0.0018, test loss: 0.0987, precision@k: 0.0681, recall@k: 0.1975, MAP@k: 0.0993, MRR@k: 0.1576, NDCG@k: 0.1441, HitRate@k: 0.3340\n",
      "Epoch 39, train loss: 0.0015, test loss: 0.0989, precision@k: 0.0680, recall@k: 0.1974, MAP@k: 0.0996, MRR@k: 0.1587, NDCG@k: 0.1444, HitRate@k: 0.3337\n",
      "Epoch 40, train loss: 0.0017, test loss: 0.0988, precision@k: 0.0682, recall@k: 0.1984, MAP@k: 0.1002, MRR@k: 0.1594, NDCG@k: 0.1452, HitRate@k: 0.3360\n",
      "Epoch 41, train loss: 0.0016, test loss: 0.0984, precision@k: 0.0680, recall@k: 0.1987, MAP@k: 0.0993, MRR@k: 0.1589, NDCG@k: 0.1446, HitRate@k: 0.3357\n",
      "Epoch 42, train loss: 0.0014, test loss: 0.0980, precision@k: 0.0680, recall@k: 0.1988, MAP@k: 0.0995, MRR@k: 0.1583, NDCG@k: 0.1447, HitRate@k: 0.3349\n",
      "Epoch 43, train loss: 0.0017, test loss: 0.0976, precision@k: 0.0680, recall@k: 0.1989, MAP@k: 0.0995, MRR@k: 0.1581, NDCG@k: 0.1447, HitRate@k: 0.3348\n",
      "Epoch 44, train loss: 0.0014, test loss: 0.0973, precision@k: 0.0679, recall@k: 0.1982, MAP@k: 0.0992, MRR@k: 0.1585, NDCG@k: 0.1444, HitRate@k: 0.3344\n",
      "Epoch 45, train loss: 0.0016, test loss: 0.0973, precision@k: 0.0680, recall@k: 0.1985, MAP@k: 0.0992, MRR@k: 0.1585, NDCG@k: 0.1445, HitRate@k: 0.3350\n",
      "Epoch 46, train loss: 0.0015, test loss: 0.0973, precision@k: 0.0679, recall@k: 0.1979, MAP@k: 0.0990, MRR@k: 0.1586, NDCG@k: 0.1443, HitRate@k: 0.3343\n",
      "Epoch 47, train loss: 0.0015, test loss: 0.0970, precision@k: 0.0678, recall@k: 0.1981, MAP@k: 0.0990, MRR@k: 0.1582, NDCG@k: 0.1442, HitRate@k: 0.3345\n",
      "Epoch 48, train loss: 0.0016, test loss: 0.0966, precision@k: 0.0679, recall@k: 0.1985, MAP@k: 0.0996, MRR@k: 0.1601, NDCG@k: 0.1449, HitRate@k: 0.3349\n",
      "Epoch 49, train loss: 0.0016, test loss: 0.0955, precision@k: 0.0682, recall@k: 0.2003, MAP@k: 0.0998, MRR@k: 0.1600, NDCG@k: 0.1455, HitRate@k: 0.3390\n",
      "Epoch 50, train loss: 0.0018, test loss: 0.0948, precision@k: 0.0683, recall@k: 0.2010, MAP@k: 0.0998, MRR@k: 0.1600, NDCG@k: 0.1457, HitRate@k: 0.3396\n"
     ]
    }
   ],
   "source": [
    "results: list = list()\n",
    "for epoch in range(1, model_config['num_epochs'] + 1):\n",
    "    # ------ Train\n",
    "    train_loss: float = train(\n",
    "        model=model,\n",
    "        data=data,\n",
    "        optimizer=optimizer\n",
    "    )\n",
    "    # ------ Test\n",
    "    test_loss: float = test(\n",
    "        model=model,\n",
    "        data=data\n",
    "    )\n",
    "    scheduler.step(test_loss)\n",
    "    # ------ Evaluate\n",
    "    evaluation_results: dict = evaluate(\n",
    "        k=model_config['num_recommendations'],\n",
    "        model=model,\n",
    "        data=data\n",
    "    )\n",
    "\n",
    "    # Save results\n",
    "    epoch_result = get_results(\n",
    "        epoch=epoch,\n",
    "        train_loss=train_loss,\n",
    "        test_loss=test_loss,\n",
    "        evaluation_results=evaluation_results\n",
    "    )\n",
    "    results.append(epoch_result)"
   ]
  },
  {
   "cell_type": "markdown",
   "id": "CIzjEI3R-eY-",
   "metadata": {
    "id": "CIzjEI3R-eY-"
   },
   "source": [
    "### Model evaluation"
   ]
  },
  {
   "cell_type": "code",
   "execution_count": 7,
   "id": "JHmrYAoF-dWh",
   "metadata": {
    "colab": {
     "base_uri": "https://localhost:8080/",
     "height": 472
    },
    "id": "JHmrYAoF-dWh",
    "outputId": "51b44a7b-4d40-4c23-8009-d3af553ed2e9"
   },
   "outputs": [],
   "source": [
    "results_df = pd.DataFrame(results)\n",
    "results_df.to_csv(f'../results/results_Model{model_name}.csv', index=False)"
   ]
  },
  {
   "cell_type": "code",
   "execution_count": 8,
   "id": "RwsZRSb828Ua",
   "metadata": {
    "colab": {
     "base_uri": "https://localhost:8080/",
     "height": 472
    },
    "id": "RwsZRSb828Ua",
    "outputId": "57cc0fe4-2411-44ed-cfc2-f41e6c682819"
   },
   "outputs": [
    {
     "data": {
      "image/png": "[encoded data removed]",
      "text/plain": [
       "<Figure size 640x480 with 1 Axes>"
      ]
     },
     "metadata": {},
     "output_type": "display_data"
    }
   ],
   "source": [
    "# Generate loss curve\n",
    "# Train loss\n",
    "sns.lineplot(data=results_df, x='Epoch', y='Train Loss')\n",
    "# Test loss\n",
    "sns.lineplot(data=results_df, x='Epoch', y='Test Loss')\n",
    "plt.xlabel('Epoch')\n",
    "plt.ylabel('Loss')\n",
    "plt.title('Loss curve')\n",
    "plt.yscale('log')\n",
    "plt.show()"
   ]
  },
  {
   "cell_type": "code",
   "execution_count": 9,
   "id": "QrRBTsA5vAs1",
   "metadata": {
    "colab": {
     "base_uri": "https://localhost:8080/"
    },
    "id": "QrRBTsA5vAs1",
    "outputId": "afffeb4f-f62c-4c48-cf69-c7cb5eb06f55"
   },
   "outputs": [
    {
     "data": {
      "image/png": "[encoded data removed]",
      "text/plain": [
       "<Figure size 640x480 with 1 Axes>"
      ]
     },
     "metadata": {},
     "output_type": "display_data"
    }
   ],
   "source": [
    "# Generate evaluation metrics plot\n",
    "sns.lineplot(data=results_df, x='Epoch', y='Precision@k')\n",
    "sns.lineplot(data=results_df, x='Epoch', y='Recall@k')\n",
    "sns.lineplot(data=results_df, x='Epoch', y='MAP@k')\n",
    "sns.lineplot(data=results_df, x='Epoch', y='MRR@k')\n",
    "sns.lineplot(data=results_df, x='Epoch', y='NDCG@k')\n",
    "sns.lineplot(data=results_df, x='Epoch', y='HitRate@k')\n",
    "plt.xlabel('Epoch')\n",
    "plt.ylabel('Performance')\n",
    "plt.title('Performance metrics')\n",
    "plt.show()"
   ]
  }
 ],
 "metadata": {
  "colab": {
   "collapsed_sections": [
    "ISUVX4hvFMKM",
    "aZQQpLqCFeGK",
    "2cXJ5OO10uxX"
   ],
   "name": "Collaboration Recommender 1.0 (Homogeneous).ipynb",
   "provenance": []
  },
  "kernelspec": {
   "display_name": "Python 3 (ipykernel)",
   "language": "python",
   "name": "python3"
  },
  "language_info": {
   "codemirror_mode": {
    "name": "ipython",
    "version": 3
   },
   "file_extension": ".py",
   "mimetype": "text/x-python",
   "name": "python",
   "nbconvert_exporter": "python",
   "pygments_lexer": "ipython3",
   "version": "3.12.3"
  }
 },
 "nbformat": 4,
 "nbformat_minor": 5
}
