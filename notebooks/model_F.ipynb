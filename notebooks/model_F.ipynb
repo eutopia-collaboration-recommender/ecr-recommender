{
 "cells": [
  {
   "cell_type": "markdown",
   "id": "zYPnKxIhFGVJ",
   "metadata": {
    "id": "zYPnKxIhFGVJ"
   },
   "source": [
    "# Model F\n",
    "\n",
    "This is a script showing results of **model F** in the ablation studies. The model is built using the following configuration:\n",
    "\n",
    "- **Backbone:** Transformer\n",
    "- **Graph type:** Homogeneous\n",
    "- **Loss function:** Binary-Cross Entropy with Logits Loss\n",
    "- **Embeddings used:** Yes\n",
    "- **Research trends used:** No\n",
    "- **Lead author flag used:** No\n",
    "\n",
    "*This model introduces a baseline loss function Binary-Cross Entropy with Logits loss to compare against Bayesian Personalized Ranking on graph transformer backbone.*"
   ]
  },
  {
   "cell_type": "markdown",
   "id": "x7McZwR_FRta",
   "metadata": {
    "id": "x7McZwR_FRta"
   },
   "source": [
    "## **Setting up environment**\n",
    "\n",
    "---\n",
    "\n"
   ]
  },
  {
   "cell_type": "markdown",
   "id": "cD8tnTfC60X2",
   "metadata": {
    "id": "cD8tnTfC60X2"
   },
   "source": [
    "### Loading libraries"
   ]
  },
  {
   "cell_type": "code",
   "execution_count": 15,
   "id": "5okfWmvKEI3Z",
   "metadata": {
    "ExecuteTime": {
     "end_time": "2024-12-13T17:47:50.264742Z",
     "start_time": "2024-12-13T17:47:50.256254Z"
    },
    "id": "5okfWmvKEI3Z"
   },
   "outputs": [],
   "source": [
    "import os\n",
    "import sys\n",
    "\n",
    "sys.path.insert(0, os.path.abspath(\"..\"))\n",
    "\n",
    "import torch\n",
    "import pickle\n",
    "import pandas as pd\n",
    "import seaborn as sns\n",
    "import matplotlib.pyplot as plt\n",
    "\n",
    "from typing import Optional\n",
    "\n",
    "from torch import Tensor\n",
    "from torch.nn import ModuleList\n",
    "import torch.nn.functional as F\n",
    "from torch.optim import Optimizer\n",
    "from torch_geometric.typing import Adj, OptTensor\n",
    "from torch_geometric.nn.conv import TransformerConv\n",
    "from torch.optim.lr_scheduler import LRScheduler\n",
    "\n",
    "from util.homogeneous.dataset import DatasetEuCoHM\n",
    "from util.homogeneous.model import ModelEuCoHM\n",
    "from util.homogeneous.train import (\n",
    "    train,\n",
    "    test,\n",
    "    evaluate,\n",
    "    get_results\n",
    ")"
   ]
  },
  {
   "cell_type": "markdown",
   "id": "bQ_xqBiFn97Q",
   "metadata": {
    "id": "bQ_xqBiFn97Q"
   },
   "source": [
    "### Global variables"
   ]
  },
  {
   "cell_type": "code",
   "execution_count": 7,
   "id": "9r1K6ezsn97Q",
   "metadata": {
    "ExecuteTime": {
     "end_time": "2024-12-13T21:23:20.128019Z",
     "start_time": "2024-12-13T21:23:20.037264Z"
    },
    "id": "9r1K6ezsn97Q"
   },
   "outputs": [],
   "source": [
    "# Model name\n",
    "model_name = 'E'\n",
    "# Dataset save filepath\n",
    "dataset_save_filepath = '../data/dataset_homogeneous.pkl'\n",
    "# Device name\n",
    "device = 'cpu'\n",
    "\n",
    "# Model configuration\n",
    "model_config = dict(\n",
    "    hidden_channels=64,\n",
    "    learning_rate=1e-3,\n",
    "    num_layers=4,\n",
    "    num_heads=2,\n",
    "    num_epochs=50,\n",
    "    num_recommendations=10\n",
    ")\n",
    "# Set seaborn theme\n",
    "sns.set_theme(style=\"whitegrid\", palette=\"pastel\")"
   ]
  },
  {
   "cell_type": "markdown",
   "id": "ISUVX4hvFMKM",
   "metadata": {
    "id": "ISUVX4hvFMKM"
   },
   "source": [
    "## Loading dataset\n",
    "\n",
    "---\n"
   ]
  },
  {
   "cell_type": "code",
   "execution_count": 8,
   "id": "3b608e9d-243a-46aa-a261-7ae3464093db",
   "metadata": {},
   "outputs": [],
   "source": [
    "# Add the object as a safe global to shut down warning\n",
    "torch.serialization.add_safe_globals([DatasetEuCoHM])\n",
    "# Open the dataset file and save it to variable\n",
    "with open(dataset_save_filepath, 'rb') as file:\n",
    "    dataset: DatasetEuCoHM = pickle.load(file)\n",
    "\n",
    "data = dataset.data\n",
    "author_id_map = dataset.author_id_map\n",
    "author_node_id_map = dataset.author_node_id_map"
   ]
  },
  {
   "cell_type": "markdown",
   "id": "04vUews17zy8",
   "metadata": {
    "id": "04vUews17zy8"
   },
   "source": [
    "## Model training\n",
    "\n",
    "\n",
    "---\n",
    "\n"
   ]
  },
  {
   "cell_type": "markdown",
   "id": "IMCtMQz00wC_",
   "metadata": {
    "id": "IMCtMQz00wC_"
   },
   "source": [
    "### Model definition"
   ]
  },
  {
   "cell_type": "code",
   "execution_count": 9,
   "id": "TJaBxQX_7_3D",
   "metadata": {
    "ExecuteTime": {
     "end_time": "2024-12-13T21:28:22.411435Z",
     "start_time": "2024-12-13T21:28:22.248727Z"
    },
    "id": "TJaBxQX_7_3D"
   },
   "outputs": [],
   "source": [
    "class ModelEuCoE(ModelEuCoHM):\n",
    "    def __init__(self,\n",
    "                 input_channels: int,\n",
    "                 hidden_channels: int,\n",
    "                 num_layers: int,\n",
    "                 num_recommendations: int,\n",
    "                 num_heads: int,\n",
    "                 author_node_id_map: dict,\n",
    "                 author_id_map: dict,\n",
    "                 device: str = 'cpu'):\n",
    "        super().__init__(\n",
    "            input_channels=input_channels,\n",
    "            hidden_channels=hidden_channels,\n",
    "            num_layers=num_layers,\n",
    "            num_recommendations=num_recommendations,\n",
    "            author_node_id_map=author_node_id_map,\n",
    "            author_id_map=author_id_map,\n",
    "            device=device\n",
    "        )\n",
    "        # Set number of attention heads\n",
    "        self.num_heads = num_heads\n",
    "\n",
    "        # Initialize the convolutional layers\n",
    "        self.conv_layers = ModuleList([\n",
    "            TransformerConv(in_channels=input_channels if ix == 0 else hidden_channels * self.num_heads, \n",
    "                            out_channels=hidden_channels,\n",
    "                            heads=self.num_heads)\n",
    "            for ix in range(self.num_layers)\n",
    "        ])\n",
    "\n",
    "        # Initialize batch norm layers\n",
    "        self.bn_layers = ModuleList([\n",
    "            torch.nn.BatchNorm1d(hidden_channels * self.num_heads)\n",
    "            for ix in range(self.num_layers)\n",
    "        ])\n",
    "    \n",
    "    def recommendation_loss(self,\n",
    "                            x: Tensor,\n",
    "                            edge_index: Adj,\n",
    "                            pos_edge_rank: Tensor,\n",
    "                            neg_edge_rank: Tensor,\n",
    "                            node_id: Optional[Tensor] = None) -> Tensor:\n",
    "\n",
    "        # Construct labels\n",
    "        pos_labels = pos_edge_rank.new_ones(pos_edge_rank.size(0))\n",
    "        neg_labels = neg_edge_rank.new_zeros(neg_edge_rank.size(0))\n",
    "\n",
    "        # Concatenate predictions and labels\n",
    "        all_preds = torch.cat([pos_edge_rank, neg_edge_rank], dim=0)\n",
    "        all_labels = torch.cat([pos_labels, neg_labels], dim=0)\n",
    "\n",
    "        # Compute BCE loss\n",
    "        bce_loss = F.binary_cross_entropy_with_logits(all_preds, all_labels)\n",
    "\n",
    "        return bce_loss"
   ]
  },
  {
   "cell_type": "markdown",
   "id": "9XkKmZJC06IZ",
   "metadata": {
    "id": "9XkKmZJC06IZ"
   },
   "source": [
    "### Training the model"
   ]
  },
  {
   "cell_type": "code",
   "execution_count": 10,
   "id": "b4304b1f-ce07-411d-abc3-43011dd3a83b",
   "metadata": {},
   "outputs": [],
   "source": [
    "# Initialize the model\n",
    "model = ModelEuCoE(\n",
    "    input_channels=data.num_features,\n",
    "    hidden_channels=model_config['hidden_channels'],\n",
    "    num_recommendations=model_config['num_recommendations'],\n",
    "    num_layers=model_config['num_layers'],\n",
    "    num_heads=model_config['num_heads'],\n",
    "    author_node_id_map=author_node_id_map,\n",
    "    author_id_map=author_id_map\n",
    ").to(device)\n",
    "\n",
    "# Transfer to device\n",
    "data = data.to(device)\n",
    "\n",
    "# Initialize the optimizer\n",
    "optimizer: Optimizer = torch.optim.Adam(\n",
    "    params=model.parameters(),\n",
    "    lr=model_config['learning_rate']\n",
    ")\n",
    "\n",
    "# Initialize the scheduler\n",
    "scheduler: LRScheduler = torch.optim.lr_scheduler.ReduceLROnPlateau(\n",
    "    optimizer=optimizer,\n",
    "    mode='min',\n",
    "    factor=0.5,\n",
    "    patience=10\n",
    ")"
   ]
  },
  {
   "cell_type": "code",
   "execution_count": 11,
   "id": "379e5e3ea82af758",
   "metadata": {
    "ExecuteTime": {
     "end_time": "2024-12-13T21:30:55.180060Z",
     "start_time": "2024-12-13T21:30:52.430863Z"
    }
   },
   "outputs": [
    {
     "name": "stdout",
     "output_type": "stream",
     "text": [
      "Epoch 1, train loss: 0.9114, test loss: 0.4965, precision@k: 0.0910, recall@k: 0.1757, MAP@k: 0.1091, MRR@k: 0.1721, NDCG@k: 0.1514, HitRate@k: 0.3202\n",
      "Epoch 2, train loss: 1.0688, test loss: 0.4607, precision@k: 0.0961, recall@k: 0.1882, MAP@k: 0.1168, MRR@k: 0.1863, NDCG@k: 0.1622, HitRate@k: 0.3441\n",
      "Epoch 3, train loss: 0.7232, test loss: 0.4553, precision@k: 0.0944, recall@k: 0.1837, MAP@k: 0.1144, MRR@k: 0.1839, NDCG@k: 0.1588, HitRate@k: 0.3389\n",
      "Epoch 4, train loss: 0.6115, test loss: 0.4537, precision@k: 0.0942, recall@k: 0.1822, MAP@k: 0.1134, MRR@k: 0.1828, NDCG@k: 0.1578, HitRate@k: 0.3370\n",
      "Epoch 5, train loss: 0.5536, test loss: 0.4526, precision@k: 0.0941, recall@k: 0.1810, MAP@k: 0.1136, MRR@k: 0.1845, NDCG@k: 0.1579, HitRate@k: 0.3359\n",
      "Epoch 6, train loss: 0.5116, test loss: 0.4534, precision@k: 0.0932, recall@k: 0.1785, MAP@k: 0.1126, MRR@k: 0.1830, NDCG@k: 0.1562, HitRate@k: 0.3298\n",
      "Epoch 7, train loss: 0.4797, test loss: 0.4558, precision@k: 0.0916, recall@k: 0.1749, MAP@k: 0.1105, MRR@k: 0.1808, NDCG@k: 0.1535, HitRate@k: 0.3263\n",
      "Epoch 8, train loss: 0.4547, test loss: 0.4589, precision@k: 0.0903, recall@k: 0.1711, MAP@k: 0.1086, MRR@k: 0.1781, NDCG@k: 0.1509, HitRate@k: 0.3235\n",
      "Epoch 9, train loss: 0.4395, test loss: 0.4619, precision@k: 0.0892, recall@k: 0.1677, MAP@k: 0.1070, MRR@k: 0.1758, NDCG@k: 0.1485, HitRate@k: 0.3199\n",
      "Epoch 10, train loss: 0.4248, test loss: 0.4641, precision@k: 0.0882, recall@k: 0.1657, MAP@k: 0.1051, MRR@k: 0.1730, NDCG@k: 0.1464, HitRate@k: 0.3185\n",
      "Epoch 11, train loss: 0.4113, test loss: 0.4662, precision@k: 0.0872, recall@k: 0.1628, MAP@k: 0.1034, MRR@k: 0.1710, NDCG@k: 0.1442, HitRate@k: 0.3151\n",
      "Epoch 12, train loss: 0.4027, test loss: 0.4686, precision@k: 0.0866, recall@k: 0.1610, MAP@k: 0.1022, MRR@k: 0.1695, NDCG@k: 0.1427, HitRate@k: 0.3127\n",
      "Epoch 13, train loss: 0.3969, test loss: 0.4713, precision@k: 0.0861, recall@k: 0.1599, MAP@k: 0.1011, MRR@k: 0.1682, NDCG@k: 0.1416, HitRate@k: 0.3110\n",
      "Epoch 14, train loss: 0.3912, test loss: 0.4741, precision@k: 0.0857, recall@k: 0.1594, MAP@k: 0.1002, MRR@k: 0.1667, NDCG@k: 0.1406, HitRate@k: 0.3098\n",
      "Epoch 15, train loss: 0.3886, test loss: 0.4769, precision@k: 0.0853, recall@k: 0.1591, MAP@k: 0.0996, MRR@k: 0.1657, NDCG@k: 0.1400, HitRate@k: 0.3098\n",
      "Epoch 16, train loss: 0.3858, test loss: 0.4795, precision@k: 0.0847, recall@k: 0.1578, MAP@k: 0.0991, MRR@k: 0.1647, NDCG@k: 0.1391, HitRate@k: 0.3074\n",
      "Epoch 17, train loss: 0.3842, test loss: 0.4791, precision@k: 0.0848, recall@k: 0.1575, MAP@k: 0.0990, MRR@k: 0.1648, NDCG@k: 0.1390, HitRate@k: 0.3073\n",
      "Epoch 18, train loss: 0.3839, test loss: 0.4787, precision@k: 0.0847, recall@k: 0.1576, MAP@k: 0.0991, MRR@k: 0.1652, NDCG@k: 0.1391, HitRate@k: 0.3077\n",
      "Epoch 19, train loss: 0.3835, test loss: 0.4785, precision@k: 0.0846, recall@k: 0.1583, MAP@k: 0.0990, MRR@k: 0.1653, NDCG@k: 0.1392, HitRate@k: 0.3090\n",
      "Epoch 20, train loss: 0.3824, test loss: 0.4784, precision@k: 0.0848, recall@k: 0.1591, MAP@k: 0.0991, MRR@k: 0.1657, NDCG@k: 0.1395, HitRate@k: 0.3107\n",
      "Epoch 21, train loss: 0.3813, test loss: 0.4784, precision@k: 0.0847, recall@k: 0.1594, MAP@k: 0.0990, MRR@k: 0.1656, NDCG@k: 0.1395, HitRate@k: 0.3106\n",
      "Epoch 22, train loss: 0.3813, test loss: 0.4784, precision@k: 0.0847, recall@k: 0.1593, MAP@k: 0.0990, MRR@k: 0.1660, NDCG@k: 0.1395, HitRate@k: 0.3105\n",
      "Epoch 23, train loss: 0.3798, test loss: 0.4784, precision@k: 0.0846, recall@k: 0.1591, MAP@k: 0.0990, MRR@k: 0.1661, NDCG@k: 0.1395, HitRate@k: 0.3106\n",
      "Epoch 24, train loss: 0.3795, test loss: 0.4785, precision@k: 0.0847, recall@k: 0.1594, MAP@k: 0.0990, MRR@k: 0.1660, NDCG@k: 0.1395, HitRate@k: 0.3110\n",
      "Epoch 25, train loss: 0.3787, test loss: 0.4786, precision@k: 0.0847, recall@k: 0.1594, MAP@k: 0.0991, MRR@k: 0.1658, NDCG@k: 0.1396, HitRate@k: 0.3110\n",
      "Epoch 26, train loss: 0.3786, test loss: 0.4788, precision@k: 0.0846, recall@k: 0.1599, MAP@k: 0.0991, MRR@k: 0.1657, NDCG@k: 0.1397, HitRate@k: 0.3109\n",
      "Epoch 27, train loss: 0.3770, test loss: 0.4789, precision@k: 0.0847, recall@k: 0.1602, MAP@k: 0.0992, MRR@k: 0.1658, NDCG@k: 0.1398, HitRate@k: 0.3113\n",
      "Epoch 28, train loss: 0.3769, test loss: 0.4787, precision@k: 0.0846, recall@k: 0.1598, MAP@k: 0.0991, MRR@k: 0.1656, NDCG@k: 0.1396, HitRate@k: 0.3112\n",
      "Epoch 29, train loss: 0.3767, test loss: 0.4786, precision@k: 0.0846, recall@k: 0.1599, MAP@k: 0.0992, MRR@k: 0.1656, NDCG@k: 0.1397, HitRate@k: 0.3113\n",
      "Epoch 30, train loss: 0.3761, test loss: 0.4786, precision@k: 0.0847, recall@k: 0.1603, MAP@k: 0.0992, MRR@k: 0.1656, NDCG@k: 0.1398, HitRate@k: 0.3119\n",
      "Epoch 31, train loss: 0.3759, test loss: 0.4786, precision@k: 0.0848, recall@k: 0.1604, MAP@k: 0.0994, MRR@k: 0.1656, NDCG@k: 0.1400, HitRate@k: 0.3118\n",
      "Epoch 32, train loss: 0.3759, test loss: 0.4786, precision@k: 0.0848, recall@k: 0.1605, MAP@k: 0.0995, MRR@k: 0.1657, NDCG@k: 0.1401, HitRate@k: 0.3120\n",
      "Epoch 33, train loss: 0.3748, test loss: 0.4788, precision@k: 0.0849, recall@k: 0.1610, MAP@k: 0.0996, MRR@k: 0.1660, NDCG@k: 0.1403, HitRate@k: 0.3127\n",
      "Epoch 34, train loss: 0.3751, test loss: 0.4789, precision@k: 0.0850, recall@k: 0.1614, MAP@k: 0.0998, MRR@k: 0.1661, NDCG@k: 0.1406, HitRate@k: 0.3131\n",
      "Epoch 35, train loss: 0.3749, test loss: 0.4791, precision@k: 0.0851, recall@k: 0.1613, MAP@k: 0.0999, MRR@k: 0.1661, NDCG@k: 0.1406, HitRate@k: 0.3133\n",
      "Epoch 36, train loss: 0.3750, test loss: 0.4793, precision@k: 0.0851, recall@k: 0.1615, MAP@k: 0.1000, MRR@k: 0.1663, NDCG@k: 0.1408, HitRate@k: 0.3138\n",
      "Epoch 37, train loss: 0.3740, test loss: 0.4796, precision@k: 0.0853, recall@k: 0.1618, MAP@k: 0.1002, MRR@k: 0.1666, NDCG@k: 0.1411, HitRate@k: 0.3144\n",
      "Epoch 38, train loss: 0.3731, test loss: 0.4798, precision@k: 0.0855, recall@k: 0.1622, MAP@k: 0.1005, MRR@k: 0.1670, NDCG@k: 0.1414, HitRate@k: 0.3154\n",
      "Epoch 39, train loss: 0.3742, test loss: 0.4800, precision@k: 0.0855, recall@k: 0.1622, MAP@k: 0.1005, MRR@k: 0.1670, NDCG@k: 0.1414, HitRate@k: 0.3156\n",
      "Epoch 40, train loss: 0.3732, test loss: 0.4801, precision@k: 0.0855, recall@k: 0.1621, MAP@k: 0.1005, MRR@k: 0.1672, NDCG@k: 0.1415, HitRate@k: 0.3160\n",
      "Epoch 41, train loss: 0.3735, test loss: 0.4803, precision@k: 0.0855, recall@k: 0.1622, MAP@k: 0.1006, MRR@k: 0.1674, NDCG@k: 0.1416, HitRate@k: 0.3164\n",
      "Epoch 42, train loss: 0.3731, test loss: 0.4804, precision@k: 0.0856, recall@k: 0.1623, MAP@k: 0.1007, MRR@k: 0.1676, NDCG@k: 0.1417, HitRate@k: 0.3168\n",
      "Epoch 43, train loss: 0.3725, test loss: 0.4806, precision@k: 0.0857, recall@k: 0.1625, MAP@k: 0.1007, MRR@k: 0.1678, NDCG@k: 0.1418, HitRate@k: 0.3173\n",
      "Epoch 44, train loss: 0.3727, test loss: 0.4808, precision@k: 0.0856, recall@k: 0.1626, MAP@k: 0.1008, MRR@k: 0.1679, NDCG@k: 0.1418, HitRate@k: 0.3175\n",
      "Epoch 45, train loss: 0.3729, test loss: 0.4809, precision@k: 0.0857, recall@k: 0.1628, MAP@k: 0.1009, MRR@k: 0.1680, NDCG@k: 0.1420, HitRate@k: 0.3178\n",
      "Epoch 46, train loss: 0.3730, test loss: 0.4811, precision@k: 0.0858, recall@k: 0.1628, MAP@k: 0.1009, MRR@k: 0.1682, NDCG@k: 0.1421, HitRate@k: 0.3179\n",
      "Epoch 47, train loss: 0.3728, test loss: 0.4813, precision@k: 0.0858, recall@k: 0.1629, MAP@k: 0.1011, MRR@k: 0.1683, NDCG@k: 0.1422, HitRate@k: 0.3179\n",
      "Epoch 48, train loss: 0.3719, test loss: 0.4815, precision@k: 0.0859, recall@k: 0.1630, MAP@k: 0.1011, MRR@k: 0.1685, NDCG@k: 0.1423, HitRate@k: 0.3183\n",
      "Epoch 49, train loss: 0.3716, test loss: 0.4816, precision@k: 0.0859, recall@k: 0.1631, MAP@k: 0.1012, MRR@k: 0.1685, NDCG@k: 0.1424, HitRate@k: 0.3182\n",
      "Epoch 50, train loss: 0.3714, test loss: 0.4818, precision@k: 0.0859, recall@k: 0.1631, MAP@k: 0.1012, MRR@k: 0.1686, NDCG@k: 0.1424, HitRate@k: 0.3183\n"
     ]
    }
   ],
   "source": [
    "results: list = list()\n",
    "for epoch in range(1, model_config['num_epochs'] + 1):\n",
    "    # ------ Train\n",
    "    train_loss: float = train(\n",
    "        model=model,\n",
    "        data=data,\n",
    "        optimizer=optimizer\n",
    "    )\n",
    "    # ------ Test\n",
    "    test_loss: float = test(\n",
    "        model=model,\n",
    "        data=data\n",
    "    )\n",
    "    scheduler.step(test_loss)\n",
    "    # ------ Evaluate\n",
    "    evaluation_results: dict = evaluate(\n",
    "        k=model_config['num_recommendations'],\n",
    "        model=model,\n",
    "        data=data\n",
    "    )\n",
    "\n",
    "    # Save results\n",
    "    epoch_result = get_results(\n",
    "        epoch=epoch,\n",
    "        train_loss=train_loss,\n",
    "        test_loss=test_loss,\n",
    "        evaluation_results=evaluation_results\n",
    "    )\n",
    "    results.append(epoch_result)"
   ]
  },
  {
   "cell_type": "markdown",
   "id": "CIzjEI3R-eY-",
   "metadata": {
    "id": "CIzjEI3R-eY-"
   },
   "source": [
    "### Model evaluation"
   ]
  },
  {
   "cell_type": "code",
   "execution_count": 12,
   "id": "JHmrYAoF-dWh",
   "metadata": {
    "colab": {
     "base_uri": "https://localhost:8080/",
     "height": 472
    },
    "id": "JHmrYAoF-dWh",
    "outputId": "51b44a7b-4d40-4c23-8009-d3af553ed2e9"
   },
   "outputs": [],
   "source": [
    "results_df = pd.DataFrame(results)\n",
    "results_df.to_csv(f'../results/results_Model{model_name}.csv', index=False)"
   ]
  },
  {
   "cell_type": "code",
   "execution_count": 13,
   "id": "RwsZRSb828Ua",
   "metadata": {
    "colab": {
     "base_uri": "https://localhost:8080/",
     "height": 472
    },
    "id": "RwsZRSb828Ua",
    "outputId": "57cc0fe4-2411-44ed-cfc2-f41e6c682819"
   },
   "outputs": [
    {
     "data": {
      "image/png": "[encoded data removed]",
      "text/plain": [
       "<Figure size 640x480 with 1 Axes>"
      ]
     },
     "metadata": {},
     "output_type": "display_data"
    }
   ],
   "source": [
    "# Generate loss curve\n",
    "# Train loss\n",
    "sns.lineplot(data=results_df, x='Epoch', y='Train Loss')\n",
    "# Test loss\n",
    "sns.lineplot(data=results_df, x='Epoch', y='Test Loss')\n",
    "plt.xlabel('Epoch')\n",
    "plt.ylabel('Loss')\n",
    "plt.title('Loss curve')\n",
    "plt.yscale('log')\n",
    "plt.show()"
   ]
  },
  {
   "cell_type": "code",
   "execution_count": 14,
   "id": "QrRBTsA5vAs1",
   "metadata": {
    "colab": {
     "base_uri": "https://localhost:8080/"
    },
    "id": "QrRBTsA5vAs1",
    "outputId": "afffeb4f-f62c-4c48-cf69-c7cb5eb06f55"
   },
   "outputs": [
    {
     "data": {
      "image/png": "[encoded data removed]",
      "text/plain": [
       "<Figure size 640x480 with 1 Axes>"
      ]
     },
     "metadata": {},
     "output_type": "display_data"
    }
   ],
   "source": [
    "# Generate evaluation metrics plot\n",
    "sns.lineplot(data=results_df, x='Epoch', y='Precision@k')\n",
    "sns.lineplot(data=results_df, x='Epoch', y='Recall@k')\n",
    "sns.lineplot(data=results_df, x='Epoch', y='MAP@k')\n",
    "sns.lineplot(data=results_df, x='Epoch', y='MRR@k')\n",
    "sns.lineplot(data=results_df, x='Epoch', y='NDCG@k')\n",
    "sns.lineplot(data=results_df, x='Epoch', y='HitRate@k')\n",
    "plt.xlabel('Epoch')\n",
    "plt.ylabel('Performance')\n",
    "plt.title('Performance metrics')\n",
    "plt.show()"
   ]
  }
 ],
 "metadata": {
  "colab": {
   "collapsed_sections": [
    "ISUVX4hvFMKM",
    "aZQQpLqCFeGK",
    "2cXJ5OO10uxX"
   ],
   "name": "Collaboration Recommender 1.0 (Homogeneous).ipynb",
   "provenance": []
  },
  "kernelspec": {
   "display_name": "Python 3 (ipykernel)",
   "language": "python",
   "name": "python3"
  },
  "language_info": {
   "codemirror_mode": {
    "name": "ipython",
    "version": 3
   },
   "file_extension": ".py",
   "mimetype": "text/x-python",
   "name": "python",
   "nbconvert_exporter": "python",
   "pygments_lexer": "ipython3",
   "version": "3.12.3"
  }
 },
 "nbformat": 4,
 "nbformat_minor": 5
}
