{
 "cells": [
  {
   "cell_type": "markdown",
   "id": "zYPnKxIhFGVJ",
   "metadata": {
    "id": "zYPnKxIhFGVJ"
   },
   "source": [
    "# Model E\n",
    "\n",
    "This is a script showing results of **model E** in the ablation studies. The model is built using the following configuration:\n",
    "\n",
    "- **Backbone:** GATv2\n",
    "- **Graph type:** Homogeneous\n",
    "- **Loss function:** Binary-Cross Entropy with Logits Loss\n",
    "- **Embeddings used:** average\n",
    "- **Keyword popularity used:** No\n",
    "\n",
    "*This model introduces a baseline loss function Binary-Cross Entropy with Logits loss to compare against Bayesian Personalized Ranking on graph attention network backbone.*"
   ]
  },
  {
   "cell_type": "markdown",
   "id": "x7McZwR_FRta",
   "metadata": {
    "id": "x7McZwR_FRta"
   },
   "source": [
    "## **Setting up environment**\n",
    "\n",
    "---\n",
    "\n"
   ]
  },
  {
   "cell_type": "markdown",
   "id": "cD8tnTfC60X2",
   "metadata": {
    "id": "cD8tnTfC60X2"
   },
   "source": [
    "### Loading libraries"
   ]
  },
  {
   "cell_type": "code",
   "execution_count": 1,
   "id": "5okfWmvKEI3Z",
   "metadata": {
    "ExecuteTime": {
     "end_time": "2024-12-13T17:47:50.264742Z",
     "start_time": "2024-12-13T17:47:50.256254Z"
    },
    "id": "5okfWmvKEI3Z"
   },
   "outputs": [],
   "source": [
    "import os\n",
    "import sys\n",
    "\n",
    "sys.path.insert(0, os.path.abspath(\"..\"))\n",
    "\n",
    "import torch\n",
    "import pickle\n",
    "import pandas as pd\n",
    "import seaborn as sns\n",
    "import matplotlib.pyplot as plt\n",
    "\n",
    "from typing import Optional\n",
    "\n",
    "from torch import Tensor\n",
    "from torch.nn import ModuleList\n",
    "import torch.nn.functional as F\n",
    "from torch.optim import Optimizer\n",
    "from torch_geometric.typing import Adj, OptTensor\n",
    "from torch_geometric.nn.conv import GATv2Conv\n",
    "from torch.optim.lr_scheduler import LRScheduler\n",
    "\n",
    "from util.torch_geometric import get_results\n",
    "from util.homogeneous.dataset import DatasetEuCoHM\n",
    "from util.homogeneous.model import ModelEuCoHM\n",
    "from util.homogeneous.train import (\n",
    "    train,\n",
    "    test,\n",
    "    evaluate\n",
    ")"
   ]
  },
  {
   "cell_type": "markdown",
   "id": "bQ_xqBiFn97Q",
   "metadata": {
    "id": "bQ_xqBiFn97Q"
   },
   "source": [
    "### Global variables"
   ]
  },
  {
   "cell_type": "code",
   "execution_count": 2,
   "id": "9r1K6ezsn97Q",
   "metadata": {
    "ExecuteTime": {
     "end_time": "2024-12-13T21:23:20.128019Z",
     "start_time": "2024-12-13T21:23:20.037264Z"
    },
    "id": "9r1K6ezsn97Q"
   },
   "outputs": [],
   "source": [
    "# Model name\n",
    "model_name = 'E'\n",
    "# Dataset save filepath\n",
    "dataset_save_filepath = '../data/dataset_homogeneous_base.pkl'\n",
    "# Device name\n",
    "device = 'cpu'\n",
    "\n",
    "# Model configuration\n",
    "model_config = dict(\n",
    "    hidden_channels=64,\n",
    "    learning_rate=1e-3,\n",
    "    num_layers=4,\n",
    "    num_epochs=50,\n",
    "    num_recommendations=10\n",
    ")\n",
    "# Set seaborn theme\n",
    "sns.set_theme(style=\"whitegrid\", palette=\"pastel\")"
   ]
  },
  {
   "cell_type": "markdown",
   "id": "ISUVX4hvFMKM",
   "metadata": {
    "id": "ISUVX4hvFMKM"
   },
   "source": [
    "## Loading dataset\n",
    "\n",
    "---\n"
   ]
  },
  {
   "cell_type": "code",
   "execution_count": 3,
   "id": "3b608e9d-243a-46aa-a261-7ae3464093db",
   "metadata": {},
   "outputs": [
    {
     "name": "stderr",
     "output_type": "stream",
     "text": [
      "/home/eucollab/eutopia-colllaboration/ecr-recommender/.venv/lib/python3.12/site-packages/torch/storage.py:414: FutureWarning: You are using `torch.load` with `weights_only=False` (the current default value), which uses the default pickle module implicitly. It is possible to construct malicious pickle data which will execute arbitrary code during unpickling (See https://github.com/pytorch/pytorch/blob/main/SECURITY.md#untrusted-models for more details). In a future release, the default value for `weights_only` will be flipped to `True`. This limits the functions that could be executed during unpickling. Arbitrary objects will no longer be allowed to be loaded via this mode unless they are explicitly allowlisted by the user via `torch.serialization.add_safe_globals`. We recommend you start setting `weights_only=True` for any use case where you don't have full control of the loaded file. Please open an issue on GitHub for any issues related to this experimental feature.\n",
      "  return torch.load(io.BytesIO(b))\n"
     ]
    }
   ],
   "source": [
    "# Add the object as a safe global to shut down warning\n",
    "torch.serialization.add_safe_globals([DatasetEuCoHM])\n",
    "# Open the dataset file and save it to variable\n",
    "with open(dataset_save_filepath, 'rb') as file:\n",
    "    dataset: DatasetEuCoHM = pickle.load(file)\n",
    "\n",
    "data = dataset.data\n",
    "author_id_map = dataset.author_id_map\n",
    "author_node_id_map = dataset.author_node_id_map"
   ]
  },
  {
   "cell_type": "markdown",
   "id": "04vUews17zy8",
   "metadata": {
    "id": "04vUews17zy8"
   },
   "source": [
    "## Model training\n",
    "\n",
    "\n",
    "---\n",
    "\n"
   ]
  },
  {
   "cell_type": "markdown",
   "id": "IMCtMQz00wC_",
   "metadata": {
    "id": "IMCtMQz00wC_"
   },
   "source": [
    "### Model definition"
   ]
  },
  {
   "cell_type": "code",
   "execution_count": 4,
   "id": "TJaBxQX_7_3D",
   "metadata": {
    "ExecuteTime": {
     "end_time": "2024-12-13T21:28:22.411435Z",
     "start_time": "2024-12-13T21:28:22.248727Z"
    },
    "id": "TJaBxQX_7_3D"
   },
   "outputs": [],
   "source": [
    "class ModelEuCoE(ModelEuCoHM):\n",
    "    def __init__(self,\n",
    "                 input_channels: int,\n",
    "                 hidden_channels: int,\n",
    "                 num_layers: int,\n",
    "                 num_recommendations: int,\n",
    "                 author_node_id_map: dict,\n",
    "                 author_id_map: dict,\n",
    "                 device: str = 'cpu'):\n",
    "        super().__init__(\n",
    "            input_channels=input_channels,\n",
    "            hidden_channels=hidden_channels,\n",
    "            num_layers=num_layers,\n",
    "            num_recommendations=num_recommendations,\n",
    "            author_node_id_map=author_node_id_map,\n",
    "            author_id_map=author_id_map,\n",
    "            device=device\n",
    "        )\n",
    "\n",
    "    \n",
    "    def recommendation_loss(self,\n",
    "                            x: Tensor,\n",
    "                            edge_index: Adj,\n",
    "                            pos_edge_rank: Tensor,\n",
    "                            neg_edge_rank: Tensor,\n",
    "                            edge_weight: Optional[Tensor] = None,\n",
    "                            node_id: Optional[Tensor] = None) -> Tensor:\n",
    "\n",
    "        # Construct labels\n",
    "        pos_labels = pos_edge_rank.new_ones(pos_edge_rank.size(0))\n",
    "        neg_labels = neg_edge_rank.new_zeros(neg_edge_rank.size(0))\n",
    "\n",
    "        # Concatenate predictions and labels\n",
    "        all_preds = torch.cat([pos_edge_rank, neg_edge_rank], dim=0)\n",
    "        all_labels = torch.cat([pos_labels, neg_labels], dim=0)\n",
    "\n",
    "        # Compute BCE loss\n",
    "        bce_loss = F.binary_cross_entropy_with_logits(all_preds, all_labels)\n",
    "\n",
    "        return bce_loss"
   ]
  },
  {
   "cell_type": "markdown",
   "id": "9XkKmZJC06IZ",
   "metadata": {
    "id": "9XkKmZJC06IZ"
   },
   "source": [
    "### Training the model"
   ]
  },
  {
   "cell_type": "code",
   "execution_count": 5,
   "id": "b4304b1f-ce07-411d-abc3-43011dd3a83b",
   "metadata": {},
   "outputs": [],
   "source": [
    "# Initialize the model\n",
    "model = ModelEuCoE(\n",
    "    input_channels=data.num_features,\n",
    "    hidden_channels=model_config['hidden_channels'],\n",
    "    num_recommendations=model_config['num_recommendations'],\n",
    "    num_layers=model_config['num_layers'],\n",
    "    author_node_id_map=author_node_id_map,\n",
    "    author_id_map=author_id_map\n",
    ").to(device)\n",
    "\n",
    "# Transfer to device\n",
    "data = data.to(device)\n",
    "\n",
    "# Initialize the optimizer\n",
    "optimizer: Optimizer = torch.optim.Adam(\n",
    "    params=model.parameters(),\n",
    "    lr=model_config['learning_rate']\n",
    ")\n",
    "\n",
    "# Initialize the scheduler\n",
    "scheduler: LRScheduler = torch.optim.lr_scheduler.ReduceLROnPlateau(\n",
    "    optimizer=optimizer,\n",
    "    mode='min',\n",
    "    factor=0.5,\n",
    "    patience=10\n",
    ")"
   ]
  },
  {
   "cell_type": "code",
   "execution_count": 6,
   "id": "379e5e3ea82af758",
   "metadata": {
    "ExecuteTime": {
     "end_time": "2024-12-13T21:30:55.180060Z",
     "start_time": "2024-12-13T21:30:52.430863Z"
    }
   },
   "outputs": [
    {
     "name": "stdout",
     "output_type": "stream",
     "text": [
      "Epoch 1, train loss: 0.5318, test loss: 0.6629, precision@k: 0.0429, recall@k: 0.1190, MAP@k: 0.0632, MRR@k: 0.1078, NDCG@k: 0.0914, HitRate@k: 0.2191\n",
      "Epoch 2, train loss: 0.4756, test loss: 0.5877, precision@k: 0.0454, recall@k: 0.1278, MAP@k: 0.0696, MRR@k: 0.1169, NDCG@k: 0.0993, HitRate@k: 0.2324\n",
      "Epoch 3, train loss: 0.4473, test loss: 0.5474, precision@k: 0.0470, recall@k: 0.1318, MAP@k: 0.0723, MRR@k: 0.1226, NDCG@k: 0.1032, HitRate@k: 0.2398\n",
      "Epoch 4, train loss: 0.4354, test loss: 0.5217, precision@k: 0.0490, recall@k: 0.1381, MAP@k: 0.0751, MRR@k: 0.1271, NDCG@k: 0.1076, HitRate@k: 0.2520\n",
      "Epoch 5, train loss: 0.4260, test loss: 0.5034, precision@k: 0.0511, recall@k: 0.1443, MAP@k: 0.0784, MRR@k: 0.1320, NDCG@k: 0.1123, HitRate@k: 0.2601\n",
      "Epoch 6, train loss: 0.4200, test loss: 0.4900, precision@k: 0.0521, recall@k: 0.1482, MAP@k: 0.0817, MRR@k: 0.1373, NDCG@k: 0.1163, HitRate@k: 0.2669\n",
      "Epoch 7, train loss: 0.4156, test loss: 0.4799, precision@k: 0.0532, recall@k: 0.1523, MAP@k: 0.0836, MRR@k: 0.1390, NDCG@k: 0.1189, HitRate@k: 0.2722\n",
      "Epoch 8, train loss: 0.4126, test loss: 0.4722, precision@k: 0.0536, recall@k: 0.1539, MAP@k: 0.0859, MRR@k: 0.1432, NDCG@k: 0.1214, HitRate@k: 0.2744\n",
      "Epoch 9, train loss: 0.4107, test loss: 0.4663, precision@k: 0.0542, recall@k: 0.1568, MAP@k: 0.0875, MRR@k: 0.1460, NDCG@k: 0.1236, HitRate@k: 0.2783\n",
      "Epoch 10, train loss: 0.4088, test loss: 0.4616, precision@k: 0.0548, recall@k: 0.1583, MAP@k: 0.0880, MRR@k: 0.1467, NDCG@k: 0.1244, HitRate@k: 0.2819\n",
      "Epoch 11, train loss: 0.4081, test loss: 0.4578, precision@k: 0.0557, recall@k: 0.1624, MAP@k: 0.0891, MRR@k: 0.1497, NDCG@k: 0.1267, HitRate@k: 0.2869\n",
      "Epoch 12, train loss: 0.4065, test loss: 0.4546, precision@k: 0.0560, recall@k: 0.1620, MAP@k: 0.0898, MRR@k: 0.1509, NDCG@k: 0.1272, HitRate@k: 0.2855\n",
      "Epoch 13, train loss: 0.4054, test loss: 0.4519, precision@k: 0.0563, recall@k: 0.1626, MAP@k: 0.0900, MRR@k: 0.1516, NDCG@k: 0.1276, HitRate@k: 0.2861\n",
      "Epoch 14, train loss: 0.4047, test loss: 0.4495, precision@k: 0.0568, recall@k: 0.1642, MAP@k: 0.0905, MRR@k: 0.1527, NDCG@k: 0.1286, HitRate@k: 0.2887\n",
      "Epoch 15, train loss: 0.4032, test loss: 0.4472, precision@k: 0.0575, recall@k: 0.1664, MAP@k: 0.0914, MRR@k: 0.1545, NDCG@k: 0.1300, HitRate@k: 0.2918\n",
      "Epoch 16, train loss: 0.4013, test loss: 0.4451, precision@k: 0.0586, recall@k: 0.1695, MAP@k: 0.0925, MRR@k: 0.1550, NDCG@k: 0.1316, HitRate@k: 0.2964\n",
      "Epoch 17, train loss: 0.4015, test loss: 0.4431, precision@k: 0.0598, recall@k: 0.1723, MAP@k: 0.0933, MRR@k: 0.1554, NDCG@k: 0.1330, HitRate@k: 0.2997\n",
      "Epoch 18, train loss: 0.4002, test loss: 0.4413, precision@k: 0.0605, recall@k: 0.1746, MAP@k: 0.0940, MRR@k: 0.1568, NDCG@k: 0.1342, HitRate@k: 0.3040\n",
      "Epoch 19, train loss: 0.3988, test loss: 0.4397, precision@k: 0.0612, recall@k: 0.1760, MAP@k: 0.0949, MRR@k: 0.1573, NDCG@k: 0.1354, HitRate@k: 0.3063\n",
      "Epoch 20, train loss: 0.3982, test loss: 0.4384, precision@k: 0.0617, recall@k: 0.1778, MAP@k: 0.0962, MRR@k: 0.1589, NDCG@k: 0.1369, HitRate@k: 0.3076\n",
      "Epoch 21, train loss: 0.3975, test loss: 0.4372, precision@k: 0.0622, recall@k: 0.1779, MAP@k: 0.0976, MRR@k: 0.1609, NDCG@k: 0.1382, HitRate@k: 0.3080\n",
      "Epoch 22, train loss: 0.3964, test loss: 0.4361, precision@k: 0.0626, recall@k: 0.1797, MAP@k: 0.0982, MRR@k: 0.1613, NDCG@k: 0.1390, HitRate@k: 0.3108\n",
      "Epoch 23, train loss: 0.3952, test loss: 0.4350, precision@k: 0.0630, recall@k: 0.1802, MAP@k: 0.0992, MRR@k: 0.1627, NDCG@k: 0.1400, HitRate@k: 0.3122\n",
      "Epoch 24, train loss: 0.3949, test loss: 0.4341, precision@k: 0.0634, recall@k: 0.1814, MAP@k: 0.0998, MRR@k: 0.1631, NDCG@k: 0.1408, HitRate@k: 0.3125\n",
      "Epoch 25, train loss: 0.3942, test loss: 0.4333, precision@k: 0.0634, recall@k: 0.1819, MAP@k: 0.0998, MRR@k: 0.1629, NDCG@k: 0.1410, HitRate@k: 0.3133\n",
      "Epoch 26, train loss: 0.3937, test loss: 0.4326, precision@k: 0.0631, recall@k: 0.1811, MAP@k: 0.1003, MRR@k: 0.1650, NDCG@k: 0.1414, HitRate@k: 0.3133\n",
      "Epoch 27, train loss: 0.3933, test loss: 0.4321, precision@k: 0.0631, recall@k: 0.1811, MAP@k: 0.1004, MRR@k: 0.1646, NDCG@k: 0.1414, HitRate@k: 0.3130\n",
      "Epoch 28, train loss: 0.3929, test loss: 0.4316, precision@k: 0.0628, recall@k: 0.1811, MAP@k: 0.1003, MRR@k: 0.1651, NDCG@k: 0.1413, HitRate@k: 0.3121\n",
      "Epoch 29, train loss: 0.3913, test loss: 0.4313, precision@k: 0.0628, recall@k: 0.1811, MAP@k: 0.1006, MRR@k: 0.1656, NDCG@k: 0.1415, HitRate@k: 0.3123\n",
      "Epoch 30, train loss: 0.3903, test loss: 0.4309, precision@k: 0.0629, recall@k: 0.1819, MAP@k: 0.1005, MRR@k: 0.1651, NDCG@k: 0.1416, HitRate@k: 0.3137\n",
      "Epoch 31, train loss: 0.3905, test loss: 0.4305, precision@k: 0.0626, recall@k: 0.1811, MAP@k: 0.0997, MRR@k: 0.1637, NDCG@k: 0.1407, HitRate@k: 0.3116\n",
      "Epoch 32, train loss: 0.3894, test loss: 0.4300, precision@k: 0.0626, recall@k: 0.1812, MAP@k: 0.0994, MRR@k: 0.1638, NDCG@k: 0.1405, HitRate@k: 0.3120\n",
      "Epoch 33, train loss: 0.3890, test loss: 0.4296, precision@k: 0.0628, recall@k: 0.1822, MAP@k: 0.0998, MRR@k: 0.1640, NDCG@k: 0.1410, HitRate@k: 0.3135\n",
      "Epoch 34, train loss: 0.3896, test loss: 0.4291, precision@k: 0.0627, recall@k: 0.1820, MAP@k: 0.1001, MRR@k: 0.1647, NDCG@k: 0.1413, HitRate@k: 0.3120\n",
      "Epoch 35, train loss: 0.3876, test loss: 0.4287, precision@k: 0.0628, recall@k: 0.1833, MAP@k: 0.1004, MRR@k: 0.1648, NDCG@k: 0.1417, HitRate@k: 0.3138\n",
      "Epoch 36, train loss: 0.3881, test loss: 0.4283, precision@k: 0.0629, recall@k: 0.1839, MAP@k: 0.1007, MRR@k: 0.1654, NDCG@k: 0.1421, HitRate@k: 0.3130\n",
      "Epoch 37, train loss: 0.3861, test loss: 0.4279, precision@k: 0.0630, recall@k: 0.1846, MAP@k: 0.1004, MRR@k: 0.1647, NDCG@k: 0.1420, HitRate@k: 0.3146\n",
      "Epoch 38, train loss: 0.3868, test loss: 0.4275, precision@k: 0.0628, recall@k: 0.1844, MAP@k: 0.1008, MRR@k: 0.1653, NDCG@k: 0.1422, HitRate@k: 0.3141\n",
      "Epoch 39, train loss: 0.3861, test loss: 0.4271, precision@k: 0.0629, recall@k: 0.1843, MAP@k: 0.1004, MRR@k: 0.1648, NDCG@k: 0.1419, HitRate@k: 0.3135\n",
      "Epoch 40, train loss: 0.3852, test loss: 0.4268, precision@k: 0.0629, recall@k: 0.1838, MAP@k: 0.1003, MRR@k: 0.1644, NDCG@k: 0.1417, HitRate@k: 0.3130\n",
      "Epoch 41, train loss: 0.3849, test loss: 0.4266, precision@k: 0.0629, recall@k: 0.1836, MAP@k: 0.1004, MRR@k: 0.1643, NDCG@k: 0.1417, HitRate@k: 0.3129\n",
      "Epoch 42, train loss: 0.3854, test loss: 0.4265, precision@k: 0.0633, recall@k: 0.1846, MAP@k: 0.1003, MRR@k: 0.1644, NDCG@k: 0.1419, HitRate@k: 0.3153\n",
      "Epoch 43, train loss: 0.3839, test loss: 0.4263, precision@k: 0.0633, recall@k: 0.1843, MAP@k: 0.0998, MRR@k: 0.1641, NDCG@k: 0.1415, HitRate@k: 0.3149\n",
      "Epoch 44, train loss: 0.3848, test loss: 0.4263, precision@k: 0.0630, recall@k: 0.1835, MAP@k: 0.0995, MRR@k: 0.1631, NDCG@k: 0.1410, HitRate@k: 0.3136\n",
      "Epoch 45, train loss: 0.3826, test loss: 0.4264, precision@k: 0.0629, recall@k: 0.1829, MAP@k: 0.0993, MRR@k: 0.1635, NDCG@k: 0.1407, HitRate@k: 0.3130\n",
      "Epoch 46, train loss: 0.3823, test loss: 0.4264, precision@k: 0.0631, recall@k: 0.1836, MAP@k: 0.0993, MRR@k: 0.1636, NDCG@k: 0.1409, HitRate@k: 0.3133\n",
      "Epoch 47, train loss: 0.3824, test loss: 0.4265, precision@k: 0.0630, recall@k: 0.1832, MAP@k: 0.0984, MRR@k: 0.1614, NDCG@k: 0.1399, HitRate@k: 0.3137\n",
      "Epoch 48, train loss: 0.3817, test loss: 0.4266, precision@k: 0.0630, recall@k: 0.1829, MAP@k: 0.0976, MRR@k: 0.1606, NDCG@k: 0.1393, HitRate@k: 0.3135\n",
      "Epoch 49, train loss: 0.3812, test loss: 0.4266, precision@k: 0.0628, recall@k: 0.1826, MAP@k: 0.0971, MRR@k: 0.1599, NDCG@k: 0.1388, HitRate@k: 0.3131\n",
      "Epoch 50, train loss: 0.3810, test loss: 0.4268, precision@k: 0.0629, recall@k: 0.1827, MAP@k: 0.0969, MRR@k: 0.1595, NDCG@k: 0.1388, HitRate@k: 0.3134\n"
     ]
    }
   ],
   "source": [
    "results: list = list()\n",
    "for epoch in range(1, model_config['num_epochs'] + 1):\n",
    "    # ------ Train\n",
    "    train_loss: float = train(\n",
    "        model=model,\n",
    "        data=data,\n",
    "        optimizer=optimizer\n",
    "    )\n",
    "    # ------ Test\n",
    "    test_loss: float = test(\n",
    "        model=model,\n",
    "        data=data\n",
    "    )\n",
    "    scheduler.step(test_loss)\n",
    "    # ------ Evaluate\n",
    "    evaluation_results: dict = evaluate(\n",
    "        k=model_config['num_recommendations'],\n",
    "        model=model,\n",
    "        data=data\n",
    "    )\n",
    "\n",
    "    # Save results\n",
    "    epoch_result = get_results(\n",
    "        epoch=epoch,\n",
    "        train_loss=train_loss,\n",
    "        test_loss=test_loss,\n",
    "        evaluation_results=evaluation_results\n",
    "    )\n",
    "    results.append(epoch_result)"
   ]
  },
  {
   "cell_type": "markdown",
   "id": "CIzjEI3R-eY-",
   "metadata": {
    "id": "CIzjEI3R-eY-"
   },
   "source": [
    "### Model evaluation"
   ]
  },
  {
   "cell_type": "code",
   "execution_count": 7,
   "id": "JHmrYAoF-dWh",
   "metadata": {
    "colab": {
     "base_uri": "https://localhost:8080/",
     "height": 472
    },
    "id": "JHmrYAoF-dWh",
    "outputId": "51b44a7b-4d40-4c23-8009-d3af553ed2e9"
   },
   "outputs": [],
   "source": [
    "results_df = pd.DataFrame(results)\n",
    "results_df.to_csv(f'../results/results_Model{model_name}.csv', index=False)"
   ]
  },
  {
   "cell_type": "code",
   "execution_count": 8,
   "id": "RwsZRSb828Ua",
   "metadata": {
    "colab": {
     "base_uri": "https://localhost:8080/",
     "height": 472
    },
    "id": "RwsZRSb828Ua",
    "outputId": "57cc0fe4-2411-44ed-cfc2-f41e6c682819"
   },
   "outputs": [
    {
     "data": {
      "image/png": "[encoded data removed]",
      "text/plain": [
       "<Figure size 640x480 with 1 Axes>"
      ]
     },
     "metadata": {},
     "output_type": "display_data"
    }
   ],
   "source": [
    "# Generate loss curve\n",
    "# Train loss\n",
    "sns.lineplot(data=results_df, x='Epoch', y='Train Loss')\n",
    "# Test loss\n",
    "sns.lineplot(data=results_df, x='Epoch', y='Test Loss')\n",
    "plt.xlabel('Epoch')\n",
    "plt.ylabel('Loss')\n",
    "plt.title('Loss curve')\n",
    "plt.yscale('log')\n",
    "plt.show()"
   ]
  },
  {
   "cell_type": "code",
   "execution_count": 9,
   "id": "QrRBTsA5vAs1",
   "metadata": {
    "colab": {
     "base_uri": "https://localhost:8080/"
    },
    "id": "QrRBTsA5vAs1",
    "outputId": "afffeb4f-f62c-4c48-cf69-c7cb5eb06f55"
   },
   "outputs": [
    {
     "data": {
      "image/png": "[encoded data removed]",
      "text/plain": [
       "<Figure size 640x480 with 1 Axes>"
      ]
     },
     "metadata": {},
     "output_type": "display_data"
    }
   ],
   "source": [
    "# Generate evaluation metrics plot\n",
    "sns.lineplot(data=results_df, x='Epoch', y='Precision@k')\n",
    "sns.lineplot(data=results_df, x='Epoch', y='Recall@k')\n",
    "sns.lineplot(data=results_df, x='Epoch', y='MAP@k')\n",
    "sns.lineplot(data=results_df, x='Epoch', y='MRR@k')\n",
    "sns.lineplot(data=results_df, x='Epoch', y='NDCG@k')\n",
    "sns.lineplot(data=results_df, x='Epoch', y='HitRate@k')\n",
    "plt.xlabel('Epoch')\n",
    "plt.ylabel('Performance')\n",
    "plt.title('Performance metrics')\n",
    "plt.show()"
   ]
  }
 ],
 "metadata": {
  "colab": {
   "collapsed_sections": [
    "ISUVX4hvFMKM",
    "aZQQpLqCFeGK",
    "2cXJ5OO10uxX"
   ],
   "name": "Collaboration Recommender 1.0 (Homogeneous).ipynb",
   "provenance": []
  },
  "kernelspec": {
   "display_name": "Python 3 (ipykernel)",
   "language": "python",
   "name": "python3"
  },
  "language_info": {
   "codemirror_mode": {
    "name": "ipython",
    "version": 3
   },
   "file_extension": ".py",
   "mimetype": "text/x-python",
   "name": "python",
   "nbconvert_exporter": "python",
   "pygments_lexer": "ipython3",
   "version": "3.12.3"
  }
 },
 "nbformat": 4,
 "nbformat_minor": 5
}
