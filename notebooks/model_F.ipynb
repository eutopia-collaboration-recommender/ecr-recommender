{
 "cells": [
  {
   "cell_type": "markdown",
   "id": "zYPnKxIhFGVJ",
   "metadata": {
    "id": "zYPnKxIhFGVJ"
   },
   "source": [
    "# Model F\n",
    "\n",
    "This is a script showing results of **model F** in the ablation studies. The model is built using the following configuration:\n",
    "\n",
    "- **Backbone:** Transformer\n",
    "- **Graph type:** Homogeneous\n",
    "- **Loss function:** Binary-Cross Entropy with Logits Loss\n",
    "- **Embeddings used:** average\n",
    "- **Keyword popularity used:** No\n",
    "\n",
    "*This model introduces a baseline loss function Binary-Cross Entropy with Logits loss to compare against Bayesian Personalized Ranking on graph transformer backbone.*"
   ]
  },
  {
   "cell_type": "markdown",
   "id": "x7McZwR_FRta",
   "metadata": {
    "id": "x7McZwR_FRta"
   },
   "source": [
    "## **Setting up environment**\n",
    "\n",
    "---\n",
    "\n"
   ]
  },
  {
   "cell_type": "markdown",
   "id": "cD8tnTfC60X2",
   "metadata": {
    "id": "cD8tnTfC60X2"
   },
   "source": [
    "### Loading libraries"
   ]
  },
  {
   "cell_type": "code",
   "execution_count": 1,
   "id": "5okfWmvKEI3Z",
   "metadata": {
    "ExecuteTime": {
     "end_time": "2024-12-13T17:47:50.264742Z",
     "start_time": "2024-12-13T17:47:50.256254Z"
    },
    "id": "5okfWmvKEI3Z"
   },
   "outputs": [],
   "source": [
    "import os\n",
    "import sys\n",
    "\n",
    "sys.path.insert(0, os.path.abspath(\"..\"))\n",
    "\n",
    "import torch\n",
    "import pickle\n",
    "import pandas as pd\n",
    "import seaborn as sns\n",
    "import matplotlib.pyplot as plt\n",
    "\n",
    "from typing import Optional\n",
    "\n",
    "from torch import Tensor\n",
    "from torch.nn import ModuleList\n",
    "import torch.nn.functional as F\n",
    "from torch.optim import Optimizer\n",
    "from torch_geometric.typing import Adj, OptTensor\n",
    "from torch_geometric.nn.conv import TransformerConv\n",
    "from torch.optim.lr_scheduler import LRScheduler\n",
    "\n",
    "from util.torch_geometric import get_results\n",
    "from util.homogeneous.dataset import DatasetEuCoHM\n",
    "from util.homogeneous.model import ModelEuCoHM\n",
    "from util.homogeneous.train import (\n",
    "    train,\n",
    "    test,\n",
    "    evaluate\n",
    ")"
   ]
  },
  {
   "cell_type": "markdown",
   "id": "bQ_xqBiFn97Q",
   "metadata": {
    "id": "bQ_xqBiFn97Q"
   },
   "source": [
    "### Global variables"
   ]
  },
  {
   "cell_type": "code",
   "execution_count": 2,
   "id": "9r1K6ezsn97Q",
   "metadata": {
    "ExecuteTime": {
     "end_time": "2024-12-13T21:23:20.128019Z",
     "start_time": "2024-12-13T21:23:20.037264Z"
    },
    "id": "9r1K6ezsn97Q"
   },
   "outputs": [],
   "source": [
    "# Model name\n",
    "model_name = 'F'\n",
    "# Dataset save filepath\n",
    "dataset_save_filepath = '../data/dataset_homogeneous_base.pkl'\n",
    "# Device name\n",
    "device = 'cpu'\n",
    "\n",
    "# Model configuration\n",
    "model_config = dict(\n",
    "    hidden_channels=64,\n",
    "    learning_rate=1e-3,\n",
    "    num_layers=4,\n",
    "    num_heads=4,\n",
    "    num_epochs=50,\n",
    "    num_recommendations=10\n",
    ")\n",
    "# Set seaborn theme\n",
    "sns.set_theme(style=\"whitegrid\", palette=\"pastel\")"
   ]
  },
  {
   "cell_type": "markdown",
   "id": "ISUVX4hvFMKM",
   "metadata": {
    "id": "ISUVX4hvFMKM"
   },
   "source": [
    "## Loading dataset\n",
    "\n",
    "---\n"
   ]
  },
  {
   "cell_type": "code",
   "execution_count": 3,
   "id": "3b608e9d-243a-46aa-a261-7ae3464093db",
   "metadata": {},
   "outputs": [
    {
     "name": "stderr",
     "output_type": "stream",
     "text": [
      "/home/eucollab/eutopia-colllaboration/ecr-recommender/.venv/lib/python3.12/site-packages/torch/storage.py:414: FutureWarning: You are using `torch.load` with `weights_only=False` (the current default value), which uses the default pickle module implicitly. It is possible to construct malicious pickle data which will execute arbitrary code during unpickling (See https://github.com/pytorch/pytorch/blob/main/SECURITY.md#untrusted-models for more details). In a future release, the default value for `weights_only` will be flipped to `True`. This limits the functions that could be executed during unpickling. Arbitrary objects will no longer be allowed to be loaded via this mode unless they are explicitly allowlisted by the user via `torch.serialization.add_safe_globals`. We recommend you start setting `weights_only=True` for any use case where you don't have full control of the loaded file. Please open an issue on GitHub for any issues related to this experimental feature.\n",
      "  return torch.load(io.BytesIO(b))\n"
     ]
    }
   ],
   "source": [
    "# Add the object as a safe global to shut down warning\n",
    "torch.serialization.add_safe_globals([DatasetEuCoHM])\n",
    "# Open the dataset file and save it to variable\n",
    "with open(dataset_save_filepath, 'rb') as file:\n",
    "    dataset: DatasetEuCoHM = pickle.load(file)\n",
    "\n",
    "data = dataset.data\n",
    "author_id_map = dataset.author_id_map\n",
    "author_node_id_map = dataset.author_node_id_map"
   ]
  },
  {
   "cell_type": "markdown",
   "id": "04vUews17zy8",
   "metadata": {
    "id": "04vUews17zy8"
   },
   "source": [
    "## Model training\n",
    "\n",
    "\n",
    "---\n",
    "\n"
   ]
  },
  {
   "cell_type": "markdown",
   "id": "IMCtMQz00wC_",
   "metadata": {
    "id": "IMCtMQz00wC_"
   },
   "source": [
    "### Model definition"
   ]
  },
  {
   "cell_type": "code",
   "execution_count": 4,
   "id": "TJaBxQX_7_3D",
   "metadata": {
    "ExecuteTime": {
     "end_time": "2024-12-13T21:28:22.411435Z",
     "start_time": "2024-12-13T21:28:22.248727Z"
    },
    "id": "TJaBxQX_7_3D"
   },
   "outputs": [],
   "source": [
    "class ModelEuCoF(ModelEuCoHM):\n",
    "    def __init__(self,\n",
    "                 input_channels: int,\n",
    "                 hidden_channels: int,\n",
    "                 num_layers: int,\n",
    "                 num_recommendations: int,\n",
    "                 num_heads: int,\n",
    "                 author_node_id_map: dict,\n",
    "                 author_id_map: dict,\n",
    "                 device: str = 'cpu'):\n",
    "        super().__init__(\n",
    "            input_channels=input_channels,\n",
    "            hidden_channels=hidden_channels,\n",
    "            num_layers=num_layers,\n",
    "            num_recommendations=num_recommendations,\n",
    "            author_node_id_map=author_node_id_map,\n",
    "            author_id_map=author_id_map,\n",
    "            device=device\n",
    "        )\n",
    "        # Set number of attention heads\n",
    "        self.num_heads = num_heads\n",
    "\n",
    "        # Initialize the convolutional layers\n",
    "        self.conv_layers = ModuleList([\n",
    "            TransformerConv(in_channels=input_channels if ix == 0 else hidden_channels * self.num_heads, \n",
    "                            out_channels=hidden_channels,\n",
    "                            heads=self.num_heads)\n",
    "            for ix in range(self.num_layers)\n",
    "        ])\n",
    "\n",
    "        # Initialize batch norm layers\n",
    "        self.bn_layers = ModuleList([\n",
    "            torch.nn.BatchNorm1d(hidden_channels * self.num_heads)\n",
    "            for ix in range(self.num_layers)\n",
    "        ])\n",
    "    \n",
    "    def recommendation_loss(self,\n",
    "                            x: Tensor,\n",
    "                            edge_index: Adj,\n",
    "                            pos_edge_rank: Tensor,\n",
    "                            neg_edge_rank: Tensor,\n",
    "                            edge_weight: Optional[Tensor] = None,\n",
    "                            node_id: Optional[Tensor] = None) -> Tensor:\n",
    "\n",
    "        # Construct labels\n",
    "        pos_labels = pos_edge_rank.new_ones(pos_edge_rank.size(0))\n",
    "        neg_labels = neg_edge_rank.new_zeros(neg_edge_rank.size(0))\n",
    "\n",
    "        # Concatenate predictions and labels\n",
    "        all_preds = torch.cat([pos_edge_rank, neg_edge_rank], dim=0)\n",
    "        all_labels = torch.cat([pos_labels, neg_labels], dim=0)\n",
    "\n",
    "        # Compute BCE loss\n",
    "        bce_loss = F.binary_cross_entropy_with_logits(all_preds, all_labels)\n",
    "\n",
    "        return bce_loss"
   ]
  },
  {
   "cell_type": "markdown",
   "id": "9XkKmZJC06IZ",
   "metadata": {
    "id": "9XkKmZJC06IZ"
   },
   "source": [
    "### Training the model"
   ]
  },
  {
   "cell_type": "code",
   "execution_count": 5,
   "id": "b4304b1f-ce07-411d-abc3-43011dd3a83b",
   "metadata": {},
   "outputs": [],
   "source": [
    "# Initialize the model\n",
    "model = ModelEuCoF(\n",
    "    input_channels=data.num_features,\n",
    "    hidden_channels=model_config['hidden_channels'],\n",
    "    num_recommendations=model_config['num_recommendations'],\n",
    "    num_layers=model_config['num_layers'],\n",
    "    num_heads=model_config['num_heads'],\n",
    "    author_node_id_map=author_node_id_map,\n",
    "    author_id_map=author_id_map\n",
    ").to(device)\n",
    "\n",
    "# Transfer to device\n",
    "data = data.to(device)\n",
    "\n",
    "# Initialize the optimizer\n",
    "optimizer: Optimizer = torch.optim.Adam(\n",
    "    params=model.parameters(),\n",
    "    lr=model_config['learning_rate']\n",
    ")\n",
    "\n",
    "# Initialize the scheduler\n",
    "scheduler: LRScheduler = torch.optim.lr_scheduler.ReduceLROnPlateau(\n",
    "    optimizer=optimizer,\n",
    "    mode='min',\n",
    "    factor=0.5,\n",
    "    patience=10\n",
    ")"
   ]
  },
  {
   "cell_type": "code",
   "execution_count": 6,
   "id": "379e5e3ea82af758",
   "metadata": {
    "ExecuteTime": {
     "end_time": "2024-12-13T21:30:55.180060Z",
     "start_time": "2024-12-13T21:30:52.430863Z"
    }
   },
   "outputs": [
    {
     "name": "stdout",
     "output_type": "stream",
     "text": [
      "Epoch 1, train loss: 1.5166, test loss: 0.6011, precision@k: 0.0530, recall@k: 0.1402, MAP@k: 0.0718, MRR@k: 0.1223, NDCG@k: 0.1064, HitRate@k: 0.2550\n",
      "Epoch 2, train loss: 1.5859, test loss: 0.5585, precision@k: 0.0538, recall@k: 0.1423, MAP@k: 0.0723, MRR@k: 0.1240, NDCG@k: 0.1077, HitRate@k: 0.2596\n",
      "Epoch 3, train loss: 1.2280, test loss: 0.5360, precision@k: 0.0526, recall@k: 0.1415, MAP@k: 0.0710, MRR@k: 0.1224, NDCG@k: 0.1062, HitRate@k: 0.2582\n",
      "Epoch 4, train loss: 0.9233, test loss: 0.5370, precision@k: 0.0518, recall@k: 0.1393, MAP@k: 0.0709, MRR@k: 0.1224, NDCG@k: 0.1054, HitRate@k: 0.2552\n",
      "Epoch 5, train loss: 0.7996, test loss: 0.5314, precision@k: 0.0507, recall@k: 0.1368, MAP@k: 0.0687, MRR@k: 0.1197, NDCG@k: 0.1029, HitRate@k: 0.2528\n",
      "Epoch 6, train loss: 0.6979, test loss: 0.5292, precision@k: 0.0499, recall@k: 0.1352, MAP@k: 0.0680, MRR@k: 0.1181, NDCG@k: 0.1017, HitRate@k: 0.2506\n",
      "Epoch 7, train loss: 0.6210, test loss: 0.5313, precision@k: 0.0491, recall@k: 0.1326, MAP@k: 0.0667, MRR@k: 0.1174, NDCG@k: 0.1001, HitRate@k: 0.2485\n",
      "Epoch 8, train loss: 0.5669, test loss: 0.5398, precision@k: 0.0486, recall@k: 0.1315, MAP@k: 0.0665, MRR@k: 0.1170, NDCG@k: 0.0996, HitRate@k: 0.2466\n",
      "Epoch 9, train loss: 0.5298, test loss: 0.5495, precision@k: 0.0485, recall@k: 0.1317, MAP@k: 0.0659, MRR@k: 0.1161, NDCG@k: 0.0992, HitRate@k: 0.2476\n",
      "Epoch 10, train loss: 0.4982, test loss: 0.5570, precision@k: 0.0481, recall@k: 0.1316, MAP@k: 0.0656, MRR@k: 0.1162, NDCG@k: 0.0988, HitRate@k: 0.2484\n",
      "Epoch 11, train loss: 0.4713, test loss: 0.5644, precision@k: 0.0480, recall@k: 0.1319, MAP@k: 0.0651, MRR@k: 0.1163, NDCG@k: 0.0986, HitRate@k: 0.2497\n",
      "Epoch 12, train loss: 0.4503, test loss: 0.5713, precision@k: 0.0476, recall@k: 0.1315, MAP@k: 0.0649, MRR@k: 0.1155, NDCG@k: 0.0981, HitRate@k: 0.2487\n",
      "Epoch 13, train loss: 0.4346, test loss: 0.5772, precision@k: 0.0473, recall@k: 0.1307, MAP@k: 0.0646, MRR@k: 0.1152, NDCG@k: 0.0977, HitRate@k: 0.2478\n",
      "Epoch 14, train loss: 0.4230, test loss: 0.5821, precision@k: 0.0472, recall@k: 0.1310, MAP@k: 0.0646, MRR@k: 0.1151, NDCG@k: 0.0977, HitRate@k: 0.2481\n",
      "Epoch 15, train loss: 0.4127, test loss: 0.5873, precision@k: 0.0474, recall@k: 0.1319, MAP@k: 0.0642, MRR@k: 0.1153, NDCG@k: 0.0978, HitRate@k: 0.2499\n",
      "Epoch 16, train loss: 0.4023, test loss: 0.5936, precision@k: 0.0474, recall@k: 0.1316, MAP@k: 0.0643, MRR@k: 0.1157, NDCG@k: 0.0978, HitRate@k: 0.2505\n",
      "Epoch 17, train loss: 0.3944, test loss: 0.6005, precision@k: 0.0472, recall@k: 0.1308, MAP@k: 0.0642, MRR@k: 0.1152, NDCG@k: 0.0975, HitRate@k: 0.2493\n",
      "Epoch 18, train loss: 0.3903, test loss: 0.5891, precision@k: 0.0476, recall@k: 0.1319, MAP@k: 0.0644, MRR@k: 0.1156, NDCG@k: 0.0979, HitRate@k: 0.2509\n",
      "Epoch 19, train loss: 0.3882, test loss: 0.5799, precision@k: 0.0476, recall@k: 0.1319, MAP@k: 0.0644, MRR@k: 0.1159, NDCG@k: 0.0981, HitRate@k: 0.2517\n",
      "Epoch 20, train loss: 0.3863, test loss: 0.5722, precision@k: 0.0477, recall@k: 0.1322, MAP@k: 0.0649, MRR@k: 0.1167, NDCG@k: 0.0986, HitRate@k: 0.2517\n",
      "Epoch 21, train loss: 0.3840, test loss: 0.5658, precision@k: 0.0478, recall@k: 0.1325, MAP@k: 0.0648, MRR@k: 0.1161, NDCG@k: 0.0985, HitRate@k: 0.2524\n",
      "Epoch 22, train loss: 0.3820, test loss: 0.5602, precision@k: 0.0479, recall@k: 0.1332, MAP@k: 0.0651, MRR@k: 0.1166, NDCG@k: 0.0990, HitRate@k: 0.2525\n",
      "Epoch 23, train loss: 0.3812, test loss: 0.5554, precision@k: 0.0481, recall@k: 0.1338, MAP@k: 0.0655, MRR@k: 0.1171, NDCG@k: 0.0994, HitRate@k: 0.2533\n",
      "Epoch 24, train loss: 0.3796, test loss: 0.5512, precision@k: 0.0482, recall@k: 0.1342, MAP@k: 0.0651, MRR@k: 0.1168, NDCG@k: 0.0993, HitRate@k: 0.2537\n",
      "Epoch 25, train loss: 0.3768, test loss: 0.5478, precision@k: 0.0483, recall@k: 0.1342, MAP@k: 0.0653, MRR@k: 0.1166, NDCG@k: 0.0995, HitRate@k: 0.2537\n",
      "Epoch 26, train loss: 0.3755, test loss: 0.5446, precision@k: 0.0484, recall@k: 0.1340, MAP@k: 0.0653, MRR@k: 0.1170, NDCG@k: 0.0995, HitRate@k: 0.2534\n",
      "Epoch 27, train loss: 0.3757, test loss: 0.5414, precision@k: 0.0484, recall@k: 0.1340, MAP@k: 0.0656, MRR@k: 0.1173, NDCG@k: 0.0997, HitRate@k: 0.2536\n",
      "Epoch 28, train loss: 0.3750, test loss: 0.5382, precision@k: 0.0484, recall@k: 0.1341, MAP@k: 0.0655, MRR@k: 0.1171, NDCG@k: 0.0997, HitRate@k: 0.2540\n",
      "Epoch 29, train loss: 0.3729, test loss: 0.5328, precision@k: 0.0484, recall@k: 0.1346, MAP@k: 0.0654, MRR@k: 0.1171, NDCG@k: 0.0997, HitRate@k: 0.2543\n",
      "Epoch 30, train loss: 0.3729, test loss: 0.5281, precision@k: 0.0485, recall@k: 0.1346, MAP@k: 0.0652, MRR@k: 0.1168, NDCG@k: 0.0995, HitRate@k: 0.2543\n",
      "Epoch 31, train loss: 0.3723, test loss: 0.5241, precision@k: 0.0485, recall@k: 0.1348, MAP@k: 0.0658, MRR@k: 0.1181, NDCG@k: 0.1002, HitRate@k: 0.2546\n",
      "Epoch 32, train loss: 0.3718, test loss: 0.5205, precision@k: 0.0485, recall@k: 0.1347, MAP@k: 0.0661, MRR@k: 0.1180, NDCG@k: 0.1003, HitRate@k: 0.2542\n",
      "Epoch 33, train loss: 0.3713, test loss: 0.5174, precision@k: 0.0486, recall@k: 0.1348, MAP@k: 0.0657, MRR@k: 0.1175, NDCG@k: 0.1001, HitRate@k: 0.2543\n",
      "Epoch 34, train loss: 0.3715, test loss: 0.5146, precision@k: 0.0487, recall@k: 0.1349, MAP@k: 0.0656, MRR@k: 0.1173, NDCG@k: 0.1000, HitRate@k: 0.2549\n",
      "Epoch 35, train loss: 0.3702, test loss: 0.5122, precision@k: 0.0487, recall@k: 0.1351, MAP@k: 0.0660, MRR@k: 0.1182, NDCG@k: 0.1004, HitRate@k: 0.2553\n",
      "Epoch 36, train loss: 0.3692, test loss: 0.5100, precision@k: 0.0488, recall@k: 0.1354, MAP@k: 0.0660, MRR@k: 0.1183, NDCG@k: 0.1005, HitRate@k: 0.2559\n",
      "Epoch 37, train loss: 0.3707, test loss: 0.5081, precision@k: 0.0488, recall@k: 0.1353, MAP@k: 0.0663, MRR@k: 0.1184, NDCG@k: 0.1007, HitRate@k: 0.2559\n",
      "Epoch 38, train loss: 0.3693, test loss: 0.5064, precision@k: 0.0489, recall@k: 0.1358, MAP@k: 0.0665, MRR@k: 0.1186, NDCG@k: 0.1010, HitRate@k: 0.2564\n",
      "Epoch 39, train loss: 0.3693, test loss: 0.5049, precision@k: 0.0489, recall@k: 0.1358, MAP@k: 0.0664, MRR@k: 0.1180, NDCG@k: 0.1009, HitRate@k: 0.2561\n",
      "Epoch 40, train loss: 0.3687, test loss: 0.5036, precision@k: 0.0490, recall@k: 0.1362, MAP@k: 0.0669, MRR@k: 0.1193, NDCG@k: 0.1014, HitRate@k: 0.2569\n",
      "Epoch 41, train loss: 0.3680, test loss: 0.5024, precision@k: 0.0490, recall@k: 0.1364, MAP@k: 0.0669, MRR@k: 0.1194, NDCG@k: 0.1015, HitRate@k: 0.2575\n",
      "Epoch 42, train loss: 0.3672, test loss: 0.5015, precision@k: 0.0491, recall@k: 0.1369, MAP@k: 0.0669, MRR@k: 0.1188, NDCG@k: 0.1015, HitRate@k: 0.2583\n",
      "Epoch 43, train loss: 0.3673, test loss: 0.5006, precision@k: 0.0492, recall@k: 0.1368, MAP@k: 0.0668, MRR@k: 0.1192, NDCG@k: 0.1015, HitRate@k: 0.2584\n",
      "Epoch 44, train loss: 0.3684, test loss: 0.4999, precision@k: 0.0492, recall@k: 0.1370, MAP@k: 0.0666, MRR@k: 0.1191, NDCG@k: 0.1014, HitRate@k: 0.2586\n",
      "Epoch 45, train loss: 0.3672, test loss: 0.4992, precision@k: 0.0492, recall@k: 0.1370, MAP@k: 0.0664, MRR@k: 0.1183, NDCG@k: 0.1013, HitRate@k: 0.2589\n",
      "Epoch 46, train loss: 0.3677, test loss: 0.4987, precision@k: 0.0493, recall@k: 0.1374, MAP@k: 0.0668, MRR@k: 0.1196, NDCG@k: 0.1018, HitRate@k: 0.2593\n",
      "Epoch 47, train loss: 0.3660, test loss: 0.4983, precision@k: 0.0493, recall@k: 0.1373, MAP@k: 0.0668, MRR@k: 0.1195, NDCG@k: 0.1018, HitRate@k: 0.2592\n",
      "Epoch 48, train loss: 0.3657, test loss: 0.4979, precision@k: 0.0492, recall@k: 0.1370, MAP@k: 0.0669, MRR@k: 0.1188, NDCG@k: 0.1016, HitRate@k: 0.2586\n",
      "Epoch 49, train loss: 0.3657, test loss: 0.4976, precision@k: 0.0492, recall@k: 0.1369, MAP@k: 0.0669, MRR@k: 0.1191, NDCG@k: 0.1017, HitRate@k: 0.2584\n",
      "Epoch 50, train loss: 0.3659, test loss: 0.4975, precision@k: 0.0494, recall@k: 0.1375, MAP@k: 0.0668, MRR@k: 0.1190, NDCG@k: 0.1018, HitRate@k: 0.2595\n"
     ]
    }
   ],
   "source": [
    "results: list = list()\n",
    "for epoch in range(1, model_config['num_epochs'] + 1):\n",
    "    # ------ Train\n",
    "    train_loss: float = train(\n",
    "        model=model,\n",
    "        data=data,\n",
    "        optimizer=optimizer\n",
    "    )\n",
    "    # ------ Test\n",
    "    test_loss: float = test(\n",
    "        model=model,\n",
    "        data=data\n",
    "    )\n",
    "    scheduler.step(test_loss)\n",
    "    # ------ Evaluate\n",
    "    evaluation_results: dict = evaluate(\n",
    "        k=model_config['num_recommendations'],\n",
    "        model=model,\n",
    "        data=data\n",
    "    )\n",
    "\n",
    "    # Save results\n",
    "    epoch_result = get_results(\n",
    "        epoch=epoch,\n",
    "        train_loss=train_loss,\n",
    "        test_loss=test_loss,\n",
    "        evaluation_results=evaluation_results\n",
    "    )\n",
    "    results.append(epoch_result)"
   ]
  },
  {
   "cell_type": "markdown",
   "id": "CIzjEI3R-eY-",
   "metadata": {
    "id": "CIzjEI3R-eY-"
   },
   "source": [
    "### Model evaluation"
   ]
  },
  {
   "cell_type": "code",
   "execution_count": 7,
   "id": "JHmrYAoF-dWh",
   "metadata": {
    "colab": {
     "base_uri": "https://localhost:8080/",
     "height": 472
    },
    "id": "JHmrYAoF-dWh",
    "outputId": "51b44a7b-4d40-4c23-8009-d3af553ed2e9"
   },
   "outputs": [],
   "source": [
    "results_df = pd.DataFrame(results)\n",
    "results_df.to_csv(f'../results/results_Model{model_name}.csv', index=False)"
   ]
  },
  {
   "cell_type": "code",
   "execution_count": 8,
   "id": "RwsZRSb828Ua",
   "metadata": {
    "colab": {
     "base_uri": "https://localhost:8080/",
     "height": 472
    },
    "id": "RwsZRSb828Ua",
    "outputId": "57cc0fe4-2411-44ed-cfc2-f41e6c682819"
   },
   "outputs": [
    {
     "data": {
      "image/png": "[encoded data removed]",
      "text/plain": [
       "<Figure size 640x480 with 1 Axes>"
      ]
     },
     "metadata": {},
     "output_type": "display_data"
    }
   ],
   "source": [
    "# Generate loss curve\n",
    "# Train loss\n",
    "sns.lineplot(data=results_df, x='Epoch', y='Train Loss')\n",
    "# Test loss\n",
    "sns.lineplot(data=results_df, x='Epoch', y='Test Loss')\n",
    "plt.xlabel('Epoch')\n",
    "plt.ylabel('Loss')\n",
    "plt.title('Loss curve')\n",
    "plt.yscale('log')\n",
    "plt.show()"
   ]
  },
  {
   "cell_type": "code",
   "execution_count": 9,
   "id": "QrRBTsA5vAs1",
   "metadata": {
    "colab": {
     "base_uri": "https://localhost:8080/"
    },
    "id": "QrRBTsA5vAs1",
    "outputId": "afffeb4f-f62c-4c48-cf69-c7cb5eb06f55"
   },
   "outputs": [
    {
     "data": {
      "image/png": "[encoded data removed]",
      "text/plain": [
       "<Figure size 640x480 with 1 Axes>"
      ]
     },
     "metadata": {},
     "output_type": "display_data"
    }
   ],
   "source": [
    "# Generate evaluation metrics plot\n",
    "sns.lineplot(data=results_df, x='Epoch', y='Precision@k')\n",
    "sns.lineplot(data=results_df, x='Epoch', y='Recall@k')\n",
    "sns.lineplot(data=results_df, x='Epoch', y='MAP@k')\n",
    "sns.lineplot(data=results_df, x='Epoch', y='MRR@k')\n",
    "sns.lineplot(data=results_df, x='Epoch', y='NDCG@k')\n",
    "sns.lineplot(data=results_df, x='Epoch', y='HitRate@k')\n",
    "plt.xlabel('Epoch')\n",
    "plt.ylabel('Performance')\n",
    "plt.title('Performance metrics')\n",
    "plt.show()"
   ]
  }
 ],
 "metadata": {
  "colab": {
   "collapsed_sections": [
    "ISUVX4hvFMKM",
    "aZQQpLqCFeGK",
    "2cXJ5OO10uxX"
   ],
   "name": "Collaboration Recommender 1.0 (Homogeneous).ipynb",
   "provenance": []
  },
  "kernelspec": {
   "display_name": "Python 3 (ipykernel)",
   "language": "python",
   "name": "python3"
  },
  "language_info": {
   "codemirror_mode": {
    "name": "ipython",
    "version": 3
   },
   "file_extension": ".py",
   "mimetype": "text/x-python",
   "name": "python",
   "nbconvert_exporter": "python",
   "pygments_lexer": "ipython3",
   "version": "3.12.3"
  }
 },
 "nbformat": 4,
 "nbformat_minor": 5
}
