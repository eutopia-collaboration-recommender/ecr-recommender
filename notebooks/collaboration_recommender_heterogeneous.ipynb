{
  "cells": [
    {
      "cell_type": "markdown",
      "source": [
        "# Collaboration recommender system 2.0"
      ],
      "metadata": {
        "id": "zYPnKxIhFGVJ"
      },
      "id": "zYPnKxIhFGVJ"
    },
    {
      "cell_type": "markdown",
      "source": [
        "## **Setting up environment**\n",
        "\n",
        "---\n",
        "\n"
      ],
      "metadata": {
        "id": "x7McZwR_FRta"
      },
      "id": "x7McZwR_FRta"
    },
    {
      "cell_type": "markdown",
      "source": [
        "### **Package installation**\n",
        "\n",
        "Installing `torch` and `torch_geometric` libraries."
      ],
      "metadata": {
        "id": "jX5i4Qjs7MIl"
      },
      "id": "jX5i4Qjs7MIl"
    },
    {
      "cell_type": "code",
      "id": "ZmnOJPqebGWOArun1rn4wEJr",
      "metadata": {
        "tags": [],
        "id": "ZmnOJPqebGWOArun1rn4wEJr",
        "colab": {
          "base_uri": "https://localhost:8080/"
        },
        "outputId": "8a4265ae-a9d7-4524-9272-9388475e67eb"
      },
      "source": [
        "!pip3 install torch==2.4.0 torchvision==0.19.0 torchaudio==2.4.0 --index-url https://download.pytorch.org/whl/cu121\n",
        "# Installation due to error: Faiss assertion 'err == CUBLAS_STATUS_SUCCESS' failed\n",
        "!pip install https://github.com/kyamagu/faiss-wheels/releases/download/v1.7.3/faiss_gpu-1.7.3-cp310-cp310-manylinux_2_17_x86_64.manylinux2014_x86_64.whl"
      ],
      "execution_count": 1,
      "outputs": [
        {
          "output_type": "stream",
          "name": "stdout",
          "text": [
            "Looking in indexes: https://download.pytorch.org/whl/cu121\n",
            "Requirement already satisfied: torch==2.4.0 in /usr/local/lib/python3.10/dist-packages (2.4.0+cu121)\n",
            "Requirement already satisfied: torchvision==0.19.0 in /usr/local/lib/python3.10/dist-packages (0.19.0+cu121)\n",
            "Requirement already satisfied: torchaudio==2.4.0 in /usr/local/lib/python3.10/dist-packages (2.4.0+cu121)\n",
            "Requirement already satisfied: filelock in /usr/local/lib/python3.10/dist-packages (from torch==2.4.0) (3.16.1)\n",
            "Requirement already satisfied: typing-extensions>=4.8.0 in /usr/local/lib/python3.10/dist-packages (from torch==2.4.0) (4.12.2)\n",
            "Requirement already satisfied: sympy in /usr/local/lib/python3.10/dist-packages (from torch==2.4.0) (1.13.3)\n",
            "Requirement already satisfied: networkx in /usr/local/lib/python3.10/dist-packages (from torch==2.4.0) (3.4.1)\n",
            "Requirement already satisfied: jinja2 in /usr/local/lib/python3.10/dist-packages (from torch==2.4.0) (3.1.4)\n",
            "Requirement already satisfied: fsspec in /usr/local/lib/python3.10/dist-packages (from torch==2.4.0) (2024.6.1)\n",
            "Requirement already satisfied: nvidia-cuda-nvrtc-cu12==12.1.105 in /usr/local/lib/python3.10/dist-packages (from torch==2.4.0) (12.1.105)\n",
            "Requirement already satisfied: nvidia-cuda-runtime-cu12==12.1.105 in /usr/local/lib/python3.10/dist-packages (from torch==2.4.0) (12.1.105)\n",
            "Requirement already satisfied: nvidia-cuda-cupti-cu12==12.1.105 in /usr/local/lib/python3.10/dist-packages (from torch==2.4.0) (12.1.105)\n",
            "Requirement already satisfied: nvidia-cudnn-cu12==9.1.0.70 in /usr/local/lib/python3.10/dist-packages (from torch==2.4.0) (9.1.0.70)\n",
            "Requirement already satisfied: nvidia-cublas-cu12==12.1.3.1 in /usr/local/lib/python3.10/dist-packages (from torch==2.4.0) (12.1.3.1)\n",
            "Requirement already satisfied: nvidia-cufft-cu12==11.0.2.54 in /usr/local/lib/python3.10/dist-packages (from torch==2.4.0) (11.0.2.54)\n",
            "Requirement already satisfied: nvidia-curand-cu12==10.3.2.106 in /usr/local/lib/python3.10/dist-packages (from torch==2.4.0) (10.3.2.106)\n",
            "Requirement already satisfied: nvidia-cusolver-cu12==11.4.5.107 in /usr/local/lib/python3.10/dist-packages (from torch==2.4.0) (11.4.5.107)\n",
            "Requirement already satisfied: nvidia-cusparse-cu12==12.1.0.106 in /usr/local/lib/python3.10/dist-packages (from torch==2.4.0) (12.1.0.106)\n",
            "Requirement already satisfied: nvidia-nccl-cu12==2.20.5 in /usr/local/lib/python3.10/dist-packages (from torch==2.4.0) (2.20.5)\n",
            "Requirement already satisfied: nvidia-nvtx-cu12==12.1.105 in /usr/local/lib/python3.10/dist-packages (from torch==2.4.0) (12.1.105)\n",
            "Requirement already satisfied: triton==3.0.0 in /usr/local/lib/python3.10/dist-packages (from torch==2.4.0) (3.0.0)\n",
            "Requirement already satisfied: numpy in /usr/local/lib/python3.10/dist-packages (from torchvision==0.19.0) (1.26.4)\n",
            "Requirement already satisfied: pillow!=8.3.*,>=5.3.0 in /usr/local/lib/python3.10/dist-packages (from torchvision==0.19.0) (10.4.0)\n",
            "Requirement already satisfied: nvidia-nvjitlink-cu12 in /usr/local/lib/python3.10/dist-packages (from nvidia-cusolver-cu12==11.4.5.107->torch==2.4.0) (12.6.77)\n",
            "Requirement already satisfied: MarkupSafe>=2.0 in /usr/local/lib/python3.10/dist-packages (from jinja2->torch==2.4.0) (3.0.1)\n",
            "Requirement already satisfied: mpmath<1.4,>=1.1.0 in /usr/local/lib/python3.10/dist-packages (from sympy->torch==2.4.0) (1.3.0)\n",
            "Collecting faiss-gpu==1.7.3\n",
            "  Downloading https://github.com/kyamagu/faiss-wheels/releases/download/v1.7.3/faiss_gpu-1.7.3-cp310-cp310-manylinux_2_17_x86_64.manylinux2014_x86_64.whl (432.4 MB)\n",
            "\u001b[2K     \u001b[90m━━━━━━━━━━━━━━━━━━━━━━━━━━━━━━━━━━━━━━━━\u001b[0m \u001b[32m432.4/432.4 MB\u001b[0m \u001b[31m6.3 MB/s\u001b[0m eta \u001b[36m0:00:00\u001b[0m\n",
            "\u001b[?25h"
          ]
        }
      ]
    },
    {
      "cell_type": "code",
      "source": [
        "import torch\n",
        "import os\n",
        "os.environ['TORCH'] = torch.__version__\n",
        "print(os.environ['TORCH'])"
      ],
      "metadata": {
        "id": "t4n7jKW9uiQE",
        "colab": {
          "base_uri": "https://localhost:8080/"
        },
        "outputId": "d501c056-f66b-487d-f655-e3fb97de55df"
      },
      "id": "t4n7jKW9uiQE",
      "execution_count": 2,
      "outputs": [
        {
          "output_type": "stream",
          "name": "stdout",
          "text": [
            "2.4.0+cu121\n"
          ]
        }
      ]
    },
    {
      "cell_type": "code",
      "source": [
        "!pip install torch-scatter -f https://data.pyg.org/whl/torch-${TORCH}.html -q\n",
        "!pip install torch-sparse -f https://data.pyg.org/whl/torch-${TORCH}.html -q\n",
        "!pip install pyg-lib -f https://data.pyg.org/whl/nightly/torch-${TORCH}.html -q\n",
        "!pip install git+https://github.com/pyg-team/pytorch_geometric.git -q"
      ],
      "metadata": {
        "colab": {
          "base_uri": "https://localhost:8080/"
        },
        "id": "l5xNebKEDu-O",
        "outputId": "d25f6b36-8992-40f5-b9d1-2a20a334c8b4"
      },
      "id": "l5xNebKEDu-O",
      "execution_count": 3,
      "outputs": [
        {
          "output_type": "stream",
          "name": "stdout",
          "text": [
            "  Installing build dependencies ... \u001b[?25l\u001b[?25hdone\n",
            "  Getting requirements to build wheel ... \u001b[?25l\u001b[?25hdone\n",
            "  Preparing metadata (pyproject.toml) ... \u001b[?25l\u001b[?25hdone\n"
          ]
        }
      ]
    },
    {
      "cell_type": "markdown",
      "source": [
        "### **Loading libraries**"
      ],
      "metadata": {
        "id": "cD8tnTfC60X2"
      },
      "id": "cD8tnTfC60X2"
    },
    {
      "cell_type": "code",
      "source": [
        "# PyTorch imports\n",
        "from torch import Tensor\n",
        "import torch.nn.functional as F\n",
        "from torch.nn import Linear, Embedding\n",
        "\n",
        "# PyTorch Geometric imports\n",
        "import torch_geometric\n",
        "import torch_geometric.transforms as T\n",
        "from torch_geometric import EdgeIndex\n",
        "from torch_geometric.loader import LinkNeighborLoader, NeighborLoader\n",
        "from torch_geometric.nn import SAGEConv, HeteroConv, to_hetero, MIPSKNNIndex\n",
        "from torch_geometric.data import HeteroData, Batch\n",
        "from torch_geometric.nn.models.lightgcn import BPRLoss\n",
        "from torch_geometric.metrics import (\n",
        "    LinkPredPrecision,\n",
        "    LinkPredRecall,\n",
        "    LinkPredMAP,\n",
        "    LinkPredMRR,\n",
        "    LinkPredNDCG\n",
        "    )\n",
        "\n",
        "from torch_geometric.utils import structured_negative_sampling\n",
        "\n",
        "# Other imports\n",
        "import io\n",
        "import datetime\n",
        "import math\n",
        "import numpy as np\n",
        "import pandas as pd\n",
        "import matplotlib.pyplot as plt\n",
        "from tqdm import tqdm\n",
        "from sklearn.metrics import roc_auc_score\n",
        "from sklearn.preprocessing import StandardScaler\n",
        "from google.cloud import bigquery\n",
        "from google.cloud import storage"
      ],
      "metadata": {
        "id": "5okfWmvKEI3Z"
      },
      "id": "5okfWmvKEI3Z",
      "execution_count": 4,
      "outputs": []
    },
    {
      "cell_type": "code",
      "source": [
        "device = torch.device('cuda' if torch.cuda.is_available() else 'cpu')\n",
        "print(torch.cuda.get_device_name(0))\n",
        "print(torch.__version__)\n",
        "print(torch_geometric.__version__)\n",
        "print(f\"Device: '{device}'\")"
      ],
      "metadata": {
        "colab": {
          "base_uri": "https://localhost:8080/"
        },
        "id": "X6kGtZ7RD7Y9",
        "outputId": "f8f52ea7-44e2-431a-e8a7-52419fc01381"
      },
      "id": "X6kGtZ7RD7Y9",
      "execution_count": 5,
      "outputs": [
        {
          "output_type": "stream",
          "name": "stdout",
          "text": [
            "NVIDIA A100-SXM4-40GB\n",
            "2.4.0+cu121\n",
            "2.7.0\n",
            "Device: 'cuda'\n"
          ]
        }
      ]
    },
    {
      "cell_type": "markdown",
      "source": [
        "### **Global variables**"
      ],
      "metadata": {
        "id": "bQ_xqBiFn97Q"
      },
      "id": "bQ_xqBiFn97Q"
    },
    {
      "cell_type": "code",
      "source": [
        "# Initiate global variables\n",
        "bq_client = bigquery.Client()\n",
        "storage_client = storage.Client()\n",
        "\n",
        "num_recommendations = 10    # Number of recommendations\n",
        "num_train = 0.8             # Percentage of data used for training\n",
        "learning_rate = 1e-2        # Learning rate\n",
        "num_epochs = 100            # Number of epochs\n",
        "hidden_channels = 128       # Number of hidden channels\n",
        "\n",
        "target_edge_type = ('author', 'co_authors', 'author')\n",
        "target_node_type = 'author'"
      ],
      "metadata": {
        "id": "9r1K6ezsn97Q"
      },
      "execution_count": 6,
      "outputs": [],
      "id": "9r1K6ezsn97Q"
    },
    {
      "cell_type": "markdown",
      "source": [
        "## **Data preparation**\n",
        "\n",
        "---\n",
        "\n"
      ],
      "metadata": {
        "id": "ISUVX4hvFMKM"
      },
      "id": "ISUVX4hvFMKM"
    },
    {
      "cell_type": "markdown",
      "source": [
        "### **Loading data**\n",
        "\n",
        "When loading the data, we take into account only the articles, where at least one author comes from the EUTOPIA"
      ],
      "metadata": {
        "id": "PUmNU6hf75k7"
      },
      "id": "PUmNU6hf75k7"
    },
    {
      "cell_type": "code",
      "source": [
        "# Get all authors data and value metrics about their collaboration\n",
        "author_query = f\"\"\"\n",
        "SELECT *\n",
        "FROM PROD.V_GRAPH_V4_NODE_AUTHOR\n",
        "\"\"\"\n",
        "author_df = bq_client.query(author_query).to_dataframe()\n",
        "\n",
        "# Get all articles and value metrics\n",
        "article_query = f\"\"\"\n",
        "SELECT *\n",
        "FROM PROD.V_GRAPH_V4_NODE_ARTICLE\n",
        "\"\"\"\n",
        "article_df = bq_client.query(article_query).to_dataframe()\n",
        "\n",
        "# Get all edges between articles and authors\n",
        "published_query = f\"\"\"\n",
        "SELECT *\n",
        "FROM PROD.V_GRAPH_V4_EDGE_PUBLISHES\n",
        "\"\"\"\n",
        "published_df = bq_client.query(published_query).to_dataframe()\n",
        "\n",
        "# Get all edges between authors and co-authors\n",
        "coauthored_query = f\"\"\"\n",
        "SELECT *\n",
        "FROM PROD.V_GRAPH_V4_EDGE_CO_AUTHORS\n",
        "\"\"\"\n",
        "coauthored_df = bq_client.query(coauthored_query).to_dataframe()"
      ],
      "metadata": {
        "id": "2ZMmIoKLMPOF"
      },
      "id": "2ZMmIoKLMPOF",
      "execution_count": 7,
      "outputs": []
    },
    {
      "cell_type": "markdown",
      "source": [
        "### Contiguous unique identifier for node: **author**"
      ],
      "metadata": {
        "id": "dZW9dtfeuhKT"
      },
      "id": "dZW9dtfeuhKT"
    },
    {
      "cell_type": "code",
      "source": [
        "# Author: Map each unique MD5 hash to a contiguous unique integer ID\n",
        "unique_authors = author_df['AUTHOR_SID'].unique()\n",
        "author_id_map = {author: i for i, author in enumerate(unique_authors)}\n",
        "author_sid_map = {y: x for x, y in author_id_map.items()}\n",
        "# ---> Adjust all dataframes\n",
        "author_df['AUTHOR_NODE_ID'] = author_df['AUTHOR_SID'].map(author_id_map)\n",
        "published_df['AUTHOR_NODE_ID'] = published_df['AUTHOR_SID'].map(author_id_map)\n",
        "coauthored_df['AUTHOR_NODE_ID'] = coauthored_df['AUTHOR_SID'].map(author_id_map)\n",
        "coauthored_df['CO_AUTHOR_NODE_ID'] = coauthored_df['CO_AUTHOR_SID'].map(author_id_map)"
      ],
      "metadata": {
        "id": "S3vkAApdE7M9"
      },
      "id": "S3vkAApdE7M9",
      "execution_count": 8,
      "outputs": []
    },
    {
      "cell_type": "markdown",
      "source": [
        "### Contiguous unique identifier for node: **article**"
      ],
      "metadata": {
        "id": "sLnxwKwBur9Z"
      },
      "id": "sLnxwKwBur9Z"
    },
    {
      "cell_type": "code",
      "source": [
        "# Article: Map each unique MD5 hash to a contiguous unique integer ID\n",
        "unique_articles = published_df['ARTICLE_SID'].unique()\n",
        "article_id_map = {article: i for i, article in enumerate(unique_articles)}\n",
        "article_sid_map = {y: x for x, y in article_id_map.items()}\n",
        "# ---> Adjust all dataframes\n",
        "article_df['ARTICLE_NODE_ID'] = article_df['ARTICLE_SID'].map(article_id_map)\n",
        "published_df['ARTICLE_NODE_ID'] = published_df['ARTICLE_SID'].map(article_id_map)"
      ],
      "metadata": {
        "id": "BUgz5_tQuyQl"
      },
      "id": "BUgz5_tQuyQl",
      "execution_count": 9,
      "outputs": []
    },
    {
      "cell_type": "markdown",
      "source": [
        "## **Heterogeneous graph creation**\n",
        "First of all, we prepare the node features for articles. We first sort the article dataframe by node ID. We know that we have unique values in the article dataframe, i.e. one row per article and we can just sort it. Otherwise, we would need to create a unique mapping between article features and articles themselves. The sorting needs to match the node index that we will create later. After that, we also need to set up correct type (specifically, convert Pandas Int64 to int64, but we go for the lazy version and just convert all features to float64). At last, we exclude the `ARTICLE_SID` and `ARTICLE_NODE_ID` columns, because Torch can't work with strings.\n",
        "\n",
        "**TODO:**\n",
        "- Think about only including \"valuable\" partnerships/edges."
      ],
      "metadata": {
        "id": "aZQQpLqCFeGK"
      },
      "id": "aZQQpLqCFeGK"
    },
    {
      "cell_type": "markdown",
      "source": [
        "### Matrix X for node: **article**"
      ],
      "metadata": {
        "id": "KHk6LU_su7-S"
      },
      "id": "KHk6LU_su7-S"
    },
    {
      "cell_type": "code",
      "source": [
        "# Article X\n",
        "# Sort article dataframe\n",
        "sorted_article_df = article_df.sort_values(by='ARTICLE_NODE_ID')\n",
        "article_x_columns = list(filter(lambda x: x not in ('ARTICLE_SID', 'ARTICLE_NODE_ID', 'EMBEDDING_TENSOR_DATA'), sorted_article_df.columns))\n",
        "\n",
        "# Convert EMBEDDING_TENSOR_DATA to proper format\n",
        "embedding_tensor = sorted_article_df['EMBEDDING_TENSOR_DATA'].tolist()\n",
        "embedding_tensor = torch.tensor(embedding_tensor, dtype=torch.float)\n",
        "\n",
        "# Convert types\n",
        "article_x = sorted_article_df[article_x_columns].astype('float32').values\n",
        "\n",
        "# Append embedding_tensor to article_x\n",
        "article_x = np.concatenate((article_x, embedding_tensor), axis=1)\n",
        "\n",
        "# Normalize X using std scaler\n",
        "article_x = StandardScaler().fit_transform(article_x)"
      ],
      "metadata": {
        "id": "7e5ke0kkvLpg",
        "colab": {
          "base_uri": "https://localhost:8080/"
        },
        "outputId": "902ce4d6-492c-41cc-e1e5-76ef8a70bede"
      },
      "id": "7e5ke0kkvLpg",
      "execution_count": 10,
      "outputs": [
        {
          "output_type": "stream",
          "name": "stderr",
          "text": [
            "<ipython-input-10-f4b376aa4626>:8: UserWarning: Creating a tensor from a list of numpy.ndarrays is extremely slow. Please consider converting the list to a single numpy.ndarray with numpy.array() before converting to a tensor. (Triggered internally at ../torch/csrc/utils/tensor_new.cpp:278.)\n",
            "  embedding_tensor = torch.tensor(embedding_tensor, dtype=torch.float)\n"
          ]
        }
      ]
    },
    {
      "cell_type": "markdown",
      "source": [
        "### Matrix X for node: **author**"
      ],
      "metadata": {
        "id": "XBN1GHNyvLPP"
      },
      "id": "XBN1GHNyvLPP"
    },
    {
      "cell_type": "code",
      "source": [
        "# Author X\n",
        "# Sort author dataframe\n",
        "sorted_author_df = author_df.sort_values(by='AUTHOR_NODE_ID')\n",
        "# Exclude columns AUTHOR_SID, AUTHOR_NODE_ID\n",
        "author_x_columns = list(filter(lambda x: x not in ('AUTHOR_SID', 'AUTHOR_NODE_ID'), sorted_author_df.columns))\n",
        "# Convert types\n",
        "author_x = sorted_author_df[author_x_columns].astype('float32').values\n",
        "\n",
        "# Normalize X using std scaler\n",
        "author_x = StandardScaler().fit_transform(author_x)"
      ],
      "metadata": {
        "id": "tg-GzYGtErQx"
      },
      "id": "tg-GzYGtErQx",
      "execution_count": 11,
      "outputs": []
    },
    {
      "cell_type": "markdown",
      "source": [
        "### Edge index for edge: **(author, publishes, article)**"
      ],
      "metadata": {
        "id": "8mbn1x9AvWA-"
      },
      "id": "8mbn1x9AvWA-"
    },
    {
      "cell_type": "code",
      "source": [
        "# Add edge index: for edges corresponding to authors publishing articles (author to article connection)\n",
        "publication_author_node_ids = torch.from_numpy(published_df['AUTHOR_NODE_ID'].values)\n",
        "article_node_ids = torch.from_numpy(published_df['ARTICLE_NODE_ID'].values)\n",
        "edge_index_publishes = torch.stack([publication_author_node_ids, article_node_ids], dim=0)\n",
        "edge_time_publishes = torch.from_numpy(np.array(published_df['TIME'].values.astype('int64')))"
      ],
      "metadata": {
        "id": "8dLiq1tZviaE"
      },
      "id": "8dLiq1tZviaE",
      "execution_count": 12,
      "outputs": []
    },
    {
      "cell_type": "markdown",
      "source": [
        "### Edge index for edge: **(author, co_authors, author)**"
      ],
      "metadata": {
        "id": "6oizfRnsvjYx"
      },
      "id": "6oizfRnsvjYx"
    },
    {
      "cell_type": "code",
      "source": [
        "# Add edge index: for edges corresponding to authors co-authoring articles (author to author connection)\n",
        "author_node_ids = torch.from_numpy(coauthored_df['AUTHOR_NODE_ID'].values)\n",
        "coauthor_node_ids = torch.from_numpy(coauthored_df['CO_AUTHOR_NODE_ID'].values)\n",
        "edge_index_co_authors = torch.stack([author_node_ids, coauthor_node_ids], dim=0)\n",
        "edge_time_co_authors = torch.from_numpy(np.array(coauthored_df['TIME'].values.astype('int64')))"
      ],
      "metadata": {
        "id": "UqXKby3KFhqx"
      },
      "id": "UqXKby3KFhqx",
      "execution_count": 13,
      "outputs": []
    },
    {
      "cell_type": "markdown",
      "source": [
        "### Data object"
      ],
      "metadata": {
        "id": "mi3u5Xx0v5DB"
      },
      "id": "mi3u5Xx0v5DB"
    },
    {
      "cell_type": "markdown",
      "source": [
        "After generating the initial node feature Numpy array, we create an instance of `HeteroData` class with two types of nodes corresponding to authors and articles and an edge denoting authors publishing articles.\n",
        "\n",
        "*Note: We also need to make sure to add the reverse edges from authors to aritcles in order to let a GNN be able to pass messages in both directions. We can leverage the `T.ToUndirected()` transform for this from PyG.*"
      ],
      "metadata": {
        "id": "PXBEBlOCFn34"
      },
      "id": "PXBEBlOCFn34"
    },
    {
      "cell_type": "code",
      "source": [
        "data = HeteroData()\n",
        "\n",
        "# Save node indices:\n",
        "data[\"article\"].node_id = torch.arange(len(unique_articles))\n",
        "data[\"author\"].node_id = torch.arange(len(unique_authors))\n",
        "# Add edge 'published'\n",
        "data[\"author\", \"publishes\", \"article\"].edge_index = edge_index_publishes\n",
        "data[\"author\", \"publishes\", \"article\"].time = edge_time_publishes\n",
        "# Add edge 'co_authors'\n",
        "data[('author', 'co_authors', 'author')].edge_index = edge_index_co_authors\n",
        "data[('author', 'co_authors', 'author')].time = edge_time_co_authors\n",
        "\n",
        "# Set X for article\n",
        "data[\"article\"].x = torch.from_numpy(article_x)\n",
        "# Set X for author\n",
        "data[\"author\"].x = torch.from_numpy(author_x)\n",
        "\n",
        "# Reverse edges\n",
        "data = T.ToUndirected(reduce='min')(data)\n",
        "data"
      ],
      "metadata": {
        "id": "0h15yaEpFo8x",
        "colab": {
          "base_uri": "https://localhost:8080/"
        },
        "outputId": "ced758f7-4fdf-4acb-b1d7-46f103116f67"
      },
      "id": "0h15yaEpFo8x",
      "execution_count": 14,
      "outputs": [
        {
          "output_type": "execute_result",
          "data": {
            "text/plain": [
              "HeteroData(\n",
              "  article={\n",
              "    node_id=[136347],\n",
              "    x=[136347, 770],\n",
              "  },\n",
              "  author={\n",
              "    node_id=[55160],\n",
              "    x=[55160, 2],\n",
              "  },\n",
              "  (author, publishes, article)={\n",
              "    edge_index=[2, 511506],\n",
              "    time=[511506],\n",
              "  },\n",
              "  (author, co_authors, author)={\n",
              "    edge_index=[2, 2466568],\n",
              "    time=[2466568],\n",
              "  },\n",
              "  (article, rev_publishes, author)={\n",
              "    edge_index=[2, 511506],\n",
              "    time=[511506],\n",
              "  }\n",
              ")"
            ]
          },
          "metadata": {},
          "execution_count": 14
        }
      ]
    },
    {
      "cell_type": "code",
      "source": [
        "data.x_dict"
      ],
      "metadata": {
        "colab": {
          "base_uri": "https://localhost:8080/"
        },
        "id": "tg8fjdOJn3QS",
        "outputId": "4164664b-14bc-49f3-95bb-95e7c34de885"
      },
      "id": "tg8fjdOJn3QS",
      "execution_count": 15,
      "outputs": [
        {
          "output_type": "execute_result",
          "data": {
            "text/plain": [
              "{'article': tensor([[-0.1229, -0.0043,  0.6320,  ..., -1.6118,  0.5906, -0.5272],\n",
              "         [ 0.0040, -0.0045, -0.3362,  ...,  2.1118, -0.3300, -0.7037],\n",
              "         [-0.1016, -0.0043, -0.6212,  ..., -0.5745, -0.7586, -0.2447],\n",
              "         ...,\n",
              "         [-0.1575, -0.0045, -0.2152,  ..., -0.2587, -1.2240,  0.0347],\n",
              "         [-0.0977, -0.0045,  0.5225,  ..., -0.3163,  1.1395, -0.9794],\n",
              "         [-0.0332, -0.0040, -1.2924,  ...,  0.7636, -0.1699, -0.2165]]),\n",
              " 'author': tensor([[12.7167, 12.7565],\n",
              "         [-0.2674, -0.2643],\n",
              "         [-0.2674, -0.2643],\n",
              "         ...,\n",
              "         [12.3109, 12.3991],\n",
              "         [12.4631, 12.4501],\n",
              "         [12.4631, 12.5523]])}"
            ]
          },
          "metadata": {},
          "execution_count": 15
        }
      ]
    },
    {
      "cell_type": "markdown",
      "source": [
        "## Heterogeneous graph batching"
      ],
      "metadata": {
        "id": "dQtlX8gLwj77"
      },
      "id": "dQtlX8gLwj77"
    },
    {
      "cell_type": "markdown",
      "source": [
        "###  Split data to train, test"
      ],
      "metadata": {
        "id": "_vuTOx9IxDOs"
      },
      "id": "_vuTOx9IxDOs"
    },
    {
      "cell_type": "code",
      "source": [
        "edge_types = data.metadata()[1]\n",
        "\n",
        "time = data[target_edge_type].time\n",
        "perm = time.argsort()\n",
        "# Find minimum time in `co_authors` edge that still resides in test set\n",
        "test_min_time = time[perm[int(num_train * perm.numel()):]].min()\n",
        "\n",
        "for edge_type in edge_types:\n",
        "  # Define the training dataset for all edge types\n",
        "  time = data[edge_type].time\n",
        "  data[edge_type].train_mask = time < test_min_time\n",
        "  data[edge_type].train_edge_index = data[edge_type].edge_index[:, data[edge_type].train_mask]\n",
        "  data[edge_type].train_edge_time = time[data[edge_type].train_mask]\n",
        "\n",
        "data.train_edge_index_dict = {edge_type: data[edge_type].train_edge_index for edge_type in edge_types}\n",
        "\n",
        "# Add test dataset for `co_authors` edge type\n",
        "data[target_edge_type].test_mask = data[target_edge_type].time >= test_min_time\n",
        "data[target_edge_type].test_pos_edge_index = data[target_edge_type].edge_index[:, data[target_edge_type].test_mask]\n",
        "data[target_edge_type].test_edge_time = data[target_edge_type].time[data[target_edge_type].test_mask]\n",
        "\n",
        "\n",
        "# Negative sampling\n",
        "test_neg_edge_index_i, test_neg_edge_index_j, test_neg_edge_index_k = structured_negative_sampling(\n",
        "    edge_index=data[target_edge_type].test_pos_edge_index,\n",
        "    num_nodes=data[target_node_type].num_nodes)\n",
        "test_neg_edge_index = torch.stack([test_neg_edge_index_i, test_neg_edge_index_k], dim=0)\n",
        "# Add negative samples to test data\n",
        "data[target_edge_type].test_neg_edge_index = test_neg_edge_index\n"
      ],
      "metadata": {
        "id": "u-fOB4GRYCC4"
      },
      "id": "u-fOB4GRYCC4",
      "execution_count": 16,
      "outputs": []
    },
    {
      "cell_type": "markdown",
      "source": [
        "### Data loader (mini-batching)\n",
        "\n",
        "After splitting the data, we need to take into account that we are dealing with very large graphs. A simple load of data to GPU will already return `CUDA out of memory` exception. Hence, we use mini-batching to appropriately split the edges (regardless if we are in training, testing or validation phase). This process will separate the large graph into multiple smaller graphs and process them independently, thus fixing the out-of-memory exceptions.\n"
      ],
      "metadata": {
        "id": "D52ZyYck73fh"
      },
      "id": "D52ZyYck73fh"
    },
    {
      "cell_type": "markdown",
      "source": [
        "## Model training\n",
        "\n",
        "\n",
        "---\n",
        "\n"
      ],
      "metadata": {
        "id": "04vUews17zy8"
      },
      "id": "04vUews17zy8"
    },
    {
      "cell_type": "markdown",
      "source": [
        "### Model definition\n",
        "\n",
        "Our model consists of two parts, first we must encode our nodes using the message passing algorithm exploiting both (author, co-authors, author) and (author, publishes, article) edges and corresponding node features. The second part decodes the edges that the model outputs as its prediction using two simple, fully-connected, linear layers.\n",
        "\n",
        "**TODO:**\n",
        "- Promote EUTOPIA-an collaborations or even restrict to EUTOPIA-an collaborations."
      ],
      "metadata": {
        "id": "kmt2IwuC8C-S"
      },
      "id": "kmt2IwuC8C-S"
    },
    {
      "cell_type": "code",
      "source": [
        "from typing import Optional, Union\n",
        "\n",
        "import torch\n",
        "import torch.nn.functional as F\n",
        "from torch import Tensor\n",
        "from torch.nn import Embedding, ModuleList\n",
        "from torch.nn.modules.loss import _Loss\n",
        "\n",
        "from torch_geometric.nn.conv import GATv2Conv,GCNConv, SAGEConv\n",
        "from torch_geometric.typing import Adj, OptTensor\n",
        "from torch_geometric.utils import is_sparse, to_edge_index\n",
        "from torch_geometric.nn.models.lightgcn import BPRLoss\n",
        "\n",
        "class Encoder(torch.nn.Module):\n",
        "    def __init__(self, hidden_channels):\n",
        "        super().__init__()\n",
        "\n",
        "        # # Initialize the convolutional layers\n",
        "        self.conv_layers = ModuleList([\n",
        "            GATv2Conv(in_channels=(-1, -1),out_channels=hidden_channels, add_self_loops=False, negative_slope=0.2),\n",
        "            GATv2Conv(in_channels=(-1, -1),out_channels=hidden_channels, add_self_loops=False, negative_slope=0.2),\n",
        "            GATv2Conv(in_channels=(-1, -1),out_channels=hidden_channels, add_self_loops=False, negative_slope=0.2),\n",
        "            # GATv2Conv(in_channels=(-1, -1),out_channels=hidden_channels, add_self_loops=False, negative_slope=0.2),\n",
        "            ])\n",
        "\n",
        "        # Initialize batch norm layers\n",
        "        self.bn_layers = ModuleList([\n",
        "            torch.nn.BatchNorm1d(hidden_channels),\n",
        "            torch.nn.BatchNorm1d(hidden_channels),\n",
        "            torch.nn.BatchNorm1d(hidden_channels),\n",
        "            # torch.nn.BatchNorm1d(hidden_channels),\n",
        "            ])\n",
        "\n",
        "        # Calculate the number of layers\n",
        "        self.num_layers = len(self.conv_layers)\n",
        "        # Initialize the alpha\n",
        "        self.alpha = 1. / (self.num_layers + 1)\n",
        "\n",
        "    def forward(self, x, edge_index):\n",
        "        # Activate layers\n",
        "        for i in range(self.num_layers):\n",
        "            x = self.conv_layers[i](x, edge_index)\n",
        "            if i < self.num_layers - 1:\n",
        "                x = x.relu()\n",
        "            x = self.bn_layers[i](x)\n",
        "\n",
        "        return x\n",
        "\n",
        "\n",
        "class Decoder(torch.nn.Module):\n",
        "    def __init__(self):\n",
        "        super().__init__()\n",
        "\n",
        "    def forward(self, z, edge_label_index):\n",
        "        out_src = z[edge_label_index[0]]\n",
        "        out_dst = z[edge_label_index[1]]\n",
        "\n",
        "        # Calculate the dot product\n",
        "        return (out_src * out_dst).sum(dim=-1)\n",
        "\n",
        "class CollaborationRecommender(torch.nn.Module):\n",
        "    def __init__(self,\n",
        "                 hidden_channels: int,\n",
        "                 k: int,\n",
        "                 alpha: Optional[Union[float, Tensor]] = None):\n",
        "        super().__init__()\n",
        "\n",
        "        self.hidden_channels = hidden_channels\n",
        "        self.k = k\n",
        "\n",
        "        self.encoder = Encoder(hidden_channels=hidden_channels)\n",
        "        self.encoder = to_hetero(self.encoder, (['article', 'author'],\n",
        "                                                 [('author', 'publishes', 'article'),\n",
        "                                                    ('author', 'co_authors', 'author'),\n",
        "                                                    ('article', 'rev_publishes', 'author')]), aggr='sum')\n",
        "        self.decoder = Decoder()\n",
        "\n",
        "\n",
        "    def forward(self,\n",
        "                x_dict,\n",
        "                edge_index_dict,\n",
        "                edge_label_index: OptTensor = None):\n",
        "\n",
        "        # Encode authors\n",
        "        z_dict = self.encoder(x_dict, edge_index_dict)\n",
        "        z = z_dict['author']\n",
        "        # Decode edges\n",
        "        return self.decoder(z, edge_label_index)\n",
        "\n",
        "    def recommend(self,\n",
        "                  x_dict,\n",
        "                  edge_index_dict,\n",
        "                  author_sid: str,\n",
        "                  k: int = 10):\n",
        "\n",
        "        # Get all embeddings\n",
        "        out_src = out_dst = self.encoder(x_dict, edge_index_dict)\n",
        "\n",
        "        # Get the author id\n",
        "        author_id = author_id_map[author_sid]\n",
        "        # Get the author embedding\n",
        "        out_src = out_src[author_id]\n",
        "\n",
        "        # Calculate the dot product\n",
        "        pred = out_src @ out_dst.t()\n",
        "        # Get the top k recommendations\n",
        "        top_index = pred.topk(k, dim=-1, sorted=True).indices\n",
        "\n",
        "        # Decode top k recommendations to author SIDs\n",
        "        top_author_sids = [author_sid_map[int(i)] for i in top_index]\n",
        "\n",
        "        return top_author_sids\n",
        "\n",
        "\n",
        "    def recommendation_loss(self,\n",
        "                            x_dict,\n",
        "                            edge_index_dict,\n",
        "                            pos_edge_rank,\n",
        "                            neg_edge_rank,\n",
        "                            node_id: Optional[Tensor] = None,\n",
        "                            lambda_reg: float = 1e-4):\n",
        "        loss_fn = BPRLoss(lambda_reg)\n",
        "        # Get the embedding\n",
        "        z_dict = self.encoder(x_dict, edge_index_dict)\n",
        "        emb = z_dict['author']\n",
        "        # Get the loss\n",
        "        emb = emb if node_id is None else emb[node_id]\n",
        "        return loss_fn(pos_edge_rank, neg_edge_rank, emb)\n",
        "\n",
        "\n",
        "model = CollaborationRecommender(\n",
        "                     hidden_channels=hidden_channels,\n",
        "                     k=num_recommendations\n",
        "                     ).to(device)\n",
        "\n",
        "# Transfer to device\n",
        "data = data.to(device)\n",
        "optimizer = torch.optim.Adam(params=model.parameters(), lr=learning_rate)\n",
        "scheduler = torch.optim.lr_scheduler.ReduceLROnPlateau(optimizer=optimizer, mode='min', factor=0.5, patience=10)"
      ],
      "metadata": {
        "id": "FwVf1kDPLnFH"
      },
      "id": "FwVf1kDPLnFH",
      "execution_count": 17,
      "outputs": []
    },
    {
      "cell_type": "markdown",
      "source": [
        "### Training the model\n",
        "\n",
        "Our model is then trained through a number of epochs, where in each epoch we perform mini-batching to avoid memory issues on GPU.\n"
      ],
      "metadata": {
        "id": "hfuXSrL68FXZ"
      },
      "id": "hfuXSrL68FXZ"
    },
    {
      "cell_type": "code",
      "source": [
        "import pytest\n",
        "from torch_geometric.metrics.link_pred import LinkPredMetric\n",
        "class LinkPredHitRate(LinkPredMetric):\n",
        "    higher_is_better: bool = True\n",
        "\n",
        "    def _compute(self, pred_isin_mat: Tensor, y_count: Tensor) -> Tensor:\n",
        "        return pred_isin_mat.sum(dim=-1) >= 1\n",
        "\n",
        "def test_hit_rate():\n",
        "    pred_mat = torch.tensor([[1, 0], [1, 2], [0, 2], [0, 1]])\n",
        "    edge_label_index = torch.tensor([[0, 0, 2, 2, 3], [0, 1, 2, 1, 2]])\n",
        "\n",
        "    metric = LinkPredHitRate(k=2)\n",
        "    metric.update(pred_mat, edge_label_index)\n",
        "    result = metric.compute()\n",
        "\n",
        "    assert result == pytest.approx((2) / 3)\n",
        "\n",
        "test_hit_rate()\n",
        "\n",
        "def train():\n",
        "    model.train()\n",
        "    # Fetch existing graph edges as positive samples\n",
        "    pos_edge_index = data[target_edge_type].train_edge_index\n",
        "    # Perform structured negative sampling, meaning that for every positive sample,\n",
        "    # there will be another negative sample at the same index/position\n",
        "    # - this structure is expected in BPR loss calculation\n",
        "    neg_edge_index_i, neg_edge_index_j, neg_edge_index_k = structured_negative_sampling(\n",
        "        edge_index=pos_edge_index,\n",
        "        num_nodes=data[target_node_type].num_nodes)\n",
        "    # Structure negative sampling returns both positive and negative edges, so\n",
        "    # we need to concatenate appropriate nodes to get the negative edges\n",
        "    neg_edge_index = torch.stack([neg_edge_index_i, neg_edge_index_k], dim=0)\n",
        "\n",
        "    optimizer.zero_grad()\n",
        "\n",
        "    # Concatenate edge label indices into a single edge label index\n",
        "    edge_label_index = torch.cat([\n",
        "        pos_edge_index,\n",
        "        neg_edge_index,\n",
        "    ], dim=1)\n",
        "\n",
        "    pos_edge_rank, neg_edge_rank = model(x_dict=data.x_dict,\n",
        "                                         edge_index_dict=data.train_edge_index_dict,\n",
        "                                         edge_label_index=edge_label_index).chunk(2)\n",
        "\n",
        "    # Calculate BPR loss\n",
        "    loss = model.recommendation_loss(x_dict=data.x_dict,\n",
        "                                     edge_index_dict=data.train_edge_index_dict,\n",
        "                                     pos_edge_rank=pos_edge_rank,\n",
        "                                     neg_edge_rank=neg_edge_rank,\n",
        "                                     node_id=edge_label_index.unique())\n",
        "\n",
        "    loss.backward()\n",
        "    optimizer.step()\n",
        "\n",
        "    total_loss = float(loss) * pos_edge_rank.numel()\n",
        "    total_examples = pos_edge_rank.numel()\n",
        "\n",
        "    # Cleanup\n",
        "    del pos_edge_rank, neg_edge_rank\n",
        "    torch.cuda.empty_cache()\n",
        "\n",
        "    return total_loss / total_examples\n",
        "\n",
        "\n",
        "@torch.no_grad()\n",
        "def test():\n",
        "    model.eval()\n",
        "\n",
        "    pos_edge_index = data[target_edge_type].test_pos_edge_index\n",
        "    neg_edge_index = data[target_edge_type].test_neg_edge_index\n",
        "\n",
        "    # Concatenate edge label indices into a single edge label index\n",
        "    edge_label_index = torch.cat([\n",
        "        pos_edge_index,\n",
        "        neg_edge_index,\n",
        "    ], dim=1)\n",
        "\n",
        "    # We encode the training edge index to get the embeddings based on the training graph\n",
        "    # structure and then use those embeddings to predict unseen edges\n",
        "    # TODO: Check if this makes sense\n",
        "    pos_edge_rank, neg_edge_rank = model(x_dict=data.x_dict,\n",
        "                                         edge_index_dict=data.train_edge_index_dict,\n",
        "                                         edge_label_index=edge_label_index).chunk(2)\n",
        "\n",
        "    # Calculate BPR loss\n",
        "    loss = model.recommendation_loss(x_dict=data.x_dict,\n",
        "                                     edge_index_dict=data.train_edge_index_dict,\n",
        "                                     pos_edge_rank=pos_edge_rank,\n",
        "                                     neg_edge_rank=neg_edge_rank,\n",
        "                                     node_id=edge_label_index.unique())\n",
        "\n",
        "    total_loss = float(loss) * pos_edge_rank.numel()\n",
        "    total_examples = pos_edge_rank.numel()\n",
        "\n",
        "    # Cleanup\n",
        "    del pos_edge_rank, neg_edge_rank\n",
        "    torch.cuda.empty_cache()\n",
        "\n",
        "    return total_loss / total_examples\n",
        "\n",
        "@torch.no_grad()\n",
        "def evaluate(k:int=20):\n",
        "    model.eval()\n",
        "    z_dict = model.encoder(data.x_dict, data.train_edge_index_dict)\n",
        "    embs = z_dict[target_node_type].to(device)\n",
        "\n",
        "    result = {\n",
        "        'precision@k': LinkPredPrecision(k=k).to(device),\n",
        "        'recall@k': LinkPredRecall(k=k).to(device),\n",
        "        'map@k': LinkPredMAP(k=k).to(device),\n",
        "        'mrr@k': LinkPredMRR(k=k).to(device),\n",
        "        'ndcg@k': LinkPredNDCG(k=k).to(device),\n",
        "        'hit_rate@k': LinkPredHitRate(k=k).to(device)\n",
        "        }\n",
        "\n",
        "    # Calculate distance between embeddings\n",
        "    logits = embs @ embs.T\n",
        "\n",
        "    # Exclude training edges\n",
        "    logits[data[target_edge_type].train_edge_index[0], data[target_edge_type].train_edge_index[1]] = float('-inf')\n",
        "\n",
        "    # Gather ground truth data\n",
        "    ground_truth = data[target_edge_type].test_pos_edge_index\n",
        "\n",
        "    # Get top-k recommendations for each node\n",
        "    top_k_index = torch.topk(logits, k=k, dim=1).indices\n",
        "\n",
        "    # Update performance metrics\n",
        "    for metric in result.keys():\n",
        "      result[metric].update(\n",
        "          pred_index_mat=top_k_index,\n",
        "          edge_label_index=ground_truth)\n",
        "\n",
        "    # Cleanup\n",
        "    del embs, logits, ground_truth, top_k_index\n",
        "    torch.cuda.empty_cache()\n",
        "\n",
        "    return result"
      ],
      "metadata": {
        "id": "JNK2LtWgdxLY"
      },
      "id": "JNK2LtWgdxLY",
      "execution_count": 18,
      "outputs": []
    },
    {
      "cell_type": "code",
      "source": [
        "results = []\n",
        "for epoch in range(1,  num_epochs):\n",
        "    train_loss = train()\n",
        "    test_loss = test()\n",
        "    scheduler.step(test_loss)\n",
        "    eval_result = evaluate(k=num_recommendations)\n",
        "\n",
        "    # Save results\n",
        "    epoch_result = {\n",
        "        'epoch': epoch  ,\n",
        "        'train_loss_bpr': train_loss,\n",
        "        'test_loss_bpr': test_loss,\n",
        "        'precision@k': eval_result['precision@k'].compute(),\n",
        "        'recall@k': eval_result['recall@k'].compute(),\n",
        "        'map@k': eval_result['map@k'].compute(),\n",
        "        'mrr@k': eval_result['mrr@k'].compute(),\n",
        "        'ndcg@k': eval_result['ndcg@k'].compute(),\n",
        "        'hit_rate@k': eval_result['hit_rate@k'].compute()\n",
        "    }\n",
        "    results.append(epoch_result)\n",
        "\n",
        "    # Log results\n",
        "    if epoch % 20 == 0:\n",
        "        # Log model performance\n",
        "        formatted_str = ', '.join([f'{key}: {epoch_result[key]:.4f}' for key in epoch_result.keys()])\n",
        "        print(formatted_str)\n",
        "\n",
        "\n",
        "results = pd.DataFrame(results)"
      ],
      "metadata": {
        "colab": {
          "base_uri": "https://localhost:8080/"
        },
        "id": "NQS0tN81GTEF",
        "outputId": "45012f53-fe8e-4b9b-c236-8e12e6b9dbeb"
      },
      "id": "NQS0tN81GTEF",
      "execution_count": 19,
      "outputs": [
        {
          "output_type": "stream",
          "name": "stdout",
          "text": [
            "epoch: 20.0000, train_loss_bpr: 0.0657, test_loss_bpr: 4.3143, precision@k: 0.0233, recall@k: 0.0214, map@k: 0.0138, mrr@k: 0.0482, ndcg@k: 0.0281, hit_rate@k: 0.1287\n",
            "epoch: 40.0000, train_loss_bpr: 0.0319, test_loss_bpr: 2.1248, precision@k: 0.0395, recall@k: 0.0409, map@k: 0.0276, mrr@k: 0.0824, ndcg@k: 0.0510, hit_rate@k: 0.1939\n",
            "epoch: 60.0000, train_loss_bpr: 0.0231, test_loss_bpr: 1.9588, precision@k: 0.0440, recall@k: 0.0490, map@k: 0.0311, mrr@k: 0.0919, ndcg@k: 0.0577, hit_rate@k: 0.2194\n",
            "epoch: 80.0000, train_loss_bpr: 0.0190, test_loss_bpr: 1.8382, precision@k: 0.0442, recall@k: 0.0491, map@k: 0.0308, mrr@k: 0.0922, ndcg@k: 0.0576, hit_rate@k: 0.2216\n"
          ]
        }
      ]
    },
    {
      "cell_type": "markdown",
      "source": [
        "## Model evaluation"
      ],
      "metadata": {
        "id": "uV1aqHuN8Ixi"
      },
      "id": "uV1aqHuN8Ixi"
    },
    {
      "cell_type": "code",
      "source": [
        "# Generate loss curve\n",
        "plt.plot(results['epoch'], results['train_loss_bpr'], label='train')\n",
        "plt.plot(results['epoch'], results['test_loss_bpr'], label='test')\n",
        "plt.xlabel('Epoch')\n",
        "plt.ylabel('Loss')\n",
        "plt.title('Loss Curve')\n",
        "plt.show()"
      ],
      "metadata": {
        "id": "MxwYhlsGRcG5",
        "colab": {
          "base_uri": "https://localhost:8080/",
          "height": 472
        },
        "outputId": "45bcc585-a9b1-4b1d-dbe1-e2c4b1fe2e50"
      },
      "id": "MxwYhlsGRcG5",
      "execution_count": 20,
      "outputs": [
        {
          "output_type": "display_data",
          "data": {
            "text/plain": [
              "<Figure size 640x480 with 1 Axes>"
            ],
            "image/png": "[encoded data removed]"
          },
          "metadata": {}
        }
      ]
    },
    {
      "cell_type": "code",
      "source": [
        "# Generate evaluation metrics plot\n",
        "plt.plot(results['epoch'], results['precision@k'], label='precision@k')\n",
        "plt.plot(results['epoch'], results['recall@k'], label='recall@k')\n",
        "plt.plot(results['epoch'], results['map@k'], label='map@k')\n",
        "plt.plot(results['epoch'], results['mrr@k'], label='mrr@k')\n",
        "plt.plot(results['epoch'], results['ndcg@k'], label='ndcg@k')\n",
        "plt.plot(results['epoch'], results['hit_rate@k'], label='hit_rate@k')\n",
        "plt.xlabel('Epoch')\n",
        "plt.ylabel('Performance')\n",
        "plt.title('Evaluation metrics')\n",
        "plt.legend()\n",
        "plt.show()"
      ],
      "metadata": {
        "colab": {
          "base_uri": "https://localhost:8080/",
          "height": 472
        },
        "id": "2bWKDD6Q9CYC",
        "outputId": "5b63dc87-33bb-4fb9-fd74-da317aad7d2b"
      },
      "id": "2bWKDD6Q9CYC",
      "execution_count": 21,
      "outputs": [
        {
          "output_type": "display_data",
          "data": {
            "text/plain": [
              "<Figure size 640x480 with 1 Axes>"
            ],
            "image/png": "[encoded data removed]"
          },
          "metadata": {}
        }
      ]
    }
  ],
  "metadata": {
    "kernelspec": {
      "display_name": "Python 3",
      "language": "python",
      "name": "python3"
    },
    "language_info": {
      "codemirror_mode": {
        "name": "ipython",
        "version": 3
      },
      "file_extension": ".py",
      "mimetype": "text/x-python",
      "name": "python",
      "nbconvert_exporter": "python",
      "pygments_lexer": "ipython3",
      "version": "3.10.10"
    },
    "colab": {
      "provenance": [],
      "name": "Collaboration Recommender 2.0 (Heterogeneous)"
    }
  },
  "nbformat": 4,
  "nbformat_minor": 5
}