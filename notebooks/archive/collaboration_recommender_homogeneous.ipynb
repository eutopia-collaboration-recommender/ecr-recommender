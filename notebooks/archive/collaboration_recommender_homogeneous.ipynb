{
 "cells": [
  {
   "cell_type": "markdown",
   "id": "zYPnKxIhFGVJ",
   "metadata": {
    "id": "zYPnKxIhFGVJ"
   },
   "source": [
    "# Collaboration recommender system 1.0 (Homogeneous)"
   ]
  },
  {
   "cell_type": "markdown",
   "id": "x7McZwR_FRta",
   "metadata": {
    "id": "x7McZwR_FRta"
   },
   "source": [
    "## **Setting up environment**\n",
    "\n",
    "---\n",
    "\n"
   ]
  },
  {
   "cell_type": "markdown",
   "id": "jX5i4Qjs7MIl",
   "metadata": {
    "id": "jX5i4Qjs7MIl"
   },
   "source": [
    "### **Package installation**\n",
    "\n",
    "Installing `torch` and `torch_geometric` libraries."
   ]
  },
  {
   "cell_type": "code",
   "execution_count": 1,
   "id": "t4n7jKW9uiQE",
   "metadata": {
    "ExecuteTime": {
     "end_time": "2024-12-13T14:58:53.571300Z",
     "start_time": "2024-12-13T14:58:53.561285Z"
    },
    "colab": {
     "base_uri": "https://localhost:8080/"
    },
    "id": "t4n7jKW9uiQE",
    "outputId": "3af05ccb-b9eb-4cbf-85cf-f39905313fe5"
   },
   "outputs": [
    {
     "name": "stdout",
     "output_type": "stream",
     "text": [
      "2.4.0+cpu\n"
     ]
    }
   ],
   "source": [
    "import torch\n",
    "import os\n",
    "\n",
    "os.environ['TORCH'] = torch.__version__\n",
    "print(torch.__version__)"
   ]
  },
  {
   "cell_type": "markdown",
   "id": "cD8tnTfC60X2",
   "metadata": {
    "id": "cD8tnTfC60X2"
   },
   "source": [
    "### **Loading libraries**"
   ]
  },
  {
   "cell_type": "code",
   "execution_count": 4,
   "id": "5okfWmvKEI3Z",
   "metadata": {
    "ExecuteTime": {
     "end_time": "2024-12-13T17:47:50.264742Z",
     "start_time": "2024-12-13T17:47:50.256254Z"
    },
    "id": "5okfWmvKEI3Z"
   },
   "outputs": [],
   "source": [
    "# PyTorch imports\n",
    "from torch import Tensor\n",
    "import torch.nn.functional as F\n",
    "\n",
    "# PyTorch Geometric imports\n",
    "import torch_geometric\n",
    "import torch_geometric.transforms as T\n",
    "from torch_geometric.loader import LinkNeighborLoader, NeighborLoader\n",
    "from torch_geometric.nn import GCNConv\n",
    "from torch_geometric.nn.models.lightgcn import BPRLoss\n",
    "from torch_geometric.data import Data\n",
    "from torch_geometric.utils import structured_negative_sampling\n",
    "from torch_geometric.metrics import (\n",
    "    LinkPredPrecision,\n",
    "    LinkPredRecall,\n",
    "    LinkPredMAP,\n",
    "    LinkPredMRR,\n",
    "    LinkPredNDCG\n",
    ")\n",
    "\n",
    "# Other imports\n",
    "import numpy as np\n",
    "import matplotlib.pyplot as plt\n",
    "from sklearn.preprocessing import StandardScaler\n",
    "from box import Box\n",
    "from util.postgres import create_connection, query"
   ]
  },
  {
   "cell_type": "code",
   "execution_count": 3,
   "id": "X6kGtZ7RD7Y9",
   "metadata": {
    "ExecuteTime": {
     "end_time": "2024-12-13T17:47:51.631643Z",
     "start_time": "2024-12-13T17:47:51.619602Z"
    },
    "colab": {
     "base_uri": "https://localhost:8080/"
    },
    "id": "X6kGtZ7RD7Y9",
    "outputId": "9b2dc01e-86a8-46a8-8583-569d01152272"
   },
   "outputs": [
    {
     "name": "stdout",
     "output_type": "stream",
     "text": [
      "2.4.0+cpu\n",
      "2.7.0\n",
      "Device: 'cpu'\n"
     ]
    }
   ],
   "source": [
    "device = 'cpu'\n",
    "\n",
    "print(torch.__version__)\n",
    "print(torch_geometric.__version__)\n",
    "print(f\"Device: '{device}'\")"
   ]
  },
  {
   "cell_type": "markdown",
   "id": "bQ_xqBiFn97Q",
   "metadata": {
    "id": "bQ_xqBiFn97Q"
   },
   "source": [
    "### **Global variables**"
   ]
  },
  {
   "cell_type": "code",
   "execution_count": 5,
   "id": "9r1K6ezsn97Q",
   "metadata": {
    "ExecuteTime": {
     "end_time": "2024-12-13T21:23:20.128019Z",
     "start_time": "2024-12-13T21:23:20.037264Z"
    },
    "id": "9r1K6ezsn97Q"
   },
   "outputs": [],
   "source": [
    "# Initiate global variables\n",
    "\n",
    "num_recommendations = 10  # Number of recommendations\n",
    "num_train = 0.8  # Percentage of data used for training\n",
    "learning_rate = 1e-2  # Learning rate\n",
    "num_epochs = 100  # Number of epochs\n",
    "hidden_channels = 64  # Number of hidden channels\n",
    "config = Box.from_yaml(filename=\"../../config.yaml\")\n",
    "connection = create_connection(\n",
    "    username=config.POSTGRES.USERNAME,\n",
    "    password=config.POSTGRES.PASSWORD,\n",
    "    host=config.POSTGRES.HOST,\n",
    "    port=config.POSTGRES.PORT,\n",
    "    database=config.POSTGRES.DATABASE,\n",
    "    schema=config.POSTGRES.BQ_SCHEMA\n",
    ")"
   ]
  },
  {
   "cell_type": "markdown",
   "id": "ISUVX4hvFMKM",
   "metadata": {
    "id": "ISUVX4hvFMKM"
   },
   "source": [
    "## **Data preparation**\n",
    "\n",
    "---\n",
    "\n"
   ]
  },
  {
   "cell_type": "markdown",
   "id": "PUmNU6hf75k7",
   "metadata": {
    "id": "PUmNU6hf75k7"
   },
   "source": [
    "### **Loading data**\n",
    "\n",
    "When loading the data, we take into account only the articles, where at least one author comes from the EUTOPIA"
   ]
  },
  {
   "cell_type": "code",
   "execution_count": 6,
   "id": "2ZMmIoKLMPOF",
   "metadata": {
    "ExecuteTime": {
     "end_time": "2024-12-13T21:25:24.493937Z",
     "start_time": "2024-12-13T21:23:29.567583Z"
    },
    "id": "2ZMmIoKLMPOF"
   },
   "outputs": [
    {
     "name": "stderr",
     "output_type": "stream",
     "text": [
      "C:\\Development\\eutopia-collaboration-recommender\\ecr-recommender\\util\\postgres.py:127: UserWarning: pandas only supports SQLAlchemy connectable (engine/connection) or database string URI or sqlite3 DBAPI2 connection. Other DBAPI2 objects are not tested. Please consider using SQLAlchemy.\n",
      "  df = pd.read_sql(query, conn)\n"
     ]
    }
   ],
   "source": [
    "# Get all authors data and value metrics about their collaboration\n",
    "author_query = f\"\"\"\n",
    "SELECT author_sid,\n",
    "       publication_count,\n",
    "       embedding_tensor_data\n",
    "FROM lojze.bigquery_legacy.graph_homogeneous_node_author\n",
    "\"\"\"\n",
    "author_df = query(conn=connection, query_str=author_query)"
   ]
  },
  {
   "cell_type": "code",
   "execution_count": 7,
   "id": "5fe3cd2b9e2fee62",
   "metadata": {
    "ExecuteTime": {
     "end_time": "2024-12-13T17:54:52.423974Z",
     "start_time": "2024-12-13T17:54:45.642005Z"
    }
   },
   "outputs": [],
   "source": [
    "# Get all edges between authors and co-authors\n",
    "coauthored_query = f\"\"\"\n",
    "SELECT author_sid,\n",
    "       co_author_sid,\n",
    "       time\n",
    "FROM lojze.bigquery_legacy.graph_homogeneous_edge_co_authors\n",
    "\"\"\"\n",
    "coauthored_df = query(conn=connection, query_str=coauthored_query)"
   ]
  },
  {
   "cell_type": "markdown",
   "id": "dZW9dtfeuhKT",
   "metadata": {
    "id": "dZW9dtfeuhKT"
   },
   "source": [
    "### Contiguous unique identifier for node: **author**"
   ]
  },
  {
   "cell_type": "code",
   "execution_count": 8,
   "id": "S3vkAApdE7M9",
   "metadata": {
    "ExecuteTime": {
     "end_time": "2024-12-13T21:25:35.496784Z",
     "start_time": "2024-12-13T21:25:34.940185Z"
    },
    "id": "S3vkAApdE7M9"
   },
   "outputs": [],
   "source": [
    "# Author: Map each unique MD5 hash to a contiguous unique integer ID\n",
    "unique_authors = author_df['author_sid'].unique()\n",
    "author_id_map = {author: i for i, author in enumerate(unique_authors)}\n",
    "author_sid_map = {y: x for x, y in author_id_map.items()}\n",
    "# ---> Adjust all dataframes\n",
    "author_df['author_node_id'] = author_df['author_sid'].map(author_id_map)\n",
    "coauthored_df['author_node_id'] = coauthored_df['author_sid'].map(author_id_map)\n",
    "coauthored_df['co_author_node_id'] = coauthored_df['co_author_sid'].map(author_id_map)\n"
   ]
  },
  {
   "cell_type": "markdown",
   "id": "aZQQpLqCFeGK",
   "metadata": {
    "id": "aZQQpLqCFeGK"
   },
   "source": [
    "## **Homogeneous graph creation**\n",
    "First of all, we prepare the node features for articles. We first sort the article dataframe by node ID. We know that we have unique values in the article dataframe, i.e. one row per article and we can just sort it. Otherwise, we would need to create a unique mapping between article features and articles themselves. The sorting needs to match the node index that we will create later. After that, we also need to set up correct type (specifically, convert Pandas Int64 to int64, but we go for the lazy version and just convert all features to float64). At last, we exclude the `ARTICLE_SID` and `ARTICLE_NODE_ID` columns, because Torch can't work with strings.\n",
    "\n",
    "**TODO:**\n",
    "- Think about only including \"valuable\" partnerships/edges."
   ]
  },
  {
   "cell_type": "markdown",
   "id": "KHk6LU_su7-S",
   "metadata": {
    "id": "KHk6LU_su7-S"
   },
   "source": [
    "### Matrix X for node: **article**"
   ]
  },
  {
   "cell_type": "code",
   "execution_count": 11,
   "id": "7e5ke0kkvLpg",
   "metadata": {
    "ExecuteTime": {
     "end_time": "2024-12-13T21:31:23.359954Z",
     "start_time": "2024-12-13T21:31:23.351933Z"
    },
    "id": "7e5ke0kkvLpg"
   },
   "outputs": [],
   "source": [
    "# Article X\n",
    "# Sort article dataframe\n",
    "co_authors_edge_attr_columns = list(filter(lambda x: x not in (\n",
    "    'author_sid', 'co_author_sid', 'author_node_id', 'co_author_node_id', 'embedding_tensor_data', 'time'),\n",
    "                                           coauthored_df.columns))\n",
    "\n",
    "# Convert types\n",
    "edge_attr_co_authors = coauthored_df[co_authors_edge_attr_columns].astype('int64').values"
   ]
  },
  {
   "cell_type": "markdown",
   "id": "XBN1GHNyvLPP",
   "metadata": {
    "id": "XBN1GHNyvLPP"
   },
   "source": [
    "### Matrix X for node: **author**"
   ]
  },
  {
   "cell_type": "code",
   "execution_count": 10,
   "id": "tg-GzYGtErQx",
   "metadata": {
    "ExecuteTime": {
     "start_time": "2024-12-13T21:31:32.651011Z"
    },
    "colab": {
     "base_uri": "https://localhost:8080/"
    },
    "id": "tg-GzYGtErQx",
    "jupyter": {
     "is_executing": true
    },
    "outputId": "87cf7c85-009b-4505-d473-a1059898d80d"
   },
   "outputs": [
    {
     "name": "stderr",
     "output_type": "stream",
     "text": [
      "C:\\Users\\LukaŽontar\\AppData\\Local\\Temp\\ipykernel_35500\\690007607.py:10: UserWarning: Creating a tensor from a list of numpy.ndarrays is extremely slow. Please consider converting the list to a single numpy.ndarray with numpy.array() before converting to a tensor. (Triggered internally at C:\\actions-runner\\_work\\pytorch\\pytorch\\builder\\windows\\pytorch\\torch\\csrc\\utils\\tensor_new.cpp:281.)\n",
      "  author_embedding_tensor = torch.tensor(author_embedding_tensor, dtype=torch.float)\n"
     ]
    }
   ],
   "source": [
    "# Author X\n",
    "# Sort author dataframe\n",
    "sorted_author_df = author_df.sort_values(by='author_node_id')\n",
    "# Exclude columns AUTHOR_SID, AUTHOR_NODE_ID\n",
    "author_x_columns = list(\n",
    "    filter(lambda x: x not in ('author_sid', 'author_node_id', 'embedding_tensor_data'), sorted_author_df.columns))\n",
    "\n",
    "# Convert EMBEDDING_TENSOR_DATA to proper format\n",
    "author_embedding_tensor = sorted_author_df['embedding_tensor_data'].apply(lambda x: np.array(x.replace('{', '').replace('}', '').split(',')).astype('float64'))\n",
    "author_embedding_tensor = torch.tensor(author_embedding_tensor, dtype=torch.float)\n",
    "\n",
    "# Convert types\n",
    "author_x = sorted_author_df[author_x_columns].astype('float64').values\n",
    "\n",
    "# Append embedding_tensor to author_x\n",
    "author_x = np.concatenate((author_x, author_embedding_tensor), axis=1)\n",
    "\n",
    "# Normalize X using std scaler\n",
    "author_x = StandardScaler().fit_transform(author_x)\n"
   ]
  },
  {
   "cell_type": "markdown",
   "id": "6oizfRnsvjYx",
   "metadata": {
    "id": "6oizfRnsvjYx"
   },
   "source": [
    "### Edge index for edge: **(author, co_authors, author)**"
   ]
  },
  {
   "cell_type": "code",
   "execution_count": 12,
   "id": "UqXKby3KFhqx",
   "metadata": {
    "ExecuteTime": {
     "end_time": "2024-12-13T21:26:57.887598Z",
     "start_time": "2024-12-13T21:26:57.865353Z"
    },
    "id": "UqXKby3KFhqx"
   },
   "outputs": [],
   "source": [
    "# Add edge index: for edges corresponding to authors co-authoring articles (author to author connection)\n",
    "author_node_ids = torch.from_numpy(coauthored_df['author_node_id'].values)\n",
    "coauthor_node_ids = torch.from_numpy(coauthored_df['co_author_node_id'].values)\n",
    "edge_index_co_authors = torch.stack([author_node_ids, coauthor_node_ids], dim=0)\n",
    "edge_time_co_authors = torch.from_numpy(np.array(coauthored_df['time'].values.astype('int64')))\n",
    "# edge_weight_co_authors = torch.from_numpy(np.array(coauthored_df['co_authorship_article_collaboration_novelty'].values.astype('int64')))"
   ]
  },
  {
   "cell_type": "markdown",
   "id": "mi3u5Xx0v5DB",
   "metadata": {
    "id": "mi3u5Xx0v5DB"
   },
   "source": [
    "### Data object"
   ]
  },
  {
   "cell_type": "markdown",
   "id": "PXBEBlOCFn34",
   "metadata": {
    "id": "PXBEBlOCFn34"
   },
   "source": [
    "After generating the initial node feature Numpy array, we create an instance of `HeteroData` class with two types of nodes corresponding to authors and articles and an edge denoting authors publishing articles.\n",
    "\n",
    "*Note: We also need to make sure to add the reverse edges from authors to aritcles in order to let a GNN be able to pass messages in both directions. We can leverage the `T.ToUndirected()` transform for this from PyG.*"
   ]
  },
  {
   "cell_type": "code",
   "execution_count": 13,
   "id": "d1_gvFOTCY_x",
   "metadata": {
    "ExecuteTime": {
     "end_time": "2024-12-13T21:26:48.840705Z",
     "start_time": "2024-12-13T21:26:48.812787Z"
    },
    "id": "d1_gvFOTCY_x"
   },
   "outputs": [],
   "source": [
    "def split_to_train_and_test(data, num_train=0.8):\n",
    "    time = data.edge_time\n",
    "    perm = time.argsort()\n",
    "    train_index = perm[:int(num_train * perm.numel())]\n",
    "    test_index = perm[int(num_train * perm.numel()):]\n",
    "\n",
    "    # Edge index\n",
    "    data.train_pos_edge_index = data.edge_index[:, train_index]\n",
    "    data.test_pos_edge_index = data.edge_index[:, test_index]\n",
    "\n",
    "    # Add negative samples to test\n",
    "    neg_edge_index_i, neg_edge_index_j, neg_edge_index_k = structured_negative_sampling(\n",
    "        edge_index=data.test_pos_edge_index,\n",
    "        num_nodes=data.num_nodes\n",
    "    )\n",
    "    data.test_neg_edge_index = torch.stack([neg_edge_index_i, neg_edge_index_k], dim=0)\n",
    "\n",
    "    # data.edge_index = data.edge_attr = data.edge_time = None\n",
    "    return data\n",
    "\n",
    "\n",
    "def assert_bidirectional_edges(data):\n",
    "    # Step 1: Transpose edge_index to get a list of edges\n",
    "    edges = data.edge_index.t()  # Shape: [num_edges, 2]\n",
    "\n",
    "    # Step 2: Create reverse edges by swapping columns\n",
    "    reverse_edges = edges[:, [1, 0]]\n",
    "\n",
    "    # Step 3: Check if all reverse edges exist in the original edge list\n",
    "    # Convert edges to a set of tuples for faster lookup\n",
    "    edges_set = set(map(tuple, edges.tolist()))\n",
    "\n",
    "    # Iterate over reverse edges and check for their presence\n",
    "    missing_edges = []\n",
    "    for edge in reverse_edges.tolist():\n",
    "        if tuple(edge) not in edges_set:\n",
    "            missing_edges.append(edge)\n",
    "\n",
    "    # If there are missing edges, raise an assertion error\n",
    "    if missing_edges:\n",
    "        raise AssertionError(f\"The following edges are missing their reverse counterparts: {missing_edges}\")"
   ]
  },
  {
   "cell_type": "code",
   "execution_count": 14,
   "id": "0h15yaEpFo8x",
   "metadata": {
    "ExecuteTime": {
     "end_time": "2024-12-13T21:27:41.502027Z",
     "start_time": "2024-12-13T21:27:41.320224Z"
    },
    "colab": {
     "base_uri": "https://localhost:8080/"
    },
    "id": "0h15yaEpFo8x",
    "outputId": "e4b7a6ec-5685-4f96-8bd3-532cfd5d2f92"
   },
   "outputs": [
    {
     "data": {
      "text/plain": [
       "Data(node_id=[56233], edge_index=[2, 504538], edge_attr=[504538, 0], edge_time=[504538], x=[56233, 769], num_features=769, num_nodes=56233, train_pos_edge_index=[2, 403630], test_pos_edge_index=[2, 100908], test_neg_edge_index=[2, 100908])"
      ]
     },
     "execution_count": 14,
     "metadata": {},
     "output_type": "execute_result"
    }
   ],
   "source": [
    "data = Data()\n",
    "\n",
    "# Save node indices:\n",
    "data.node_id = torch.arange(len(unique_authors))\n",
    "# Add edge 'co_authors'\n",
    "data.edge_index = edge_index_co_authors\n",
    "data.edge_attr = torch.from_numpy(edge_attr_co_authors).to(torch.float)\n",
    "data.edge_time = edge_time_co_authors\n",
    "\n",
    "# Set X for author nodes\n",
    "data.x = torch.from_numpy(author_x).to(torch.float)\n",
    "\n",
    "# Metadata about number of features and nodes\n",
    "data.num_features = data.x.shape[1]\n",
    "data.num_nodes = data.x.shape[0]\n",
    "\n",
    "# Transform data to undirected graph\n",
    "# data = T.ToUndirected()(data)\n",
    "\n",
    "# Split to train and test\n",
    "data = split_to_train_and_test(data)\n",
    "\n",
    "# Test: check that the number of elements in the positive edge index equals to the number of elements in the negative edge index\n",
    "assert data.test_pos_edge_index.numel() == data.test_neg_edge_index.numel()\n",
    "# Test: check that the number of elements in the training, positive edge index equals to 0.8 times all nodes\n",
    "assert data.train_pos_edge_index.shape[1] == int(0.8 * data.edge_index.shape[1])\n",
    "# Test: check that the number of elements in the test, positive edge index equals to 0.2 times all nodes\n",
    "assert data.test_pos_edge_index.shape[1] == data.edge_index.shape[1] - int(0.8 * data.edge_index.shape[1])\n",
    "\n",
    "# Test: check that all edges are bidirectional\n",
    "# assert_bidirectional_edges(data)\n",
    "\n",
    "# Print data\n",
    "data"
   ]
  },
  {
   "cell_type": "markdown",
   "id": "04vUews17zy8",
   "metadata": {
    "id": "04vUews17zy8"
   },
   "source": [
    "## Model training\n",
    "\n",
    "\n",
    "---\n",
    "\n"
   ]
  },
  {
   "cell_type": "markdown",
   "id": "IMCtMQz00wC_",
   "metadata": {
    "id": "IMCtMQz00wC_"
   },
   "source": [
    "### Model definition"
   ]
  },
  {
   "cell_type": "code",
   "execution_count": 15,
   "id": "TJaBxQX_7_3D",
   "metadata": {
    "ExecuteTime": {
     "end_time": "2024-12-13T21:28:22.411435Z",
     "start_time": "2024-12-13T21:28:22.248727Z"
    },
    "id": "TJaBxQX_7_3D"
   },
   "outputs": [],
   "source": [
    "from typing import Optional, Union\n",
    "\n",
    "import torch\n",
    "import torch.nn.functional as F\n",
    "from torch import Tensor\n",
    "from torch.nn import Embedding, ModuleList\n",
    "from torch.nn.modules.loss import _Loss\n",
    "\n",
    "from torch_geometric.nn.conv import GATv2Conv\n",
    "from torch_geometric.typing import Adj, OptTensor\n",
    "from torch_geometric.utils import is_sparse, to_edge_index\n",
    "from torch_geometric.nn.models.lightgcn import BPRLoss\n",
    "\n",
    "\n",
    "class CollaborationRecommender(torch.nn.Module):\n",
    "    def __init__(self,\n",
    "                 num_nodes: int,\n",
    "                 input_channels: int,\n",
    "                 hidden_channels: int,\n",
    "                 k: int,\n",
    "                 alpha: Optional[Union[float, Tensor]] = None):\n",
    "        super().__init__()\n",
    "\n",
    "        self.num_nodes = num_nodes\n",
    "        self.hidden_channels = hidden_channels\n",
    "        self.k = k\n",
    "\n",
    "        # Initialize the convolutional layers\n",
    "        self.conv_layers = ModuleList([\n",
    "            GATv2Conv(in_channels=input_channels, out_channels=hidden_channels, add_self_loops=True,\n",
    "                      negative_slope=0.2),\n",
    "            GATv2Conv(in_channels=hidden_channels, out_channels=hidden_channels, add_self_loops=True,\n",
    "                      negative_slope=0.2),\n",
    "            GATv2Conv(in_channels=hidden_channels, out_channels=hidden_channels, add_self_loops=True,\n",
    "                      negative_slope=0.2),\n",
    "            GATv2Conv(in_channels=hidden_channels, out_channels=hidden_channels, add_self_loops=True,\n",
    "                      negative_slope=0.2),\n",
    "        ])\n",
    "\n",
    "        # Initialize batch norm layers\n",
    "        self.bn_layers = ModuleList([\n",
    "            torch.nn.BatchNorm1d(hidden_channels),\n",
    "            torch.nn.BatchNorm1d(hidden_channels),\n",
    "            torch.nn.BatchNorm1d(hidden_channels),\n",
    "            torch.nn.BatchNorm1d(hidden_channels),\n",
    "        ])\n",
    "\n",
    "        # Calculate the number of layers\n",
    "        self.num_layers = len(self.conv_layers)\n",
    "        # Initialize the alpha\n",
    "        alpha = 1. / (self.num_layers + 1)\n",
    "        alpha = torch.tensor([alpha] * (self.num_layers + 1))\n",
    "        self.register_buffer('alpha', alpha)\n",
    "\n",
    "        # Initialize the parameters\n",
    "        self.reset_parameters()\n",
    "\n",
    "    def reset_parameters(self):\n",
    "        # Initialize the convolutional layers\n",
    "        for conv in self.conv_layers:\n",
    "            conv.reset_parameters()\n",
    "\n",
    "    def get_embedding(self,\n",
    "                      x: Tensor,\n",
    "                      edge_index: Adj) -> Tensor:\n",
    "        # Activate first layer, since it is not of the same size as the target embedding\n",
    "        x = self.conv_layers[0](x, edge_index)\n",
    "        x = self.bn_layers[0](x)\n",
    "        # x = F.relu(x)\n",
    "        out = x * self.alpha[0]\n",
    "        print(self.alpha)\n",
    "\n",
    "        # Activate all other layers\n",
    "        for i in range(1, self.num_layers):\n",
    "            x = self.conv_layers[i](x, edge_index)\n",
    "            x = self.bn_layers[i](x)\n",
    "            # x = F.relu(x)\n",
    "            out = out + x * self.alpha[i + 1]\n",
    "\n",
    "        return out\n",
    "\n",
    "    def forward(self,\n",
    "                x: Tensor,\n",
    "                edge_index: Adj,\n",
    "                edge_label_index: OptTensor = None) -> Tensor:\n",
    "        # Get the embedding\n",
    "        out = self.get_embedding(x, edge_index)\n",
    "\n",
    "        out_src = out[edge_label_index[0]]\n",
    "        out_dst = out[edge_label_index[1]]\n",
    "\n",
    "        # Calculate the dot product\n",
    "        return (out_src * out_dst).sum(dim=-1)\n",
    "\n",
    "    def recommend(self,\n",
    "                  x: Tensor,\n",
    "                  edge_index: Adj,\n",
    "                  author_sid: str,\n",
    "                  k: int = 10) -> Tensor:\n",
    "\n",
    "        # Get all embeddings\n",
    "        out_src = out_dst = self.get_embedding(x, edge_index)\n",
    "\n",
    "        # Get the author id\n",
    "        author_id = author_id_map[author_sid]\n",
    "        # Get the author embedding\n",
    "        out_src = out_src[author_id]\n",
    "\n",
    "        # Calculate the dot product\n",
    "        pred = out_src @ out_dst.t()\n",
    "        # Get the top k recommendations\n",
    "        top_index = pred.topk(k, dim=-1, sorted=True).indices\n",
    "\n",
    "        # Decode top k recommendations to author SIDs\n",
    "        top_author_sids = [author_sid_map[int(i)] for i in top_index]\n",
    "\n",
    "        return top_author_sids\n",
    "\n",
    "    def recommendation_loss(self,\n",
    "                            x: Tensor,\n",
    "                            edge_index: Adj,\n",
    "                            pos_edge_rank: Tensor,\n",
    "                            neg_edge_rank: Tensor,\n",
    "                            node_id: Optional[Tensor] = None,\n",
    "                            lambda_reg: float = 1e-4) -> Tensor:\n",
    "        loss_fn = BPRLoss(lambda_reg)\n",
    "        # Get the embedding\n",
    "        emb = self.get_embedding(x=x, edge_index=edge_index)\n",
    "        emb = emb if node_id is None else emb[node_id]\n",
    "        return loss_fn(pos_edge_rank, neg_edge_rank, emb)\n",
    "\n",
    "    def __repr__(self) -> str:\n",
    "        return (f'{self.__class__.__name__}({self.num_nodes}, '\n",
    "                f'{self.hidden_channels}, num_layers={self.num_layers})')\n",
    "\n",
    "\n",
    "model = CollaborationRecommender(num_nodes=data.num_nodes,\n",
    "                                 input_channels=data.num_features,\n",
    "                                 hidden_channels=hidden_channels,\n",
    "                                 k=num_recommendations).to(device)\n",
    "\n",
    "# Transfer to device\n",
    "data = data.to(device)\n",
    "optimizer = torch.optim.Adam(params=model.parameters(), lr=learning_rate)\n",
    "scheduler = torch.optim.lr_scheduler.ReduceLROnPlateau(optimizer=optimizer, mode='min', factor=0.5, patience=10)"
   ]
  },
  {
   "cell_type": "markdown",
   "id": "2cXJ5OO10uxX",
   "metadata": {
    "id": "2cXJ5OO10uxX"
   },
   "source": [
    "### Training helpers"
   ]
  },
  {
   "cell_type": "code",
   "execution_count": 16,
   "id": "4qloRMMtY3um",
   "metadata": {
    "ExecuteTime": {
     "end_time": "2024-12-13T21:28:56.534523Z",
     "start_time": "2024-12-13T21:28:55.134636Z"
    },
    "id": "4qloRMMtY3um"
   },
   "outputs": [],
   "source": [
    "import pytest\n",
    "from torch_geometric.metrics.link_pred import LinkPredMetric\n",
    "\n",
    "\n",
    "class LinkPredHitRate(LinkPredMetric):\n",
    "    higher_is_better: bool = True\n",
    "\n",
    "    def _compute(self, pred_isin_mat: Tensor, y_count: Tensor) -> Tensor:\n",
    "        return pred_isin_mat.sum(dim=-1) >= 1\n",
    "\n",
    "\n",
    "def test_hit_rate():\n",
    "    pred_mat = torch.tensor([[1, 0], [1, 2], [0, 2], [0, 1]])\n",
    "    edge_label_index = torch.tensor([[0, 0, 2, 2, 3], [0, 1, 2, 1, 2]])\n",
    "\n",
    "    metric = LinkPredHitRate(k=2)\n",
    "    metric.update(pred_mat, edge_label_index)\n",
    "    result = metric.compute()\n",
    "\n",
    "    assert result == pytest.approx((2) / 3)\n",
    "\n",
    "\n",
    "test_hit_rate()\n",
    "\n",
    "\n",
    "def train():\n",
    "    model.train()\n",
    "\n",
    "    pos_edge_index = data.train_pos_edge_index\n",
    "    # Negative sampling\n",
    "    neg_edge_index_i, neg_edge_index_j, neg_edge_index_k = structured_negative_sampling(\n",
    "        edge_index=pos_edge_index,\n",
    "        num_nodes=data.num_nodes)\n",
    "    neg_edge_index = torch.stack([neg_edge_index_i, neg_edge_index_k], dim=0)\n",
    "\n",
    "    optimizer.zero_grad()\n",
    "\n",
    "    # Concatenate edge label indices into a single edge label index\n",
    "    edge_label_index = torch.cat([\n",
    "        pos_edge_index,\n",
    "        neg_edge_index,\n",
    "    ], dim=1)\n",
    "\n",
    "    pos_edge_rank, neg_edge_rank = model(x=data.x,\n",
    "                                         edge_index=data.train_pos_edge_index,\n",
    "                                         edge_label_index=edge_label_index).chunk(2)\n",
    "\n",
    "    # Calculate BPR loss\n",
    "    loss = model.recommendation_loss(x=data.x,\n",
    "                                     edge_index=data.train_pos_edge_index,\n",
    "                                     pos_edge_rank=pos_edge_rank,\n",
    "                                     neg_edge_rank=neg_edge_rank,\n",
    "                                     node_id=edge_label_index.unique())\n",
    "\n",
    "    loss.backward()\n",
    "    optimizer.step()\n",
    "\n",
    "    total_loss = float(loss) * pos_edge_rank.numel()\n",
    "    total_examples = pos_edge_rank.numel()\n",
    "\n",
    "    # Cleanup\n",
    "    del pos_edge_rank, neg_edge_rank\n",
    "    torch.cuda.empty_cache()\n",
    "\n",
    "    return total_loss / total_examples\n",
    "\n",
    "\n",
    "@torch.no_grad()\n",
    "def test():\n",
    "    model.eval()\n",
    "\n",
    "    pos_edge_index = data.test_pos_edge_index\n",
    "    neg_edge_index = data.test_neg_edge_index\n",
    "\n",
    "    edge_label_index = torch.cat([\n",
    "        pos_edge_index,\n",
    "        neg_edge_index,\n",
    "    ], dim=1)\n",
    "\n",
    "    # We encode the training edge index to get the embeddings based on the training graph\n",
    "    # structure and then use those embeddings to predict unseen edges\n",
    "    pos_edge_rank, neg_edge_rank = model(x=data.x,\n",
    "                                         edge_index=data.train_pos_edge_index,\n",
    "                                         edge_label_index=edge_label_index).chunk(2)\n",
    "\n",
    "    # Calculate BPR loss\n",
    "    loss = model.recommendation_loss(x=data.x,\n",
    "                                     edge_index=data.train_pos_edge_index,\n",
    "                                     pos_edge_rank=pos_edge_rank,\n",
    "                                     neg_edge_rank=neg_edge_rank,\n",
    "                                     node_id=edge_label_index.unique())\n",
    "\n",
    "    total_loss = float(loss) * pos_edge_rank.numel()\n",
    "    total_examples = pos_edge_rank.numel()\n",
    "\n",
    "    # Cleanup\n",
    "    del pos_edge_rank, neg_edge_rank\n",
    "    torch.cuda.empty_cache()\n",
    "\n",
    "    return total_loss / total_examples\n",
    "\n",
    "\n",
    "@torch.no_grad()\n",
    "def evaluate(k: int = 20):\n",
    "    model.eval()\n",
    "    embs = model.get_embedding(x=data.x, edge_index=data.train_pos_edge_index).to(device)\n",
    "\n",
    "    result = {\n",
    "        'precision@k': LinkPredPrecision(k=k).to(device),\n",
    "        'recall@k': LinkPredRecall(k=k).to(device),\n",
    "        'map@k': LinkPredMAP(k=k).to(device),\n",
    "        'mrr@k': LinkPredMRR(k=k).to(device),\n",
    "        'ndcg@k': LinkPredNDCG(k=k).to(device),\n",
    "        'hit_rate@k': LinkPredHitRate(k=k).to(device)\n",
    "    }\n",
    "\n",
    "    # Calculate distance between embeddings\n",
    "    logits = embs @ embs.T\n",
    "\n",
    "    # Exclude training edges\n",
    "    logits[data.train_pos_edge_index[0], data.train_pos_edge_index[1]] = float('-inf')\n",
    "\n",
    "    # Gather ground truth data\n",
    "    ground_truth = data.test_pos_edge_index\n",
    "\n",
    "    # Get top-k recommendations for each node\n",
    "    top_k_index = torch.topk(logits, k=k, dim=1).indices\n",
    "\n",
    "    # Update performance metrics\n",
    "    for metric in result.keys():\n",
    "        result[metric].update(\n",
    "            pred_index_mat=top_k_index,\n",
    "            edge_label_index=ground_truth)\n",
    "\n",
    "    # Cleanup\n",
    "    del embs, logits, ground_truth, top_k_index\n",
    "    torch.cuda.empty_cache()\n",
    "\n",
    "    return result"
   ]
  },
  {
   "cell_type": "markdown",
   "id": "9XkKmZJC06IZ",
   "metadata": {
    "id": "9XkKmZJC06IZ"
   },
   "source": [
    "### Training"
   ]
  },
  {
   "cell_type": "code",
   "execution_count": 17,
   "id": "379e5e3ea82af758",
   "metadata": {
    "ExecuteTime": {
     "end_time": "2024-12-13T21:30:55.180060Z",
     "start_time": "2024-12-13T21:30:52.430863Z"
    },
    "scrolled": true
   },
   "outputs": [
    {
     "ename": "ValueError",
     "evalue": "Expected 'edge_index' to be of integer type (got 'torch.float64')",
     "output_type": "error",
     "traceback": [
      "\u001b[1;31m---------------------------------------------------------------------------\u001b[0m",
      "\u001b[1;31mValueError\u001b[0m                                Traceback (most recent call last)",
      "Cell \u001b[1;32mIn[17], line 5\u001b[0m\n\u001b[0;32m      3\u001b[0m results \u001b[38;5;241m=\u001b[39m []\n\u001b[0;32m      4\u001b[0m \u001b[38;5;28;01mfor\u001b[39;00m epoch \u001b[38;5;129;01min\u001b[39;00m \u001b[38;5;28mrange\u001b[39m(\u001b[38;5;241m1\u001b[39m,  num_epochs):\n\u001b[1;32m----> 5\u001b[0m     train_loss \u001b[38;5;241m=\u001b[39m \u001b[43mtrain\u001b[49m\u001b[43m(\u001b[49m\u001b[43m)\u001b[49m\n\u001b[0;32m      6\u001b[0m     test_loss \u001b[38;5;241m=\u001b[39m test()\n\u001b[0;32m      7\u001b[0m     scheduler\u001b[38;5;241m.\u001b[39mstep(test_loss)\n",
      "Cell \u001b[1;32mIn[16], line 44\u001b[0m, in \u001b[0;36mtrain\u001b[1;34m()\u001b[0m\n\u001b[0;32m     38\u001b[0m \u001b[38;5;66;03m# Concatenate edge label indices into a single edge label index\u001b[39;00m\n\u001b[0;32m     39\u001b[0m edge_label_index \u001b[38;5;241m=\u001b[39m torch\u001b[38;5;241m.\u001b[39mcat([\n\u001b[0;32m     40\u001b[0m     pos_edge_index,\n\u001b[0;32m     41\u001b[0m     neg_edge_index,\n\u001b[0;32m     42\u001b[0m ], dim\u001b[38;5;241m=\u001b[39m\u001b[38;5;241m1\u001b[39m)\n\u001b[1;32m---> 44\u001b[0m pos_edge_rank, neg_edge_rank \u001b[38;5;241m=\u001b[39m \u001b[43mmodel\u001b[49m\u001b[43m(\u001b[49m\u001b[43mx\u001b[49m\u001b[38;5;241;43m=\u001b[39;49m\u001b[43mdata\u001b[49m\u001b[38;5;241;43m.\u001b[39;49m\u001b[43mx\u001b[49m\u001b[43m,\u001b[49m\n\u001b[0;32m     45\u001b[0m \u001b[43m                                     \u001b[49m\u001b[43medge_index\u001b[49m\u001b[38;5;241;43m=\u001b[39;49m\u001b[43mdata\u001b[49m\u001b[38;5;241;43m.\u001b[39;49m\u001b[43mtrain_pos_edge_index\u001b[49m\u001b[43m,\u001b[49m\n\u001b[0;32m     46\u001b[0m \u001b[43m                                     \u001b[49m\u001b[43medge_label_index\u001b[49m\u001b[38;5;241;43m=\u001b[39;49m\u001b[43medge_label_index\u001b[49m\u001b[43m)\u001b[49m\u001b[38;5;241m.\u001b[39mchunk(\u001b[38;5;241m2\u001b[39m)\n\u001b[0;32m     48\u001b[0m \u001b[38;5;66;03m# Calculate BPR loss\u001b[39;00m\n\u001b[0;32m     49\u001b[0m loss \u001b[38;5;241m=\u001b[39m model\u001b[38;5;241m.\u001b[39mrecommendation_loss(x\u001b[38;5;241m=\u001b[39mdata\u001b[38;5;241m.\u001b[39mx,\n\u001b[0;32m     50\u001b[0m                                  edge_index\u001b[38;5;241m=\u001b[39mdata\u001b[38;5;241m.\u001b[39mtrain_pos_edge_index,\n\u001b[0;32m     51\u001b[0m                                  pos_edge_rank\u001b[38;5;241m=\u001b[39mpos_edge_rank,\n\u001b[0;32m     52\u001b[0m                                  neg_edge_rank\u001b[38;5;241m=\u001b[39mneg_edge_rank,\n\u001b[0;32m     53\u001b[0m                                  node_id\u001b[38;5;241m=\u001b[39medge_label_index\u001b[38;5;241m.\u001b[39munique())\n",
      "File \u001b[1;32mC:\\Development\\eutopia-collaboration-recommender\\ecr-recommender\\venv\\lib\\site-packages\\torch\\nn\\modules\\module.py:1553\u001b[0m, in \u001b[0;36mModule._wrapped_call_impl\u001b[1;34m(self, *args, **kwargs)\u001b[0m\n\u001b[0;32m   1551\u001b[0m     \u001b[38;5;28;01mreturn\u001b[39;00m \u001b[38;5;28mself\u001b[39m\u001b[38;5;241m.\u001b[39m_compiled_call_impl(\u001b[38;5;241m*\u001b[39margs, \u001b[38;5;241m*\u001b[39m\u001b[38;5;241m*\u001b[39mkwargs)  \u001b[38;5;66;03m# type: ignore[misc]\u001b[39;00m\n\u001b[0;32m   1552\u001b[0m \u001b[38;5;28;01melse\u001b[39;00m:\n\u001b[1;32m-> 1553\u001b[0m     \u001b[38;5;28;01mreturn\u001b[39;00m \u001b[38;5;28mself\u001b[39m\u001b[38;5;241m.\u001b[39m_call_impl(\u001b[38;5;241m*\u001b[39margs, \u001b[38;5;241m*\u001b[39m\u001b[38;5;241m*\u001b[39mkwargs)\n",
      "File \u001b[1;32mC:\\Development\\eutopia-collaboration-recommender\\ecr-recommender\\venv\\lib\\site-packages\\torch\\nn\\modules\\module.py:1562\u001b[0m, in \u001b[0;36mModule._call_impl\u001b[1;34m(self, *args, **kwargs)\u001b[0m\n\u001b[0;32m   1557\u001b[0m \u001b[38;5;66;03m# If we don't have any hooks, we want to skip the rest of the logic in\u001b[39;00m\n\u001b[0;32m   1558\u001b[0m \u001b[38;5;66;03m# this function, and just call forward.\u001b[39;00m\n\u001b[0;32m   1559\u001b[0m \u001b[38;5;28;01mif\u001b[39;00m \u001b[38;5;129;01mnot\u001b[39;00m (\u001b[38;5;28mself\u001b[39m\u001b[38;5;241m.\u001b[39m_backward_hooks \u001b[38;5;129;01mor\u001b[39;00m \u001b[38;5;28mself\u001b[39m\u001b[38;5;241m.\u001b[39m_backward_pre_hooks \u001b[38;5;129;01mor\u001b[39;00m \u001b[38;5;28mself\u001b[39m\u001b[38;5;241m.\u001b[39m_forward_hooks \u001b[38;5;129;01mor\u001b[39;00m \u001b[38;5;28mself\u001b[39m\u001b[38;5;241m.\u001b[39m_forward_pre_hooks\n\u001b[0;32m   1560\u001b[0m         \u001b[38;5;129;01mor\u001b[39;00m _global_backward_pre_hooks \u001b[38;5;129;01mor\u001b[39;00m _global_backward_hooks\n\u001b[0;32m   1561\u001b[0m         \u001b[38;5;129;01mor\u001b[39;00m _global_forward_hooks \u001b[38;5;129;01mor\u001b[39;00m _global_forward_pre_hooks):\n\u001b[1;32m-> 1562\u001b[0m     \u001b[38;5;28;01mreturn\u001b[39;00m forward_call(\u001b[38;5;241m*\u001b[39margs, \u001b[38;5;241m*\u001b[39m\u001b[38;5;241m*\u001b[39mkwargs)\n\u001b[0;32m   1564\u001b[0m \u001b[38;5;28;01mtry\u001b[39;00m:\n\u001b[0;32m   1565\u001b[0m     result \u001b[38;5;241m=\u001b[39m \u001b[38;5;28;01mNone\u001b[39;00m\n",
      "Cell \u001b[1;32mIn[15], line 87\u001b[0m, in \u001b[0;36mCollaborationRecommender.forward\u001b[1;34m(self, x, edge_index, edge_label_index)\u001b[0m\n\u001b[0;32m     82\u001b[0m \u001b[38;5;28;01mdef\u001b[39;00m \u001b[38;5;21mforward\u001b[39m(\u001b[38;5;28mself\u001b[39m,\n\u001b[0;32m     83\u001b[0m             x: Tensor,\n\u001b[0;32m     84\u001b[0m             edge_index: Adj,\n\u001b[0;32m     85\u001b[0m             edge_label_index: OptTensor \u001b[38;5;241m=\u001b[39m \u001b[38;5;28;01mNone\u001b[39;00m) \u001b[38;5;241m-\u001b[39m\u001b[38;5;241m>\u001b[39m Tensor:\n\u001b[0;32m     86\u001b[0m     \u001b[38;5;66;03m# Get the embedding\u001b[39;00m\n\u001b[1;32m---> 87\u001b[0m     out \u001b[38;5;241m=\u001b[39m \u001b[38;5;28;43mself\u001b[39;49m\u001b[38;5;241;43m.\u001b[39;49m\u001b[43mget_embedding\u001b[49m\u001b[43m(\u001b[49m\u001b[43mx\u001b[49m\u001b[43m,\u001b[49m\u001b[43m \u001b[49m\u001b[43medge_index\u001b[49m\u001b[43m)\u001b[49m\n\u001b[0;32m     89\u001b[0m     out_src \u001b[38;5;241m=\u001b[39m out[edge_label_index[\u001b[38;5;241m0\u001b[39m]]\n\u001b[0;32m     90\u001b[0m     out_dst \u001b[38;5;241m=\u001b[39m out[edge_label_index[\u001b[38;5;241m1\u001b[39m]]\n",
      "Cell \u001b[1;32mIn[15], line 67\u001b[0m, in \u001b[0;36mCollaborationRecommender.get_embedding\u001b[1;34m(self, x, edge_index)\u001b[0m\n\u001b[0;32m     63\u001b[0m \u001b[38;5;28;01mdef\u001b[39;00m \u001b[38;5;21mget_embedding\u001b[39m(\u001b[38;5;28mself\u001b[39m,\n\u001b[0;32m     64\u001b[0m                   x: Tensor,\n\u001b[0;32m     65\u001b[0m                   edge_index: Adj) \u001b[38;5;241m-\u001b[39m\u001b[38;5;241m>\u001b[39m Tensor:\n\u001b[0;32m     66\u001b[0m     \u001b[38;5;66;03m# Activate first layer, since it is not of the same size as the target embedding\u001b[39;00m\n\u001b[1;32m---> 67\u001b[0m     x \u001b[38;5;241m=\u001b[39m \u001b[38;5;28;43mself\u001b[39;49m\u001b[38;5;241;43m.\u001b[39;49m\u001b[43mconv_layers\u001b[49m\u001b[43m[\u001b[49m\u001b[38;5;241;43m0\u001b[39;49m\u001b[43m]\u001b[49m\u001b[43m(\u001b[49m\u001b[43mx\u001b[49m\u001b[43m,\u001b[49m\u001b[43m \u001b[49m\u001b[43medge_index\u001b[49m\u001b[43m)\u001b[49m\n\u001b[0;32m     68\u001b[0m     x \u001b[38;5;241m=\u001b[39m \u001b[38;5;28mself\u001b[39m\u001b[38;5;241m.\u001b[39mbn_layers[\u001b[38;5;241m0\u001b[39m](x)\n\u001b[0;32m     69\u001b[0m     \u001b[38;5;66;03m# x = F.relu(x)\u001b[39;00m\n",
      "File \u001b[1;32mC:\\Development\\eutopia-collaboration-recommender\\ecr-recommender\\venv\\lib\\site-packages\\torch\\nn\\modules\\module.py:1553\u001b[0m, in \u001b[0;36mModule._wrapped_call_impl\u001b[1;34m(self, *args, **kwargs)\u001b[0m\n\u001b[0;32m   1551\u001b[0m     \u001b[38;5;28;01mreturn\u001b[39;00m \u001b[38;5;28mself\u001b[39m\u001b[38;5;241m.\u001b[39m_compiled_call_impl(\u001b[38;5;241m*\u001b[39margs, \u001b[38;5;241m*\u001b[39m\u001b[38;5;241m*\u001b[39mkwargs)  \u001b[38;5;66;03m# type: ignore[misc]\u001b[39;00m\n\u001b[0;32m   1552\u001b[0m \u001b[38;5;28;01melse\u001b[39;00m:\n\u001b[1;32m-> 1553\u001b[0m     \u001b[38;5;28;01mreturn\u001b[39;00m \u001b[38;5;28mself\u001b[39m\u001b[38;5;241m.\u001b[39m_call_impl(\u001b[38;5;241m*\u001b[39margs, \u001b[38;5;241m*\u001b[39m\u001b[38;5;241m*\u001b[39mkwargs)\n",
      "File \u001b[1;32mC:\\Development\\eutopia-collaboration-recommender\\ecr-recommender\\venv\\lib\\site-packages\\torch\\nn\\modules\\module.py:1562\u001b[0m, in \u001b[0;36mModule._call_impl\u001b[1;34m(self, *args, **kwargs)\u001b[0m\n\u001b[0;32m   1557\u001b[0m \u001b[38;5;66;03m# If we don't have any hooks, we want to skip the rest of the logic in\u001b[39;00m\n\u001b[0;32m   1558\u001b[0m \u001b[38;5;66;03m# this function, and just call forward.\u001b[39;00m\n\u001b[0;32m   1559\u001b[0m \u001b[38;5;28;01mif\u001b[39;00m \u001b[38;5;129;01mnot\u001b[39;00m (\u001b[38;5;28mself\u001b[39m\u001b[38;5;241m.\u001b[39m_backward_hooks \u001b[38;5;129;01mor\u001b[39;00m \u001b[38;5;28mself\u001b[39m\u001b[38;5;241m.\u001b[39m_backward_pre_hooks \u001b[38;5;129;01mor\u001b[39;00m \u001b[38;5;28mself\u001b[39m\u001b[38;5;241m.\u001b[39m_forward_hooks \u001b[38;5;129;01mor\u001b[39;00m \u001b[38;5;28mself\u001b[39m\u001b[38;5;241m.\u001b[39m_forward_pre_hooks\n\u001b[0;32m   1560\u001b[0m         \u001b[38;5;129;01mor\u001b[39;00m _global_backward_pre_hooks \u001b[38;5;129;01mor\u001b[39;00m _global_backward_hooks\n\u001b[0;32m   1561\u001b[0m         \u001b[38;5;129;01mor\u001b[39;00m _global_forward_hooks \u001b[38;5;129;01mor\u001b[39;00m _global_forward_pre_hooks):\n\u001b[1;32m-> 1562\u001b[0m     \u001b[38;5;28;01mreturn\u001b[39;00m forward_call(\u001b[38;5;241m*\u001b[39margs, \u001b[38;5;241m*\u001b[39m\u001b[38;5;241m*\u001b[39mkwargs)\n\u001b[0;32m   1564\u001b[0m \u001b[38;5;28;01mtry\u001b[39;00m:\n\u001b[0;32m   1565\u001b[0m     result \u001b[38;5;241m=\u001b[39m \u001b[38;5;28;01mNone\u001b[39;00m\n",
      "File \u001b[1;32mC:\\Development\\eutopia-collaboration-recommender\\ecr-recommender\\venv\\lib\\site-packages\\torch_geometric\\nn\\conv\\gatv2_conv.py:325\u001b[0m, in \u001b[0;36mGATv2Conv.forward\u001b[1;34m(self, x, edge_index, edge_attr, return_attention_weights)\u001b[0m\n\u001b[0;32m    319\u001b[0m             \u001b[38;5;28;01mraise\u001b[39;00m \u001b[38;5;167;01mNotImplementedError\u001b[39;00m(\n\u001b[0;32m    320\u001b[0m                 \u001b[38;5;124m\"\u001b[39m\u001b[38;5;124mThe usage of \u001b[39m\u001b[38;5;124m'\u001b[39m\u001b[38;5;124medge_attr\u001b[39m\u001b[38;5;124m'\u001b[39m\u001b[38;5;124m and \u001b[39m\u001b[38;5;124m'\u001b[39m\u001b[38;5;124madd_self_loops\u001b[39m\u001b[38;5;124m'\u001b[39m\u001b[38;5;124m \u001b[39m\u001b[38;5;124m\"\u001b[39m\n\u001b[0;32m    321\u001b[0m                 \u001b[38;5;124m\"\u001b[39m\u001b[38;5;124msimultaneously is currently not yet supported for \u001b[39m\u001b[38;5;124m\"\u001b[39m\n\u001b[0;32m    322\u001b[0m                 \u001b[38;5;124m\"\u001b[39m\u001b[38;5;124m'\u001b[39m\u001b[38;5;124medge_index\u001b[39m\u001b[38;5;124m'\u001b[39m\u001b[38;5;124m in a \u001b[39m\u001b[38;5;124m'\u001b[39m\u001b[38;5;124mSparseTensor\u001b[39m\u001b[38;5;124m'\u001b[39m\u001b[38;5;124m form\u001b[39m\u001b[38;5;124m\"\u001b[39m)\n\u001b[0;32m    324\u001b[0m \u001b[38;5;66;03m# edge_updater_type: (x: PairTensor, edge_attr: OptTensor)\u001b[39;00m\n\u001b[1;32m--> 325\u001b[0m alpha \u001b[38;5;241m=\u001b[39m \u001b[38;5;28;43mself\u001b[39;49m\u001b[38;5;241;43m.\u001b[39;49m\u001b[43medge_updater\u001b[49m\u001b[43m(\u001b[49m\u001b[43medge_index\u001b[49m\u001b[43m,\u001b[49m\u001b[43m \u001b[49m\u001b[43mx\u001b[49m\u001b[38;5;241;43m=\u001b[39;49m\u001b[43m(\u001b[49m\u001b[43mx_l\u001b[49m\u001b[43m,\u001b[49m\u001b[43m \u001b[49m\u001b[43mx_r\u001b[49m\u001b[43m)\u001b[49m\u001b[43m,\u001b[49m\n\u001b[0;32m    326\u001b[0m \u001b[43m                          \u001b[49m\u001b[43medge_attr\u001b[49m\u001b[38;5;241;43m=\u001b[39;49m\u001b[43medge_attr\u001b[49m\u001b[43m)\u001b[49m\n\u001b[0;32m    328\u001b[0m \u001b[38;5;66;03m# propagate_type: (x: PairTensor, alpha: Tensor)\u001b[39;00m\n\u001b[0;32m    329\u001b[0m out \u001b[38;5;241m=\u001b[39m \u001b[38;5;28mself\u001b[39m\u001b[38;5;241m.\u001b[39mpropagate(edge_index, x\u001b[38;5;241m=\u001b[39m(x_l, x_r), alpha\u001b[38;5;241m=\u001b[39malpha)\n",
      "File \u001b[1;32mC:\\Users\\LUKAON~1\\AppData\\Local\\Temp\\torch_geometric.nn.conv.gatv2_conv_GATv2Conv_edge_updater_jpl1nqgo.py:143\u001b[0m, in \u001b[0;36medge_updater\u001b[1;34m(self, edge_index, x, edge_attr, size)\u001b[0m\n\u001b[0;32m    135\u001b[0m \u001b[38;5;28;01mdef\u001b[39;00m \u001b[38;5;21medge_updater\u001b[39m(\n\u001b[0;32m    136\u001b[0m     \u001b[38;5;28mself\u001b[39m,\n\u001b[0;32m    137\u001b[0m     edge_index: Union[Tensor, SparseTensor],\n\u001b[1;32m   (...)\u001b[0m\n\u001b[0;32m    140\u001b[0m     size: Size \u001b[38;5;241m=\u001b[39m \u001b[38;5;28;01mNone\u001b[39;00m,\n\u001b[0;32m    141\u001b[0m ) \u001b[38;5;241m-\u001b[39m\u001b[38;5;241m>\u001b[39m Tensor:\n\u001b[1;32m--> 143\u001b[0m     mutable_size \u001b[38;5;241m=\u001b[39m \u001b[38;5;28;43mself\u001b[39;49m\u001b[38;5;241;43m.\u001b[39;49m\u001b[43m_check_input\u001b[49m\u001b[43m(\u001b[49m\u001b[43medge_index\u001b[49m\u001b[43m,\u001b[49m\u001b[43m \u001b[49m\u001b[43msize\u001b[49m\u001b[43m)\u001b[49m\n\u001b[0;32m    145\u001b[0m     kwargs \u001b[38;5;241m=\u001b[39m \u001b[38;5;28mself\u001b[39m\u001b[38;5;241m.\u001b[39medge_collect(\n\u001b[0;32m    146\u001b[0m         edge_index,\n\u001b[0;32m    147\u001b[0m         x,\n\u001b[0;32m    148\u001b[0m         edge_attr,\n\u001b[0;32m    149\u001b[0m         mutable_size,\n\u001b[0;32m    150\u001b[0m     )\n\u001b[0;32m    152\u001b[0m     \u001b[38;5;66;03m# Begin Edge Update Forward Pre Hook #######################################\u001b[39;00m\n",
      "File \u001b[1;32mC:\\Development\\eutopia-collaboration-recommender\\ecr-recommender\\venv\\lib\\site-packages\\torch_geometric\\nn\\conv\\message_passing.py:232\u001b[0m, in \u001b[0;36mMessagePassing._check_input\u001b[1;34m(self, edge_index, size)\u001b[0m\n\u001b[0;32m    228\u001b[0m int_dtypes \u001b[38;5;241m=\u001b[39m (torch\u001b[38;5;241m.\u001b[39muint8, torch\u001b[38;5;241m.\u001b[39mint8, torch\u001b[38;5;241m.\u001b[39mint16, torch\u001b[38;5;241m.\u001b[39mint32,\n\u001b[0;32m    229\u001b[0m               torch\u001b[38;5;241m.\u001b[39mint64)\n\u001b[0;32m    231\u001b[0m \u001b[38;5;28;01mif\u001b[39;00m edge_index\u001b[38;5;241m.\u001b[39mdtype \u001b[38;5;129;01mnot\u001b[39;00m \u001b[38;5;129;01min\u001b[39;00m int_dtypes:\n\u001b[1;32m--> 232\u001b[0m     \u001b[38;5;28;01mraise\u001b[39;00m \u001b[38;5;167;01mValueError\u001b[39;00m(\u001b[38;5;124mf\u001b[39m\u001b[38;5;124m\"\u001b[39m\u001b[38;5;124mExpected \u001b[39m\u001b[38;5;124m'\u001b[39m\u001b[38;5;124medge_index\u001b[39m\u001b[38;5;124m'\u001b[39m\u001b[38;5;124m to be of integer \u001b[39m\u001b[38;5;124m\"\u001b[39m\n\u001b[0;32m    233\u001b[0m                      \u001b[38;5;124mf\u001b[39m\u001b[38;5;124m\"\u001b[39m\u001b[38;5;124mtype (got \u001b[39m\u001b[38;5;124m'\u001b[39m\u001b[38;5;132;01m{\u001b[39;00medge_index\u001b[38;5;241m.\u001b[39mdtype\u001b[38;5;132;01m}\u001b[39;00m\u001b[38;5;124m'\u001b[39m\u001b[38;5;124m)\u001b[39m\u001b[38;5;124m\"\u001b[39m)\n\u001b[0;32m    234\u001b[0m \u001b[38;5;28;01mif\u001b[39;00m edge_index\u001b[38;5;241m.\u001b[39mdim() \u001b[38;5;241m!=\u001b[39m \u001b[38;5;241m2\u001b[39m:\n\u001b[0;32m    235\u001b[0m     \u001b[38;5;28;01mraise\u001b[39;00m \u001b[38;5;167;01mValueError\u001b[39;00m(\u001b[38;5;124mf\u001b[39m\u001b[38;5;124m\"\u001b[39m\u001b[38;5;124mExpected \u001b[39m\u001b[38;5;124m'\u001b[39m\u001b[38;5;124medge_index\u001b[39m\u001b[38;5;124m'\u001b[39m\u001b[38;5;124m to be two-dimensional\u001b[39m\u001b[38;5;124m\"\u001b[39m\n\u001b[0;32m    236\u001b[0m                      \u001b[38;5;124mf\u001b[39m\u001b[38;5;124m\"\u001b[39m\u001b[38;5;124m (got \u001b[39m\u001b[38;5;132;01m{\u001b[39;00medge_index\u001b[38;5;241m.\u001b[39mdim()\u001b[38;5;132;01m}\u001b[39;00m\u001b[38;5;124m dimensions)\u001b[39m\u001b[38;5;124m\"\u001b[39m)\n",
      "\u001b[1;31mValueError\u001b[0m: Expected 'edge_index' to be of integer type (got 'torch.float64')"
     ]
    }
   ],
   "source": [
    "import pandas as pd\n",
    "\n",
    "results = []\n",
    "for epoch in range(1,  num_epochs):\n",
    "    train_loss = train()\n",
    "    test_loss = test()\n",
    "    scheduler.step(test_loss)\n",
    "    eval_result = evaluate(k=num_recommendations)\n",
    "\n",
    "    # Save results\n",
    "    epoch_result = {\n",
    "        'epoch': epoch  ,\n",
    "        'train_loss_bpr': train_loss,\n",
    "        'test_loss_bpr': test_loss,\n",
    "        'precision@k': eval_result['precision@k'].compute(),\n",
    "        'recall@k': eval_result['recall@k'].compute(),\n",
    "        'map@k': eval_result['map@k'].compute(),\n",
    "        'mrr@k': eval_result['mrr@k'].compute(),\n",
    "        'ndcg@k': eval_result['ndcg@k'].compute(),\n",
    "        'hit_rate@k': eval_result['hit_rate@k'].compute()\n",
    "    }\n",
    "    results.append(epoch_result)\n",
    "\n",
    "    # Log results\n",
    "    if epoch % 20 == 0:\n",
    "        # Log model performance\n",
    "        formatted_str = ', '.join([f'{key}: {epoch_result[key]:.4f}' for key in epoch_result.keys()])\n",
    "        print(formatted_str)\n",
    "\n",
    "\n",
    "results = pd.DataFrame(results)"
   ]
  },
  {
   "cell_type": "code",
   "execution_count": 1,
   "id": "d1cfb6e6-767b-4ba2-804a-c0f24c88969e",
   "metadata": {},
   "outputs": [
    {
     "ename": "NameError",
     "evalue": "name 'data' is not defined",
     "output_type": "error",
     "traceback": [
      "\u001b[0;31m---------------------------------------------------------------------------\u001b[0m",
      "\u001b[0;31mNameError\u001b[0m                                 Traceback (most recent call last)",
      "Cell \u001b[0;32mIn[1], line 1\u001b[0m\n\u001b[0;32m----> 1\u001b[0m \u001b[43mdata\u001b[49m[model_config[\u001b[38;5;124m'\u001b[39m\u001b[38;5;124mtarget_edge_type\u001b[39m\u001b[38;5;124m'\u001b[39m]]\u001b[38;5;241m.\u001b[39mtrain_edge_index\n",
      "\u001b[0;31mNameError\u001b[0m: name 'data' is not defined"
     ]
    }
   ],
   "source": [
    "data[model_config['target_edge_type']].train_edge_index"
   ]
  },
  {
   "cell_type": "markdown",
   "id": "CIzjEI3R-eY-",
   "metadata": {
    "id": "CIzjEI3R-eY-"
   },
   "source": [
    "### Model evaluation"
   ]
  },
  {
   "cell_type": "code",
   "execution_count": null,
   "id": "JHmrYAoF-dWh",
   "metadata": {
    "colab": {
     "base_uri": "https://localhost:8080/",
     "height": 472
    },
    "id": "JHmrYAoF-dWh",
    "outputId": "51b44a7b-4d40-4c23-8009-d3af553ed2e9"
   },
   "outputs": [
    {
     "data": {
      "image/png": "[encoded data removed]",
      "text/plain": [
       "<Figure size 640x480 with 1 Axes>"
      ]
     },
     "metadata": {},
     "output_type": "display_data"
    }
   ],
   "source": [
    "# Generate loss curve\n",
    "plt.plot(results['epoch'], results['train_loss_bpr'], label='train')\n",
    "plt.plot(results['epoch'], results['test_loss_bpr'], label='test')\n",
    "plt.xlabel('Epoch')\n",
    "plt.ylabel('Loss')\n",
    "plt.title('Loss Curve')\n",
    "plt.show()"
   ]
  },
  {
   "cell_type": "code",
   "execution_count": null,
   "id": "RwsZRSb828Ua",
   "metadata": {
    "colab": {
     "base_uri": "https://localhost:8080/",
     "height": 472
    },
    "id": "RwsZRSb828Ua",
    "outputId": "57cc0fe4-2411-44ed-cfc2-f41e6c682819"
   },
   "outputs": [
    {
     "data": {
      "image/png": "[encoded data removed]",
      "text/plain": [
       "<Figure size 640x480 with 1 Axes>"
      ]
     },
     "metadata": {},
     "output_type": "display_data"
    }
   ],
   "source": [
    "# Generate evaluation metrics plot\n",
    "plt.plot(results['epoch'], results['precision@k'], label='precision@k')\n",
    "plt.plot(results['epoch'], results['recall@k'], label='recall@k')\n",
    "plt.plot(results['epoch'], results['map@k'], label='map@k')\n",
    "plt.plot(results['epoch'], results['mrr@k'], label='mrr@k')\n",
    "plt.plot(results['epoch'], results['ndcg@k'], label='ndcg@k')\n",
    "plt.plot(results['epoch'], results['hit_rate@k'], label='hit_rate@k')\n",
    "plt.xlabel('Epoch')\n",
    "plt.ylabel('Performance')\n",
    "plt.title('Evaluation metrics')\n",
    "plt.legend()\n",
    "plt.show()"
   ]
  },
  {
   "cell_type": "code",
   "execution_count": null,
   "id": "QrRBTsA5vAs1",
   "metadata": {
    "colab": {
     "base_uri": "https://localhost:8080/"
    },
    "id": "QrRBTsA5vAs1",
    "outputId": "afffeb4f-f62c-4c48-cf69-c7cb5eb06f55"
   },
   "outputs": [
    {
     "data": {
      "text/plain": [
       "['920d813d1a50aa3585ee5e93ac420495',\n",
       " 'a7319d2d988e523309c413b99bc74152',\n",
       " 'e33b9ef60c86c57d5e2d0fff88c6aa2f',\n",
       " 'd4614d4cc835e57af45f1996e2bd43b8',\n",
       " '56df1e8e02c012db4fbb480559c7f466',\n",
       " '56232105b46ba375b2f668a3dc9f935d',\n",
       " '46666f4f61a22789127054dfa10c541c',\n",
       " 'cd8aba00c371592169bda05c8c74661e',\n",
       " 'cf80a8ebc48308b53a9569c37290a048',\n",
       " 'faa0b3dd567d4b98f5953d4f1632e92e']"
      ]
     },
     "execution_count": 19,
     "metadata": {},
     "output_type": "execute_result"
    }
   ],
   "source": [
    "author_sid = '170c9492a9a50fb8a99c45b8cbbf6f55'\n",
    "\n",
    "model.recommend(x=data.x,\n",
    "                edge_index=data.train_pos_edge_index,\n",
    "                author_sid=author_sid,\n",
    "                k=num_recommendations)"
   ]
  }
 ],
 "metadata": {
  "colab": {
   "collapsed_sections": [
    "ISUVX4hvFMKM",
    "aZQQpLqCFeGK",
    "2cXJ5OO10uxX"
   ],
   "name": "Collaboration Recommender 1.0 (Homogeneous).ipynb",
   "provenance": []
  },
  "kernelspec": {
   "display_name": "Python 3 (ipykernel)",
   "language": "python",
   "name": "python3"
  },
  "language_info": {
   "codemirror_mode": {
    "name": "ipython",
    "version": 3
   },
   "file_extension": ".py",
   "mimetype": "text/x-python",
   "name": "python",
   "nbconvert_exporter": "python",
   "pygments_lexer": "ipython3",
   "version": "3.12.3"
  }
 },
 "nbformat": 4,
 "nbformat_minor": 5
}
