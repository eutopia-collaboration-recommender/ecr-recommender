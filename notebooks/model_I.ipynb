{
 "cells": [
  {
   "cell_type": "markdown",
   "id": "zYPnKxIhFGVJ",
   "metadata": {
    "id": "zYPnKxIhFGVJ"
   },
   "source": [
    "# Model I\n",
    "\n",
    "This is a script showing results of **model I** in the ablation studies. The model is built using the following configuration:\n",
    "\n",
    "- **Backbone:** GATv2\n",
    "- **Graph type:** Homogeneous\n",
    "- **Loss function:** Bayesian personalized ranking\n",
    "- **Embeddings used:** periodical average\n",
    "- **Keyword popularity used:** No\n",
    "\n",
    "*This model upgrades the state-of-the-art graph neural network methodology with novel graph transformer approach.*"
   ]
  },
  {
   "cell_type": "markdown",
   "id": "x7McZwR_FRta",
   "metadata": {
    "id": "x7McZwR_FRta"
   },
   "source": [
    "## **Setting up environment**\n",
    "\n",
    "---\n",
    "\n"
   ]
  },
  {
   "cell_type": "markdown",
   "id": "cD8tnTfC60X2",
   "metadata": {
    "id": "cD8tnTfC60X2"
   },
   "source": [
    "### Loading libraries"
   ]
  },
  {
   "cell_type": "code",
   "execution_count": 1,
   "id": "5okfWmvKEI3Z",
   "metadata": {
    "ExecuteTime": {
     "end_time": "2024-12-13T17:47:50.264742Z",
     "start_time": "2024-12-13T17:47:50.256254Z"
    },
    "id": "5okfWmvKEI3Z"
   },
   "outputs": [],
   "source": [
    "import os\n",
    "import sys\n",
    "\n",
    "sys.path.insert(0, os.path.abspath(\"..\"))\n",
    "\n",
    "import torch\n",
    "import pickle\n",
    "import pandas as pd\n",
    "import seaborn as sns\n",
    "import matplotlib.pyplot as plt\n",
    "\n",
    "from typing import Optional\n",
    "\n",
    "from torch import Tensor\n",
    "from torch.nn import ModuleList\n",
    "from torch.optim import Optimizer\n",
    "from torch_geometric.typing import Adj, OptTensor\n",
    "from torch_geometric.nn.conv import TransformerConv\n",
    "from torch.optim.lr_scheduler import LRScheduler\n",
    "\n",
    "from util.torch_geometric import get_results\n",
    "from util.homogeneous.dataset import DatasetEuCoHM\n",
    "from util.homogeneous.model import ModelEuCoHM\n",
    "from util.homogeneous.train import (\n",
    "    train,\n",
    "    test,\n",
    "    evaluate\n",
    ")"
   ]
  },
  {
   "cell_type": "markdown",
   "id": "bQ_xqBiFn97Q",
   "metadata": {
    "id": "bQ_xqBiFn97Q"
   },
   "source": [
    "### Global variables"
   ]
  },
  {
   "cell_type": "code",
   "execution_count": 2,
   "id": "9r1K6ezsn97Q",
   "metadata": {
    "ExecuteTime": {
     "end_time": "2024-12-13T21:23:20.128019Z",
     "start_time": "2024-12-13T21:23:20.037264Z"
    },
    "id": "9r1K6ezsn97Q"
   },
   "outputs": [],
   "source": [
    "# Model name\n",
    "model_name = 'I'\n",
    "# Dataset save filepath\n",
    "dataset_save_filepath = '../data/dataset_homogeneous_periodical_decay.pkl'\n",
    "# Device name\n",
    "device = 'cpu'\n",
    "\n",
    "# Model configuration\n",
    "model_config = dict(\n",
    "    hidden_channels=128,\n",
    "    learning_rate=1e-3,\n",
    "    num_layers=4,\n",
    "    num_epochs=50,\n",
    "    num_recommendations=10\n",
    ")\n",
    "# Set seaborn theme\n",
    "sns.set_theme(style=\"whitegrid\", palette=\"pastel\")"
   ]
  },
  {
   "cell_type": "markdown",
   "id": "ISUVX4hvFMKM",
   "metadata": {
    "id": "ISUVX4hvFMKM"
   },
   "source": [
    "## Loading dataset\n",
    "\n",
    "---\n"
   ]
  },
  {
   "cell_type": "code",
   "execution_count": 3,
   "id": "3b608e9d-243a-46aa-a261-7ae3464093db",
   "metadata": {},
   "outputs": [
    {
     "name": "stderr",
     "output_type": "stream",
     "text": [
      "/home/eucollab/eutopia-colllaboration/ecr-recommender/.venv/lib/python3.12/site-packages/torch/storage.py:414: FutureWarning: You are using `torch.load` with `weights_only=False` (the current default value), which uses the default pickle module implicitly. It is possible to construct malicious pickle data which will execute arbitrary code during unpickling (See https://github.com/pytorch/pytorch/blob/main/SECURITY.md#untrusted-models for more details). In a future release, the default value for `weights_only` will be flipped to `True`. This limits the functions that could be executed during unpickling. Arbitrary objects will no longer be allowed to be loaded via this mode unless they are explicitly allowlisted by the user via `torch.serialization.add_safe_globals`. We recommend you start setting `weights_only=True` for any use case where you don't have full control of the loaded file. Please open an issue on GitHub for any issues related to this experimental feature.\n",
      "  return torch.load(io.BytesIO(b))\n"
     ]
    }
   ],
   "source": [
    "# Add the object as a safe global to shut down warning\n",
    "torch.serialization.add_safe_globals([DatasetEuCoHM])\n",
    "# Open the dataset file and save it to variable\n",
    "with open(dataset_save_filepath, 'rb') as file:\n",
    "    dataset: DatasetEuCoHM = pickle.load(file)\n",
    "\n",
    "data = dataset.data\n",
    "author_id_map = dataset.author_id_map\n",
    "author_node_id_map = dataset.author_node_id_map"
   ]
  },
  {
   "cell_type": "markdown",
   "id": "04vUews17zy8",
   "metadata": {
    "id": "04vUews17zy8"
   },
   "source": [
    "## Model training\n",
    "\n",
    "\n",
    "---\n",
    "\n"
   ]
  },
  {
   "cell_type": "markdown",
   "id": "IMCtMQz00wC_",
   "metadata": {
    "id": "IMCtMQz00wC_"
   },
   "source": [
    "### Model definition"
   ]
  },
  {
   "cell_type": "code",
   "execution_count": 4,
   "id": "TJaBxQX_7_3D",
   "metadata": {
    "ExecuteTime": {
     "end_time": "2024-12-13T21:28:22.411435Z",
     "start_time": "2024-12-13T21:28:22.248727Z"
    },
    "id": "TJaBxQX_7_3D"
   },
   "outputs": [],
   "source": [
    "class ModelEuCoI(ModelEuCoHM):\n",
    "    def __init__(self,\n",
    "                 input_channels: int,\n",
    "                 hidden_channels: int,\n",
    "                 num_layers: int,\n",
    "                 num_recommendations: int,\n",
    "                 author_node_id_map: dict,\n",
    "                 author_id_map: dict,\n",
    "                 device: str = 'cpu'):\n",
    "        super().__init__(\n",
    "            input_channels=input_channels,\n",
    "            hidden_channels=hidden_channels,\n",
    "            num_layers=num_layers,\n",
    "            num_recommendations=num_recommendations,\n",
    "            author_node_id_map=author_node_id_map,\n",
    "            author_id_map=author_id_map,\n",
    "            device=device\n",
    "        )\n",
    "\n",
    "    "
   ]
  },
  {
   "cell_type": "markdown",
   "id": "9XkKmZJC06IZ",
   "metadata": {
    "id": "9XkKmZJC06IZ"
   },
   "source": [
    "### Training the model"
   ]
  },
  {
   "cell_type": "code",
   "execution_count": 5,
   "id": "b4304b1f-ce07-411d-abc3-43011dd3a83b",
   "metadata": {},
   "outputs": [],
   "source": [
    "# Initialize the model\n",
    "model = ModelEuCoI(\n",
    "    input_channels=data.num_features,\n",
    "    hidden_channels=model_config['hidden_channels'],\n",
    "    num_recommendations=model_config['num_recommendations'],\n",
    "    num_layers=model_config['num_layers'],\n",
    "    author_node_id_map=author_node_id_map,\n",
    "    author_id_map=author_id_map\n",
    ").to(device)\n",
    "\n",
    "# Transfer to device\n",
    "data = data.to(device)\n",
    "\n",
    "# Initialize the optimizer\n",
    "optimizer: Optimizer = torch.optim.Adam(\n",
    "    params=model.parameters(),\n",
    "    lr=model_config['learning_rate']\n",
    ")\n",
    "\n",
    "# Initialize the scheduler\n",
    "scheduler: LRScheduler = torch.optim.lr_scheduler.ReduceLROnPlateau(\n",
    "    optimizer=optimizer,\n",
    "    mode='min',\n",
    "    factor=0.5,\n",
    "    patience=3\n",
    ")"
   ]
  },
  {
   "cell_type": "code",
   "execution_count": 6,
   "id": "379e5e3ea82af758",
   "metadata": {
    "ExecuteTime": {
     "end_time": "2024-12-13T21:30:55.180060Z",
     "start_time": "2024-12-13T21:30:52.430863Z"
    }
   },
   "outputs": [
    {
     "name": "stdout",
     "output_type": "stream",
     "text": [
      "Epoch 1, train loss: 0.0103, test loss: 0.1039, precision@k: 0.0682, recall@k: 0.2004, MAP@k: 0.1138, MRR@k: 0.1833, NDCG@k: 0.1575, HitRate@k: 0.3392\n",
      "Epoch 2, train loss: 0.0074, test loss: 0.0960, precision@k: 0.0695, recall@k: 0.2066, MAP@k: 0.1163, MRR@k: 0.1857, NDCG@k: 0.1610, HitRate@k: 0.3468\n",
      "Epoch 3, train loss: 0.0067, test loss: 0.0914, precision@k: 0.0699, recall@k: 0.2095, MAP@k: 0.1171, MRR@k: 0.1871, NDCG@k: 0.1624, HitRate@k: 0.3508\n",
      "Epoch 4, train loss: 0.0055, test loss: 0.0896, precision@k: 0.0706, recall@k: 0.2112, MAP@k: 0.1189, MRR@k: 0.1888, NDCG@k: 0.1643, HitRate@k: 0.3534\n",
      "Epoch 5, train loss: 0.0055, test loss: 0.0887, precision@k: 0.0706, recall@k: 0.2102, MAP@k: 0.1174, MRR@k: 0.1864, NDCG@k: 0.1627, HitRate@k: 0.3513\n",
      "Epoch 6, train loss: 0.0053, test loss: 0.0877, precision@k: 0.0707, recall@k: 0.2122, MAP@k: 0.1189, MRR@k: 0.1881, NDCG@k: 0.1645, HitRate@k: 0.3531\n",
      "Epoch 7, train loss: 0.0047, test loss: 0.0869, precision@k: 0.0708, recall@k: 0.2129, MAP@k: 0.1201, MRR@k: 0.1895, NDCG@k: 0.1656, HitRate@k: 0.3536\n",
      "Epoch 8, train loss: 0.0046, test loss: 0.0863, precision@k: 0.0711, recall@k: 0.2145, MAP@k: 0.1204, MRR@k: 0.1897, NDCG@k: 0.1662, HitRate@k: 0.3552\n",
      "Epoch 9, train loss: 0.0041, test loss: 0.0864, precision@k: 0.0712, recall@k: 0.2152, MAP@k: 0.1210, MRR@k: 0.1898, NDCG@k: 0.1668, HitRate@k: 0.3557\n",
      "Epoch 10, train loss: 0.0045, test loss: 0.0867, precision@k: 0.0717, recall@k: 0.2173, MAP@k: 0.1218, MRR@k: 0.1918, NDCG@k: 0.1682, HitRate@k: 0.3592\n",
      "Epoch 11, train loss: 0.0038, test loss: 0.0874, precision@k: 0.0720, recall@k: 0.2179, MAP@k: 0.1221, MRR@k: 0.1915, NDCG@k: 0.1685, HitRate@k: 0.3596\n",
      "Epoch 12, train loss: 0.0035, test loss: 0.0880, precision@k: 0.0720, recall@k: 0.2187, MAP@k: 0.1234, MRR@k: 0.1937, NDCG@k: 0.1697, HitRate@k: 0.3601\n",
      "Epoch 13, train loss: 0.0037, test loss: 0.0882, precision@k: 0.0722, recall@k: 0.2197, MAP@k: 0.1229, MRR@k: 0.1932, NDCG@k: 0.1698, HitRate@k: 0.3631\n",
      "Epoch 14, train loss: 0.0037, test loss: 0.0886, precision@k: 0.0723, recall@k: 0.2202, MAP@k: 0.1229, MRR@k: 0.1933, NDCG@k: 0.1699, HitRate@k: 0.3638\n",
      "Epoch 15, train loss: 0.0036, test loss: 0.0892, precision@k: 0.0726, recall@k: 0.2218, MAP@k: 0.1235, MRR@k: 0.1935, NDCG@k: 0.1707, HitRate@k: 0.3653\n",
      "Epoch 16, train loss: 0.0034, test loss: 0.0898, precision@k: 0.0731, recall@k: 0.2230, MAP@k: 0.1239, MRR@k: 0.1945, NDCG@k: 0.1714, HitRate@k: 0.3666\n",
      "Epoch 17, train loss: 0.0032, test loss: 0.0901, precision@k: 0.0730, recall@k: 0.2223, MAP@k: 0.1239, MRR@k: 0.1949, NDCG@k: 0.1713, HitRate@k: 0.3654\n",
      "Epoch 18, train loss: 0.0032, test loss: 0.0903, precision@k: 0.0733, recall@k: 0.2227, MAP@k: 0.1238, MRR@k: 0.1940, NDCG@k: 0.1712, HitRate@k: 0.3660\n",
      "Epoch 19, train loss: 0.0035, test loss: 0.0905, precision@k: 0.0733, recall@k: 0.2226, MAP@k: 0.1237, MRR@k: 0.1939, NDCG@k: 0.1712, HitRate@k: 0.3660\n",
      "Epoch 20, train loss: 0.0040, test loss: 0.0906, precision@k: 0.0734, recall@k: 0.2228, MAP@k: 0.1238, MRR@k: 0.1942, NDCG@k: 0.1713, HitRate@k: 0.3665\n",
      "Epoch 21, train loss: 0.0035, test loss: 0.0905, precision@k: 0.0736, recall@k: 0.2229, MAP@k: 0.1243, MRR@k: 0.1954, NDCG@k: 0.1719, HitRate@k: 0.3666\n",
      "Epoch 22, train loss: 0.0033, test loss: 0.0905, precision@k: 0.0737, recall@k: 0.2230, MAP@k: 0.1240, MRR@k: 0.1945, NDCG@k: 0.1717, HitRate@k: 0.3667\n",
      "Epoch 23, train loss: 0.0031, test loss: 0.0904, precision@k: 0.0739, recall@k: 0.2233, MAP@k: 0.1243, MRR@k: 0.1948, NDCG@k: 0.1720, HitRate@k: 0.3669\n",
      "Epoch 24, train loss: 0.0035, test loss: 0.0903, precision@k: 0.0740, recall@k: 0.2238, MAP@k: 0.1241, MRR@k: 0.1944, NDCG@k: 0.1719, HitRate@k: 0.3676\n",
      "Epoch 25, train loss: 0.0029, test loss: 0.0903, precision@k: 0.0740, recall@k: 0.2236, MAP@k: 0.1245, MRR@k: 0.1951, NDCG@k: 0.1722, HitRate@k: 0.3676\n",
      "Epoch 26, train loss: 0.0032, test loss: 0.0902, precision@k: 0.0741, recall@k: 0.2241, MAP@k: 0.1243, MRR@k: 0.1949, NDCG@k: 0.1722, HitRate@k: 0.3681\n",
      "Epoch 27, train loss: 0.0033, test loss: 0.0901, precision@k: 0.0742, recall@k: 0.2243, MAP@k: 0.1245, MRR@k: 0.1945, NDCG@k: 0.1723, HitRate@k: 0.3681\n",
      "Epoch 28, train loss: 0.0032, test loss: 0.0901, precision@k: 0.0743, recall@k: 0.2245, MAP@k: 0.1246, MRR@k: 0.1950, NDCG@k: 0.1725, HitRate@k: 0.3685\n",
      "Epoch 29, train loss: 0.0033, test loss: 0.0900, precision@k: 0.0743, recall@k: 0.2243, MAP@k: 0.1243, MRR@k: 0.1944, NDCG@k: 0.1722, HitRate@k: 0.3683\n",
      "Epoch 30, train loss: 0.0035, test loss: 0.0900, precision@k: 0.0743, recall@k: 0.2245, MAP@k: 0.1247, MRR@k: 0.1954, NDCG@k: 0.1727, HitRate@k: 0.3684\n",
      "Epoch 31, train loss: 0.0031, test loss: 0.0900, precision@k: 0.0744, recall@k: 0.2247, MAP@k: 0.1248, MRR@k: 0.1955, NDCG@k: 0.1728, HitRate@k: 0.3685\n",
      "Epoch 32, train loss: 0.0031, test loss: 0.0899, precision@k: 0.0745, recall@k: 0.2250, MAP@k: 0.1253, MRR@k: 0.1963, NDCG@k: 0.1733, HitRate@k: 0.3690\n",
      "Epoch 33, train loss: 0.0032, test loss: 0.0899, precision@k: 0.0745, recall@k: 0.2252, MAP@k: 0.1254, MRR@k: 0.1960, NDCG@k: 0.1734, HitRate@k: 0.3692\n",
      "Epoch 34, train loss: 0.0029, test loss: 0.0899, precision@k: 0.0745, recall@k: 0.2254, MAP@k: 0.1254, MRR@k: 0.1966, NDCG@k: 0.1735, HitRate@k: 0.3695\n",
      "Epoch 35, train loss: 0.0032, test loss: 0.0899, precision@k: 0.0745, recall@k: 0.2255, MAP@k: 0.1256, MRR@k: 0.1973, NDCG@k: 0.1738, HitRate@k: 0.3696\n",
      "Epoch 36, train loss: 0.0031, test loss: 0.0899, precision@k: 0.0746, recall@k: 0.2257, MAP@k: 0.1256, MRR@k: 0.1969, NDCG@k: 0.1738, HitRate@k: 0.3698\n",
      "Epoch 37, train loss: 0.0033, test loss: 0.0899, precision@k: 0.0746, recall@k: 0.2256, MAP@k: 0.1256, MRR@k: 0.1971, NDCG@k: 0.1737, HitRate@k: 0.3695\n",
      "Epoch 38, train loss: 0.0033, test loss: 0.0899, precision@k: 0.0746, recall@k: 0.2256, MAP@k: 0.1256, MRR@k: 0.1971, NDCG@k: 0.1738, HitRate@k: 0.3694\n",
      "Epoch 39, train loss: 0.0033, test loss: 0.0899, precision@k: 0.0746, recall@k: 0.2255, MAP@k: 0.1257, MRR@k: 0.1973, NDCG@k: 0.1738, HitRate@k: 0.3692\n",
      "Epoch 40, train loss: 0.0032, test loss: 0.0899, precision@k: 0.0746, recall@k: 0.2255, MAP@k: 0.1255, MRR@k: 0.1969, NDCG@k: 0.1736, HitRate@k: 0.3693\n",
      "Epoch 41, train loss: 0.0030, test loss: 0.0899, precision@k: 0.0746, recall@k: 0.2256, MAP@k: 0.1254, MRR@k: 0.1968, NDCG@k: 0.1735, HitRate@k: 0.3693\n",
      "Epoch 42, train loss: 0.0030, test loss: 0.0899, precision@k: 0.0746, recall@k: 0.2255, MAP@k: 0.1254, MRR@k: 0.1967, NDCG@k: 0.1735, HitRate@k: 0.3693\n",
      "Epoch 43, train loss: 0.0032, test loss: 0.0899, precision@k: 0.0746, recall@k: 0.2256, MAP@k: 0.1254, MRR@k: 0.1967, NDCG@k: 0.1736, HitRate@k: 0.3693\n",
      "Epoch 44, train loss: 0.0031, test loss: 0.0899, precision@k: 0.0746, recall@k: 0.2255, MAP@k: 0.1254, MRR@k: 0.1968, NDCG@k: 0.1736, HitRate@k: 0.3692\n",
      "Epoch 45, train loss: 0.0030, test loss: 0.0899, precision@k: 0.0746, recall@k: 0.2255, MAP@k: 0.1254, MRR@k: 0.1967, NDCG@k: 0.1736, HitRate@k: 0.3692\n",
      "Epoch 46, train loss: 0.0031, test loss: 0.0899, precision@k: 0.0746, recall@k: 0.2254, MAP@k: 0.1255, MRR@k: 0.1968, NDCG@k: 0.1736, HitRate@k: 0.3691\n",
      "Epoch 47, train loss: 0.0034, test loss: 0.0899, precision@k: 0.0746, recall@k: 0.2255, MAP@k: 0.1255, MRR@k: 0.1966, NDCG@k: 0.1736, HitRate@k: 0.3692\n",
      "Epoch 48, train loss: 0.0032, test loss: 0.0899, precision@k: 0.0746, recall@k: 0.2255, MAP@k: 0.1253, MRR@k: 0.1962, NDCG@k: 0.1734, HitRate@k: 0.3692\n",
      "Epoch 49, train loss: 0.0031, test loss: 0.0899, precision@k: 0.0746, recall@k: 0.2255, MAP@k: 0.1254, MRR@k: 0.1963, NDCG@k: 0.1735, HitRate@k: 0.3692\n",
      "Epoch 50, train loss: 0.0031, test loss: 0.0899, precision@k: 0.0746, recall@k: 0.2255, MAP@k: 0.1253, MRR@k: 0.1962, NDCG@k: 0.1734, HitRate@k: 0.3692\n"
     ]
    }
   ],
   "source": [
    "results: list = list()\n",
    "for epoch in range(1, model_config['num_epochs'] + 1):\n",
    "    # ------ Train\n",
    "    train_loss: float = train(\n",
    "        model=model,\n",
    "        data=data,\n",
    "        optimizer=optimizer\n",
    "    )\n",
    "    # ------ Test\n",
    "    test_loss: float = test(\n",
    "        model=model,\n",
    "        data=data\n",
    "    )\n",
    "    scheduler.step(test_loss)\n",
    "    # ------ Evaluate\n",
    "    evaluation_results: dict = evaluate(\n",
    "        k=model_config['num_recommendations'],\n",
    "        model=model,\n",
    "        data=data\n",
    "    )\n",
    "\n",
    "    # Save results\n",
    "    epoch_result = get_results(\n",
    "        epoch=epoch,\n",
    "        train_loss=train_loss,\n",
    "        test_loss=test_loss,\n",
    "        evaluation_results=evaluation_results\n",
    "    )\n",
    "    results.append(epoch_result)"
   ]
  },
  {
   "cell_type": "markdown",
   "id": "CIzjEI3R-eY-",
   "metadata": {
    "id": "CIzjEI3R-eY-"
   },
   "source": [
    "### Model evaluation"
   ]
  },
  {
   "cell_type": "code",
   "execution_count": 7,
   "id": "JHmrYAoF-dWh",
   "metadata": {
    "colab": {
     "base_uri": "https://localhost:8080/",
     "height": 472
    },
    "id": "JHmrYAoF-dWh",
    "outputId": "51b44a7b-4d40-4c23-8009-d3af553ed2e9"
   },
   "outputs": [],
   "source": [
    "results_df = pd.DataFrame(results)\n",
    "results_df.to_csv(f'../results/results_Model{model_name}.csv', index=False)"
   ]
  },
  {
   "cell_type": "code",
   "execution_count": 8,
   "id": "RwsZRSb828Ua",
   "metadata": {
    "colab": {
     "base_uri": "https://localhost:8080/",
     "height": 472
    },
    "id": "RwsZRSb828Ua",
    "outputId": "57cc0fe4-2411-44ed-cfc2-f41e6c682819"
   },
   "outputs": [
    {
     "data": {
      "image/png": "[encoded data removed]",
      "text/plain": [
       "<Figure size 640x480 with 1 Axes>"
      ]
     },
     "metadata": {},
     "output_type": "display_data"
    }
   ],
   "source": [
    "# Generate loss curve\n",
    "# Train loss\n",
    "sns.lineplot(data=results_df, x='Epoch', y='Train Loss')\n",
    "# Test loss\n",
    "sns.lineplot(data=results_df, x='Epoch', y='Test Loss')\n",
    "plt.xlabel('Epoch')\n",
    "plt.ylabel('Loss')\n",
    "plt.title('Loss curve')\n",
    "plt.yscale('log')\n",
    "plt.show()"
   ]
  },
  {
   "cell_type": "code",
   "execution_count": 9,
   "id": "QrRBTsA5vAs1",
   "metadata": {
    "colab": {
     "base_uri": "https://localhost:8080/"
    },
    "id": "QrRBTsA5vAs1",
    "outputId": "afffeb4f-f62c-4c48-cf69-c7cb5eb06f55"
   },
   "outputs": [
    {
     "data": {
      "image/png": "[encoded data removed]",
      "text/plain": [
       "<Figure size 640x480 with 1 Axes>"
      ]
     },
     "metadata": {},
     "output_type": "display_data"
    }
   ],
   "source": [
    "# Generate evaluation metrics plot\n",
    "sns.lineplot(data=results_df, x='Epoch', y='Precision@k')\n",
    "sns.lineplot(data=results_df, x='Epoch', y='Recall@k')\n",
    "sns.lineplot(data=results_df, x='Epoch', y='MAP@k')\n",
    "sns.lineplot(data=results_df, x='Epoch', y='MRR@k')\n",
    "sns.lineplot(data=results_df, x='Epoch', y='NDCG@k')\n",
    "sns.lineplot(data=results_df, x='Epoch', y='HitRate@k')\n",
    "plt.xlabel('Epoch')\n",
    "plt.ylabel('Performance')\n",
    "plt.title('Performance metrics')\n",
    "plt.show()"
   ]
  }
 ],
 "metadata": {
  "colab": {
   "collapsed_sections": [
    "ISUVX4hvFMKM",
    "aZQQpLqCFeGK",
    "2cXJ5OO10uxX"
   ],
   "name": "Collaboration Recommender 1.0 (Homogeneous).ipynb",
   "provenance": []
  },
  "kernelspec": {
   "display_name": "Python 3 (ipykernel)",
   "language": "python",
   "name": "python3"
  },
  "language_info": {
   "codemirror_mode": {
    "name": "ipython",
    "version": 3
   },
   "file_extension": ".py",
   "mimetype": "text/x-python",
   "name": "python",
   "nbconvert_exporter": "python",
   "pygments_lexer": "ipython3",
   "version": "3.12.3"
  }
 },
 "nbformat": 4,
 "nbformat_minor": 5
}
