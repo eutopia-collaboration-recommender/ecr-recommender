{
 "cells": [
  {
   "cell_type": "markdown",
   "id": "zYPnKxIhFGVJ",
   "metadata": {
    "id": "zYPnKxIhFGVJ"
   },
   "source": [
    "# Collaboration recommender system 2.0"
   ]
  },
  {
   "cell_type": "markdown",
   "id": "x7McZwR_FRta",
   "metadata": {
    "id": "x7McZwR_FRta"
   },
   "source": [
    "## **Setting up environment**\n",
    "\n",
    "---\n",
    "\n"
   ]
  },
  {
   "cell_type": "markdown",
   "id": "jX5i4Qjs7MIl",
   "metadata": {
    "id": "jX5i4Qjs7MIl"
   },
   "source": [
    "### **Package installation**\n",
    "\n",
    "Installing `torch` and `torch_geometric` libraries."
   ]
  },
  {
   "cell_type": "code",
   "execution_count": 1,
   "id": "t4n7jKW9uiQE",
   "metadata": {
    "colab": {
     "base_uri": "https://localhost:8080/"
    },
    "id": "t4n7jKW9uiQE",
    "outputId": "d501c056-f66b-487d-f655-e3fb97de55df"
   },
   "outputs": [
    {
     "name": "stdout",
     "output_type": "stream",
     "text": [
      "2.4.0+cpu\n"
     ]
    }
   ],
   "source": [
    "import torch\n",
    "import os\n",
    "os.environ['TORCH'] = torch.__version__\n",
    "print(os.environ['TORCH'])"
   ]
  },
  {
   "cell_type": "markdown",
   "id": "cD8tnTfC60X2",
   "metadata": {
    "id": "cD8tnTfC60X2"
   },
   "source": [
    "### **Loading libraries**"
   ]
  },
  {
   "cell_type": "code",
   "execution_count": 2,
   "id": "5okfWmvKEI3Z",
   "metadata": {
    "id": "5okfWmvKEI3Z"
   },
   "outputs": [],
   "source": [
    "import sys\n",
    "import os\n",
    "\n",
    "sys.path.insert(0, os.path.abspath(\"..\"))\n",
    "\n",
    "# PyTorch imports\n",
    "from torch import Tensor\n",
    "import torch.nn.functional as F\n",
    "from torch.nn import Embedding\n",
    "\n",
    "# PyTorch Geometric imports\n",
    "import torch_geometric\n",
    "import torch_geometric.transforms as T\n",
    "from torch_geometric import EdgeIndex\n",
    "from torch_geometric.loader import LinkNeighborLoader, NeighborLoader\n",
    "from torch_geometric.nn import SAGEConv, HeteroConv, to_hetero, MIPSKNNIndex, Linear\n",
    "from torch_geometric.data import HeteroData, Batch\n",
    "from torch_geometric.nn.models.lightgcn import BPRLoss\n",
    "from torch_geometric.utils import structured_negative_sampling\n",
    "from torch_geometric.metrics import (\n",
    "    LinkPredPrecision,\n",
    "    LinkPredRecall,\n",
    "    LinkPredMAP,\n",
    "    LinkPredMRR,\n",
    "    LinkPredNDCG\n",
    "    )\n",
    "\n",
    "\n",
    "# Other imports\n",
    "import io\n",
    "import datetime\n",
    "import math\n",
    "import numpy as np\n",
    "import pandas as pd\n",
    "import polars as pl\n",
    "import matplotlib.pyplot as plt\n",
    "from box import Box\n",
    "from tqdm import tqdm\n",
    "from sklearn.metrics import roc_auc_score\n",
    "from sklearn.preprocessing import StandardScaler\n",
    "from util.postgres import create_sqlalchemy_engine, query"
   ]
  },
  {
   "cell_type": "code",
   "execution_count": 3,
   "id": "X6kGtZ7RD7Y9",
   "metadata": {
    "colab": {
     "base_uri": "https://localhost:8080/"
    },
    "id": "X6kGtZ7RD7Y9",
    "outputId": "f8f52ea7-44e2-431a-e8a7-52419fc01381"
   },
   "outputs": [
    {
     "name": "stdout",
     "output_type": "stream",
     "text": [
      "2.4.0+cpu\n",
      "2.7.0\n",
      "Device: 'cpu'\n"
     ]
    }
   ],
   "source": [
    "device = torch.device('cuda' if torch.cuda.is_available() else 'cpu')\n",
    "print(torch.__version__)\n",
    "print(torch_geometric.__version__)\n",
    "print(f\"Device: '{device}'\")\n",
    "if torch.cuda.is_available():\n",
    "    print(torch.cuda.get_device_name(0))"
   ]
  },
  {
   "cell_type": "markdown",
   "id": "bQ_xqBiFn97Q",
   "metadata": {
    "id": "bQ_xqBiFn97Q"
   },
   "source": [
    "### **Global variables**"
   ]
  },
  {
   "cell_type": "code",
   "execution_count": 22,
   "id": "9r1K6ezsn97Q",
   "metadata": {
    "id": "9r1K6ezsn97Q"
   },
   "outputs": [],
   "source": [
    "# -------------------- GLOBAL VARIABLES --------------------\n",
    "PATH_TO_CONFIG_FILE = '../config.yaml'\n",
    "\n",
    "# -------------------- LOAD CONFIGURATION --------------------\n",
    "# Load the configuration file\n",
    "config = Box.from_yaml(filename=PATH_TO_CONFIG_FILE)\n",
    "\n",
    "num_recommendations = 10    # Number of recommendations\n",
    "num_train = 0.8             # Percentage of data used for training\n",
    "learning_rate = 1e-2        # Learning rate\n",
    "num_epochs = 20            # Number of epochs\n",
    "hidden_channels = 128       # Number of hidden channels\n",
    "\n",
    "target_edge_type = ('author', 'co_authors', 'author')\n",
    "target_node_type = 'author'\n",
    "\n",
    "pg_engine = create_sqlalchemy_engine(\n",
    "    username=config.POSTGRES.USERNAME,\n",
    "    password=config.POSTGRES.PASSWORD,\n",
    "    host=config.POSTGRES.HOST,\n",
    "    port=config.POSTGRES.PORT,\n",
    "    database=config.POSTGRES.DATABASE,\n",
    "    schema=config.POSTGRES.SCHEMA\n",
    ")\n",
    "batch_size = 10000"
   ]
  },
  {
   "cell_type": "markdown",
   "id": "ISUVX4hvFMKM",
   "metadata": {
    "id": "ISUVX4hvFMKM"
   },
   "source": [
    "## **Data preparation**\n",
    "\n",
    "---\n",
    "\n"
   ]
  },
  {
   "cell_type": "markdown",
   "id": "PUmNU6hf75k7",
   "metadata": {
    "id": "PUmNU6hf75k7"
   },
   "source": [
    "### **Loading data**\n",
    "\n",
    "When loading the data, we take into account only the articles, where at least one author comes from the EUTOPIA"
   ]
  },
  {
   "cell_type": "code",
   "execution_count": 5,
   "id": "9219071e-65c1-42ef-8a0d-aa8f827e9805",
   "metadata": {
    "scrolled": true
   },
   "outputs": [
    {
     "name": "stdout",
     "output_type": "stream",
     "text": [
      "CPU times: user 51.9 ms, sys: 10.4 ms, total: 62.3 ms\n",
      "Wall time: 156 ms\n"
     ]
    },
    {
     "data": {
      "text/html": [
       "<div>\n",
       "<style scoped>\n",
       "    .dataframe tbody tr th:only-of-type {\n",
       "        vertical-align: middle;\n",
       "    }\n",
       "\n",
       "    .dataframe tbody tr th {\n",
       "        vertical-align: top;\n",
       "    }\n",
       "\n",
       "    .dataframe thead th {\n",
       "        text-align: right;\n",
       "    }\n",
       "</style>\n",
       "<table border=\"1\" class=\"dataframe\">\n",
       "  <thead>\n",
       "    <tr style=\"text-align: right;\">\n",
       "      <th></th>\n",
       "      <th>author_id</th>\n",
       "      <th>dummy_feature</th>\n",
       "    </tr>\n",
       "  </thead>\n",
       "  <tbody>\n",
       "    <tr>\n",
       "      <th>0</th>\n",
       "      <td>0000-0001-6379-2381</td>\n",
       "      <td>1</td>\n",
       "    </tr>\n",
       "    <tr>\n",
       "      <th>1</th>\n",
       "      <td>0000-0001-7809-8050</td>\n",
       "      <td>1</td>\n",
       "    </tr>\n",
       "    <tr>\n",
       "      <th>2</th>\n",
       "      <td>0000-0001-8367-5465</td>\n",
       "      <td>1</td>\n",
       "    </tr>\n",
       "    <tr>\n",
       "      <th>3</th>\n",
       "      <td>0000-0001-8606-6825</td>\n",
       "      <td>1</td>\n",
       "    </tr>\n",
       "    <tr>\n",
       "      <th>4</th>\n",
       "      <td>0000-0001-8718-9819</td>\n",
       "      <td>1</td>\n",
       "    </tr>\n",
       "  </tbody>\n",
       "</table>\n",
       "</div>"
      ],
      "text/plain": [
       "             author_id  dummy_feature\n",
       "0  0000-0001-6379-2381              1\n",
       "1  0000-0001-7809-8050              1\n",
       "2  0000-0001-8367-5465              1\n",
       "3  0000-0001-8606-6825              1\n",
       "4  0000-0001-8718-9819              1"
      ]
     },
     "execution_count": 5,
     "metadata": {},
     "output_type": "execute_result"
    }
   ],
   "source": [
    "%%time\n",
    "# Get all authors data and value metrics about their collaboration\n",
    "author_query = f\"\"\"\n",
    "SELECT *\n",
    "FROM g_eucoht_node_author\n",
    "\"\"\"\n",
    "with pg_engine.connect() as conn:\n",
    "    author_df = query(conn=conn, query_str=author_query)\n",
    "\n",
    "conn.close()\n",
    "author_df.head(5)"
   ]
  },
  {
   "cell_type": "code",
   "execution_count": 6,
   "id": "f88d120f-8694-47c3-9592-c1a6fde00d00",
   "metadata": {},
   "outputs": [
    {
     "name": "stdout",
     "output_type": "stream",
     "text": [
      "CPU times: user 986 ms, sys: 203 ms, total: 1.19 s\n",
      "Wall time: 1.37 s\n"
     ]
    },
    {
     "data": {
      "text/html": [
       "<div>\n",
       "<style scoped>\n",
       "    .dataframe tbody tr th:only-of-type {\n",
       "        vertical-align: middle;\n",
       "    }\n",
       "\n",
       "    .dataframe tbody tr th {\n",
       "        vertical-align: top;\n",
       "    }\n",
       "\n",
       "    .dataframe thead th {\n",
       "        text-align: right;\n",
       "    }\n",
       "</style>\n",
       "<table border=\"1\" class=\"dataframe\">\n",
       "  <thead>\n",
       "    <tr style=\"text-align: right;\">\n",
       "      <th></th>\n",
       "      <th>author_id</th>\n",
       "      <th>article_id</th>\n",
       "      <th>time</th>\n",
       "    </tr>\n",
       "  </thead>\n",
       "  <tbody>\n",
       "    <tr>\n",
       "      <th>0</th>\n",
       "      <td>23037324500</td>\n",
       "      <td>0013330732</td>\n",
       "      <td>20180206</td>\n",
       "    </tr>\n",
       "    <tr>\n",
       "      <th>1</th>\n",
       "      <td>6507696573</td>\n",
       "      <td>0013330732</td>\n",
       "      <td>20180206</td>\n",
       "    </tr>\n",
       "    <tr>\n",
       "      <th>2</th>\n",
       "      <td>0000-0003-4842-5676</td>\n",
       "      <td>10.1002/aenm.201301688</td>\n",
       "      <td>20140101</td>\n",
       "    </tr>\n",
       "    <tr>\n",
       "      <th>3</th>\n",
       "      <td>14822457300</td>\n",
       "      <td>10.1002/cmdc.201402459</td>\n",
       "      <td>20141217</td>\n",
       "    </tr>\n",
       "    <tr>\n",
       "      <th>4</th>\n",
       "      <td>0000-0001-7809-8050</td>\n",
       "      <td>10.1002/cplu.201402054</td>\n",
       "      <td>20140101</td>\n",
       "    </tr>\n",
       "  </tbody>\n",
       "</table>\n",
       "</div>"
      ],
      "text/plain": [
       "             author_id              article_id      time\n",
       "0          23037324500              0013330732  20180206\n",
       "1           6507696573              0013330732  20180206\n",
       "2  0000-0003-4842-5676  10.1002/aenm.201301688  20140101\n",
       "3          14822457300  10.1002/cmdc.201402459  20141217\n",
       "4  0000-0001-7809-8050  10.1002/cplu.201402054  20140101"
      ]
     },
     "execution_count": 6,
     "metadata": {},
     "output_type": "execute_result"
    }
   ],
   "source": [
    "%%time\n",
    "# Get all authors data and value metrics about their collaboration\n",
    "published_query = f\"\"\"\n",
    "SELECT *\n",
    "FROM g_eucoht_edge_publishes\n",
    "\"\"\"\n",
    "with pg_engine.connect() as conn:\n",
    "    published_df = query(conn=conn, query_str=published_query)\n",
    "\n",
    "conn.close()\n",
    "published_df.head(5)"
   ]
  },
  {
   "cell_type": "code",
   "execution_count": 7,
   "id": "0e5129cd-4f87-4faa-b002-13ef6c74b3cd",
   "metadata": {},
   "outputs": [
    {
     "name": "stdout",
     "output_type": "stream",
     "text": [
      "CPU times: user 146 ms, sys: 16.2 ms, total: 163 ms\n",
      "Wall time: 197 ms\n"
     ]
    },
    {
     "data": {
      "text/html": [
       "<div>\n",
       "<style scoped>\n",
       "    .dataframe tbody tr th:only-of-type {\n",
       "        vertical-align: middle;\n",
       "    }\n",
       "\n",
       "    .dataframe tbody tr th {\n",
       "        vertical-align: top;\n",
       "    }\n",
       "\n",
       "    .dataframe thead th {\n",
       "        text-align: right;\n",
       "    }\n",
       "</style>\n",
       "<table border=\"1\" class=\"dataframe\">\n",
       "  <thead>\n",
       "    <tr style=\"text-align: right;\">\n",
       "      <th></th>\n",
       "      <th>author_id</th>\n",
       "      <th>co_author_id</th>\n",
       "      <th>time</th>\n",
       "      <th>eutopia_collaboration_count</th>\n",
       "    </tr>\n",
       "  </thead>\n",
       "  <tbody>\n",
       "    <tr>\n",
       "      <th>0</th>\n",
       "      <td>0000-0001-8367-5465</td>\n",
       "      <td>0000-0001-9448-789X</td>\n",
       "      <td>20050101</td>\n",
       "      <td>0</td>\n",
       "    </tr>\n",
       "    <tr>\n",
       "      <th>1</th>\n",
       "      <td>0000-0001-9448-789X</td>\n",
       "      <td>0000-0001-8367-5465</td>\n",
       "      <td>20050101</td>\n",
       "      <td>0</td>\n",
       "    </tr>\n",
       "    <tr>\n",
       "      <th>2</th>\n",
       "      <td>0000-0003-3517-3780</td>\n",
       "      <td>6506321882</td>\n",
       "      <td>20120101</td>\n",
       "      <td>0</td>\n",
       "    </tr>\n",
       "    <tr>\n",
       "      <th>3</th>\n",
       "      <td>10040417200</td>\n",
       "      <td>8221262000</td>\n",
       "      <td>20090101</td>\n",
       "      <td>0</td>\n",
       "    </tr>\n",
       "    <tr>\n",
       "      <th>4</th>\n",
       "      <td>10040997700</td>\n",
       "      <td>18233779900</td>\n",
       "      <td>20091101</td>\n",
       "      <td>0</td>\n",
       "    </tr>\n",
       "  </tbody>\n",
       "</table>\n",
       "</div>"
      ],
      "text/plain": [
       "             author_id         co_author_id      time  \\\n",
       "0  0000-0001-8367-5465  0000-0001-9448-789X  20050101   \n",
       "1  0000-0001-9448-789X  0000-0001-8367-5465  20050101   \n",
       "2  0000-0003-3517-3780           6506321882  20120101   \n",
       "3          10040417200           8221262000  20090101   \n",
       "4          10040997700          18233779900  20091101   \n",
       "\n",
       "   eutopia_collaboration_count  \n",
       "0                            0  \n",
       "1                            0  \n",
       "2                            0  \n",
       "3                            0  \n",
       "4                            0  "
      ]
     },
     "execution_count": 7,
     "metadata": {},
     "output_type": "execute_result"
    }
   ],
   "source": [
    "%%time\n",
    "# Get all authors data and value metrics about their collaboration\n",
    "coauthored_query = f\"\"\"\n",
    "SELECT *\n",
    "FROM g_eucoht_edge_co_authors\n",
    "\"\"\"\n",
    "with pg_engine.connect() as conn:\n",
    "    coauthored_df = query(conn=conn, query_str=coauthored_query)\n",
    "\n",
    "conn.close()\n",
    "coauthored_df.head(5)"
   ]
  },
  {
   "cell_type": "code",
   "execution_count": 8,
   "id": "2344da7a-a59f-42a0-80e7-c37a9ac91024",
   "metadata": {
    "scrolled": true
   },
   "outputs": [
    {
     "name": "stdout",
     "output_type": "stream",
     "text": [
      "Rows fetched 10000 for batch 0\n",
      "Rows fetched 10000 for batch 1\n",
      "Rows fetched 10000 for batch 2\n",
      "Rows fetched 10000 for batch 3\n",
      "Rows fetched 10000 for batch 4\n",
      "Rows fetched 10000 for batch 5\n",
      "CPU times: user 33.7 s, sys: 8.88 s, total: 42.6 s\n",
      "Wall time: 1min 4s\n"
     ]
    },
    {
     "data": {
      "text/html": [
       "<div>\n",
       "<style scoped>\n",
       "    .dataframe tbody tr th:only-of-type {\n",
       "        vertical-align: middle;\n",
       "    }\n",
       "\n",
       "    .dataframe tbody tr th {\n",
       "        vertical-align: top;\n",
       "    }\n",
       "\n",
       "    .dataframe thead th {\n",
       "        text-align: right;\n",
       "    }\n",
       "</style>\n",
       "<table border=\"1\" class=\"dataframe\">\n",
       "  <thead>\n",
       "    <tr style=\"text-align: right;\">\n",
       "      <th></th>\n",
       "      <th>article_id</th>\n",
       "      <th>article_citation_normalized_count</th>\n",
       "      <th>is_eutopia_collaboration</th>\n",
       "      <th>collaboration_novelty_index</th>\n",
       "      <th>article_embedding</th>\n",
       "    </tr>\n",
       "  </thead>\n",
       "  <tbody>\n",
       "    <tr>\n",
       "      <th>0</th>\n",
       "      <td>84865405594</td>\n",
       "      <td>20.42</td>\n",
       "      <td>0</td>\n",
       "      <td>0.861111</td>\n",
       "      <td>[0.004589761607348919, 0.02756412886083126, -0...</td>\n",
       "    </tr>\n",
       "    <tr>\n",
       "      <th>1</th>\n",
       "      <td>84880929267</td>\n",
       "      <td>1.37</td>\n",
       "      <td>0</td>\n",
       "      <td>0.500070</td>\n",
       "      <td>[0.010607256554067135, 0.027150079607963562, -...</td>\n",
       "    </tr>\n",
       "    <tr>\n",
       "      <th>2</th>\n",
       "      <td>77952382135</td>\n",
       "      <td>4.29</td>\n",
       "      <td>0</td>\n",
       "      <td>3.000000</td>\n",
       "      <td>[-0.006951452698558569, -0.0008734843577258289...</td>\n",
       "    </tr>\n",
       "    <tr>\n",
       "      <th>3</th>\n",
       "      <td>77954866153</td>\n",
       "      <td>6.23</td>\n",
       "      <td>0</td>\n",
       "      <td>0.770833</td>\n",
       "      <td>[0.005069693550467491, 0.007222142070531845, -...</td>\n",
       "    </tr>\n",
       "    <tr>\n",
       "      <th>4</th>\n",
       "      <td>85030783799</td>\n",
       "      <td>1.42</td>\n",
       "      <td>0</td>\n",
       "      <td>2.000000</td>\n",
       "      <td>[-0.01370143610984087, 0.01628061570227146, 0....</td>\n",
       "    </tr>\n",
       "  </tbody>\n",
       "</table>\n",
       "</div>"
      ],
      "text/plain": [
       "    article_id article_citation_normalized_count  is_eutopia_collaboration  \\\n",
       "0  84865405594                             20.42                         0   \n",
       "1  84880929267                              1.37                         0   \n",
       "2  77952382135                              4.29                         0   \n",
       "3  77954866153                              6.23                         0   \n",
       "4  85030783799                              1.42                         0   \n",
       "\n",
       "   collaboration_novelty_index  \\\n",
       "0                     0.861111   \n",
       "1                     0.500070   \n",
       "2                     3.000000   \n",
       "3                     0.770833   \n",
       "4                     2.000000   \n",
       "\n",
       "                                   article_embedding  \n",
       "0  [0.004589761607348919, 0.02756412886083126, -0...  \n",
       "1  [0.010607256554067135, 0.027150079607963562, -...  \n",
       "2  [-0.006951452698558569, -0.0008734843577258289...  \n",
       "3  [0.005069693550467491, 0.007222142070531845, -...  \n",
       "4  [-0.01370143610984087, 0.01628061570227146, 0....  "
      ]
     },
     "execution_count": 8,
     "metadata": {},
     "output_type": "execute_result"
    }
   ],
   "source": [
    "%%time\n",
    "with pg_engine.raw_connection().cursor() as cur:\n",
    "    article_query = f\"\"\"\n",
    "    SELECT article_id,\n",
    "           article_citation_normalized_count,\n",
    "           is_eutopia_collaboration,\n",
    "           collaboration_novelty_index,\n",
    "           article_embedding\n",
    "    FROM g_eucoht_node_article\n",
    "    \"\"\"\n",
    "    cur.execute(article_query)\n",
    "    # Initialize the Polars DataFrame\n",
    "    article_df_polars: pl.DataFrame = pl.DataFrame()\n",
    "    ix = 0\n",
    "    # Fetch in chunks\n",
    "    while True:\n",
    "        rows = cur.fetchmany(size=batch_size)\n",
    "        if not rows:\n",
    "            break\n",
    "        # Append the rows to the Polars DataFrame\n",
    "        df_chunk = pl.DataFrame(rows, schema=[\n",
    "            \"article_id\", \n",
    "            \"article_citation_normalized_count\",\n",
    "            \"is_eutopia_collaboration\",\n",
    "            \"collaboration_novelty_index\",\n",
    "            \"article_embedding\"\n",
    "        ], orient=\"row\")\n",
    "    \n",
    "        # Concatenate chunk with the master DataFrame\n",
    "        article_df_polars = pl.concat([article_df_polars, df_chunk], how=\"vertical\")\n",
    "        print(f\"Rows fetched {batch_size} for batch {ix}\")\n",
    "        ix += 1\n",
    "\n",
    "article_df = article_df_polars.to_pandas()\n",
    "article_df.head(5)"
   ]
  },
  {
   "cell_type": "markdown",
   "id": "dZW9dtfeuhKT",
   "metadata": {
    "id": "dZW9dtfeuhKT"
   },
   "source": [
    "### Contiguous unique identifier for node: **author**"
   ]
  },
  {
   "cell_type": "code",
   "execution_count": 9,
   "id": "S3vkAApdE7M9",
   "metadata": {
    "id": "S3vkAApdE7M9"
   },
   "outputs": [],
   "source": [
    "# Author: Map each unique MD5 hash to a contiguous unique integer ID\n",
    "unique_authors = author_df['author_id'].unique()\n",
    "author_id_map = {author: i for i, author in enumerate(unique_authors)}\n",
    "author_sid_map = {y: x for x, y in author_id_map.items()}\n",
    "# ---> Adjust all dataframes\n",
    "author_df['author_node_id'] = author_df['author_id'].map(author_id_map)\n",
    "published_df['author_node_id'] = published_df['author_id'].map(author_id_map)\n",
    "coauthored_df['author_node_id'] = coauthored_df['author_id'].map(author_id_map)\n",
    "coauthored_df['co_author_node_id'] = coauthored_df['co_author_id'].map(author_id_map)"
   ]
  },
  {
   "cell_type": "markdown",
   "id": "sLnxwKwBur9Z",
   "metadata": {
    "id": "sLnxwKwBur9Z"
   },
   "source": [
    "### Contiguous unique identifier for node: **article**"
   ]
  },
  {
   "cell_type": "code",
   "execution_count": 10,
   "id": "BUgz5_tQuyQl",
   "metadata": {
    "id": "BUgz5_tQuyQl",
    "scrolled": true
   },
   "outputs": [],
   "source": [
    "# Article: Map each unique MD5 hash to a contiguous unique integer ID\n",
    "unique_articles = published_df['article_id'].unique()\n",
    "article_id_map = {article: i for i, article in enumerate(unique_articles)}\n",
    "article_sid_map = {y: x for x, y in article_id_map.items()}\n",
    "# ---> Adjust all dataframes\n",
    "article_df['article_node_id'] = article_df['article_id'].map(article_id_map)\n",
    "published_df['article_node_id'] = published_df['article_id'].map(article_id_map)"
   ]
  },
  {
   "cell_type": "markdown",
   "id": "aZQQpLqCFeGK",
   "metadata": {
    "id": "aZQQpLqCFeGK"
   },
   "source": [
    "## **Heterogeneous graph creation**\n",
    "First of all, we prepare the node features for articles. We first sort the article dataframe by node ID. We know that we have unique values in the article dataframe, i.e. one row per article and we can just sort it. Otherwise, we would need to create a unique mapping between article features and articles themselves. The sorting needs to match the node index that we will create later. After that, we also need to set up correct type (specifically, convert Pandas Int64 to int64, but we go for the lazy version and just convert all features to float64). At last, we exclude the `ARTICLE_SID` and `ARTICLE_NODE_ID` columns, because Torch can't work with strings.\n",
    "\n",
    "**TODO:**\n",
    "- Think about only including \"valuable\" partnerships/edges."
   ]
  },
  {
   "cell_type": "markdown",
   "id": "KHk6LU_su7-S",
   "metadata": {
    "id": "KHk6LU_su7-S"
   },
   "source": [
    "### Matrix X for node: **article**"
   ]
  },
  {
   "cell_type": "code",
   "execution_count": 11,
   "id": "7e5ke0kkvLpg",
   "metadata": {
    "colab": {
     "base_uri": "https://localhost:8080/"
    },
    "id": "7e5ke0kkvLpg",
    "outputId": "902ce4d6-492c-41cc-e1e5-76ef8a70bede"
   },
   "outputs": [],
   "source": [
    "# Article X\n",
    "# Sort article dataframe\n",
    "sorted_article_df = article_df.sort_values(by='article_node_id')\n",
    "article_x_columns = list(filter(lambda x: x not in ('article_id', 'article_node_id', 'article_embedding'), sorted_article_df.columns))\n",
    "\n",
    "# Convert EMBEDDING_TENSOR_DATA to proper format\n",
    "embedding_tensor = np.stack(sorted_article_df['article_embedding'].values)\n",
    "embedding_tensor = torch.tensor(embedding_tensor, dtype=torch.float)\n",
    "\n",
    "# Convert types\n",
    "article_x = sorted_article_df[article_x_columns].astype('float32').values\n",
    "\n",
    "# Append embedding_tensor to article_x\n",
    "article_x = np.concatenate((article_x, embedding_tensor), axis=1)\n",
    "\n",
    "# Normalize X using std scaler\n",
    "article_x = StandardScaler().fit_transform(article_x)"
   ]
  },
  {
   "cell_type": "markdown",
   "id": "XBN1GHNyvLPP",
   "metadata": {
    "id": "XBN1GHNyvLPP"
   },
   "source": [
    "### Matrix X for node: **author**"
   ]
  },
  {
   "cell_type": "code",
   "execution_count": 12,
   "id": "tg-GzYGtErQx",
   "metadata": {
    "id": "tg-GzYGtErQx"
   },
   "outputs": [],
   "source": [
    "# Author X\n",
    "# Sort author dataframe\n",
    "sorted_author_df = author_df.sort_values(by='author_node_id')\n",
    "# Exclude columns AUTHOR_SID, AUTHOR_NODE_ID\n",
    "author_x_columns = list(filter(lambda x: x not in ('author_id', 'author_node_id'), sorted_author_df.columns))\n",
    "# Convert types\n",
    "author_x = sorted_author_df[author_x_columns].astype('float32').values\n",
    "\n",
    "# Normalize X using std scaler\n",
    "author_x = StandardScaler().fit_transform(author_x)"
   ]
  },
  {
   "cell_type": "markdown",
   "id": "8mbn1x9AvWA-",
   "metadata": {
    "id": "8mbn1x9AvWA-"
   },
   "source": [
    "### Edge index for edge: **(author, publishes, article)**"
   ]
  },
  {
   "cell_type": "code",
   "execution_count": 13,
   "id": "8dLiq1tZviaE",
   "metadata": {
    "id": "8dLiq1tZviaE"
   },
   "outputs": [],
   "source": [
    "# Add edge index: for edges corresponding to authors publishing articles (author to article connection)\n",
    "author_node_ids = torch.from_numpy(published_df['author_node_id'].values)\n",
    "article_node_ids = torch.from_numpy(published_df['article_node_id'].values)\n",
    "edge_index_publishes = torch.stack([author_node_ids, article_node_ids], dim=0)\n",
    "edge_time_publishes = torch.from_numpy(np.array(published_df['time'].values.astype('int64')))"
   ]
  },
  {
   "cell_type": "markdown",
   "id": "6oizfRnsvjYx",
   "metadata": {
    "id": "6oizfRnsvjYx"
   },
   "source": [
    "### Edge index for edge: **(author, co_authors, author)**"
   ]
  },
  {
   "cell_type": "code",
   "execution_count": 14,
   "id": "UqXKby3KFhqx",
   "metadata": {
    "id": "UqXKby3KFhqx"
   },
   "outputs": [],
   "source": [
    "# Add edge index: for edges corresponding to authors co-authoring articles (author to author connection)\n",
    "author_node_ids = torch.from_numpy(coauthored_df['author_node_id'].values)\n",
    "coauthor_node_ids = torch.from_numpy(coauthored_df['co_author_node_id'].values)\n",
    "edge_index_co_authors = torch.stack([author_node_ids, coauthor_node_ids], dim=0)\n",
    "edge_time_co_authors = torch.from_numpy(np.array(coauthored_df['time'].values.astype('int64')))"
   ]
  },
  {
   "cell_type": "markdown",
   "id": "mi3u5Xx0v5DB",
   "metadata": {
    "id": "mi3u5Xx0v5DB"
   },
   "source": [
    "### Data object"
   ]
  },
  {
   "cell_type": "markdown",
   "id": "PXBEBlOCFn34",
   "metadata": {
    "id": "PXBEBlOCFn34"
   },
   "source": [
    "After generating the initial node feature Numpy array, we create an instance of `HeteroData` class with two types of nodes corresponding to authors and articles and an edge denoting authors publishing articles.\n",
    "\n",
    "*Note: We also need to make sure to add the reverse edges from authors to aritcles in order to let a GNN be able to pass messages in both directions. We can leverage the `T.ToUndirected()` transform for this from PyG.*"
   ]
  },
  {
   "cell_type": "code",
   "execution_count": 15,
   "id": "0h15yaEpFo8x",
   "metadata": {
    "colab": {
     "base_uri": "https://localhost:8080/"
    },
    "id": "0h15yaEpFo8x",
    "outputId": "ced758f7-4fdf-4acb-b1d7-46f103116f67"
   },
   "outputs": [
    {
     "data": {
      "text/plain": [
       "HeteroData(\n",
       "  article={\n",
       "    node_id=[55076],\n",
       "    x=[55076, 771],\n",
       "  },\n",
       "  author={\n",
       "    node_id=[7734],\n",
       "    x=[7734, 1],\n",
       "  },\n",
       "  (author, publishes, article)={\n",
       "    edge_index=[2, 124874],\n",
       "    time=[124874],\n",
       "  },\n",
       "  (author, co_authors, author)={\n",
       "    edge_index=[2, 28210],\n",
       "    time=[28210],\n",
       "  },\n",
       "  (article, rev_publishes, author)={\n",
       "    edge_index=[2, 124874],\n",
       "    time=[124874],\n",
       "  }\n",
       ")"
      ]
     },
     "execution_count": 15,
     "metadata": {},
     "output_type": "execute_result"
    }
   ],
   "source": [
    "data = HeteroData()\n",
    "\n",
    "# Save node indices:\n",
    "data[\"article\"].node_id = torch.arange(len(unique_articles))\n",
    "data[\"author\"].node_id = torch.arange(len(unique_authors))\n",
    "# Add edge 'published'\n",
    "data[\"author\", \"publishes\", \"article\"].edge_index = edge_index_publishes\n",
    "data[\"author\", \"publishes\", \"article\"].time = edge_time_publishes\n",
    "# Add edge 'co_authors'\n",
    "data[('author', 'co_authors', 'author')].edge_index = edge_index_co_authors\n",
    "data[('author', 'co_authors', 'author')].time = edge_time_co_authors\n",
    "\n",
    "# Set X for article\n",
    "data[\"article\"].x = torch.from_numpy(article_x)\n",
    "# Set X for author\n",
    "data[\"author\"].x = torch.from_numpy(author_x)\n",
    "\n",
    "# Reverse edges\n",
    "data = T.ToUndirected(reduce='min')(data)\n",
    "data"
   ]
  },
  {
   "cell_type": "code",
   "execution_count": 16,
   "id": "tg8fjdOJn3QS",
   "metadata": {
    "colab": {
     "base_uri": "https://localhost:8080/"
    },
    "id": "tg8fjdOJn3QS",
    "outputId": "4164664b-14bc-49f3-95bb-95e7c34de885"
   },
   "outputs": [
    {
     "data": {
      "text/plain": [
       "{'article': tensor([[-0.1702, -0.1677, -0.0535,  ..., -1.5174,  0.4311,  1.0342],\n",
       "         [ 0.7226, -0.1677, -0.1208,  ..., -0.0900,  2.0186,  0.2434],\n",
       "         [ 0.2148, -0.1677, -0.1208,  ...,  0.1781,  1.6704, -0.6084],\n",
       "         ...,\n",
       "         [-0.1976, -0.1677,  0.0035,  ..., -0.7453, -0.5125, -0.5808],\n",
       "         [-0.1976, -0.1677, -0.1829,  ...,  0.4680,  0.8709,  1.5607],\n",
       "         [-0.1976, -0.1677, -0.0820,  ...,  0.6162,  0.6727,  0.2975]]),\n",
       " 'author': tensor([[0.],\n",
       "         [0.],\n",
       "         [0.],\n",
       "         ...,\n",
       "         [0.],\n",
       "         [0.],\n",
       "         [0.]])}"
      ]
     },
     "execution_count": 16,
     "metadata": {},
     "output_type": "execute_result"
    }
   ],
   "source": [
    "data.x_dict"
   ]
  },
  {
   "cell_type": "markdown",
   "id": "dQtlX8gLwj77",
   "metadata": {
    "id": "dQtlX8gLwj77"
   },
   "source": [
    "## Heterogeneous graph batching"
   ]
  },
  {
   "cell_type": "markdown",
   "id": "_vuTOx9IxDOs",
   "metadata": {
    "id": "_vuTOx9IxDOs"
   },
   "source": [
    "###  Split data to train, test"
   ]
  },
  {
   "cell_type": "code",
   "execution_count": 17,
   "id": "u-fOB4GRYCC4",
   "metadata": {
    "id": "u-fOB4GRYCC4"
   },
   "outputs": [],
   "source": [
    "edge_types = data.metadata()[1]\n",
    "\n",
    "time = data[target_edge_type].time\n",
    "perm = time.argsort()\n",
    "# Find minimum time in `co_authors` edge that still resides in test set\n",
    "test_min_time = time[perm[int(num_train * perm.numel()):]].min()\n",
    "\n",
    "for edge_type in edge_types:\n",
    "  # Define the training dataset for all edge types\n",
    "  time = data[edge_type].time\n",
    "  data[edge_type].train_mask = time < test_min_time\n",
    "  data[edge_type].train_edge_index = data[edge_type].edge_index[:, data[edge_type].train_mask]\n",
    "  data[edge_type].train_edge_time = time[data[edge_type].train_mask]\n",
    "\n",
    "data.train_edge_index_dict = {edge_type: data[edge_type].train_edge_index for edge_type in edge_types}\n",
    "\n",
    "# Add test dataset for `co_authors` edge type\n",
    "data[target_edge_type].test_mask = data[target_edge_type].time >= test_min_time\n",
    "data[target_edge_type].test_pos_edge_index = data[target_edge_type].edge_index[:, data[target_edge_type].test_mask]\n",
    "data[target_edge_type].test_edge_time = data[target_edge_type].time[data[target_edge_type].test_mask]\n",
    "\n",
    "\n",
    "# Negative sampling\n",
    "test_neg_edge_index_i, test_neg_edge_index_j, test_neg_edge_index_k = structured_negative_sampling(\n",
    "    edge_index=data[target_edge_type].test_pos_edge_index,\n",
    "    num_nodes=data[target_node_type].num_nodes)\n",
    "test_neg_edge_index = torch.stack([test_neg_edge_index_i, test_neg_edge_index_k], dim=0)\n",
    "# Add negative samples to test data\n",
    "data[target_edge_type].test_neg_edge_index = test_neg_edge_index\n"
   ]
  },
  {
   "cell_type": "markdown",
   "id": "D52ZyYck73fh",
   "metadata": {
    "id": "D52ZyYck73fh"
   },
   "source": [
    "### Data loader (mini-batching)\n",
    "\n",
    "After splitting the data, we need to take into account that we are dealing with very large graphs. A simple load of data to GPU will already return `CUDA out of memory` exception. Hence, we use mini-batching to appropriately split the edges (regardless if we are in training, testing or validation phase). This process will separate the large graph into multiple smaller graphs and process them independently, thus fixing the out-of-memory exceptions.\n"
   ]
  },
  {
   "cell_type": "markdown",
   "id": "04vUews17zy8",
   "metadata": {
    "id": "04vUews17zy8"
   },
   "source": [
    "## Model training\n",
    "\n",
    "\n",
    "---\n",
    "\n"
   ]
  },
  {
   "cell_type": "markdown",
   "id": "kmt2IwuC8C-S",
   "metadata": {
    "id": "kmt2IwuC8C-S"
   },
   "source": [
    "### Model definition\n",
    "\n",
    "Our model consists of two parts, first we must encode our nodes using the message passing algorithm exploiting both (author, co-authors, author) and (author, publishes, article) edges and corresponding node features. The second part decodes the edges that the model outputs as its prediction using two simple, fully-connected, linear layers.\n",
    "\n",
    "**TODO:**\n",
    "- Promote EUTOPIA-an collaborations or even restrict to EUTOPIA-an collaborations."
   ]
  },
  {
   "cell_type": "code",
   "execution_count": 57,
   "id": "FwVf1kDPLnFH",
   "metadata": {
    "id": "FwVf1kDPLnFH"
   },
   "outputs": [],
   "source": [
    "from typing import Optional, Union\n",
    "from torch_geometric.nn import HANConv\n",
    "\n",
    "import torch\n",
    "import torch.nn.functional as F\n",
    "from torch import Tensor\n",
    "from torch.nn import Embedding, ModuleList\n",
    "from torch.nn.modules.loss import _Loss\n",
    "\n",
    "from torch_geometric.nn.conv import GATv2Conv,GCNConv, SAGEConv\n",
    "from torch_geometric.typing import Adj, OptTensor\n",
    "from torch_geometric.utils import is_sparse, to_edge_index\n",
    "from torch_geometric.nn.models.lightgcn import BPRLoss\n",
    "\n",
    "class Encoder(torch.nn.Module):\n",
    "    def __init__(self, hidden_channels: int, \n",
    "                 num_layers: int = 4):\n",
    "        super().__init__()\n",
    "\n",
    "        self.num_layers = num_layers\n",
    "        # Define multiple HANConv layers:\n",
    "        self.conv_layers = ModuleList([\n",
    "            HANConv(\n",
    "                in_channels=(-1),\n",
    "                out_channels=hidden_channels,\n",
    "                metadata=data.metadata(),\n",
    "                heads=4,\n",
    "                dropout=0.5\n",
    "            )\n",
    "            for i in range(self.num_layers)\n",
    "        ])\n",
    "\n",
    "        # Linear layers (for skips)\n",
    "        self.linear_layers = dict(\n",
    "            author=ModuleList([\n",
    "                Linear(-1, hidden_channels)\n",
    "                for i in range(self.num_layers)\n",
    "            ]),\n",
    "            article=ModuleList([\n",
    "                Linear(-1, hidden_channels)\n",
    "                for i in range(self.num_layers)\n",
    "                ])\n",
    "        )\n",
    "        \n",
    "        self.bn_layers = dict(\n",
    "            author=ModuleList([\n",
    "                torch.nn.BatchNorm1d(hidden_channels)\n",
    "                for i in range(self.num_layers)\n",
    "            ]),\n",
    "            article=ModuleList([\n",
    "                torch.nn.BatchNorm1d(hidden_channels)\n",
    "                for i in range(self.num_layers)\n",
    "                ])\n",
    "        )\n",
    "\n",
    "        # Initialize the alpha\n",
    "        alpha = torch.ones(self.num_layers + 1) / (self.num_layers + 1)\n",
    "\n",
    "        # Register alpha as a parameter if you want it to be learnable:\n",
    "        self.alpha = alpha # nn.Parameter(alpha, requires_grad=True)   \n",
    "\n",
    "\n",
    "    def forward(self, x_dict, edge_index_dict):\n",
    "        out_dict = {\n",
    "            ntype: torch.zeros(x.shape[0], self.conv_layers[0].out_channels, device=x.device)\n",
    "            for ntype, x in x_dict.items()\n",
    "        }\n",
    "        \n",
    "        # Keep track of current hidden states\n",
    "        h_dict = x_dict\n",
    "        \n",
    "        for i in range(self.num_layers):\n",
    "            # Apply HANConv\n",
    "            new_h_dict = self.conv_layers[i](h_dict, edge_index_dict)\n",
    "        \n",
    "            # Add skip connection\n",
    "            for ntype in new_h_dict:\n",
    "                new_h_dict[ntype] = new_h_dict[ntype] + self.linear_layers[ntype][i](h_dict[ntype])\n",
    "        \n",
    "            # BatchNorm\n",
    "            for ntype in new_h_dict:\n",
    "                new_h_dict[ntype] = self.bn_layers[ntype][i](new_h_dict[ntype])\n",
    "\n",
    "            # Accumulate in out_dict with alpha weighting\n",
    "            for ntype in out_dict:\n",
    "                out_dict[ntype] += self.alpha[i] * new_h_dict[ntype]\n",
    "        \n",
    "            # Update hidden state for next layer\n",
    "            h_dict = new_h_dict\n",
    "        \n",
    "        return out_dict\n",
    "\n",
    "\n",
    "class Decoder(torch.nn.Module):\n",
    "    def __init__(self):\n",
    "        super().__init__()\n",
    "\n",
    "    def forward(self, z, edge_label_index):\n",
    "        out_src = z[edge_label_index[0]]\n",
    "        out_dst = z[edge_label_index[1]]\n",
    "\n",
    "        # Calculate the dot product\n",
    "        return (out_src * out_dst).sum(dim=-1)\n",
    "\n",
    "class CollaborationRecommender(torch.nn.Module):\n",
    "    def __init__(self,\n",
    "                 hidden_channels: int,\n",
    "                 k: int,\n",
    "                 alpha: Optional[Union[float, Tensor]] = None):\n",
    "        super().__init__()\n",
    "\n",
    "        self.hidden_channels = hidden_channels\n",
    "        self.k = k\n",
    "\n",
    "        self.encoder = Encoder(hidden_channels=hidden_channels)\n",
    "        self.decoder = Decoder()\n",
    "\n",
    "\n",
    "    def forward(self,\n",
    "                x_dict,\n",
    "                edge_index_dict,\n",
    "                edge_label_index: OptTensor = None):\n",
    "\n",
    "        # Encode authors\n",
    "        z_dict = self.encoder(x_dict, edge_index_dict)\n",
    "        z = z_dict['author']\n",
    "        # Decode edges\n",
    "        return self.decoder(z, edge_label_index)\n",
    "\n",
    "    def recommend(self,\n",
    "                  x_dict,\n",
    "                  edge_index_dict,\n",
    "                  author_sid: str,\n",
    "                  k: int = 10):\n",
    "\n",
    "        # Get all embeddings\n",
    "        out_src = out_dst = self.encoder(x_dict, edge_index_dict)\n",
    "\n",
    "        # Get the author id\n",
    "        author_id = author_id_map[author_sid]\n",
    "        # Get the author embedding\n",
    "        out_src = out_src[author_id]\n",
    "\n",
    "        # Calculate the dot product\n",
    "        pred = out_src @ out_dst.t()\n",
    "        # Get the top k recommendations\n",
    "        top_index = pred.topk(k, dim=-1, sorted=True).indices\n",
    "\n",
    "        # Decode top k recommendations to author SIDs\n",
    "        top_author_sids = [author_sid_map[int(i)] for i in top_index]\n",
    "\n",
    "        return top_author_sids\n",
    "\n",
    "\n",
    "    def recommendation_loss(self,\n",
    "                            x_dict,\n",
    "                            edge_index_dict,\n",
    "                            pos_edge_rank,\n",
    "                            neg_edge_rank,\n",
    "                            node_id: Optional[Tensor] = None,\n",
    "                            lambda_reg: float = 1e-4):\n",
    "        loss_fn = BPRLoss(lambda_reg)\n",
    "        # Get the embedding\n",
    "        z_dict = self.encoder(x_dict, edge_index_dict)\n",
    "        emb = z_dict['author']\n",
    "        # Get the loss\n",
    "        emb = emb if node_id is None else emb[node_id]\n",
    "        return loss_fn(pos_edge_rank, neg_edge_rank, emb)\n",
    "\n",
    "\n",
    "model = CollaborationRecommender(hidden_channels=64,\n",
    "                                 k=num_recommendations).to(device)\n",
    "\n",
    "# Transfer to device\n",
    "data = data.to(device)\n",
    "optimizer = torch.optim.Adam(params=model.parameters(), lr=1e-3)\n",
    "scheduler = torch.optim.lr_scheduler.ReduceLROnPlateau(optimizer=optimizer, mode='min', factor=0.5, patience=4)\n",
    "# scheduler = torch.optim.lr_scheduler.StepLR(optimizer, step_size=5, gamma=0.1)"
   ]
  },
  {
   "cell_type": "markdown",
   "id": "hfuXSrL68FXZ",
   "metadata": {
    "id": "hfuXSrL68FXZ"
   },
   "source": [
    "### Training the model\n",
    "\n",
    "Our model is then trained through a number of epochs, where in each epoch we perform mini-batching to avoid memory issues on GPU.\n"
   ]
  },
  {
   "cell_type": "code",
   "execution_count": 19,
   "id": "JNK2LtWgdxLY",
   "metadata": {
    "id": "JNK2LtWgdxLY"
   },
   "outputs": [],
   "source": [
    "import pytest\n",
    "from torch_geometric.metrics.link_pred import LinkPredMetric\n",
    "class LinkPredHitRate(LinkPredMetric):\n",
    "    higher_is_better: bool = True\n",
    "\n",
    "    def _compute(self, pred_isin_mat: Tensor, y_count: Tensor) -> Tensor:\n",
    "        return pred_isin_mat.sum(dim=-1) >= 1\n",
    "\n",
    "def test_hit_rate():\n",
    "    pred_mat = torch.tensor([[1, 0], [1, 2], [0, 2], [0, 1]])\n",
    "    edge_label_index = torch.tensor([[0, 0, 2, 2, 3], [0, 1, 2, 1, 2]])\n",
    "\n",
    "    metric = LinkPredHitRate(k=2)\n",
    "    metric.update(pred_mat, edge_label_index)\n",
    "    result = metric.compute()\n",
    "\n",
    "    assert result == pytest.approx((2) / 3)\n",
    "\n",
    "test_hit_rate()\n",
    "\n",
    "def train():\n",
    "    model.train()\n",
    "    # Fetch existing graph edges as positive samples\n",
    "    pos_edge_index = data[target_edge_type].train_edge_index\n",
    "    # Perform structured negative sampling, meaning that for every positive sample,\n",
    "    # there will be another negative sample at the same index/position\n",
    "    # - this structure is expected in BPR loss calculation\n",
    "    neg_edge_index_i, neg_edge_index_j, neg_edge_index_k = structured_negative_sampling(\n",
    "        edge_index=pos_edge_index,\n",
    "        num_nodes=data[target_node_type].num_nodes)\n",
    "    # Structure negative sampling returns both positive and negative edges, so\n",
    "    # we need to concatenate appropriate nodes to get the negative edges\n",
    "    neg_edge_index = torch.stack([neg_edge_index_i, neg_edge_index_k], dim=0)\n",
    "\n",
    "    optimizer.zero_grad()\n",
    "\n",
    "    # Concatenate edge label indices into a single edge label index\n",
    "    edge_label_index = torch.cat([\n",
    "        pos_edge_index,\n",
    "        neg_edge_index,\n",
    "    ], dim=1)\n",
    "\n",
    "    pos_edge_rank, neg_edge_rank = model(x_dict=data.x_dict,\n",
    "                                         edge_index_dict=data.train_edge_index_dict,\n",
    "                                         edge_label_index=edge_label_index).chunk(2)\n",
    "\n",
    "    # Calculate BPR loss\n",
    "    loss = model.recommendation_loss(x_dict=data.x_dict,\n",
    "                                     edge_index_dict=data.train_edge_index_dict,\n",
    "                                     pos_edge_rank=pos_edge_rank,\n",
    "                                     neg_edge_rank=neg_edge_rank,\n",
    "                                     node_id=edge_label_index.unique())\n",
    "\n",
    "    loss.backward()\n",
    "    optimizer.step()\n",
    "\n",
    "    total_loss = float(loss) * pos_edge_rank.numel()\n",
    "    total_examples = pos_edge_rank.numel()\n",
    "\n",
    "    # Cleanup\n",
    "    del pos_edge_rank, neg_edge_rank\n",
    "    torch.cuda.empty_cache()\n",
    "\n",
    "    return total_loss / total_examples\n",
    "\n",
    "\n",
    "@torch.no_grad()\n",
    "def test():\n",
    "    model.eval()\n",
    "\n",
    "    pos_edge_index = data[target_edge_type].test_pos_edge_index\n",
    "    neg_edge_index = data[target_edge_type].test_neg_edge_index\n",
    "\n",
    "    # Concatenate edge label indices into a single edge label index\n",
    "    edge_label_index = torch.cat([\n",
    "        pos_edge_index,\n",
    "        neg_edge_index,\n",
    "    ], dim=1)\n",
    "\n",
    "    # We encode the training edge index to get the embeddings based on the training graph\n",
    "    # structure and then use those embeddings to predict unseen edges\n",
    "    # TODO: Check if this makes sense\n",
    "    pos_edge_rank, neg_edge_rank = model(x_dict=data.x_dict,\n",
    "                                         edge_index_dict=data.train_edge_index_dict,\n",
    "                                         edge_label_index=edge_label_index).chunk(2)\n",
    "\n",
    "    # Calculate BPR loss\n",
    "    loss = model.recommendation_loss(x_dict=data.x_dict,\n",
    "                                     edge_index_dict=data.train_edge_index_dict,\n",
    "                                     pos_edge_rank=pos_edge_rank,\n",
    "                                     neg_edge_rank=neg_edge_rank,\n",
    "                                     node_id=edge_label_index.unique())\n",
    "\n",
    "    total_loss = float(loss) * pos_edge_rank.numel()\n",
    "    total_examples = pos_edge_rank.numel()\n",
    "\n",
    "    # Cleanup\n",
    "    del pos_edge_rank, neg_edge_rank\n",
    "    torch.cuda.empty_cache()\n",
    "\n",
    "    return total_loss / total_examples\n",
    "\n",
    "@torch.no_grad()\n",
    "def evaluate(k:int=20):\n",
    "    model.eval()\n",
    "    z_dict = model.encoder(data.x_dict, data.train_edge_index_dict)\n",
    "    embs = z_dict[target_node_type].to(device)\n",
    "\n",
    "    result = {\n",
    "        'precision@k': LinkPredPrecision(k=k).to(device),\n",
    "        'recall@k': LinkPredRecall(k=k).to(device),\n",
    "        'map@k': LinkPredMAP(k=k).to(device),\n",
    "        'mrr@k': LinkPredMRR(k=k).to(device),\n",
    "        'ndcg@k': LinkPredNDCG(k=k).to(device),\n",
    "        'hit_rate@k': LinkPredHitRate(k=k).to(device)\n",
    "        }\n",
    "\n",
    "    # Calculate distance between embeddings\n",
    "    logits = embs @ embs.T\n",
    "\n",
    "    # Exclude training edges\n",
    "    logits[data[target_edge_type].train_edge_index[0], data[target_edge_type].train_edge_index[1]] = float('-inf')\n",
    "\n",
    "    # Gather ground truth data\n",
    "    ground_truth = data[target_edge_type].test_pos_edge_index\n",
    "\n",
    "    # Get top-k recommendations for each node\n",
    "    top_k_index = torch.topk(logits, k=k, dim=1).indices\n",
    "\n",
    "    # Update performance metrics\n",
    "    for metric in result.keys():\n",
    "      result[metric].update(\n",
    "          pred_index_mat=top_k_index,\n",
    "          edge_label_index=ground_truth)\n",
    "\n",
    "    # Cleanup\n",
    "    del embs, logits, ground_truth, top_k_index\n",
    "    torch.cuda.empty_cache()\n",
    "\n",
    "    return result"
   ]
  },
  {
   "cell_type": "code",
   "execution_count": 58,
   "id": "NQS0tN81GTEF",
   "metadata": {
    "colab": {
     "base_uri": "https://localhost:8080/"
    },
    "id": "NQS0tN81GTEF",
    "outputId": "45012f53-fe8e-4b9b-c236-8e12e6b9dbeb"
   },
   "outputs": [
    {
     "name": "stderr",
     "output_type": "stream",
     "text": [
      "  2%|▊                                          | 2/100 [00:10<08:20,  5.11s/it]"
     ]
    },
    {
     "name": "stdout",
     "output_type": "stream",
     "text": [
      "epoch: 2.0000, train_loss_bpr: 0.1052, test_loss_bpr: 1.7175, precision@k: 0.0148, recall@k: 0.0284, map@k: 0.0105, mrr@k: 0.0286, ndcg@k: 0.0218, hit_rate@k: 0.0843\n"
     ]
    },
    {
     "name": "stderr",
     "output_type": "stream",
     "text": [
      "  4%|█▋                                         | 4/100 [00:19<07:30,  4.70s/it]"
     ]
    },
    {
     "name": "stdout",
     "output_type": "stream",
     "text": [
      "epoch: 4.0000, train_loss_bpr: 0.0681, test_loss_bpr: 1.6173, precision@k: 0.0169, recall@k: 0.0295, map@k: 0.0112, mrr@k: 0.0307, ndcg@k: 0.0232, hit_rate@k: 0.0918\n"
     ]
    },
    {
     "name": "stderr",
     "output_type": "stream",
     "text": [
      "  6%|██▌                                        | 6/100 [00:34<10:35,  6.76s/it]"
     ]
    },
    {
     "name": "stdout",
     "output_type": "stream",
     "text": [
      "epoch: 6.0000, train_loss_bpr: 0.0581, test_loss_bpr: 1.5047, precision@k: 0.0180, recall@k: 0.0302, map@k: 0.0135, mrr@k: 0.0394, ndcg@k: 0.0265, hit_rate@k: 0.0960\n"
     ]
    },
    {
     "name": "stderr",
     "output_type": "stream",
     "text": [
      "  8%|███▍                                       | 8/100 [01:14<21:04, 13.75s/it]"
     ]
    },
    {
     "name": "stdout",
     "output_type": "stream",
     "text": [
      "epoch: 8.0000, train_loss_bpr: 0.0460, test_loss_bpr: 1.4032, precision@k: 0.0197, recall@k: 0.0375, map@k: 0.0150, mrr@k: 0.0391, ndcg@k: 0.0294, hit_rate@k: 0.1043\n"
     ]
    },
    {
     "name": "stderr",
     "output_type": "stream",
     "text": [
      " 10%|████▏                                     | 10/100 [01:43<20:48, 13.88s/it]"
     ]
    },
    {
     "name": "stdout",
     "output_type": "stream",
     "text": [
      "epoch: 10.0000, train_loss_bpr: 0.0403, test_loss_bpr: 1.3098, precision@k: 0.0201, recall@k: 0.0371, map@k: 0.0145, mrr@k: 0.0353, ndcg@k: 0.0285, hit_rate@k: 0.1077\n"
     ]
    },
    {
     "name": "stderr",
     "output_type": "stream",
     "text": [
      " 12%|█████                                     | 12/100 [01:52<13:11,  8.99s/it]"
     ]
    },
    {
     "name": "stdout",
     "output_type": "stream",
     "text": [
      "epoch: 12.0000, train_loss_bpr: 0.0364, test_loss_bpr: 1.2404, precision@k: 0.0210, recall@k: 0.0388, map@k: 0.0170, mrr@k: 0.0547, ndcg@k: 0.0330, hit_rate@k: 0.1119\n"
     ]
    },
    {
     "name": "stderr",
     "output_type": "stream",
     "text": [
      " 14%|█████▉                                    | 14/100 [02:26<20:09, 14.07s/it]"
     ]
    },
    {
     "name": "stdout",
     "output_type": "stream",
     "text": [
      "epoch: 14.0000, train_loss_bpr: 0.0328, test_loss_bpr: 1.1827, precision@k: 0.0206, recall@k: 0.0383, map@k: 0.0175, mrr@k: 0.0524, ndcg@k: 0.0329, hit_rate@k: 0.1110\n"
     ]
    },
    {
     "name": "stderr",
     "output_type": "stream",
     "text": [
      " 16%|██████▋                                   | 16/100 [02:44<15:22, 10.98s/it]"
     ]
    },
    {
     "name": "stdout",
     "output_type": "stream",
     "text": [
      "epoch: 16.0000, train_loss_bpr: 0.0312, test_loss_bpr: 1.1352, precision@k: 0.0207, recall@k: 0.0402, map@k: 0.0163, mrr@k: 0.0435, ndcg@k: 0.0315, hit_rate@k: 0.1119\n"
     ]
    },
    {
     "name": "stderr",
     "output_type": "stream",
     "text": [
      " 18%|███████▌                                  | 18/100 [02:52<10:20,  7.57s/it]"
     ]
    },
    {
     "name": "stdout",
     "output_type": "stream",
     "text": [
      "epoch: 18.0000, train_loss_bpr: 0.0260, test_loss_bpr: 1.0900, precision@k: 0.0208, recall@k: 0.0411, map@k: 0.0189, mrr@k: 0.0540, ndcg@k: 0.0348, hit_rate@k: 0.1135\n"
     ]
    },
    {
     "name": "stderr",
     "output_type": "stream",
     "text": [
      " 20%|████████▍                                 | 20/100 [03:01<07:54,  5.93s/it]"
     ]
    },
    {
     "name": "stdout",
     "output_type": "stream",
     "text": [
      "epoch: 20.0000, train_loss_bpr: 0.0266, test_loss_bpr: 1.0518, precision@k: 0.0211, recall@k: 0.0432, map@k: 0.0188, mrr@k: 0.0560, ndcg@k: 0.0353, hit_rate@k: 0.1194\n"
     ]
    },
    {
     "name": "stderr",
     "output_type": "stream",
     "text": [
      " 22%|█████████▏                                | 22/100 [03:10<06:45,  5.20s/it]"
     ]
    },
    {
     "name": "stdout",
     "output_type": "stream",
     "text": [
      "epoch: 22.0000, train_loss_bpr: 0.0260, test_loss_bpr: 1.0222, precision@k: 0.0207, recall@k: 0.0418, map@k: 0.0174, mrr@k: 0.0462, ndcg@k: 0.0329, hit_rate@k: 0.1160\n"
     ]
    },
    {
     "name": "stderr",
     "output_type": "stream",
     "text": [
      " 24%|██████████                                | 24/100 [03:24<07:34,  5.98s/it]"
     ]
    },
    {
     "name": "stdout",
     "output_type": "stream",
     "text": [
      "epoch: 24.0000, train_loss_bpr: 0.0253, test_loss_bpr: 0.9971, precision@k: 0.0213, recall@k: 0.0428, map@k: 0.0178, mrr@k: 0.0434, ndcg@k: 0.0334, hit_rate@k: 0.1185\n"
     ]
    },
    {
     "name": "stderr",
     "output_type": "stream",
     "text": [
      " 26%|██████████▉                               | 26/100 [03:33<06:30,  5.28s/it]"
     ]
    },
    {
     "name": "stdout",
     "output_type": "stream",
     "text": [
      "epoch: 26.0000, train_loss_bpr: 0.0221, test_loss_bpr: 0.9812, precision@k: 0.0215, recall@k: 0.0444, map@k: 0.0173, mrr@k: 0.0423, ndcg@k: 0.0332, hit_rate@k: 0.1194\n"
     ]
    },
    {
     "name": "stderr",
     "output_type": "stream",
     "text": [
      " 28%|███████████▊                              | 28/100 [03:41<05:45,  4.81s/it]"
     ]
    },
    {
     "name": "stdout",
     "output_type": "stream",
     "text": [
      "epoch: 28.0000, train_loss_bpr: 0.0198, test_loss_bpr: 0.9683, precision@k: 0.0215, recall@k: 0.0434, map@k: 0.0177, mrr@k: 0.0472, ndcg@k: 0.0339, hit_rate@k: 0.1185\n"
     ]
    },
    {
     "name": "stderr",
     "output_type": "stream",
     "text": [
      " 30%|████████████▌                             | 30/100 [03:52<05:44,  4.92s/it]"
     ]
    },
    {
     "name": "stdout",
     "output_type": "stream",
     "text": [
      "epoch: 30.0000, train_loss_bpr: 0.0218, test_loss_bpr: 0.9573, precision@k: 0.0220, recall@k: 0.0456, map@k: 0.0179, mrr@k: 0.0429, ndcg@k: 0.0342, hit_rate@k: 0.1227\n"
     ]
    },
    {
     "name": "stderr",
     "output_type": "stream",
     "text": [
      " 32%|█████████████▍                            | 32/100 [04:06<06:53,  6.07s/it]"
     ]
    },
    {
     "name": "stdout",
     "output_type": "stream",
     "text": [
      "epoch: 32.0000, train_loss_bpr: 0.0200, test_loss_bpr: 0.9469, precision@k: 0.0200, recall@k: 0.0454, map@k: 0.0175, mrr@k: 0.0433, ndcg@k: 0.0331, hit_rate@k: 0.1219\n"
     ]
    },
    {
     "name": "stderr",
     "output_type": "stream",
     "text": [
      " 34%|██████████████▎                           | 34/100 [04:17<06:25,  5.84s/it]"
     ]
    },
    {
     "name": "stdout",
     "output_type": "stream",
     "text": [
      "epoch: 34.0000, train_loss_bpr: 0.0184, test_loss_bpr: 0.9380, precision@k: 0.0202, recall@k: 0.0468, map@k: 0.0178, mrr@k: 0.0425, ndcg@k: 0.0334, hit_rate@k: 0.1235\n"
     ]
    },
    {
     "name": "stderr",
     "output_type": "stream",
     "text": [
      " 36%|███████████████                           | 36/100 [04:31<06:42,  6.29s/it]"
     ]
    },
    {
     "name": "stdout",
     "output_type": "stream",
     "text": [
      "epoch: 36.0000, train_loss_bpr: 0.0162, test_loss_bpr: 0.9290, precision@k: 0.0223, recall@k: 0.0491, map@k: 0.0198, mrr@k: 0.0475, ndcg@k: 0.0366, hit_rate@k: 0.1269\n"
     ]
    },
    {
     "name": "stderr",
     "output_type": "stream",
     "text": [
      " 38%|███████████████▉                          | 38/100 [05:11<13:55, 13.47s/it]"
     ]
    },
    {
     "name": "stdout",
     "output_type": "stream",
     "text": [
      "epoch: 38.0000, train_loss_bpr: 0.0166, test_loss_bpr: 0.9193, precision@k: 0.0225, recall@k: 0.0496, map@k: 0.0204, mrr@k: 0.0484, ndcg@k: 0.0373, hit_rate@k: 0.1277\n"
     ]
    },
    {
     "name": "stderr",
     "output_type": "stream",
     "text": [
      " 40%|████████████████▊                         | 40/100 [05:36<12:16, 12.28s/it]"
     ]
    },
    {
     "name": "stdout",
     "output_type": "stream",
     "text": [
      "epoch: 40.0000, train_loss_bpr: 0.0165, test_loss_bpr: 0.9083, precision@k: 0.0229, recall@k: 0.0507, map@k: 0.0208, mrr@k: 0.0492, ndcg@k: 0.0380, hit_rate@k: 0.1294\n"
     ]
    },
    {
     "name": "stderr",
     "output_type": "stream",
     "text": [
      " 42%|█████████████████▋                        | 42/100 [05:45<08:04,  8.36s/it]"
     ]
    },
    {
     "name": "stdout",
     "output_type": "stream",
     "text": [
      "epoch: 42.0000, train_loss_bpr: 0.0181, test_loss_bpr: 0.8988, precision@k: 0.0230, recall@k: 0.0518, map@k: 0.0210, mrr@k: 0.0531, ndcg@k: 0.0387, hit_rate@k: 0.1285\n"
     ]
    },
    {
     "name": "stderr",
     "output_type": "stream",
     "text": [
      " 44%|██████████████████▍                       | 44/100 [05:58<06:50,  7.34s/it]"
     ]
    },
    {
     "name": "stdout",
     "output_type": "stream",
     "text": [
      "epoch: 44.0000, train_loss_bpr: 0.0162, test_loss_bpr: 0.8891, precision@k: 0.0227, recall@k: 0.0527, map@k: 0.0225, mrr@k: 0.0627, ndcg@k: 0.0408, hit_rate@k: 0.1269\n"
     ]
    },
    {
     "name": "stderr",
     "output_type": "stream",
     "text": [
      " 46%|███████████████████▎                      | 46/100 [06:09<05:39,  6.29s/it]"
     ]
    },
    {
     "name": "stdout",
     "output_type": "stream",
     "text": [
      "epoch: 46.0000, train_loss_bpr: 0.0151, test_loss_bpr: 0.8805, precision@k: 0.0227, recall@k: 0.0524, map@k: 0.0212, mrr@k: 0.0500, ndcg@k: 0.0386, hit_rate@k: 0.1260\n"
     ]
    },
    {
     "name": "stderr",
     "output_type": "stream",
     "text": [
      " 48%|████████████████████▏                     | 48/100 [06:48<11:23, 13.15s/it]"
     ]
    },
    {
     "name": "stdout",
     "output_type": "stream",
     "text": [
      "epoch: 48.0000, train_loss_bpr: 0.0151, test_loss_bpr: 0.8751, precision@k: 0.0209, recall@k: 0.0517, map@k: 0.0206, mrr@k: 0.0483, ndcg@k: 0.0372, hit_rate@k: 0.1252\n"
     ]
    },
    {
     "name": "stderr",
     "output_type": "stream",
     "text": [
      " 50%|█████████████████████                     | 50/100 [07:14<10:19, 12.39s/it]"
     ]
    },
    {
     "name": "stdout",
     "output_type": "stream",
     "text": [
      "epoch: 50.0000, train_loss_bpr: 0.0147, test_loss_bpr: 0.8727, precision@k: 0.0225, recall@k: 0.0534, map@k: 0.0227, mrr@k: 0.0633, ndcg@k: 0.0411, hit_rate@k: 0.1260\n"
     ]
    },
    {
     "name": "stderr",
     "output_type": "stream",
     "text": [
      " 52%|█████████████████████▊                    | 52/100 [07:23<06:44,  8.42s/it]"
     ]
    },
    {
     "name": "stdout",
     "output_type": "stream",
     "text": [
      "epoch: 52.0000, train_loss_bpr: 0.0148, test_loss_bpr: 0.8722, precision@k: 0.0228, recall@k: 0.0567, map@k: 0.0232, mrr@k: 0.0626, ndcg@k: 0.0420, hit_rate@k: 0.1311\n"
     ]
    },
    {
     "name": "stderr",
     "output_type": "stream",
     "text": [
      " 54%|██████████████████████▋                   | 54/100 [07:32<05:01,  6.56s/it]"
     ]
    },
    {
     "name": "stdout",
     "output_type": "stream",
     "text": [
      "epoch: 54.0000, train_loss_bpr: 0.0147, test_loss_bpr: 0.8749, precision@k: 0.0227, recall@k: 0.0558, map@k: 0.0237, mrr@k: 0.0624, ndcg@k: 0.0423, hit_rate@k: 0.1294\n"
     ]
    },
    {
     "name": "stderr",
     "output_type": "stream",
     "text": [
      " 56%|███████████████████████▌                  | 56/100 [07:42<04:05,  5.57s/it]"
     ]
    },
    {
     "name": "stdout",
     "output_type": "stream",
     "text": [
      "epoch: 56.0000, train_loss_bpr: 0.0165, test_loss_bpr: 0.8806, precision@k: 0.0231, recall@k: 0.0576, map@k: 0.0226, mrr@k: 0.0505, ndcg@k: 0.0409, hit_rate@k: 0.1319\n"
     ]
    },
    {
     "name": "stderr",
     "output_type": "stream",
     "text": [
      " 58%|████████████████████████▎                 | 58/100 [07:51<03:31,  5.04s/it]"
     ]
    },
    {
     "name": "stdout",
     "output_type": "stream",
     "text": [
      "epoch: 58.0000, train_loss_bpr: 0.0140, test_loss_bpr: 0.8836, precision@k: 0.0230, recall@k: 0.0559, map@k: 0.0213, mrr@k: 0.0452, ndcg@k: 0.0388, hit_rate@k: 0.1285\n"
     ]
    },
    {
     "name": "stderr",
     "output_type": "stream",
     "text": [
      " 60%|█████████████████████████▏                | 60/100 [08:00<03:09,  4.73s/it]"
     ]
    },
    {
     "name": "stdout",
     "output_type": "stream",
     "text": [
      "epoch: 60.0000, train_loss_bpr: 0.0117, test_loss_bpr: 0.8831, precision@k: 0.0232, recall@k: 0.0559, map@k: 0.0216, mrr@k: 0.0456, ndcg@k: 0.0391, hit_rate@k: 0.1302\n"
     ]
    },
    {
     "name": "stderr",
     "output_type": "stream",
     "text": [
      " 62%|██████████████████████████                | 62/100 [08:10<03:12,  5.07s/it]"
     ]
    },
    {
     "name": "stdout",
     "output_type": "stream",
     "text": [
      "epoch: 62.0000, train_loss_bpr: 0.0130, test_loss_bpr: 0.8822, precision@k: 0.0236, recall@k: 0.0575, map@k: 0.0220, mrr@k: 0.0482, ndcg@k: 0.0401, hit_rate@k: 0.1336\n"
     ]
    },
    {
     "name": "stderr",
     "output_type": "stream",
     "text": [
      " 64%|██████████████████████████▉               | 64/100 [08:20<02:58,  4.95s/it]"
     ]
    },
    {
     "name": "stdout",
     "output_type": "stream",
     "text": [
      "epoch: 64.0000, train_loss_bpr: 0.0122, test_loss_bpr: 0.8812, precision@k: 0.0239, recall@k: 0.0583, map@k: 0.0226, mrr@k: 0.0530, ndcg@k: 0.0413, hit_rate@k: 0.1352\n"
     ]
    },
    {
     "name": "stderr",
     "output_type": "stream",
     "text": [
      " 66%|███████████████████████████▋              | 66/100 [08:30<02:46,  4.91s/it]"
     ]
    },
    {
     "name": "stdout",
     "output_type": "stream",
     "text": [
      "epoch: 66.0000, train_loss_bpr: 0.0118, test_loss_bpr: 0.8800, precision@k: 0.0240, recall@k: 0.0599, map@k: 0.0226, mrr@k: 0.0533, ndcg@k: 0.0418, hit_rate@k: 0.1377\n"
     ]
    },
    {
     "name": "stderr",
     "output_type": "stream",
     "text": [
      " 68%|████████████████████████████▌             | 68/100 [08:40<02:36,  4.88s/it]"
     ]
    },
    {
     "name": "stdout",
     "output_type": "stream",
     "text": [
      "epoch: 68.0000, train_loss_bpr: 0.0158, test_loss_bpr: 0.8787, precision@k: 0.0240, recall@k: 0.0587, map@k: 0.0221, mrr@k: 0.0488, ndcg@k: 0.0406, hit_rate@k: 0.1361\n"
     ]
    },
    {
     "name": "stderr",
     "output_type": "stream",
     "text": [
      " 70%|█████████████████████████████▍            | 70/100 [08:49<02:24,  4.80s/it]"
     ]
    },
    {
     "name": "stdout",
     "output_type": "stream",
     "text": [
      "epoch: 70.0000, train_loss_bpr: 0.0134, test_loss_bpr: 0.8775, precision@k: 0.0240, recall@k: 0.0587, map@k: 0.0228, mrr@k: 0.0536, ndcg@k: 0.0416, hit_rate@k: 0.1361\n"
     ]
    },
    {
     "name": "stderr",
     "output_type": "stream",
     "text": [
      " 72%|██████████████████████████████▏           | 72/100 [08:59<02:22,  5.08s/it]"
     ]
    },
    {
     "name": "stdout",
     "output_type": "stream",
     "text": [
      "epoch: 72.0000, train_loss_bpr: 0.0153, test_loss_bpr: 0.8767, precision@k: 0.0240, recall@k: 0.0587, map@k: 0.0221, mrr@k: 0.0488, ndcg@k: 0.0406, hit_rate@k: 0.1361\n"
     ]
    },
    {
     "name": "stderr",
     "output_type": "stream",
     "text": [
      " 74%|███████████████████████████████           | 74/100 [09:09<02:05,  4.85s/it]"
     ]
    },
    {
     "name": "stdout",
     "output_type": "stream",
     "text": [
      "epoch: 74.0000, train_loss_bpr: 0.0125, test_loss_bpr: 0.8762, precision@k: 0.0241, recall@k: 0.0604, map@k: 0.0229, mrr@k: 0.0538, ndcg@k: 0.0421, hit_rate@k: 0.1377\n"
     ]
    },
    {
     "name": "stderr",
     "output_type": "stream",
     "text": [
      " 76%|███████████████████████████████▉          | 76/100 [09:19<02:00,  5.01s/it]"
     ]
    },
    {
     "name": "stdout",
     "output_type": "stream",
     "text": [
      "epoch: 76.0000, train_loss_bpr: 0.0152, test_loss_bpr: 0.8758, precision@k: 0.0240, recall@k: 0.0596, map@k: 0.0228, mrr@k: 0.0537, ndcg@k: 0.0418, hit_rate@k: 0.1369\n"
     ]
    },
    {
     "name": "stderr",
     "output_type": "stream",
     "text": [
      " 78%|████████████████████████████████▊         | 78/100 [09:29<01:46,  4.83s/it]"
     ]
    },
    {
     "name": "stdout",
     "output_type": "stream",
     "text": [
      "epoch: 78.0000, train_loss_bpr: 0.0121, test_loss_bpr: 0.8754, precision@k: 0.0240, recall@k: 0.0587, map@k: 0.0221, mrr@k: 0.0488, ndcg@k: 0.0406, hit_rate@k: 0.1361\n"
     ]
    },
    {
     "name": "stderr",
     "output_type": "stream",
     "text": [
      " 80%|█████████████████████████████████▌        | 80/100 [09:38<01:33,  4.68s/it]"
     ]
    },
    {
     "name": "stdout",
     "output_type": "stream",
     "text": [
      "epoch: 80.0000, train_loss_bpr: 0.0122, test_loss_bpr: 0.8750, precision@k: 0.0241, recall@k: 0.0597, map@k: 0.0228, mrr@k: 0.0536, ndcg@k: 0.0419, hit_rate@k: 0.1369\n"
     ]
    },
    {
     "name": "stderr",
     "output_type": "stream",
     "text": [
      " 82%|██████████████████████████████████▍       | 82/100 [09:48<01:27,  4.88s/it]"
     ]
    },
    {
     "name": "stdout",
     "output_type": "stream",
     "text": [
      "epoch: 82.0000, train_loss_bpr: 0.0116, test_loss_bpr: 0.8747, precision@k: 0.0241, recall@k: 0.0597, map@k: 0.0222, mrr@k: 0.0489, ndcg@k: 0.0409, hit_rate@k: 0.1369\n"
     ]
    },
    {
     "name": "stderr",
     "output_type": "stream",
     "text": [
      " 84%|███████████████████████████████████▎      | 84/100 [09:57<01:16,  4.77s/it]"
     ]
    },
    {
     "name": "stdout",
     "output_type": "stream",
     "text": [
      "epoch: 84.0000, train_loss_bpr: 0.0122, test_loss_bpr: 0.8745, precision@k: 0.0240, recall@k: 0.0588, map@k: 0.0227, mrr@k: 0.0536, ndcg@k: 0.0416, hit_rate@k: 0.1361\n"
     ]
    },
    {
     "name": "stderr",
     "output_type": "stream",
     "text": [
      " 86%|████████████████████████████████████      | 86/100 [10:07<01:06,  4.74s/it]"
     ]
    },
    {
     "name": "stdout",
     "output_type": "stream",
     "text": [
      "epoch: 86.0000, train_loss_bpr: 0.0121, test_loss_bpr: 0.8744, precision@k: 0.0241, recall@k: 0.0597, map@k: 0.0228, mrr@k: 0.0536, ndcg@k: 0.0419, hit_rate@k: 0.1369\n"
     ]
    },
    {
     "name": "stderr",
     "output_type": "stream",
     "text": [
      " 88%|████████████████████████████████████▉     | 88/100 [10:16<00:57,  4.80s/it]"
     ]
    },
    {
     "name": "stdout",
     "output_type": "stream",
     "text": [
      "epoch: 88.0000, train_loss_bpr: 0.0152, test_loss_bpr: 0.8743, precision@k: 0.0241, recall@k: 0.0597, map@k: 0.0228, mrr@k: 0.0537, ndcg@k: 0.0419, hit_rate@k: 0.1369\n"
     ]
    },
    {
     "name": "stderr",
     "output_type": "stream",
     "text": [
      " 90%|█████████████████████████████████████▊    | 90/100 [10:26<00:48,  4.81s/it]"
     ]
    },
    {
     "name": "stdout",
     "output_type": "stream",
     "text": [
      "epoch: 90.0000, train_loss_bpr: 0.0144, test_loss_bpr: 0.8743, precision@k: 0.0240, recall@k: 0.0588, map@k: 0.0221, mrr@k: 0.0489, ndcg@k: 0.0407, hit_rate@k: 0.1361\n"
     ]
    },
    {
     "name": "stderr",
     "output_type": "stream",
     "text": [
      " 92%|██████████████████████████████████████▋   | 92/100 [10:35<00:37,  4.74s/it]"
     ]
    },
    {
     "name": "stdout",
     "output_type": "stream",
     "text": [
      "epoch: 92.0000, train_loss_bpr: 0.0106, test_loss_bpr: 0.8742, precision@k: 0.0240, recall@k: 0.0588, map@k: 0.0227, mrr@k: 0.0536, ndcg@k: 0.0416, hit_rate@k: 0.1361\n"
     ]
    },
    {
     "name": "stderr",
     "output_type": "stream",
     "text": [
      " 94%|███████████████████████████████████████▍  | 94/100 [10:44<00:27,  4.63s/it]"
     ]
    },
    {
     "name": "stdout",
     "output_type": "stream",
     "text": [
      "epoch: 94.0000, train_loss_bpr: 0.0131, test_loss_bpr: 0.8742, precision@k: 0.0240, recall@k: 0.0588, map@k: 0.0227, mrr@k: 0.0536, ndcg@k: 0.0416, hit_rate@k: 0.1361\n"
     ]
    },
    {
     "name": "stderr",
     "output_type": "stream",
     "text": [
      " 96%|████████████████████████████████████████▎ | 96/100 [10:54<00:19,  4.82s/it]"
     ]
    },
    {
     "name": "stdout",
     "output_type": "stream",
     "text": [
      "epoch: 96.0000, train_loss_bpr: 0.0124, test_loss_bpr: 0.8742, precision@k: 0.0240, recall@k: 0.0588, map@k: 0.0227, mrr@k: 0.0536, ndcg@k: 0.0416, hit_rate@k: 0.1361\n"
     ]
    },
    {
     "name": "stderr",
     "output_type": "stream",
     "text": [
      " 98%|█████████████████████████████████████████▏| 98/100 [11:03<00:09,  4.69s/it]"
     ]
    },
    {
     "name": "stdout",
     "output_type": "stream",
     "text": [
      "epoch: 98.0000, train_loss_bpr: 0.0130, test_loss_bpr: 0.8742, precision@k: 0.0240, recall@k: 0.0588, map@k: 0.0221, mrr@k: 0.0488, ndcg@k: 0.0407, hit_rate@k: 0.1361\n"
     ]
    },
    {
     "name": "stderr",
     "output_type": "stream",
     "text": [
      "100%|█████████████████████████████████████████| 100/100 [11:12<00:00,  6.73s/it]"
     ]
    },
    {
     "name": "stdout",
     "output_type": "stream",
     "text": [
      "epoch: 100.0000, train_loss_bpr: 0.0129, test_loss_bpr: 0.8742, precision@k: 0.0240, recall@k: 0.0588, map@k: 0.0227, mrr@k: 0.0536, ndcg@k: 0.0416, hit_rate@k: 0.1361\n"
     ]
    },
    {
     "name": "stderr",
     "output_type": "stream",
     "text": [
      "\n"
     ]
    }
   ],
   "source": [
    "results = []\n",
    "for epoch in tqdm(range(1,  100 + 1)):\n",
    "    train_loss = train()\n",
    "    test_loss = test()\n",
    "    scheduler.step(test_loss)\n",
    "    eval_result = evaluate(k=num_recommendations)\n",
    "\n",
    "    # Save results\n",
    "    epoch_result = {\n",
    "        'epoch': epoch  ,\n",
    "        'train_loss_bpr': train_loss,\n",
    "        'test_loss_bpr': test_loss,\n",
    "        'precision@k': eval_result['precision@k'].compute(),\n",
    "        'recall@k': eval_result['recall@k'].compute(),\n",
    "        'map@k': eval_result['map@k'].compute(),\n",
    "        'mrr@k': eval_result['mrr@k'].compute(),\n",
    "        'ndcg@k': eval_result['ndcg@k'].compute(),\n",
    "        'hit_rate@k': eval_result['hit_rate@k'].compute()\n",
    "    }\n",
    "    results.append(epoch_result)\n",
    "\n",
    "    # Log results\n",
    "    if epoch % 2 == 0:\n",
    "        # Log model performance\n",
    "        formatted_str = ', '.join([f'{key}: {epoch_result[key]:.4f}' for key in epoch_result.keys()])\n",
    "        print(formatted_str)\n",
    "\n",
    "\n",
    "results = pd.DataFrame(results)"
   ]
  },
  {
   "cell_type": "markdown",
   "id": "uV1aqHuN8Ixi",
   "metadata": {
    "id": "uV1aqHuN8Ixi"
   },
   "source": [
    "## Model evaluation"
   ]
  },
  {
   "cell_type": "code",
   "execution_count": 39,
   "id": "eff30c4a-e7bb-45b4-99d9-59501ab656eb",
   "metadata": {},
   "outputs": [],
   "source": [
    "results = pd.DataFrame(results)"
   ]
  },
  {
   "cell_type": "code",
   "execution_count": 54,
   "id": "MxwYhlsGRcG5",
   "metadata": {
    "colab": {
     "base_uri": "https://localhost:8080/",
     "height": 472
    },
    "id": "MxwYhlsGRcG5",
    "outputId": "45bcc585-a9b1-4b1d-dbe1-e2c4b1fe2e50"
   },
   "outputs": [
    {
     "data": {
      "image/png": "[encoded data removed]",
      "text/plain": [
       "<Figure size 640x480 with 1 Axes>"
      ]
     },
     "metadata": {},
     "output_type": "display_data"
    }
   ],
   "source": [
    "# Generate loss curve\n",
    "plt.plot(results['epoch'], results['train_loss_bpr'], label='train')\n",
    "plt.plot(results['epoch'], results['test_loss_bpr'], label='test')\n",
    "plt.xlabel('Epoch')\n",
    "plt.ylabel('Loss')\n",
    "plt.title('Loss Curve')\n",
    "plt.show()"
   ]
  },
  {
   "cell_type": "code",
   "execution_count": 41,
   "id": "2bWKDD6Q9CYC",
   "metadata": {
    "colab": {
     "base_uri": "https://localhost:8080/",
     "height": 472
    },
    "id": "2bWKDD6Q9CYC",
    "outputId": "5b63dc87-33bb-4fb9-fd74-da317aad7d2b"
   },
   "outputs": [
    {
     "data": {
      "image/png": "[encoded data removed]",
      "text/plain": [
       "<Figure size 640x480 with 1 Axes>"
      ]
     },
     "metadata": {},
     "output_type": "display_data"
    }
   ],
   "source": [
    "# Generate evaluation metrics plot\n",
    "plt.plot(results['epoch'], results['precision@k'], label='precision@k')\n",
    "plt.plot(results['epoch'], results['recall@k'], label='recall@k')\n",
    "plt.plot(results['epoch'], results['map@k'], label='map@k')\n",
    "plt.plot(results['epoch'], results['mrr@k'], label='mrr@k')\n",
    "plt.plot(results['epoch'], results['ndcg@k'], label='ndcg@k')\n",
    "plt.plot(results['epoch'], results['hit_rate@k'], label='hit_rate@k')\n",
    "plt.xlabel('Epoch')\n",
    "plt.ylabel('Performance')\n",
    "plt.title('Evaluation metrics')\n",
    "plt.legend()\n",
    "plt.show()"
   ]
  },
  {
   "cell_type": "code",
   "execution_count": 42,
   "id": "9722b1de-2c2c-4e14-8746-b25facee2e7f",
   "metadata": {},
   "outputs": [
    {
     "data": {
      "text/html": [
       "<div>\n",
       "<style scoped>\n",
       "    .dataframe tbody tr th:only-of-type {\n",
       "        vertical-align: middle;\n",
       "    }\n",
       "\n",
       "    .dataframe tbody tr th {\n",
       "        vertical-align: top;\n",
       "    }\n",
       "\n",
       "    .dataframe thead th {\n",
       "        text-align: right;\n",
       "    }\n",
       "</style>\n",
       "<table border=\"1\" class=\"dataframe\">\n",
       "  <thead>\n",
       "    <tr style=\"text-align: right;\">\n",
       "      <th></th>\n",
       "      <th>epoch</th>\n",
       "      <th>train_loss_bpr</th>\n",
       "      <th>test_loss_bpr</th>\n",
       "      <th>precision@k</th>\n",
       "      <th>recall@k</th>\n",
       "      <th>map@k</th>\n",
       "      <th>mrr@k</th>\n",
       "      <th>ndcg@k</th>\n",
       "      <th>hit_rate@k</th>\n",
       "    </tr>\n",
       "  </thead>\n",
       "  <tbody>\n",
       "    <tr>\n",
       "      <th>0</th>\n",
       "      <td>1</td>\n",
       "      <td>0.052988</td>\n",
       "      <td>3.755193</td>\n",
       "      <td>0.013105</td>\n",
       "      <td>0.019851</td>\n",
       "      <td>0.008122</td>\n",
       "      <td>0.029891</td>\n",
       "      <td>0.017903</td>\n",
       "      <td>0.065943</td>\n",
       "    </tr>\n",
       "    <tr>\n",
       "      <th>1</th>\n",
       "      <td>2</td>\n",
       "      <td>0.134155</td>\n",
       "      <td>4.511513</td>\n",
       "      <td>0.013606</td>\n",
       "      <td>0.032585</td>\n",
       "      <td>0.012676</td>\n",
       "      <td>0.023679</td>\n",
       "      <td>0.022724</td>\n",
       "      <td>0.083472</td>\n",
       "    </tr>\n",
       "    <tr>\n",
       "      <th>2</th>\n",
       "      <td>3</td>\n",
       "      <td>0.138019</td>\n",
       "      <td>3.154776</td>\n",
       "      <td>0.016694</td>\n",
       "      <td>0.038659</td>\n",
       "      <td>0.015238</td>\n",
       "      <td>0.036277</td>\n",
       "      <td>0.028371</td>\n",
       "      <td>0.097663</td>\n",
       "    </tr>\n",
       "    <tr>\n",
       "      <th>3</th>\n",
       "      <td>4</td>\n",
       "      <td>0.110437</td>\n",
       "      <td>3.742528</td>\n",
       "      <td>0.016528</td>\n",
       "      <td>0.035436</td>\n",
       "      <td>0.013490</td>\n",
       "      <td>0.026653</td>\n",
       "      <td>0.025245</td>\n",
       "      <td>0.090150</td>\n",
       "    </tr>\n",
       "    <tr>\n",
       "      <th>4</th>\n",
       "      <td>5</td>\n",
       "      <td>0.117905</td>\n",
       "      <td>3.720767</td>\n",
       "      <td>0.019449</td>\n",
       "      <td>0.046508</td>\n",
       "      <td>0.018997</td>\n",
       "      <td>0.046916</td>\n",
       "      <td>0.034378</td>\n",
       "      <td>0.106845</td>\n",
       "    </tr>\n",
       "    <tr>\n",
       "      <th>5</th>\n",
       "      <td>6</td>\n",
       "      <td>0.085845</td>\n",
       "      <td>3.154994</td>\n",
       "      <td>0.020200</td>\n",
       "      <td>0.048175</td>\n",
       "      <td>0.018039</td>\n",
       "      <td>0.039910</td>\n",
       "      <td>0.033886</td>\n",
       "      <td>0.116027</td>\n",
       "    </tr>\n",
       "    <tr>\n",
       "      <th>6</th>\n",
       "      <td>7</td>\n",
       "      <td>0.097992</td>\n",
       "      <td>3.120713</td>\n",
       "      <td>0.018865</td>\n",
       "      <td>0.040402</td>\n",
       "      <td>0.015214</td>\n",
       "      <td>0.036097</td>\n",
       "      <td>0.029362</td>\n",
       "      <td>0.102671</td>\n",
       "    </tr>\n",
       "    <tr>\n",
       "      <th>7</th>\n",
       "      <td>8</td>\n",
       "      <td>0.097530</td>\n",
       "      <td>3.106915</td>\n",
       "      <td>0.020701</td>\n",
       "      <td>0.044795</td>\n",
       "      <td>0.016620</td>\n",
       "      <td>0.034385</td>\n",
       "      <td>0.031270</td>\n",
       "      <td>0.106845</td>\n",
       "    </tr>\n",
       "    <tr>\n",
       "      <th>8</th>\n",
       "      <td>9</td>\n",
       "      <td>0.096455</td>\n",
       "      <td>3.249215</td>\n",
       "      <td>0.020868</td>\n",
       "      <td>0.044450</td>\n",
       "      <td>0.016571</td>\n",
       "      <td>0.033941</td>\n",
       "      <td>0.031245</td>\n",
       "      <td>0.106845</td>\n",
       "    </tr>\n",
       "    <tr>\n",
       "      <th>9</th>\n",
       "      <td>10</td>\n",
       "      <td>0.097356</td>\n",
       "      <td>3.035160</td>\n",
       "      <td>0.018531</td>\n",
       "      <td>0.039962</td>\n",
       "      <td>0.015589</td>\n",
       "      <td>0.031137</td>\n",
       "      <td>0.028779</td>\n",
       "      <td>0.097663</td>\n",
       "    </tr>\n",
       "    <tr>\n",
       "      <th>10</th>\n",
       "      <td>11</td>\n",
       "      <td>0.091853</td>\n",
       "      <td>3.003292</td>\n",
       "      <td>0.019866</td>\n",
       "      <td>0.046509</td>\n",
       "      <td>0.017361</td>\n",
       "      <td>0.038495</td>\n",
       "      <td>0.032507</td>\n",
       "      <td>0.108514</td>\n",
       "    </tr>\n",
       "    <tr>\n",
       "      <th>11</th>\n",
       "      <td>12</td>\n",
       "      <td>0.085078</td>\n",
       "      <td>2.990206</td>\n",
       "      <td>0.018114</td>\n",
       "      <td>0.040755</td>\n",
       "      <td>0.015262</td>\n",
       "      <td>0.033583</td>\n",
       "      <td>0.028849</td>\n",
       "      <td>0.097663</td>\n",
       "    </tr>\n",
       "    <tr>\n",
       "      <th>12</th>\n",
       "      <td>13</td>\n",
       "      <td>0.072253</td>\n",
       "      <td>3.271509</td>\n",
       "      <td>0.018531</td>\n",
       "      <td>0.041615</td>\n",
       "      <td>0.013834</td>\n",
       "      <td>0.031575</td>\n",
       "      <td>0.028185</td>\n",
       "      <td>0.106845</td>\n",
       "    </tr>\n",
       "    <tr>\n",
       "      <th>13</th>\n",
       "      <td>14</td>\n",
       "      <td>0.082436</td>\n",
       "      <td>3.240287</td>\n",
       "      <td>0.016694</td>\n",
       "      <td>0.037472</td>\n",
       "      <td>0.011828</td>\n",
       "      <td>0.033385</td>\n",
       "      <td>0.025507</td>\n",
       "      <td>0.106010</td>\n",
       "    </tr>\n",
       "    <tr>\n",
       "      <th>14</th>\n",
       "      <td>15</td>\n",
       "      <td>0.102827</td>\n",
       "      <td>3.198569</td>\n",
       "      <td>0.016694</td>\n",
       "      <td>0.037498</td>\n",
       "      <td>0.013196</td>\n",
       "      <td>0.030242</td>\n",
       "      <td>0.026338</td>\n",
       "      <td>0.105175</td>\n",
       "    </tr>\n",
       "  </tbody>\n",
       "</table>\n",
       "</div>"
      ],
      "text/plain": [
       "    epoch  train_loss_bpr  test_loss_bpr  precision@k  recall@k     map@k  \\\n",
       "0       1        0.052988       3.755193     0.013105  0.019851  0.008122   \n",
       "1       2        0.134155       4.511513     0.013606  0.032585  0.012676   \n",
       "2       3        0.138019       3.154776     0.016694  0.038659  0.015238   \n",
       "3       4        0.110437       3.742528     0.016528  0.035436  0.013490   \n",
       "4       5        0.117905       3.720767     0.019449  0.046508  0.018997   \n",
       "5       6        0.085845       3.154994     0.020200  0.048175  0.018039   \n",
       "6       7        0.097992       3.120713     0.018865  0.040402  0.015214   \n",
       "7       8        0.097530       3.106915     0.020701  0.044795  0.016620   \n",
       "8       9        0.096455       3.249215     0.020868  0.044450  0.016571   \n",
       "9      10        0.097356       3.035160     0.018531  0.039962  0.015589   \n",
       "10     11        0.091853       3.003292     0.019866  0.046509  0.017361   \n",
       "11     12        0.085078       2.990206     0.018114  0.040755  0.015262   \n",
       "12     13        0.072253       3.271509     0.018531  0.041615  0.013834   \n",
       "13     14        0.082436       3.240287     0.016694  0.037472  0.011828   \n",
       "14     15        0.102827       3.198569     0.016694  0.037498  0.013196   \n",
       "\n",
       "       mrr@k    ndcg@k  hit_rate@k  \n",
       "0   0.029891  0.017903    0.065943  \n",
       "1   0.023679  0.022724    0.083472  \n",
       "2   0.036277  0.028371    0.097663  \n",
       "3   0.026653  0.025245    0.090150  \n",
       "4   0.046916  0.034378    0.106845  \n",
       "5   0.039910  0.033886    0.116027  \n",
       "6   0.036097  0.029362    0.102671  \n",
       "7   0.034385  0.031270    0.106845  \n",
       "8   0.033941  0.031245    0.106845  \n",
       "9   0.031137  0.028779    0.097663  \n",
       "10  0.038495  0.032507    0.108514  \n",
       "11  0.033583  0.028849    0.097663  \n",
       "12  0.031575  0.028185    0.106845  \n",
       "13  0.033385  0.025507    0.106010  \n",
       "14  0.030242  0.026338    0.105175  "
      ]
     },
     "execution_count": 42,
     "metadata": {},
     "output_type": "execute_result"
    }
   ],
   "source": [
    "results['epoch'] = results['epoch'].astype(int)\n",
    "results['train_loss_bpr'] = results['train_loss_bpr'].astype(float)\n",
    "results['test_loss_bpr'] = results['test_loss_bpr'].astype(float)\n",
    "results['precision@k'] = results['precision@k'].astype(float)\n",
    "results['recall@k'] = results['recall@k'].astype(float)\n",
    "results['map@k'] = results['map@k'].astype(float)\n",
    "results['mrr@k'] = results['mrr@k'].astype(float)\n",
    "results['ndcg@k'] = results['ndcg@k'].astype(float)\n",
    "results['hit_rate@k'] = results['hit_rate@k'].astype(float)\n",
    "results"
   ]
  },
  {
   "cell_type": "code",
   "execution_count": null,
   "id": "d95b8154-eed0-4484-96ca-84d884ff837e",
   "metadata": {},
   "outputs": [],
   "source": [
    "results.to_csv('../results/results_EuCoHT.csv')"
   ]
  }
 ],
 "metadata": {
  "colab": {
   "name": "Collaboration Recommender 2.0 (Heterogeneous)",
   "provenance": []
  },
  "kernelspec": {
   "display_name": "Python 3 (ipykernel)",
   "language": "python",
   "name": "python3"
  },
  "language_info": {
   "codemirror_mode": {
    "name": "ipython",
    "version": 3
   },
   "file_extension": ".py",
   "mimetype": "text/x-python",
   "name": "python",
   "nbconvert_exporter": "python",
   "pygments_lexer": "ipython3",
   "version": "3.12.3"
  }
 },
 "nbformat": 4,
 "nbformat_minor": 5
}
