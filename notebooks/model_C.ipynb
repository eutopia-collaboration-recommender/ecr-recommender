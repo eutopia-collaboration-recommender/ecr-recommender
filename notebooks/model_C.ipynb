{
 "cells": [
  {
   "cell_type": "markdown",
   "id": "zYPnKxIhFGVJ",
   "metadata": {
    "id": "zYPnKxIhFGVJ"
   },
   "source": [
    "# Model C\n",
    "\n",
    "This is a script showing results of **model C** in the ablation studies. The model is built using the following configuration:\n",
    "\n",
    "- **Backbone:** GATv2\n",
    "- **Graph type:** Homogeneous\n",
    "- **Loss function:** Bayesian personalized ranking\n",
    "- **Embeddings used:** average\n",
    "- **Keyword popularity used:** No\n",
    "\n",
    "*This model upgrades the state-of-the-art graph neural network methodology with novel graph attention network approach.*"
   ]
  },
  {
   "cell_type": "markdown",
   "id": "x7McZwR_FRta",
   "metadata": {
    "id": "x7McZwR_FRta"
   },
   "source": [
    "## **Setting up environment**\n",
    "\n",
    "---\n",
    "\n"
   ]
  },
  {
   "cell_type": "markdown",
   "id": "cD8tnTfC60X2",
   "metadata": {
    "id": "cD8tnTfC60X2"
   },
   "source": [
    "### Loading libraries"
   ]
  },
  {
   "cell_type": "code",
   "execution_count": 1,
   "id": "5okfWmvKEI3Z",
   "metadata": {
    "ExecuteTime": {
     "end_time": "2024-12-13T17:47:50.264742Z",
     "start_time": "2024-12-13T17:47:50.256254Z"
    },
    "id": "5okfWmvKEI3Z"
   },
   "outputs": [],
   "source": [
    "import os\n",
    "import sys\n",
    "\n",
    "sys.path.insert(0, os.path.abspath(\"..\"))\n",
    "\n",
    "import torch\n",
    "import pickle\n",
    "import pandas as pd\n",
    "import seaborn as sns\n",
    "import matplotlib.pyplot as plt\n",
    "\n",
    "from typing import Optional\n",
    "\n",
    "from torch import Tensor\n",
    "from torch.nn import ModuleList\n",
    "from torch.optim import Optimizer\n",
    "from torch_geometric.typing import Adj, OptTensor\n",
    "from torch_geometric.nn.conv import GATv2Conv\n",
    "from torch.optim.lr_scheduler import LRScheduler\n",
    "\n",
    "from util.torch_geometric import get_results\n",
    "from util.homogeneous.dataset import DatasetEuCoHM\n",
    "from util.homogeneous.model import ModelEuCoHM\n",
    "from util.homogeneous.train import (\n",
    "    train,\n",
    "    test,\n",
    "    evaluate\n",
    ")"
   ]
  },
  {
   "cell_type": "markdown",
   "id": "bQ_xqBiFn97Q",
   "metadata": {
    "id": "bQ_xqBiFn97Q"
   },
   "source": [
    "### Global variables"
   ]
  },
  {
   "cell_type": "code",
   "execution_count": 2,
   "id": "9r1K6ezsn97Q",
   "metadata": {
    "ExecuteTime": {
     "end_time": "2024-12-13T21:23:20.128019Z",
     "start_time": "2024-12-13T21:23:20.037264Z"
    },
    "id": "9r1K6ezsn97Q"
   },
   "outputs": [],
   "source": [
    "# Model name\n",
    "model_name = 'C'\n",
    "# Dataset save filepath\n",
    "dataset_save_filepath = '../data/dataset_homogeneous_base.pkl'\n",
    "# Device name\n",
    "device = 'cpu'\n",
    "\n",
    "# Model configuration\n",
    "model_config = dict(\n",
    "    hidden_channels=128,\n",
    "    learning_rate=1e-3,\n",
    "    num_layers=4,\n",
    "    num_epochs=50,\n",
    "    num_recommendations=10\n",
    ")\n",
    "# Set seaborn theme\n",
    "sns.set_theme(style=\"whitegrid\", palette=\"pastel\")"
   ]
  },
  {
   "cell_type": "markdown",
   "id": "ISUVX4hvFMKM",
   "metadata": {
    "id": "ISUVX4hvFMKM"
   },
   "source": [
    "## Loading dataset\n",
    "\n",
    "---\n"
   ]
  },
  {
   "cell_type": "code",
   "execution_count": 3,
   "id": "3b608e9d-243a-46aa-a261-7ae3464093db",
   "metadata": {},
   "outputs": [
    {
     "name": "stderr",
     "output_type": "stream",
     "text": [
      "/home/eucollab/eutopia-colllaboration/ecr-recommender/.venv/lib/python3.12/site-packages/torch/storage.py:414: FutureWarning: You are using `torch.load` with `weights_only=False` (the current default value), which uses the default pickle module implicitly. It is possible to construct malicious pickle data which will execute arbitrary code during unpickling (See https://github.com/pytorch/pytorch/blob/main/SECURITY.md#untrusted-models for more details). In a future release, the default value for `weights_only` will be flipped to `True`. This limits the functions that could be executed during unpickling. Arbitrary objects will no longer be allowed to be loaded via this mode unless they are explicitly allowlisted by the user via `torch.serialization.add_safe_globals`. We recommend you start setting `weights_only=True` for any use case where you don't have full control of the loaded file. Please open an issue on GitHub for any issues related to this experimental feature.\n",
      "  return torch.load(io.BytesIO(b))\n"
     ]
    }
   ],
   "source": [
    "# Add the object as a safe global to shut down warning\n",
    "torch.serialization.add_safe_globals([DatasetEuCoHM])\n",
    "# Open the dataset file and save it to variable\n",
    "with open(dataset_save_filepath, 'rb') as file:\n",
    "    dataset: DatasetEuCoHM = pickle.load(file)\n",
    "\n",
    "data = dataset.data\n",
    "author_id_map = dataset.author_id_map\n",
    "author_node_id_map = dataset.author_node_id_map"
   ]
  },
  {
   "cell_type": "markdown",
   "id": "04vUews17zy8",
   "metadata": {
    "id": "04vUews17zy8"
   },
   "source": [
    "## Model training\n",
    "\n",
    "\n",
    "---\n",
    "\n"
   ]
  },
  {
   "cell_type": "markdown",
   "id": "IMCtMQz00wC_",
   "metadata": {
    "id": "IMCtMQz00wC_"
   },
   "source": [
    "### Model definition"
   ]
  },
  {
   "cell_type": "code",
   "execution_count": 4,
   "id": "TJaBxQX_7_3D",
   "metadata": {
    "ExecuteTime": {
     "end_time": "2024-12-13T21:28:22.411435Z",
     "start_time": "2024-12-13T21:28:22.248727Z"
    },
    "id": "TJaBxQX_7_3D"
   },
   "outputs": [],
   "source": [
    "class ModelEuCoC(ModelEuCoHM):\n",
    "    def __init__(self,\n",
    "                 input_channels: int,\n",
    "                 hidden_channels: int,\n",
    "                 num_layers: int,\n",
    "                 num_recommendations: int,\n",
    "                 author_node_id_map: dict,\n",
    "                 author_id_map: dict,\n",
    "                 device: str = 'cpu'):\n",
    "        super().__init__(\n",
    "            input_channels=input_channels,\n",
    "            hidden_channels=hidden_channels,\n",
    "            num_layers=num_layers,\n",
    "            num_recommendations=num_recommendations,\n",
    "            author_node_id_map=author_node_id_map,\n",
    "            author_id_map=author_id_map,\n",
    "            device=device\n",
    "        )"
   ]
  },
  {
   "cell_type": "markdown",
   "id": "9XkKmZJC06IZ",
   "metadata": {
    "id": "9XkKmZJC06IZ"
   },
   "source": [
    "### Training the model"
   ]
  },
  {
   "cell_type": "code",
   "execution_count": 5,
   "id": "b4304b1f-ce07-411d-abc3-43011dd3a83b",
   "metadata": {},
   "outputs": [],
   "source": [
    "# Initialize the model\n",
    "model = ModelEuCoC(\n",
    "    input_channels=data.num_features,\n",
    "    hidden_channels=model_config['hidden_channels'],\n",
    "    num_recommendations=model_config['num_recommendations'],\n",
    "    num_layers=model_config['num_layers'],\n",
    "    author_node_id_map=author_node_id_map,\n",
    "    author_id_map=author_id_map\n",
    ").to(device)\n",
    "\n",
    "# Transfer to device\n",
    "data = data.to(device)\n",
    "\n",
    "# Initialize the optimizer\n",
    "optimizer: Optimizer = torch.optim.Adam(\n",
    "    params=model.parameters(),\n",
    "    lr=model_config['learning_rate']\n",
    ")\n",
    "\n",
    "# Initialize the scheduler\n",
    "scheduler: LRScheduler = torch.optim.lr_scheduler.ReduceLROnPlateau(\n",
    "    optimizer=optimizer,\n",
    "    mode='min',\n",
    "    factor=0.5,\n",
    "    patience=10\n",
    ")"
   ]
  },
  {
   "cell_type": "code",
   "execution_count": 6,
   "id": "379e5e3ea82af758",
   "metadata": {
    "ExecuteTime": {
     "end_time": "2024-12-13T21:30:55.180060Z",
     "start_time": "2024-12-13T21:30:52.430863Z"
    }
   },
   "outputs": [
    {
     "name": "stdout",
     "output_type": "stream",
     "text": [
      "Epoch 1, train loss: 0.0106, test loss: 0.1112, precision@k: 0.0633, recall@k: 0.1882, MAP@k: 0.1054, MRR@k: 0.1672, NDCG@k: 0.1464, HitRate@k: 0.3194\n",
      "Epoch 2, train loss: 0.0074, test loss: 0.1010, precision@k: 0.0650, recall@k: 0.1936, MAP@k: 0.1073, MRR@k: 0.1691, NDCG@k: 0.1494, HitRate@k: 0.3266\n",
      "Epoch 3, train loss: 0.0069, test loss: 0.0957, precision@k: 0.0658, recall@k: 0.1962, MAP@k: 0.1094, MRR@k: 0.1723, NDCG@k: 0.1520, HitRate@k: 0.3321\n",
      "Epoch 4, train loss: 0.0064, test loss: 0.0931, precision@k: 0.0665, recall@k: 0.1984, MAP@k: 0.1110, MRR@k: 0.1757, NDCG@k: 0.1541, HitRate@k: 0.3344\n",
      "Epoch 5, train loss: 0.0055, test loss: 0.0924, precision@k: 0.0663, recall@k: 0.1984, MAP@k: 0.1118, MRR@k: 0.1771, NDCG@k: 0.1548, HitRate@k: 0.3358\n",
      "Epoch 6, train loss: 0.0051, test loss: 0.0926, precision@k: 0.0668, recall@k: 0.1999, MAP@k: 0.1121, MRR@k: 0.1779, NDCG@k: 0.1555, HitRate@k: 0.3386\n",
      "Epoch 7, train loss: 0.0047, test loss: 0.0928, precision@k: 0.0677, recall@k: 0.2007, MAP@k: 0.1133, MRR@k: 0.1798, NDCG@k: 0.1569, HitRate@k: 0.3407\n",
      "Epoch 8, train loss: 0.0045, test loss: 0.0930, precision@k: 0.0681, recall@k: 0.2010, MAP@k: 0.1129, MRR@k: 0.1792, NDCG@k: 0.1567, HitRate@k: 0.3416\n",
      "Epoch 9, train loss: 0.0041, test loss: 0.0935, precision@k: 0.0682, recall@k: 0.2011, MAP@k: 0.1138, MRR@k: 0.1802, NDCG@k: 0.1575, HitRate@k: 0.3408\n",
      "Epoch 10, train loss: 0.0040, test loss: 0.0939, precision@k: 0.0683, recall@k: 0.2014, MAP@k: 0.1134, MRR@k: 0.1799, NDCG@k: 0.1571, HitRate@k: 0.3397\n",
      "Epoch 11, train loss: 0.0037, test loss: 0.0949, precision@k: 0.0676, recall@k: 0.2004, MAP@k: 0.1130, MRR@k: 0.1796, NDCG@k: 0.1564, HitRate@k: 0.3362\n",
      "Epoch 12, train loss: 0.0040, test loss: 0.0965, precision@k: 0.0682, recall@k: 0.2026, MAP@k: 0.1134, MRR@k: 0.1799, NDCG@k: 0.1572, HitRate@k: 0.3389\n",
      "Epoch 13, train loss: 0.0033, test loss: 0.0977, precision@k: 0.0676, recall@k: 0.2019, MAP@k: 0.1129, MRR@k: 0.1789, NDCG@k: 0.1565, HitRate@k: 0.3376\n",
      "Epoch 14, train loss: 0.0035, test loss: 0.0995, precision@k: 0.0677, recall@k: 0.2025, MAP@k: 0.1136, MRR@k: 0.1793, NDCG@k: 0.1572, HitRate@k: 0.3389\n",
      "Epoch 15, train loss: 0.0031, test loss: 0.1018, precision@k: 0.0674, recall@k: 0.2018, MAP@k: 0.1129, MRR@k: 0.1778, NDCG@k: 0.1563, HitRate@k: 0.3379\n",
      "Epoch 16, train loss: 0.0034, test loss: 0.1040, precision@k: 0.0673, recall@k: 0.2020, MAP@k: 0.1120, MRR@k: 0.1761, NDCG@k: 0.1556, HitRate@k: 0.3374\n",
      "Epoch 17, train loss: 0.0031, test loss: 0.1041, precision@k: 0.0673, recall@k: 0.2022, MAP@k: 0.1116, MRR@k: 0.1753, NDCG@k: 0.1553, HitRate@k: 0.3378\n",
      "Epoch 18, train loss: 0.0031, test loss: 0.1034, precision@k: 0.0677, recall@k: 0.2034, MAP@k: 0.1121, MRR@k: 0.1745, NDCG@k: 0.1558, HitRate@k: 0.3399\n",
      "Epoch 19, train loss: 0.0030, test loss: 0.1026, precision@k: 0.0677, recall@k: 0.2031, MAP@k: 0.1125, MRR@k: 0.1760, NDCG@k: 0.1562, HitRate@k: 0.3399\n",
      "Epoch 20, train loss: 0.0029, test loss: 0.1019, precision@k: 0.0681, recall@k: 0.2045, MAP@k: 0.1128, MRR@k: 0.1767, NDCG@k: 0.1569, HitRate@k: 0.3419\n",
      "Epoch 21, train loss: 0.0029, test loss: 0.1008, precision@k: 0.0682, recall@k: 0.2050, MAP@k: 0.1135, MRR@k: 0.1773, NDCG@k: 0.1576, HitRate@k: 0.3425\n",
      "Epoch 22, train loss: 0.0030, test loss: 0.0997, precision@k: 0.0685, recall@k: 0.2064, MAP@k: 0.1141, MRR@k: 0.1778, NDCG@k: 0.1584, HitRate@k: 0.3441\n",
      "Epoch 23, train loss: 0.0028, test loss: 0.0992, precision@k: 0.0685, recall@k: 0.2065, MAP@k: 0.1143, MRR@k: 0.1778, NDCG@k: 0.1585, HitRate@k: 0.3435\n",
      "Epoch 24, train loss: 0.0029, test loss: 0.0990, precision@k: 0.0687, recall@k: 0.2067, MAP@k: 0.1141, MRR@k: 0.1778, NDCG@k: 0.1585, HitRate@k: 0.3441\n",
      "Epoch 25, train loss: 0.0028, test loss: 0.0991, precision@k: 0.0687, recall@k: 0.2061, MAP@k: 0.1137, MRR@k: 0.1770, NDCG@k: 0.1580, HitRate@k: 0.3437\n",
      "Epoch 26, train loss: 0.0027, test loss: 0.0994, precision@k: 0.0690, recall@k: 0.2072, MAP@k: 0.1136, MRR@k: 0.1771, NDCG@k: 0.1583, HitRate@k: 0.3458\n",
      "Epoch 27, train loss: 0.0027, test loss: 0.0996, precision@k: 0.0691, recall@k: 0.2072, MAP@k: 0.1137, MRR@k: 0.1771, NDCG@k: 0.1584, HitRate@k: 0.3454\n",
      "Epoch 28, train loss: 0.0025, test loss: 0.0998, precision@k: 0.0692, recall@k: 0.2083, MAP@k: 0.1136, MRR@k: 0.1771, NDCG@k: 0.1585, HitRate@k: 0.3473\n",
      "Epoch 29, train loss: 0.0027, test loss: 0.0998, precision@k: 0.0692, recall@k: 0.2091, MAP@k: 0.1138, MRR@k: 0.1778, NDCG@k: 0.1589, HitRate@k: 0.3474\n",
      "Epoch 30, train loss: 0.0025, test loss: 0.0998, precision@k: 0.0692, recall@k: 0.2086, MAP@k: 0.1136, MRR@k: 0.1772, NDCG@k: 0.1587, HitRate@k: 0.3470\n",
      "Epoch 31, train loss: 0.0025, test loss: 0.0997, precision@k: 0.0695, recall@k: 0.2095, MAP@k: 0.1146, MRR@k: 0.1784, NDCG@k: 0.1596, HitRate@k: 0.3475\n",
      "Epoch 32, train loss: 0.0025, test loss: 0.0994, precision@k: 0.0697, recall@k: 0.2095, MAP@k: 0.1150, MRR@k: 0.1791, NDCG@k: 0.1600, HitRate@k: 0.3486\n",
      "Epoch 33, train loss: 0.0025, test loss: 0.0994, precision@k: 0.0699, recall@k: 0.2099, MAP@k: 0.1155, MRR@k: 0.1797, NDCG@k: 0.1606, HitRate@k: 0.3500\n",
      "Epoch 34, train loss: 0.0025, test loss: 0.0995, precision@k: 0.0700, recall@k: 0.2100, MAP@k: 0.1155, MRR@k: 0.1807, NDCG@k: 0.1608, HitRate@k: 0.3498\n",
      "Epoch 35, train loss: 0.0024, test loss: 0.0995, precision@k: 0.0699, recall@k: 0.2097, MAP@k: 0.1153, MRR@k: 0.1801, NDCG@k: 0.1605, HitRate@k: 0.3494\n",
      "Epoch 36, train loss: 0.0027, test loss: 0.0996, precision@k: 0.0701, recall@k: 0.2106, MAP@k: 0.1148, MRR@k: 0.1789, NDCG@k: 0.1602, HitRate@k: 0.3500\n",
      "Epoch 37, train loss: 0.0023, test loss: 0.0996, precision@k: 0.0703, recall@k: 0.2106, MAP@k: 0.1147, MRR@k: 0.1787, NDCG@k: 0.1602, HitRate@k: 0.3499\n",
      "Epoch 38, train loss: 0.0023, test loss: 0.0995, precision@k: 0.0703, recall@k: 0.2109, MAP@k: 0.1147, MRR@k: 0.1789, NDCG@k: 0.1603, HitRate@k: 0.3508\n",
      "Epoch 39, train loss: 0.0024, test loss: 0.0994, precision@k: 0.0705, recall@k: 0.2114, MAP@k: 0.1150, MRR@k: 0.1794, NDCG@k: 0.1607, HitRate@k: 0.3513\n",
      "Epoch 40, train loss: 0.0025, test loss: 0.0993, precision@k: 0.0706, recall@k: 0.2117, MAP@k: 0.1153, MRR@k: 0.1798, NDCG@k: 0.1610, HitRate@k: 0.3520\n",
      "Epoch 41, train loss: 0.0024, test loss: 0.0992, precision@k: 0.0704, recall@k: 0.2112, MAP@k: 0.1150, MRR@k: 0.1794, NDCG@k: 0.1607, HitRate@k: 0.3511\n",
      "Epoch 42, train loss: 0.0022, test loss: 0.0992, precision@k: 0.0706, recall@k: 0.2114, MAP@k: 0.1155, MRR@k: 0.1796, NDCG@k: 0.1610, HitRate@k: 0.3515\n",
      "Epoch 43, train loss: 0.0022, test loss: 0.0993, precision@k: 0.0706, recall@k: 0.2120, MAP@k: 0.1159, MRR@k: 0.1798, NDCG@k: 0.1614, HitRate@k: 0.3520\n",
      "Epoch 44, train loss: 0.0021, test loss: 0.0993, precision@k: 0.0707, recall@k: 0.2124, MAP@k: 0.1158, MRR@k: 0.1800, NDCG@k: 0.1615, HitRate@k: 0.3530\n",
      "Epoch 45, train loss: 0.0023, test loss: 0.0995, precision@k: 0.0708, recall@k: 0.2124, MAP@k: 0.1158, MRR@k: 0.1794, NDCG@k: 0.1615, HitRate@k: 0.3527\n",
      "Epoch 46, train loss: 0.0023, test loss: 0.0997, precision@k: 0.0707, recall@k: 0.2124, MAP@k: 0.1163, MRR@k: 0.1809, NDCG@k: 0.1620, HitRate@k: 0.3530\n",
      "Epoch 47, train loss: 0.0023, test loss: 0.0998, precision@k: 0.0708, recall@k: 0.2126, MAP@k: 0.1167, MRR@k: 0.1812, NDCG@k: 0.1623, HitRate@k: 0.3528\n",
      "Epoch 48, train loss: 0.0022, test loss: 0.0999, precision@k: 0.0706, recall@k: 0.2124, MAP@k: 0.1166, MRR@k: 0.1812, NDCG@k: 0.1622, HitRate@k: 0.3531\n",
      "Epoch 49, train loss: 0.0023, test loss: 0.1000, precision@k: 0.0707, recall@k: 0.2126, MAP@k: 0.1167, MRR@k: 0.1815, NDCG@k: 0.1623, HitRate@k: 0.3534\n",
      "Epoch 50, train loss: 0.0022, test loss: 0.1001, precision@k: 0.0707, recall@k: 0.2128, MAP@k: 0.1165, MRR@k: 0.1807, NDCG@k: 0.1622, HitRate@k: 0.3537\n"
     ]
    }
   ],
   "source": [
    "results: list = list()\n",
    "for epoch in range(1, model_config['num_epochs'] + 1):\n",
    "    # ------ Train\n",
    "    train_loss: float = train(\n",
    "        model=model,\n",
    "        data=data,\n",
    "        optimizer=optimizer\n",
    "    )\n",
    "    # ------ Test\n",
    "    test_loss: float = test(\n",
    "        model=model,\n",
    "        data=data\n",
    "    )\n",
    "    scheduler.step(test_loss)\n",
    "    # ------ Evaluate\n",
    "    evaluation_results: dict = evaluate(\n",
    "        k=model_config['num_recommendations'],\n",
    "        model=model,\n",
    "        data=data\n",
    "    )\n",
    "\n",
    "    # Save results\n",
    "    epoch_result = get_results(\n",
    "        epoch=epoch,\n",
    "        train_loss=train_loss,\n",
    "        test_loss=test_loss,\n",
    "        evaluation_results=evaluation_results\n",
    "    )\n",
    "    results.append(epoch_result)"
   ]
  },
  {
   "cell_type": "markdown",
   "id": "CIzjEI3R-eY-",
   "metadata": {
    "id": "CIzjEI3R-eY-"
   },
   "source": [
    "### Model evaluation"
   ]
  },
  {
   "cell_type": "code",
   "execution_count": 7,
   "id": "JHmrYAoF-dWh",
   "metadata": {
    "colab": {
     "base_uri": "https://localhost:8080/",
     "height": 472
    },
    "id": "JHmrYAoF-dWh",
    "outputId": "51b44a7b-4d40-4c23-8009-d3af553ed2e9"
   },
   "outputs": [],
   "source": [
    "results_df = pd.DataFrame(results)\n",
    "results_df.to_csv(f'../results/results_Model{model_name}.csv', index=False)"
   ]
  },
  {
   "cell_type": "code",
   "execution_count": 8,
   "id": "RwsZRSb828Ua",
   "metadata": {
    "colab": {
     "base_uri": "https://localhost:8080/",
     "height": 472
    },
    "id": "RwsZRSb828Ua",
    "outputId": "57cc0fe4-2411-44ed-cfc2-f41e6c682819"
   },
   "outputs": [
    {
     "data": {
      "image/png": "[encoded data removed]",
      "text/plain": [
       "<Figure size 640x480 with 1 Axes>"
      ]
     },
     "metadata": {},
     "output_type": "display_data"
    }
   ],
   "source": [
    "# Generate loss curve\n",
    "# Train loss\n",
    "sns.lineplot(data=results_df, x='Epoch', y='Train Loss')\n",
    "# Test loss\n",
    "sns.lineplot(data=results_df, x='Epoch', y='Test Loss')\n",
    "plt.xlabel('Epoch')\n",
    "plt.ylabel('Loss')\n",
    "plt.title('Loss curve')\n",
    "plt.yscale('log')\n",
    "plt.show()"
   ]
  },
  {
   "cell_type": "code",
   "execution_count": 9,
   "id": "QrRBTsA5vAs1",
   "metadata": {
    "colab": {
     "base_uri": "https://localhost:8080/"
    },
    "id": "QrRBTsA5vAs1",
    "outputId": "afffeb4f-f62c-4c48-cf69-c7cb5eb06f55"
   },
   "outputs": [
    {
     "data": {
      "image/png": "[encoded data removed]",
      "text/plain": [
       "<Figure size 640x480 with 1 Axes>"
      ]
     },
     "metadata": {},
     "output_type": "display_data"
    }
   ],
   "source": [
    "# Generate evaluation metrics plot\n",
    "sns.lineplot(data=results_df, x='Epoch', y='Precision@k')\n",
    "sns.lineplot(data=results_df, x='Epoch', y='Recall@k')\n",
    "sns.lineplot(data=results_df, x='Epoch', y='MAP@k')\n",
    "sns.lineplot(data=results_df, x='Epoch', y='MRR@k')\n",
    "sns.lineplot(data=results_df, x='Epoch', y='NDCG@k')\n",
    "sns.lineplot(data=results_df, x='Epoch', y='HitRate@k')\n",
    "plt.xlabel('Epoch')\n",
    "plt.ylabel('Performance')\n",
    "plt.title('Performance metrics')\n",
    "plt.show()"
   ]
  }
 ],
 "metadata": {
  "colab": {
   "collapsed_sections": [
    "ISUVX4hvFMKM",
    "aZQQpLqCFeGK",
    "2cXJ5OO10uxX"
   ],
   "name": "Collaboration Recommender 1.0 (Homogeneous).ipynb",
   "provenance": []
  },
  "kernelspec": {
   "display_name": "Python 3 (ipykernel)",
   "language": "python",
   "name": "python3"
  },
  "language_info": {
   "codemirror_mode": {
    "name": "ipython",
    "version": 3
   },
   "file_extension": ".py",
   "mimetype": "text/x-python",
   "name": "python",
   "nbconvert_exporter": "python",
   "pygments_lexer": "ipython3",
   "version": "3.12.3"
  }
 },
 "nbformat": 4,
 "nbformat_minor": 5
}
