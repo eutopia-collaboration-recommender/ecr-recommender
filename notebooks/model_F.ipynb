{
 "cells": [
  {
   "cell_type": "markdown",
   "id": "zYPnKxIhFGVJ",
   "metadata": {
    "id": "zYPnKxIhFGVJ"
   },
   "source": [
    "# Model F\n",
    "\n",
    "This is a script showing results of **model F** in the ablation studies. The model is built using the following configuration:\n",
    "\n",
    "- **Backbone:** Transformer\n",
    "- **Graph type:** Homogeneous\n",
    "- **Loss function:** Binary-Cross Entropy with Logits Loss\n",
    "- **Embeddings used:** average\n",
    "- **Keyword popularity used:** No\n",
    "\n",
    "*This model introduces a baseline loss function Binary-Cross Entropy with Logits loss to compare against Bayesian Personalized Ranking on graph transformer backbone.*"
   ]
  },
  {
   "cell_type": "markdown",
   "id": "x7McZwR_FRta",
   "metadata": {
    "id": "x7McZwR_FRta"
   },
   "source": [
    "## **Setting up environment**\n",
    "\n",
    "---\n",
    "\n"
   ]
  },
  {
   "cell_type": "markdown",
   "id": "cD8tnTfC60X2",
   "metadata": {
    "id": "cD8tnTfC60X2"
   },
   "source": [
    "### Loading libraries"
   ]
  },
  {
   "cell_type": "code",
   "execution_count": 1,
   "id": "5okfWmvKEI3Z",
   "metadata": {
    "ExecuteTime": {
     "end_time": "2024-12-13T17:47:50.264742Z",
     "start_time": "2024-12-13T17:47:50.256254Z"
    },
    "id": "5okfWmvKEI3Z"
   },
   "outputs": [],
   "source": [
    "import os\n",
    "import sys\n",
    "\n",
    "sys.path.insert(0, os.path.abspath(\"..\"))\n",
    "\n",
    "import torch\n",
    "import pickle\n",
    "import pandas as pd\n",
    "import seaborn as sns\n",
    "import matplotlib.pyplot as plt\n",
    "\n",
    "from typing import Optional\n",
    "\n",
    "from torch import Tensor\n",
    "from torch.nn import ModuleList\n",
    "import torch.nn.functional as F\n",
    "from torch.optim import Optimizer\n",
    "from torch_geometric.typing import Adj, OptTensor\n",
    "from torch_geometric.nn.conv import TransformerConv\n",
    "from torch.optim.lr_scheduler import LRScheduler\n",
    "\n",
    "from util.torch_geometric import get_results\n",
    "from util.homogeneous.dataset import DatasetEuCoHM\n",
    "from util.homogeneous.model import ModelEuCoHM\n",
    "from util.homogeneous.train import (\n",
    "    train,\n",
    "    test,\n",
    "    evaluate\n",
    ")"
   ]
  },
  {
   "cell_type": "markdown",
   "id": "bQ_xqBiFn97Q",
   "metadata": {
    "id": "bQ_xqBiFn97Q"
   },
   "source": [
    "### Global variables"
   ]
  },
  {
   "cell_type": "code",
   "execution_count": 2,
   "id": "9r1K6ezsn97Q",
   "metadata": {
    "ExecuteTime": {
     "end_time": "2024-12-13T21:23:20.128019Z",
     "start_time": "2024-12-13T21:23:20.037264Z"
    },
    "id": "9r1K6ezsn97Q"
   },
   "outputs": [],
   "source": [
    "# Model name\n",
    "model_name = 'F'\n",
    "# Dataset save filepath\n",
    "dataset_save_filepath = '../data/dataset_homogeneous_base.pkl'\n",
    "# Device name\n",
    "device = 'cpu'\n",
    "\n",
    "# Model configuration\n",
    "model_config = dict(\n",
    "    hidden_channels=64,\n",
    "    learning_rate=1e-3,\n",
    "    num_layers=4,\n",
    "    num_heads=4,\n",
    "    num_epochs=50,\n",
    "    num_recommendations=10\n",
    ")\n",
    "# Set seaborn theme\n",
    "sns.set_theme(style=\"whitegrid\", palette=\"pastel\")"
   ]
  },
  {
   "cell_type": "markdown",
   "id": "ISUVX4hvFMKM",
   "metadata": {
    "id": "ISUVX4hvFMKM"
   },
   "source": [
    "## Loading dataset\n",
    "\n",
    "---\n"
   ]
  },
  {
   "cell_type": "code",
   "execution_count": 3,
   "id": "3b608e9d-243a-46aa-a261-7ae3464093db",
   "metadata": {},
   "outputs": [
    {
     "name": "stderr",
     "output_type": "stream",
     "text": [
      "/home/eucollab/eutopia-colllaboration/ecr-recommender/.venv/lib/python3.12/site-packages/torch/storage.py:414: FutureWarning: You are using `torch.load` with `weights_only=False` (the current default value), which uses the default pickle module implicitly. It is possible to construct malicious pickle data which will execute arbitrary code during unpickling (See https://github.com/pytorch/pytorch/blob/main/SECURITY.md#untrusted-models for more details). In a future release, the default value for `weights_only` will be flipped to `True`. This limits the functions that could be executed during unpickling. Arbitrary objects will no longer be allowed to be loaded via this mode unless they are explicitly allowlisted by the user via `torch.serialization.add_safe_globals`. We recommend you start setting `weights_only=True` for any use case where you don't have full control of the loaded file. Please open an issue on GitHub for any issues related to this experimental feature.\n",
      "  return torch.load(io.BytesIO(b))\n"
     ]
    }
   ],
   "source": [
    "# Add the object as a safe global to shut down warning\n",
    "torch.serialization.add_safe_globals([DatasetEuCoHM])\n",
    "# Open the dataset file and save it to variable\n",
    "with open(dataset_save_filepath, 'rb') as file:\n",
    "    dataset: DatasetEuCoHM = pickle.load(file)\n",
    "\n",
    "data = dataset.data\n",
    "author_id_map = dataset.author_id_map\n",
    "author_node_id_map = dataset.author_node_id_map"
   ]
  },
  {
   "cell_type": "markdown",
   "id": "04vUews17zy8",
   "metadata": {
    "id": "04vUews17zy8"
   },
   "source": [
    "## Model training\n",
    "\n",
    "\n",
    "---\n",
    "\n"
   ]
  },
  {
   "cell_type": "markdown",
   "id": "IMCtMQz00wC_",
   "metadata": {
    "id": "IMCtMQz00wC_"
   },
   "source": [
    "### Model definition"
   ]
  },
  {
   "cell_type": "code",
   "execution_count": 4,
   "id": "TJaBxQX_7_3D",
   "metadata": {
    "ExecuteTime": {
     "end_time": "2024-12-13T21:28:22.411435Z",
     "start_time": "2024-12-13T21:28:22.248727Z"
    },
    "id": "TJaBxQX_7_3D"
   },
   "outputs": [],
   "source": [
    "class ModelEuCoE(ModelEuCoHM):\n",
    "    def __init__(self,\n",
    "                 input_channels: int,\n",
    "                 hidden_channels: int,\n",
    "                 num_layers: int,\n",
    "                 num_recommendations: int,\n",
    "                 num_heads: int,\n",
    "                 author_node_id_map: dict,\n",
    "                 author_id_map: dict,\n",
    "                 device: str = 'cpu'):\n",
    "        super().__init__(\n",
    "            input_channels=input_channels,\n",
    "            hidden_channels=hidden_channels,\n",
    "            num_layers=num_layers,\n",
    "            num_recommendations=num_recommendations,\n",
    "            author_node_id_map=author_node_id_map,\n",
    "            author_id_map=author_id_map,\n",
    "            device=device\n",
    "        )\n",
    "        # Set number of attention heads\n",
    "        self.num_heads = num_heads\n",
    "\n",
    "        # Initialize the convolutional layers\n",
    "        self.conv_layers = ModuleList([\n",
    "            TransformerConv(in_channels=input_channels if ix == 0 else hidden_channels * self.num_heads, \n",
    "                            out_channels=hidden_channels,\n",
    "                            heads=self.num_heads)\n",
    "            for ix in range(self.num_layers)\n",
    "        ])\n",
    "\n",
    "        # Initialize batch norm layers\n",
    "        self.bn_layers = ModuleList([\n",
    "            torch.nn.BatchNorm1d(hidden_channels * self.num_heads)\n",
    "            for ix in range(self.num_layers)\n",
    "        ])\n",
    "    \n",
    "    def recommendation_loss(self,\n",
    "                            x: Tensor,\n",
    "                            edge_index: Adj,\n",
    "                            pos_edge_rank: Tensor,\n",
    "                            neg_edge_rank: Tensor,\n",
    "                            edge_weight: Optional[Tensor] = None,\n",
    "                            node_id: Optional[Tensor] = None) -> Tensor:\n",
    "\n",
    "        # Construct labels\n",
    "        pos_labels = pos_edge_rank.new_ones(pos_edge_rank.size(0))\n",
    "        neg_labels = neg_edge_rank.new_zeros(neg_edge_rank.size(0))\n",
    "\n",
    "        # Concatenate predictions and labels\n",
    "        all_preds = torch.cat([pos_edge_rank, neg_edge_rank], dim=0)\n",
    "        all_labels = torch.cat([pos_labels, neg_labels], dim=0)\n",
    "\n",
    "        # Compute BCE loss\n",
    "        bce_loss = F.binary_cross_entropy_with_logits(all_preds, all_labels)\n",
    "\n",
    "        return bce_loss"
   ]
  },
  {
   "cell_type": "markdown",
   "id": "9XkKmZJC06IZ",
   "metadata": {
    "id": "9XkKmZJC06IZ"
   },
   "source": [
    "### Training the model"
   ]
  },
  {
   "cell_type": "code",
   "execution_count": 5,
   "id": "b4304b1f-ce07-411d-abc3-43011dd3a83b",
   "metadata": {},
   "outputs": [],
   "source": [
    "# Initialize the model\n",
    "model = ModelEuCoE(\n",
    "    input_channels=data.num_features,\n",
    "    hidden_channels=model_config['hidden_channels'],\n",
    "    num_recommendations=model_config['num_recommendations'],\n",
    "    num_layers=model_config['num_layers'],\n",
    "    num_heads=model_config['num_heads'],\n",
    "    author_node_id_map=author_node_id_map,\n",
    "    author_id_map=author_id_map\n",
    ").to(device)\n",
    "\n",
    "# Transfer to device\n",
    "data = data.to(device)\n",
    "\n",
    "# Initialize the optimizer\n",
    "optimizer: Optimizer = torch.optim.Adam(\n",
    "    params=model.parameters(),\n",
    "    lr=model_config['learning_rate']\n",
    ")\n",
    "\n",
    "# Initialize the scheduler\n",
    "scheduler: LRScheduler = torch.optim.lr_scheduler.ReduceLROnPlateau(\n",
    "    optimizer=optimizer,\n",
    "    mode='min',\n",
    "    factor=0.5,\n",
    "    patience=10\n",
    ")"
   ]
  },
  {
   "cell_type": "code",
   "execution_count": 6,
   "id": "379e5e3ea82af758",
   "metadata": {
    "ExecuteTime": {
     "end_time": "2024-12-13T21:30:55.180060Z",
     "start_time": "2024-12-13T21:30:52.430863Z"
    }
   },
   "outputs": [
    {
     "name": "stdout",
     "output_type": "stream",
     "text": [
      "Epoch 1, train loss: 1.4891, test loss: 0.6653, precision@k: 0.0520, recall@k: 0.1404, MAP@k: 0.0708, MRR@k: 0.1194, NDCG@k: 0.1050, HitRate@k: 0.2504\n",
      "Epoch 2, train loss: 1.8536, test loss: 0.5728, precision@k: 0.0542, recall@k: 0.1467, MAP@k: 0.0734, MRR@k: 0.1237, NDCG@k: 0.1092, HitRate@k: 0.2651\n",
      "Epoch 3, train loss: 1.2268, test loss: 0.5360, precision@k: 0.0536, recall@k: 0.1463, MAP@k: 0.0726, MRR@k: 0.1244, NDCG@k: 0.1087, HitRate@k: 0.2669\n",
      "Epoch 4, train loss: 0.9184, test loss: 0.5331, precision@k: 0.0526, recall@k: 0.1431, MAP@k: 0.0714, MRR@k: 0.1235, NDCG@k: 0.1070, HitRate@k: 0.2643\n",
      "Epoch 5, train loss: 0.8049, test loss: 0.5343, precision@k: 0.0507, recall@k: 0.1374, MAP@k: 0.0697, MRR@k: 0.1227, NDCG@k: 0.1042, HitRate@k: 0.2568\n",
      "Epoch 6, train loss: 0.7072, test loss: 0.5366, precision@k: 0.0497, recall@k: 0.1351, MAP@k: 0.0685, MRR@k: 0.1225, NDCG@k: 0.1026, HitRate@k: 0.2534\n",
      "Epoch 7, train loss: 0.6411, test loss: 0.5367, precision@k: 0.0490, recall@k: 0.1339, MAP@k: 0.0675, MRR@k: 0.1205, NDCG@k: 0.1014, HitRate@k: 0.2522\n",
      "Epoch 8, train loss: 0.5814, test loss: 0.5404, precision@k: 0.0485, recall@k: 0.1331, MAP@k: 0.0663, MRR@k: 0.1181, NDCG@k: 0.1000, HitRate@k: 0.2498\n",
      "Epoch 9, train loss: 0.5398, test loss: 0.5485, precision@k: 0.0482, recall@k: 0.1322, MAP@k: 0.0655, MRR@k: 0.1166, NDCG@k: 0.0990, HitRate@k: 0.2498\n",
      "Epoch 10, train loss: 0.5059, test loss: 0.5598, precision@k: 0.0478, recall@k: 0.1322, MAP@k: 0.0656, MRR@k: 0.1170, NDCG@k: 0.0991, HitRate@k: 0.2491\n",
      "Epoch 11, train loss: 0.4786, test loss: 0.5746, precision@k: 0.0475, recall@k: 0.1311, MAP@k: 0.0654, MRR@k: 0.1168, NDCG@k: 0.0985, HitRate@k: 0.2475\n",
      "Epoch 12, train loss: 0.4552, test loss: 0.5929, precision@k: 0.0471, recall@k: 0.1304, MAP@k: 0.0651, MRR@k: 0.1164, NDCG@k: 0.0981, HitRate@k: 0.2457\n",
      "Epoch 13, train loss: 0.4400, test loss: 0.6112, precision@k: 0.0469, recall@k: 0.1300, MAP@k: 0.0645, MRR@k: 0.1152, NDCG@k: 0.0974, HitRate@k: 0.2449\n",
      "Epoch 14, train loss: 0.4253, test loss: 0.6264, precision@k: 0.0469, recall@k: 0.1303, MAP@k: 0.0647, MRR@k: 0.1156, NDCG@k: 0.0977, HitRate@k: 0.2449\n",
      "Epoch 15, train loss: 0.4129, test loss: 0.6369, precision@k: 0.0469, recall@k: 0.1301, MAP@k: 0.0646, MRR@k: 0.1154, NDCG@k: 0.0976, HitRate@k: 0.2453\n",
      "Epoch 16, train loss: 0.4062, test loss: 0.6236, precision@k: 0.0468, recall@k: 0.1301, MAP@k: 0.0647, MRR@k: 0.1158, NDCG@k: 0.0977, HitRate@k: 0.2456\n",
      "Epoch 17, train loss: 0.3997, test loss: 0.6116, precision@k: 0.0469, recall@k: 0.1302, MAP@k: 0.0645, MRR@k: 0.1155, NDCG@k: 0.0975, HitRate@k: 0.2468\n",
      "Epoch 18, train loss: 0.3967, test loss: 0.6012, precision@k: 0.0472, recall@k: 0.1309, MAP@k: 0.0646, MRR@k: 0.1160, NDCG@k: 0.0979, HitRate@k: 0.2480\n",
      "Epoch 19, train loss: 0.3920, test loss: 0.5925, precision@k: 0.0473, recall@k: 0.1318, MAP@k: 0.0649, MRR@k: 0.1164, NDCG@k: 0.0984, HitRate@k: 0.2489\n",
      "Epoch 20, train loss: 0.3891, test loss: 0.5854, precision@k: 0.0474, recall@k: 0.1324, MAP@k: 0.0650, MRR@k: 0.1170, NDCG@k: 0.0987, HitRate@k: 0.2501\n",
      "Epoch 21, train loss: 0.3859, test loss: 0.5797, precision@k: 0.0476, recall@k: 0.1328, MAP@k: 0.0651, MRR@k: 0.1172, NDCG@k: 0.0989, HitRate@k: 0.2517\n",
      "Epoch 22, train loss: 0.3847, test loss: 0.5749, precision@k: 0.0477, recall@k: 0.1332, MAP@k: 0.0650, MRR@k: 0.1165, NDCG@k: 0.0989, HitRate@k: 0.2522\n",
      "Epoch 23, train loss: 0.3816, test loss: 0.5711, precision@k: 0.0478, recall@k: 0.1334, MAP@k: 0.0653, MRR@k: 0.1175, NDCG@k: 0.0993, HitRate@k: 0.2525\n",
      "Epoch 24, train loss: 0.3798, test loss: 0.5677, precision@k: 0.0478, recall@k: 0.1337, MAP@k: 0.0653, MRR@k: 0.1172, NDCG@k: 0.0993, HitRate@k: 0.2526\n",
      "Epoch 25, train loss: 0.3777, test loss: 0.5646, precision@k: 0.0480, recall@k: 0.1344, MAP@k: 0.0654, MRR@k: 0.1173, NDCG@k: 0.0996, HitRate@k: 0.2543\n",
      "Epoch 26, train loss: 0.3772, test loss: 0.5618, precision@k: 0.0481, recall@k: 0.1350, MAP@k: 0.0657, MRR@k: 0.1174, NDCG@k: 0.0999, HitRate@k: 0.2554\n",
      "Epoch 27, train loss: 0.3754, test loss: 0.5543, precision@k: 0.0482, recall@k: 0.1353, MAP@k: 0.0655, MRR@k: 0.1169, NDCG@k: 0.0999, HitRate@k: 0.2560\n",
      "Epoch 28, train loss: 0.3749, test loss: 0.5480, precision@k: 0.0482, recall@k: 0.1353, MAP@k: 0.0656, MRR@k: 0.1172, NDCG@k: 0.0999, HitRate@k: 0.2557\n",
      "Epoch 29, train loss: 0.3748, test loss: 0.5425, precision@k: 0.0482, recall@k: 0.1355, MAP@k: 0.0657, MRR@k: 0.1176, NDCG@k: 0.1001, HitRate@k: 0.2560\n",
      "Epoch 30, train loss: 0.3735, test loss: 0.5378, precision@k: 0.0484, recall@k: 0.1357, MAP@k: 0.0655, MRR@k: 0.1169, NDCG@k: 0.1001, HitRate@k: 0.2565\n",
      "Epoch 31, train loss: 0.3738, test loss: 0.5336, precision@k: 0.0484, recall@k: 0.1357, MAP@k: 0.0657, MRR@k: 0.1172, NDCG@k: 0.1002, HitRate@k: 0.2562\n",
      "Epoch 32, train loss: 0.3730, test loss: 0.5300, precision@k: 0.0486, recall@k: 0.1359, MAP@k: 0.0658, MRR@k: 0.1176, NDCG@k: 0.1004, HitRate@k: 0.2573\n",
      "Epoch 33, train loss: 0.3732, test loss: 0.5268, precision@k: 0.0487, recall@k: 0.1362, MAP@k: 0.0661, MRR@k: 0.1181, NDCG@k: 0.1008, HitRate@k: 0.2587\n",
      "Epoch 34, train loss: 0.3730, test loss: 0.5239, precision@k: 0.0488, recall@k: 0.1365, MAP@k: 0.0661, MRR@k: 0.1182, NDCG@k: 0.1009, HitRate@k: 0.2596\n",
      "Epoch 35, train loss: 0.3725, test loss: 0.5213, precision@k: 0.0489, recall@k: 0.1364, MAP@k: 0.0660, MRR@k: 0.1179, NDCG@k: 0.1007, HitRate@k: 0.2593\n",
      "Epoch 36, train loss: 0.3719, test loss: 0.5189, precision@k: 0.0489, recall@k: 0.1368, MAP@k: 0.0664, MRR@k: 0.1184, NDCG@k: 0.1012, HitRate@k: 0.2599\n",
      "Epoch 37, train loss: 0.3721, test loss: 0.5166, precision@k: 0.0489, recall@k: 0.1364, MAP@k: 0.0664, MRR@k: 0.1185, NDCG@k: 0.1012, HitRate@k: 0.2599\n",
      "Epoch 38, train loss: 0.3712, test loss: 0.5144, precision@k: 0.0490, recall@k: 0.1366, MAP@k: 0.0665, MRR@k: 0.1191, NDCG@k: 0.1014, HitRate@k: 0.2604\n",
      "Epoch 39, train loss: 0.3705, test loss: 0.5124, precision@k: 0.0490, recall@k: 0.1366, MAP@k: 0.0664, MRR@k: 0.1187, NDCG@k: 0.1013, HitRate@k: 0.2601\n",
      "Epoch 40, train loss: 0.3694, test loss: 0.5107, precision@k: 0.0490, recall@k: 0.1368, MAP@k: 0.0664, MRR@k: 0.1183, NDCG@k: 0.1012, HitRate@k: 0.2600\n",
      "Epoch 41, train loss: 0.3696, test loss: 0.5091, precision@k: 0.0491, recall@k: 0.1372, MAP@k: 0.0666, MRR@k: 0.1197, NDCG@k: 0.1016, HitRate@k: 0.2607\n",
      "Epoch 42, train loss: 0.3694, test loss: 0.5076, precision@k: 0.0491, recall@k: 0.1375, MAP@k: 0.0667, MRR@k: 0.1197, NDCG@k: 0.1018, HitRate@k: 0.2610\n",
      "Epoch 43, train loss: 0.3688, test loss: 0.5062, precision@k: 0.0491, recall@k: 0.1378, MAP@k: 0.0670, MRR@k: 0.1199, NDCG@k: 0.1021, HitRate@k: 0.2614\n",
      "Epoch 44, train loss: 0.3686, test loss: 0.5049, precision@k: 0.0492, recall@k: 0.1380, MAP@k: 0.0676, MRR@k: 0.1204, NDCG@k: 0.1026, HitRate@k: 0.2620\n",
      "Epoch 45, train loss: 0.3685, test loss: 0.5038, precision@k: 0.0492, recall@k: 0.1380, MAP@k: 0.0675, MRR@k: 0.1206, NDCG@k: 0.1025, HitRate@k: 0.2622\n",
      "Epoch 46, train loss: 0.3687, test loss: 0.5029, precision@k: 0.0494, recall@k: 0.1384, MAP@k: 0.0673, MRR@k: 0.1202, NDCG@k: 0.1025, HitRate@k: 0.2631\n",
      "Epoch 47, train loss: 0.3680, test loss: 0.5021, precision@k: 0.0494, recall@k: 0.1386, MAP@k: 0.0673, MRR@k: 0.1204, NDCG@k: 0.1026, HitRate@k: 0.2638\n",
      "Epoch 48, train loss: 0.3672, test loss: 0.5013, precision@k: 0.0496, recall@k: 0.1390, MAP@k: 0.0671, MRR@k: 0.1195, NDCG@k: 0.1025, HitRate@k: 0.2646\n",
      "Epoch 49, train loss: 0.3676, test loss: 0.5006, precision@k: 0.0496, recall@k: 0.1390, MAP@k: 0.0673, MRR@k: 0.1201, NDCG@k: 0.1027, HitRate@k: 0.2647\n",
      "Epoch 50, train loss: 0.3665, test loss: 0.5000, precision@k: 0.0496, recall@k: 0.1390, MAP@k: 0.0674, MRR@k: 0.1204, NDCG@k: 0.1029, HitRate@k: 0.2649\n"
     ]
    }
   ],
   "source": [
    "results: list = list()\n",
    "for epoch in range(1, model_config['num_epochs'] + 1):\n",
    "    # ------ Train\n",
    "    train_loss: float = train(\n",
    "        model=model,\n",
    "        data=data,\n",
    "        optimizer=optimizer\n",
    "    )\n",
    "    # ------ Test\n",
    "    test_loss: float = test(\n",
    "        model=model,\n",
    "        data=data\n",
    "    )\n",
    "    scheduler.step(test_loss)\n",
    "    # ------ Evaluate\n",
    "    evaluation_results: dict = evaluate(\n",
    "        k=model_config['num_recommendations'],\n",
    "        model=model,\n",
    "        data=data\n",
    "    )\n",
    "\n",
    "    # Save results\n",
    "    epoch_result = get_results(\n",
    "        epoch=epoch,\n",
    "        train_loss=train_loss,\n",
    "        test_loss=test_loss,\n",
    "        evaluation_results=evaluation_results\n",
    "    )\n",
    "    results.append(epoch_result)"
   ]
  },
  {
   "cell_type": "markdown",
   "id": "CIzjEI3R-eY-",
   "metadata": {
    "id": "CIzjEI3R-eY-"
   },
   "source": [
    "### Model evaluation"
   ]
  },
  {
   "cell_type": "code",
   "execution_count": 7,
   "id": "JHmrYAoF-dWh",
   "metadata": {
    "colab": {
     "base_uri": "https://localhost:8080/",
     "height": 472
    },
    "id": "JHmrYAoF-dWh",
    "outputId": "51b44a7b-4d40-4c23-8009-d3af553ed2e9"
   },
   "outputs": [],
   "source": [
    "results_df = pd.DataFrame(results)\n",
    "results_df.to_csv(f'../results/results_Model{model_name}.csv', index=False)"
   ]
  },
  {
   "cell_type": "code",
   "execution_count": 8,
   "id": "RwsZRSb828Ua",
   "metadata": {
    "colab": {
     "base_uri": "https://localhost:8080/",
     "height": 472
    },
    "id": "RwsZRSb828Ua",
    "outputId": "57cc0fe4-2411-44ed-cfc2-f41e6c682819"
   },
   "outputs": [
    {
     "data": {
      "image/png": "[encoded data removed]",
      "text/plain": [
       "<Figure size 640x480 with 1 Axes>"
      ]
     },
     "metadata": {},
     "output_type": "display_data"
    }
   ],
   "source": [
    "# Generate loss curve\n",
    "# Train loss\n",
    "sns.lineplot(data=results_df, x='Epoch', y='Train Loss')\n",
    "# Test loss\n",
    "sns.lineplot(data=results_df, x='Epoch', y='Test Loss')\n",
    "plt.xlabel('Epoch')\n",
    "plt.ylabel('Loss')\n",
    "plt.title('Loss curve')\n",
    "plt.yscale('log')\n",
    "plt.show()"
   ]
  },
  {
   "cell_type": "code",
   "execution_count": 9,
   "id": "QrRBTsA5vAs1",
   "metadata": {
    "colab": {
     "base_uri": "https://localhost:8080/"
    },
    "id": "QrRBTsA5vAs1",
    "outputId": "afffeb4f-f62c-4c48-cf69-c7cb5eb06f55"
   },
   "outputs": [
    {
     "data": {
      "image/png": "[encoded data removed]",
      "text/plain": [
       "<Figure size 640x480 with 1 Axes>"
      ]
     },
     "metadata": {},
     "output_type": "display_data"
    }
   ],
   "source": [
    "# Generate evaluation metrics plot\n",
    "sns.lineplot(data=results_df, x='Epoch', y='Precision@k')\n",
    "sns.lineplot(data=results_df, x='Epoch', y='Recall@k')\n",
    "sns.lineplot(data=results_df, x='Epoch', y='MAP@k')\n",
    "sns.lineplot(data=results_df, x='Epoch', y='MRR@k')\n",
    "sns.lineplot(data=results_df, x='Epoch', y='NDCG@k')\n",
    "sns.lineplot(data=results_df, x='Epoch', y='HitRate@k')\n",
    "plt.xlabel('Epoch')\n",
    "plt.ylabel('Performance')\n",
    "plt.title('Performance metrics')\n",
    "plt.show()"
   ]
  }
 ],
 "metadata": {
  "colab": {
   "collapsed_sections": [
    "ISUVX4hvFMKM",
    "aZQQpLqCFeGK",
    "2cXJ5OO10uxX"
   ],
   "name": "Collaboration Recommender 1.0 (Homogeneous).ipynb",
   "provenance": []
  },
  "kernelspec": {
   "display_name": "Python 3 (ipykernel)",
   "language": "python",
   "name": "python3"
  },
  "language_info": {
   "codemirror_mode": {
    "name": "ipython",
    "version": 3
   },
   "file_extension": ".py",
   "mimetype": "text/x-python",
   "name": "python",
   "nbconvert_exporter": "python",
   "pygments_lexer": "ipython3",
   "version": "3.12.3"
  }
 },
 "nbformat": 4,
 "nbformat_minor": 5
}
