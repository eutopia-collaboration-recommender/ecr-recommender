{
 "cells": [
  {
   "cell_type": "markdown",
   "id": "zYPnKxIhFGVJ",
   "metadata": {
    "id": "zYPnKxIhFGVJ"
   },
   "source": [
    "# Model B\n",
    "\n",
    "This is a script showing results of **model B** in the ablation studies. The model is built using the following configuration:\n",
    "\n",
    "- **Backbone:** SAGE\n",
    "- **Graph type:** Homogeneous\n",
    "- **Loss function:** Bayesian personalized ranking\n",
    "- **Embeddings used:** Yes\n",
    "- **Research trends used:** No\n",
    "- **Lead author flag used:** No\n",
    "\n",
    "*Primarily, the model is used as the STOT model from the related works using article and author contextual embeddings in training and a SAGE backbone.*"
   ]
  },
  {
   "cell_type": "markdown",
   "id": "x7McZwR_FRta",
   "metadata": {
    "id": "x7McZwR_FRta"
   },
   "source": [
    "## **Setting up environment**\n",
    "\n",
    "---\n",
    "\n"
   ]
  },
  {
   "cell_type": "markdown",
   "id": "cD8tnTfC60X2",
   "metadata": {
    "id": "cD8tnTfC60X2"
   },
   "source": [
    "### Loading libraries"
   ]
  },
  {
   "cell_type": "code",
   "execution_count": 26,
   "id": "5okfWmvKEI3Z",
   "metadata": {
    "ExecuteTime": {
     "end_time": "2024-12-13T17:47:50.264742Z",
     "start_time": "2024-12-13T17:47:50.256254Z"
    },
    "id": "5okfWmvKEI3Z"
   },
   "outputs": [],
   "source": [
    "import os\n",
    "import sys\n",
    "\n",
    "sys.path.insert(0, os.path.abspath(\"..\"))\n",
    "\n",
    "import torch\n",
    "import pickle\n",
    "import pandas as pd\n",
    "import seaborn as sns\n",
    "import matplotlib.pyplot as plt\n",
    "\n",
    "from typing import Optional\n",
    "\n",
    "from torch import Tensor\n",
    "from torch.nn import ModuleList\n",
    "from torch.optim import Optimizer\n",
    "from torch_geometric.typing import Adj, OptTensor\n",
    "from torch_geometric.nn.conv import SAGEConv\n",
    "from torch.optim.lr_scheduler import LRScheduler\n",
    "\n",
    "from util.homogeneous.dataset import DatasetEuCoHM\n",
    "from util.homogeneous.model import ModelEuCoHM\n",
    "from util.homogeneous.train import (\n",
    "    train,\n",
    "    test,\n",
    "    evaluate,\n",
    "    get_results\n",
    ")"
   ]
  },
  {
   "cell_type": "markdown",
   "id": "bQ_xqBiFn97Q",
   "metadata": {
    "id": "bQ_xqBiFn97Q"
   },
   "source": [
    "### Global variables"
   ]
  },
  {
   "cell_type": "code",
   "execution_count": 31,
   "id": "9r1K6ezsn97Q",
   "metadata": {
    "ExecuteTime": {
     "end_time": "2024-12-13T21:23:20.128019Z",
     "start_time": "2024-12-13T21:23:20.037264Z"
    },
    "id": "9r1K6ezsn97Q"
   },
   "outputs": [],
   "source": [
    "# Model name\n",
    "model_name = 'B'\n",
    "# Dataset save filepath\n",
    "dataset_save_filepath = '../data/dataset_homogeneous.pkl'\n",
    "# Device name\n",
    "device = 'cpu'\n",
    "\n",
    "# Model configuration\n",
    "model_config = dict(\n",
    "    hidden_channels=64,\n",
    "    learning_rate=1e-3,\n",
    "    num_layers=4,\n",
    "    num_epochs=50,\n",
    "    num_recommendations=10\n",
    ")\n",
    "# Set seaborn theme\n",
    "sns.set_theme(style=\"whitegrid\", palette=\"pastel\")"
   ]
  },
  {
   "cell_type": "markdown",
   "id": "ISUVX4hvFMKM",
   "metadata": {
    "id": "ISUVX4hvFMKM"
   },
   "source": [
    "## Loading dataset\n",
    "\n",
    "---\n"
   ]
  },
  {
   "cell_type": "code",
   "execution_count": 5,
   "id": "3b608e9d-243a-46aa-a261-7ae3464093db",
   "metadata": {},
   "outputs": [
    {
     "name": "stderr",
     "output_type": "stream",
     "text": [
      "/home/eucollab/eutopia-colllaboration/ecr-recommender/.venv/lib/python3.12/site-packages/torch/storage.py:414: FutureWarning: You are using `torch.load` with `weights_only=False` (the current default value), which uses the default pickle module implicitly. It is possible to construct malicious pickle data which will execute arbitrary code during unpickling (See https://github.com/pytorch/pytorch/blob/main/SECURITY.md#untrusted-models for more details). In a future release, the default value for `weights_only` will be flipped to `True`. This limits the functions that could be executed during unpickling. Arbitrary objects will no longer be allowed to be loaded via this mode unless they are explicitly allowlisted by the user via `torch.serialization.add_safe_globals`. We recommend you start setting `weights_only=True` for any use case where you don't have full control of the loaded file. Please open an issue on GitHub for any issues related to this experimental feature.\n",
      "  return torch.load(io.BytesIO(b))\n"
     ]
    }
   ],
   "source": [
    "# Add the object as a safe global to shut down warning\n",
    "torch.serialization.add_safe_globals([DatasetEuCoHM])\n",
    "# Open the dataset file and save it to variable\n",
    "with open(dataset_save_filepath, 'rb') as file:\n",
    "    dataset: DatasetEuCoHM = pickle.load(file)\n",
    "\n",
    "data = dataset.data\n",
    "author_id_map = dataset.author_id_map\n",
    "author_node_id_map = dataset.author_node_id_map"
   ]
  },
  {
   "cell_type": "markdown",
   "id": "04vUews17zy8",
   "metadata": {
    "id": "04vUews17zy8"
   },
   "source": [
    "## Model training\n",
    "\n",
    "\n",
    "---\n",
    "\n"
   ]
  },
  {
   "cell_type": "markdown",
   "id": "IMCtMQz00wC_",
   "metadata": {
    "id": "IMCtMQz00wC_"
   },
   "source": [
    "### Model definition"
   ]
  },
  {
   "cell_type": "code",
   "execution_count": 15,
   "id": "TJaBxQX_7_3D",
   "metadata": {
    "ExecuteTime": {
     "end_time": "2024-12-13T21:28:22.411435Z",
     "start_time": "2024-12-13T21:28:22.248727Z"
    },
    "id": "TJaBxQX_7_3D"
   },
   "outputs": [],
   "source": [
    "class ModelEuCoB(ModelEuCoHM):\n",
    "    def __init__(self,\n",
    "                 input_channels: int,\n",
    "                 hidden_channels: int,\n",
    "                 num_layers: int,\n",
    "                 num_recommendations: int,\n",
    "                 author_node_id_map: dict,\n",
    "                 author_id_map: dict,\n",
    "                 device: str = 'cpu'):\n",
    "        super().__init__(\n",
    "            input_channels=input_channels,\n",
    "            hidden_channels=hidden_channels,\n",
    "            num_layers=num_layers,\n",
    "            num_recommendations=num_recommendations,\n",
    "            author_node_id_map=author_node_id_map,\n",
    "            author_id_map=author_id_map,\n",
    "            device=device\n",
    "        )\n",
    "\n",
    "        # Initialize the convolutional layers\n",
    "        self.conv_layers = ModuleList([\n",
    "            SAGEConv(\n",
    "                in_channels=self.input_channels if ix == 0 else self.hidden_channels,\n",
    "                out_channels=self.hidden_channels\n",
    "            )\n",
    "            for ix in range(self.num_layers)\n",
    "        ])"
   ]
  },
  {
   "cell_type": "markdown",
   "id": "9XkKmZJC06IZ",
   "metadata": {
    "id": "9XkKmZJC06IZ"
   },
   "source": [
    "### Training the model"
   ]
  },
  {
   "cell_type": "code",
   "execution_count": 21,
   "id": "b4304b1f-ce07-411d-abc3-43011dd3a83b",
   "metadata": {},
   "outputs": [],
   "source": [
    "# Initialize the model\n",
    "model = ModelEuCoB(\n",
    "    input_channels=data.num_features,\n",
    "    hidden_channels=model_config['hidden_channels'],\n",
    "    num_recommendations=model_config['num_recommendations'],\n",
    "    num_layers=model_config['num_layers'],\n",
    "    author_node_id_map=author_node_id_map,\n",
    "    author_id_map=author_id_map\n",
    ").to(device)\n",
    "\n",
    "# Transfer to device\n",
    "data = data.to(device)\n",
    "\n",
    "# Initialize the optimizer\n",
    "optimizer: Optimizer = torch.optim.Adam(\n",
    "    params=model.parameters(),\n",
    "    lr=model_config['learning_rate']\n",
    ")\n",
    "\n",
    "# Initialize the scheduler\n",
    "scheduler: LRScheduler = torch.optim.lr_scheduler.ReduceLROnPlateau(\n",
    "    optimizer=optimizer,\n",
    "    mode='min',\n",
    "    factor=0.5,\n",
    "    patience=10\n",
    ")"
   ]
  },
  {
   "cell_type": "code",
   "execution_count": 22,
   "id": "379e5e3ea82af758",
   "metadata": {
    "ExecuteTime": {
     "end_time": "2024-12-13T21:30:55.180060Z",
     "start_time": "2024-12-13T21:30:52.430863Z"
    }
   },
   "outputs": [
    {
     "name": "stdout",
     "output_type": "stream",
     "text": [
      "Epoch 1, train loss: 0.0108, test loss: 0.2480, precision@k: 0.0387, recall@k: 0.0744, MAP@k: 0.0418, MRR@k: 0.0762, NDCG@k: 0.0626, HitRate@k: 0.1653\n",
      "Epoch 2, train loss: 0.0078, test loss: 0.2147, precision@k: 0.0324, recall@k: 0.0653, MAP@k: 0.0355, MRR@k: 0.0663, NDCG@k: 0.0536, HitRate@k: 0.1439\n",
      "Epoch 3, train loss: 0.0059, test loss: 0.2004, precision@k: 0.0292, recall@k: 0.0610, MAP@k: 0.0310, MRR@k: 0.0621, NDCG@k: 0.0489, HitRate@k: 0.1410\n",
      "Epoch 4, train loss: 0.0049, test loss: 0.1948, precision@k: 0.0251, recall@k: 0.0560, MAP@k: 0.0263, MRR@k: 0.0567, NDCG@k: 0.0433, HitRate@k: 0.1345\n",
      "Epoch 5, train loss: 0.0044, test loss: 0.1923, precision@k: 0.0222, recall@k: 0.0554, MAP@k: 0.0240, MRR@k: 0.0523, NDCG@k: 0.0406, HitRate@k: 0.1312\n",
      "Epoch 6, train loss: 0.0039, test loss: 0.1937, precision@k: 0.0217, recall@k: 0.0546, MAP@k: 0.0242, MRR@k: 0.0516, NDCG@k: 0.0403, HitRate@k: 0.1270\n",
      "Epoch 7, train loss: 0.0037, test loss: 0.1987, precision@k: 0.0221, recall@k: 0.0561, MAP@k: 0.0243, MRR@k: 0.0507, NDCG@k: 0.0407, HitRate@k: 0.1279\n",
      "Epoch 8, train loss: 0.0038, test loss: 0.2049, precision@k: 0.0227, recall@k: 0.0572, MAP@k: 0.0245, MRR@k: 0.0504, NDCG@k: 0.0413, HitRate@k: 0.1299\n",
      "Epoch 9, train loss: 0.0034, test loss: 0.2106, precision@k: 0.0232, recall@k: 0.0592, MAP@k: 0.0250, MRR@k: 0.0511, NDCG@k: 0.0422, HitRate@k: 0.1340\n",
      "Epoch 10, train loss: 0.0030, test loss: 0.2142, precision@k: 0.0235, recall@k: 0.0597, MAP@k: 0.0248, MRR@k: 0.0512, NDCG@k: 0.0424, HitRate@k: 0.1358\n",
      "Epoch 11, train loss: 0.0032, test loss: 0.2163, precision@k: 0.0238, recall@k: 0.0606, MAP@k: 0.0251, MRR@k: 0.0518, NDCG@k: 0.0430, HitRate@k: 0.1387\n",
      "Epoch 12, train loss: 0.0030, test loss: 0.2176, precision@k: 0.0240, recall@k: 0.0611, MAP@k: 0.0253, MRR@k: 0.0523, NDCG@k: 0.0434, HitRate@k: 0.1400\n",
      "Epoch 13, train loss: 0.0031, test loss: 0.2188, precision@k: 0.0243, recall@k: 0.0612, MAP@k: 0.0257, MRR@k: 0.0530, NDCG@k: 0.0438, HitRate@k: 0.1409\n",
      "Epoch 14, train loss: 0.0026, test loss: 0.2207, precision@k: 0.0242, recall@k: 0.0603, MAP@k: 0.0256, MRR@k: 0.0529, NDCG@k: 0.0436, HitRate@k: 0.1392\n",
      "Epoch 15, train loss: 0.0026, test loss: 0.2227, precision@k: 0.0245, recall@k: 0.0612, MAP@k: 0.0258, MRR@k: 0.0537, NDCG@k: 0.0440, HitRate@k: 0.1408\n",
      "Epoch 16, train loss: 0.0025, test loss: 0.2239, precision@k: 0.0249, recall@k: 0.0623, MAP@k: 0.0265, MRR@k: 0.0554, NDCG@k: 0.0451, HitRate@k: 0.1421\n",
      "Epoch 17, train loss: 0.0026, test loss: 0.2235, precision@k: 0.0252, recall@k: 0.0626, MAP@k: 0.0268, MRR@k: 0.0561, NDCG@k: 0.0455, HitRate@k: 0.1437\n",
      "Epoch 18, train loss: 0.0026, test loss: 0.2226, precision@k: 0.0256, recall@k: 0.0638, MAP@k: 0.0274, MRR@k: 0.0577, NDCG@k: 0.0465, HitRate@k: 0.1467\n",
      "Epoch 19, train loss: 0.0028, test loss: 0.2217, precision@k: 0.0261, recall@k: 0.0652, MAP@k: 0.0279, MRR@k: 0.0589, NDCG@k: 0.0474, HitRate@k: 0.1496\n",
      "Epoch 20, train loss: 0.0024, test loss: 0.2206, precision@k: 0.0262, recall@k: 0.0661, MAP@k: 0.0283, MRR@k: 0.0597, NDCG@k: 0.0479, HitRate@k: 0.1510\n",
      "Epoch 21, train loss: 0.0023, test loss: 0.2193, precision@k: 0.0267, recall@k: 0.0672, MAP@k: 0.0286, MRR@k: 0.0602, NDCG@k: 0.0485, HitRate@k: 0.1537\n",
      "Epoch 22, train loss: 0.0024, test loss: 0.2178, precision@k: 0.0265, recall@k: 0.0677, MAP@k: 0.0288, MRR@k: 0.0605, NDCG@k: 0.0487, HitRate@k: 0.1537\n",
      "Epoch 23, train loss: 0.0022, test loss: 0.2163, precision@k: 0.0264, recall@k: 0.0672, MAP@k: 0.0287, MRR@k: 0.0605, NDCG@k: 0.0485, HitRate@k: 0.1521\n",
      "Epoch 24, train loss: 0.0021, test loss: 0.2152, precision@k: 0.0266, recall@k: 0.0677, MAP@k: 0.0288, MRR@k: 0.0604, NDCG@k: 0.0488, HitRate@k: 0.1525\n",
      "Epoch 25, train loss: 0.0022, test loss: 0.2144, precision@k: 0.0270, recall@k: 0.0688, MAP@k: 0.0292, MRR@k: 0.0611, NDCG@k: 0.0495, HitRate@k: 0.1550\n",
      "Epoch 26, train loss: 0.0021, test loss: 0.2135, precision@k: 0.0268, recall@k: 0.0689, MAP@k: 0.0295, MRR@k: 0.0616, NDCG@k: 0.0496, HitRate@k: 0.1544\n",
      "Epoch 27, train loss: 0.0021, test loss: 0.2125, precision@k: 0.0269, recall@k: 0.0700, MAP@k: 0.0298, MRR@k: 0.0617, NDCG@k: 0.0501, HitRate@k: 0.1562\n",
      "Epoch 28, train loss: 0.0021, test loss: 0.2119, precision@k: 0.0270, recall@k: 0.0699, MAP@k: 0.0299, MRR@k: 0.0620, NDCG@k: 0.0502, HitRate@k: 0.1563\n",
      "Epoch 29, train loss: 0.0021, test loss: 0.2115, precision@k: 0.0272, recall@k: 0.0702, MAP@k: 0.0302, MRR@k: 0.0625, NDCG@k: 0.0506, HitRate@k: 0.1576\n",
      "Epoch 30, train loss: 0.0021, test loss: 0.2112, precision@k: 0.0274, recall@k: 0.0709, MAP@k: 0.0305, MRR@k: 0.0631, NDCG@k: 0.0511, HitRate@k: 0.1589\n",
      "Epoch 31, train loss: 0.0020, test loss: 0.2107, precision@k: 0.0275, recall@k: 0.0712, MAP@k: 0.0307, MRR@k: 0.0634, NDCG@k: 0.0513, HitRate@k: 0.1596\n",
      "Epoch 32, train loss: 0.0021, test loss: 0.2102, precision@k: 0.0277, recall@k: 0.0717, MAP@k: 0.0309, MRR@k: 0.0640, NDCG@k: 0.0517, HitRate@k: 0.1610\n",
      "Epoch 33, train loss: 0.0023, test loss: 0.2098, precision@k: 0.0277, recall@k: 0.0716, MAP@k: 0.0309, MRR@k: 0.0642, NDCG@k: 0.0517, HitRate@k: 0.1608\n",
      "Epoch 34, train loss: 0.0020, test loss: 0.2096, precision@k: 0.0278, recall@k: 0.0719, MAP@k: 0.0312, MRR@k: 0.0648, NDCG@k: 0.0520, HitRate@k: 0.1607\n",
      "Epoch 35, train loss: 0.0020, test loss: 0.2094, precision@k: 0.0278, recall@k: 0.0716, MAP@k: 0.0313, MRR@k: 0.0650, NDCG@k: 0.0521, HitRate@k: 0.1604\n",
      "Epoch 36, train loss: 0.0022, test loss: 0.2093, precision@k: 0.0281, recall@k: 0.0727, MAP@k: 0.0317, MRR@k: 0.0657, NDCG@k: 0.0528, HitRate@k: 0.1629\n",
      "Epoch 37, train loss: 0.0020, test loss: 0.2092, precision@k: 0.0283, recall@k: 0.0731, MAP@k: 0.0319, MRR@k: 0.0662, NDCG@k: 0.0531, HitRate@k: 0.1637\n",
      "Epoch 38, train loss: 0.0019, test loss: 0.2092, precision@k: 0.0285, recall@k: 0.0739, MAP@k: 0.0321, MRR@k: 0.0669, NDCG@k: 0.0536, HitRate@k: 0.1655\n",
      "Epoch 39, train loss: 0.0021, test loss: 0.2093, precision@k: 0.0285, recall@k: 0.0740, MAP@k: 0.0321, MRR@k: 0.0670, NDCG@k: 0.0537, HitRate@k: 0.1658\n",
      "Epoch 40, train loss: 0.0020, test loss: 0.2094, precision@k: 0.0287, recall@k: 0.0744, MAP@k: 0.0323, MRR@k: 0.0675, NDCG@k: 0.0540, HitRate@k: 0.1667\n",
      "Epoch 41, train loss: 0.0021, test loss: 0.2094, precision@k: 0.0288, recall@k: 0.0748, MAP@k: 0.0325, MRR@k: 0.0678, NDCG@k: 0.0543, HitRate@k: 0.1678\n",
      "Epoch 42, train loss: 0.0019, test loss: 0.2095, precision@k: 0.0289, recall@k: 0.0752, MAP@k: 0.0326, MRR@k: 0.0679, NDCG@k: 0.0544, HitRate@k: 0.1683\n",
      "Epoch 43, train loss: 0.0020, test loss: 0.2095, precision@k: 0.0290, recall@k: 0.0754, MAP@k: 0.0327, MRR@k: 0.0682, NDCG@k: 0.0546, HitRate@k: 0.1685\n",
      "Epoch 44, train loss: 0.0020, test loss: 0.2095, precision@k: 0.0290, recall@k: 0.0756, MAP@k: 0.0329, MRR@k: 0.0684, NDCG@k: 0.0548, HitRate@k: 0.1688\n",
      "Epoch 45, train loss: 0.0019, test loss: 0.2094, precision@k: 0.0291, recall@k: 0.0755, MAP@k: 0.0329, MRR@k: 0.0685, NDCG@k: 0.0548, HitRate@k: 0.1689\n",
      "Epoch 46, train loss: 0.0020, test loss: 0.2095, precision@k: 0.0291, recall@k: 0.0756, MAP@k: 0.0330, MRR@k: 0.0685, NDCG@k: 0.0549, HitRate@k: 0.1692\n",
      "Epoch 47, train loss: 0.0018, test loss: 0.2096, precision@k: 0.0292, recall@k: 0.0756, MAP@k: 0.0331, MRR@k: 0.0688, NDCG@k: 0.0551, HitRate@k: 0.1692\n",
      "Epoch 48, train loss: 0.0021, test loss: 0.2096, precision@k: 0.0291, recall@k: 0.0755, MAP@k: 0.0332, MRR@k: 0.0690, NDCG@k: 0.0551, HitRate@k: 0.1691\n",
      "Epoch 49, train loss: 0.0017, test loss: 0.2097, precision@k: 0.0292, recall@k: 0.0756, MAP@k: 0.0332, MRR@k: 0.0690, NDCG@k: 0.0552, HitRate@k: 0.1693\n",
      "Epoch 50, train loss: 0.0017, test loss: 0.2097, precision@k: 0.0292, recall@k: 0.0756, MAP@k: 0.0333, MRR@k: 0.0689, NDCG@k: 0.0552, HitRate@k: 0.1692\n"
     ]
    }
   ],
   "source": [
    "results: list = list()\n",
    "for epoch in range(1, model_config['num_epochs'] + 1):\n",
    "    # ------ Train\n",
    "    train_loss: float = train(\n",
    "        model=model,\n",
    "        data=data,\n",
    "        optimizer=optimizer\n",
    "    )\n",
    "    # ------ Test\n",
    "    test_loss: float = test(\n",
    "        model=model,\n",
    "        data=data\n",
    "    )\n",
    "    scheduler.step(test_loss)\n",
    "    # ------ Evaluate\n",
    "    evaluation_results: dict = evaluate(\n",
    "        k=model_config['num_recommendations'],\n",
    "        model=model,\n",
    "        data=data\n",
    "    )\n",
    "\n",
    "    # Save results\n",
    "    epoch_result = get_results(\n",
    "        epoch=epoch,\n",
    "        train_loss=train_loss,\n",
    "        test_loss=test_loss,\n",
    "        evaluation_results=evaluation_results\n",
    "    )\n",
    "    results.append(epoch_result)"
   ]
  },
  {
   "cell_type": "markdown",
   "id": "CIzjEI3R-eY-",
   "metadata": {
    "id": "CIzjEI3R-eY-"
   },
   "source": [
    "### Model evaluation"
   ]
  },
  {
   "cell_type": "code",
   "execution_count": 32,
   "id": "JHmrYAoF-dWh",
   "metadata": {
    "colab": {
     "base_uri": "https://localhost:8080/",
     "height": 472
    },
    "id": "JHmrYAoF-dWh",
    "outputId": "51b44a7b-4d40-4c23-8009-d3af553ed2e9"
   },
   "outputs": [],
   "source": [
    "results_df = pd.DataFrame(results)\n",
    "results_df.to_csv(f'../results/results_Model{model_name}.csv', index=False)"
   ]
  },
  {
   "cell_type": "code",
   "execution_count": 28,
   "id": "RwsZRSb828Ua",
   "metadata": {
    "colab": {
     "base_uri": "https://localhost:8080/",
     "height": 472
    },
    "id": "RwsZRSb828Ua",
    "outputId": "57cc0fe4-2411-44ed-cfc2-f41e6c682819"
   },
   "outputs": [
    {
     "data": {
      "image/png": "[encoded data removed]",
      "text/plain": [
       "<Figure size 640x480 with 1 Axes>"
      ]
     },
     "metadata": {},
     "output_type": "display_data"
    }
   ],
   "source": [
    "# Generate loss curve\n",
    "# Train loss\n",
    "sns.lineplot(data=results_df, x='Epoch', y='Train Loss')\n",
    "# Test loss\n",
    "sns.lineplot(data=results_df, x='Epoch', y='Test Loss')\n",
    "plt.xlabel('Epoch')\n",
    "plt.ylabel('Loss')\n",
    "plt.title('Loss curve')\n",
    "plt.yscale('log')\n",
    "plt.show()"
   ]
  },
  {
   "cell_type": "code",
   "execution_count": 30,
   "id": "QrRBTsA5vAs1",
   "metadata": {
    "colab": {
     "base_uri": "https://localhost:8080/"
    },
    "id": "QrRBTsA5vAs1",
    "outputId": "afffeb4f-f62c-4c48-cf69-c7cb5eb06f55"
   },
   "outputs": [
    {
     "data": {
      "image/png": "[encoded data removed]",
      "text/plain": [
       "<Figure size 640x480 with 1 Axes>"
      ]
     },
     "metadata": {},
     "output_type": "display_data"
    }
   ],
   "source": [
    "# Generate evaluation metrics plot\n",
    "sns.lineplot(data=results_df, x='Epoch', y='Precision@k')\n",
    "sns.lineplot(data=results_df, x='Epoch', y='Recall@k')\n",
    "sns.lineplot(data=results_df, x='Epoch', y='MAP@k')\n",
    "sns.lineplot(data=results_df, x='Epoch', y='MRR@k')\n",
    "sns.lineplot(data=results_df, x='Epoch', y='NDCG@k')\n",
    "sns.lineplot(data=results_df, x='Epoch', y='HitRate@k')\n",
    "plt.xlabel('Epoch')\n",
    "plt.ylabel('Performance')\n",
    "plt.title('Performance metrics')\n",
    "plt.show()"
   ]
  }
 ],
 "metadata": {
  "colab": {
   "collapsed_sections": [
    "ISUVX4hvFMKM",
    "aZQQpLqCFeGK",
    "2cXJ5OO10uxX"
   ],
   "name": "Collaboration Recommender 1.0 (Homogeneous).ipynb",
   "provenance": []
  },
  "kernelspec": {
   "display_name": "Python 3 (ipykernel)",
   "language": "python",
   "name": "python3"
  },
  "language_info": {
   "codemirror_mode": {
    "name": "ipython",
    "version": 3
   },
   "file_extension": ".py",
   "mimetype": "text/x-python",
   "name": "python",
   "nbconvert_exporter": "python",
   "pygments_lexer": "ipython3",
   "version": "3.12.3"
  }
 },
 "nbformat": 4,
 "nbformat_minor": 5
}
