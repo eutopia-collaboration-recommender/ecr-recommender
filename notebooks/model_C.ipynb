{
 "cells": [
  {
   "cell_type": "markdown",
   "id": "zYPnKxIhFGVJ",
   "metadata": {
    "id": "zYPnKxIhFGVJ"
   },
   "source": [
    "# Model C\n",
    "\n",
    "This is a script showing results of **model C** in the ablation studies. The model is built using the following configuration:\n",
    "\n",
    "- **Backbone:** GATv2\n",
    "- **Graph type:** Homogeneous\n",
    "- **Loss function:** Bayesian personalized ranking\n",
    "- **Embeddings used:** Yes\n",
    "- **Research trends used:** No\n",
    "- **Lead author flag used:** No\n",
    "\n",
    "*This model upgrades the state-of-the-art graph neural network methodology with novel graph attention network approach.*"
   ]
  },
  {
   "cell_type": "markdown",
   "id": "x7McZwR_FRta",
   "metadata": {
    "id": "x7McZwR_FRta"
   },
   "source": [
    "## **Setting up environment**\n",
    "\n",
    "---\n",
    "\n"
   ]
  },
  {
   "cell_type": "markdown",
   "id": "cD8tnTfC60X2",
   "metadata": {
    "id": "cD8tnTfC60X2"
   },
   "source": [
    "### Loading libraries"
   ]
  },
  {
   "cell_type": "code",
   "execution_count": 12,
   "id": "5okfWmvKEI3Z",
   "metadata": {
    "ExecuteTime": {
     "end_time": "2024-12-13T17:47:50.264742Z",
     "start_time": "2024-12-13T17:47:50.256254Z"
    },
    "id": "5okfWmvKEI3Z"
   },
   "outputs": [],
   "source": [
    "import os\n",
    "import sys\n",
    "\n",
    "sys.path.insert(0, os.path.abspath(\"..\"))\n",
    "\n",
    "import torch\n",
    "import pickle\n",
    "import pandas as pd\n",
    "import seaborn as sns\n",
    "import matplotlib.pyplot as plt\n",
    "\n",
    "from typing import Optional\n",
    "\n",
    "from torch import Tensor\n",
    "from torch.nn import ModuleList\n",
    "from torch.optim import Optimizer\n",
    "from torch_geometric.typing import Adj, OptTensor\n",
    "from torch_geometric.nn.conv import GATv2Conv\n",
    "from torch.optim.lr_scheduler import LRScheduler\n",
    "\n",
    "from util.homogeneous.dataset import DatasetEuCoHM\n",
    "from util.homogeneous.model import ModelEuCoHM\n",
    "from util.homogeneous.train import (\n",
    "    train,\n",
    "    test,\n",
    "    evaluate,\n",
    "    get_results\n",
    ")"
   ]
  },
  {
   "cell_type": "markdown",
   "id": "bQ_xqBiFn97Q",
   "metadata": {
    "id": "bQ_xqBiFn97Q"
   },
   "source": [
    "### Global variables"
   ]
  },
  {
   "cell_type": "code",
   "execution_count": 16,
   "id": "9r1K6ezsn97Q",
   "metadata": {
    "ExecuteTime": {
     "end_time": "2024-12-13T21:23:20.128019Z",
     "start_time": "2024-12-13T21:23:20.037264Z"
    },
    "id": "9r1K6ezsn97Q"
   },
   "outputs": [],
   "source": [
    "# Model name\n",
    "model_name = 'C'\n",
    "# Dataset save filepath\n",
    "dataset_save_filepath = '../data/dataset_homogeneous.pkl'\n",
    "# Device name\n",
    "device = 'cpu'\n",
    "\n",
    "# Model configuration\n",
    "model_config = dict(\n",
    "    hidden_channels=64,\n",
    "    learning_rate=1e-3,\n",
    "    num_layers=4,\n",
    "    num_epochs=50,\n",
    "    num_recommendations=10\n",
    ")\n",
    "# Set seaborn theme\n",
    "sns.set_theme(style=\"whitegrid\", palette=\"pastel\")"
   ]
  },
  {
   "cell_type": "markdown",
   "id": "ISUVX4hvFMKM",
   "metadata": {
    "id": "ISUVX4hvFMKM"
   },
   "source": [
    "## Loading dataset\n",
    "\n",
    "---\n"
   ]
  },
  {
   "cell_type": "code",
   "execution_count": 4,
   "id": "3b608e9d-243a-46aa-a261-7ae3464093db",
   "metadata": {},
   "outputs": [
    {
     "name": "stderr",
     "output_type": "stream",
     "text": [
      "/home/eucollab/eutopia-colllaboration/ecr-recommender/.venv/lib/python3.12/site-packages/torch/storage.py:414: FutureWarning: You are using `torch.load` with `weights_only=False` (the current default value), which uses the default pickle module implicitly. It is possible to construct malicious pickle data which will execute arbitrary code during unpickling (See https://github.com/pytorch/pytorch/blob/main/SECURITY.md#untrusted-models for more details). In a future release, the default value for `weights_only` will be flipped to `True`. This limits the functions that could be executed during unpickling. Arbitrary objects will no longer be allowed to be loaded via this mode unless they are explicitly allowlisted by the user via `torch.serialization.add_safe_globals`. We recommend you start setting `weights_only=True` for any use case where you don't have full control of the loaded file. Please open an issue on GitHub for any issues related to this experimental feature.\n",
      "  return torch.load(io.BytesIO(b))\n"
     ]
    }
   ],
   "source": [
    "# Add the object as a safe global to shut down warning\n",
    "torch.serialization.add_safe_globals([DatasetEuCoHM])\n",
    "# Open the dataset file and save it to variable\n",
    "with open(dataset_save_filepath, 'rb') as file:\n",
    "    dataset: DatasetEuCoHM = pickle.load(file)\n",
    "\n",
    "data = dataset.data\n",
    "author_id_map = dataset.author_id_map\n",
    "author_node_id_map = dataset.author_node_id_map"
   ]
  },
  {
   "cell_type": "markdown",
   "id": "04vUews17zy8",
   "metadata": {
    "id": "04vUews17zy8"
   },
   "source": [
    "## Model training\n",
    "\n",
    "\n",
    "---\n",
    "\n"
   ]
  },
  {
   "cell_type": "markdown",
   "id": "IMCtMQz00wC_",
   "metadata": {
    "id": "IMCtMQz00wC_"
   },
   "source": [
    "### Model definition"
   ]
  },
  {
   "cell_type": "code",
   "execution_count": 5,
   "id": "TJaBxQX_7_3D",
   "metadata": {
    "ExecuteTime": {
     "end_time": "2024-12-13T21:28:22.411435Z",
     "start_time": "2024-12-13T21:28:22.248727Z"
    },
    "id": "TJaBxQX_7_3D"
   },
   "outputs": [],
   "source": [
    "class ModelEuCoC(ModelEuCoHM):\n",
    "    def __init__(self,\n",
    "                 input_channels: int,\n",
    "                 hidden_channels: int,\n",
    "                 num_layers: int,\n",
    "                 num_recommendations: int,\n",
    "                 author_node_id_map: dict,\n",
    "                 author_id_map: dict,\n",
    "                 device: str = 'cpu'):\n",
    "        super().__init__(\n",
    "            input_channels=input_channels,\n",
    "            hidden_channels=hidden_channels,\n",
    "            num_layers=num_layers,\n",
    "            num_recommendations=num_recommendations,\n",
    "            author_node_id_map=author_node_id_map,\n",
    "            author_id_map=author_id_map,\n",
    "            device=device\n",
    "        )"
   ]
  },
  {
   "cell_type": "markdown",
   "id": "9XkKmZJC06IZ",
   "metadata": {
    "id": "9XkKmZJC06IZ"
   },
   "source": [
    "### Training the model"
   ]
  },
  {
   "cell_type": "code",
   "execution_count": 6,
   "id": "b4304b1f-ce07-411d-abc3-43011dd3a83b",
   "metadata": {},
   "outputs": [],
   "source": [
    "# Initialize the model\n",
    "model = ModelEuCoC(\n",
    "    input_channels=data.num_features,\n",
    "    hidden_channels=model_config['hidden_channels'],\n",
    "    num_recommendations=model_config['num_recommendations'],\n",
    "    num_layers=model_config['num_layers'],\n",
    "    author_node_id_map=author_node_id_map,\n",
    "    author_id_map=author_id_map\n",
    ").to(device)\n",
    "\n",
    "# Transfer to device\n",
    "data = data.to(device)\n",
    "\n",
    "# Initialize the optimizer\n",
    "optimizer: Optimizer = torch.optim.Adam(\n",
    "    params=model.parameters(),\n",
    "    lr=model_config['learning_rate']\n",
    ")\n",
    "\n",
    "# Initialize the scheduler\n",
    "scheduler: LRScheduler = torch.optim.lr_scheduler.ReduceLROnPlateau(\n",
    "    optimizer=optimizer,\n",
    "    mode='min',\n",
    "    factor=0.5,\n",
    "    patience=10\n",
    ")"
   ]
  },
  {
   "cell_type": "code",
   "execution_count": 7,
   "id": "379e5e3ea82af758",
   "metadata": {
    "ExecuteTime": {
     "end_time": "2024-12-13T21:30:55.180060Z",
     "start_time": "2024-12-13T21:30:52.430863Z"
    }
   },
   "outputs": [
    {
     "name": "stdout",
     "output_type": "stream",
     "text": [
      "Epoch 1, train loss: 0.0217, test loss: 0.0335, precision@k: 0.0932, recall@k: 0.1983, MAP@k: 0.1171, MRR@k: 0.1821, NDCG@k: 0.1637, HitRate@k: 0.3522\n",
      "Epoch 2, train loss: 0.0154, test loss: 0.0303, precision@k: 0.0934, recall@k: 0.2017, MAP@k: 0.1185, MRR@k: 0.1831, NDCG@k: 0.1652, HitRate@k: 0.3540\n",
      "Epoch 3, train loss: 0.0127, test loss: 0.0288, precision@k: 0.0932, recall@k: 0.2029, MAP@k: 0.1202, MRR@k: 0.1870, NDCG@k: 0.1670, HitRate@k: 0.3581\n",
      "Epoch 4, train loss: 0.0111, test loss: 0.0279, precision@k: 0.0941, recall@k: 0.2049, MAP@k: 0.1215, MRR@k: 0.1886, NDCG@k: 0.1688, HitRate@k: 0.3627\n",
      "Epoch 5, train loss: 0.0102, test loss: 0.0273, precision@k: 0.0962, recall@k: 0.2097, MAP@k: 0.1245, MRR@k: 0.1931, NDCG@k: 0.1728, HitRate@k: 0.3703\n",
      "Epoch 6, train loss: 0.0087, test loss: 0.0270, precision@k: 0.0974, recall@k: 0.2126, MAP@k: 0.1261, MRR@k: 0.1956, NDCG@k: 0.1750, HitRate@k: 0.3733\n",
      "Epoch 7, train loss: 0.0085, test loss: 0.0269, precision@k: 0.0986, recall@k: 0.2148, MAP@k: 0.1273, MRR@k: 0.1973, NDCG@k: 0.1768, HitRate@k: 0.3774\n",
      "Epoch 8, train loss: 0.0077, test loss: 0.0269, precision@k: 0.0996, recall@k: 0.2164, MAP@k: 0.1275, MRR@k: 0.1989, NDCG@k: 0.1778, HitRate@k: 0.3826\n",
      "Epoch 9, train loss: 0.0074, test loss: 0.0270, precision@k: 0.1006, recall@k: 0.2191, MAP@k: 0.1287, MRR@k: 0.2006, NDCG@k: 0.1797, HitRate@k: 0.3874\n",
      "Epoch 10, train loss: 0.0068, test loss: 0.0272, precision@k: 0.1011, recall@k: 0.2200, MAP@k: 0.1297, MRR@k: 0.2018, NDCG@k: 0.1807, HitRate@k: 0.3886\n",
      "Epoch 11, train loss: 0.0068, test loss: 0.0274, precision@k: 0.1015, recall@k: 0.2205, MAP@k: 0.1307, MRR@k: 0.2031, NDCG@k: 0.1817, HitRate@k: 0.3892\n",
      "Epoch 12, train loss: 0.0066, test loss: 0.0276, precision@k: 0.1020, recall@k: 0.2218, MAP@k: 0.1314, MRR@k: 0.2044, NDCG@k: 0.1827, HitRate@k: 0.3907\n",
      "Epoch 13, train loss: 0.0060, test loss: 0.0277, precision@k: 0.1033, recall@k: 0.2246, MAP@k: 0.1330, MRR@k: 0.2065, NDCG@k: 0.1848, HitRate@k: 0.3939\n",
      "Epoch 14, train loss: 0.0060, test loss: 0.0277, precision@k: 0.1038, recall@k: 0.2253, MAP@k: 0.1346, MRR@k: 0.2090, NDCG@k: 0.1864, HitRate@k: 0.3950\n",
      "Epoch 15, train loss: 0.0057, test loss: 0.0278, precision@k: 0.1037, recall@k: 0.2253, MAP@k: 0.1352, MRR@k: 0.2104, NDCG@k: 0.1869, HitRate@k: 0.3956\n",
      "Epoch 16, train loss: 0.0053, test loss: 0.0279, precision@k: 0.1045, recall@k: 0.2267, MAP@k: 0.1367, MRR@k: 0.2125, NDCG@k: 0.1886, HitRate@k: 0.3967\n",
      "Epoch 17, train loss: 0.0054, test loss: 0.0280, precision@k: 0.1050, recall@k: 0.2284, MAP@k: 0.1376, MRR@k: 0.2145, NDCG@k: 0.1899, HitRate@k: 0.4003\n",
      "Epoch 18, train loss: 0.0052, test loss: 0.0281, precision@k: 0.1054, recall@k: 0.2295, MAP@k: 0.1390, MRR@k: 0.2166, NDCG@k: 0.1914, HitRate@k: 0.4014\n",
      "Epoch 19, train loss: 0.0051, test loss: 0.0281, precision@k: 0.1057, recall@k: 0.2307, MAP@k: 0.1396, MRR@k: 0.2171, NDCG@k: 0.1921, HitRate@k: 0.4024\n",
      "Epoch 20, train loss: 0.0046, test loss: 0.0281, precision@k: 0.1058, recall@k: 0.2314, MAP@k: 0.1399, MRR@k: 0.2178, NDCG@k: 0.1926, HitRate@k: 0.4033\n",
      "Epoch 21, train loss: 0.0051, test loss: 0.0281, precision@k: 0.1061, recall@k: 0.2323, MAP@k: 0.1402, MRR@k: 0.2178, NDCG@k: 0.1930, HitRate@k: 0.4047\n",
      "Epoch 22, train loss: 0.0047, test loss: 0.0281, precision@k: 0.1064, recall@k: 0.2335, MAP@k: 0.1405, MRR@k: 0.2187, NDCG@k: 0.1937, HitRate@k: 0.4062\n",
      "Epoch 23, train loss: 0.0049, test loss: 0.0281, precision@k: 0.1067, recall@k: 0.2354, MAP@k: 0.1412, MRR@k: 0.2194, NDCG@k: 0.1946, HitRate@k: 0.4082\n",
      "Epoch 24, train loss: 0.0046, test loss: 0.0282, precision@k: 0.1070, recall@k: 0.2364, MAP@k: 0.1420, MRR@k: 0.2206, NDCG@k: 0.1955, HitRate@k: 0.4095\n",
      "Epoch 25, train loss: 0.0046, test loss: 0.0282, precision@k: 0.1072, recall@k: 0.2376, MAP@k: 0.1426, MRR@k: 0.2219, NDCG@k: 0.1964, HitRate@k: 0.4109\n",
      "Epoch 26, train loss: 0.0044, test loss: 0.0282, precision@k: 0.1074, recall@k: 0.2385, MAP@k: 0.1431, MRR@k: 0.2227, NDCG@k: 0.1970, HitRate@k: 0.4124\n",
      "Epoch 27, train loss: 0.0044, test loss: 0.0282, precision@k: 0.1076, recall@k: 0.2390, MAP@k: 0.1435, MRR@k: 0.2233, NDCG@k: 0.1975, HitRate@k: 0.4134\n",
      "Epoch 28, train loss: 0.0044, test loss: 0.0283, precision@k: 0.1079, recall@k: 0.2401, MAP@k: 0.1439, MRR@k: 0.2237, NDCG@k: 0.1981, HitRate@k: 0.4149\n",
      "Epoch 29, train loss: 0.0046, test loss: 0.0283, precision@k: 0.1081, recall@k: 0.2409, MAP@k: 0.1444, MRR@k: 0.2243, NDCG@k: 0.1987, HitRate@k: 0.4157\n",
      "Epoch 30, train loss: 0.0042, test loss: 0.0283, precision@k: 0.1083, recall@k: 0.2414, MAP@k: 0.1449, MRR@k: 0.2249, NDCG@k: 0.1993, HitRate@k: 0.4162\n",
      "Epoch 31, train loss: 0.0042, test loss: 0.0283, precision@k: 0.1085, recall@k: 0.2415, MAP@k: 0.1452, MRR@k: 0.2253, NDCG@k: 0.1995, HitRate@k: 0.4160\n",
      "Epoch 32, train loss: 0.0043, test loss: 0.0283, precision@k: 0.1087, recall@k: 0.2421, MAP@k: 0.1457, MRR@k: 0.2257, NDCG@k: 0.2001, HitRate@k: 0.4171\n",
      "Epoch 33, train loss: 0.0043, test loss: 0.0282, precision@k: 0.1089, recall@k: 0.2423, MAP@k: 0.1459, MRR@k: 0.2258, NDCG@k: 0.2003, HitRate@k: 0.4174\n",
      "Epoch 34, train loss: 0.0041, test loss: 0.0282, precision@k: 0.1092, recall@k: 0.2432, MAP@k: 0.1462, MRR@k: 0.2261, NDCG@k: 0.2008, HitRate@k: 0.4189\n",
      "Epoch 35, train loss: 0.0046, test loss: 0.0282, precision@k: 0.1092, recall@k: 0.2433, MAP@k: 0.1465, MRR@k: 0.2266, NDCG@k: 0.2011, HitRate@k: 0.4189\n",
      "Epoch 36, train loss: 0.0042, test loss: 0.0281, precision@k: 0.1093, recall@k: 0.2437, MAP@k: 0.1465, MRR@k: 0.2267, NDCG@k: 0.2013, HitRate@k: 0.4196\n",
      "Epoch 37, train loss: 0.0040, test loss: 0.0281, precision@k: 0.1094, recall@k: 0.2435, MAP@k: 0.1467, MRR@k: 0.2273, NDCG@k: 0.2015, HitRate@k: 0.4197\n",
      "Epoch 38, train loss: 0.0042, test loss: 0.0281, precision@k: 0.1096, recall@k: 0.2441, MAP@k: 0.1469, MRR@k: 0.2277, NDCG@k: 0.2018, HitRate@k: 0.4200\n",
      "Epoch 39, train loss: 0.0039, test loss: 0.0280, precision@k: 0.1098, recall@k: 0.2448, MAP@k: 0.1471, MRR@k: 0.2278, NDCG@k: 0.2021, HitRate@k: 0.4204\n",
      "Epoch 40, train loss: 0.0041, test loss: 0.0280, precision@k: 0.1099, recall@k: 0.2450, MAP@k: 0.1473, MRR@k: 0.2283, NDCG@k: 0.2024, HitRate@k: 0.4205\n",
      "Epoch 41, train loss: 0.0041, test loss: 0.0280, precision@k: 0.1100, recall@k: 0.2451, MAP@k: 0.1475, MRR@k: 0.2285, NDCG@k: 0.2025, HitRate@k: 0.4206\n",
      "Epoch 42, train loss: 0.0038, test loss: 0.0280, precision@k: 0.1100, recall@k: 0.2455, MAP@k: 0.1476, MRR@k: 0.2285, NDCG@k: 0.2027, HitRate@k: 0.4207\n",
      "Epoch 43, train loss: 0.0039, test loss: 0.0280, precision@k: 0.1102, recall@k: 0.2460, MAP@k: 0.1478, MRR@k: 0.2287, NDCG@k: 0.2030, HitRate@k: 0.4212\n",
      "Epoch 44, train loss: 0.0042, test loss: 0.0280, precision@k: 0.1102, recall@k: 0.2462, MAP@k: 0.1479, MRR@k: 0.2289, NDCG@k: 0.2031, HitRate@k: 0.4216\n",
      "Epoch 45, train loss: 0.0039, test loss: 0.0280, precision@k: 0.1102, recall@k: 0.2459, MAP@k: 0.1480, MRR@k: 0.2289, NDCG@k: 0.2032, HitRate@k: 0.4213\n",
      "Epoch 46, train loss: 0.0041, test loss: 0.0279, precision@k: 0.1103, recall@k: 0.2463, MAP@k: 0.1481, MRR@k: 0.2289, NDCG@k: 0.2033, HitRate@k: 0.4217\n",
      "Epoch 47, train loss: 0.0039, test loss: 0.0279, precision@k: 0.1104, recall@k: 0.2465, MAP@k: 0.1482, MRR@k: 0.2294, NDCG@k: 0.2035, HitRate@k: 0.4224\n",
      "Epoch 48, train loss: 0.0036, test loss: 0.0279, precision@k: 0.1106, recall@k: 0.2468, MAP@k: 0.1484, MRR@k: 0.2296, NDCG@k: 0.2038, HitRate@k: 0.4227\n",
      "Epoch 49, train loss: 0.0038, test loss: 0.0279, precision@k: 0.1107, recall@k: 0.2471, MAP@k: 0.1486, MRR@k: 0.2298, NDCG@k: 0.2039, HitRate@k: 0.4226\n",
      "Epoch 50, train loss: 0.0037, test loss: 0.0279, precision@k: 0.1108, recall@k: 0.2475, MAP@k: 0.1488, MRR@k: 0.2300, NDCG@k: 0.2042, HitRate@k: 0.4232\n"
     ]
    }
   ],
   "source": [
    "results: list = list()\n",
    "for epoch in range(1, model_config['num_epochs'] + 1):\n",
    "    # ------ Train\n",
    "    train_loss: float = train(\n",
    "        model=model,\n",
    "        data=data,\n",
    "        optimizer=optimizer\n",
    "    )\n",
    "    # ------ Test\n",
    "    test_loss: float = test(\n",
    "        model=model,\n",
    "        data=data\n",
    "    )\n",
    "    scheduler.step(test_loss)\n",
    "    # ------ Evaluate\n",
    "    evaluation_results: dict = evaluate(\n",
    "        k=model_config['num_recommendations'],\n",
    "        model=model,\n",
    "        data=data\n",
    "    )\n",
    "\n",
    "    # Save results\n",
    "    epoch_result = get_results(\n",
    "        epoch=epoch,\n",
    "        train_loss=train_loss,\n",
    "        test_loss=test_loss,\n",
    "        evaluation_results=evaluation_results\n",
    "    )\n",
    "    results.append(epoch_result)"
   ]
  },
  {
   "cell_type": "markdown",
   "id": "CIzjEI3R-eY-",
   "metadata": {
    "id": "CIzjEI3R-eY-"
   },
   "source": [
    "### Model evaluation"
   ]
  },
  {
   "cell_type": "code",
   "execution_count": 17,
   "id": "JHmrYAoF-dWh",
   "metadata": {
    "colab": {
     "base_uri": "https://localhost:8080/",
     "height": 472
    },
    "id": "JHmrYAoF-dWh",
    "outputId": "51b44a7b-4d40-4c23-8009-d3af553ed2e9"
   },
   "outputs": [],
   "source": [
    "results_df = pd.DataFrame(results)\n",
    "results_df.to_csv(f'../results/results_Model{model_name}.csv', index=False)"
   ]
  },
  {
   "cell_type": "code",
   "execution_count": 14,
   "id": "RwsZRSb828Ua",
   "metadata": {
    "colab": {
     "base_uri": "https://localhost:8080/",
     "height": 472
    },
    "id": "RwsZRSb828Ua",
    "outputId": "57cc0fe4-2411-44ed-cfc2-f41e6c682819"
   },
   "outputs": [
    {
     "data": {
      "image/png": "[encoded data removed]",
      "text/plain": [
       "<Figure size 640x480 with 1 Axes>"
      ]
     },
     "metadata": {},
     "output_type": "display_data"
    }
   ],
   "source": [
    "# Generate loss curve\n",
    "# Train loss\n",
    "sns.lineplot(data=results_df, x='Epoch', y='Train Loss')\n",
    "# Test loss\n",
    "sns.lineplot(data=results_df, x='Epoch', y='Test Loss')\n",
    "plt.xlabel('Epoch')\n",
    "plt.ylabel('Loss')\n",
    "plt.title('Loss curve')\n",
    "plt.yscale('log')\n",
    "plt.show()"
   ]
  },
  {
   "cell_type": "code",
   "execution_count": 15,
   "id": "QrRBTsA5vAs1",
   "metadata": {
    "colab": {
     "base_uri": "https://localhost:8080/"
    },
    "id": "QrRBTsA5vAs1",
    "outputId": "afffeb4f-f62c-4c48-cf69-c7cb5eb06f55"
   },
   "outputs": [
    {
     "data": {
      "image/png": "[encoded data removed]",
      "text/plain": [
       "<Figure size 640x480 with 1 Axes>"
      ]
     },
     "metadata": {},
     "output_type": "display_data"
    }
   ],
   "source": [
    "# Generate evaluation metrics plot\n",
    "sns.lineplot(data=results_df, x='Epoch', y='Precision@k')\n",
    "sns.lineplot(data=results_df, x='Epoch', y='Recall@k')\n",
    "sns.lineplot(data=results_df, x='Epoch', y='MAP@k')\n",
    "sns.lineplot(data=results_df, x='Epoch', y='MRR@k')\n",
    "sns.lineplot(data=results_df, x='Epoch', y='NDCG@k')\n",
    "sns.lineplot(data=results_df, x='Epoch', y='HitRate@k')\n",
    "plt.xlabel('Epoch')\n",
    "plt.ylabel('Performance')\n",
    "plt.title('Performance metrics')\n",
    "plt.show()"
   ]
  }
 ],
 "metadata": {
  "colab": {
   "collapsed_sections": [
    "ISUVX4hvFMKM",
    "aZQQpLqCFeGK",
    "2cXJ5OO10uxX"
   ],
   "name": "Collaboration Recommender 1.0 (Homogeneous).ipynb",
   "provenance": []
  },
  "kernelspec": {
   "display_name": "Python 3 (ipykernel)",
   "language": "python",
   "name": "python3"
  },
  "language_info": {
   "codemirror_mode": {
    "name": "ipython",
    "version": 3
   },
   "file_extension": ".py",
   "mimetype": "text/x-python",
   "name": "python",
   "nbconvert_exporter": "python",
   "pygments_lexer": "ipython3",
   "version": "3.12.3"
  }
 },
 "nbformat": 4,
 "nbformat_minor": 5
}
