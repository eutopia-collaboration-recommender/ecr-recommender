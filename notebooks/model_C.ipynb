{
 "cells": [
  {
   "cell_type": "markdown",
   "id": "zYPnKxIhFGVJ",
   "metadata": {
    "id": "zYPnKxIhFGVJ"
   },
   "source": [
    "# Model C\n",
    "\n",
    "This is a script showing results of **model C** in the ablation studies. The model is built using the following configuration:\n",
    "\n",
    "- **Backbone:** GATv2\n",
    "- **Graph type:** Homogeneous\n",
    "- **Loss function:** Bayesian personalized ranking\n",
    "- **Embeddings used:** average\n",
    "- **Keyword popularity used:** No\n",
    "\n",
    "*This model upgrades the state-of-the-art graph neural network methodology with novel graph attention network approach.*"
   ]
  },
  {
   "cell_type": "markdown",
   "id": "x7McZwR_FRta",
   "metadata": {
    "id": "x7McZwR_FRta"
   },
   "source": [
    "## **Setting up environment**\n",
    "\n",
    "---\n",
    "\n"
   ]
  },
  {
   "cell_type": "markdown",
   "id": "cD8tnTfC60X2",
   "metadata": {
    "id": "cD8tnTfC60X2"
   },
   "source": [
    "### Loading libraries"
   ]
  },
  {
   "cell_type": "code",
   "execution_count": 1,
   "id": "5okfWmvKEI3Z",
   "metadata": {
    "ExecuteTime": {
     "end_time": "2024-12-13T17:47:50.264742Z",
     "start_time": "2024-12-13T17:47:50.256254Z"
    },
    "id": "5okfWmvKEI3Z"
   },
   "outputs": [],
   "source": [
    "import os\n",
    "import sys\n",
    "\n",
    "sys.path.insert(0, os.path.abspath(\"..\"))\n",
    "\n",
    "import torch\n",
    "import pickle\n",
    "import pandas as pd\n",
    "import seaborn as sns\n",
    "import matplotlib.pyplot as plt\n",
    "\n",
    "from typing import Optional\n",
    "\n",
    "from torch import Tensor\n",
    "from torch.nn import ModuleList\n",
    "from torch.optim import Optimizer\n",
    "from torch_geometric.typing import Adj, OptTensor\n",
    "from torch_geometric.nn.conv import GATv2Conv\n",
    "from torch.optim.lr_scheduler import LRScheduler\n",
    "\n",
    "from util.torch_geometric import get_results\n",
    "from util.homogeneous.dataset import DatasetEuCoHM\n",
    "from util.homogeneous.model import ModelEuCoHM\n",
    "from util.homogeneous.train import (\n",
    "    train,\n",
    "    test,\n",
    "    evaluate\n",
    ")"
   ]
  },
  {
   "cell_type": "markdown",
   "id": "bQ_xqBiFn97Q",
   "metadata": {
    "id": "bQ_xqBiFn97Q"
   },
   "source": [
    "### Global variables"
   ]
  },
  {
   "cell_type": "code",
   "execution_count": 10,
   "id": "9r1K6ezsn97Q",
   "metadata": {
    "ExecuteTime": {
     "end_time": "2024-12-13T21:23:20.128019Z",
     "start_time": "2024-12-13T21:23:20.037264Z"
    },
    "id": "9r1K6ezsn97Q"
   },
   "outputs": [],
   "source": [
    "# Model name\n",
    "model_name = 'C'\n",
    "# Dataset save filepath\n",
    "dataset_save_filepath = '../data/dataset_homogeneous_base.pkl'\n",
    "# Device name\n",
    "device = 'cpu'\n",
    "\n",
    "# Model configuration\n",
    "model_config = dict(\n",
    "    hidden_channels=128,\n",
    "    learning_rate=1e-3,\n",
    "    num_layers=4,\n",
    "    num_epochs=50,\n",
    "    num_recommendations=10\n",
    ")\n",
    "# Set seaborn theme\n",
    "sns.set_theme(style=\"whitegrid\", palette=\"pastel\")"
   ]
  },
  {
   "cell_type": "markdown",
   "id": "ISUVX4hvFMKM",
   "metadata": {
    "id": "ISUVX4hvFMKM"
   },
   "source": [
    "## Loading dataset\n",
    "\n",
    "---\n"
   ]
  },
  {
   "cell_type": "code",
   "execution_count": 11,
   "id": "3b608e9d-243a-46aa-a261-7ae3464093db",
   "metadata": {},
   "outputs": [
    {
     "name": "stderr",
     "output_type": "stream",
     "text": [
      "/home/eucollab/eutopia-colllaboration/ecr-recommender/.venv/lib/python3.12/site-packages/torch/storage.py:414: FutureWarning: You are using `torch.load` with `weights_only=False` (the current default value), which uses the default pickle module implicitly. It is possible to construct malicious pickle data which will execute arbitrary code during unpickling (See https://github.com/pytorch/pytorch/blob/main/SECURITY.md#untrusted-models for more details). In a future release, the default value for `weights_only` will be flipped to `True`. This limits the functions that could be executed during unpickling. Arbitrary objects will no longer be allowed to be loaded via this mode unless they are explicitly allowlisted by the user via `torch.serialization.add_safe_globals`. We recommend you start setting `weights_only=True` for any use case where you don't have full control of the loaded file. Please open an issue on GitHub for any issues related to this experimental feature.\n",
      "  return torch.load(io.BytesIO(b))\n"
     ]
    }
   ],
   "source": [
    "# Add the object as a safe global to shut down warning\n",
    "torch.serialization.add_safe_globals([DatasetEuCoHM])\n",
    "# Open the dataset file and save it to variable\n",
    "with open(dataset_save_filepath, 'rb') as file:\n",
    "    dataset: DatasetEuCoHM = pickle.load(file)\n",
    "\n",
    "data = dataset.data\n",
    "author_id_map = dataset.author_id_map\n",
    "author_node_id_map = dataset.author_node_id_map"
   ]
  },
  {
   "cell_type": "markdown",
   "id": "04vUews17zy8",
   "metadata": {
    "id": "04vUews17zy8"
   },
   "source": [
    "## Model training\n",
    "\n",
    "\n",
    "---\n",
    "\n"
   ]
  },
  {
   "cell_type": "markdown",
   "id": "IMCtMQz00wC_",
   "metadata": {
    "id": "IMCtMQz00wC_"
   },
   "source": [
    "### Model definition"
   ]
  },
  {
   "cell_type": "code",
   "execution_count": 12,
   "id": "TJaBxQX_7_3D",
   "metadata": {
    "ExecuteTime": {
     "end_time": "2024-12-13T21:28:22.411435Z",
     "start_time": "2024-12-13T21:28:22.248727Z"
    },
    "id": "TJaBxQX_7_3D"
   },
   "outputs": [],
   "source": [
    "class ModelEuCoC(ModelEuCoHM):\n",
    "    def __init__(self,\n",
    "                 input_channels: int,\n",
    "                 hidden_channels: int,\n",
    "                 num_layers: int,\n",
    "                 num_recommendations: int,\n",
    "                 author_node_id_map: dict,\n",
    "                 author_id_map: dict,\n",
    "                 device: str = 'cpu'):\n",
    "        super().__init__(\n",
    "            input_channels=input_channels,\n",
    "            hidden_channels=hidden_channels,\n",
    "            num_layers=num_layers,\n",
    "            num_recommendations=num_recommendations,\n",
    "            author_node_id_map=author_node_id_map,\n",
    "            author_id_map=author_id_map,\n",
    "            device=device\n",
    "        )"
   ]
  },
  {
   "cell_type": "markdown",
   "id": "9XkKmZJC06IZ",
   "metadata": {
    "id": "9XkKmZJC06IZ"
   },
   "source": [
    "### Training the model"
   ]
  },
  {
   "cell_type": "code",
   "execution_count": 13,
   "id": "b4304b1f-ce07-411d-abc3-43011dd3a83b",
   "metadata": {},
   "outputs": [],
   "source": [
    "# Initialize the model\n",
    "model = ModelEuCoC(\n",
    "    input_channels=data.num_features,\n",
    "    hidden_channels=model_config['hidden_channels'],\n",
    "    num_recommendations=model_config['num_recommendations'],\n",
    "    num_layers=model_config['num_layers'],\n",
    "    author_node_id_map=author_node_id_map,\n",
    "    author_id_map=author_id_map\n",
    ").to(device)\n",
    "\n",
    "# Transfer to device\n",
    "data = data.to(device)\n",
    "\n",
    "# Initialize the optimizer\n",
    "optimizer: Optimizer = torch.optim.Adam(\n",
    "    params=model.parameters(),\n",
    "    lr=model_config['learning_rate']\n",
    ")\n",
    "\n",
    "# Initialize the scheduler\n",
    "scheduler: LRScheduler = torch.optim.lr_scheduler.ReduceLROnPlateau(\n",
    "    optimizer=optimizer,\n",
    "    mode='min',\n",
    "    factor=0.5,\n",
    "    patience=10\n",
    ")"
   ]
  },
  {
   "cell_type": "code",
   "execution_count": 14,
   "id": "379e5e3ea82af758",
   "metadata": {
    "ExecuteTime": {
     "end_time": "2024-12-13T21:30:55.180060Z",
     "start_time": "2024-12-13T21:30:52.430863Z"
    }
   },
   "outputs": [
    {
     "name": "stdout",
     "output_type": "stream",
     "text": [
      "Epoch 1, train loss: 0.0108, test loss: 0.1086, precision@k: 0.0620, recall@k: 0.1875, MAP@k: 0.1031, MRR@k: 0.1661, NDCG@k: 0.1443, HitRate@k: 0.3139\n",
      "Epoch 2, train loss: 0.0081, test loss: 0.1028, precision@k: 0.0646, recall@k: 0.1953, MAP@k: 0.1069, MRR@k: 0.1710, NDCG@k: 0.1497, HitRate@k: 0.3261\n",
      "Epoch 3, train loss: 0.0069, test loss: 0.1004, precision@k: 0.0659, recall@k: 0.1976, MAP@k: 0.1099, MRR@k: 0.1747, NDCG@k: 0.1529, HitRate@k: 0.3298\n",
      "Epoch 4, train loss: 0.0056, test loss: 0.0985, precision@k: 0.0668, recall@k: 0.2006, MAP@k: 0.1124, MRR@k: 0.1779, NDCG@k: 0.1558, HitRate@k: 0.3338\n",
      "Epoch 5, train loss: 0.0056, test loss: 0.0968, precision@k: 0.0675, recall@k: 0.2015, MAP@k: 0.1137, MRR@k: 0.1801, NDCG@k: 0.1574, HitRate@k: 0.3374\n",
      "Epoch 6, train loss: 0.0053, test loss: 0.0959, precision@k: 0.0682, recall@k: 0.2039, MAP@k: 0.1129, MRR@k: 0.1774, NDCG@k: 0.1572, HitRate@k: 0.3401\n",
      "Epoch 7, train loss: 0.0049, test loss: 0.0959, precision@k: 0.0684, recall@k: 0.2041, MAP@k: 0.1122, MRR@k: 0.1758, NDCG@k: 0.1566, HitRate@k: 0.3408\n",
      "Epoch 8, train loss: 0.0049, test loss: 0.0959, precision@k: 0.0686, recall@k: 0.2050, MAP@k: 0.1122, MRR@k: 0.1765, NDCG@k: 0.1569, HitRate@k: 0.3422\n",
      "Epoch 9, train loss: 0.0042, test loss: 0.0964, precision@k: 0.0685, recall@k: 0.2053, MAP@k: 0.1123, MRR@k: 0.1760, NDCG@k: 0.1570, HitRate@k: 0.3419\n",
      "Epoch 10, train loss: 0.0042, test loss: 0.0968, precision@k: 0.0690, recall@k: 0.2066, MAP@k: 0.1133, MRR@k: 0.1772, NDCG@k: 0.1581, HitRate@k: 0.3445\n",
      "Epoch 11, train loss: 0.0041, test loss: 0.0969, precision@k: 0.0695, recall@k: 0.2079, MAP@k: 0.1138, MRR@k: 0.1788, NDCG@k: 0.1590, HitRate@k: 0.3453\n",
      "Epoch 12, train loss: 0.0039, test loss: 0.0974, precision@k: 0.0695, recall@k: 0.2085, MAP@k: 0.1140, MRR@k: 0.1793, NDCG@k: 0.1594, HitRate@k: 0.3456\n",
      "Epoch 13, train loss: 0.0036, test loss: 0.0981, precision@k: 0.0695, recall@k: 0.2098, MAP@k: 0.1152, MRR@k: 0.1811, NDCG@k: 0.1606, HitRate@k: 0.3464\n",
      "Epoch 14, train loss: 0.0035, test loss: 0.0987, precision@k: 0.0694, recall@k: 0.2088, MAP@k: 0.1165, MRR@k: 0.1832, NDCG@k: 0.1615, HitRate@k: 0.3447\n",
      "Epoch 15, train loss: 0.0033, test loss: 0.0992, precision@k: 0.0693, recall@k: 0.2086, MAP@k: 0.1165, MRR@k: 0.1829, NDCG@k: 0.1614, HitRate@k: 0.3430\n",
      "Epoch 16, train loss: 0.0033, test loss: 0.0999, precision@k: 0.0692, recall@k: 0.2085, MAP@k: 0.1161, MRR@k: 0.1823, NDCG@k: 0.1610, HitRate@k: 0.3413\n",
      "Epoch 17, train loss: 0.0034, test loss: 0.0999, precision@k: 0.0697, recall@k: 0.2105, MAP@k: 0.1174, MRR@k: 0.1840, NDCG@k: 0.1626, HitRate@k: 0.3439\n",
      "Epoch 18, train loss: 0.0030, test loss: 0.0998, precision@k: 0.0697, recall@k: 0.2107, MAP@k: 0.1176, MRR@k: 0.1840, NDCG@k: 0.1627, HitRate@k: 0.3451\n",
      "Epoch 19, train loss: 0.0029, test loss: 0.0996, precision@k: 0.0696, recall@k: 0.2108, MAP@k: 0.1171, MRR@k: 0.1828, NDCG@k: 0.1623, HitRate@k: 0.3454\n",
      "Epoch 20, train loss: 0.0027, test loss: 0.0996, precision@k: 0.0696, recall@k: 0.2113, MAP@k: 0.1176, MRR@k: 0.1841, NDCG@k: 0.1629, HitRate@k: 0.3463\n",
      "Epoch 21, train loss: 0.0028, test loss: 0.0997, precision@k: 0.0697, recall@k: 0.2118, MAP@k: 0.1179, MRR@k: 0.1843, NDCG@k: 0.1632, HitRate@k: 0.3465\n",
      "Epoch 22, train loss: 0.0028, test loss: 0.1000, precision@k: 0.0697, recall@k: 0.2121, MAP@k: 0.1184, MRR@k: 0.1850, NDCG@k: 0.1636, HitRate@k: 0.3468\n",
      "Epoch 23, train loss: 0.0026, test loss: 0.1004, precision@k: 0.0694, recall@k: 0.2119, MAP@k: 0.1183, MRR@k: 0.1845, NDCG@k: 0.1634, HitRate@k: 0.3473\n",
      "Epoch 24, train loss: 0.0026, test loss: 0.1009, precision@k: 0.0692, recall@k: 0.2112, MAP@k: 0.1172, MRR@k: 0.1828, NDCG@k: 0.1623, HitRate@k: 0.3461\n",
      "Epoch 25, train loss: 0.0027, test loss: 0.1016, precision@k: 0.0692, recall@k: 0.2114, MAP@k: 0.1179, MRR@k: 0.1842, NDCG@k: 0.1630, HitRate@k: 0.3459\n",
      "Epoch 26, train loss: 0.0025, test loss: 0.1021, precision@k: 0.0690, recall@k: 0.2105, MAP@k: 0.1169, MRR@k: 0.1828, NDCG@k: 0.1619, HitRate@k: 0.3453\n",
      "Epoch 27, train loss: 0.0024, test loss: 0.1024, precision@k: 0.0691, recall@k: 0.2111, MAP@k: 0.1172, MRR@k: 0.1828, NDCG@k: 0.1623, HitRate@k: 0.3459\n",
      "Epoch 28, train loss: 0.0025, test loss: 0.1027, precision@k: 0.0693, recall@k: 0.2121, MAP@k: 0.1177, MRR@k: 0.1840, NDCG@k: 0.1630, HitRate@k: 0.3465\n",
      "Epoch 29, train loss: 0.0025, test loss: 0.1027, precision@k: 0.0693, recall@k: 0.2125, MAP@k: 0.1177, MRR@k: 0.1837, NDCG@k: 0.1630, HitRate@k: 0.3468\n",
      "Epoch 30, train loss: 0.0025, test loss: 0.1026, precision@k: 0.0694, recall@k: 0.2129, MAP@k: 0.1182, MRR@k: 0.1842, NDCG@k: 0.1635, HitRate@k: 0.3477\n",
      "Epoch 31, train loss: 0.0025, test loss: 0.1024, precision@k: 0.0697, recall@k: 0.2139, MAP@k: 0.1184, MRR@k: 0.1848, NDCG@k: 0.1640, HitRate@k: 0.3496\n",
      "Epoch 32, train loss: 0.0024, test loss: 0.1022, precision@k: 0.0697, recall@k: 0.2141, MAP@k: 0.1186, MRR@k: 0.1850, NDCG@k: 0.1642, HitRate@k: 0.3499\n",
      "Epoch 33, train loss: 0.0024, test loss: 0.1021, precision@k: 0.0699, recall@k: 0.2148, MAP@k: 0.1189, MRR@k: 0.1854, NDCG@k: 0.1646, HitRate@k: 0.3508\n",
      "Epoch 34, train loss: 0.0025, test loss: 0.1021, precision@k: 0.0702, recall@k: 0.2157, MAP@k: 0.1193, MRR@k: 0.1861, NDCG@k: 0.1653, HitRate@k: 0.3524\n",
      "Epoch 35, train loss: 0.0024, test loss: 0.1019, precision@k: 0.0702, recall@k: 0.2160, MAP@k: 0.1198, MRR@k: 0.1871, NDCG@k: 0.1658, HitRate@k: 0.3525\n",
      "Epoch 36, train loss: 0.0023, test loss: 0.1018, precision@k: 0.0703, recall@k: 0.2158, MAP@k: 0.1204, MRR@k: 0.1879, NDCG@k: 0.1663, HitRate@k: 0.3530\n",
      "Epoch 37, train loss: 0.0022, test loss: 0.1017, precision@k: 0.0704, recall@k: 0.2166, MAP@k: 0.1202, MRR@k: 0.1867, NDCG@k: 0.1662, HitRate@k: 0.3537\n",
      "Epoch 38, train loss: 0.0023, test loss: 0.1016, precision@k: 0.0705, recall@k: 0.2171, MAP@k: 0.1204, MRR@k: 0.1870, NDCG@k: 0.1665, HitRate@k: 0.3549\n",
      "Epoch 39, train loss: 0.0023, test loss: 0.1016, precision@k: 0.0705, recall@k: 0.2173, MAP@k: 0.1212, MRR@k: 0.1889, NDCG@k: 0.1673, HitRate@k: 0.3550\n",
      "Epoch 40, train loss: 0.0022, test loss: 0.1016, precision@k: 0.0706, recall@k: 0.2174, MAP@k: 0.1215, MRR@k: 0.1893, NDCG@k: 0.1676, HitRate@k: 0.3550\n",
      "Epoch 41, train loss: 0.0021, test loss: 0.1017, precision@k: 0.0707, recall@k: 0.2177, MAP@k: 0.1214, MRR@k: 0.1892, NDCG@k: 0.1676, HitRate@k: 0.3550\n",
      "Epoch 42, train loss: 0.0022, test loss: 0.1018, precision@k: 0.0707, recall@k: 0.2179, MAP@k: 0.1216, MRR@k: 0.1893, NDCG@k: 0.1677, HitRate@k: 0.3551\n",
      "Epoch 43, train loss: 0.0024, test loss: 0.1020, precision@k: 0.0708, recall@k: 0.2180, MAP@k: 0.1212, MRR@k: 0.1885, NDCG@k: 0.1674, HitRate@k: 0.3551\n",
      "Epoch 44, train loss: 0.0023, test loss: 0.1023, precision@k: 0.0710, recall@k: 0.2185, MAP@k: 0.1215, MRR@k: 0.1889, NDCG@k: 0.1678, HitRate@k: 0.3563\n",
      "Epoch 45, train loss: 0.0024, test loss: 0.1025, precision@k: 0.0710, recall@k: 0.2186, MAP@k: 0.1216, MRR@k: 0.1892, NDCG@k: 0.1680, HitRate@k: 0.3567\n",
      "Epoch 46, train loss: 0.0022, test loss: 0.1028, precision@k: 0.0711, recall@k: 0.2191, MAP@k: 0.1212, MRR@k: 0.1885, NDCG@k: 0.1677, HitRate@k: 0.3569\n",
      "Epoch 47, train loss: 0.0023, test loss: 0.1031, precision@k: 0.0712, recall@k: 0.2188, MAP@k: 0.1212, MRR@k: 0.1881, NDCG@k: 0.1676, HitRate@k: 0.3564\n",
      "Epoch 48, train loss: 0.0022, test loss: 0.1035, precision@k: 0.0713, recall@k: 0.2191, MAP@k: 0.1212, MRR@k: 0.1881, NDCG@k: 0.1678, HitRate@k: 0.3568\n",
      "Epoch 49, train loss: 0.0020, test loss: 0.1038, precision@k: 0.0712, recall@k: 0.2184, MAP@k: 0.1213, MRR@k: 0.1891, NDCG@k: 0.1678, HitRate@k: 0.3560\n",
      "Epoch 50, train loss: 0.0022, test loss: 0.1042, precision@k: 0.0713, recall@k: 0.2184, MAP@k: 0.1214, MRR@k: 0.1891, NDCG@k: 0.1678, HitRate@k: 0.3564\n"
     ]
    }
   ],
   "source": [
    "results: list = list()\n",
    "for epoch in range(1, model_config['num_epochs'] + 1):\n",
    "    # ------ Train\n",
    "    train_loss: float = train(\n",
    "        model=model,\n",
    "        data=data,\n",
    "        optimizer=optimizer\n",
    "    )\n",
    "    # ------ Test\n",
    "    test_loss: float = test(\n",
    "        model=model,\n",
    "        data=data\n",
    "    )\n",
    "    scheduler.step(test_loss)\n",
    "    # ------ Evaluate\n",
    "    evaluation_results: dict = evaluate(\n",
    "        k=model_config['num_recommendations'],\n",
    "        model=model,\n",
    "        data=data\n",
    "    )\n",
    "\n",
    "    # Save results\n",
    "    epoch_result = get_results(\n",
    "        epoch=epoch,\n",
    "        train_loss=train_loss,\n",
    "        test_loss=test_loss,\n",
    "        evaluation_results=evaluation_results\n",
    "    )\n",
    "    results.append(epoch_result)"
   ]
  },
  {
   "cell_type": "markdown",
   "id": "CIzjEI3R-eY-",
   "metadata": {
    "id": "CIzjEI3R-eY-"
   },
   "source": [
    "### Model evaluation"
   ]
  },
  {
   "cell_type": "code",
   "execution_count": 7,
   "id": "JHmrYAoF-dWh",
   "metadata": {
    "colab": {
     "base_uri": "https://localhost:8080/",
     "height": 472
    },
    "id": "JHmrYAoF-dWh",
    "outputId": "51b44a7b-4d40-4c23-8009-d3af553ed2e9"
   },
   "outputs": [],
   "source": [
    "results_df = pd.DataFrame(results)\n",
    "results_df.to_csv(f'../results/results_Model{model_name}.csv', index=False)"
   ]
  },
  {
   "cell_type": "code",
   "execution_count": 8,
   "id": "RwsZRSb828Ua",
   "metadata": {
    "colab": {
     "base_uri": "https://localhost:8080/",
     "height": 472
    },
    "id": "RwsZRSb828Ua",
    "outputId": "57cc0fe4-2411-44ed-cfc2-f41e6c682819"
   },
   "outputs": [
    {
     "data": {
      "image/png": "[encoded data removed]",
      "text/plain": [
       "<Figure size 640x480 with 1 Axes>"
      ]
     },
     "metadata": {},
     "output_type": "display_data"
    }
   ],
   "source": [
    "# Generate loss curve\n",
    "# Train loss\n",
    "sns.lineplot(data=results_df, x='Epoch', y='Train Loss')\n",
    "# Test loss\n",
    "sns.lineplot(data=results_df, x='Epoch', y='Test Loss')\n",
    "plt.xlabel('Epoch')\n",
    "plt.ylabel('Loss')\n",
    "plt.title('Loss curve')\n",
    "plt.yscale('log')\n",
    "plt.show()"
   ]
  },
  {
   "cell_type": "code",
   "execution_count": 9,
   "id": "QrRBTsA5vAs1",
   "metadata": {
    "colab": {
     "base_uri": "https://localhost:8080/"
    },
    "id": "QrRBTsA5vAs1",
    "outputId": "afffeb4f-f62c-4c48-cf69-c7cb5eb06f55"
   },
   "outputs": [
    {
     "data": {
      "image/png": "[encoded data removed]",
      "text/plain": [
       "<Figure size 640x480 with 1 Axes>"
      ]
     },
     "metadata": {},
     "output_type": "display_data"
    }
   ],
   "source": [
    "# Generate evaluation metrics plot\n",
    "sns.lineplot(data=results_df, x='Epoch', y='Precision@k')\n",
    "sns.lineplot(data=results_df, x='Epoch', y='Recall@k')\n",
    "sns.lineplot(data=results_df, x='Epoch', y='MAP@k')\n",
    "sns.lineplot(data=results_df, x='Epoch', y='MRR@k')\n",
    "sns.lineplot(data=results_df, x='Epoch', y='NDCG@k')\n",
    "sns.lineplot(data=results_df, x='Epoch', y='HitRate@k')\n",
    "plt.xlabel('Epoch')\n",
    "plt.ylabel('Performance')\n",
    "plt.title('Performance metrics')\n",
    "plt.show()"
   ]
  }
 ],
 "metadata": {
  "colab": {
   "collapsed_sections": [
    "ISUVX4hvFMKM",
    "aZQQpLqCFeGK",
    "2cXJ5OO10uxX"
   ],
   "name": "Collaboration Recommender 1.0 (Homogeneous).ipynb",
   "provenance": []
  },
  "kernelspec": {
   "display_name": "Python 3 (ipykernel)",
   "language": "python",
   "name": "python3"
  },
  "language_info": {
   "codemirror_mode": {
    "name": "ipython",
    "version": 3
   },
   "file_extension": ".py",
   "mimetype": "text/x-python",
   "name": "python",
   "nbconvert_exporter": "python",
   "pygments_lexer": "ipython3",
   "version": "3.12.3"
  }
 },
 "nbformat": 4,
 "nbformat_minor": 5
}
