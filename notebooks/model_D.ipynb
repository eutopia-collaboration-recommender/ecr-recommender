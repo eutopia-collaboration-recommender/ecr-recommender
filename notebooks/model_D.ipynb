{
 "cells": [
  {
   "cell_type": "markdown",
   "id": "zYPnKxIhFGVJ",
   "metadata": {
    "id": "zYPnKxIhFGVJ"
   },
   "source": [
    "# Model D\n",
    "\n",
    "This is a script showing results of **model D** in the ablation studies. The model is built using the following configuration:\n",
    "\n",
    "- **Backbone:** Transformer\n",
    "- **Graph type:** Homogeneous\n",
    "- **Loss function:** Bayesian personalized ranking\n",
    "- **Embeddings used:** Yes\n",
    "- **Research trends used:** No\n",
    "- **Lead author flag used:** No\n",
    "\n",
    "*This model upgrades the state-of-the-art graph neural network methodology with novel graph transformer approach.*"
   ]
  },
  {
   "cell_type": "markdown",
   "id": "x7McZwR_FRta",
   "metadata": {
    "id": "x7McZwR_FRta"
   },
   "source": [
    "## **Setting up environment**\n",
    "\n",
    "---\n",
    "\n"
   ]
  },
  {
   "cell_type": "markdown",
   "id": "cD8tnTfC60X2",
   "metadata": {
    "id": "cD8tnTfC60X2"
   },
   "source": [
    "### Loading libraries"
   ]
  },
  {
   "cell_type": "code",
   "execution_count": 8,
   "id": "5okfWmvKEI3Z",
   "metadata": {
    "ExecuteTime": {
     "end_time": "2024-12-13T17:47:50.264742Z",
     "start_time": "2024-12-13T17:47:50.256254Z"
    },
    "id": "5okfWmvKEI3Z"
   },
   "outputs": [],
   "source": [
    "import os\n",
    "import sys\n",
    "\n",
    "sys.path.insert(0, os.path.abspath(\"..\"))\n",
    "\n",
    "import torch\n",
    "import pickle\n",
    "import pandas as pd\n",
    "import seaborn as sns\n",
    "import matplotlib.pyplot as plt\n",
    "\n",
    "from typing import Optional\n",
    "\n",
    "from torch import Tensor\n",
    "from torch.nn import ModuleList\n",
    "from torch.optim import Optimizer\n",
    "from torch_geometric.typing import Adj, OptTensor\n",
    "from torch_geometric.nn.conv import TransformerConv\n",
    "from torch.optim.lr_scheduler import LRScheduler\n",
    "\n",
    "from util.homogeneous.dataset import DatasetEuCoHM\n",
    "from util.homogeneous.model import ModelEuCoHM\n",
    "from util.homogeneous.train import (\n",
    "    train,\n",
    "    test,\n",
    "    evaluate,\n",
    "    get_results\n",
    ")"
   ]
  },
  {
   "cell_type": "markdown",
   "id": "bQ_xqBiFn97Q",
   "metadata": {
    "id": "bQ_xqBiFn97Q"
   },
   "source": [
    "### Global variables"
   ]
  },
  {
   "cell_type": "code",
   "execution_count": 13,
   "id": "9r1K6ezsn97Q",
   "metadata": {
    "ExecuteTime": {
     "end_time": "2024-12-13T21:23:20.128019Z",
     "start_time": "2024-12-13T21:23:20.037264Z"
    },
    "id": "9r1K6ezsn97Q"
   },
   "outputs": [],
   "source": [
    "# Model name\n",
    "model_name = 'D'\n",
    "# Dataset save filepath\n",
    "dataset_save_filepath = '../data/dataset_homogeneous.pkl'\n",
    "# Device name\n",
    "device = 'cpu'\n",
    "\n",
    "# Model configuration\n",
    "model_config = dict(\n",
    "    hidden_channels=64,\n",
    "    learning_rate=1e-3,\n",
    "    num_layers=4,\n",
    "    num_heads=2,\n",
    "    num_epochs=50,\n",
    "    num_recommendations=10\n",
    ")\n",
    "# Set seaborn theme\n",
    "sns.set_theme(style=\"whitegrid\", palette=\"pastel\")"
   ]
  },
  {
   "cell_type": "markdown",
   "id": "ISUVX4hvFMKM",
   "metadata": {
    "id": "ISUVX4hvFMKM"
   },
   "source": [
    "## Loading dataset\n",
    "\n",
    "---\n"
   ]
  },
  {
   "cell_type": "code",
   "execution_count": 5,
   "id": "3b608e9d-243a-46aa-a261-7ae3464093db",
   "metadata": {},
   "outputs": [],
   "source": [
    "# Add the object as a safe global to shut down warning\n",
    "torch.serialization.add_safe_globals([DatasetEuCoHM])\n",
    "# Open the dataset file and save it to variable\n",
    "with open(dataset_save_filepath, 'rb') as file:\n",
    "    dataset: DatasetEuCoHM = pickle.load(file)\n",
    "\n",
    "data = dataset.data\n",
    "author_id_map = dataset.author_id_map\n",
    "author_node_id_map = dataset.author_node_id_map"
   ]
  },
  {
   "cell_type": "markdown",
   "id": "04vUews17zy8",
   "metadata": {
    "id": "04vUews17zy8"
   },
   "source": [
    "## Model training\n",
    "\n",
    "\n",
    "---\n",
    "\n"
   ]
  },
  {
   "cell_type": "markdown",
   "id": "IMCtMQz00wC_",
   "metadata": {
    "id": "IMCtMQz00wC_"
   },
   "source": [
    "### Model definition"
   ]
  },
  {
   "cell_type": "code",
   "execution_count": 20,
   "id": "TJaBxQX_7_3D",
   "metadata": {
    "ExecuteTime": {
     "end_time": "2024-12-13T21:28:22.411435Z",
     "start_time": "2024-12-13T21:28:22.248727Z"
    },
    "id": "TJaBxQX_7_3D"
   },
   "outputs": [],
   "source": [
    "class ModelEuCoD(ModelEuCoHM):\n",
    "    def __init__(self,\n",
    "                 input_channels: int,\n",
    "                 hidden_channels: int,\n",
    "                 num_layers: int,\n",
    "                 num_recommendations: int,\n",
    "                 num_heads: int,\n",
    "                 author_node_id_map: dict,\n",
    "                 author_id_map: dict,\n",
    "                 device: str = 'cpu'):\n",
    "        super().__init__(\n",
    "            input_channels=input_channels,\n",
    "            hidden_channels=hidden_channels,\n",
    "            num_layers=num_layers,\n",
    "            num_recommendations=num_recommendations,\n",
    "            author_node_id_map=author_node_id_map,\n",
    "            author_id_map=author_id_map,\n",
    "            device=device\n",
    "        )\n",
    "\n",
    "        # Set number of attention heads\n",
    "        self.num_heads = num_heads\n",
    "\n",
    "        # Initialize the convolutional layers\n",
    "        self.conv_layers = ModuleList([\n",
    "            TransformerConv(in_channels=input_channels if ix == 0 else hidden_channels * self.num_heads, \n",
    "                            out_channels=hidden_channels,\n",
    "                            heads=self.num_heads)\n",
    "            for ix in range(self.num_layers)\n",
    "        ])\n",
    "\n",
    "        # Initialize batch norm layers\n",
    "        self.bn_layers = ModuleList([\n",
    "            torch.nn.BatchNorm1d(hidden_channels * self.num_heads)\n",
    "            for ix in range(self.num_layers)\n",
    "        ])"
   ]
  },
  {
   "cell_type": "markdown",
   "id": "9XkKmZJC06IZ",
   "metadata": {
    "id": "9XkKmZJC06IZ"
   },
   "source": [
    "### Training the model"
   ]
  },
  {
   "cell_type": "code",
   "execution_count": 21,
   "id": "b4304b1f-ce07-411d-abc3-43011dd3a83b",
   "metadata": {},
   "outputs": [],
   "source": [
    "# Initialize the model\n",
    "model = ModelEuCoD(\n",
    "    input_channels=data.num_features,\n",
    "    hidden_channels=model_config['hidden_channels'],\n",
    "    num_recommendations=model_config['num_recommendations'],\n",
    "    num_layers=model_config['num_layers'],\n",
    "    num_heads=model_config['num_heads'],\n",
    "    author_node_id_map=author_node_id_map,\n",
    "    author_id_map=author_id_map\n",
    ").to(device)\n",
    "\n",
    "# Transfer to device\n",
    "data = data.to(device)\n",
    "\n",
    "# Initialize the optimizer\n",
    "optimizer: Optimizer = torch.optim.Adam(\n",
    "    params=model.parameters(),\n",
    "    lr=model_config['learning_rate']\n",
    ")\n",
    "\n",
    "# Initialize the scheduler\n",
    "scheduler: LRScheduler = torch.optim.lr_scheduler.ReduceLROnPlateau(\n",
    "    optimizer=optimizer,\n",
    "    mode='min',\n",
    "    factor=0.5,\n",
    "    patience=10\n",
    ")"
   ]
  },
  {
   "cell_type": "code",
   "execution_count": 22,
   "id": "379e5e3ea82af758",
   "metadata": {
    "ExecuteTime": {
     "end_time": "2024-12-13T21:30:55.180060Z",
     "start_time": "2024-12-13T21:30:52.430863Z"
    }
   },
   "outputs": [
    {
     "name": "stdout",
     "output_type": "stream",
     "text": [
      "Epoch 1, train loss: 0.0059, test loss: 0.1453, precision@k: 0.0835, recall@k: 0.1564, MAP@k: 0.0965, MRR@k: 0.1609, NDCG@k: 0.1364, HitRate@k: 0.3005\n",
      "Epoch 2, train loss: 0.0053, test loss: 0.1377, precision@k: 0.0807, recall@k: 0.1541, MAP@k: 0.0904, MRR@k: 0.1519, NDCG@k: 0.1305, HitRate@k: 0.2996\n",
      "Epoch 3, train loss: 0.0042, test loss: 0.1379, precision@k: 0.0788, recall@k: 0.1486, MAP@k: 0.0869, MRR@k: 0.1454, NDCG@k: 0.1256, HitRate@k: 0.2897\n",
      "Epoch 4, train loss: 0.0038, test loss: 0.1442, precision@k: 0.0722, recall@k: 0.1397, MAP@k: 0.0802, MRR@k: 0.1373, NDCG@k: 0.1169, HitRate@k: 0.2769\n",
      "Epoch 5, train loss: 0.0031, test loss: 0.1467, precision@k: 0.0657, recall@k: 0.1314, MAP@k: 0.0723, MRR@k: 0.1271, NDCG@k: 0.1078, HitRate@k: 0.2643\n",
      "Epoch 6, train loss: 0.0030, test loss: 0.1492, precision@k: 0.0621, recall@k: 0.1258, MAP@k: 0.0672, MRR@k: 0.1204, NDCG@k: 0.1019, HitRate@k: 0.2577\n",
      "Epoch 7, train loss: 0.0028, test loss: 0.1572, precision@k: 0.0602, recall@k: 0.1222, MAP@k: 0.0649, MRR@k: 0.1168, NDCG@k: 0.0988, HitRate@k: 0.2525\n",
      "Epoch 8, train loss: 0.0024, test loss: 0.1655, precision@k: 0.0598, recall@k: 0.1198, MAP@k: 0.0630, MRR@k: 0.1136, NDCG@k: 0.0966, HitRate@k: 0.2490\n",
      "Epoch 9, train loss: 0.0022, test loss: 0.1706, precision@k: 0.0611, recall@k: 0.1216, MAP@k: 0.0638, MRR@k: 0.1147, NDCG@k: 0.0981, HitRate@k: 0.2548\n",
      "Epoch 10, train loss: 0.0021, test loss: 0.1769, precision@k: 0.0629, recall@k: 0.1253, MAP@k: 0.0657, MRR@k: 0.1170, NDCG@k: 0.1008, HitRate@k: 0.2606\n",
      "Epoch 11, train loss: 0.0019, test loss: 0.1819, precision@k: 0.0638, recall@k: 0.1287, MAP@k: 0.0672, MRR@k: 0.1188, NDCG@k: 0.1029, HitRate@k: 0.2643\n",
      "Epoch 12, train loss: 0.0022, test loss: 0.1837, precision@k: 0.0649, recall@k: 0.1314, MAP@k: 0.0685, MRR@k: 0.1219, NDCG@k: 0.1051, HitRate@k: 0.2714\n",
      "Epoch 13, train loss: 0.0017, test loss: 0.1847, precision@k: 0.0667, recall@k: 0.1339, MAP@k: 0.0698, MRR@k: 0.1243, NDCG@k: 0.1074, HitRate@k: 0.2769\n",
      "Epoch 14, train loss: 0.0019, test loss: 0.1784, precision@k: 0.0675, recall@k: 0.1348, MAP@k: 0.0708, MRR@k: 0.1267, NDCG@k: 0.1087, HitRate@k: 0.2789\n",
      "Epoch 15, train loss: 0.0017, test loss: 0.1725, precision@k: 0.0687, recall@k: 0.1367, MAP@k: 0.0726, MRR@k: 0.1305, NDCG@k: 0.1110, HitRate@k: 0.2832\n",
      "Epoch 16, train loss: 0.0018, test loss: 0.1675, precision@k: 0.0702, recall@k: 0.1393, MAP@k: 0.0744, MRR@k: 0.1320, NDCG@k: 0.1131, HitRate@k: 0.2870\n",
      "Epoch 17, train loss: 0.0016, test loss: 0.1643, precision@k: 0.0711, recall@k: 0.1406, MAP@k: 0.0756, MRR@k: 0.1333, NDCG@k: 0.1144, HitRate@k: 0.2885\n",
      "Epoch 18, train loss: 0.0015, test loss: 0.1616, precision@k: 0.0715, recall@k: 0.1426, MAP@k: 0.0759, MRR@k: 0.1334, NDCG@k: 0.1151, HitRate@k: 0.2899\n",
      "Epoch 19, train loss: 0.0015, test loss: 0.1594, precision@k: 0.0718, recall@k: 0.1440, MAP@k: 0.0766, MRR@k: 0.1342, NDCG@k: 0.1160, HitRate@k: 0.2924\n",
      "Epoch 20, train loss: 0.0014, test loss: 0.1584, precision@k: 0.0713, recall@k: 0.1432, MAP@k: 0.0759, MRR@k: 0.1332, NDCG@k: 0.1153, HitRate@k: 0.2921\n",
      "Epoch 21, train loss: 0.0016, test loss: 0.1588, precision@k: 0.0712, recall@k: 0.1435, MAP@k: 0.0762, MRR@k: 0.1332, NDCG@k: 0.1156, HitRate@k: 0.2927\n",
      "Epoch 22, train loss: 0.0014, test loss: 0.1593, precision@k: 0.0711, recall@k: 0.1436, MAP@k: 0.0762, MRR@k: 0.1335, NDCG@k: 0.1156, HitRate@k: 0.2943\n",
      "Epoch 23, train loss: 0.0014, test loss: 0.1606, precision@k: 0.0714, recall@k: 0.1449, MAP@k: 0.0764, MRR@k: 0.1337, NDCG@k: 0.1161, HitRate@k: 0.2960\n",
      "Epoch 24, train loss: 0.0015, test loss: 0.1623, precision@k: 0.0722, recall@k: 0.1467, MAP@k: 0.0769, MRR@k: 0.1337, NDCG@k: 0.1170, HitRate@k: 0.2981\n",
      "Epoch 25, train loss: 0.0014, test loss: 0.1618, precision@k: 0.0723, recall@k: 0.1472, MAP@k: 0.0772, MRR@k: 0.1342, NDCG@k: 0.1174, HitRate@k: 0.2991\n",
      "Epoch 26, train loss: 0.0014, test loss: 0.1616, precision@k: 0.0726, recall@k: 0.1477, MAP@k: 0.0776, MRR@k: 0.1346, NDCG@k: 0.1178, HitRate@k: 0.2992\n",
      "Epoch 27, train loss: 0.0012, test loss: 0.1613, precision@k: 0.0727, recall@k: 0.1486, MAP@k: 0.0781, MRR@k: 0.1354, NDCG@k: 0.1184, HitRate@k: 0.2988\n",
      "Epoch 28, train loss: 0.0014, test loss: 0.1614, precision@k: 0.0733, recall@k: 0.1498, MAP@k: 0.0790, MRR@k: 0.1366, NDCG@k: 0.1194, HitRate@k: 0.3006\n",
      "Epoch 29, train loss: 0.0014, test loss: 0.1618, precision@k: 0.0736, recall@k: 0.1502, MAP@k: 0.0794, MRR@k: 0.1372, NDCG@k: 0.1200, HitRate@k: 0.3018\n",
      "Epoch 30, train loss: 0.0012, test loss: 0.1624, precision@k: 0.0737, recall@k: 0.1511, MAP@k: 0.0795, MRR@k: 0.1369, NDCG@k: 0.1203, HitRate@k: 0.3028\n",
      "Epoch 31, train loss: 0.0013, test loss: 0.1629, precision@k: 0.0740, recall@k: 0.1518, MAP@k: 0.0798, MRR@k: 0.1369, NDCG@k: 0.1208, HitRate@k: 0.3032\n",
      "Epoch 32, train loss: 0.0015, test loss: 0.1629, precision@k: 0.0741, recall@k: 0.1518, MAP@k: 0.0801, MRR@k: 0.1372, NDCG@k: 0.1210, HitRate@k: 0.3040\n",
      "Epoch 33, train loss: 0.0012, test loss: 0.1628, precision@k: 0.0744, recall@k: 0.1520, MAP@k: 0.0804, MRR@k: 0.1378, NDCG@k: 0.1214, HitRate@k: 0.3043\n",
      "Epoch 34, train loss: 0.0013, test loss: 0.1629, precision@k: 0.0748, recall@k: 0.1532, MAP@k: 0.0811, MRR@k: 0.1389, NDCG@k: 0.1223, HitRate@k: 0.3059\n",
      "Epoch 35, train loss: 0.0012, test loss: 0.1629, precision@k: 0.0752, recall@k: 0.1543, MAP@k: 0.0816, MRR@k: 0.1392, NDCG@k: 0.1229, HitRate@k: 0.3068\n",
      "Epoch 36, train loss: 0.0013, test loss: 0.1626, precision@k: 0.0755, recall@k: 0.1547, MAP@k: 0.0820, MRR@k: 0.1403, NDCG@k: 0.1235, HitRate@k: 0.3079\n",
      "Epoch 37, train loss: 0.0012, test loss: 0.1622, precision@k: 0.0757, recall@k: 0.1552, MAP@k: 0.0822, MRR@k: 0.1411, NDCG@k: 0.1239, HitRate@k: 0.3094\n",
      "Epoch 38, train loss: 0.0013, test loss: 0.1617, precision@k: 0.0758, recall@k: 0.1552, MAP@k: 0.0825, MRR@k: 0.1415, NDCG@k: 0.1241, HitRate@k: 0.3098\n",
      "Epoch 39, train loss: 0.0012, test loss: 0.1612, precision@k: 0.0760, recall@k: 0.1559, MAP@k: 0.0829, MRR@k: 0.1422, NDCG@k: 0.1247, HitRate@k: 0.3107\n",
      "Epoch 40, train loss: 0.0012, test loss: 0.1607, precision@k: 0.0763, recall@k: 0.1567, MAP@k: 0.0834, MRR@k: 0.1426, NDCG@k: 0.1253, HitRate@k: 0.3121\n",
      "Epoch 41, train loss: 0.0012, test loss: 0.1603, precision@k: 0.0765, recall@k: 0.1571, MAP@k: 0.0837, MRR@k: 0.1430, NDCG@k: 0.1256, HitRate@k: 0.3123\n",
      "Epoch 42, train loss: 0.0012, test loss: 0.1600, precision@k: 0.0766, recall@k: 0.1574, MAP@k: 0.0839, MRR@k: 0.1433, NDCG@k: 0.1259, HitRate@k: 0.3130\n",
      "Epoch 43, train loss: 0.0011, test loss: 0.1596, precision@k: 0.0768, recall@k: 0.1576, MAP@k: 0.0842, MRR@k: 0.1438, NDCG@k: 0.1262, HitRate@k: 0.3127\n",
      "Epoch 44, train loss: 0.0013, test loss: 0.1592, precision@k: 0.0771, recall@k: 0.1579, MAP@k: 0.0846, MRR@k: 0.1442, NDCG@k: 0.1266, HitRate@k: 0.3138\n",
      "Epoch 45, train loss: 0.0012, test loss: 0.1591, precision@k: 0.0773, recall@k: 0.1584, MAP@k: 0.0850, MRR@k: 0.1449, NDCG@k: 0.1271, HitRate@k: 0.3148\n",
      "Epoch 46, train loss: 0.0012, test loss: 0.1591, precision@k: 0.0776, recall@k: 0.1592, MAP@k: 0.0854, MRR@k: 0.1456, NDCG@k: 0.1277, HitRate@k: 0.3162\n",
      "Epoch 47, train loss: 0.0012, test loss: 0.1592, precision@k: 0.0776, recall@k: 0.1591, MAP@k: 0.0854, MRR@k: 0.1457, NDCG@k: 0.1277, HitRate@k: 0.3160\n",
      "Epoch 48, train loss: 0.0012, test loss: 0.1592, precision@k: 0.0778, recall@k: 0.1592, MAP@k: 0.0855, MRR@k: 0.1458, NDCG@k: 0.1279, HitRate@k: 0.3162\n",
      "Epoch 49, train loss: 0.0012, test loss: 0.1594, precision@k: 0.0778, recall@k: 0.1594, MAP@k: 0.0856, MRR@k: 0.1461, NDCG@k: 0.1280, HitRate@k: 0.3167\n",
      "Epoch 50, train loss: 0.0012, test loss: 0.1596, precision@k: 0.0779, recall@k: 0.1598, MAP@k: 0.0857, MRR@k: 0.1463, NDCG@k: 0.1282, HitRate@k: 0.3173\n"
     ]
    }
   ],
   "source": [
    "results: list = list()\n",
    "for epoch in range(1, model_config['num_epochs'] + 1):\n",
    "    # ------ Train\n",
    "    train_loss: float = train(\n",
    "        model=model,\n",
    "        data=data,\n",
    "        optimizer=optimizer\n",
    "    )\n",
    "    # ------ Test\n",
    "    test_loss: float = test(\n",
    "        model=model,\n",
    "        data=data\n",
    "    )\n",
    "    scheduler.step(test_loss)\n",
    "    # ------ Evaluate\n",
    "    evaluation_results: dict = evaluate(\n",
    "        k=model_config['num_recommendations'],\n",
    "        model=model,\n",
    "        data=data\n",
    "    )\n",
    "\n",
    "    # Save results\n",
    "    epoch_result = get_results(\n",
    "        epoch=epoch,\n",
    "        train_loss=train_loss,\n",
    "        test_loss=test_loss,\n",
    "        evaluation_results=evaluation_results\n",
    "    )\n",
    "    results.append(epoch_result)"
   ]
  },
  {
   "cell_type": "markdown",
   "id": "CIzjEI3R-eY-",
   "metadata": {
    "id": "CIzjEI3R-eY-"
   },
   "source": [
    "### Model evaluation"
   ]
  },
  {
   "cell_type": "code",
   "execution_count": 23,
   "id": "JHmrYAoF-dWh",
   "metadata": {
    "colab": {
     "base_uri": "https://localhost:8080/",
     "height": 472
    },
    "id": "JHmrYAoF-dWh",
    "outputId": "51b44a7b-4d40-4c23-8009-d3af553ed2e9"
   },
   "outputs": [],
   "source": [
    "results_df = pd.DataFrame(results)\n",
    "results_df.to_csv(f'../results/results_Model{model_name}.csv', index=False)"
   ]
  },
  {
   "cell_type": "code",
   "execution_count": 24,
   "id": "RwsZRSb828Ua",
   "metadata": {
    "colab": {
     "base_uri": "https://localhost:8080/",
     "height": 472
    },
    "id": "RwsZRSb828Ua",
    "outputId": "57cc0fe4-2411-44ed-cfc2-f41e6c682819"
   },
   "outputs": [
    {
     "data": {
      "image/png": "[encoded data removed]",
      "text/plain": [
       "<Figure size 640x480 with 1 Axes>"
      ]
     },
     "metadata": {},
     "output_type": "display_data"
    }
   ],
   "source": [
    "# Generate loss curve\n",
    "# Train loss\n",
    "sns.lineplot(data=results_df, x='Epoch', y='Train Loss')\n",
    "# Test loss\n",
    "sns.lineplot(data=results_df, x='Epoch', y='Test Loss')\n",
    "plt.xlabel('Epoch')\n",
    "plt.ylabel('Loss')\n",
    "plt.title('Loss curve')\n",
    "plt.yscale('log')\n",
    "plt.show()"
   ]
  },
  {
   "cell_type": "code",
   "execution_count": 25,
   "id": "QrRBTsA5vAs1",
   "metadata": {
    "colab": {
     "base_uri": "https://localhost:8080/"
    },
    "id": "QrRBTsA5vAs1",
    "outputId": "afffeb4f-f62c-4c48-cf69-c7cb5eb06f55"
   },
   "outputs": [
    {
     "data": {
      "image/png": "[encoded data removed]",
      "text/plain": [
       "<Figure size 640x480 with 1 Axes>"
      ]
     },
     "metadata": {},
     "output_type": "display_data"
    }
   ],
   "source": [
    "# Generate evaluation metrics plot\n",
    "sns.lineplot(data=results_df, x='Epoch', y='Precision@k')\n",
    "sns.lineplot(data=results_df, x='Epoch', y='Recall@k')\n",
    "sns.lineplot(data=results_df, x='Epoch', y='MAP@k')\n",
    "sns.lineplot(data=results_df, x='Epoch', y='MRR@k')\n",
    "sns.lineplot(data=results_df, x='Epoch', y='NDCG@k')\n",
    "sns.lineplot(data=results_df, x='Epoch', y='HitRate@k')\n",
    "plt.xlabel('Epoch')\n",
    "plt.ylabel('Performance')\n",
    "plt.title('Performance metrics')\n",
    "plt.show()"
   ]
  }
 ],
 "metadata": {
  "colab": {
   "collapsed_sections": [
    "ISUVX4hvFMKM",
    "aZQQpLqCFeGK",
    "2cXJ5OO10uxX"
   ],
   "name": "Collaboration Recommender 1.0 (Homogeneous).ipynb",
   "provenance": []
  },
  "kernelspec": {
   "display_name": "Python 3 (ipykernel)",
   "language": "python",
   "name": "python3"
  },
  "language_info": {
   "codemirror_mode": {
    "name": "ipython",
    "version": 3
   },
   "file_extension": ".py",
   "mimetype": "text/x-python",
   "name": "python",
   "nbconvert_exporter": "python",
   "pygments_lexer": "ipython3",
   "version": "3.12.3"
  }
 },
 "nbformat": 4,
 "nbformat_minor": 5
}
