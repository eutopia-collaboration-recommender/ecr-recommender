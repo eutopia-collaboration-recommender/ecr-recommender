{
 "cells": [
  {
   "cell_type": "markdown",
   "id": "zYPnKxIhFGVJ",
   "metadata": {
    "id": "zYPnKxIhFGVJ"
   },
   "source": [
    "# Build homogeneous dataset"
   ]
  },
  {
   "cell_type": "markdown",
   "id": "x7McZwR_FRta",
   "metadata": {
    "id": "x7McZwR_FRta"
   },
   "source": [
    "## Setting up environment\n",
    "\n",
    "---\n",
    "\n"
   ]
  },
  {
   "cell_type": "markdown",
   "id": "jX5i4Qjs7MIl",
   "metadata": {
    "id": "jX5i4Qjs7MIl"
   },
   "source": [
    "### Loading libraries"
   ]
  },
  {
   "cell_type": "code",
   "execution_count": 1,
   "id": "5okfWmvKEI3Z",
   "metadata": {
    "id": "5okfWmvKEI3Z"
   },
   "outputs": [],
   "source": [
    "import sys\n",
    "import os\n",
    "\n",
    "sys.path.insert(0, os.path.abspath(\"..\"))\n",
    "\n",
    "import pickle\n",
    "\n",
    "from torch_geometric.data import Data\n",
    "from box import Box\n",
    "\n",
    "from util.postgres import create_sqlalchemy_engine\n",
    "from util.homogeneous.dataset import DatasetEuCoHM, assert_bidirectional_edges"
   ]
  },
  {
   "cell_type": "markdown",
   "id": "bQ_xqBiFn97Q",
   "metadata": {
    "id": "bQ_xqBiFn97Q"
   },
   "source": [
    "### Global variables"
   ]
  },
  {
   "cell_type": "code",
   "execution_count": 2,
   "id": "9r1K6ezsn97Q",
   "metadata": {
    "id": "9r1K6ezsn97Q"
   },
   "outputs": [],
   "source": [
    "# -------------------- GLOBAL VARIABLES --------------------\n",
    "PATH_TO_CONFIG_FILE = '../config.yaml'\n",
    "\n",
    "# -------------------- LOAD CONFIGURATION --------------------\n",
    "# Load the configuration file\n",
    "config = Box.from_yaml(filename=PATH_TO_CONFIG_FILE)\n",
    "\n",
    "num_train = 0.7             # Percentage of data used for training\n",
    "\n",
    "pg_engine = create_sqlalchemy_engine(\n",
    "    username=config.POSTGRES.USERNAME,\n",
    "    password=config.POSTGRES.PASSWORD,\n",
    "    host=config.POSTGRES.HOST,\n",
    "    port=config.POSTGRES.PORT,\n",
    "    database=config.POSTGRES.DATABASE,\n",
    "    schema=config.POSTGRES.SCHEMA\n",
    ")"
   ]
  },
  {
   "cell_type": "markdown",
   "id": "ISUVX4hvFMKM",
   "metadata": {
    "id": "ISUVX4hvFMKM"
   },
   "source": [
    "## Data preparation\n",
    "\n",
    "---\n",
    "\n"
   ]
  },
  {
   "cell_type": "code",
   "execution_count": 3,
   "id": "6506c6d2-2348-413b-b026-85442cf1398d",
   "metadata": {},
   "outputs": [],
   "source": [
    "def unit_testing(data):\n",
    "    # Test: check that the number of elements in the positive edge index equals to the number of elements in the negative edge index\n",
    "    assert data.test_pos_edge_index.numel() == data.test_neg_edge_index.numel()\n",
    "    \n",
    "    # Test: check that all positive edges are bidirectional\n",
    "    assert_bidirectional_edges(edges=data.train_pos_edge_index)\n",
    "    assert_bidirectional_edges(edges=data.test_pos_edge_index)\n",
    "    print('All tests passed')\n",
    "\n",
    "def save_dataset(dataset):\n",
    "    dataset_save_filepath = f'../data/{dataset.get_dataset_name()}.pkl'\n",
    "    # Before saving the dataset, we need to close the engine to connect to Postgres DB.\n",
    "    dataset.close_engine()\n",
    "    # Save the dataset\n",
    "    with open(dataset_save_filepath, 'wb') as output:\n",
    "        pickle.dump(dataset, output, pickle.HIGHEST_PROTOCOL)\n",
    "        print(f'Dataset saved to {dataset_save_filepath}')\n",
    "\n",
    "def build_dataset(use_periodical_embedding_decay: bool,\n",
    "                  use_top_keywords: bool,\n",
    "                  num_train: float):\n",
    "    # Build the homogeneous graph\n",
    "    data: Data\n",
    "    author_node_id_map: dict\n",
    "    author_id_map: dict\n",
    "    dataset: DatasetEuCoHM = DatasetEuCoHM(\n",
    "        pg_engine=pg_engine,\n",
    "        num_train=num_train,\n",
    "        use_periodical_embedding_decay=use_periodical_embedding_decay,\n",
    "        use_top_keywords=use_top_keywords\n",
    "    )\n",
    "    data, author_node_id_map, author_id_map = dataset.build_homogeneous_graph()\n",
    "    return dataset, data, author_node_id_map, author_id_map"
   ]
  },
  {
   "cell_type": "code",
   "execution_count": 4,
   "id": "81871ab4-e87f-42c5-b993-b0f3181d2614",
   "metadata": {},
   "outputs": [
    {
     "name": "stdout",
     "output_type": "stream",
     "text": [
      "Processing dataset configuration {'use_periodical_embedding_decay': True, 'use_top_keywords': False, 'num_train': 0.7}...\n",
      "Querying n-th time percentile...\n",
      "Querying co-authorship edge data...\n",
      "Querying author nodes...\n",
      "All tests passed\n",
      "Dataset saved to ../data/dataset_homogeneous_periodical_decay.pkl\n"
     ]
    }
   ],
   "source": [
    "dataset_configurations = [\n",
    "    # {'use_periodical_embedding_decay': False, 'use_top_keywords': False, 'num_train': num_train},\n",
    "    {'use_periodical_embedding_decay': True, 'use_top_keywords': False, 'num_train': num_train},\n",
    "    # {'use_periodical_embedding_decay': False, 'use_top_keywords': True, 'num_train': num_train},\n",
    "    # {'use_periodical_embedding_decay': True, 'use_top_keywords': True, 'num_train': num_train},\n",
    "    # {'use_periodical_embedding_decay': True, 'use_top_keywords': True, 'num_train': 1.0},\n",
    "]\n",
    "\n",
    "for conf in dataset_configurations:\n",
    "    print(f'Processing dataset configuration {conf}...')\n",
    "    # Building dataset\n",
    "    dataset, data, author_node_id_map, author_id_map = build_dataset(\n",
    "        use_periodical_embedding_decay=conf['use_periodical_embedding_decay'],\n",
    "        use_top_keywords=conf['use_top_keywords'],\n",
    "        num_train=conf['num_train']\n",
    "    )\n",
    "    # Unit testing\n",
    "    unit_testing(data)\n",
    "\n",
    "    # Save dataset\n",
    "    save_dataset(dataset)"
   ]
  },
  {
   "cell_type": "code",
   "execution_count": 5,
   "id": "01659d6d-0823-4ad6-9127-a500fd71d155",
   "metadata": {},
   "outputs": [
    {
     "data": {
      "text/plain": [
       "tensor([ 1.7237e-02,  1.5160e-01,  3.4230e-02,  2.1417e-01,  1.3798e-01,\n",
       "        -2.2870e-01,  1.7449e-01,  8.2475e-01, -8.3116e-02,  9.4696e-01,\n",
       "         8.8759e-02,  1.5662e-01, -5.6863e-01, -8.6023e-02,  5.7454e-01,\n",
       "        -4.5274e-01,  1.9931e-03, -3.0011e-01, -8.8429e-01, -1.6260e+00,\n",
       "         1.8703e-01,  3.0959e-01,  2.5564e-01, -6.7080e-01,  1.3150e+00,\n",
       "        -4.2844e-01, -8.2218e-01,  1.3699e+00, -1.5035e+00, -2.7883e-02,\n",
       "        -1.0746e+00,  1.3148e+00,  4.7388e-01, -1.7548e+00, -1.7506e+00,\n",
       "        -3.7658e-01,  1.1853e+00, -2.3729e-01,  4.7733e-01,  4.1621e-01,\n",
       "        -2.5128e+00, -5.4416e-01,  2.4020e-01, -1.5024e+00, -1.9300e+00,\n",
       "        -1.2976e-01, -6.8205e-01, -5.6408e-01,  2.9860e-01, -1.0191e+00,\n",
       "         6.9700e-01, -4.9185e-02,  3.0137e+00, -1.5486e+00,  3.0218e+00,\n",
       "         4.3260e-01,  1.1412e+00,  5.4124e-01,  9.1090e-01, -5.6550e-01,\n",
       "        -5.7027e-01, -6.1581e-01, -1.5972e-01,  9.8645e-01,  1.3603e+00,\n",
       "        -8.1084e-01, -5.7289e-01, -3.3520e-01, -2.3091e+00,  7.4487e-01,\n",
       "         4.2924e-01, -1.3322e-02,  1.1434e+00, -1.3898e-01,  1.5652e+00,\n",
       "         3.0735e-01,  2.0473e-01, -9.4379e-01, -1.4213e+00,  1.1801e+00,\n",
       "        -8.3613e-01,  1.1108e-01,  6.7078e-01, -2.1653e-03,  2.2518e+00,\n",
       "         9.3565e-01, -1.0485e-01,  7.3855e-01,  1.6838e+00,  8.5347e-01,\n",
       "         1.9999e-01,  4.3114e-01, -1.4129e-01, -3.1075e-01,  1.1993e+00,\n",
       "         8.1340e-01, -7.8415e-01,  1.8947e+00,  1.1825e+00, -2.7360e-01,\n",
       "        -1.1186e+00, -1.1559e+00, -2.7801e+00, -1.0124e-01,  4.3344e-02,\n",
       "        -4.0115e-01,  6.0543e-01, -5.6897e-01,  1.1131e+00, -1.3391e+00,\n",
       "         2.1421e+00,  1.1257e+00,  2.4274e-01, -1.0296e+00, -3.3957e-01,\n",
       "         1.0266e+00, -4.0737e-01,  4.4769e-01, -2.1503e+00, -7.0447e-01,\n",
       "         1.2534e+00,  1.9733e-01,  6.3589e-01,  2.0758e+00, -2.4135e-01,\n",
       "        -6.1270e-01, -1.0830e+00, -9.6397e-01,  3.3750e-01,  5.7219e-02,\n",
       "         1.1603e+00, -4.5126e-02, -1.4775e-02,  9.9404e-01, -4.3905e-01,\n",
       "         2.0491e-01,  3.7146e-01, -1.2821e+00,  2.7348e-01,  2.9261e+00,\n",
       "         5.1341e-01, -2.1303e-02,  1.5190e+00, -1.5212e+00,  8.5896e-01,\n",
       "         6.1831e-01, -2.8557e-01, -2.9525e-01, -5.2989e-01, -9.8333e-01,\n",
       "        -1.9939e+00, -1.7927e-01,  1.1731e+00, -1.3453e+00, -1.0436e+00,\n",
       "        -6.8999e-01,  1.3203e+00, -8.4813e-01,  6.4175e-01, -7.6718e-01,\n",
       "         1.7840e+00, -5.8086e-01, -1.9316e+00, -5.6133e-01,  1.3145e+00,\n",
       "        -8.5848e-01,  1.6492e+00,  3.9090e-01,  1.6018e+00,  2.6428e-01,\n",
       "        -2.6433e+00,  1.2821e-01, -2.8254e-01, -4.1187e-02,  9.5373e-01,\n",
       "         1.9910e+00,  4.1365e-01, -6.1458e-02,  1.6615e+00, -4.7957e-01,\n",
       "        -1.0942e+00,  1.2976e+00, -1.2258e+00, -4.9835e-01, -7.8254e-01,\n",
       "        -4.4604e-01, -6.9730e-01, -1.5565e+00,  1.2804e-01,  3.0858e-01,\n",
       "         4.6623e-02, -5.1694e-01, -2.0971e+00,  2.4564e-01, -8.3952e-01,\n",
       "        -9.8395e-01, -7.4232e-01, -4.4733e-01, -1.3368e+00,  2.1050e-01,\n",
       "         1.9019e+00, -7.0707e-02,  8.1973e-01,  1.1825e+00, -3.6344e-01,\n",
       "         2.3642e-01,  2.5887e-01, -5.3839e-01, -3.9144e-01, -4.6030e-01,\n",
       "         2.3958e+00,  1.9213e+00, -1.0117e+00, -1.3873e+00, -5.8943e-01,\n",
       "         2.4026e+00,  2.7786e+00,  5.8974e-02,  2.6895e-01,  7.7594e-01,\n",
       "        -4.8031e-01, -7.3474e-01, -1.1508e-01,  1.0813e+00, -5.4841e-01,\n",
       "        -2.8084e-01,  1.0602e+00,  9.4544e-01,  1.8462e+00,  4.7267e-01,\n",
       "        -1.5996e+00, -5.1839e-02,  4.5770e-02, -1.3683e+00,  8.2766e-01,\n",
       "        -6.0914e-01, -1.3758e+00, -6.1925e-01,  8.2195e-01, -2.0641e+00,\n",
       "        -1.0980e+00, -9.2946e-01, -2.3235e-01, -8.1933e-01,  2.3138e+00,\n",
       "         7.8735e-01, -3.7236e-01,  8.7062e-01, -2.7623e-01,  2.4419e+00,\n",
       "         6.1388e-01,  2.6776e-01, -2.7437e-01,  2.7900e-01,  5.9288e-01,\n",
       "         6.9366e-01,  1.0479e+00, -5.0679e-01, -4.9729e-01,  2.3126e-01,\n",
       "        -2.4924e+00, -5.5685e-01, -1.3807e+00,  1.1015e+00, -1.0800e+00,\n",
       "        -1.6556e+00,  7.8588e-02, -3.1162e-01,  1.1309e+00, -1.4744e+00,\n",
       "         3.0493e-01,  6.8500e-01,  5.0366e-02, -1.3114e+00,  4.8247e-01,\n",
       "         4.8235e-01, -4.9558e-01,  1.3548e-01, -2.3636e+00,  1.0164e+00,\n",
       "         5.3995e-01, -2.7896e-01, -6.0844e-01, -5.7471e-01,  5.0329e-01,\n",
       "         4.6932e-01,  1.4050e+00,  3.2761e-01, -1.0789e+00,  1.0619e+00,\n",
       "        -4.1630e-01,  8.2492e-01,  9.9275e-01, -1.9037e+00, -7.3927e-01,\n",
       "        -5.9183e-01, -1.5321e+00,  1.7978e+00,  1.4929e+00, -8.9225e-01,\n",
       "        -6.9208e-01,  8.6032e-01,  5.1261e-01,  2.8049e+00,  1.4580e+00,\n",
       "         5.5537e-01,  6.6396e-01, -1.3458e+00,  1.3173e-01, -6.0604e-01,\n",
       "         3.8621e-01,  1.2634e-01,  4.9031e-01, -1.1701e+00,  2.9445e-01,\n",
       "        -2.8829e-01, -1.4083e+00, -1.0027e+00,  1.3789e+00,  1.9929e+00,\n",
       "         1.5635e+00,  1.0393e+00, -4.8766e-01,  4.0572e-01,  1.8318e-01,\n",
       "         1.1034e+00,  9.6110e-02, -8.1894e-01, -1.2060e+00,  2.1928e+00,\n",
       "         4.2429e-01,  3.7533e-01,  4.1213e-02, -6.1366e-01, -3.0551e-01,\n",
       "        -3.6182e-01,  7.2365e-01,  6.3057e-01,  1.5135e+00,  9.7475e-01,\n",
       "         3.1877e-01, -1.2651e-01, -1.0428e+00,  4.9633e-01, -2.2120e-01,\n",
       "         1.4116e+00, -2.5723e-01,  5.8677e-01, -6.2345e-01,  8.7018e-01,\n",
       "         1.0705e+00, -3.0283e-01,  1.6040e+00,  5.1621e-01,  1.2499e-01,\n",
       "         1.8594e+00,  3.0267e-01, -1.2210e+00,  1.5443e-01, -3.2683e-01,\n",
       "        -1.5481e+00,  1.9381e+00, -7.1935e-01,  7.7599e-01,  5.7117e-01,\n",
       "         1.4823e+00,  4.5174e-01,  9.8469e-01,  1.3711e+00, -5.0147e-01,\n",
       "        -7.3820e-01,  3.1161e-01, -4.5271e-01, -7.9310e-02, -9.4604e-01,\n",
       "         1.6775e+00,  1.1308e+00, -1.9995e-01, -1.3357e+00,  8.3282e-01,\n",
       "        -1.4498e+00, -3.5642e-01, -8.0445e-01, -1.3151e+00, -7.6338e-01,\n",
       "        -1.6160e-02,  1.0749e-01,  2.8735e-01, -6.0342e-01, -2.7243e+00,\n",
       "        -2.9450e-02, -1.8032e+00,  7.4325e-01, -9.3015e-01,  4.1547e-01,\n",
       "         8.7244e-01,  9.6777e-01,  1.0673e+00,  8.6115e-01, -4.1451e-01,\n",
       "        -2.4091e+00,  7.5165e-01, -6.6423e-01,  4.5565e-01,  6.6612e-01,\n",
       "        -2.2816e-01,  2.5870e-01,  1.9652e+00, -1.0680e+00,  1.2593e+00,\n",
       "         4.5048e-01,  2.1854e-01, -1.8029e+00,  6.3969e-02, -4.2475e-01,\n",
       "         2.3923e+00, -4.4913e-01, -1.2944e+00,  1.7401e-01,  1.4257e-01,\n",
       "        -7.9405e-02,  1.3915e-01, -1.2818e+00, -1.9619e+00,  7.2318e-01,\n",
       "        -5.2870e-01,  3.7042e-01, -1.4614e+00, -8.0140e-01,  1.6276e-01,\n",
       "        -6.2095e-01,  7.4654e-01, -1.4735e+00, -1.1738e+00,  9.1015e-02,\n",
       "        -7.6270e-01, -1.5251e-01,  1.2875e+00,  1.1547e+00, -3.4927e-01,\n",
       "        -2.2556e-02, -1.5731e-01,  1.0682e+00,  1.5829e+00,  5.1794e-01,\n",
       "        -2.8533e-03,  1.0009e+00,  2.7188e-01,  2.2346e+00, -2.6776e-01,\n",
       "        -5.4982e-01,  2.0756e+00,  7.8959e-01, -1.6299e+00, -3.1965e+00,\n",
       "        -9.2024e-01, -4.0296e-01,  8.0922e-01, -1.3024e-01,  4.2588e-02,\n",
       "         1.8516e+00, -4.7935e-01,  1.3479e+00, -1.1774e+00, -3.4014e-01,\n",
       "        -6.5308e-01, -1.2422e+00,  1.5871e+00,  1.5484e+00, -1.7552e+00,\n",
       "         6.1080e-01, -2.5867e+00, -9.2650e-01, -3.1178e+00, -3.1341e-01,\n",
       "         6.3946e-01,  5.6188e-01, -1.5153e+00, -6.0015e-02, -1.3604e+00,\n",
       "        -2.5689e+00, -1.1196e+00, -3.0185e-01,  2.2094e-01,  1.4751e-02,\n",
       "        -1.5348e+00,  1.8995e-01,  7.7838e-01, -1.1041e+00,  2.5792e-01,\n",
       "         1.2902e+00,  5.7850e-01, -3.4809e-01,  1.2184e+00, -6.4076e-01,\n",
       "        -1.0364e+00, -9.9325e-01,  1.5274e-01, -2.6337e-01,  1.9985e-01,\n",
       "         2.3717e+00,  2.4636e+00, -1.6203e+00,  8.7254e-01, -6.7127e-01,\n",
       "         3.2841e-01,  2.2320e+00, -1.2817e-01,  1.1532e+00,  1.4301e+00,\n",
       "        -7.6623e-01, -2.6555e+00,  9.2082e-02,  3.9419e-01, -9.0948e-01,\n",
       "         4.7689e-01, -9.6791e-01,  1.5859e+00,  7.5950e-01, -1.3967e-01,\n",
       "         5.5101e-01, -1.2088e+00, -2.2320e+00,  2.4001e-01,  1.2911e-01,\n",
       "         1.0436e+00, -1.5789e-01, -5.8322e-01,  1.2762e+00,  1.2229e+00,\n",
       "         1.5614e+00, -4.8918e-02,  1.8321e+00,  7.8805e-01, -3.0348e-01,\n",
       "        -2.6122e-01, -4.8126e-01,  5.9232e-01,  9.6034e-01,  1.7783e+00,\n",
       "         9.3849e-02,  1.1936e+00,  1.7753e-01,  5.8128e-01, -5.0991e-01,\n",
       "        -5.9936e-02, -1.3514e+00, -1.3593e+00, -8.0477e-01, -3.2915e+00,\n",
       "        -3.7966e-02, -1.4296e+00, -1.3346e+00, -8.2139e-01,  2.0037e+00,\n",
       "        -5.2328e-01,  1.5720e+00,  7.8581e-01, -8.0189e-01,  2.0382e-02,\n",
       "         4.9172e-01,  1.8855e-01,  1.3972e+00,  2.2408e-01, -1.1829e+00,\n",
       "         5.7739e-01, -1.7863e-01,  1.9127e+00, -1.6901e-01,  5.1621e-01,\n",
       "         1.2298e-01, -2.4010e+00, -9.6534e-01, -1.0477e+00, -8.2735e-01,\n",
       "         2.7342e+00,  2.4834e-01, -1.0706e+00, -2.4504e-01,  4.3215e-01,\n",
       "         6.9872e-01,  1.0080e+00, -1.9969e-01, -5.0847e-01, -2.2580e-01,\n",
       "        -1.4377e+00, -6.1776e-01,  2.5783e+00, -8.9125e-01,  1.9154e+00,\n",
       "         1.0523e+00, -1.0902e+00,  8.2107e-01, -1.9232e+00, -8.5320e-02,\n",
       "        -1.3349e+00,  1.1524e+00, -1.2158e+00, -4.8277e-01, -5.2932e-01,\n",
       "         2.2830e+00,  1.1286e+00,  1.7888e+00,  1.1282e+00,  1.2213e+00,\n",
       "        -5.1507e-01,  6.5512e-01,  3.8135e-01, -1.4507e+00, -1.5891e+00,\n",
       "        -2.0242e+00,  6.4924e-01,  2.5059e-01,  1.4293e+00, -4.0760e-01,\n",
       "        -4.7086e-01, -1.6751e-01, -3.3212e-01, -2.0210e+00, -1.5031e+00,\n",
       "        -6.1650e-01, -5.3079e-01,  3.1003e-01,  3.7732e-01, -2.9945e-01,\n",
       "        -1.2560e+00, -1.4309e+00, -5.9105e-01,  5.5808e-01,  9.9837e-01,\n",
       "         2.2223e+00,  5.0348e-01, -1.8635e-01,  7.5665e-01, -4.6812e-01,\n",
       "        -7.1344e-01,  1.0557e+00,  1.0595e+00,  1.1990e+00, -3.5368e-02,\n",
       "         3.0538e-01,  5.2686e-02,  3.0585e-01,  9.4605e-01,  1.1782e-01,\n",
       "        -8.5450e-01,  9.4257e-01,  1.6994e+00,  1.3225e+00,  1.7540e-01,\n",
       "         3.2785e-01, -8.7769e-01,  8.1813e-01, -3.2685e-01,  1.1938e-01,\n",
       "         1.8687e+00, -8.9495e-01,  1.4634e-01, -1.0987e+00, -2.0630e+00,\n",
       "         1.3400e+00, -5.0058e-01, -1.1965e+00,  7.0094e-01,  6.5425e-01,\n",
       "        -6.4444e-01, -1.1995e+00,  9.2248e-01,  9.8329e-01,  1.2381e+00,\n",
       "        -5.4034e-01,  1.6078e+00, -5.7091e-01, -6.2874e-01, -6.2846e-01,\n",
       "         2.6347e-01, -1.5278e+00,  2.7723e-01, -1.2851e+00, -1.2533e+00,\n",
       "        -3.6821e-01, -1.2150e+00,  2.4356e+00,  1.2068e+00,  2.6208e+00,\n",
       "        -1.1650e+00, -2.0525e+00, -1.3845e-01, -4.5754e-01, -3.8510e-02,\n",
       "        -4.7181e-01, -1.2214e+00, -1.5563e-01, -3.3619e-01,  6.0753e-01,\n",
       "         3.0779e-01,  9.7864e-01,  2.3283e-01, -2.7148e-01, -3.9873e-01,\n",
       "         3.8336e-02, -1.4006e+00,  6.5435e-01,  2.4629e+00,  7.0600e-01,\n",
       "        -1.1047e+00, -2.0923e+00, -6.5372e-01, -8.8206e-01,  6.1324e-02,\n",
       "         1.6019e+00,  7.5779e-01, -1.1317e+00, -1.9145e-01,  5.9384e-02,\n",
       "        -1.3564e+00, -9.8314e-01, -1.2977e+00, -2.1892e-01, -6.4149e-01,\n",
       "         1.1747e+00, -9.4626e-01,  4.1658e-01,  9.6813e-01, -3.0358e-01,\n",
       "         1.6980e-01, -2.5130e+00, -4.3426e-01, -3.6831e-01, -1.0895e+00,\n",
       "        -2.0077e-01,  1.6410e+00,  5.0440e-01, -3.4066e-01,  3.6957e-01,\n",
       "        -2.9946e-02,  5.6379e-01, -4.2219e-01,  1.1439e+00,  2.2858e-01,\n",
       "         1.5802e+00, -4.0583e-01, -2.5362e-01, -1.8969e+00, -2.8911e+00,\n",
       "        -7.4924e-01,  5.6670e-01, -1.6265e+00,  1.5602e-01, -1.6443e+00,\n",
       "         1.2692e+00, -1.4079e+00,  8.2283e-01,  2.6073e+00, -1.8235e+00,\n",
       "        -9.2766e-01,  8.1368e-01,  9.4359e-01, -6.9737e-02, -1.8473e+00,\n",
       "        -2.7645e+00,  5.1086e-01,  7.3212e-01, -1.1636e+00, -7.9064e-01,\n",
       "         7.9409e-01,  8.7114e-01, -2.8870e-01, -3.8486e-01, -1.6158e+00,\n",
       "        -6.3088e-01])"
      ]
     },
     "execution_count": 5,
     "metadata": {},
     "output_type": "execute_result"
    }
   ],
   "source": [
    "dataset.data.x[1]"
   ]
  }
 ],
 "metadata": {
  "colab": {
   "name": "Collaboration Recommender 2.0 (Heterogeneous)",
   "provenance": []
  },
  "kernelspec": {
   "display_name": "Python 3 (ipykernel)",
   "language": "python",
   "name": "python3"
  },
  "language_info": {
   "codemirror_mode": {
    "name": "ipython",
    "version": 3
   },
   "file_extension": ".py",
   "mimetype": "text/x-python",
   "name": "python",
   "nbconvert_exporter": "python",
   "pygments_lexer": "ipython3",
   "version": "3.12.3"
  }
 },
 "nbformat": 4,
 "nbformat_minor": 5
}
