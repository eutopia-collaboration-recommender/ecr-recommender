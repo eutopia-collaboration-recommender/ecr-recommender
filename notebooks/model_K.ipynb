{
 "cells": [
  {
   "cell_type": "markdown",
   "id": "zYPnKxIhFGVJ",
   "metadata": {
    "id": "zYPnKxIhFGVJ"
   },
   "source": [
    "# Model K\n",
    "\n",
    "This is a script showing results of **model K** in the ablation studies. The model is built using the following configuration:\n",
    "\n",
    "- **Backbone:** GATv2\n",
    "- **Graph type:** Homogeneous\n",
    "- **Loss function:** Bayesian personalized ranking\n",
    "- **Embeddings used:** weighted average\n",
    "- **Keyword popularity used:** Yes\n",
    "\n",
    "*This model upgrades the state-of-the-art graph neural network methodology with novel graph transformer approach.*"
   ]
  },
  {
   "cell_type": "markdown",
   "id": "x7McZwR_FRta",
   "metadata": {
    "id": "x7McZwR_FRta"
   },
   "source": [
    "## **Setting up environment**\n",
    "\n",
    "---\n",
    "\n"
   ]
  },
  {
   "cell_type": "markdown",
   "id": "cD8tnTfC60X2",
   "metadata": {
    "id": "cD8tnTfC60X2"
   },
   "source": [
    "### Loading libraries"
   ]
  },
  {
   "cell_type": "code",
   "execution_count": 1,
   "id": "5okfWmvKEI3Z",
   "metadata": {
    "ExecuteTime": {
     "end_time": "2024-12-13T17:47:50.264742Z",
     "start_time": "2024-12-13T17:47:50.256254Z"
    },
    "id": "5okfWmvKEI3Z"
   },
   "outputs": [],
   "source": [
    "import os\n",
    "import sys\n",
    "\n",
    "sys.path.insert(0, os.path.abspath(\"..\"))\n",
    "\n",
    "import torch\n",
    "import pickle\n",
    "import pandas as pd\n",
    "import seaborn as sns\n",
    "import matplotlib.pyplot as plt\n",
    "\n",
    "from typing import Optional\n",
    "\n",
    "from torch import Tensor\n",
    "from torch.nn import ModuleList\n",
    "from torch.optim import Optimizer\n",
    "from torch_geometric.typing import Adj, OptTensor\n",
    "from torch_geometric.nn.conv import TransformerConv\n",
    "from torch.optim.lr_scheduler import LRScheduler\n",
    "\n",
    "from util.torch_geometric import get_results\n",
    "from util.homogeneous.dataset import DatasetEuCoHM\n",
    "from util.homogeneous.model import ModelEuCoHM\n",
    "from util.homogeneous.train import (\n",
    "    train,\n",
    "    test,\n",
    "    evaluate\n",
    ")"
   ]
  },
  {
   "cell_type": "markdown",
   "id": "bQ_xqBiFn97Q",
   "metadata": {
    "id": "bQ_xqBiFn97Q"
   },
   "source": [
    "### Global variables"
   ]
  },
  {
   "cell_type": "code",
   "execution_count": 2,
   "id": "9r1K6ezsn97Q",
   "metadata": {
    "ExecuteTime": {
     "end_time": "2024-12-13T21:23:20.128019Z",
     "start_time": "2024-12-13T21:23:20.037264Z"
    },
    "id": "9r1K6ezsn97Q"
   },
   "outputs": [],
   "source": [
    "# Model name\n",
    "model_name = 'K'\n",
    "# Dataset save filepath\n",
    "dataset_save_filepath = '../data/dataset_homogeneous_periodical_decay_top_keywords.pkl'\n",
    "# Device name\n",
    "device = 'cpu'\n",
    "\n",
    "# Model configuration\n",
    "model_config = dict(\n",
    "    hidden_channels=128,\n",
    "    learning_rate=1e-3,\n",
    "    num_layers=4,\n",
    "    num_epochs=50,\n",
    "    num_recommendations=10\n",
    ")\n",
    "# Set seaborn theme\n",
    "sns.set_theme(style=\"whitegrid\", palette=\"pastel\")"
   ]
  },
  {
   "cell_type": "markdown",
   "id": "ISUVX4hvFMKM",
   "metadata": {
    "id": "ISUVX4hvFMKM"
   },
   "source": [
    "## Loading dataset\n",
    "\n",
    "---\n"
   ]
  },
  {
   "cell_type": "code",
   "execution_count": 3,
   "id": "3b608e9d-243a-46aa-a261-7ae3464093db",
   "metadata": {},
   "outputs": [
    {
     "name": "stderr",
     "output_type": "stream",
     "text": [
      "/home/eucollab/eutopia-colllaboration/ecr-recommender/.venv/lib/python3.12/site-packages/torch/storage.py:414: FutureWarning: You are using `torch.load` with `weights_only=False` (the current default value), which uses the default pickle module implicitly. It is possible to construct malicious pickle data which will execute arbitrary code during unpickling (See https://github.com/pytorch/pytorch/blob/main/SECURITY.md#untrusted-models for more details). In a future release, the default value for `weights_only` will be flipped to `True`. This limits the functions that could be executed during unpickling. Arbitrary objects will no longer be allowed to be loaded via this mode unless they are explicitly allowlisted by the user via `torch.serialization.add_safe_globals`. We recommend you start setting `weights_only=True` for any use case where you don't have full control of the loaded file. Please open an issue on GitHub for any issues related to this experimental feature.\n",
      "  return torch.load(io.BytesIO(b))\n"
     ]
    }
   ],
   "source": [
    "# Add the object as a safe global to shut down warning\n",
    "torch.serialization.add_safe_globals([DatasetEuCoHM])\n",
    "# Open the dataset file and save it to variable\n",
    "with open(dataset_save_filepath, 'rb') as file:\n",
    "    dataset: DatasetEuCoHM = pickle.load(file)\n",
    "\n",
    "data = dataset.data\n",
    "author_id_map = dataset.author_id_map\n",
    "author_node_id_map = dataset.author_node_id_map"
   ]
  },
  {
   "cell_type": "code",
   "execution_count": 4,
   "id": "cb11adcb-6fc1-4380-a378-f520ebc3d33c",
   "metadata": {},
   "outputs": [
    {
     "data": {
      "text/plain": [
       "Data(node_id=[60205], edge_index=[2, 224328], edge_attr=[224328, 1], edge_time=[224328], edge_weight=[224328], x=[60205, 1116], num_features=1116, num_nodes=60205, train_pos_edge_index=[2, 185620], train_pos_edge_weight=[185620], test_pos_edge_index=[2, 38708], test_pos_edge_weight=[38708], test_neg_edge_index=[2, 38708])"
      ]
     },
     "execution_count": 4,
     "metadata": {},
     "output_type": "execute_result"
    }
   ],
   "source": [
    "data"
   ]
  },
  {
   "cell_type": "markdown",
   "id": "04vUews17zy8",
   "metadata": {
    "id": "04vUews17zy8"
   },
   "source": [
    "## Model training\n",
    "\n",
    "\n",
    "---\n",
    "\n"
   ]
  },
  {
   "cell_type": "markdown",
   "id": "IMCtMQz00wC_",
   "metadata": {
    "id": "IMCtMQz00wC_"
   },
   "source": [
    "### Model definition"
   ]
  },
  {
   "cell_type": "code",
   "execution_count": 5,
   "id": "TJaBxQX_7_3D",
   "metadata": {
    "ExecuteTime": {
     "end_time": "2024-12-13T21:28:22.411435Z",
     "start_time": "2024-12-13T21:28:22.248727Z"
    },
    "id": "TJaBxQX_7_3D"
   },
   "outputs": [],
   "source": [
    "class ModelEuCoK(ModelEuCoHM):\n",
    "    def __init__(self,\n",
    "                 input_channels: int,\n",
    "                 hidden_channels: int,\n",
    "                 num_layers: int,\n",
    "                 num_recommendations: int,\n",
    "                 author_node_id_map: dict,\n",
    "                 author_id_map: dict,\n",
    "                 device: str = 'cpu'):\n",
    "        super().__init__(\n",
    "            input_channels=input_channels,\n",
    "            hidden_channels=hidden_channels,\n",
    "            num_layers=num_layers,\n",
    "            num_recommendations=num_recommendations,\n",
    "            author_node_id_map=author_node_id_map,\n",
    "            author_id_map=author_id_map,\n",
    "            device=device\n",
    "        )"
   ]
  },
  {
   "cell_type": "markdown",
   "id": "9XkKmZJC06IZ",
   "metadata": {
    "id": "9XkKmZJC06IZ"
   },
   "source": [
    "### Training the model"
   ]
  },
  {
   "cell_type": "code",
   "execution_count": 6,
   "id": "b4304b1f-ce07-411d-abc3-43011dd3a83b",
   "metadata": {},
   "outputs": [],
   "source": [
    "# Initialize the model\n",
    "model = ModelEuCoK(\n",
    "    input_channels=data.num_features,\n",
    "    hidden_channels=model_config['hidden_channels'],\n",
    "    num_recommendations=model_config['num_recommendations'],\n",
    "    num_layers=model_config['num_layers'],\n",
    "    author_node_id_map=author_node_id_map,\n",
    "    author_id_map=author_id_map\n",
    ").to(device)\n",
    "\n",
    "# Transfer to device\n",
    "data = data.to(device)\n",
    "\n",
    "# Initialize the optimizer\n",
    "optimizer: Optimizer = torch.optim.Adam(\n",
    "    params=model.parameters(),\n",
    "    lr=model_config['learning_rate']\n",
    ")\n",
    "\n",
    "# Initialize the scheduler\n",
    "scheduler: LRScheduler = torch.optim.lr_scheduler.ReduceLROnPlateau(\n",
    "    optimizer=optimizer,\n",
    "    mode='min',\n",
    "    factor=0.5,\n",
    "    patience=10\n",
    ")"
   ]
  },
  {
   "cell_type": "code",
   "execution_count": 7,
   "id": "379e5e3ea82af758",
   "metadata": {
    "ExecuteTime": {
     "end_time": "2024-12-13T21:30:55.180060Z",
     "start_time": "2024-12-13T21:30:52.430863Z"
    }
   },
   "outputs": [
    {
     "name": "stdout",
     "output_type": "stream",
     "text": [
      "Epoch 1, train loss: 0.0097, test loss: 0.1345, precision@k: 0.0535, recall@k: 0.1557, MAP@k: 0.0711, MRR@k: 0.1142, NDCG@k: 0.1084, HitRate@k: 0.2779\n",
      "Epoch 2, train loss: 0.0054, test loss: 0.1258, precision@k: 0.0553, recall@k: 0.1634, MAP@k: 0.0771, MRR@k: 0.1241, NDCG@k: 0.1155, HitRate@k: 0.2845\n",
      "Epoch 3, train loss: 0.0044, test loss: 0.1215, precision@k: 0.0567, recall@k: 0.1665, MAP@k: 0.0794, MRR@k: 0.1271, NDCG@k: 0.1181, HitRate@k: 0.2885\n",
      "Epoch 4, train loss: 0.0038, test loss: 0.1179, precision@k: 0.0574, recall@k: 0.1683, MAP@k: 0.0820, MRR@k: 0.1314, NDCG@k: 0.1209, HitRate@k: 0.2906\n",
      "Epoch 5, train loss: 0.0037, test loss: 0.1143, precision@k: 0.0582, recall@k: 0.1715, MAP@k: 0.0839, MRR@k: 0.1353, NDCG@k: 0.1235, HitRate@k: 0.2954\n",
      "Epoch 6, train loss: 0.0031, test loss: 0.1126, precision@k: 0.0579, recall@k: 0.1714, MAP@k: 0.0846, MRR@k: 0.1365, NDCG@k: 0.1240, HitRate@k: 0.2941\n",
      "Epoch 7, train loss: 0.0034, test loss: 0.1102, precision@k: 0.0587, recall@k: 0.1737, MAP@k: 0.0861, MRR@k: 0.1383, NDCG@k: 0.1259, HitRate@k: 0.2981\n",
      "Epoch 8, train loss: 0.0027, test loss: 0.1080, precision@k: 0.0591, recall@k: 0.1756, MAP@k: 0.0875, MRR@k: 0.1413, NDCG@k: 0.1277, HitRate@k: 0.3013\n",
      "Epoch 9, train loss: 0.0030, test loss: 0.1065, precision@k: 0.0598, recall@k: 0.1785, MAP@k: 0.0887, MRR@k: 0.1426, NDCG@k: 0.1295, HitRate@k: 0.3053\n",
      "Epoch 10, train loss: 0.0028, test loss: 0.1058, precision@k: 0.0605, recall@k: 0.1811, MAP@k: 0.0895, MRR@k: 0.1429, NDCG@k: 0.1307, HitRate@k: 0.3076\n",
      "Epoch 11, train loss: 0.0025, test loss: 0.1051, precision@k: 0.0608, recall@k: 0.1813, MAP@k: 0.0899, MRR@k: 0.1443, NDCG@k: 0.1313, HitRate@k: 0.3097\n",
      "Epoch 12, train loss: 0.0025, test loss: 0.1043, precision@k: 0.0614, recall@k: 0.1813, MAP@k: 0.0899, MRR@k: 0.1442, NDCG@k: 0.1314, HitRate@k: 0.3089\n",
      "Epoch 13, train loss: 0.0025, test loss: 0.1033, precision@k: 0.0620, recall@k: 0.1824, MAP@k: 0.0912, MRR@k: 0.1467, NDCG@k: 0.1329, HitRate@k: 0.3109\n",
      "Epoch 14, train loss: 0.0025, test loss: 0.1021, precision@k: 0.0625, recall@k: 0.1845, MAP@k: 0.0921, MRR@k: 0.1487, NDCG@k: 0.1342, HitRate@k: 0.3134\n",
      "Epoch 15, train loss: 0.0026, test loss: 0.1009, precision@k: 0.0629, recall@k: 0.1864, MAP@k: 0.0921, MRR@k: 0.1484, NDCG@k: 0.1347, HitRate@k: 0.3163\n",
      "Epoch 16, train loss: 0.0020, test loss: 0.1001, precision@k: 0.0633, recall@k: 0.1888, MAP@k: 0.0928, MRR@k: 0.1492, NDCG@k: 0.1359, HitRate@k: 0.3202\n",
      "Epoch 17, train loss: 0.0022, test loss: 0.0998, precision@k: 0.0639, recall@k: 0.1894, MAP@k: 0.0939, MRR@k: 0.1507, NDCG@k: 0.1371, HitRate@k: 0.3212\n",
      "Epoch 18, train loss: 0.0022, test loss: 0.0996, precision@k: 0.0642, recall@k: 0.1907, MAP@k: 0.0947, MRR@k: 0.1516, NDCG@k: 0.1380, HitRate@k: 0.3228\n",
      "Epoch 19, train loss: 0.0025, test loss: 0.0992, precision@k: 0.0642, recall@k: 0.1912, MAP@k: 0.0948, MRR@k: 0.1514, NDCG@k: 0.1382, HitRate@k: 0.3232\n",
      "Epoch 20, train loss: 0.0019, test loss: 0.0989, precision@k: 0.0644, recall@k: 0.1916, MAP@k: 0.0949, MRR@k: 0.1520, NDCG@k: 0.1386, HitRate@k: 0.3240\n",
      "Epoch 21, train loss: 0.0022, test loss: 0.0986, precision@k: 0.0646, recall@k: 0.1929, MAP@k: 0.0950, MRR@k: 0.1522, NDCG@k: 0.1391, HitRate@k: 0.3265\n",
      "Epoch 22, train loss: 0.0020, test loss: 0.0982, precision@k: 0.0650, recall@k: 0.1947, MAP@k: 0.0955, MRR@k: 0.1529, NDCG@k: 0.1399, HitRate@k: 0.3283\n",
      "Epoch 23, train loss: 0.0019, test loss: 0.0977, precision@k: 0.0649, recall@k: 0.1943, MAP@k: 0.0954, MRR@k: 0.1520, NDCG@k: 0.1397, HitRate@k: 0.3281\n",
      "Epoch 24, train loss: 0.0018, test loss: 0.0972, precision@k: 0.0651, recall@k: 0.1949, MAP@k: 0.0958, MRR@k: 0.1525, NDCG@k: 0.1401, HitRate@k: 0.3287\n",
      "Epoch 25, train loss: 0.0018, test loss: 0.0964, precision@k: 0.0652, recall@k: 0.1958, MAP@k: 0.0962, MRR@k: 0.1535, NDCG@k: 0.1408, HitRate@k: 0.3302\n",
      "Epoch 26, train loss: 0.0020, test loss: 0.0955, precision@k: 0.0654, recall@k: 0.1960, MAP@k: 0.0961, MRR@k: 0.1529, NDCG@k: 0.1407, HitRate@k: 0.3305\n",
      "Epoch 27, train loss: 0.0020, test loss: 0.0944, precision@k: 0.0659, recall@k: 0.1976, MAP@k: 0.0967, MRR@k: 0.1539, NDCG@k: 0.1417, HitRate@k: 0.3330\n",
      "Epoch 28, train loss: 0.0017, test loss: 0.0933, precision@k: 0.0666, recall@k: 0.1994, MAP@k: 0.0972, MRR@k: 0.1543, NDCG@k: 0.1426, HitRate@k: 0.3346\n",
      "Epoch 29, train loss: 0.0019, test loss: 0.0922, precision@k: 0.0667, recall@k: 0.1996, MAP@k: 0.0981, MRR@k: 0.1555, NDCG@k: 0.1434, HitRate@k: 0.3353\n",
      "Epoch 30, train loss: 0.0019, test loss: 0.0912, precision@k: 0.0671, recall@k: 0.2011, MAP@k: 0.0992, MRR@k: 0.1567, NDCG@k: 0.1446, HitRate@k: 0.3366\n",
      "Epoch 31, train loss: 0.0017, test loss: 0.0904, precision@k: 0.0674, recall@k: 0.2013, MAP@k: 0.0997, MRR@k: 0.1579, NDCG@k: 0.1452, HitRate@k: 0.3361\n",
      "Epoch 32, train loss: 0.0019, test loss: 0.0896, precision@k: 0.0676, recall@k: 0.2022, MAP@k: 0.0997, MRR@k: 0.1574, NDCG@k: 0.1454, HitRate@k: 0.3378\n",
      "Epoch 33, train loss: 0.0021, test loss: 0.0890, precision@k: 0.0681, recall@k: 0.2043, MAP@k: 0.1005, MRR@k: 0.1589, NDCG@k: 0.1466, HitRate@k: 0.3405\n",
      "Epoch 34, train loss: 0.0018, test loss: 0.0884, precision@k: 0.0682, recall@k: 0.2051, MAP@k: 0.1009, MRR@k: 0.1599, NDCG@k: 0.1472, HitRate@k: 0.3411\n",
      "Epoch 35, train loss: 0.0018, test loss: 0.0880, precision@k: 0.0686, recall@k: 0.2061, MAP@k: 0.1013, MRR@k: 0.1600, NDCG@k: 0.1477, HitRate@k: 0.3423\n",
      "Epoch 36, train loss: 0.0017, test loss: 0.0877, precision@k: 0.0686, recall@k: 0.2062, MAP@k: 0.1009, MRR@k: 0.1593, NDCG@k: 0.1474, HitRate@k: 0.3422\n",
      "Epoch 37, train loss: 0.0019, test loss: 0.0877, precision@k: 0.0688, recall@k: 0.2062, MAP@k: 0.1009, MRR@k: 0.1591, NDCG@k: 0.1475, HitRate@k: 0.3430\n",
      "Epoch 38, train loss: 0.0017, test loss: 0.0878, precision@k: 0.0688, recall@k: 0.2069, MAP@k: 0.1008, MRR@k: 0.1591, NDCG@k: 0.1476, HitRate@k: 0.3439\n",
      "Epoch 39, train loss: 0.0019, test loss: 0.0880, precision@k: 0.0689, recall@k: 0.2070, MAP@k: 0.1011, MRR@k: 0.1596, NDCG@k: 0.1479, HitRate@k: 0.3445\n",
      "Epoch 40, train loss: 0.0016, test loss: 0.0883, precision@k: 0.0691, recall@k: 0.2081, MAP@k: 0.1022, MRR@k: 0.1611, NDCG@k: 0.1490, HitRate@k: 0.3455\n",
      "Epoch 41, train loss: 0.0015, test loss: 0.0886, precision@k: 0.0693, recall@k: 0.2082, MAP@k: 0.1024, MRR@k: 0.1614, NDCG@k: 0.1492, HitRate@k: 0.3454\n",
      "Epoch 42, train loss: 0.0015, test loss: 0.0889, precision@k: 0.0693, recall@k: 0.2084, MAP@k: 0.1024, MRR@k: 0.1608, NDCG@k: 0.1492, HitRate@k: 0.3449\n",
      "Epoch 43, train loss: 0.0015, test loss: 0.0891, precision@k: 0.0692, recall@k: 0.2083, MAP@k: 0.1033, MRR@k: 0.1625, NDCG@k: 0.1500, HitRate@k: 0.3455\n",
      "Epoch 44, train loss: 0.0015, test loss: 0.0894, precision@k: 0.0693, recall@k: 0.2083, MAP@k: 0.1029, MRR@k: 0.1618, NDCG@k: 0.1497, HitRate@k: 0.3458\n",
      "Epoch 45, train loss: 0.0015, test loss: 0.0900, precision@k: 0.0692, recall@k: 0.2082, MAP@k: 0.1026, MRR@k: 0.1616, NDCG@k: 0.1495, HitRate@k: 0.3460\n",
      "Epoch 46, train loss: 0.0018, test loss: 0.0905, precision@k: 0.0689, recall@k: 0.2076, MAP@k: 0.1026, MRR@k: 0.1619, NDCG@k: 0.1494, HitRate@k: 0.3458\n",
      "Epoch 47, train loss: 0.0013, test loss: 0.0910, precision@k: 0.0687, recall@k: 0.2072, MAP@k: 0.1020, MRR@k: 0.1614, NDCG@k: 0.1488, HitRate@k: 0.3459\n",
      "Epoch 48, train loss: 0.0016, test loss: 0.0912, precision@k: 0.0690, recall@k: 0.2083, MAP@k: 0.1023, MRR@k: 0.1609, NDCG@k: 0.1492, HitRate@k: 0.3471\n",
      "Epoch 49, train loss: 0.0016, test loss: 0.0912, precision@k: 0.0690, recall@k: 0.2085, MAP@k: 0.1022, MRR@k: 0.1613, NDCG@k: 0.1492, HitRate@k: 0.3471\n",
      "Epoch 50, train loss: 0.0015, test loss: 0.0911, precision@k: 0.0690, recall@k: 0.2083, MAP@k: 0.1023, MRR@k: 0.1609, NDCG@k: 0.1492, HitRate@k: 0.3464\n"
     ]
    }
   ],
   "source": [
    "results: list = list()\n",
    "for epoch in range(1, model_config['num_epochs'] + 1):\n",
    "    # ------ Train\n",
    "    train_loss: float = train(\n",
    "        model=model,\n",
    "        data=data,\n",
    "        optimizer=optimizer\n",
    "    )\n",
    "    # ------ Test\n",
    "    test_loss: float = test(\n",
    "        model=model,\n",
    "        data=data\n",
    "    )\n",
    "    scheduler.step(test_loss)\n",
    "    # ------ Evaluate\n",
    "    evaluation_results: dict = evaluate(\n",
    "        k=model_config['num_recommendations'],\n",
    "        model=model,\n",
    "        data=data\n",
    "    )\n",
    "\n",
    "    # Save results\n",
    "    epoch_result = get_results(\n",
    "        epoch=epoch,\n",
    "        train_loss=train_loss,\n",
    "        test_loss=test_loss,\n",
    "        evaluation_results=evaluation_results\n",
    "    )\n",
    "    results.append(epoch_result)"
   ]
  },
  {
   "cell_type": "markdown",
   "id": "CIzjEI3R-eY-",
   "metadata": {
    "id": "CIzjEI3R-eY-"
   },
   "source": [
    "### Model evaluation"
   ]
  },
  {
   "cell_type": "code",
   "execution_count": 8,
   "id": "JHmrYAoF-dWh",
   "metadata": {
    "colab": {
     "base_uri": "https://localhost:8080/",
     "height": 472
    },
    "id": "JHmrYAoF-dWh",
    "outputId": "51b44a7b-4d40-4c23-8009-d3af553ed2e9"
   },
   "outputs": [],
   "source": [
    "results_df = pd.DataFrame(results)\n",
    "results_df.to_csv(f'../results/results_Model{model_name}.csv', index=False)"
   ]
  },
  {
   "cell_type": "code",
   "execution_count": 9,
   "id": "RwsZRSb828Ua",
   "metadata": {
    "colab": {
     "base_uri": "https://localhost:8080/",
     "height": 472
    },
    "id": "RwsZRSb828Ua",
    "outputId": "57cc0fe4-2411-44ed-cfc2-f41e6c682819"
   },
   "outputs": [
    {
     "data": {
      "image/png": "[encoded data removed]",
      "text/plain": [
       "<Figure size 640x480 with 1 Axes>"
      ]
     },
     "metadata": {},
     "output_type": "display_data"
    }
   ],
   "source": [
    "# Generate loss curve\n",
    "# Train loss\n",
    "sns.lineplot(data=results_df, x='Epoch', y='Train Loss')\n",
    "# Test loss\n",
    "sns.lineplot(data=results_df, x='Epoch', y='Test Loss')\n",
    "plt.xlabel('Epoch')\n",
    "plt.ylabel('Loss')\n",
    "plt.title('Loss curve')\n",
    "plt.yscale('log')\n",
    "plt.show()"
   ]
  },
  {
   "cell_type": "code",
   "execution_count": null,
   "id": "QrRBTsA5vAs1",
   "metadata": {
    "colab": {
     "base_uri": "https://localhost:8080/"
    },
    "id": "QrRBTsA5vAs1",
    "outputId": "afffeb4f-f62c-4c48-cf69-c7cb5eb06f55"
   },
   "outputs": [],
   "source": [
    "# Generate evaluation metrics plot\n",
    "sns.lineplot(data=results_df, x='Epoch', y='Precision@k')\n",
    "sns.lineplot(data=results_df, x='Epoch', y='Recall@k')\n",
    "sns.lineplot(data=results_df, x='Epoch', y='MAP@k')\n",
    "sns.lineplot(data=results_df, x='Epoch', y='MRR@k')\n",
    "sns.lineplot(data=results_df, x='Epoch', y='NDCG@k')\n",
    "sns.lineplot(data=results_df, x='Epoch', y='HitRate@k')\n",
    "plt.xlabel('Epoch')\n",
    "plt.ylabel('Performance')\n",
    "plt.title('Performance metrics')\n",
    "plt.show()"
   ]
  }
 ],
 "metadata": {
  "colab": {
   "collapsed_sections": [
    "ISUVX4hvFMKM",
    "aZQQpLqCFeGK",
    "2cXJ5OO10uxX"
   ],
   "name": "Collaboration Recommender 1.0 (Homogeneous).ipynb",
   "provenance": []
  },
  "kernelspec": {
   "display_name": "Python 3 (ipykernel)",
   "language": "python",
   "name": "python3"
  },
  "language_info": {
   "codemirror_mode": {
    "name": "ipython",
    "version": 3
   },
   "file_extension": ".py",
   "mimetype": "text/x-python",
   "name": "python",
   "nbconvert_exporter": "python",
   "pygments_lexer": "ipython3",
   "version": "3.12.3"
  }
 },
 "nbformat": 4,
 "nbformat_minor": 5
}
