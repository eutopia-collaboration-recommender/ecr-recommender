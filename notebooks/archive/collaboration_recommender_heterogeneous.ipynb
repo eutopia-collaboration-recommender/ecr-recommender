{
 "cells": [
  {
   "cell_type": "markdown",
   "id": "zYPnKxIhFGVJ",
   "metadata": {
    "id": "zYPnKxIhFGVJ"
   },
   "source": [
    "# Collaboration recommender system 2.0"
   ]
  },
  {
   "cell_type": "markdown",
   "id": "x7McZwR_FRta",
   "metadata": {
    "id": "x7McZwR_FRta"
   },
   "source": [
    "## **Setting up environment**\n",
    "\n",
    "---\n",
    "\n"
   ]
  },
  {
   "cell_type": "markdown",
   "id": "jX5i4Qjs7MIl",
   "metadata": {
    "id": "jX5i4Qjs7MIl"
   },
   "source": [
    "### **Package installation**\n",
    "\n",
    "Installing `torch` and `torch_geometric` libraries."
   ]
  },
  {
   "cell_type": "code",
   "execution_count": 1,
   "id": "t4n7jKW9uiQE",
   "metadata": {
    "colab": {
     "base_uri": "https://localhost:8080/"
    },
    "id": "t4n7jKW9uiQE",
    "outputId": "d501c056-f66b-487d-f655-e3fb97de55df"
   },
   "outputs": [
    {
     "name": "stdout",
     "output_type": "stream",
     "text": [
      "2.4.0+cpu\n"
     ]
    }
   ],
   "source": [
    "import torch\n",
    "import os\n",
    "os.environ['TORCH'] = torch.__version__\n",
    "print(os.environ['TORCH'])"
   ]
  },
  {
   "cell_type": "markdown",
   "id": "cD8tnTfC60X2",
   "metadata": {
    "id": "cD8tnTfC60X2"
   },
   "source": [
    "### **Loading libraries**"
   ]
  },
  {
   "cell_type": "code",
   "execution_count": 2,
   "id": "5okfWmvKEI3Z",
   "metadata": {
    "id": "5okfWmvKEI3Z"
   },
   "outputs": [],
   "source": [
    "import sys\n",
    "import os\n",
    "\n",
    "sys.path.insert(0, os.path.abspath(\"../..\"))\n",
    "\n",
    "# PyTorch imports\n",
    "from torch import Tensor\n",
    "import torch.nn.functional as F\n",
    "from torch.nn import Embedding\n",
    "\n",
    "# PyTorch Geometric imports\n",
    "import torch_geometric\n",
    "import torch_geometric.transforms as T\n",
    "from torch_geometric import EdgeIndex\n",
    "from torch_geometric.loader import LinkNeighborLoader, NeighborLoader\n",
    "from torch_geometric.nn import SAGEConv, HeteroConv, to_hetero, MIPSKNNIndex, Linear\n",
    "from torch_geometric.data import HeteroData, Batch\n",
    "from torch_geometric.nn.models.lightgcn import BPRLoss\n",
    "from torch_geometric.utils import structured_negative_sampling\n",
    "from torch_geometric.metrics import (\n",
    "    LinkPredPrecision,\n",
    "    LinkPredRecall,\n",
    "    LinkPredMAP,\n",
    "    LinkPredMRR,\n",
    "    LinkPredNDCG\n",
    "    )\n",
    "\n",
    "\n",
    "# Other imports\n",
    "import io\n",
    "import datetime\n",
    "import math\n",
    "import numpy as np\n",
    "import pandas as pd\n",
    "import polars as pl\n",
    "import matplotlib.pyplot as plt\n",
    "from box import Box\n",
    "from tqdm import tqdm\n",
    "from sklearn.metrics import roc_auc_score\n",
    "from sklearn.preprocessing import StandardScaler\n",
    "from util.postgres import create_sqlalchemy_engine, query"
   ]
  },
  {
   "cell_type": "code",
   "execution_count": 3,
   "id": "X6kGtZ7RD7Y9",
   "metadata": {
    "colab": {
     "base_uri": "https://localhost:8080/"
    },
    "id": "X6kGtZ7RD7Y9",
    "outputId": "f8f52ea7-44e2-431a-e8a7-52419fc01381"
   },
   "outputs": [
    {
     "name": "stdout",
     "output_type": "stream",
     "text": [
      "2.4.0+cpu\n",
      "2.7.0\n",
      "Device: 'cpu'\n"
     ]
    }
   ],
   "source": [
    "device = torch.device('cuda' if torch.cuda.is_available() else 'cpu')\n",
    "print(torch.__version__)\n",
    "print(torch_geometric.__version__)\n",
    "print(f\"Device: '{device}'\")\n",
    "if torch.cuda.is_available():\n",
    "    print(torch.cuda.get_device_name(0))"
   ]
  },
  {
   "cell_type": "markdown",
   "id": "bQ_xqBiFn97Q",
   "metadata": {
    "id": "bQ_xqBiFn97Q"
   },
   "source": [
    "### **Global variables**"
   ]
  },
  {
   "cell_type": "code",
   "execution_count": 4,
   "id": "9r1K6ezsn97Q",
   "metadata": {
    "id": "9r1K6ezsn97Q"
   },
   "outputs": [],
   "source": [
    "# -------------------- GLOBAL VARIABLES --------------------\n",
    "PATH_TO_CONFIG_FILE = '../../config.yaml'\n",
    "\n",
    "# -------------------- LOAD CONFIGURATION --------------------\n",
    "# Load the configuration file\n",
    "config = Box.from_yaml(filename=PATH_TO_CONFIG_FILE)\n",
    "\n",
    "num_recommendations = 10    # Number of recommendations\n",
    "num_train = 0.8             # Percentage of data used for training\n",
    "learning_rate = 1e-2        # Learning rate\n",
    "num_epochs = 20            # Number of epochs\n",
    "hidden_channels = 128       # Number of hidden channels\n",
    "\n",
    "target_edge_type = ('author', 'co_authors', 'author')\n",
    "target_node_type = 'author'\n",
    "\n",
    "pg_engine = create_sqlalchemy_engine(\n",
    "    username=config.POSTGRES.USERNAME,\n",
    "    password=config.POSTGRES.PASSWORD,\n",
    "    host=config.POSTGRES.HOST,\n",
    "    port=config.POSTGRES.PORT,\n",
    "    database=config.POSTGRES.DATABASE,\n",
    "    schema=config.POSTGRES.SCHEMA\n",
    ")\n",
    "batch_size = 10000"
   ]
  },
  {
   "cell_type": "markdown",
   "id": "ISUVX4hvFMKM",
   "metadata": {
    "id": "ISUVX4hvFMKM"
   },
   "source": [
    "## **Data preparation**\n",
    "\n",
    "---\n",
    "\n"
   ]
  },
  {
   "cell_type": "markdown",
   "id": "PUmNU6hf75k7",
   "metadata": {
    "id": "PUmNU6hf75k7"
   },
   "source": [
    "### **Loading data**\n",
    "\n",
    "When loading the data, we take into account only the articles, where at least one author comes from the EUTOPIA"
   ]
  },
  {
   "cell_type": "code",
   "execution_count": 5,
   "id": "9219071e-65c1-42ef-8a0d-aa8f827e9805",
   "metadata": {
    "scrolled": true
   },
   "outputs": [
    {
     "name": "stdout",
     "output_type": "stream",
     "text": [
      "CPU times: user 37.7 ms, sys: 9.77 ms, total: 47.4 ms\n",
      "Wall time: 84.5 ms\n"
     ]
    },
    {
     "data": {
      "text/html": [
       "<div>\n",
       "<style scoped>\n",
       "    .dataframe tbody tr th:only-of-type {\n",
       "        vertical-align: middle;\n",
       "    }\n",
       "\n",
       "    .dataframe tbody tr th {\n",
       "        vertical-align: top;\n",
       "    }\n",
       "\n",
       "    .dataframe thead th {\n",
       "        text-align: right;\n",
       "    }\n",
       "</style>\n",
       "<table border=\"1\" class=\"dataframe\">\n",
       "  <thead>\n",
       "    <tr style=\"text-align: right;\">\n",
       "      <th></th>\n",
       "      <th>author_id</th>\n",
       "      <th>dummy_feature</th>\n",
       "    </tr>\n",
       "  </thead>\n",
       "  <tbody>\n",
       "    <tr>\n",
       "      <th>0</th>\n",
       "      <td>0000-0001-6379-2381</td>\n",
       "      <td>1</td>\n",
       "    </tr>\n",
       "    <tr>\n",
       "      <th>1</th>\n",
       "      <td>0000-0001-7809-8050</td>\n",
       "      <td>1</td>\n",
       "    </tr>\n",
       "    <tr>\n",
       "      <th>2</th>\n",
       "      <td>0000-0001-8367-5465</td>\n",
       "      <td>1</td>\n",
       "    </tr>\n",
       "    <tr>\n",
       "      <th>3</th>\n",
       "      <td>0000-0001-8606-6825</td>\n",
       "      <td>1</td>\n",
       "    </tr>\n",
       "    <tr>\n",
       "      <th>4</th>\n",
       "      <td>0000-0001-8718-9819</td>\n",
       "      <td>1</td>\n",
       "    </tr>\n",
       "  </tbody>\n",
       "</table>\n",
       "</div>"
      ],
      "text/plain": [
       "             author_id  dummy_feature\n",
       "0  0000-0001-6379-2381              1\n",
       "1  0000-0001-7809-8050              1\n",
       "2  0000-0001-8367-5465              1\n",
       "3  0000-0001-8606-6825              1\n",
       "4  0000-0001-8718-9819              1"
      ]
     },
     "execution_count": 5,
     "metadata": {},
     "output_type": "execute_result"
    }
   ],
   "source": [
    "%%time\n",
    "# Get all authors data and value metrics about their collaboration\n",
    "author_query = f\"\"\"\n",
    "SELECT *\n",
    "FROM g_eucoht_node_author\n",
    "\"\"\"\n",
    "with pg_engine.connect() as conn:\n",
    "    author_df = query(conn=conn, query_str=author_query)\n",
    "\n",
    "conn.close()\n",
    "author_df.head(5)"
   ]
  },
  {
   "cell_type": "code",
   "execution_count": 6,
   "id": "f88d120f-8694-47c3-9592-c1a6fde00d00",
   "metadata": {},
   "outputs": [
    {
     "name": "stdout",
     "output_type": "stream",
     "text": [
      "CPU times: user 770 ms, sys: 125 ms, total: 895 ms\n",
      "Wall time: 975 ms\n"
     ]
    },
    {
     "data": {
      "text/html": [
       "<div>\n",
       "<style scoped>\n",
       "    .dataframe tbody tr th:only-of-type {\n",
       "        vertical-align: middle;\n",
       "    }\n",
       "\n",
       "    .dataframe tbody tr th {\n",
       "        vertical-align: top;\n",
       "    }\n",
       "\n",
       "    .dataframe thead th {\n",
       "        text-align: right;\n",
       "    }\n",
       "</style>\n",
       "<table border=\"1\" class=\"dataframe\">\n",
       "  <thead>\n",
       "    <tr style=\"text-align: right;\">\n",
       "      <th></th>\n",
       "      <th>author_id</th>\n",
       "      <th>article_id</th>\n",
       "      <th>time</th>\n",
       "    </tr>\n",
       "  </thead>\n",
       "  <tbody>\n",
       "    <tr>\n",
       "      <th>0</th>\n",
       "      <td>23037324500</td>\n",
       "      <td>0013330732</td>\n",
       "      <td>20180206</td>\n",
       "    </tr>\n",
       "    <tr>\n",
       "      <th>1</th>\n",
       "      <td>6507696573</td>\n",
       "      <td>0013330732</td>\n",
       "      <td>20180206</td>\n",
       "    </tr>\n",
       "    <tr>\n",
       "      <th>2</th>\n",
       "      <td>0000-0003-4842-5676</td>\n",
       "      <td>10.1002/aenm.201301688</td>\n",
       "      <td>20140101</td>\n",
       "    </tr>\n",
       "    <tr>\n",
       "      <th>3</th>\n",
       "      <td>14822457300</td>\n",
       "      <td>10.1002/cmdc.201402459</td>\n",
       "      <td>20141217</td>\n",
       "    </tr>\n",
       "    <tr>\n",
       "      <th>4</th>\n",
       "      <td>0000-0001-7809-8050</td>\n",
       "      <td>10.1002/cplu.201402054</td>\n",
       "      <td>20140101</td>\n",
       "    </tr>\n",
       "  </tbody>\n",
       "</table>\n",
       "</div>"
      ],
      "text/plain": [
       "             author_id              article_id      time\n",
       "0          23037324500              0013330732  20180206\n",
       "1           6507696573              0013330732  20180206\n",
       "2  0000-0003-4842-5676  10.1002/aenm.201301688  20140101\n",
       "3          14822457300  10.1002/cmdc.201402459  20141217\n",
       "4  0000-0001-7809-8050  10.1002/cplu.201402054  20140101"
      ]
     },
     "execution_count": 6,
     "metadata": {},
     "output_type": "execute_result"
    }
   ],
   "source": [
    "%%time\n",
    "# Get all authors data and value metrics about their collaboration\n",
    "published_query = f\"\"\"\n",
    "SELECT *\n",
    "FROM g_eucoht_edge_publishes\n",
    "\"\"\"\n",
    "with pg_engine.connect() as conn:\n",
    "    published_df = query(conn=conn, query_str=published_query)\n",
    "\n",
    "conn.close()\n",
    "published_df.head(5)"
   ]
  },
  {
   "cell_type": "code",
   "execution_count": 7,
   "id": "0e5129cd-4f87-4faa-b002-13ef6c74b3cd",
   "metadata": {},
   "outputs": [
    {
     "name": "stdout",
     "output_type": "stream",
     "text": [
      "CPU times: user 76.7 ms, sys: 10.9 ms, total: 87.6 ms\n",
      "Wall time: 112 ms\n"
     ]
    },
    {
     "data": {
      "text/html": [
       "<div>\n",
       "<style scoped>\n",
       "    .dataframe tbody tr th:only-of-type {\n",
       "        vertical-align: middle;\n",
       "    }\n",
       "\n",
       "    .dataframe tbody tr th {\n",
       "        vertical-align: top;\n",
       "    }\n",
       "\n",
       "    .dataframe thead th {\n",
       "        text-align: right;\n",
       "    }\n",
       "</style>\n",
       "<table border=\"1\" class=\"dataframe\">\n",
       "  <thead>\n",
       "    <tr style=\"text-align: right;\">\n",
       "      <th></th>\n",
       "      <th>author_id</th>\n",
       "      <th>co_author_id</th>\n",
       "      <th>time</th>\n",
       "      <th>eutopia_collaboration_count</th>\n",
       "    </tr>\n",
       "  </thead>\n",
       "  <tbody>\n",
       "    <tr>\n",
       "      <th>0</th>\n",
       "      <td>0000-0001-8367-5465</td>\n",
       "      <td>0000-0001-9448-789X</td>\n",
       "      <td>20050101</td>\n",
       "      <td>0</td>\n",
       "    </tr>\n",
       "    <tr>\n",
       "      <th>1</th>\n",
       "      <td>0000-0001-9448-789X</td>\n",
       "      <td>0000-0001-8367-5465</td>\n",
       "      <td>20050101</td>\n",
       "      <td>0</td>\n",
       "    </tr>\n",
       "    <tr>\n",
       "      <th>2</th>\n",
       "      <td>0000-0003-3517-3780</td>\n",
       "      <td>6506321882</td>\n",
       "      <td>20120101</td>\n",
       "      <td>0</td>\n",
       "    </tr>\n",
       "    <tr>\n",
       "      <th>3</th>\n",
       "      <td>10040417200</td>\n",
       "      <td>8221262000</td>\n",
       "      <td>20090101</td>\n",
       "      <td>0</td>\n",
       "    </tr>\n",
       "    <tr>\n",
       "      <th>4</th>\n",
       "      <td>10040997700</td>\n",
       "      <td>18233779900</td>\n",
       "      <td>20091101</td>\n",
       "      <td>0</td>\n",
       "    </tr>\n",
       "  </tbody>\n",
       "</table>\n",
       "</div>"
      ],
      "text/plain": [
       "             author_id         co_author_id      time  \\\n",
       "0  0000-0001-8367-5465  0000-0001-9448-789X  20050101   \n",
       "1  0000-0001-9448-789X  0000-0001-8367-5465  20050101   \n",
       "2  0000-0003-3517-3780           6506321882  20120101   \n",
       "3          10040417200           8221262000  20090101   \n",
       "4          10040997700          18233779900  20091101   \n",
       "\n",
       "   eutopia_collaboration_count  \n",
       "0                            0  \n",
       "1                            0  \n",
       "2                            0  \n",
       "3                            0  \n",
       "4                            0  "
      ]
     },
     "execution_count": 7,
     "metadata": {},
     "output_type": "execute_result"
    }
   ],
   "source": [
    "%%time\n",
    "# Get all authors data and value metrics about their collaboration\n",
    "coauthored_query = f\"\"\"\n",
    "SELECT *\n",
    "FROM g_eucoht_edge_co_authors\n",
    "\"\"\"\n",
    "with pg_engine.connect() as conn:\n",
    "    coauthored_df = query(conn=conn, query_str=coauthored_query)\n",
    "\n",
    "conn.close()\n",
    "coauthored_df.head(5)"
   ]
  },
  {
   "cell_type": "code",
   "execution_count": 8,
   "id": "2344da7a-a59f-42a0-80e7-c37a9ac91024",
   "metadata": {
    "scrolled": true
   },
   "outputs": [
    {
     "name": "stdout",
     "output_type": "stream",
     "text": [
      "Rows fetched 10000 for batch 0\n",
      "Rows fetched 10000 for batch 1\n",
      "Rows fetched 10000 for batch 2\n",
      "Rows fetched 10000 for batch 3\n",
      "Rows fetched 10000 for batch 4\n",
      "Rows fetched 10000 for batch 5\n",
      "CPU times: user 32.3 s, sys: 9.58 s, total: 41.9 s\n",
      "Wall time: 1min 3s\n"
     ]
    },
    {
     "data": {
      "text/html": [
       "<div>\n",
       "<style scoped>\n",
       "    .dataframe tbody tr th:only-of-type {\n",
       "        vertical-align: middle;\n",
       "    }\n",
       "\n",
       "    .dataframe tbody tr th {\n",
       "        vertical-align: top;\n",
       "    }\n",
       "\n",
       "    .dataframe thead th {\n",
       "        text-align: right;\n",
       "    }\n",
       "</style>\n",
       "<table border=\"1\" class=\"dataframe\">\n",
       "  <thead>\n",
       "    <tr style=\"text-align: right;\">\n",
       "      <th></th>\n",
       "      <th>article_id</th>\n",
       "      <th>article_citation_normalized_count</th>\n",
       "      <th>is_eutopia_collaboration</th>\n",
       "      <th>collaboration_novelty_index</th>\n",
       "      <th>article_embedding</th>\n",
       "    </tr>\n",
       "  </thead>\n",
       "  <tbody>\n",
       "    <tr>\n",
       "      <th>0</th>\n",
       "      <td>84865405594</td>\n",
       "      <td>20.42</td>\n",
       "      <td>0</td>\n",
       "      <td>0.861111</td>\n",
       "      <td>[0.004589761607348919, 0.02756412886083126, -0...</td>\n",
       "    </tr>\n",
       "    <tr>\n",
       "      <th>1</th>\n",
       "      <td>84880929267</td>\n",
       "      <td>1.37</td>\n",
       "      <td>0</td>\n",
       "      <td>0.500070</td>\n",
       "      <td>[0.010607256554067135, 0.027150079607963562, -...</td>\n",
       "    </tr>\n",
       "    <tr>\n",
       "      <th>2</th>\n",
       "      <td>77952382135</td>\n",
       "      <td>4.29</td>\n",
       "      <td>0</td>\n",
       "      <td>3.000000</td>\n",
       "      <td>[-0.006951452698558569, -0.0008734843577258289...</td>\n",
       "    </tr>\n",
       "    <tr>\n",
       "      <th>3</th>\n",
       "      <td>77954866153</td>\n",
       "      <td>6.23</td>\n",
       "      <td>0</td>\n",
       "      <td>0.770833</td>\n",
       "      <td>[0.005069693550467491, 0.007222142070531845, -...</td>\n",
       "    </tr>\n",
       "    <tr>\n",
       "      <th>4</th>\n",
       "      <td>85030783799</td>\n",
       "      <td>1.42</td>\n",
       "      <td>0</td>\n",
       "      <td>2.000000</td>\n",
       "      <td>[-0.01370143610984087, 0.01628061570227146, 0....</td>\n",
       "    </tr>\n",
       "  </tbody>\n",
       "</table>\n",
       "</div>"
      ],
      "text/plain": [
       "    article_id article_citation_normalized_count  is_eutopia_collaboration  \\\n",
       "0  84865405594                             20.42                         0   \n",
       "1  84880929267                              1.37                         0   \n",
       "2  77952382135                              4.29                         0   \n",
       "3  77954866153                              6.23                         0   \n",
       "4  85030783799                              1.42                         0   \n",
       "\n",
       "   collaboration_novelty_index  \\\n",
       "0                     0.861111   \n",
       "1                     0.500070   \n",
       "2                     3.000000   \n",
       "3                     0.770833   \n",
       "4                     2.000000   \n",
       "\n",
       "                                   article_embedding  \n",
       "0  [0.004589761607348919, 0.02756412886083126, -0...  \n",
       "1  [0.010607256554067135, 0.027150079607963562, -...  \n",
       "2  [-0.006951452698558569, -0.0008734843577258289...  \n",
       "3  [0.005069693550467491, 0.007222142070531845, -...  \n",
       "4  [-0.01370143610984087, 0.01628061570227146, 0....  "
      ]
     },
     "execution_count": 8,
     "metadata": {},
     "output_type": "execute_result"
    }
   ],
   "source": [
    "%%time\n",
    "with pg_engine.raw_connection().cursor() as cur:\n",
    "    article_query = f\"\"\"\n",
    "    SELECT article_id,\n",
    "           article_citation_normalized_count,\n",
    "           is_eutopia_collaboration,\n",
    "           collaboration_novelty_index,\n",
    "           article_embedding\n",
    "    FROM g_eucoht_node_article\n",
    "    \"\"\"\n",
    "    cur.execute(article_query)\n",
    "    # Initialize the Polars DataFrame\n",
    "    article_df_polars: pl.DataFrame = pl.DataFrame()\n",
    "    ix = 0\n",
    "    # Fetch in chunks\n",
    "    while True:\n",
    "        rows = cur.fetchmany(size=batch_size)\n",
    "        if not rows:\n",
    "            break\n",
    "        # Append the rows to the Polars DataFrame\n",
    "        df_chunk = pl.DataFrame(rows, schema=[\n",
    "            \"article_id\", \n",
    "            \"article_citation_normalized_count\",\n",
    "            \"is_eutopia_collaboration\",\n",
    "            \"collaboration_novelty_index\",\n",
    "            \"article_embedding\"\n",
    "        ], orient=\"row\")\n",
    "    \n",
    "        # Concatenate chunk with the master DataFrame\n",
    "        article_df_polars = pl.concat([article_df_polars, df_chunk], how=\"vertical\")\n",
    "        print(f\"Rows fetched {batch_size} for batch {ix}\")\n",
    "        ix += 1\n",
    "\n",
    "article_df = article_df_polars.to_pandas()\n",
    "article_df.head(5)"
   ]
  },
  {
   "cell_type": "markdown",
   "id": "dZW9dtfeuhKT",
   "metadata": {
    "id": "dZW9dtfeuhKT"
   },
   "source": [
    "### Contiguous unique identifier for node: **author**"
   ]
  },
  {
   "cell_type": "code",
   "execution_count": 9,
   "id": "S3vkAApdE7M9",
   "metadata": {
    "id": "S3vkAApdE7M9"
   },
   "outputs": [],
   "source": [
    "# Author: Map each unique MD5 hash to a contiguous unique integer ID\n",
    "unique_authors = author_df['author_id'].unique()\n",
    "author_id_map = {author: i for i, author in enumerate(unique_authors)}\n",
    "author_sid_map = {y: x for x, y in author_id_map.items()}\n",
    "# ---> Adjust all dataframes\n",
    "author_df['author_node_id'] = author_df['author_id'].map(author_id_map)\n",
    "published_df['author_node_id'] = published_df['author_id'].map(author_id_map)\n",
    "coauthored_df['author_node_id'] = coauthored_df['author_id'].map(author_id_map)\n",
    "coauthored_df['co_author_node_id'] = coauthored_df['co_author_id'].map(author_id_map)"
   ]
  },
  {
   "cell_type": "markdown",
   "id": "sLnxwKwBur9Z",
   "metadata": {
    "id": "sLnxwKwBur9Z"
   },
   "source": [
    "### Contiguous unique identifier for node: **article**"
   ]
  },
  {
   "cell_type": "code",
   "execution_count": 10,
   "id": "BUgz5_tQuyQl",
   "metadata": {
    "id": "BUgz5_tQuyQl",
    "scrolled": true
   },
   "outputs": [],
   "source": [
    "# Article: Map each unique MD5 hash to a contiguous unique integer ID\n",
    "unique_articles = published_df['article_id'].unique()\n",
    "article_id_map = {article: i for i, article in enumerate(unique_articles)}\n",
    "article_sid_map = {y: x for x, y in article_id_map.items()}\n",
    "# ---> Adjust all dataframes\n",
    "article_df['article_node_id'] = article_df['article_id'].map(article_id_map)\n",
    "published_df['article_node_id'] = published_df['article_id'].map(article_id_map)"
   ]
  },
  {
   "cell_type": "markdown",
   "id": "aZQQpLqCFeGK",
   "metadata": {
    "id": "aZQQpLqCFeGK"
   },
   "source": [
    "## **Heterogeneous graph creation**\n",
    "First of all, we prepare the node features for articles. We first sort the article dataframe by node ID. We know that we have unique values in the article dataframe, i.e. one row per article and we can just sort it. Otherwise, we would need to create a unique mapping between article features and articles themselves. The sorting needs to match the node index that we will create later. After that, we also need to set up correct type (specifically, convert Pandas Int64 to int64, but we go for the lazy version and just convert all features to float64). At last, we exclude the `ARTICLE_SID` and `ARTICLE_NODE_ID` columns, because Torch can't work with strings.\n",
    "\n",
    "**TODO:**\n",
    "- Think about only including \"valuable\" partnerships/edges."
   ]
  },
  {
   "cell_type": "markdown",
   "id": "KHk6LU_su7-S",
   "metadata": {
    "id": "KHk6LU_su7-S"
   },
   "source": [
    "### Matrix X for node: **article**"
   ]
  },
  {
   "cell_type": "code",
   "execution_count": 11,
   "id": "7e5ke0kkvLpg",
   "metadata": {
    "colab": {
     "base_uri": "https://localhost:8080/"
    },
    "id": "7e5ke0kkvLpg",
    "outputId": "902ce4d6-492c-41cc-e1e5-76ef8a70bede"
   },
   "outputs": [],
   "source": [
    "# Article X\n",
    "# Sort article dataframe\n",
    "sorted_article_df = article_df.sort_values(by='article_node_id')\n",
    "article_x_columns = list(filter(lambda x: x not in ('article_id', 'article_node_id', 'article_embedding'), sorted_article_df.columns))\n",
    "\n",
    "# Convert EMBEDDING_TENSOR_DATA to proper format\n",
    "embedding_tensor = np.stack(sorted_article_df['article_embedding'].values)\n",
    "embedding_tensor = torch.tensor(embedding_tensor, dtype=torch.float)\n",
    "\n",
    "# Convert types\n",
    "article_x = sorted_article_df[article_x_columns].astype('float32').values\n",
    "\n",
    "# Append embedding_tensor to article_x\n",
    "article_x = np.concatenate((article_x, embedding_tensor), axis=1)\n",
    "\n",
    "# Normalize X using std scaler\n",
    "article_x = StandardScaler().fit_transform(article_x)"
   ]
  },
  {
   "cell_type": "markdown",
   "id": "XBN1GHNyvLPP",
   "metadata": {
    "id": "XBN1GHNyvLPP"
   },
   "source": [
    "### Matrix X for node: **author**"
   ]
  },
  {
   "cell_type": "code",
   "execution_count": 12,
   "id": "tg-GzYGtErQx",
   "metadata": {
    "id": "tg-GzYGtErQx"
   },
   "outputs": [],
   "source": [
    "# Author X\n",
    "# Sort author dataframe\n",
    "sorted_author_df = author_df.sort_values(by='author_node_id')\n",
    "# Exclude columns AUTHOR_SID, AUTHOR_NODE_ID\n",
    "author_x_columns = list(filter(lambda x: x not in ('author_id', 'author_node_id'), sorted_author_df.columns))\n",
    "# Convert types\n",
    "author_x = sorted_author_df[author_x_columns].astype('float32').values\n",
    "\n",
    "# Normalize X using std scaler\n",
    "author_x = StandardScaler().fit_transform(author_x)"
   ]
  },
  {
   "cell_type": "markdown",
   "id": "8mbn1x9AvWA-",
   "metadata": {
    "id": "8mbn1x9AvWA-"
   },
   "source": [
    "### Edge index for edge: **(author, publishes, article)**"
   ]
  },
  {
   "cell_type": "code",
   "execution_count": 13,
   "id": "8dLiq1tZviaE",
   "metadata": {
    "id": "8dLiq1tZviaE"
   },
   "outputs": [],
   "source": [
    "# Add edge index: for edges corresponding to authors publishing articles (author to article connection)\n",
    "author_node_ids = torch.from_numpy(published_df['author_node_id'].values)\n",
    "article_node_ids = torch.from_numpy(published_df['article_node_id'].values)\n",
    "edge_index_publishes = torch.stack([author_node_ids, article_node_ids], dim=0)\n",
    "edge_time_publishes = torch.from_numpy(np.array(published_df['time'].values.astype('int64')))"
   ]
  },
  {
   "cell_type": "markdown",
   "id": "6oizfRnsvjYx",
   "metadata": {
    "id": "6oizfRnsvjYx"
   },
   "source": [
    "### Edge index for edge: **(author, co_authors, author)**"
   ]
  },
  {
   "cell_type": "code",
   "execution_count": 14,
   "id": "UqXKby3KFhqx",
   "metadata": {
    "id": "UqXKby3KFhqx"
   },
   "outputs": [],
   "source": [
    "# Add edge index: for edges corresponding to authors co-authoring articles (author to author connection)\n",
    "author_node_ids = torch.from_numpy(coauthored_df['author_node_id'].values)\n",
    "coauthor_node_ids = torch.from_numpy(coauthored_df['co_author_node_id'].values)\n",
    "edge_index_co_authors = torch.stack([author_node_ids, coauthor_node_ids], dim=0)\n",
    "edge_time_co_authors = torch.from_numpy(np.array(coauthored_df['time'].values.astype('int64')))"
   ]
  },
  {
   "cell_type": "markdown",
   "id": "mi3u5Xx0v5DB",
   "metadata": {
    "id": "mi3u5Xx0v5DB"
   },
   "source": [
    "### Data object"
   ]
  },
  {
   "cell_type": "markdown",
   "id": "PXBEBlOCFn34",
   "metadata": {
    "id": "PXBEBlOCFn34"
   },
   "source": [
    "After generating the initial node feature Numpy array, we create an instance of `HeteroData` class with two types of nodes corresponding to authors and articles and an edge denoting authors publishing articles.\n",
    "\n",
    "*Note: We also need to make sure to add the reverse edges from authors to aritcles in order to let a GNN be able to pass messages in both directions. We can leverage the `T.ToUndirected()` transform for this from PyG.*"
   ]
  },
  {
   "cell_type": "code",
   "execution_count": 15,
   "id": "0h15yaEpFo8x",
   "metadata": {
    "colab": {
     "base_uri": "https://localhost:8080/"
    },
    "id": "0h15yaEpFo8x",
    "outputId": "ced758f7-4fdf-4acb-b1d7-46f103116f67"
   },
   "outputs": [
    {
     "data": {
      "text/plain": [
       "HeteroData(\n",
       "  article={\n",
       "    node_id=[55076],\n",
       "    x=[55076, 771],\n",
       "  },\n",
       "  author={\n",
       "    node_id=[7734],\n",
       "    x=[7734, 1],\n",
       "  },\n",
       "  (author, publishes, article)={\n",
       "    edge_index=[2, 124874],\n",
       "    time=[124874],\n",
       "  },\n",
       "  (author, co_authors, author)={\n",
       "    edge_index=[2, 28210],\n",
       "    time=[28210],\n",
       "  },\n",
       "  (article, rev_publishes, author)={\n",
       "    edge_index=[2, 124874],\n",
       "    time=[124874],\n",
       "  }\n",
       ")"
      ]
     },
     "execution_count": 15,
     "metadata": {},
     "output_type": "execute_result"
    }
   ],
   "source": [
    "data = HeteroData()\n",
    "\n",
    "# Save node indices:\n",
    "data[\"article\"].node_id = torch.arange(len(unique_articles))\n",
    "data[\"author\"].node_id = torch.arange(len(unique_authors))\n",
    "# Add edge 'published'\n",
    "data[\"author\", \"publishes\", \"article\"].edge_index = edge_index_publishes\n",
    "data[\"author\", \"publishes\", \"article\"].time = edge_time_publishes\n",
    "# Add edge 'co_authors'\n",
    "data[('author', 'co_authors', 'author')].edge_index = edge_index_co_authors\n",
    "data[('author', 'co_authors', 'author')].time = edge_time_co_authors\n",
    "\n",
    "# Set X for article\n",
    "data[\"article\"].x = torch.from_numpy(article_x)\n",
    "# Set X for author\n",
    "data[\"author\"].x = torch.from_numpy(author_x)\n",
    "\n",
    "# Reverse edges\n",
    "data = T.ToUndirected(reduce='min')(data)\n",
    "data"
   ]
  },
  {
   "cell_type": "code",
   "execution_count": 16,
   "id": "tg8fjdOJn3QS",
   "metadata": {
    "colab": {
     "base_uri": "https://localhost:8080/"
    },
    "id": "tg8fjdOJn3QS",
    "outputId": "4164664b-14bc-49f3-95bb-95e7c34de885"
   },
   "outputs": [
    {
     "data": {
      "text/plain": [
       "{'article': tensor([[-0.1702, -0.1677, -0.0535,  ..., -1.5174,  0.4311,  1.0342],\n",
       "         [ 0.7226, -0.1677, -0.1208,  ..., -0.0900,  2.0186,  0.2434],\n",
       "         [ 0.2148, -0.1677, -0.1208,  ...,  0.1781,  1.6704, -0.6084],\n",
       "         ...,\n",
       "         [-0.1976, -0.1677,  0.0035,  ..., -0.7453, -0.5125, -0.5808],\n",
       "         [-0.1976, -0.1677, -0.1829,  ...,  0.4680,  0.8709,  1.5607],\n",
       "         [-0.1976, -0.1677, -0.0820,  ...,  0.6162,  0.6727,  0.2975]]),\n",
       " 'author': tensor([[0.],\n",
       "         [0.],\n",
       "         [0.],\n",
       "         ...,\n",
       "         [0.],\n",
       "         [0.],\n",
       "         [0.]])}"
      ]
     },
     "execution_count": 16,
     "metadata": {},
     "output_type": "execute_result"
    }
   ],
   "source": [
    "data.x_dict"
   ]
  },
  {
   "cell_type": "markdown",
   "id": "dQtlX8gLwj77",
   "metadata": {
    "id": "dQtlX8gLwj77"
   },
   "source": [
    "## Heterogeneous graph batching"
   ]
  },
  {
   "cell_type": "markdown",
   "id": "_vuTOx9IxDOs",
   "metadata": {
    "id": "_vuTOx9IxDOs"
   },
   "source": [
    "###  Split data to train, test"
   ]
  },
  {
   "cell_type": "code",
   "execution_count": 17,
   "id": "u-fOB4GRYCC4",
   "metadata": {
    "id": "u-fOB4GRYCC4"
   },
   "outputs": [],
   "source": [
    "edge_types = data.metadata()[1]\n",
    "\n",
    "time = data[target_edge_type].time\n",
    "perm = time.argsort()\n",
    "# Find minimum time in `co_authors` edge that still resides in test set\n",
    "test_min_time = time[perm[int(num_train * perm.numel()):]].min()\n",
    "\n",
    "for edge_type in edge_types:\n",
    "  # Define the training dataset for all edge types\n",
    "  time = data[edge_type].time\n",
    "  data[edge_type].train_mask = time < test_min_time\n",
    "  data[edge_type].train_edge_index = data[edge_type].edge_index[:, data[edge_type].train_mask]\n",
    "  data[edge_type].train_edge_time = time[data[edge_type].train_mask]\n",
    "\n",
    "data.train_edge_index_dict = {edge_type: data[edge_type].train_edge_index for edge_type in edge_types}\n",
    "\n",
    "# Add test dataset for `co_authors` edge type\n",
    "data[target_edge_type].test_mask = data[target_edge_type].time >= test_min_time\n",
    "data[target_edge_type].test_pos_edge_index = data[target_edge_type].edge_index[:, data[target_edge_type].test_mask]\n",
    "data[target_edge_type].test_edge_time = data[target_edge_type].time[data[target_edge_type].test_mask]\n",
    "\n",
    "\n",
    "# Negative sampling\n",
    "test_neg_edge_index_i, test_neg_edge_index_j, test_neg_edge_index_k = structured_negative_sampling(\n",
    "    edge_index=data[target_edge_type].test_pos_edge_index,\n",
    "    num_nodes=data[target_node_type].num_nodes)\n",
    "test_neg_edge_index = torch.stack([test_neg_edge_index_i, test_neg_edge_index_k], dim=0)\n",
    "# Add negative samples to test data\n",
    "data[target_edge_type].test_neg_edge_index = test_neg_edge_index\n"
   ]
  },
  {
   "cell_type": "markdown",
   "id": "D52ZyYck73fh",
   "metadata": {
    "id": "D52ZyYck73fh"
   },
   "source": [
    "### Data loader (mini-batching)\n",
    "\n",
    "After splitting the data, we need to take into account that we are dealing with very large graphs. A simple load of data to GPU will already return `CUDA out of memory` exception. Hence, we use mini-batching to appropriately split the edges (regardless if we are in training, testing or validation phase). This process will separate the large graph into multiple smaller graphs and process them independently, thus fixing the out-of-memory exceptions.\n"
   ]
  },
  {
   "cell_type": "markdown",
   "id": "04vUews17zy8",
   "metadata": {
    "id": "04vUews17zy8"
   },
   "source": [
    "## Model training\n",
    "\n",
    "\n",
    "---\n",
    "\n"
   ]
  },
  {
   "cell_type": "markdown",
   "id": "kmt2IwuC8C-S",
   "metadata": {
    "id": "kmt2IwuC8C-S"
   },
   "source": [
    "### Model definition\n",
    "\n",
    "Our model consists of two parts, first we must encode our nodes using the message passing algorithm exploiting both (author, co-authors, author) and (author, publishes, article) edges and corresponding node features. The second part decodes the edges that the model outputs as its prediction using two simple, fully-connected, linear layers.\n",
    "\n",
    "**TODO:**\n",
    "- Promote EUTOPIA-an collaborations or even restrict to EUTOPIA-an collaborations."
   ]
  },
  {
   "cell_type": "code",
   "execution_count": 51,
   "id": "FwVf1kDPLnFH",
   "metadata": {
    "id": "FwVf1kDPLnFH"
   },
   "outputs": [],
   "source": [
    "from typing import Optional, Union\n",
    "from torch_geometric.nn import HANConv, HGTConv\n",
    "\n",
    "import torch\n",
    "import torch.nn.functional as F\n",
    "from torch import Tensor\n",
    "from torch.nn import Embedding, ModuleList\n",
    "from torch.nn.modules.loss import _Loss\n",
    "\n",
    "from torch_geometric.nn.conv import GATv2Conv,GCNConv, SAGEConv\n",
    "from torch_geometric.typing import Adj, OptTensor\n",
    "from torch_geometric.utils import is_sparse, to_edge_index\n",
    "from torch_geometric.nn.models.lightgcn import BPRLoss\n",
    "\n",
    "class Encoder(torch.nn.Module):\n",
    "    def __init__(self, hidden_channels: int, \n",
    "                 num_layers: int = 4):\n",
    "        super().__init__()\n",
    "\n",
    "        self.num_layers = num_layers\n",
    "        # Define multiple HANConv layers:\n",
    "        # self.conv_layers = ModuleList([\n",
    "        #     HANConv(\n",
    "        #         in_channels=(-1),\n",
    "        #         out_channels=hidden_channels,\n",
    "        #         metadata=data.metadata(),\n",
    "        #         heads=4,\n",
    "        #         dropout=0.5\n",
    "        #     )\n",
    "        #     for i in range(self.num_layers)\n",
    "        # ])\n",
    "\n",
    "        #Define multiple HANConv layers:\n",
    "        self.conv_layers = ModuleList([\n",
    "            HGTConv(\n",
    "                in_channels=(-1),\n",
    "                out_channels=hidden_channels,\n",
    "                metadata=data.metadata(),\n",
    "                heads=4\n",
    "            )\n",
    "            for i in range(self.num_layers)\n",
    "        ])\n",
    "\n",
    "\n",
    "        \n",
    "        # Linear layers (for skips)\n",
    "        self.linear_layers = dict(\n",
    "            author=ModuleList([\n",
    "                Linear(-1, hidden_channels)\n",
    "                for i in range(self.num_layers)\n",
    "            ]),\n",
    "            article=ModuleList([\n",
    "                Linear(-1, hidden_channels)\n",
    "                for i in range(self.num_layers)\n",
    "                ])\n",
    "        )\n",
    "        \n",
    "        self.bn_layers = dict(\n",
    "            author=ModuleList([\n",
    "                torch.nn.BatchNorm1d(hidden_channels)\n",
    "                for i in range(self.num_layers)\n",
    "            ]),\n",
    "            article=ModuleList([\n",
    "                torch.nn.BatchNorm1d(hidden_channels)\n",
    "                for i in range(self.num_layers)\n",
    "                ])\n",
    "        )\n",
    "\n",
    "        # Initialize the alpha\n",
    "        alpha = torch.ones(self.num_layers + 1) / (self.num_layers + 1)\n",
    "\n",
    "        # Register alpha as a parameter if you want it to be learnable:\n",
    "        self.alpha = alpha # nn.Parameter(alpha, requires_grad=True)   \n",
    "\n",
    "\n",
    "    def forward(self, x_dict, edge_index_dict):\n",
    "        # out_dict = {\n",
    "        #     ntype: torch.zeros(x.shape[0], self.conv_layers[0].out_channels, device=x.device)\n",
    "        #     for ntype, x in x_dict.items()\n",
    "        # }\n",
    "        \n",
    "        # Keep track of current hidden states\n",
    "        h_dict = x_dict\n",
    "        \n",
    "        for i in range(self.num_layers):\n",
    "            # Apply HANConv\n",
    "            new_h_dict = self.conv_layers[i](h_dict, edge_index_dict)\n",
    "        \n",
    "            # Add skip connection\n",
    "            for ntype in new_h_dict:\n",
    "                new_h_dict[ntype] = new_h_dict[ntype] + self.linear_layers[ntype][i](h_dict[ntype])\n",
    "        \n",
    "            # BatchNorm\n",
    "            for ntype in new_h_dict:\n",
    "                new_h_dict[ntype] = self.bn_layers[ntype][i](new_h_dict[ntype])\n",
    "\n",
    "            # Accumulate in out_dict with alpha weighting\n",
    "            # for ntype in out_dict:\n",
    "            #     out_dict[ntype] += self.alpha[i] * new_h_dict[ntype]\n",
    "        \n",
    "            # Update hidden state for next layer\n",
    "            h_dict = new_h_dict\n",
    "        \n",
    "        # return out_dict\n",
    "        return h_dict\n",
    "\n",
    "\n",
    "class Decoder(torch.nn.Module):\n",
    "    def __init__(self):\n",
    "        super().__init__()\n",
    "\n",
    "    def forward(self, z, edge_label_index):\n",
    "        out_src = z[edge_label_index[0]]\n",
    "        out_dst = z[edge_label_index[1]]\n",
    "\n",
    "        # Calculate the dot product\n",
    "        return (out_src * out_dst).sum(dim=-1)\n",
    "\n",
    "class CollaborationRecommender(torch.nn.Module):\n",
    "    def __init__(self,\n",
    "                 hidden_channels: int,\n",
    "                 k: int,\n",
    "                 alpha: Optional[Union[float, Tensor]] = None,\n",
    "                 num_layers: int = 4):\n",
    "        super().__init__()\n",
    "\n",
    "        self.hidden_channels = hidden_channels\n",
    "        self.k = k\n",
    "\n",
    "        self.encoder = Encoder(hidden_channels=hidden_channels, num_layers=num_layers)\n",
    "        self.decoder = Decoder()\n",
    "\n",
    "\n",
    "    def forward(self,\n",
    "                x_dict,\n",
    "                edge_index_dict,\n",
    "                edge_label_index: OptTensor = None):\n",
    "\n",
    "        # Encode authors\n",
    "        z_dict = self.encoder(x_dict, edge_index_dict)\n",
    "        z = z_dict['author']\n",
    "        # Decode edges\n",
    "        return self.decoder(z, edge_label_index)\n",
    "\n",
    "    def recommend(self,\n",
    "                  x_dict,\n",
    "                  edge_index_dict,\n",
    "                  author_sid: str,\n",
    "                  k: int = 10):\n",
    "\n",
    "        # Get all embeddings\n",
    "        out_src = out_dst = self.encoder(x_dict, edge_index_dict)\n",
    "\n",
    "        # Get the author id\n",
    "        author_id = author_id_map[author_sid]\n",
    "        # Get the author embedding\n",
    "        out_src = out_src[author_id]\n",
    "\n",
    "        # Calculate the dot product\n",
    "        pred = out_src @ out_dst.t()\n",
    "        # Get the top k recommendations\n",
    "        top_index = pred.topk(k, dim=-1, sorted=True).indices\n",
    "\n",
    "        # Decode top k recommendations to author SIDs\n",
    "        top_author_sids = [author_sid_map[int(i)] for i in top_index]\n",
    "\n",
    "        return top_author_sids\n",
    "\n",
    "\n",
    "    def recommendation_loss(self,\n",
    "                            x_dict,\n",
    "                            edge_index_dict,\n",
    "                            pos_edge_rank,\n",
    "                            neg_edge_rank,\n",
    "                            node_id: Optional[Tensor] = None,\n",
    "                            lambda_reg: float = 1e-4):\n",
    "        loss_fn = BPRLoss(lambda_reg)\n",
    "        # Get the embedding\n",
    "        z_dict = self.encoder(x_dict, edge_index_dict)\n",
    "        emb = z_dict['author']\n",
    "        # Get the loss\n",
    "        emb = emb if node_id is None else emb[node_id]\n",
    "        return loss_fn(pos_edge_rank, neg_edge_rank, emb)\n",
    "\n",
    "\n",
    "model = CollaborationRecommender(hidden_channels=64,\n",
    "                                 num_layers = 3,\n",
    "                                 k=num_recommendations).to(device)\n",
    "\n",
    "# Transfer to device\n",
    "data = data.to(device)\n",
    "optimizer = torch.optim.AdamW(params=model.parameters(), lr=5e-3)\n",
    "# optimizer = torch.optim.Adam(params=model.parameters(), lr=1e-3)\n",
    "scheduler = torch.optim.lr_scheduler.ReduceLROnPlateau(optimizer=optimizer, mode='min', factor=0.5, patience=4)\n",
    "# scheduler = torch.optim.lr_scheduler.StepLR(optimizer, step_size=5, gamma=0.1)"
   ]
  },
  {
   "cell_type": "markdown",
   "id": "hfuXSrL68FXZ",
   "metadata": {
    "id": "hfuXSrL68FXZ",
    "jp-MarkdownHeadingCollapsed": true
   },
   "source": [
    "### Helper functions for training and evaluation\n",
    "\n",
    "Our model is then trained through a number of epochs, where in each epoch we perform mini-batching to avoid memory issues on GPU.\n"
   ]
  },
  {
   "cell_type": "code",
   "execution_count": 19,
   "id": "JNK2LtWgdxLY",
   "metadata": {
    "id": "JNK2LtWgdxLY"
   },
   "outputs": [],
   "source": [
    "import pytest\n",
    "from torch_geometric.metrics.link_pred import LinkPredMetric\n",
    "class LinkPredHitRate(LinkPredMetric):\n",
    "    higher_is_better: bool = True\n",
    "\n",
    "    def _compute(self, pred_isin_mat: Tensor, y_count: Tensor) -> Tensor:\n",
    "        return pred_isin_mat.sum(dim=-1) >= 1\n",
    "\n",
    "def test_hit_rate():\n",
    "    pred_mat = torch.tensor([[1, 0], [1, 2], [0, 2], [0, 1]])\n",
    "    edge_label_index = torch.tensor([[0, 0, 2, 2, 3], [0, 1, 2, 1, 2]])\n",
    "\n",
    "    metric = LinkPredHitRate(k=2)\n",
    "    metric.update(pred_mat, edge_label_index)\n",
    "    result = metric.compute()\n",
    "\n",
    "    assert result == pytest.approx((2) / 3)\n",
    "\n",
    "test_hit_rate()\n",
    "\n",
    "def train():\n",
    "    model.train()\n",
    "    # Fetch existing graph edges as positive samples\n",
    "    pos_edge_index = data[target_edge_type].train_edge_index\n",
    "    # Perform structured negative sampling, meaning that for every positive sample,\n",
    "    # there will be another negative sample at the same index/position\n",
    "    # - this structure is expected in BPR loss calculation\n",
    "    neg_edge_index_i, neg_edge_index_j, neg_edge_index_k = structured_negative_sampling(\n",
    "        edge_index=pos_edge_index,\n",
    "        num_nodes=data[target_node_type].num_nodes)\n",
    "    # Structure negative sampling returns both positive and negative edges, so\n",
    "    # we need to concatenate appropriate nodes to get the negative edges\n",
    "    neg_edge_index = torch.stack([neg_edge_index_i, neg_edge_index_k], dim=0)\n",
    "\n",
    "    optimizer.zero_grad()\n",
    "\n",
    "    # Concatenate edge label indices into a single edge label index\n",
    "    edge_label_index = torch.cat([\n",
    "        pos_edge_index,\n",
    "        neg_edge_index,\n",
    "    ], dim=1)\n",
    "\n",
    "    pos_edge_rank, neg_edge_rank = model(x_dict=data.x_dict,\n",
    "                                         edge_index_dict=data.train_edge_index_dict,\n",
    "                                         edge_label_index=edge_label_index).chunk(2)\n",
    "\n",
    "    # Calculate BPR loss\n",
    "    loss = model.recommendation_loss(x_dict=data.x_dict,\n",
    "                                     edge_index_dict=data.train_edge_index_dict,\n",
    "                                     pos_edge_rank=pos_edge_rank,\n",
    "                                     neg_edge_rank=neg_edge_rank,\n",
    "                                     node_id=edge_label_index.unique())\n",
    "\n",
    "    loss.backward()\n",
    "    optimizer.step()\n",
    "\n",
    "    total_loss = float(loss) * pos_edge_rank.numel()\n",
    "    total_examples = pos_edge_rank.numel()\n",
    "\n",
    "    # Cleanup\n",
    "    del pos_edge_rank, neg_edge_rank\n",
    "    torch.cuda.empty_cache()\n",
    "\n",
    "    return total_loss / total_examples\n",
    "\n",
    "\n",
    "@torch.no_grad()\n",
    "def test():\n",
    "    model.eval()\n",
    "\n",
    "    pos_edge_index = data[target_edge_type].test_pos_edge_index\n",
    "    neg_edge_index = data[target_edge_type].test_neg_edge_index\n",
    "\n",
    "    # Concatenate edge label indices into a single edge label index\n",
    "    edge_label_index = torch.cat([\n",
    "        pos_edge_index,\n",
    "        neg_edge_index,\n",
    "    ], dim=1)\n",
    "\n",
    "    # We encode the training edge index to get the embeddings based on the training graph\n",
    "    # structure and then use those embeddings to predict unseen edges\n",
    "    # TODO: Check if this makes sense\n",
    "    pos_edge_rank, neg_edge_rank = model(x_dict=data.x_dict,\n",
    "                                         edge_index_dict=data.train_edge_index_dict,\n",
    "                                         edge_label_index=edge_label_index).chunk(2)\n",
    "\n",
    "    # Calculate BPR loss\n",
    "    loss = model.recommendation_loss(x_dict=data.x_dict,\n",
    "                                     edge_index_dict=data.train_edge_index_dict,\n",
    "                                     pos_edge_rank=pos_edge_rank,\n",
    "                                     neg_edge_rank=neg_edge_rank,\n",
    "                                     node_id=edge_label_index.unique())\n",
    "\n",
    "    total_loss = float(loss) * pos_edge_rank.numel()\n",
    "    total_examples = pos_edge_rank.numel()\n",
    "\n",
    "    # Cleanup\n",
    "    del pos_edge_rank, neg_edge_rank\n",
    "    torch.cuda.empty_cache()\n",
    "\n",
    "    return total_loss / total_examples\n",
    "\n",
    "@torch.no_grad()\n",
    "def evaluate(k:int=20):\n",
    "    model.eval()\n",
    "    z_dict = model.encoder(data.x_dict, data.train_edge_index_dict)\n",
    "    embs = z_dict[target_node_type].to(device)\n",
    "\n",
    "    result = {\n",
    "        'precision@k': LinkPredPrecision(k=k).to(device),\n",
    "        'recall@k': LinkPredRecall(k=k).to(device),\n",
    "        'map@k': LinkPredMAP(k=k).to(device),\n",
    "        'mrr@k': LinkPredMRR(k=k).to(device),\n",
    "        'ndcg@k': LinkPredNDCG(k=k).to(device),\n",
    "        'hit_rate@k': LinkPredHitRate(k=k).to(device)\n",
    "        }\n",
    "\n",
    "    # Calculate distance between embeddings\n",
    "    logits = embs @ embs.T\n",
    "\n",
    "    # Exclude training edges\n",
    "    logits[data[target_edge_type].train_edge_index[0], data[target_edge_type].train_edge_index[1]] = float('-inf')\n",
    "\n",
    "    # Gather ground truth data\n",
    "    ground_truth = data[target_edge_type].test_pos_edge_index\n",
    "\n",
    "    # Get top-k recommendations for each node\n",
    "    top_k_index = torch.topk(logits, k=k, dim=1).indices\n",
    "\n",
    "    # Update performance metrics\n",
    "    for metric in result.keys():\n",
    "      result[metric].update(\n",
    "          pred_index_mat=top_k_index,\n",
    "          edge_label_index=ground_truth)\n",
    "\n",
    "    # Cleanup\n",
    "    del embs, logits, ground_truth, top_k_index\n",
    "    torch.cuda.empty_cache()\n",
    "\n",
    "    return result"
   ]
  },
  {
   "cell_type": "markdown",
   "id": "18aa3757-32e2-463e-8cf1-a459d05f6093",
   "metadata": {},
   "source": [
    "### Training the model"
   ]
  },
  {
   "cell_type": "code",
   "execution_count": 52,
   "id": "NQS0tN81GTEF",
   "metadata": {
    "colab": {
     "base_uri": "https://localhost:8080/"
    },
    "id": "NQS0tN81GTEF",
    "outputId": "45012f53-fe8e-4b9b-c236-8e12e6b9dbeb"
   },
   "outputs": [
    {
     "name": "stdout",
     "output_type": "stream",
     "text": [
      "epoch: 1.0000, train_loss_bpr: 0.2924, test_loss_bpr: 2.7962, precision@k: 0.0068, recall@k: 0.0105, map@k: 0.0052, mrr@k: 0.0198, ndcg@k: 0.0105, hit_rate@k: 0.0434\n",
      "epoch: 2.0000, train_loss_bpr: 0.3093, test_loss_bpr: 2.8261, precision@k: 0.0079, recall@k: 0.0139, map@k: 0.0060, mrr@k: 0.0227, ndcg@k: 0.0123, hit_rate@k: 0.0551\n",
      "epoch: 3.0000, train_loss_bpr: 0.1555, test_loss_bpr: 2.7219, precision@k: 0.0098, recall@k: 0.0130, map@k: 0.0074, mrr@k: 0.0244, ndcg@k: 0.0137, hit_rate@k: 0.0543\n",
      "epoch: 4.0000, train_loss_bpr: 0.1269, test_loss_bpr: 2.8473, precision@k: 0.0114, recall@k: 0.0194, map@k: 0.0092, mrr@k: 0.0267, ndcg@k: 0.0168, hit_rate@k: 0.0584\n",
      "epoch: 5.0000, train_loss_bpr: 0.1022, test_loss_bpr: 3.0128, precision@k: 0.0122, recall@k: 0.0198, map@k: 0.0102, mrr@k: 0.0276, ndcg@k: 0.0180, hit_rate@k: 0.0593\n",
      "epoch: 6.0000, train_loss_bpr: 0.0792, test_loss_bpr: 3.1838, precision@k: 0.0114, recall@k: 0.0202, map@k: 0.0095, mrr@k: 0.0257, ndcg@k: 0.0172, hit_rate@k: 0.0584\n",
      "epoch: 7.0000, train_loss_bpr: 0.0747, test_loss_bpr: 3.3320, precision@k: 0.0109, recall@k: 0.0178, map@k: 0.0092, mrr@k: 0.0246, ndcg@k: 0.0163, hit_rate@k: 0.0568\n",
      "epoch: 8.0000, train_loss_bpr: 0.0687, test_loss_bpr: 3.3670, precision@k: 0.0106, recall@k: 0.0191, map@k: 0.0092, mrr@k: 0.0237, ndcg@k: 0.0163, hit_rate@k: 0.0584\n",
      "epoch: 9.0000, train_loss_bpr: 0.0529, test_loss_bpr: 3.3811, precision@k: 0.0132, recall@k: 0.0211, map@k: 0.0094, mrr@k: 0.0264, ndcg@k: 0.0180, hit_rate@k: 0.0826\n",
      "epoch: 10.0000, train_loss_bpr: 0.0473, test_loss_bpr: 3.3813, precision@k: 0.0144, recall@k: 0.0215, map@k: 0.0096, mrr@k: 0.0266, ndcg@k: 0.0190, hit_rate@k: 0.0826\n",
      "epoch: 11.0000, train_loss_bpr: 0.0422, test_loss_bpr: 3.3921, precision@k: 0.0156, recall@k: 0.0212, map@k: 0.0100, mrr@k: 0.0272, ndcg@k: 0.0199, hit_rate@k: 0.0818\n",
      "epoch: 12.0000, train_loss_bpr: 0.0442, test_loss_bpr: 3.4048, precision@k: 0.0157, recall@k: 0.0227, map@k: 0.0110, mrr@k: 0.0311, ndcg@k: 0.0215, hit_rate@k: 0.0818\n",
      "epoch: 13.0000, train_loss_bpr: 0.0456, test_loss_bpr: 3.4248, precision@k: 0.0156, recall@k: 0.0241, map@k: 0.0107, mrr@k: 0.0312, ndcg@k: 0.0214, hit_rate@k: 0.0851\n",
      "epoch: 14.0000, train_loss_bpr: 0.0499, test_loss_bpr: 3.4353, precision@k: 0.0156, recall@k: 0.0234, map@k: 0.0103, mrr@k: 0.0310, ndcg@k: 0.0210, hit_rate@k: 0.0868\n",
      "epoch: 15.0000, train_loss_bpr: 0.0380, test_loss_bpr: 3.4461, precision@k: 0.0154, recall@k: 0.0235, map@k: 0.0096, mrr@k: 0.0265, ndcg@k: 0.0199, hit_rate@k: 0.0876\n",
      "epoch: 16.0000, train_loss_bpr: 0.0417, test_loss_bpr: 3.4529, precision@k: 0.0157, recall@k: 0.0240, map@k: 0.0104, mrr@k: 0.0311, ndcg@k: 0.0212, hit_rate@k: 0.0868\n"
     ]
    },
    {
     "ename": "KeyboardInterrupt",
     "evalue": "",
     "output_type": "error",
     "traceback": [
      "\u001B[0;31m---------------------------------------------------------------------------\u001B[0m",
      "\u001B[0;31mKeyboardInterrupt\u001B[0m                         Traceback (most recent call last)",
      "Cell \u001B[0;32mIn[52], line 4\u001B[0m\n\u001B[1;32m      2\u001B[0m \u001B[38;5;28;01mfor\u001B[39;00m epoch \u001B[38;5;129;01min\u001B[39;00m \u001B[38;5;28mrange\u001B[39m(\u001B[38;5;241m1\u001B[39m,  \u001B[38;5;241m100\u001B[39m \u001B[38;5;241m+\u001B[39m \u001B[38;5;241m1\u001B[39m):\n\u001B[1;32m      3\u001B[0m     train_loss \u001B[38;5;241m=\u001B[39m train()\n\u001B[0;32m----> 4\u001B[0m     test_loss \u001B[38;5;241m=\u001B[39m \u001B[43mtest\u001B[49m\u001B[43m(\u001B[49m\u001B[43m)\u001B[49m\n\u001B[1;32m      5\u001B[0m     scheduler\u001B[38;5;241m.\u001B[39mstep(test_loss)\n\u001B[1;32m      6\u001B[0m     eval_result \u001B[38;5;241m=\u001B[39m evaluate(k\u001B[38;5;241m=\u001B[39mnum_recommendations)\n",
      "File \u001B[0;32m~/eutopia-colllaboration/ecr-recommender/.venv/lib/python3.12/site-packages/torch/utils/_contextlib.py:116\u001B[0m, in \u001B[0;36mcontext_decorator.<locals>.decorate_context\u001B[0;34m(*args, **kwargs)\u001B[0m\n\u001B[1;32m    113\u001B[0m \u001B[38;5;129m@functools\u001B[39m\u001B[38;5;241m.\u001B[39mwraps(func)\n\u001B[1;32m    114\u001B[0m \u001B[38;5;28;01mdef\u001B[39;00m \u001B[38;5;21mdecorate_context\u001B[39m(\u001B[38;5;241m*\u001B[39margs, \u001B[38;5;241m*\u001B[39m\u001B[38;5;241m*\u001B[39mkwargs):\n\u001B[1;32m    115\u001B[0m     \u001B[38;5;28;01mwith\u001B[39;00m ctx_factory():\n\u001B[0;32m--> 116\u001B[0m         \u001B[38;5;28;01mreturn\u001B[39;00m \u001B[43mfunc\u001B[49m\u001B[43m(\u001B[49m\u001B[38;5;241;43m*\u001B[39;49m\u001B[43margs\u001B[49m\u001B[43m,\u001B[49m\u001B[43m \u001B[49m\u001B[38;5;241;43m*\u001B[39;49m\u001B[38;5;241;43m*\u001B[39;49m\u001B[43mkwargs\u001B[49m\u001B[43m)\u001B[49m\n",
      "Cell \u001B[0;32mIn[19], line 83\u001B[0m, in \u001B[0;36mtest\u001B[0;34m()\u001B[0m\n\u001B[1;32m     75\u001B[0m edge_label_index \u001B[38;5;241m=\u001B[39m torch\u001B[38;5;241m.\u001B[39mcat([\n\u001B[1;32m     76\u001B[0m     pos_edge_index,\n\u001B[1;32m     77\u001B[0m     neg_edge_index,\n\u001B[1;32m     78\u001B[0m ], dim\u001B[38;5;241m=\u001B[39m\u001B[38;5;241m1\u001B[39m)\n\u001B[1;32m     80\u001B[0m \u001B[38;5;66;03m# We encode the training edge index to get the embeddings based on the training graph\u001B[39;00m\n\u001B[1;32m     81\u001B[0m \u001B[38;5;66;03m# structure and then use those embeddings to predict unseen edges\u001B[39;00m\n\u001B[1;32m     82\u001B[0m \u001B[38;5;66;03m# TODO: Check if this makes sense\u001B[39;00m\n\u001B[0;32m---> 83\u001B[0m pos_edge_rank, neg_edge_rank \u001B[38;5;241m=\u001B[39m \u001B[43mmodel\u001B[49m\u001B[43m(\u001B[49m\u001B[43mx_dict\u001B[49m\u001B[38;5;241;43m=\u001B[39;49m\u001B[43mdata\u001B[49m\u001B[38;5;241;43m.\u001B[39;49m\u001B[43mx_dict\u001B[49m\u001B[43m,\u001B[49m\n\u001B[1;32m     84\u001B[0m \u001B[43m                                     \u001B[49m\u001B[43medge_index_dict\u001B[49m\u001B[38;5;241;43m=\u001B[39;49m\u001B[43mdata\u001B[49m\u001B[38;5;241;43m.\u001B[39;49m\u001B[43mtrain_edge_index_dict\u001B[49m\u001B[43m,\u001B[49m\n\u001B[1;32m     85\u001B[0m \u001B[43m                                     \u001B[49m\u001B[43medge_label_index\u001B[49m\u001B[38;5;241;43m=\u001B[39;49m\u001B[43medge_label_index\u001B[49m\u001B[43m)\u001B[49m\u001B[38;5;241m.\u001B[39mchunk(\u001B[38;5;241m2\u001B[39m)\n\u001B[1;32m     87\u001B[0m \u001B[38;5;66;03m# Calculate BPR loss\u001B[39;00m\n\u001B[1;32m     88\u001B[0m loss \u001B[38;5;241m=\u001B[39m model\u001B[38;5;241m.\u001B[39mrecommendation_loss(x_dict\u001B[38;5;241m=\u001B[39mdata\u001B[38;5;241m.\u001B[39mx_dict,\n\u001B[1;32m     89\u001B[0m                                  edge_index_dict\u001B[38;5;241m=\u001B[39mdata\u001B[38;5;241m.\u001B[39mtrain_edge_index_dict,\n\u001B[1;32m     90\u001B[0m                                  pos_edge_rank\u001B[38;5;241m=\u001B[39mpos_edge_rank,\n\u001B[1;32m     91\u001B[0m                                  neg_edge_rank\u001B[38;5;241m=\u001B[39mneg_edge_rank,\n\u001B[1;32m     92\u001B[0m                                  node_id\u001B[38;5;241m=\u001B[39medge_label_index\u001B[38;5;241m.\u001B[39munique())\n",
      "File \u001B[0;32m~/eutopia-colllaboration/ecr-recommender/.venv/lib/python3.12/site-packages/torch/nn/modules/module.py:1553\u001B[0m, in \u001B[0;36mModule._wrapped_call_impl\u001B[0;34m(self, *args, **kwargs)\u001B[0m\n\u001B[1;32m   1551\u001B[0m     \u001B[38;5;28;01mreturn\u001B[39;00m \u001B[38;5;28mself\u001B[39m\u001B[38;5;241m.\u001B[39m_compiled_call_impl(\u001B[38;5;241m*\u001B[39margs, \u001B[38;5;241m*\u001B[39m\u001B[38;5;241m*\u001B[39mkwargs)  \u001B[38;5;66;03m# type: ignore[misc]\u001B[39;00m\n\u001B[1;32m   1552\u001B[0m \u001B[38;5;28;01melse\u001B[39;00m:\n\u001B[0;32m-> 1553\u001B[0m     \u001B[38;5;28;01mreturn\u001B[39;00m \u001B[38;5;28;43mself\u001B[39;49m\u001B[38;5;241;43m.\u001B[39;49m\u001B[43m_call_impl\u001B[49m\u001B[43m(\u001B[49m\u001B[38;5;241;43m*\u001B[39;49m\u001B[43margs\u001B[49m\u001B[43m,\u001B[49m\u001B[43m \u001B[49m\u001B[38;5;241;43m*\u001B[39;49m\u001B[38;5;241;43m*\u001B[39;49m\u001B[43mkwargs\u001B[49m\u001B[43m)\u001B[49m\n",
      "File \u001B[0;32m~/eutopia-colllaboration/ecr-recommender/.venv/lib/python3.12/site-packages/torch/nn/modules/module.py:1562\u001B[0m, in \u001B[0;36mModule._call_impl\u001B[0;34m(self, *args, **kwargs)\u001B[0m\n\u001B[1;32m   1557\u001B[0m \u001B[38;5;66;03m# If we don't have any hooks, we want to skip the rest of the logic in\u001B[39;00m\n\u001B[1;32m   1558\u001B[0m \u001B[38;5;66;03m# this function, and just call forward.\u001B[39;00m\n\u001B[1;32m   1559\u001B[0m \u001B[38;5;28;01mif\u001B[39;00m \u001B[38;5;129;01mnot\u001B[39;00m (\u001B[38;5;28mself\u001B[39m\u001B[38;5;241m.\u001B[39m_backward_hooks \u001B[38;5;129;01mor\u001B[39;00m \u001B[38;5;28mself\u001B[39m\u001B[38;5;241m.\u001B[39m_backward_pre_hooks \u001B[38;5;129;01mor\u001B[39;00m \u001B[38;5;28mself\u001B[39m\u001B[38;5;241m.\u001B[39m_forward_hooks \u001B[38;5;129;01mor\u001B[39;00m \u001B[38;5;28mself\u001B[39m\u001B[38;5;241m.\u001B[39m_forward_pre_hooks\n\u001B[1;32m   1560\u001B[0m         \u001B[38;5;129;01mor\u001B[39;00m _global_backward_pre_hooks \u001B[38;5;129;01mor\u001B[39;00m _global_backward_hooks\n\u001B[1;32m   1561\u001B[0m         \u001B[38;5;129;01mor\u001B[39;00m _global_forward_hooks \u001B[38;5;129;01mor\u001B[39;00m _global_forward_pre_hooks):\n\u001B[0;32m-> 1562\u001B[0m     \u001B[38;5;28;01mreturn\u001B[39;00m \u001B[43mforward_call\u001B[49m\u001B[43m(\u001B[49m\u001B[38;5;241;43m*\u001B[39;49m\u001B[43margs\u001B[49m\u001B[43m,\u001B[49m\u001B[43m \u001B[49m\u001B[38;5;241;43m*\u001B[39;49m\u001B[38;5;241;43m*\u001B[39;49m\u001B[43mkwargs\u001B[49m\u001B[43m)\u001B[49m\n\u001B[1;32m   1564\u001B[0m \u001B[38;5;28;01mtry\u001B[39;00m:\n\u001B[1;32m   1565\u001B[0m     result \u001B[38;5;241m=\u001B[39m \u001B[38;5;28;01mNone\u001B[39;00m\n",
      "Cell \u001B[0;32mIn[51], line 140\u001B[0m, in \u001B[0;36mCollaborationRecommender.forward\u001B[0;34m(self, x_dict, edge_index_dict, edge_label_index)\u001B[0m\n\u001B[1;32m    134\u001B[0m \u001B[38;5;28;01mdef\u001B[39;00m \u001B[38;5;21mforward\u001B[39m(\u001B[38;5;28mself\u001B[39m,\n\u001B[1;32m    135\u001B[0m             x_dict,\n\u001B[1;32m    136\u001B[0m             edge_index_dict,\n\u001B[1;32m    137\u001B[0m             edge_label_index: OptTensor \u001B[38;5;241m=\u001B[39m \u001B[38;5;28;01mNone\u001B[39;00m):\n\u001B[1;32m    138\u001B[0m \n\u001B[1;32m    139\u001B[0m     \u001B[38;5;66;03m# Encode authors\u001B[39;00m\n\u001B[0;32m--> 140\u001B[0m     z_dict \u001B[38;5;241m=\u001B[39m \u001B[38;5;28;43mself\u001B[39;49m\u001B[38;5;241;43m.\u001B[39;49m\u001B[43mencoder\u001B[49m\u001B[43m(\u001B[49m\u001B[43mx_dict\u001B[49m\u001B[43m,\u001B[49m\u001B[43m \u001B[49m\u001B[43medge_index_dict\u001B[49m\u001B[43m)\u001B[49m\n\u001B[1;32m    141\u001B[0m     z \u001B[38;5;241m=\u001B[39m z_dict[\u001B[38;5;124m'\u001B[39m\u001B[38;5;124mauthor\u001B[39m\u001B[38;5;124m'\u001B[39m]\n\u001B[1;32m    142\u001B[0m     \u001B[38;5;66;03m# Decode edges\u001B[39;00m\n",
      "File \u001B[0;32m~/eutopia-colllaboration/ecr-recommender/.venv/lib/python3.12/site-packages/torch/nn/modules/module.py:1553\u001B[0m, in \u001B[0;36mModule._wrapped_call_impl\u001B[0;34m(self, *args, **kwargs)\u001B[0m\n\u001B[1;32m   1551\u001B[0m     \u001B[38;5;28;01mreturn\u001B[39;00m \u001B[38;5;28mself\u001B[39m\u001B[38;5;241m.\u001B[39m_compiled_call_impl(\u001B[38;5;241m*\u001B[39margs, \u001B[38;5;241m*\u001B[39m\u001B[38;5;241m*\u001B[39mkwargs)  \u001B[38;5;66;03m# type: ignore[misc]\u001B[39;00m\n\u001B[1;32m   1552\u001B[0m \u001B[38;5;28;01melse\u001B[39;00m:\n\u001B[0;32m-> 1553\u001B[0m     \u001B[38;5;28;01mreturn\u001B[39;00m \u001B[38;5;28;43mself\u001B[39;49m\u001B[38;5;241;43m.\u001B[39;49m\u001B[43m_call_impl\u001B[49m\u001B[43m(\u001B[49m\u001B[38;5;241;43m*\u001B[39;49m\u001B[43margs\u001B[49m\u001B[43m,\u001B[49m\u001B[43m \u001B[49m\u001B[38;5;241;43m*\u001B[39;49m\u001B[38;5;241;43m*\u001B[39;49m\u001B[43mkwargs\u001B[49m\u001B[43m)\u001B[49m\n",
      "File \u001B[0;32m~/eutopia-colllaboration/ecr-recommender/.venv/lib/python3.12/site-packages/torch/nn/modules/module.py:1562\u001B[0m, in \u001B[0;36mModule._call_impl\u001B[0;34m(self, *args, **kwargs)\u001B[0m\n\u001B[1;32m   1557\u001B[0m \u001B[38;5;66;03m# If we don't have any hooks, we want to skip the rest of the logic in\u001B[39;00m\n\u001B[1;32m   1558\u001B[0m \u001B[38;5;66;03m# this function, and just call forward.\u001B[39;00m\n\u001B[1;32m   1559\u001B[0m \u001B[38;5;28;01mif\u001B[39;00m \u001B[38;5;129;01mnot\u001B[39;00m (\u001B[38;5;28mself\u001B[39m\u001B[38;5;241m.\u001B[39m_backward_hooks \u001B[38;5;129;01mor\u001B[39;00m \u001B[38;5;28mself\u001B[39m\u001B[38;5;241m.\u001B[39m_backward_pre_hooks \u001B[38;5;129;01mor\u001B[39;00m \u001B[38;5;28mself\u001B[39m\u001B[38;5;241m.\u001B[39m_forward_hooks \u001B[38;5;129;01mor\u001B[39;00m \u001B[38;5;28mself\u001B[39m\u001B[38;5;241m.\u001B[39m_forward_pre_hooks\n\u001B[1;32m   1560\u001B[0m         \u001B[38;5;129;01mor\u001B[39;00m _global_backward_pre_hooks \u001B[38;5;129;01mor\u001B[39;00m _global_backward_hooks\n\u001B[1;32m   1561\u001B[0m         \u001B[38;5;129;01mor\u001B[39;00m _global_forward_hooks \u001B[38;5;129;01mor\u001B[39;00m _global_forward_pre_hooks):\n\u001B[0;32m-> 1562\u001B[0m     \u001B[38;5;28;01mreturn\u001B[39;00m \u001B[43mforward_call\u001B[49m\u001B[43m(\u001B[49m\u001B[38;5;241;43m*\u001B[39;49m\u001B[43margs\u001B[49m\u001B[43m,\u001B[49m\u001B[43m \u001B[49m\u001B[38;5;241;43m*\u001B[39;49m\u001B[38;5;241;43m*\u001B[39;49m\u001B[43mkwargs\u001B[49m\u001B[43m)\u001B[49m\n\u001B[1;32m   1564\u001B[0m \u001B[38;5;28;01mtry\u001B[39;00m:\n\u001B[1;32m   1565\u001B[0m     result \u001B[38;5;241m=\u001B[39m \u001B[38;5;28;01mNone\u001B[39;00m\n",
      "Cell \u001B[0;32mIn[51], line 87\u001B[0m, in \u001B[0;36mEncoder.forward\u001B[0;34m(self, x_dict, edge_index_dict)\u001B[0m\n\u001B[1;32m     83\u001B[0m h_dict \u001B[38;5;241m=\u001B[39m x_dict\n\u001B[1;32m     85\u001B[0m \u001B[38;5;28;01mfor\u001B[39;00m i \u001B[38;5;129;01min\u001B[39;00m \u001B[38;5;28mrange\u001B[39m(\u001B[38;5;28mself\u001B[39m\u001B[38;5;241m.\u001B[39mnum_layers):\n\u001B[1;32m     86\u001B[0m     \u001B[38;5;66;03m# Apply HANConv\u001B[39;00m\n\u001B[0;32m---> 87\u001B[0m     new_h_dict \u001B[38;5;241m=\u001B[39m \u001B[38;5;28;43mself\u001B[39;49m\u001B[38;5;241;43m.\u001B[39;49m\u001B[43mconv_layers\u001B[49m\u001B[43m[\u001B[49m\u001B[43mi\u001B[49m\u001B[43m]\u001B[49m\u001B[43m(\u001B[49m\u001B[43mh_dict\u001B[49m\u001B[43m,\u001B[49m\u001B[43m \u001B[49m\u001B[43medge_index_dict\u001B[49m\u001B[43m)\u001B[49m\n\u001B[1;32m     89\u001B[0m     \u001B[38;5;66;03m# Add skip connection\u001B[39;00m\n\u001B[1;32m     90\u001B[0m     \u001B[38;5;28;01mfor\u001B[39;00m ntype \u001B[38;5;129;01min\u001B[39;00m new_h_dict:\n",
      "File \u001B[0;32m~/eutopia-colllaboration/ecr-recommender/.venv/lib/python3.12/site-packages/torch/nn/modules/module.py:1553\u001B[0m, in \u001B[0;36mModule._wrapped_call_impl\u001B[0;34m(self, *args, **kwargs)\u001B[0m\n\u001B[1;32m   1551\u001B[0m     \u001B[38;5;28;01mreturn\u001B[39;00m \u001B[38;5;28mself\u001B[39m\u001B[38;5;241m.\u001B[39m_compiled_call_impl(\u001B[38;5;241m*\u001B[39margs, \u001B[38;5;241m*\u001B[39m\u001B[38;5;241m*\u001B[39mkwargs)  \u001B[38;5;66;03m# type: ignore[misc]\u001B[39;00m\n\u001B[1;32m   1552\u001B[0m \u001B[38;5;28;01melse\u001B[39;00m:\n\u001B[0;32m-> 1553\u001B[0m     \u001B[38;5;28;01mreturn\u001B[39;00m \u001B[38;5;28;43mself\u001B[39;49m\u001B[38;5;241;43m.\u001B[39;49m\u001B[43m_call_impl\u001B[49m\u001B[43m(\u001B[49m\u001B[38;5;241;43m*\u001B[39;49m\u001B[43margs\u001B[49m\u001B[43m,\u001B[49m\u001B[43m \u001B[49m\u001B[38;5;241;43m*\u001B[39;49m\u001B[38;5;241;43m*\u001B[39;49m\u001B[43mkwargs\u001B[49m\u001B[43m)\u001B[49m\n",
      "File \u001B[0;32m~/eutopia-colllaboration/ecr-recommender/.venv/lib/python3.12/site-packages/torch/nn/modules/module.py:1562\u001B[0m, in \u001B[0;36mModule._call_impl\u001B[0;34m(self, *args, **kwargs)\u001B[0m\n\u001B[1;32m   1557\u001B[0m \u001B[38;5;66;03m# If we don't have any hooks, we want to skip the rest of the logic in\u001B[39;00m\n\u001B[1;32m   1558\u001B[0m \u001B[38;5;66;03m# this function, and just call forward.\u001B[39;00m\n\u001B[1;32m   1559\u001B[0m \u001B[38;5;28;01mif\u001B[39;00m \u001B[38;5;129;01mnot\u001B[39;00m (\u001B[38;5;28mself\u001B[39m\u001B[38;5;241m.\u001B[39m_backward_hooks \u001B[38;5;129;01mor\u001B[39;00m \u001B[38;5;28mself\u001B[39m\u001B[38;5;241m.\u001B[39m_backward_pre_hooks \u001B[38;5;129;01mor\u001B[39;00m \u001B[38;5;28mself\u001B[39m\u001B[38;5;241m.\u001B[39m_forward_hooks \u001B[38;5;129;01mor\u001B[39;00m \u001B[38;5;28mself\u001B[39m\u001B[38;5;241m.\u001B[39m_forward_pre_hooks\n\u001B[1;32m   1560\u001B[0m         \u001B[38;5;129;01mor\u001B[39;00m _global_backward_pre_hooks \u001B[38;5;129;01mor\u001B[39;00m _global_backward_hooks\n\u001B[1;32m   1561\u001B[0m         \u001B[38;5;129;01mor\u001B[39;00m _global_forward_hooks \u001B[38;5;129;01mor\u001B[39;00m _global_forward_pre_hooks):\n\u001B[0;32m-> 1562\u001B[0m     \u001B[38;5;28;01mreturn\u001B[39;00m \u001B[43mforward_call\u001B[49m\u001B[43m(\u001B[49m\u001B[38;5;241;43m*\u001B[39;49m\u001B[43margs\u001B[49m\u001B[43m,\u001B[49m\u001B[43m \u001B[49m\u001B[38;5;241;43m*\u001B[39;49m\u001B[38;5;241;43m*\u001B[39;49m\u001B[43mkwargs\u001B[49m\u001B[43m)\u001B[49m\n\u001B[1;32m   1564\u001B[0m \u001B[38;5;28;01mtry\u001B[39;00m:\n\u001B[1;32m   1565\u001B[0m     result \u001B[38;5;241m=\u001B[39m \u001B[38;5;28;01mNone\u001B[39;00m\n",
      "File \u001B[0;32m~/eutopia-colllaboration/ecr-recommender/.venv/lib/python3.12/site-packages/torch_geometric/nn/conv/hgt_conv.py:199\u001B[0m, in \u001B[0;36mHGTConv.forward\u001B[0;34m(self, x_dict, edge_index_dict)\u001B[0m\n\u001B[1;32m    192\u001B[0m k, v, src_offset \u001B[38;5;241m=\u001B[39m \u001B[38;5;28mself\u001B[39m\u001B[38;5;241m.\u001B[39m_construct_src_node_feat(\n\u001B[1;32m    193\u001B[0m     k_dict, v_dict, edge_index_dict)\n\u001B[1;32m    195\u001B[0m edge_index, edge_attr \u001B[38;5;241m=\u001B[39m construct_bipartite_edge_index(\n\u001B[1;32m    196\u001B[0m     edge_index_dict, src_offset, dst_offset, edge_attr_dict\u001B[38;5;241m=\u001B[39m\u001B[38;5;28mself\u001B[39m\u001B[38;5;241m.\u001B[39mp_rel,\n\u001B[1;32m    197\u001B[0m     num_nodes\u001B[38;5;241m=\u001B[39mk\u001B[38;5;241m.\u001B[39msize(\u001B[38;5;241m0\u001B[39m))\n\u001B[0;32m--> 199\u001B[0m out \u001B[38;5;241m=\u001B[39m \u001B[38;5;28;43mself\u001B[39;49m\u001B[38;5;241;43m.\u001B[39;49m\u001B[43mpropagate\u001B[49m\u001B[43m(\u001B[49m\u001B[43medge_index\u001B[49m\u001B[43m,\u001B[49m\u001B[43m \u001B[49m\u001B[43mk\u001B[49m\u001B[38;5;241;43m=\u001B[39;49m\u001B[43mk\u001B[49m\u001B[43m,\u001B[49m\u001B[43m \u001B[49m\u001B[43mq\u001B[49m\u001B[38;5;241;43m=\u001B[39;49m\u001B[43mq\u001B[49m\u001B[43m,\u001B[49m\u001B[43m \u001B[49m\u001B[43mv\u001B[49m\u001B[38;5;241;43m=\u001B[39;49m\u001B[43mv\u001B[49m\u001B[43m,\u001B[49m\u001B[43m \u001B[49m\u001B[43medge_attr\u001B[49m\u001B[38;5;241;43m=\u001B[39;49m\u001B[43medge_attr\u001B[49m\u001B[43m)\u001B[49m\n\u001B[1;32m    201\u001B[0m \u001B[38;5;66;03m# Reconstruct output node embeddings dict:\u001B[39;00m\n\u001B[1;32m    202\u001B[0m \u001B[38;5;28;01mfor\u001B[39;00m node_type, start_offset \u001B[38;5;129;01min\u001B[39;00m dst_offset\u001B[38;5;241m.\u001B[39mitems():\n",
      "File \u001B[0;32m/tmp/torch_geometric.nn.conv.hgt_conv_HGTConv_propagate_4agopw5a.py:288\u001B[0m, in \u001B[0;36mpropagate\u001B[0;34m(self, edge_index, k, q, v, edge_attr, size)\u001B[0m\n\u001B[1;32m    276\u001B[0m             kwargs \u001B[38;5;241m=\u001B[39m CollectArgs(\n\u001B[1;32m    277\u001B[0m                 k_j\u001B[38;5;241m=\u001B[39mkwargs\u001B[38;5;241m.\u001B[39mk_j,\n\u001B[1;32m    278\u001B[0m                 q_i\u001B[38;5;241m=\u001B[39mkwargs\u001B[38;5;241m.\u001B[39mq_i,\n\u001B[0;32m   (...)\u001B[0m\n\u001B[1;32m    284\u001B[0m                 dim_size\u001B[38;5;241m=\u001B[39mhook_kwargs[\u001B[38;5;124m'\u001B[39m\u001B[38;5;124mdim_size\u001B[39m\u001B[38;5;124m'\u001B[39m],\n\u001B[1;32m    285\u001B[0m             )\n\u001B[1;32m    286\u001B[0m \u001B[38;5;66;03m# End Aggregate Forward Pre Hook #######################################\u001B[39;00m\n\u001B[0;32m--> 288\u001B[0m out \u001B[38;5;241m=\u001B[39m \u001B[38;5;28;43mself\u001B[39;49m\u001B[38;5;241;43m.\u001B[39;49m\u001B[43maggregate\u001B[49m\u001B[43m(\u001B[49m\n\u001B[1;32m    289\u001B[0m \u001B[43m    \u001B[49m\u001B[43mout\u001B[49m\u001B[43m,\u001B[49m\n\u001B[1;32m    290\u001B[0m \u001B[43m    \u001B[49m\u001B[43mindex\u001B[49m\u001B[38;5;241;43m=\u001B[39;49m\u001B[43mkwargs\u001B[49m\u001B[38;5;241;43m.\u001B[39;49m\u001B[43mindex\u001B[49m\u001B[43m,\u001B[49m\n\u001B[1;32m    291\u001B[0m \u001B[43m    \u001B[49m\u001B[43mptr\u001B[49m\u001B[38;5;241;43m=\u001B[39;49m\u001B[43mkwargs\u001B[49m\u001B[38;5;241;43m.\u001B[39;49m\u001B[43mptr\u001B[49m\u001B[43m,\u001B[49m\n\u001B[1;32m    292\u001B[0m \u001B[43m    \u001B[49m\u001B[43mdim_size\u001B[49m\u001B[38;5;241;43m=\u001B[39;49m\u001B[43mkwargs\u001B[49m\u001B[38;5;241;43m.\u001B[39;49m\u001B[43mdim_size\u001B[49m\u001B[43m,\u001B[49m\n\u001B[1;32m    293\u001B[0m \u001B[43m\u001B[49m\u001B[43m)\u001B[49m\n\u001B[1;32m    295\u001B[0m \u001B[38;5;66;03m# Begin Aggregate Forward Hook #########################################\u001B[39;00m\n\u001B[1;32m    296\u001B[0m \u001B[38;5;28;01mif\u001B[39;00m \u001B[38;5;129;01mnot\u001B[39;00m torch\u001B[38;5;241m.\u001B[39mjit\u001B[38;5;241m.\u001B[39mis_scripting() \u001B[38;5;129;01mand\u001B[39;00m \u001B[38;5;129;01mnot\u001B[39;00m is_compiling():\n",
      "File \u001B[0;32m~/eutopia-colllaboration/ecr-recommender/.venv/lib/python3.12/site-packages/torch_geometric/nn/conv/message_passing.py:577\u001B[0m, in \u001B[0;36mMessagePassing.aggregate\u001B[0;34m(self, inputs, index, ptr, dim_size)\u001B[0m\n\u001B[1;32m    566\u001B[0m \u001B[38;5;250m    \u001B[39m\u001B[38;5;124mr\u001B[39m\u001B[38;5;124;03m\"\"\"Constructs messages from node :math:`j` to node :math:`i`\u001B[39;00m\n\u001B[1;32m    567\u001B[0m \u001B[38;5;124;03m    in analogy to :math:`\\phi_{\\mathbf{\\Theta}}` for each edge in\u001B[39;00m\n\u001B[1;32m    568\u001B[0m \u001B[38;5;124;03m    :obj:`edge_index`.\u001B[39;00m\n\u001B[0;32m   (...)\u001B[0m\n\u001B[1;32m    573\u001B[0m \u001B[38;5;124;03m    :obj:`_j` to the variable name, *.e.g.* :obj:`x_i` and :obj:`x_j`.\u001B[39;00m\n\u001B[1;32m    574\u001B[0m \u001B[38;5;124;03m    \"\"\"\u001B[39;00m\n\u001B[1;32m    575\u001B[0m     \u001B[38;5;28;01mreturn\u001B[39;00m x_j\n\u001B[0;32m--> 577\u001B[0m \u001B[38;5;28;01mdef\u001B[39;00m \u001B[38;5;21maggregate\u001B[39m(\n\u001B[1;32m    578\u001B[0m     \u001B[38;5;28mself\u001B[39m,\n\u001B[1;32m    579\u001B[0m     inputs: Tensor,\n\u001B[1;32m    580\u001B[0m     index: Tensor,\n\u001B[1;32m    581\u001B[0m     ptr: Optional[Tensor] \u001B[38;5;241m=\u001B[39m \u001B[38;5;28;01mNone\u001B[39;00m,\n\u001B[1;32m    582\u001B[0m     dim_size: Optional[\u001B[38;5;28mint\u001B[39m] \u001B[38;5;241m=\u001B[39m \u001B[38;5;28;01mNone\u001B[39;00m,\n\u001B[1;32m    583\u001B[0m ) \u001B[38;5;241m-\u001B[39m\u001B[38;5;241m>\u001B[39m Tensor:\n\u001B[1;32m    584\u001B[0m \u001B[38;5;250m    \u001B[39m\u001B[38;5;124mr\u001B[39m\u001B[38;5;124;03m\"\"\"Aggregates messages from neighbors as\u001B[39;00m\n\u001B[1;32m    585\u001B[0m \u001B[38;5;124;03m    :math:`\\bigoplus_{j \\in \\mathcal{N}(i)}`.\u001B[39;00m\n\u001B[1;32m    586\u001B[0m \n\u001B[0;32m   (...)\u001B[0m\n\u001B[1;32m    592\u001B[0m \u001B[38;5;124;03m    as specified in :meth:`__init__` by the :obj:`aggr` argument.\u001B[39;00m\n\u001B[1;32m    593\u001B[0m \u001B[38;5;124;03m    \"\"\"\u001B[39;00m\n\u001B[1;32m    594\u001B[0m     \u001B[38;5;28;01mreturn\u001B[39;00m \u001B[38;5;28mself\u001B[39m\u001B[38;5;241m.\u001B[39maggr_module(inputs, index, ptr\u001B[38;5;241m=\u001B[39mptr, dim_size\u001B[38;5;241m=\u001B[39mdim_size,\n\u001B[1;32m    595\u001B[0m                             dim\u001B[38;5;241m=\u001B[39m\u001B[38;5;28mself\u001B[39m\u001B[38;5;241m.\u001B[39mnode_dim)\n",
      "\u001B[0;31mKeyboardInterrupt\u001B[0m: "
     ]
    }
   ],
   "source": [
    "results = []\n",
    "for epoch in range(1,  100 + 1):\n",
    "    train_loss = train()\n",
    "    test_loss = test()\n",
    "    scheduler.step(test_loss)\n",
    "    eval_result = evaluate(k=num_recommendations)\n",
    "\n",
    "    # Save results\n",
    "    epoch_result = {\n",
    "        'epoch': epoch  ,\n",
    "        'train_loss_bpr': train_loss,\n",
    "        'test_loss_bpr': test_loss,\n",
    "        'precision@k': eval_result['precision@k'].compute(),\n",
    "        'recall@k': eval_result['recall@k'].compute(),\n",
    "        'map@k': eval_result['map@k'].compute(),\n",
    "        'mrr@k': eval_result['mrr@k'].compute(),\n",
    "        'ndcg@k': eval_result['ndcg@k'].compute(),\n",
    "        'hit_rate@k': eval_result['hit_rate@k'].compute()\n",
    "    }\n",
    "    results.append(epoch_result)\n",
    "\n",
    "    # Log results\n",
    "    if epoch % 1 == 0:\n",
    "        # Log model performance\n",
    "        formatted_str = ', '.join([f'{key}: {epoch_result[key]:.4f}' for key in epoch_result.keys()])\n",
    "        print(formatted_str)\n",
    "\n",
    "\n",
    "results = pd.DataFrame(results)"
   ]
  },
  {
   "cell_type": "markdown",
   "id": "uV1aqHuN8Ixi",
   "metadata": {
    "id": "uV1aqHuN8Ixi"
   },
   "source": [
    "## Model evaluation"
   ]
  },
  {
   "cell_type": "code",
   "execution_count": 44,
   "id": "eff30c4a-e7bb-45b4-99d9-59501ab656eb",
   "metadata": {},
   "outputs": [],
   "source": [
    "results = pd.DataFrame(results)"
   ]
  },
  {
   "cell_type": "code",
   "execution_count": 48,
   "id": "MxwYhlsGRcG5",
   "metadata": {
    "colab": {
     "base_uri": "https://localhost:8080/",
     "height": 472
    },
    "id": "MxwYhlsGRcG5",
    "outputId": "45bcc585-a9b1-4b1d-dbe1-e2c4b1fe2e50"
   },
   "outputs": [
    {
     "data": {
      "image/png": "[encoded data removed]",
      "text/plain": [
       "<Figure size 640x480 with 1 Axes>"
      ]
     },
     "metadata": {},
     "output_type": "display_data"
    }
   ],
   "source": [
    "# Generate loss curve\n",
    "plt.plot(results['epoch'], results['train_loss_bpr'], label='train')\n",
    "plt.plot(results['epoch'], results['test_loss_bpr'], label='test')\n",
    "plt.xlabel('Epoch')\n",
    "plt.ylabel('Loss')\n",
    "plt.title('Loss Curve')\n",
    "plt.show()"
   ]
  },
  {
   "cell_type": "code",
   "execution_count": null,
   "id": "2bWKDD6Q9CYC",
   "metadata": {
    "colab": {
     "base_uri": "https://localhost:8080/",
     "height": 472
    },
    "id": "2bWKDD6Q9CYC",
    "outputId": "5b63dc87-33bb-4fb9-fd74-da317aad7d2b"
   },
   "outputs": [],
   "source": [
    "# Generate evaluation metrics plot\n",
    "plt.plot(results['epoch'], results['precision@k'], label='precision@k')\n",
    "plt.plot(results['epoch'], results['recall@k'], label='recall@k')\n",
    "plt.plot(results['epoch'], results['map@k'], label='map@k')\n",
    "plt.plot(results['epoch'], results['mrr@k'], label='mrr@k')\n",
    "plt.plot(results['epoch'], results['ndcg@k'], label='ndcg@k')\n",
    "plt.plot(results['epoch'], results['hit_rate@k'], label='hit_rate@k')\n",
    "plt.xlabel('Epoch')\n",
    "plt.ylabel('Performance')\n",
    "plt.title('Evaluation metrics')\n",
    "plt.legend()\n",
    "plt.show()"
   ]
  },
  {
   "cell_type": "code",
   "execution_count": null,
   "id": "9722b1de-2c2c-4e14-8746-b25facee2e7f",
   "metadata": {},
   "outputs": [],
   "source": [
    "results['epoch'] = results['epoch'].astype(int)\n",
    "results['train_loss_bpr'] = results['train_loss_bpr'].astype(float)\n",
    "results['test_loss_bpr'] = results['test_loss_bpr'].astype(float)\n",
    "results['precision@k'] = results['precision@k'].astype(float)\n",
    "results['recall@k'] = results['recall@k'].astype(float)\n",
    "results['map@k'] = results['map@k'].astype(float)\n",
    "results['mrr@k'] = results['mrr@k'].astype(float)\n",
    "results['ndcg@k'] = results['ndcg@k'].astype(float)\n",
    "results['hit_rate@k'] = results['hit_rate@k'].astype(float)\n",
    "results"
   ]
  },
  {
   "cell_type": "code",
   "execution_count": null,
   "id": "d95b8154-eed0-4484-96ca-84d884ff837e",
   "metadata": {},
   "outputs": [],
   "source": [
    "results.to_csv('../results/results_EuCoHT.csv')"
   ]
  }
 ],
 "metadata": {
  "colab": {
   "name": "Collaboration Recommender 2.0 (Heterogeneous)",
   "provenance": []
  },
  "kernelspec": {
   "display_name": "Python 3 (ipykernel)",
   "language": "python",
   "name": "python3"
  },
  "language_info": {
   "codemirror_mode": {
    "name": "ipython",
    "version": 3
   },
   "file_extension": ".py",
   "mimetype": "text/x-python",
   "name": "python",
   "nbconvert_exporter": "python",
   "pygments_lexer": "ipython3",
   "version": "3.12.3"
  }
 },
 "nbformat": 4,
 "nbformat_minor": 5
}
