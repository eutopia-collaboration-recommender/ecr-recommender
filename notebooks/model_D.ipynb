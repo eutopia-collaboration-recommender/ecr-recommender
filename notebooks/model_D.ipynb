{
 "cells": [
  {
   "cell_type": "markdown",
   "id": "zYPnKxIhFGVJ",
   "metadata": {
    "id": "zYPnKxIhFGVJ"
   },
   "source": [
    "# Model D\n",
    "\n",
    "This is a script showing results of **model D** in the ablation studies. The model is built using the following configuration:\n",
    "\n",
    "- **Backbone:** Transformer\n",
    "- **Graph type:** Homogeneous\n",
    "- **Loss function:** Bayesian personalized ranking\n",
    "- **Embeddings used:** average\n",
    "- **Keyword popularity used:** No\n",
    "\n",
    "*This model upgrades the state-of-the-art graph neural network methodology with novel graph transformer approach.*"
   ]
  },
  {
   "cell_type": "markdown",
   "id": "x7McZwR_FRta",
   "metadata": {
    "id": "x7McZwR_FRta"
   },
   "source": [
    "## **Setting up environment**\n",
    "\n",
    "---\n",
    "\n"
   ]
  },
  {
   "cell_type": "markdown",
   "id": "cD8tnTfC60X2",
   "metadata": {
    "id": "cD8tnTfC60X2"
   },
   "source": [
    "### Loading libraries"
   ]
  },
  {
   "cell_type": "code",
   "execution_count": 1,
   "id": "5okfWmvKEI3Z",
   "metadata": {
    "ExecuteTime": {
     "end_time": "2024-12-13T17:47:50.264742Z",
     "start_time": "2024-12-13T17:47:50.256254Z"
    },
    "id": "5okfWmvKEI3Z"
   },
   "outputs": [],
   "source": [
    "import os\n",
    "import sys\n",
    "\n",
    "sys.path.insert(0, os.path.abspath(\"..\"))\n",
    "\n",
    "import torch\n",
    "import pickle\n",
    "import pandas as pd\n",
    "import seaborn as sns\n",
    "import matplotlib.pyplot as plt\n",
    "\n",
    "from typing import Optional\n",
    "\n",
    "from torch import Tensor\n",
    "from torch.nn import ModuleList\n",
    "from torch.optim import Optimizer\n",
    "from torch_geometric.typing import Adj, OptTensor\n",
    "from torch_geometric.nn.conv import TransformerConv\n",
    "from torch.optim.lr_scheduler import LRScheduler\n",
    "\n",
    "from util.torch_geometric import get_results\n",
    "from util.homogeneous.dataset import DatasetEuCoHM\n",
    "from util.homogeneous.model import ModelEuCoHM\n",
    "from util.homogeneous.train import (\n",
    "    train,\n",
    "    test,\n",
    "    evaluate\n",
    ")"
   ]
  },
  {
   "cell_type": "markdown",
   "id": "bQ_xqBiFn97Q",
   "metadata": {
    "id": "bQ_xqBiFn97Q"
   },
   "source": [
    "### Global variables"
   ]
  },
  {
   "cell_type": "code",
   "execution_count": 2,
   "id": "9r1K6ezsn97Q",
   "metadata": {
    "ExecuteTime": {
     "end_time": "2024-12-13T21:23:20.128019Z",
     "start_time": "2024-12-13T21:23:20.037264Z"
    },
    "id": "9r1K6ezsn97Q"
   },
   "outputs": [],
   "source": [
    "# Model name\n",
    "model_name = 'D'\n",
    "# Dataset save filepath\n",
    "dataset_save_filepath = '../data/dataset_homogeneous_base.pkl'\n",
    "# Device name\n",
    "device = 'cpu'\n",
    "\n",
    "# Model configuration\n",
    "model_config = dict(\n",
    "    hidden_channels=64,\n",
    "    learning_rate=1e-3,\n",
    "    num_layers=4,\n",
    "    num_heads=4,\n",
    "    num_epochs=50,\n",
    "    num_recommendations=10\n",
    ")\n",
    "# Set seaborn theme\n",
    "sns.set_theme(style=\"whitegrid\", palette=\"pastel\")"
   ]
  },
  {
   "cell_type": "markdown",
   "id": "ISUVX4hvFMKM",
   "metadata": {
    "id": "ISUVX4hvFMKM"
   },
   "source": [
    "## Loading dataset\n",
    "\n",
    "---\n"
   ]
  },
  {
   "cell_type": "code",
   "execution_count": 3,
   "id": "3b608e9d-243a-46aa-a261-7ae3464093db",
   "metadata": {},
   "outputs": [
    {
     "name": "stderr",
     "output_type": "stream",
     "text": [
      "/home/eucollab/eutopia-colllaboration/ecr-recommender/.venv/lib/python3.12/site-packages/torch/storage.py:414: FutureWarning: You are using `torch.load` with `weights_only=False` (the current default value), which uses the default pickle module implicitly. It is possible to construct malicious pickle data which will execute arbitrary code during unpickling (See https://github.com/pytorch/pytorch/blob/main/SECURITY.md#untrusted-models for more details). In a future release, the default value for `weights_only` will be flipped to `True`. This limits the functions that could be executed during unpickling. Arbitrary objects will no longer be allowed to be loaded via this mode unless they are explicitly allowlisted by the user via `torch.serialization.add_safe_globals`. We recommend you start setting `weights_only=True` for any use case where you don't have full control of the loaded file. Please open an issue on GitHub for any issues related to this experimental feature.\n",
      "  return torch.load(io.BytesIO(b))\n"
     ]
    }
   ],
   "source": [
    "# Add the object as a safe global to shut down warning\n",
    "torch.serialization.add_safe_globals([DatasetEuCoHM])\n",
    "# Open the dataset file and save it to variable\n",
    "with open(dataset_save_filepath, 'rb') as file:\n",
    "    dataset: DatasetEuCoHM = pickle.load(file)\n",
    "\n",
    "data = dataset.data\n",
    "author_id_map = dataset.author_id_map\n",
    "author_node_id_map = dataset.author_node_id_map"
   ]
  },
  {
   "cell_type": "markdown",
   "id": "04vUews17zy8",
   "metadata": {
    "id": "04vUews17zy8"
   },
   "source": [
    "## Model training\n",
    "\n",
    "\n",
    "---\n",
    "\n"
   ]
  },
  {
   "cell_type": "markdown",
   "id": "IMCtMQz00wC_",
   "metadata": {
    "id": "IMCtMQz00wC_"
   },
   "source": [
    "### Model definition"
   ]
  },
  {
   "cell_type": "code",
   "execution_count": 4,
   "id": "TJaBxQX_7_3D",
   "metadata": {
    "ExecuteTime": {
     "end_time": "2024-12-13T21:28:22.411435Z",
     "start_time": "2024-12-13T21:28:22.248727Z"
    },
    "id": "TJaBxQX_7_3D"
   },
   "outputs": [],
   "source": [
    "class ModelEuCoD(ModelEuCoHM):\n",
    "    def __init__(self,\n",
    "                 input_channels: int,\n",
    "                 hidden_channels: int,\n",
    "                 num_layers: int,\n",
    "                 num_recommendations: int,\n",
    "                 num_heads: int,\n",
    "                 author_node_id_map: dict,\n",
    "                 author_id_map: dict,\n",
    "                 device: str = 'cpu'):\n",
    "        super().__init__(\n",
    "            input_channels=input_channels,\n",
    "            hidden_channels=hidden_channels,\n",
    "            num_layers=num_layers,\n",
    "            num_recommendations=num_recommendations,\n",
    "            author_node_id_map=author_node_id_map,\n",
    "            author_id_map=author_id_map,\n",
    "            device=device\n",
    "        )\n",
    "\n",
    "        # Set number of attention heads\n",
    "        self.num_heads = num_heads\n",
    "\n",
    "        # Initialize the convolutional layers\n",
    "        self.conv_layers = ModuleList([\n",
    "            TransformerConv(in_channels=input_channels if ix == 0 else hidden_channels * self.num_heads, \n",
    "                            out_channels=hidden_channels,\n",
    "                            heads=self.num_heads)\n",
    "            for ix in range(self.num_layers)\n",
    "        ])\n",
    "\n",
    "        # Initialize batch norm layers\n",
    "        self.bn_layers = ModuleList([\n",
    "            torch.nn.BatchNorm1d(hidden_channels * self.num_heads)\n",
    "            for ix in range(self.num_layers)\n",
    "        ])"
   ]
  },
  {
   "cell_type": "markdown",
   "id": "9XkKmZJC06IZ",
   "metadata": {
    "id": "9XkKmZJC06IZ"
   },
   "source": [
    "### Training the model"
   ]
  },
  {
   "cell_type": "code",
   "execution_count": 5,
   "id": "b4304b1f-ce07-411d-abc3-43011dd3a83b",
   "metadata": {},
   "outputs": [],
   "source": [
    "# Initialize the model\n",
    "model = ModelEuCoD(\n",
    "    input_channels=data.num_features,\n",
    "    hidden_channels=model_config['hidden_channels'],\n",
    "    num_recommendations=model_config['num_recommendations'],\n",
    "    num_layers=model_config['num_layers'],\n",
    "    num_heads=model_config['num_heads'],\n",
    "    author_node_id_map=author_node_id_map,\n",
    "    author_id_map=author_id_map\n",
    ").to(device)\n",
    "\n",
    "# Transfer to device\n",
    "data = data.to(device)\n",
    "\n",
    "# Initialize the optimizer\n",
    "optimizer: Optimizer = torch.optim.Adam(\n",
    "    params=model.parameters(),\n",
    "    lr=model_config['learning_rate']\n",
    ")\n",
    "\n",
    "# Initialize the scheduler\n",
    "scheduler: LRScheduler = torch.optim.lr_scheduler.ReduceLROnPlateau(\n",
    "    optimizer=optimizer,\n",
    "    mode='min',\n",
    "    factor=0.5,\n",
    "    patience=10\n",
    ")"
   ]
  },
  {
   "cell_type": "code",
   "execution_count": 6,
   "id": "379e5e3ea82af758",
   "metadata": {
    "ExecuteTime": {
     "end_time": "2024-12-13T21:30:55.180060Z",
     "start_time": "2024-12-13T21:30:52.430863Z"
    }
   },
   "outputs": [
    {
     "name": "stdout",
     "output_type": "stream",
     "text": [
      "Epoch 1, train loss: 0.0072, test loss: 0.1663, precision@k: 0.0527, recall@k: 0.1384, MAP@k: 0.0697, MRR@k: 0.1221, NDCG@k: 0.1046, HitRate@k: 0.2545\n",
      "Epoch 2, train loss: 0.0060, test loss: 0.2097, precision@k: 0.0500, recall@k: 0.1288, MAP@k: 0.0639, MRR@k: 0.1116, NDCG@k: 0.0965, HitRate@k: 0.2398\n",
      "Epoch 3, train loss: 0.0060, test loss: 0.2203, precision@k: 0.0499, recall@k: 0.1278, MAP@k: 0.0638, MRR@k: 0.1122, NDCG@k: 0.0964, HitRate@k: 0.2416\n",
      "Epoch 4, train loss: 0.0053, test loss: 0.2827, precision@k: 0.0496, recall@k: 0.1252, MAP@k: 0.0616, MRR@k: 0.1106, NDCG@k: 0.0943, HitRate@k: 0.2416\n",
      "Epoch 5, train loss: 0.0053, test loss: 0.3545, precision@k: 0.0502, recall@k: 0.1267, MAP@k: 0.0620, MRR@k: 0.1124, NDCG@k: 0.0951, HitRate@k: 0.2431\n",
      "Epoch 6, train loss: 0.0039, test loss: 0.3995, precision@k: 0.0502, recall@k: 0.1261, MAP@k: 0.0609, MRR@k: 0.1120, NDCG@k: 0.0943, HitRate@k: 0.2430\n",
      "Epoch 7, train loss: 0.0041, test loss: 0.4321, precision@k: 0.0501, recall@k: 0.1267, MAP@k: 0.0608, MRR@k: 0.1124, NDCG@k: 0.0944, HitRate@k: 0.2448\n",
      "Epoch 8, train loss: 0.0034, test loss: 0.4638, precision@k: 0.0499, recall@k: 0.1267, MAP@k: 0.0606, MRR@k: 0.1113, NDCG@k: 0.0941, HitRate@k: 0.2450\n",
      "Epoch 9, train loss: 0.0029, test loss: 0.4818, precision@k: 0.0492, recall@k: 0.1245, MAP@k: 0.0600, MRR@k: 0.1098, NDCG@k: 0.0930, HitRate@k: 0.2431\n",
      "Epoch 10, train loss: 0.0025, test loss: 0.4753, precision@k: 0.0496, recall@k: 0.1267, MAP@k: 0.0605, MRR@k: 0.1103, NDCG@k: 0.0939, HitRate@k: 0.2471\n",
      "Epoch 11, train loss: 0.0024, test loss: 0.4588, precision@k: 0.0492, recall@k: 0.1263, MAP@k: 0.0603, MRR@k: 0.1108, NDCG@k: 0.0938, HitRate@k: 0.2470\n",
      "Epoch 12, train loss: 0.0025, test loss: 0.4532, precision@k: 0.0491, recall@k: 0.1266, MAP@k: 0.0609, MRR@k: 0.1103, NDCG@k: 0.0941, HitRate@k: 0.2463\n",
      "Epoch 13, train loss: 0.0022, test loss: 0.4222, precision@k: 0.0496, recall@k: 0.1288, MAP@k: 0.0619, MRR@k: 0.1116, NDCG@k: 0.0956, HitRate@k: 0.2505\n",
      "Epoch 14, train loss: 0.0020, test loss: 0.4001, precision@k: 0.0504, recall@k: 0.1308, MAP@k: 0.0632, MRR@k: 0.1145, NDCG@k: 0.0974, HitRate@k: 0.2533\n",
      "Epoch 15, train loss: 0.0021, test loss: 0.3868, precision@k: 0.0508, recall@k: 0.1325, MAP@k: 0.0642, MRR@k: 0.1153, NDCG@k: 0.0987, HitRate@k: 0.2550\n",
      "Epoch 16, train loss: 0.0019, test loss: 0.3802, precision@k: 0.0511, recall@k: 0.1343, MAP@k: 0.0651, MRR@k: 0.1172, NDCG@k: 0.1000, HitRate@k: 0.2574\n",
      "Epoch 17, train loss: 0.0020, test loss: 0.3795, precision@k: 0.0517, recall@k: 0.1364, MAP@k: 0.0662, MRR@k: 0.1193, NDCG@k: 0.1017, HitRate@k: 0.2620\n",
      "Epoch 18, train loss: 0.0019, test loss: 0.3755, precision@k: 0.0522, recall@k: 0.1380, MAP@k: 0.0667, MRR@k: 0.1197, NDCG@k: 0.1025, HitRate@k: 0.2652\n",
      "Epoch 19, train loss: 0.0017, test loss: 0.3652, precision@k: 0.0528, recall@k: 0.1404, MAP@k: 0.0675, MRR@k: 0.1214, NDCG@k: 0.1039, HitRate@k: 0.2692\n",
      "Epoch 20, train loss: 0.0016, test loss: 0.3553, precision@k: 0.0532, recall@k: 0.1424, MAP@k: 0.0682, MRR@k: 0.1220, NDCG@k: 0.1050, HitRate@k: 0.2713\n",
      "Epoch 21, train loss: 0.0017, test loss: 0.3432, precision@k: 0.0536, recall@k: 0.1440, MAP@k: 0.0692, MRR@k: 0.1235, NDCG@k: 0.1062, HitRate@k: 0.2737\n",
      "Epoch 22, train loss: 0.0016, test loss: 0.3324, precision@k: 0.0539, recall@k: 0.1453, MAP@k: 0.0696, MRR@k: 0.1249, NDCG@k: 0.1070, HitRate@k: 0.2760\n",
      "Epoch 23, train loss: 0.0015, test loss: 0.3209, precision@k: 0.0541, recall@k: 0.1464, MAP@k: 0.0705, MRR@k: 0.1252, NDCG@k: 0.1080, HitRate@k: 0.2786\n",
      "Epoch 24, train loss: 0.0015, test loss: 0.3083, precision@k: 0.0543, recall@k: 0.1471, MAP@k: 0.0707, MRR@k: 0.1260, NDCG@k: 0.1084, HitRate@k: 0.2797\n",
      "Epoch 25, train loss: 0.0015, test loss: 0.2983, precision@k: 0.0546, recall@k: 0.1485, MAP@k: 0.0714, MRR@k: 0.1275, NDCG@k: 0.1095, HitRate@k: 0.2817\n",
      "Epoch 26, train loss: 0.0014, test loss: 0.2903, precision@k: 0.0547, recall@k: 0.1490, MAP@k: 0.0721, MRR@k: 0.1282, NDCG@k: 0.1101, HitRate@k: 0.2817\n",
      "Epoch 27, train loss: 0.0014, test loss: 0.2837, precision@k: 0.0549, recall@k: 0.1496, MAP@k: 0.0719, MRR@k: 0.1273, NDCG@k: 0.1101, HitRate@k: 0.2829\n",
      "Epoch 28, train loss: 0.0015, test loss: 0.2779, precision@k: 0.0552, recall@k: 0.1507, MAP@k: 0.0720, MRR@k: 0.1281, NDCG@k: 0.1106, HitRate@k: 0.2850\n",
      "Epoch 29, train loss: 0.0014, test loss: 0.2725, precision@k: 0.0554, recall@k: 0.1511, MAP@k: 0.0725, MRR@k: 0.1284, NDCG@k: 0.1110, HitRate@k: 0.2860\n",
      "Epoch 30, train loss: 0.0015, test loss: 0.2677, precision@k: 0.0556, recall@k: 0.1520, MAP@k: 0.0726, MRR@k: 0.1284, NDCG@k: 0.1114, HitRate@k: 0.2870\n",
      "Epoch 31, train loss: 0.0014, test loss: 0.2634, precision@k: 0.0558, recall@k: 0.1531, MAP@k: 0.0732, MRR@k: 0.1296, NDCG@k: 0.1123, HitRate@k: 0.2889\n",
      "Epoch 32, train loss: 0.0013, test loss: 0.2590, precision@k: 0.0562, recall@k: 0.1541, MAP@k: 0.0734, MRR@k: 0.1297, NDCG@k: 0.1127, HitRate@k: 0.2903\n",
      "Epoch 33, train loss: 0.0015, test loss: 0.2548, precision@k: 0.0563, recall@k: 0.1542, MAP@k: 0.0735, MRR@k: 0.1303, NDCG@k: 0.1129, HitRate@k: 0.2910\n",
      "Epoch 34, train loss: 0.0012, test loss: 0.2510, precision@k: 0.0567, recall@k: 0.1555, MAP@k: 0.0740, MRR@k: 0.1311, NDCG@k: 0.1137, HitRate@k: 0.2934\n",
      "Epoch 35, train loss: 0.0012, test loss: 0.2478, precision@k: 0.0568, recall@k: 0.1557, MAP@k: 0.0739, MRR@k: 0.1308, NDCG@k: 0.1137, HitRate@k: 0.2934\n",
      "Epoch 36, train loss: 0.0014, test loss: 0.2451, precision@k: 0.0568, recall@k: 0.1558, MAP@k: 0.0742, MRR@k: 0.1311, NDCG@k: 0.1140, HitRate@k: 0.2930\n",
      "Epoch 37, train loss: 0.0012, test loss: 0.2430, precision@k: 0.0569, recall@k: 0.1560, MAP@k: 0.0747, MRR@k: 0.1318, NDCG@k: 0.1145, HitRate@k: 0.2932\n",
      "Epoch 38, train loss: 0.0013, test loss: 0.2413, precision@k: 0.0570, recall@k: 0.1564, MAP@k: 0.0750, MRR@k: 0.1326, NDCG@k: 0.1149, HitRate@k: 0.2942\n",
      "Epoch 39, train loss: 0.0012, test loss: 0.2394, precision@k: 0.0571, recall@k: 0.1568, MAP@k: 0.0747, MRR@k: 0.1323, NDCG@k: 0.1148, HitRate@k: 0.2951\n",
      "Epoch 40, train loss: 0.0013, test loss: 0.2376, precision@k: 0.0573, recall@k: 0.1576, MAP@k: 0.0755, MRR@k: 0.1331, NDCG@k: 0.1156, HitRate@k: 0.2963\n",
      "Epoch 41, train loss: 0.0011, test loss: 0.2362, precision@k: 0.0575, recall@k: 0.1577, MAP@k: 0.0753, MRR@k: 0.1337, NDCG@k: 0.1156, HitRate@k: 0.2967\n",
      "Epoch 42, train loss: 0.0012, test loss: 0.2349, precision@k: 0.0575, recall@k: 0.1575, MAP@k: 0.0753, MRR@k: 0.1334, NDCG@k: 0.1156, HitRate@k: 0.2965\n",
      "Epoch 43, train loss: 0.0012, test loss: 0.2336, precision@k: 0.0577, recall@k: 0.1580, MAP@k: 0.0754, MRR@k: 0.1328, NDCG@k: 0.1157, HitRate@k: 0.2970\n",
      "Epoch 44, train loss: 0.0013, test loss: 0.2325, precision@k: 0.0577, recall@k: 0.1579, MAP@k: 0.0756, MRR@k: 0.1332, NDCG@k: 0.1159, HitRate@k: 0.2966\n",
      "Epoch 45, train loss: 0.0011, test loss: 0.2313, precision@k: 0.0578, recall@k: 0.1581, MAP@k: 0.0760, MRR@k: 0.1342, NDCG@k: 0.1162, HitRate@k: 0.2966\n",
      "Epoch 46, train loss: 0.0012, test loss: 0.2302, precision@k: 0.0577, recall@k: 0.1578, MAP@k: 0.0759, MRR@k: 0.1343, NDCG@k: 0.1161, HitRate@k: 0.2961\n",
      "Epoch 47, train loss: 0.0011, test loss: 0.2293, precision@k: 0.0577, recall@k: 0.1580, MAP@k: 0.0760, MRR@k: 0.1345, NDCG@k: 0.1163, HitRate@k: 0.2968\n",
      "Epoch 48, train loss: 0.0010, test loss: 0.2284, precision@k: 0.0578, recall@k: 0.1583, MAP@k: 0.0763, MRR@k: 0.1345, NDCG@k: 0.1166, HitRate@k: 0.2975\n",
      "Epoch 49, train loss: 0.0012, test loss: 0.2275, precision@k: 0.0580, recall@k: 0.1588, MAP@k: 0.0761, MRR@k: 0.1343, NDCG@k: 0.1166, HitRate@k: 0.2979\n",
      "Epoch 50, train loss: 0.0012, test loss: 0.2268, precision@k: 0.0581, recall@k: 0.1595, MAP@k: 0.0761, MRR@k: 0.1344, NDCG@k: 0.1167, HitRate@k: 0.2987\n"
     ]
    }
   ],
   "source": [
    "results: list = list()\n",
    "for epoch in range(1, model_config['num_epochs'] + 1):\n",
    "    # ------ Train\n",
    "    train_loss: float = train(\n",
    "        model=model,\n",
    "        data=data,\n",
    "        optimizer=optimizer\n",
    "    )\n",
    "    # ------ Test\n",
    "    test_loss: float = test(\n",
    "        model=model,\n",
    "        data=data\n",
    "    )\n",
    "    scheduler.step(test_loss)\n",
    "    # ------ Evaluate\n",
    "    evaluation_results: dict = evaluate(\n",
    "        k=model_config['num_recommendations'],\n",
    "        model=model,\n",
    "        data=data\n",
    "    )\n",
    "\n",
    "    # Save results\n",
    "    epoch_result = get_results(\n",
    "        epoch=epoch,\n",
    "        train_loss=train_loss,\n",
    "        test_loss=test_loss,\n",
    "        evaluation_results=evaluation_results\n",
    "    )\n",
    "    results.append(epoch_result)"
   ]
  },
  {
   "cell_type": "markdown",
   "id": "CIzjEI3R-eY-",
   "metadata": {
    "id": "CIzjEI3R-eY-"
   },
   "source": [
    "### Model evaluation"
   ]
  },
  {
   "cell_type": "code",
   "execution_count": 7,
   "id": "JHmrYAoF-dWh",
   "metadata": {
    "colab": {
     "base_uri": "https://localhost:8080/",
     "height": 472
    },
    "id": "JHmrYAoF-dWh",
    "outputId": "51b44a7b-4d40-4c23-8009-d3af553ed2e9"
   },
   "outputs": [],
   "source": [
    "results_df = pd.DataFrame(results)\n",
    "results_df.to_csv(f'../results/results_Model{model_name}.csv', index=False)"
   ]
  },
  {
   "cell_type": "code",
   "execution_count": 8,
   "id": "RwsZRSb828Ua",
   "metadata": {
    "colab": {
     "base_uri": "https://localhost:8080/",
     "height": 472
    },
    "id": "RwsZRSb828Ua",
    "outputId": "57cc0fe4-2411-44ed-cfc2-f41e6c682819"
   },
   "outputs": [
    {
     "data": {
      "image/png": "[encoded data removed]",
      "text/plain": [
       "<Figure size 640x480 with 1 Axes>"
      ]
     },
     "metadata": {},
     "output_type": "display_data"
    }
   ],
   "source": [
    "# Generate loss curve\n",
    "# Train loss\n",
    "sns.lineplot(data=results_df, x='Epoch', y='Train Loss')\n",
    "# Test loss\n",
    "sns.lineplot(data=results_df, x='Epoch', y='Test Loss')\n",
    "plt.xlabel('Epoch')\n",
    "plt.ylabel('Loss')\n",
    "plt.title('Loss curve')\n",
    "plt.yscale('log')\n",
    "plt.show()"
   ]
  },
  {
   "cell_type": "code",
   "execution_count": 9,
   "id": "QrRBTsA5vAs1",
   "metadata": {
    "colab": {
     "base_uri": "https://localhost:8080/"
    },
    "id": "QrRBTsA5vAs1",
    "outputId": "afffeb4f-f62c-4c48-cf69-c7cb5eb06f55"
   },
   "outputs": [
    {
     "data": {
      "image/png": "[encoded data removed]",
      "text/plain": [
       "<Figure size 640x480 with 1 Axes>"
      ]
     },
     "metadata": {},
     "output_type": "display_data"
    }
   ],
   "source": [
    "# Generate evaluation metrics plot\n",
    "sns.lineplot(data=results_df, x='Epoch', y='Precision@k')\n",
    "sns.lineplot(data=results_df, x='Epoch', y='Recall@k')\n",
    "sns.lineplot(data=results_df, x='Epoch', y='MAP@k')\n",
    "sns.lineplot(data=results_df, x='Epoch', y='MRR@k')\n",
    "sns.lineplot(data=results_df, x='Epoch', y='NDCG@k')\n",
    "sns.lineplot(data=results_df, x='Epoch', y='HitRate@k')\n",
    "plt.xlabel('Epoch')\n",
    "plt.ylabel('Performance')\n",
    "plt.title('Performance metrics')\n",
    "plt.show()"
   ]
  }
 ],
 "metadata": {
  "colab": {
   "collapsed_sections": [
    "ISUVX4hvFMKM",
    "aZQQpLqCFeGK",
    "2cXJ5OO10uxX"
   ],
   "name": "Collaboration Recommender 1.0 (Homogeneous).ipynb",
   "provenance": []
  },
  "kernelspec": {
   "display_name": "Python 3 (ipykernel)",
   "language": "python",
   "name": "python3"
  },
  "language_info": {
   "codemirror_mode": {
    "name": "ipython",
    "version": 3
   },
   "file_extension": ".py",
   "mimetype": "text/x-python",
   "name": "python",
   "nbconvert_exporter": "python",
   "pygments_lexer": "ipython3",
   "version": "3.12.3"
  }
 },
 "nbformat": 4,
 "nbformat_minor": 5
}
