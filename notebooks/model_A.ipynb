{
 "cells": [
  {
   "cell_type": "markdown",
   "id": "zYPnKxIhFGVJ",
   "metadata": {
    "id": "zYPnKxIhFGVJ"
   },
   "source": [
    "# Model A \n",
    "\n",
    "This is a script showing results of **model A** in the ablation studies. The model is built using the following configuration:\n",
    "\n",
    "- **Backbone:** LightGCN\n",
    "- **Graph type:** Homogeneous\n",
    "- **Loss function:** Bayesian personalized ranking\n",
    "- **Embeddings used:** No\n",
    "- **Research trends used:** No\n",
    "- **Lead author flag used:** No\n",
    "\n",
    "*Primarily, the model is used as a baseline without using article and author contextual embeddings.*"
   ]
  },
  {
   "cell_type": "markdown",
   "id": "x7McZwR_FRta",
   "metadata": {
    "id": "x7McZwR_FRta"
   },
   "source": [
    "## **Setting up environment**\n",
    "\n",
    "---\n",
    "\n"
   ]
  },
  {
   "cell_type": "markdown",
   "id": "cD8tnTfC60X2",
   "metadata": {
    "id": "cD8tnTfC60X2"
   },
   "source": [
    "### Loading libraries"
   ]
  },
  {
   "cell_type": "code",
   "execution_count": 27,
   "id": "5okfWmvKEI3Z",
   "metadata": {
    "ExecuteTime": {
     "end_time": "2024-12-13T17:47:50.264742Z",
     "start_time": "2024-12-13T17:47:50.256254Z"
    },
    "id": "5okfWmvKEI3Z"
   },
   "outputs": [],
   "source": [
    "import os\n",
    "import sys\n",
    "\n",
    "sys.path.insert(0, os.path.abspath(\"..\"))\n",
    "\n",
    "import torch\n",
    "import pickle\n",
    "import pandas as pd\n",
    "import seaborn as sns\n",
    "import matplotlib.pyplot as plt\n",
    "\n",
    "from typing import Optional\n",
    "\n",
    "from torch import Tensor\n",
    "from torch.optim import Optimizer\n",
    "from torch_geometric.typing import Adj, OptTensor\n",
    "from torch_geometric.nn.models.lightgcn import LightGCN\n",
    "from torch.optim.lr_scheduler import LRScheduler\n",
    "\n",
    "from util.homogeneous.dataset import DatasetEuCoHM\n",
    "from util.homogeneous.model import ModelEuCoHM\n",
    "from util.homogeneous.train import (\n",
    "    train,\n",
    "    test,\n",
    "    evaluate,\n",
    "    get_results\n",
    ")"
   ]
  },
  {
   "cell_type": "markdown",
   "id": "bQ_xqBiFn97Q",
   "metadata": {
    "id": "bQ_xqBiFn97Q"
   },
   "source": [
    "### Global variables"
   ]
  },
  {
   "cell_type": "code",
   "execution_count": 28,
   "id": "9r1K6ezsn97Q",
   "metadata": {
    "ExecuteTime": {
     "end_time": "2024-12-13T21:23:20.128019Z",
     "start_time": "2024-12-13T21:23:20.037264Z"
    },
    "id": "9r1K6ezsn97Q"
   },
   "outputs": [],
   "source": [
    "# Model name\n",
    "model_name = 'A'\n",
    "# Dataset save filepath\n",
    "dataset_save_filepath = '../data/dataset_homogeneous.pkl'\n",
    "# Device name\n",
    "device = 'cpu'\n",
    "\n",
    "# Model configuration\n",
    "model_config = dict(\n",
    "    hidden_channels=64,\n",
    "    learning_rate=1e-2,\n",
    "    num_layers=2,\n",
    "    num_epochs=50,\n",
    "    num_recommendations=10\n",
    ")\n",
    "# Set seaborn theme\n",
    "sns.set_theme(style=\"whitegrid\", palette=\"pastel\")"
   ]
  },
  {
   "cell_type": "markdown",
   "id": "ISUVX4hvFMKM",
   "metadata": {
    "id": "ISUVX4hvFMKM"
   },
   "source": [
    "## Loading dataset\n",
    "\n",
    "---\n"
   ]
  },
  {
   "cell_type": "code",
   "execution_count": 3,
   "id": "3b608e9d-243a-46aa-a261-7ae3464093db",
   "metadata": {},
   "outputs": [
    {
     "name": "stderr",
     "output_type": "stream",
     "text": [
      "/home/eucollab/eutopia-colllaboration/ecr-recommender/.venv/lib/python3.12/site-packages/torch/storage.py:414: FutureWarning: You are using `torch.load` with `weights_only=False` (the current default value), which uses the default pickle module implicitly. It is possible to construct malicious pickle data which will execute arbitrary code during unpickling (See https://github.com/pytorch/pytorch/blob/main/SECURITY.md#untrusted-models for more details). In a future release, the default value for `weights_only` will be flipped to `True`. This limits the functions that could be executed during unpickling. Arbitrary objects will no longer be allowed to be loaded via this mode unless they are explicitly allowlisted by the user via `torch.serialization.add_safe_globals`. We recommend you start setting `weights_only=True` for any use case where you don't have full control of the loaded file. Please open an issue on GitHub for any issues related to this experimental feature.\n",
      "  return torch.load(io.BytesIO(b))\n"
     ]
    }
   ],
   "source": [
    "# Add the object as a safe global to shut down warning\n",
    "torch.serialization.add_safe_globals([DatasetEuCoHM])\n",
    "# Open the dataset file and save it to variable\n",
    "with open(dataset_save_filepath, 'rb') as file:\n",
    "    dataset: DatasetEuCoHM = pickle.load(file)\n",
    "\n",
    "data = dataset.data\n",
    "author_id_map = dataset.author_id_map\n",
    "author_node_id_map = dataset.author_node_id_map"
   ]
  },
  {
   "cell_type": "markdown",
   "id": "04vUews17zy8",
   "metadata": {
    "id": "04vUews17zy8"
   },
   "source": [
    "## Model training\n",
    "\n",
    "\n",
    "---\n",
    "\n"
   ]
  },
  {
   "cell_type": "markdown",
   "id": "IMCtMQz00wC_",
   "metadata": {
    "id": "IMCtMQz00wC_"
   },
   "source": [
    "### Model definition"
   ]
  },
  {
   "cell_type": "code",
   "execution_count": 24,
   "id": "TJaBxQX_7_3D",
   "metadata": {
    "ExecuteTime": {
     "end_time": "2024-12-13T21:28:22.411435Z",
     "start_time": "2024-12-13T21:28:22.248727Z"
    },
    "id": "TJaBxQX_7_3D"
   },
   "outputs": [],
   "source": [
    "class ModelEuCoA(ModelEuCoHM):\n",
    "    def __init__(self,\n",
    "                 input_channels: int,\n",
    "                 hidden_channels: int,\n",
    "                 num_layers: int,\n",
    "                 num_recommendations: int,\n",
    "                 author_node_id_map: dict,\n",
    "                 author_id_map: dict,\n",
    "                 device: str = 'cpu'):\n",
    "        super().__init__(\n",
    "            input_channels=input_channels,\n",
    "            hidden_channels=hidden_channels,\n",
    "            num_layers=num_layers,\n",
    "            num_recommendations=num_recommendations,\n",
    "            author_node_id_map=author_node_id_map,\n",
    "            author_id_map=author_id_map,\n",
    "            device=device\n",
    "        )\n",
    "        # Setup LightGCN baseline\n",
    "        self.model = LightGCN(num_nodes=input_channels,\n",
    "                              embedding_dim=hidden_channels,\n",
    "                              num_layers=self.num_layers).to(device)\n",
    "\n",
    "    def get_embedding(self,\n",
    "                      x: Tensor,\n",
    "                      edge_index: Adj) -> Tensor:\n",
    "        return self.model.get_embedding(edge_index=edge_index)\n",
    "\n",
    "    def forward(self,\n",
    "                x: Tensor,\n",
    "                edge_index: Adj,\n",
    "                edge_label_index: OptTensor = None) -> Tensor:\n",
    "        return self.model(edge_index, edge_label_index)\n",
    "\n",
    "    def recommendation_loss(self,\n",
    "                            x: Tensor,\n",
    "                            edge_index: Adj,\n",
    "                            pos_edge_rank: Tensor,\n",
    "                            neg_edge_rank: Tensor,\n",
    "                            node_id: Optional[Tensor] = None,\n",
    "                            lambda_reg: float = 1e-4) -> Tensor:\n",
    "        return self.model.recommendation_loss(pos_edge_rank=pos_edge_rank,\n",
    "                                              neg_edge_rank=neg_edge_rank,\n",
    "                                              node_id=node_id)"
   ]
  },
  {
   "cell_type": "markdown",
   "id": "9XkKmZJC06IZ",
   "metadata": {
    "id": "9XkKmZJC06IZ"
   },
   "source": [
    "### Training the model"
   ]
  },
  {
   "cell_type": "code",
   "execution_count": 25,
   "id": "b4304b1f-ce07-411d-abc3-43011dd3a83b",
   "metadata": {},
   "outputs": [],
   "source": [
    "# Initialize the model\n",
    "model = ModelEuCoA(\n",
    "    input_channels=data.num_nodes,\n",
    "    hidden_channels=model_config['hidden_channels'],\n",
    "    num_recommendations=model_config['num_recommendations'],\n",
    "    num_layers=model_config['num_layers'],\n",
    "    author_node_id_map=author_node_id_map,\n",
    "    author_id_map=author_id_map\n",
    ").to(device)\n",
    "\n",
    "# Transfer to device\n",
    "data = data.to(device)\n",
    "\n",
    "# Initialize the optimizer\n",
    "optimizer: Optimizer = torch.optim.Adam(\n",
    "    params=model.parameters(),\n",
    "    lr=model_config['learning_rate']\n",
    ")\n",
    "\n",
    "# Initialize the scheduler\n",
    "scheduler: LRScheduler = torch.optim.lr_scheduler.ReduceLROnPlateau(\n",
    "    optimizer=optimizer,\n",
    "    mode='min',\n",
    "    factor=0.5,\n",
    "    patience=10\n",
    ")"
   ]
  },
  {
   "cell_type": "code",
   "execution_count": 26,
   "id": "379e5e3ea82af758",
   "metadata": {
    "ExecuteTime": {
     "end_time": "2024-12-13T21:30:55.180060Z",
     "start_time": "2024-12-13T21:30:52.430863Z"
    }
   },
   "outputs": [
    {
     "name": "stdout",
     "output_type": "stream",
     "text": [
      "Epoch 1, train loss: 0.6931, test loss: 0.6930, precision@k: 0.0186, recall@k: 0.0589, MAP@k: 0.0269, MRR@k: 0.0486, NDCG@k: 0.0416, HitRate@k: 0.1112\n",
      "Epoch 2, train loss: 0.6911, test loss: 0.6927, precision@k: 0.0198, recall@k: 0.0645, MAP@k: 0.0303, MRR@k: 0.0546, NDCG@k: 0.0462, HitRate@k: 0.1210\n",
      "Epoch 3, train loss: 0.6858, test loss: 0.6920, precision@k: 0.0200, recall@k: 0.0652, MAP@k: 0.0310, MRR@k: 0.0554, NDCG@k: 0.0469, HitRate@k: 0.1223\n",
      "Epoch 4, train loss: 0.6763, test loss: 0.6909, precision@k: 0.0199, recall@k: 0.0645, MAP@k: 0.0310, MRR@k: 0.0556, NDCG@k: 0.0468, HitRate@k: 0.1214\n",
      "Epoch 5, train loss: 0.6621, test loss: 0.6895, precision@k: 0.0199, recall@k: 0.0645, MAP@k: 0.0308, MRR@k: 0.0558, NDCG@k: 0.0467, HitRate@k: 0.1219\n",
      "Epoch 6, train loss: 0.6431, test loss: 0.6877, precision@k: 0.0196, recall@k: 0.0641, MAP@k: 0.0304, MRR@k: 0.0551, NDCG@k: 0.0462, HitRate@k: 0.1211\n",
      "Epoch 7, train loss: 0.6191, test loss: 0.6855, precision@k: 0.0195, recall@k: 0.0639, MAP@k: 0.0302, MRR@k: 0.0549, NDCG@k: 0.0460, HitRate@k: 0.1208\n",
      "Epoch 8, train loss: 0.5906, test loss: 0.6829, precision@k: 0.0194, recall@k: 0.0636, MAP@k: 0.0300, MRR@k: 0.0547, NDCG@k: 0.0458, HitRate@k: 0.1206\n",
      "Epoch 9, train loss: 0.5576, test loss: 0.6799, precision@k: 0.0194, recall@k: 0.0635, MAP@k: 0.0300, MRR@k: 0.0548, NDCG@k: 0.0457, HitRate@k: 0.1200\n",
      "Epoch 10, train loss: 0.5209, test loss: 0.6767, precision@k: 0.0193, recall@k: 0.0636, MAP@k: 0.0298, MRR@k: 0.0546, NDCG@k: 0.0456, HitRate@k: 0.1201\n",
      "Epoch 11, train loss: 0.4811, test loss: 0.6731, precision@k: 0.0192, recall@k: 0.0634, MAP@k: 0.0297, MRR@k: 0.0544, NDCG@k: 0.0454, HitRate@k: 0.1200\n",
      "Epoch 12, train loss: 0.4390, test loss: 0.6693, precision@k: 0.0192, recall@k: 0.0633, MAP@k: 0.0297, MRR@k: 0.0546, NDCG@k: 0.0454, HitRate@k: 0.1197\n",
      "Epoch 13, train loss: 0.3959, test loss: 0.6654, precision@k: 0.0191, recall@k: 0.0631, MAP@k: 0.0296, MRR@k: 0.0542, NDCG@k: 0.0452, HitRate@k: 0.1191\n",
      "Epoch 14, train loss: 0.3525, test loss: 0.6615, precision@k: 0.0191, recall@k: 0.0630, MAP@k: 0.0295, MRR@k: 0.0540, NDCG@k: 0.0451, HitRate@k: 0.1190\n",
      "Epoch 15, train loss: 0.3102, test loss: 0.6576, precision@k: 0.0190, recall@k: 0.0627, MAP@k: 0.0293, MRR@k: 0.0537, NDCG@k: 0.0449, HitRate@k: 0.1187\n",
      "Epoch 16, train loss: 0.2696, test loss: 0.6538, precision@k: 0.0189, recall@k: 0.0627, MAP@k: 0.0294, MRR@k: 0.0537, NDCG@k: 0.0449, HitRate@k: 0.1186\n",
      "Epoch 17, train loss: 0.2318, test loss: 0.6503, precision@k: 0.0189, recall@k: 0.0625, MAP@k: 0.0293, MRR@k: 0.0535, NDCG@k: 0.0448, HitRate@k: 0.1187\n",
      "Epoch 18, train loss: 0.1972, test loss: 0.6470, precision@k: 0.0190, recall@k: 0.0628, MAP@k: 0.0293, MRR@k: 0.0535, NDCG@k: 0.0448, HitRate@k: 0.1191\n",
      "Epoch 19, train loss: 0.1664, test loss: 0.6441, precision@k: 0.0189, recall@k: 0.0627, MAP@k: 0.0293, MRR@k: 0.0535, NDCG@k: 0.0448, HitRate@k: 0.1187\n",
      "Epoch 20, train loss: 0.1395, test loss: 0.6415, precision@k: 0.0189, recall@k: 0.0626, MAP@k: 0.0293, MRR@k: 0.0535, NDCG@k: 0.0448, HitRate@k: 0.1186\n",
      "Epoch 21, train loss: 0.1162, test loss: 0.6392, precision@k: 0.0189, recall@k: 0.0626, MAP@k: 0.0293, MRR@k: 0.0535, NDCG@k: 0.0448, HitRate@k: 0.1189\n",
      "Epoch 22, train loss: 0.0966, test loss: 0.6374, precision@k: 0.0188, recall@k: 0.0626, MAP@k: 0.0293, MRR@k: 0.0536, NDCG@k: 0.0448, HitRate@k: 0.1186\n",
      "Epoch 23, train loss: 0.0802, test loss: 0.6359, precision@k: 0.0188, recall@k: 0.0628, MAP@k: 0.0294, MRR@k: 0.0536, NDCG@k: 0.0449, HitRate@k: 0.1189\n",
      "Epoch 24, train loss: 0.0665, test loss: 0.6347, precision@k: 0.0188, recall@k: 0.0629, MAP@k: 0.0294, MRR@k: 0.0537, NDCG@k: 0.0450, HitRate@k: 0.1191\n",
      "Epoch 25, train loss: 0.0554, test loss: 0.6339, precision@k: 0.0188, recall@k: 0.0629, MAP@k: 0.0294, MRR@k: 0.0538, NDCG@k: 0.0450, HitRate@k: 0.1192\n",
      "Epoch 26, train loss: 0.0462, test loss: 0.6333, precision@k: 0.0188, recall@k: 0.0630, MAP@k: 0.0294, MRR@k: 0.0538, NDCG@k: 0.0450, HitRate@k: 0.1196\n",
      "Epoch 27, train loss: 0.0388, test loss: 0.6329, precision@k: 0.0188, recall@k: 0.0631, MAP@k: 0.0294, MRR@k: 0.0538, NDCG@k: 0.0450, HitRate@k: 0.1195\n",
      "Epoch 28, train loss: 0.0326, test loss: 0.6327, precision@k: 0.0188, recall@k: 0.0631, MAP@k: 0.0295, MRR@k: 0.0539, NDCG@k: 0.0451, HitRate@k: 0.1196\n",
      "Epoch 29, train loss: 0.0277, test loss: 0.6326, precision@k: 0.0189, recall@k: 0.0632, MAP@k: 0.0295, MRR@k: 0.0538, NDCG@k: 0.0451, HitRate@k: 0.1196\n",
      "Epoch 30, train loss: 0.0237, test loss: 0.6327, precision@k: 0.0189, recall@k: 0.0634, MAP@k: 0.0295, MRR@k: 0.0540, NDCG@k: 0.0452, HitRate@k: 0.1199\n",
      "Epoch 31, train loss: 0.0204, test loss: 0.6329, precision@k: 0.0188, recall@k: 0.0633, MAP@k: 0.0295, MRR@k: 0.0540, NDCG@k: 0.0452, HitRate@k: 0.1196\n",
      "Epoch 32, train loss: 0.0177, test loss: 0.6331, precision@k: 0.0188, recall@k: 0.0632, MAP@k: 0.0296, MRR@k: 0.0541, NDCG@k: 0.0452, HitRate@k: 0.1196\n",
      "Epoch 33, train loss: 0.0155, test loss: 0.6335, precision@k: 0.0188, recall@k: 0.0635, MAP@k: 0.0296, MRR@k: 0.0541, NDCG@k: 0.0453, HitRate@k: 0.1202\n",
      "Epoch 34, train loss: 0.0135, test loss: 0.6338, precision@k: 0.0189, recall@k: 0.0638, MAP@k: 0.0297, MRR@k: 0.0542, NDCG@k: 0.0454, HitRate@k: 0.1207\n",
      "Epoch 35, train loss: 0.0121, test loss: 0.6342, precision@k: 0.0188, recall@k: 0.0636, MAP@k: 0.0297, MRR@k: 0.0542, NDCG@k: 0.0454, HitRate@k: 0.1205\n",
      "Epoch 36, train loss: 0.0107, test loss: 0.6347, precision@k: 0.0187, recall@k: 0.0635, MAP@k: 0.0296, MRR@k: 0.0542, NDCG@k: 0.0453, HitRate@k: 0.1203\n",
      "Epoch 37, train loss: 0.0096, test loss: 0.6351, precision@k: 0.0187, recall@k: 0.0631, MAP@k: 0.0296, MRR@k: 0.0542, NDCG@k: 0.0452, HitRate@k: 0.1198\n",
      "Epoch 38, train loss: 0.0087, test loss: 0.6356, precision@k: 0.0187, recall@k: 0.0632, MAP@k: 0.0296, MRR@k: 0.0541, NDCG@k: 0.0452, HitRate@k: 0.1199\n",
      "Epoch 39, train loss: 0.0079, test loss: 0.6360, precision@k: 0.0187, recall@k: 0.0634, MAP@k: 0.0296, MRR@k: 0.0542, NDCG@k: 0.0452, HitRate@k: 0.1203\n",
      "Epoch 40, train loss: 0.0073, test loss: 0.6362, precision@k: 0.0187, recall@k: 0.0635, MAP@k: 0.0295, MRR@k: 0.0541, NDCG@k: 0.0452, HitRate@k: 0.1204\n",
      "Epoch 41, train loss: 0.0070, test loss: 0.6364, precision@k: 0.0188, recall@k: 0.0637, MAP@k: 0.0295, MRR@k: 0.0541, NDCG@k: 0.0453, HitRate@k: 0.1206\n",
      "Epoch 42, train loss: 0.0067, test loss: 0.6366, precision@k: 0.0188, recall@k: 0.0637, MAP@k: 0.0295, MRR@k: 0.0541, NDCG@k: 0.0452, HitRate@k: 0.1207\n",
      "Epoch 43, train loss: 0.0065, test loss: 0.6368, precision@k: 0.0188, recall@k: 0.0637, MAP@k: 0.0295, MRR@k: 0.0541, NDCG@k: 0.0452, HitRate@k: 0.1207\n",
      "Epoch 44, train loss: 0.0062, test loss: 0.6370, precision@k: 0.0188, recall@k: 0.0637, MAP@k: 0.0294, MRR@k: 0.0540, NDCG@k: 0.0452, HitRate@k: 0.1206\n",
      "Epoch 45, train loss: 0.0060, test loss: 0.6372, precision@k: 0.0188, recall@k: 0.0637, MAP@k: 0.0294, MRR@k: 0.0540, NDCG@k: 0.0452, HitRate@k: 0.1206\n",
      "Epoch 46, train loss: 0.0058, test loss: 0.6373, precision@k: 0.0188, recall@k: 0.0637, MAP@k: 0.0294, MRR@k: 0.0540, NDCG@k: 0.0452, HitRate@k: 0.1207\n",
      "Epoch 47, train loss: 0.0056, test loss: 0.6375, precision@k: 0.0188, recall@k: 0.0637, MAP@k: 0.0294, MRR@k: 0.0541, NDCG@k: 0.0452, HitRate@k: 0.1208\n",
      "Epoch 48, train loss: 0.0055, test loss: 0.6376, precision@k: 0.0188, recall@k: 0.0637, MAP@k: 0.0294, MRR@k: 0.0541, NDCG@k: 0.0452, HitRate@k: 0.1208\n",
      "Epoch 49, train loss: 0.0053, test loss: 0.6378, precision@k: 0.0187, recall@k: 0.0637, MAP@k: 0.0294, MRR@k: 0.0540, NDCG@k: 0.0452, HitRate@k: 0.1206\n",
      "Epoch 50, train loss: 0.0053, test loss: 0.6379, precision@k: 0.0187, recall@k: 0.0636, MAP@k: 0.0294, MRR@k: 0.0540, NDCG@k: 0.0452, HitRate@k: 0.1205\n"
     ]
    }
   ],
   "source": [
    "results: list = list()\n",
    "for epoch in range(1, model_config['num_epochs'] + 1):\n",
    "    # ------ Train\n",
    "    train_loss: float = train(\n",
    "        model=model,\n",
    "        data=data,\n",
    "        optimizer=optimizer\n",
    "    )\n",
    "    # ------ Test\n",
    "    test_loss: float = test(\n",
    "        model=model,\n",
    "        data=data\n",
    "    )\n",
    "    scheduler.step(test_loss)\n",
    "    # ------ Evaluate\n",
    "    evaluation_results: dict = evaluate(\n",
    "        k=model_config['num_recommendations'],\n",
    "        model=model,\n",
    "        data=data\n",
    "    )\n",
    "\n",
    "    # Save results\n",
    "    epoch_result = get_results(\n",
    "        epoch=epoch,\n",
    "        train_loss=train_loss,\n",
    "        test_loss=test_loss,\n",
    "        evaluation_results=evaluation_results\n",
    "    )\n",
    "    results.append(epoch_result)"
   ]
  },
  {
   "cell_type": "markdown",
   "id": "CIzjEI3R-eY-",
   "metadata": {
    "id": "CIzjEI3R-eY-"
   },
   "source": [
    "### Model evaluation"
   ]
  },
  {
   "cell_type": "code",
   "execution_count": 31,
   "id": "1f9de13d-b349-482c-bf40-1d6a41223ab4",
   "metadata": {},
   "outputs": [],
   "source": [
    "results_df = pd.DataFrame(results)\n",
    "results_df.to_csv(f'../results/results_Model{model_name}.csv', index=False)"
   ]
  },
  {
   "cell_type": "code",
   "execution_count": 18,
   "id": "JHmrYAoF-dWh",
   "metadata": {
    "colab": {
     "base_uri": "https://localhost:8080/",
     "height": 472
    },
    "id": "JHmrYAoF-dWh",
    "outputId": "51b44a7b-4d40-4c23-8009-d3af553ed2e9"
   },
   "outputs": [
    {
     "data": {
      "image/png": "[encoded data removed]",
      "text/plain": [
       "<Figure size 640x480 with 1 Axes>"
      ]
     },
     "metadata": {},
     "output_type": "display_data"
    }
   ],
   "source": [
    "# Generate loss curve\n",
    "# Train loss\n",
    "sns.lineplot(data=results_df, x='Epoch', y='Train Loss')\n",
    "# Test loss\n",
    "sns.lineplot(data=results_df, x='Epoch', y='Test Loss')\n",
    "plt.xlabel('Epoch')\n",
    "plt.ylabel('Loss')\n",
    "plt.title('Loss curve')\n",
    "plt.yscale('log')\n",
    "plt.show()"
   ]
  },
  {
   "cell_type": "code",
   "execution_count": 30,
   "id": "RwsZRSb828Ua",
   "metadata": {
    "colab": {
     "base_uri": "https://localhost:8080/",
     "height": 472
    },
    "id": "RwsZRSb828Ua",
    "outputId": "57cc0fe4-2411-44ed-cfc2-f41e6c682819"
   },
   "outputs": [
    {
     "data": {
      "image/png": "[encoded data removed]",
      "text/plain": [
       "<Figure size 640x480 with 1 Axes>"
      ]
     },
     "metadata": {},
     "output_type": "display_data"
    }
   ],
   "source": [
    "# Generate evaluation metrics plot\n",
    "sns.lineplot(data=results_df, x='Epoch', y='Precision@k')\n",
    "sns.lineplot(data=results_df, x='Epoch', y='Recall@k')\n",
    "sns.lineplot(data=results_df, x='Epoch', y='MAP@k')\n",
    "sns.lineplot(data=results_df, x='Epoch', y='MRR@k')\n",
    "sns.lineplot(data=results_df, x='Epoch', y='NDCG@k')\n",
    "sns.lineplot(data=results_df, x='Epoch', y='HitRate@k')\n",
    "plt.xlabel('Epoch')\n",
    "plt.ylabel('Performance')\n",
    "plt.title('Performance metrics')\n",
    "plt.show()\n"
   ]
  }
 ],
 "metadata": {
  "colab": {
   "collapsed_sections": [
    "ISUVX4hvFMKM",
    "aZQQpLqCFeGK",
    "2cXJ5OO10uxX"
   ],
   "name": "Collaboration Recommender 1.0 (Homogeneous).ipynb",
   "provenance": []
  },
  "kernelspec": {
   "display_name": "Python 3 (ipykernel)",
   "language": "python",
   "name": "python3"
  },
  "language_info": {
   "codemirror_mode": {
    "name": "ipython",
    "version": 3
   },
   "file_extension": ".py",
   "mimetype": "text/x-python",
   "name": "python",
   "nbconvert_exporter": "python",
   "pygments_lexer": "ipython3",
   "version": "3.12.3"
  }
 },
 "nbformat": 4,
 "nbformat_minor": 5
}
