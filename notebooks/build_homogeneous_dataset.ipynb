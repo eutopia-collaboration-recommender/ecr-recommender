{
 "cells": [
  {
   "cell_type": "markdown",
   "id": "zYPnKxIhFGVJ",
   "metadata": {
    "id": "zYPnKxIhFGVJ"
   },
   "source": [
    "# Build homogeneous dataset"
   ]
  },
  {
   "cell_type": "markdown",
   "id": "x7McZwR_FRta",
   "metadata": {
    "id": "x7McZwR_FRta"
   },
   "source": [
    "## Setting up environment\n",
    "\n",
    "---\n",
    "\n"
   ]
  },
  {
   "cell_type": "markdown",
   "id": "jX5i4Qjs7MIl",
   "metadata": {
    "id": "jX5i4Qjs7MIl"
   },
   "source": [
    "### Loading libraries"
   ]
  },
  {
   "cell_type": "code",
   "execution_count": 1,
   "id": "5okfWmvKEI3Z",
   "metadata": {
    "id": "5okfWmvKEI3Z"
   },
   "outputs": [],
   "source": [
    "import sys\n",
    "import os\n",
    "\n",
    "sys.path.insert(0, os.path.abspath(\"..\"))\n",
    "\n",
    "import pickle\n",
    "\n",
    "from torch_geometric.data import Data\n",
    "from box import Box\n",
    "\n",
    "from util.postgres import create_sqlalchemy_engine\n",
    "from util.homogeneous.dataset import DatasetEuCoHM, assert_bidirectional_edges"
   ]
  },
  {
   "cell_type": "markdown",
   "id": "bQ_xqBiFn97Q",
   "metadata": {
    "id": "bQ_xqBiFn97Q"
   },
   "source": [
    "### Global variables"
   ]
  },
  {
   "cell_type": "code",
   "execution_count": 2,
   "id": "9r1K6ezsn97Q",
   "metadata": {
    "id": "9r1K6ezsn97Q"
   },
   "outputs": [],
   "source": [
    "# -------------------- GLOBAL VARIABLES --------------------\n",
    "PATH_TO_CONFIG_FILE = '../config.yaml'\n",
    "\n",
    "# -------------------- LOAD CONFIGURATION --------------------\n",
    "# Load the configuration file\n",
    "config = Box.from_yaml(filename=PATH_TO_CONFIG_FILE)\n",
    "\n",
    "num_train = 0.7             # Percentage of data used for training\n",
    "\n",
    "pg_engine = create_sqlalchemy_engine(\n",
    "    username=config.POSTGRES.USERNAME,\n",
    "    password=config.POSTGRES.PASSWORD,\n",
    "    host=config.POSTGRES.HOST,\n",
    "    port=config.POSTGRES.PORT,\n",
    "    database=config.POSTGRES.DATABASE,\n",
    "    schema=config.POSTGRES.SCHEMA\n",
    ")"
   ]
  },
  {
   "cell_type": "markdown",
   "id": "ISUVX4hvFMKM",
   "metadata": {
    "id": "ISUVX4hvFMKM"
   },
   "source": [
    "## Data preparation\n",
    "\n",
    "---\n",
    "\n"
   ]
  },
  {
   "cell_type": "code",
   "execution_count": 3,
   "id": "6506c6d2-2348-413b-b026-85442cf1398d",
   "metadata": {},
   "outputs": [],
   "source": [
    "def unit_testing(data):\n",
    "    # Test: check that the number of elements in the positive edge index equals to the number of elements in the negative edge index\n",
    "    assert data.test_pos_edge_index.numel() == data.test_neg_edge_index.numel()\n",
    "    \n",
    "    # Test: check that all positive edges are bidirectional\n",
    "    assert_bidirectional_edges(edges=data.train_pos_edge_index)\n",
    "    assert_bidirectional_edges(edges=data.test_pos_edge_index)\n",
    "    print('All tests passed')\n",
    "\n",
    "def save_dataset(dataset):\n",
    "    dataset_save_filepath = f'../data/{dataset.get_dataset_name()}.pkl'\n",
    "    # Before saving the dataset, we need to close the engine to connect to Postgres DB.\n",
    "    dataset.close_engine()\n",
    "    # Save the dataset\n",
    "    with open(dataset_save_filepath, 'wb') as output:\n",
    "        pickle.dump(dataset, output, pickle.HIGHEST_PROTOCOL)\n",
    "        print(f'Dataset saved to {dataset_save_filepath}')\n",
    "\n",
    "def build_dataset(use_periodical_embedding_decay: bool,\n",
    "                  use_top_keywords: bool,\n",
    "                  num_train: float):\n",
    "    # Build the homogeneous graph\n",
    "    data: Data\n",
    "    author_node_id_map: dict\n",
    "    author_id_map: dict\n",
    "    dataset: DatasetEuCoHM = DatasetEuCoHM(\n",
    "        pg_engine=pg_engine,\n",
    "        num_train=num_train,\n",
    "        use_periodical_embedding_decay=use_periodical_embedding_decay,\n",
    "        use_top_keywords=use_top_keywords\n",
    "    )\n",
    "    data, author_node_id_map, author_id_map = dataset.build_homogeneous_graph()\n",
    "    return dataset, data, author_node_id_map, author_id_map"
   ]
  },
  {
   "cell_type": "code",
   "execution_count": 4,
   "id": "81871ab4-e87f-42c5-b993-b0f3181d2614",
   "metadata": {},
   "outputs": [
    {
     "name": "stdout",
     "output_type": "stream",
     "text": [
      "Processing dataset configuration {'use_periodical_embedding_decay': True, 'use_top_keywords': False, 'num_train': 1.0}...\n",
      "Querying n-th time percentile...\n",
      "Querying co-authorship edge data...\n",
      "Querying author nodes...\n",
      "All tests passed\n",
      "Dataset saved to ../data/dataset_homogeneous_periodical_decay_full.pkl\n"
     ]
    }
   ],
   "source": [
    "# Uncomment the ones you need to rebuild\n",
    "dataset_configurations = [\n",
    "    # {'use_periodical_embedding_decay': False, 'use_top_keywords': False, 'num_train': num_train},\n",
    "    # {'use_periodical_embedding_decay': True, 'use_top_keywords': False, 'num_train': num_train},\n",
    "    # {'use_periodical_embedding_decay': False, 'use_top_keywords': True, 'num_train': num_train},\n",
    "    # {'use_periodical_embedding_decay': True, 'use_top_keywords': True, 'num_train': num_train},\n",
    "    {'use_periodical_embedding_decay': True, 'use_top_keywords': False, 'num_train': 1.0},\n",
    "]\n",
    "\n",
    "for conf in dataset_configurations:\n",
    "    print(f'Processing dataset configuration {conf}...')\n",
    "    # Building dataset\n",
    "    dataset, data, author_node_id_map, author_id_map = build_dataset(\n",
    "        use_periodical_embedding_decay=conf['use_periodical_embedding_decay'],\n",
    "        use_top_keywords=conf['use_top_keywords'],\n",
    "        num_train=conf['num_train']\n",
    "    )\n",
    "    # Unit testing\n",
    "    unit_testing(data)\n",
    "\n",
    "    # Save dataset\n",
    "    save_dataset(dataset)"
   ]
  }
 ],
 "metadata": {
  "colab": {
   "name": "Collaboration Recommender 2.0 (Heterogeneous)",
   "provenance": []
  },
  "kernelspec": {
   "display_name": "Python 3 (ipykernel)",
   "language": "python",
   "name": "python3"
  },
  "language_info": {
   "codemirror_mode": {
    "name": "ipython",
    "version": 3
   },
   "file_extension": ".py",
   "mimetype": "text/x-python",
   "name": "python",
   "nbconvert_exporter": "python",
   "pygments_lexer": "ipython3",
   "version": "3.12.3"
  }
 },
 "nbformat": 4,
 "nbformat_minor": 5
}
