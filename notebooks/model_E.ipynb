{
 "cells": [
  {
   "cell_type": "markdown",
   "id": "zYPnKxIhFGVJ",
   "metadata": {
    "id": "zYPnKxIhFGVJ"
   },
   "source": [
    "# Model E\n",
    "\n",
    "This is a script showing results of **model E** in the ablation studies. The model is built using the following configuration:\n",
    "\n",
    "- **Backbone:** GATv2\n",
    "- **Graph type:** Homogeneous\n",
    "- **Loss function:** Binary-Cross Entropy with Logits Loss\n",
    "- **Embeddings used:** average\n",
    "- **Keyword popularity used:** No\n",
    "\n",
    "*This model introduces a baseline loss function Binary-Cross Entropy with Logits loss to compare against Bayesian Personalized Ranking on graph attention network backbone.*"
   ]
  },
  {
   "cell_type": "markdown",
   "id": "x7McZwR_FRta",
   "metadata": {
    "id": "x7McZwR_FRta"
   },
   "source": [
    "## **Setting up environment**\n",
    "\n",
    "---\n",
    "\n"
   ]
  },
  {
   "cell_type": "markdown",
   "id": "cD8tnTfC60X2",
   "metadata": {
    "id": "cD8tnTfC60X2"
   },
   "source": [
    "### Loading libraries"
   ]
  },
  {
   "cell_type": "code",
   "execution_count": 1,
   "id": "5okfWmvKEI3Z",
   "metadata": {
    "ExecuteTime": {
     "end_time": "2024-12-13T17:47:50.264742Z",
     "start_time": "2024-12-13T17:47:50.256254Z"
    },
    "id": "5okfWmvKEI3Z"
   },
   "outputs": [],
   "source": [
    "import os\n",
    "import sys\n",
    "\n",
    "sys.path.insert(0, os.path.abspath(\"..\"))\n",
    "\n",
    "import torch\n",
    "import pickle\n",
    "import pandas as pd\n",
    "import seaborn as sns\n",
    "import matplotlib.pyplot as plt\n",
    "\n",
    "from typing import Optional\n",
    "\n",
    "from torch import Tensor\n",
    "from torch.nn import ModuleList\n",
    "import torch.nn.functional as F\n",
    "from torch.optim import Optimizer\n",
    "from torch_geometric.typing import Adj, OptTensor\n",
    "from torch_geometric.nn.conv import GATv2Conv\n",
    "from torch.optim.lr_scheduler import LRScheduler\n",
    "\n",
    "from util.torch_geometric import get_results\n",
    "from util.homogeneous.dataset import DatasetEuCoHM\n",
    "from util.homogeneous.model import ModelEuCoHM\n",
    "from util.homogeneous.train import (\n",
    "    train,\n",
    "    test,\n",
    "    evaluate\n",
    ")"
   ]
  },
  {
   "cell_type": "markdown",
   "id": "bQ_xqBiFn97Q",
   "metadata": {
    "id": "bQ_xqBiFn97Q"
   },
   "source": [
    "### Global variables"
   ]
  },
  {
   "cell_type": "code",
   "execution_count": 2,
   "id": "9r1K6ezsn97Q",
   "metadata": {
    "ExecuteTime": {
     "end_time": "2024-12-13T21:23:20.128019Z",
     "start_time": "2024-12-13T21:23:20.037264Z"
    },
    "id": "9r1K6ezsn97Q"
   },
   "outputs": [],
   "source": [
    "# Model name\n",
    "model_name = 'E'\n",
    "# Dataset save filepath\n",
    "dataset_save_filepath = '../data/dataset_homogeneous_base.pkl'\n",
    "# Device name\n",
    "device = 'cpu'\n",
    "\n",
    "# Model configuration\n",
    "model_config = dict(\n",
    "    hidden_channels=64,\n",
    "    learning_rate=1e-3,\n",
    "    num_layers=4,\n",
    "    num_epochs=50,\n",
    "    num_recommendations=10\n",
    ")\n",
    "# Set seaborn theme\n",
    "sns.set_theme(style=\"whitegrid\", palette=\"pastel\")"
   ]
  },
  {
   "cell_type": "markdown",
   "id": "ISUVX4hvFMKM",
   "metadata": {
    "id": "ISUVX4hvFMKM"
   },
   "source": [
    "## Loading dataset\n",
    "\n",
    "---\n"
   ]
  },
  {
   "cell_type": "code",
   "execution_count": 3,
   "id": "3b608e9d-243a-46aa-a261-7ae3464093db",
   "metadata": {},
   "outputs": [
    {
     "name": "stderr",
     "output_type": "stream",
     "text": [
      "/home/eucollab/eutopia-colllaboration/ecr-recommender/.venv/lib/python3.12/site-packages/torch/storage.py:414: FutureWarning: You are using `torch.load` with `weights_only=False` (the current default value), which uses the default pickle module implicitly. It is possible to construct malicious pickle data which will execute arbitrary code during unpickling (See https://github.com/pytorch/pytorch/blob/main/SECURITY.md#untrusted-models for more details). In a future release, the default value for `weights_only` will be flipped to `True`. This limits the functions that could be executed during unpickling. Arbitrary objects will no longer be allowed to be loaded via this mode unless they are explicitly allowlisted by the user via `torch.serialization.add_safe_globals`. We recommend you start setting `weights_only=True` for any use case where you don't have full control of the loaded file. Please open an issue on GitHub for any issues related to this experimental feature.\n",
      "  return torch.load(io.BytesIO(b))\n"
     ]
    }
   ],
   "source": [
    "# Add the object as a safe global to shut down warning\n",
    "torch.serialization.add_safe_globals([DatasetEuCoHM])\n",
    "# Open the dataset file and save it to variable\n",
    "with open(dataset_save_filepath, 'rb') as file:\n",
    "    dataset: DatasetEuCoHM = pickle.load(file)\n",
    "\n",
    "data = dataset.data\n",
    "author_id_map = dataset.author_id_map\n",
    "author_node_id_map = dataset.author_node_id_map"
   ]
  },
  {
   "cell_type": "markdown",
   "id": "04vUews17zy8",
   "metadata": {
    "id": "04vUews17zy8"
   },
   "source": [
    "## Model training\n",
    "\n",
    "\n",
    "---\n",
    "\n"
   ]
  },
  {
   "cell_type": "markdown",
   "id": "IMCtMQz00wC_",
   "metadata": {
    "id": "IMCtMQz00wC_"
   },
   "source": [
    "### Model definition"
   ]
  },
  {
   "cell_type": "code",
   "execution_count": 4,
   "id": "TJaBxQX_7_3D",
   "metadata": {
    "ExecuteTime": {
     "end_time": "2024-12-13T21:28:22.411435Z",
     "start_time": "2024-12-13T21:28:22.248727Z"
    },
    "id": "TJaBxQX_7_3D"
   },
   "outputs": [],
   "source": [
    "class ModelEuCoE(ModelEuCoHM):\n",
    "    def __init__(self,\n",
    "                 input_channels: int,\n",
    "                 hidden_channels: int,\n",
    "                 num_layers: int,\n",
    "                 num_recommendations: int,\n",
    "                 author_node_id_map: dict,\n",
    "                 author_id_map: dict,\n",
    "                 device: str = 'cpu'):\n",
    "        super().__init__(\n",
    "            input_channels=input_channels,\n",
    "            hidden_channels=hidden_channels,\n",
    "            num_layers=num_layers,\n",
    "            num_recommendations=num_recommendations,\n",
    "            author_node_id_map=author_node_id_map,\n",
    "            author_id_map=author_id_map,\n",
    "            device=device\n",
    "        )\n",
    "\n",
    "    \n",
    "    def recommendation_loss(self,\n",
    "                            x: Tensor,\n",
    "                            edge_index: Adj,\n",
    "                            pos_edge_rank: Tensor,\n",
    "                            neg_edge_rank: Tensor,\n",
    "                            edge_weight: Optional[Tensor] = None,\n",
    "                            node_id: Optional[Tensor] = None) -> Tensor:\n",
    "\n",
    "        # Construct labels\n",
    "        pos_labels = pos_edge_rank.new_ones(pos_edge_rank.size(0))\n",
    "        neg_labels = neg_edge_rank.new_zeros(neg_edge_rank.size(0))\n",
    "\n",
    "        # Concatenate predictions and labels\n",
    "        all_preds = torch.cat([pos_edge_rank, neg_edge_rank], dim=0)\n",
    "        all_labels = torch.cat([pos_labels, neg_labels], dim=0)\n",
    "\n",
    "        # Compute BCE loss\n",
    "        bce_loss = F.binary_cross_entropy_with_logits(all_preds, all_labels)\n",
    "\n",
    "        return bce_loss"
   ]
  },
  {
   "cell_type": "markdown",
   "id": "9XkKmZJC06IZ",
   "metadata": {
    "id": "9XkKmZJC06IZ"
   },
   "source": [
    "### Training the model"
   ]
  },
  {
   "cell_type": "code",
   "execution_count": 5,
   "id": "b4304b1f-ce07-411d-abc3-43011dd3a83b",
   "metadata": {},
   "outputs": [],
   "source": [
    "# Initialize the model\n",
    "model = ModelEuCoE(\n",
    "    input_channels=data.num_features,\n",
    "    hidden_channels=model_config['hidden_channels'],\n",
    "    num_recommendations=model_config['num_recommendations'],\n",
    "    num_layers=model_config['num_layers'],\n",
    "    author_node_id_map=author_node_id_map,\n",
    "    author_id_map=author_id_map\n",
    ").to(device)\n",
    "\n",
    "# Transfer to device\n",
    "data = data.to(device)\n",
    "\n",
    "# Initialize the optimizer\n",
    "optimizer: Optimizer = torch.optim.Adam(\n",
    "    params=model.parameters(),\n",
    "    lr=model_config['learning_rate']\n",
    ")\n",
    "\n",
    "# Initialize the scheduler\n",
    "scheduler: LRScheduler = torch.optim.lr_scheduler.ReduceLROnPlateau(\n",
    "    optimizer=optimizer,\n",
    "    mode='min',\n",
    "    factor=0.5,\n",
    "    patience=10\n",
    ")"
   ]
  },
  {
   "cell_type": "code",
   "execution_count": 6,
   "id": "379e5e3ea82af758",
   "metadata": {
    "ExecuteTime": {
     "end_time": "2024-12-13T21:30:55.180060Z",
     "start_time": "2024-12-13T21:30:52.430863Z"
    }
   },
   "outputs": [
    {
     "name": "stdout",
     "output_type": "stream",
     "text": [
      "Epoch 1, train loss: 0.5602, test loss: 0.6976, precision@k: 0.0409, recall@k: 0.1181, MAP@k: 0.0626, MRR@k: 0.1089, NDCG@k: 0.0909, HitRate@k: 0.2173\n",
      "Epoch 2, train loss: 0.4865, test loss: 0.6098, precision@k: 0.0454, recall@k: 0.1298, MAP@k: 0.0690, MRR@k: 0.1171, NDCG@k: 0.0998, HitRate@k: 0.2357\n",
      "Epoch 3, train loss: 0.4590, test loss: 0.5663, precision@k: 0.0491, recall@k: 0.1394, MAP@k: 0.0737, MRR@k: 0.1237, NDCG@k: 0.1066, HitRate@k: 0.2515\n",
      "Epoch 4, train loss: 0.4407, test loss: 0.5400, precision@k: 0.0506, recall@k: 0.1441, MAP@k: 0.0765, MRR@k: 0.1287, NDCG@k: 0.1105, HitRate@k: 0.2597\n",
      "Epoch 5, train loss: 0.4309, test loss: 0.5215, precision@k: 0.0524, recall@k: 0.1490, MAP@k: 0.0798, MRR@k: 0.1344, NDCG@k: 0.1149, HitRate@k: 0.2671\n",
      "Epoch 6, train loss: 0.4253, test loss: 0.5067, precision@k: 0.0536, recall@k: 0.1517, MAP@k: 0.0818, MRR@k: 0.1383, NDCG@k: 0.1177, HitRate@k: 0.2719\n",
      "Epoch 7, train loss: 0.4183, test loss: 0.4944, precision@k: 0.0550, recall@k: 0.1554, MAP@k: 0.0844, MRR@k: 0.1416, NDCG@k: 0.1209, HitRate@k: 0.2774\n",
      "Epoch 8, train loss: 0.4151, test loss: 0.4842, precision@k: 0.0553, recall@k: 0.1571, MAP@k: 0.0848, MRR@k: 0.1432, NDCG@k: 0.1219, HitRate@k: 0.2824\n",
      "Epoch 9, train loss: 0.4111, test loss: 0.4761, precision@k: 0.0558, recall@k: 0.1590, MAP@k: 0.0858, MRR@k: 0.1436, NDCG@k: 0.1232, HitRate@k: 0.2845\n",
      "Epoch 10, train loss: 0.4096, test loss: 0.4696, precision@k: 0.0563, recall@k: 0.1618, MAP@k: 0.0875, MRR@k: 0.1459, NDCG@k: 0.1251, HitRate@k: 0.2884\n",
      "Epoch 11, train loss: 0.4085, test loss: 0.4640, precision@k: 0.0565, recall@k: 0.1621, MAP@k: 0.0896, MRR@k: 0.1487, NDCG@k: 0.1269, HitRate@k: 0.2898\n",
      "Epoch 12, train loss: 0.4071, test loss: 0.4590, precision@k: 0.0569, recall@k: 0.1628, MAP@k: 0.0903, MRR@k: 0.1502, NDCG@k: 0.1279, HitRate@k: 0.2892\n",
      "Epoch 13, train loss: 0.4055, test loss: 0.4545, precision@k: 0.0568, recall@k: 0.1622, MAP@k: 0.0900, MRR@k: 0.1497, NDCG@k: 0.1274, HitRate@k: 0.2870\n",
      "Epoch 14, train loss: 0.4048, test loss: 0.4506, precision@k: 0.0579, recall@k: 0.1659, MAP@k: 0.0908, MRR@k: 0.1512, NDCG@k: 0.1291, HitRate@k: 0.2917\n",
      "Epoch 15, train loss: 0.4036, test loss: 0.4472, precision@k: 0.0583, recall@k: 0.1678, MAP@k: 0.0923, MRR@k: 0.1535, NDCG@k: 0.1309, HitRate@k: 0.2942\n",
      "Epoch 16, train loss: 0.4025, test loss: 0.4444, precision@k: 0.0585, recall@k: 0.1693, MAP@k: 0.0925, MRR@k: 0.1547, NDCG@k: 0.1315, HitRate@k: 0.2961\n",
      "Epoch 17, train loss: 0.4023, test loss: 0.4420, precision@k: 0.0590, recall@k: 0.1713, MAP@k: 0.0932, MRR@k: 0.1545, NDCG@k: 0.1325, HitRate@k: 0.2988\n",
      "Epoch 18, train loss: 0.4011, test loss: 0.4399, precision@k: 0.0594, recall@k: 0.1732, MAP@k: 0.0936, MRR@k: 0.1550, NDCG@k: 0.1332, HitRate@k: 0.2999\n",
      "Epoch 19, train loss: 0.4006, test loss: 0.4382, precision@k: 0.0596, recall@k: 0.1746, MAP@k: 0.0946, MRR@k: 0.1562, NDCG@k: 0.1344, HitRate@k: 0.3021\n",
      "Epoch 20, train loss: 0.3979, test loss: 0.4367, precision@k: 0.0599, recall@k: 0.1754, MAP@k: 0.0948, MRR@k: 0.1556, NDCG@k: 0.1346, HitRate@k: 0.3022\n",
      "Epoch 21, train loss: 0.3982, test loss: 0.4355, precision@k: 0.0600, recall@k: 0.1759, MAP@k: 0.0960, MRR@k: 0.1580, NDCG@k: 0.1359, HitRate@k: 0.3031\n",
      "Epoch 22, train loss: 0.3979, test loss: 0.4343, precision@k: 0.0601, recall@k: 0.1759, MAP@k: 0.0969, MRR@k: 0.1593, NDCG@k: 0.1367, HitRate@k: 0.3020\n",
      "Epoch 23, train loss: 0.3978, test loss: 0.4332, precision@k: 0.0604, recall@k: 0.1770, MAP@k: 0.0974, MRR@k: 0.1601, NDCG@k: 0.1374, HitRate@k: 0.3042\n",
      "Epoch 24, train loss: 0.3964, test loss: 0.4323, precision@k: 0.0605, recall@k: 0.1772, MAP@k: 0.0981, MRR@k: 0.1619, NDCG@k: 0.1381, HitRate@k: 0.3052\n",
      "Epoch 25, train loss: 0.3956, test loss: 0.4314, precision@k: 0.0608, recall@k: 0.1778, MAP@k: 0.0987, MRR@k: 0.1623, NDCG@k: 0.1388, HitRate@k: 0.3061\n",
      "Epoch 26, train loss: 0.3949, test loss: 0.4306, precision@k: 0.0613, recall@k: 0.1792, MAP@k: 0.0989, MRR@k: 0.1621, NDCG@k: 0.1393, HitRate@k: 0.3087\n",
      "Epoch 27, train loss: 0.3943, test loss: 0.4299, precision@k: 0.0613, recall@k: 0.1798, MAP@k: 0.0989, MRR@k: 0.1631, NDCG@k: 0.1396, HitRate@k: 0.3104\n",
      "Epoch 28, train loss: 0.3934, test loss: 0.4293, precision@k: 0.0614, recall@k: 0.1796, MAP@k: 0.0990, MRR@k: 0.1625, NDCG@k: 0.1396, HitRate@k: 0.3105\n",
      "Epoch 29, train loss: 0.3934, test loss: 0.4288, precision@k: 0.0614, recall@k: 0.1802, MAP@k: 0.0997, MRR@k: 0.1634, NDCG@k: 0.1403, HitRate@k: 0.3113\n",
      "Epoch 30, train loss: 0.3925, test loss: 0.4283, precision@k: 0.0616, recall@k: 0.1807, MAP@k: 0.1002, MRR@k: 0.1650, NDCG@k: 0.1410, HitRate@k: 0.3121\n",
      "Epoch 31, train loss: 0.3918, test loss: 0.4278, precision@k: 0.0617, recall@k: 0.1808, MAP@k: 0.1001, MRR@k: 0.1652, NDCG@k: 0.1410, HitRate@k: 0.3117\n",
      "Epoch 32, train loss: 0.3910, test loss: 0.4274, precision@k: 0.0617, recall@k: 0.1812, MAP@k: 0.1009, MRR@k: 0.1654, NDCG@k: 0.1416, HitRate@k: 0.3113\n",
      "Epoch 33, train loss: 0.3912, test loss: 0.4270, precision@k: 0.0619, recall@k: 0.1820, MAP@k: 0.1009, MRR@k: 0.1652, NDCG@k: 0.1418, HitRate@k: 0.3121\n",
      "Epoch 34, train loss: 0.3901, test loss: 0.4266, precision@k: 0.0621, recall@k: 0.1826, MAP@k: 0.1009, MRR@k: 0.1649, NDCG@k: 0.1419, HitRate@k: 0.3131\n",
      "Epoch 35, train loss: 0.3901, test loss: 0.4264, precision@k: 0.0623, recall@k: 0.1838, MAP@k: 0.1014, MRR@k: 0.1665, NDCG@k: 0.1427, HitRate@k: 0.3146\n",
      "Epoch 36, train loss: 0.3889, test loss: 0.4261, precision@k: 0.0625, recall@k: 0.1841, MAP@k: 0.1015, MRR@k: 0.1667, NDCG@k: 0.1429, HitRate@k: 0.3147\n",
      "Epoch 37, train loss: 0.3895, test loss: 0.4258, precision@k: 0.0628, recall@k: 0.1855, MAP@k: 0.1017, MRR@k: 0.1671, NDCG@k: 0.1435, HitRate@k: 0.3174\n",
      "Epoch 38, train loss: 0.3889, test loss: 0.4255, precision@k: 0.0630, recall@k: 0.1856, MAP@k: 0.1021, MRR@k: 0.1674, NDCG@k: 0.1438, HitRate@k: 0.3176\n",
      "Epoch 39, train loss: 0.3880, test loss: 0.4253, precision@k: 0.0633, recall@k: 0.1864, MAP@k: 0.1024, MRR@k: 0.1679, NDCG@k: 0.1443, HitRate@k: 0.3195\n",
      "Epoch 40, train loss: 0.3868, test loss: 0.4251, precision@k: 0.0634, recall@k: 0.1873, MAP@k: 0.1028, MRR@k: 0.1675, NDCG@k: 0.1448, HitRate@k: 0.3204\n",
      "Epoch 41, train loss: 0.3870, test loss: 0.4249, precision@k: 0.0636, recall@k: 0.1879, MAP@k: 0.1033, MRR@k: 0.1684, NDCG@k: 0.1453, HitRate@k: 0.3206\n",
      "Epoch 42, train loss: 0.3869, test loss: 0.4247, precision@k: 0.0637, recall@k: 0.1883, MAP@k: 0.1034, MRR@k: 0.1690, NDCG@k: 0.1456, HitRate@k: 0.3213\n",
      "Epoch 43, train loss: 0.3866, test loss: 0.4245, precision@k: 0.0639, recall@k: 0.1887, MAP@k: 0.1030, MRR@k: 0.1693, NDCG@k: 0.1455, HitRate@k: 0.3214\n",
      "Epoch 44, train loss: 0.3862, test loss: 0.4244, precision@k: 0.0638, recall@k: 0.1883, MAP@k: 0.1027, MRR@k: 0.1678, NDCG@k: 0.1450, HitRate@k: 0.3210\n",
      "Epoch 45, train loss: 0.3855, test loss: 0.4244, precision@k: 0.0640, recall@k: 0.1888, MAP@k: 0.1031, MRR@k: 0.1681, NDCG@k: 0.1454, HitRate@k: 0.3211\n",
      "Epoch 46, train loss: 0.3853, test loss: 0.4244, precision@k: 0.0640, recall@k: 0.1887, MAP@k: 0.1027, MRR@k: 0.1687, NDCG@k: 0.1453, HitRate@k: 0.3209\n",
      "Epoch 47, train loss: 0.3839, test loss: 0.4244, precision@k: 0.0641, recall@k: 0.1897, MAP@k: 0.1030, MRR@k: 0.1681, NDCG@k: 0.1456, HitRate@k: 0.3221\n",
      "Epoch 48, train loss: 0.3842, test loss: 0.4244, precision@k: 0.0640, recall@k: 0.1898, MAP@k: 0.1026, MRR@k: 0.1677, NDCG@k: 0.1453, HitRate@k: 0.3214\n",
      "Epoch 49, train loss: 0.3843, test loss: 0.4244, precision@k: 0.0642, recall@k: 0.1903, MAP@k: 0.1030, MRR@k: 0.1687, NDCG@k: 0.1458, HitRate@k: 0.3222\n",
      "Epoch 50, train loss: 0.3836, test loss: 0.4245, precision@k: 0.0644, recall@k: 0.1909, MAP@k: 0.1031, MRR@k: 0.1689, NDCG@k: 0.1460, HitRate@k: 0.3220\n"
     ]
    }
   ],
   "source": [
    "results: list = list()\n",
    "for epoch in range(1, model_config['num_epochs'] + 1):\n",
    "    # ------ Train\n",
    "    train_loss: float = train(\n",
    "        model=model,\n",
    "        data=data,\n",
    "        optimizer=optimizer\n",
    "    )\n",
    "    # ------ Test\n",
    "    test_loss: float = test(\n",
    "        model=model,\n",
    "        data=data\n",
    "    )\n",
    "    scheduler.step(test_loss)\n",
    "    # ------ Evaluate\n",
    "    evaluation_results: dict = evaluate(\n",
    "        k=model_config['num_recommendations'],\n",
    "        model=model,\n",
    "        data=data\n",
    "    )\n",
    "\n",
    "    # Save results\n",
    "    epoch_result = get_results(\n",
    "        epoch=epoch,\n",
    "        train_loss=train_loss,\n",
    "        test_loss=test_loss,\n",
    "        evaluation_results=evaluation_results\n",
    "    )\n",
    "    results.append(epoch_result)"
   ]
  },
  {
   "cell_type": "markdown",
   "id": "CIzjEI3R-eY-",
   "metadata": {
    "id": "CIzjEI3R-eY-"
   },
   "source": [
    "### Model evaluation"
   ]
  },
  {
   "cell_type": "code",
   "execution_count": 7,
   "id": "JHmrYAoF-dWh",
   "metadata": {
    "colab": {
     "base_uri": "https://localhost:8080/",
     "height": 472
    },
    "id": "JHmrYAoF-dWh",
    "outputId": "51b44a7b-4d40-4c23-8009-d3af553ed2e9"
   },
   "outputs": [],
   "source": [
    "results_df = pd.DataFrame(results)\n",
    "results_df.to_csv(f'../results/results_Model{model_name}.csv', index=False)"
   ]
  },
  {
   "cell_type": "code",
   "execution_count": 8,
   "id": "RwsZRSb828Ua",
   "metadata": {
    "colab": {
     "base_uri": "https://localhost:8080/",
     "height": 472
    },
    "id": "RwsZRSb828Ua",
    "outputId": "57cc0fe4-2411-44ed-cfc2-f41e6c682819"
   },
   "outputs": [
    {
     "data": {
      "image/png": "[encoded data removed]",
      "text/plain": [
       "<Figure size 640x480 with 1 Axes>"
      ]
     },
     "metadata": {},
     "output_type": "display_data"
    }
   ],
   "source": [
    "# Generate loss curve\n",
    "# Train loss\n",
    "sns.lineplot(data=results_df, x='Epoch', y='Train Loss')\n",
    "# Test loss\n",
    "sns.lineplot(data=results_df, x='Epoch', y='Test Loss')\n",
    "plt.xlabel('Epoch')\n",
    "plt.ylabel('Loss')\n",
    "plt.title('Loss curve')\n",
    "plt.yscale('log')\n",
    "plt.show()"
   ]
  },
  {
   "cell_type": "code",
   "execution_count": 9,
   "id": "QrRBTsA5vAs1",
   "metadata": {
    "colab": {
     "base_uri": "https://localhost:8080/"
    },
    "id": "QrRBTsA5vAs1",
    "outputId": "afffeb4f-f62c-4c48-cf69-c7cb5eb06f55"
   },
   "outputs": [
    {
     "data": {
      "image/png": "[encoded data removed]",
      "text/plain": [
       "<Figure size 640x480 with 1 Axes>"
      ]
     },
     "metadata": {},
     "output_type": "display_data"
    }
   ],
   "source": [
    "# Generate evaluation metrics plot\n",
    "sns.lineplot(data=results_df, x='Epoch', y='Precision@k')\n",
    "sns.lineplot(data=results_df, x='Epoch', y='Recall@k')\n",
    "sns.lineplot(data=results_df, x='Epoch', y='MAP@k')\n",
    "sns.lineplot(data=results_df, x='Epoch', y='MRR@k')\n",
    "sns.lineplot(data=results_df, x='Epoch', y='NDCG@k')\n",
    "sns.lineplot(data=results_df, x='Epoch', y='HitRate@k')\n",
    "plt.xlabel('Epoch')\n",
    "plt.ylabel('Performance')\n",
    "plt.title('Performance metrics')\n",
    "plt.show()"
   ]
  }
 ],
 "metadata": {
  "colab": {
   "collapsed_sections": [
    "ISUVX4hvFMKM",
    "aZQQpLqCFeGK",
    "2cXJ5OO10uxX"
   ],
   "name": "Collaboration Recommender 1.0 (Homogeneous).ipynb",
   "provenance": []
  },
  "kernelspec": {
   "display_name": "Python 3 (ipykernel)",
   "language": "python",
   "name": "python3"
  },
  "language_info": {
   "codemirror_mode": {
    "name": "ipython",
    "version": 3
   },
   "file_extension": ".py",
   "mimetype": "text/x-python",
   "name": "python",
   "nbconvert_exporter": "python",
   "pygments_lexer": "ipython3",
   "version": "3.12.3"
  }
 },
 "nbformat": 4,
 "nbformat_minor": 5
}
